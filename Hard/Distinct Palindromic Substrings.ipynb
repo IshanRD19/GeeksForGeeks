{
 "cells": [
  {
   "cell_type": "markdown",
   "metadata": {},
   "source": [
    "# DISTINCT PALINDROMIC SUBSTRINGS\n",
    "\n",
    "Given a string str of lowercase ASCII characters, Count the number of distinct continuous palindromic sub-strings which are present in the string str.\n",
    "\n",
    "### Example 1:\n",
    "\n",
    "#### Input:\n",
    "str = \"abaaa\"\n",
    "#### Output:\n",
    "5\n",
    "#### Explanation:\n",
    "These are included in answer: \"a\",\"aa\",\"aaa\",\"aba\",\"b\"\n",
    "### Example 2:\n",
    "\n",
    "#### Input\n",
    "str = \"geek\"\n",
    "#### Output: \n",
    "4\n",
    "#### Explanation:\n",
    "Below are 4 palindrome sub-strings \"e\",\"ee\",\"g\",\"k\"\n",
    "### Your Task:\n",
    "You don't need to read input or print anything. Your task is to complete the function palindromeSubStrs() which takes the string str as input parameter and returns the total number of distinct continuous palindromic sub-strings in str.\n",
    "\n",
    "**Expected Time Complexity:** O(N^2 logN)\n",
    "\n",
    "**Expected Auxilliary Space:** O(N^2)\n",
    "\n",
    "### Constraints:\n",
    "1 ≤ N ≤ 3 * 10^3, where N is the length of the string str.\n",
    "\n",
    "## Approach 1: Space Efficient Method"
   ]
  },
  {
   "cell_type": "code",
   "execution_count": 6,
   "metadata": {},
   "outputs": [
    {
     "name": "stdout",
     "output_type": "stream",
     "text": [
      "2\n",
      "abaaa\n",
      "5\n",
      "geek\n",
      "4\n"
     ]
    }
   ],
   "source": [
    "# User function Template for python3\n",
    "class Solution:\n",
    "    \n",
    "    def get_all_substrings(self, s):\n",
    "        length = len(s)\n",
    "        substrings = set()\n",
    "        \n",
    "        for i in range(length):\n",
    "            substring = ''\n",
    "\n",
    "            for j in range(i, length):\n",
    "                substring += s[j]\n",
    "                substrings.add(substring)\n",
    "                \n",
    "        return substrings\n",
    "\n",
    "\n",
    "    def palindromeSubStrs(self, Str):\n",
    "        # code here\n",
    "        count = 0\n",
    "        \n",
    "        substrings = list(self.get_all_substrings(Str))\n",
    "        \n",
    "        for substring in substrings:\n",
    "            if substring == substring[::-1]:\n",
    "                count += 1\n",
    "\n",
    "        return count\n",
    "\n",
    "# { \n",
    "# Driver Code Starts\n",
    "# Initial Template for Python 3\n",
    "if __name__ == '__main__':\n",
    "    t = int(input())\n",
    "    for _ in range(t):\n",
    "        Str = input()\n",
    "        solObj = Solution()\n",
    "        print(solObj.palindromeSubStrs(Str))\n",
    "# } Driver Code Ends"
   ]
  },
  {
   "cell_type": "markdown",
   "metadata": {},
   "source": [
    "## Approach 2: Time Efficient Method"
   ]
  },
  {
   "cell_type": "code",
   "execution_count": 1,
   "metadata": {},
   "outputs": [
    {
     "name": "stdout",
     "output_type": "stream",
     "text": [
      "2\n",
      "abaaa\n",
      "5\n",
      "geek\n",
      "4\n"
     ]
    }
   ],
   "source": [
    "# User function Template for python3\n",
    "class Solution:\n",
    "    \n",
    "    def fetch_palindromes(self, s, left, right):\n",
    "        result = []\n",
    "        \n",
    "        # Traverse the string and compare the first and last characters of each substring\n",
    "        while left >= 0 and right < len(s) and s[left] == s[right]:\n",
    "            result.append(s[left:right+1])\n",
    "            left -= 1\n",
    "            right += 1\n",
    "        \n",
    "        return result\n",
    "\n",
    "    def palindromeSubStrs(self, Str):\n",
    "        # code here\n",
    "        result = []\n",
    "        \n",
    "        # Traverse the string and select each character as a pivot of substrings\n",
    "        for i in range(len(Str)):\n",
    "            \n",
    "            # Fetch all the odd length palindromes\n",
    "            result.extend(self.fetch_palindromes(Str, i, i))\n",
    "\n",
    "            # Fetch all the even length palindromes\n",
    "            result.extend(self.fetch_palindromes(Str, i, i+1))\n",
    "            \n",
    "        return len(set(result))\n",
    "        \n",
    "# { \n",
    "# Driver Code Starts\n",
    "# Initial Template for Python 3\n",
    "if __name__ == '__main__':\n",
    "    t = int(input())\n",
    "    for _ in range(t):\n",
    "        Str = input()\n",
    "        solObj = Solution()\n",
    "        print(solObj.palindromeSubStrs(Str))\n",
    "# } Driver Code Ends"
   ]
  }
 ],
 "metadata": {
  "kernelspec": {
   "display_name": "Python 3",
   "language": "python",
   "name": "python3"
  },
  "language_info": {
   "codemirror_mode": {
    "name": "ipython",
    "version": 3
   },
   "file_extension": ".py",
   "mimetype": "text/x-python",
   "name": "python",
   "nbconvert_exporter": "python",
   "pygments_lexer": "ipython3",
   "version": "3.8.3"
  }
 },
 "nbformat": 4,
 "nbformat_minor": 4
}
