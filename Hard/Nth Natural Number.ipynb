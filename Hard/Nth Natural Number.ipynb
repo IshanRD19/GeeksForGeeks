{
 "cells": [
  {
   "cell_type": "markdown",
   "metadata": {},
   "source": [
    "# Nth NATURAL NUMBER\n",
    "\n",
    "Given a positive integer N. You have to find Nth natural number after removing all the numbers containing digit 9.\n",
    "\n",
    "### Example 1:\n",
    "\n",
    "#### Input:\n",
    "N = 8\n",
    "#### Output:\n",
    "8\n",
    "#### Explanation:\n",
    "After removing natural numbers which contains\n",
    "digit 9, first 8 numbers are 1,2,3,4,5,6,7,8\n",
    "and 8th number is 8.\n",
    "### Example 2:\n",
    "\n",
    "#### Input:\n",
    "N = 9\n",
    "#### Output:\n",
    "10\n",
    "#### Explanation:\n",
    "After removing natural numbers which contains\n",
    "digit 9, first 9 numbers are 1,2,3,4,5,6,7,8,10\n",
    "and 9th number is 10.\n",
    " \n",
    "\n",
    "### Your Task:\n",
    "You don't need to read input or print anything. Complete the function findNth() which accepts an integer N as input parameter and return the Nth number after removing all the numbers containing digit 9.\n",
    "\n",
    "**Expected Time Complexity:** O(logN)\n",
    "\n",
    "**Expected Auxiliary Space:** O(1)\n",
    "\n",
    "### Constraints:\n",
    "1 ≤ N ≤ 10^12"
   ]
  },
  {
   "cell_type": "code",
   "execution_count": null,
   "metadata": {},
   "outputs": [],
   "source": [
    "# User function Template for python3\n",
    "class Solution:\n",
    "    def findNth(self,N):\n",
    "        place = 1\n",
    "        result = 0\n",
    "\n",
    "        while N:\n",
    "            result += place * (N % 9)\n",
    "            place *= 10\n",
    "            N = N//9\n",
    "\n",
    "        return result\n",
    "\n",
    "# { \n",
    "# Driver Code Starts\n",
    "# Initial Template for Python 3\n",
    "t=int(input())\n",
    "for i in range(0,t):\n",
    "    n=int(input())\n",
    "    obj=Solution()\n",
    "    s=obj.findNth(n)\n",
    "    print(s)\n",
    "# } Driver Code Ends"
   ]
  }
 ],
 "metadata": {
  "language_info": {
   "name": "python"
  },
  "orig_nbformat": 4
 },
 "nbformat": 4,
 "nbformat_minor": 2
}
