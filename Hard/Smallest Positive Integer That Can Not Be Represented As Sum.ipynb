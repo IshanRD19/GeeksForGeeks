{
 "cells": [
  {
   "cell_type": "markdown",
   "metadata": {},
   "source": [
    "# SMALLEST POSITIVE INTEGER THAT CAN NOT BE REPRESENTED AS SUM\n",
    "\n",
    "Given an array of size N, find the smallest positive integer value that cannot be represented as sum of some elements from the array.\n",
    "\n",
    "### Example 1:\n",
    "\n",
    "#### Input: \n",
    "N = 6\n",
    "\n",
    "array[] = {1, 10, 3, 11, 6, 15}\n",
    "#### Output: \n",
    "2\n",
    "#### Explanation:\n",
    "2 is the smallest integer value that cannot be represented as sum of elements from the array.\n",
    "### Example 2:\n",
    "\n",
    "#### Input: \n",
    "N = 3\n",
    "\n",
    "array[] = {1, 1, 1}\n",
    "#### Output: \n",
    "4\n",
    "#### Explanation: \n",
    "1 is present in the array. \n",
    "\n",
    "2 can be created by combining two 1s.\n",
    "\n",
    "3 can be created by combining three 1s.\n",
    "\n",
    "4 is the smallest integer value that cannot be represented as sum of elements from the array.\n",
    "\n",
    "### Your Task:  \n",
    "You dont need to read input or print anything. Complete the function smallestpositive() which takes the array and N as input parameters and returns the smallest positive integer value that cannot be represented as sum of some elements from the array.\n",
    "\n",
    "**Expected Time Complexity:** O(N * Log(N))\n",
    "\n",
    "**Expected Auxiliary Space:** O(1)\n",
    "\n",
    "### Constraints:\n",
    "1 ≤ N ≤ 10^6\n",
    "\n",
    "1 ≤ array[i] ≤ 10^9\n",
    "\n",
    "Array may contain duplicates."
   ]
  },
  {
   "cell_type": "code",
   "execution_count": 1,
   "metadata": {},
   "outputs": [
    {
     "name": "stdout",
     "output_type": "stream",
     "text": [
      "2\n",
      "6\n",
      "1 10 3 11 6 15\n",
      "2\n",
      "3\n",
      "1 1 1\n",
      "4\n"
     ]
    }
   ],
   "source": [
    "# User function Template for python3\n",
    "class Solution:\n",
    "    def smallestpositive(self, array, n): \n",
    "        # Your code goes here  \n",
    "        integer = 1\n",
    "\n",
    "        # Sort the array\n",
    "        array.sort()\n",
    "        \n",
    "        # For each element\n",
    "        for i in range(n):\n",
    "            \n",
    "            # Check if smallest integer is less than the next integer in array\n",
    "            if integer < array[i]:\n",
    "                return integer\n",
    "            \n",
    "            # Update the smallest positive integer\n",
    "            integer += array[i]\n",
    "            \n",
    "        return integer\n",
    "\n",
    "# { \n",
    "# Driver Code Starts\n",
    "# Initial Template for Python 3\n",
    "if __name__ == '__main__': \n",
    "    t = int(input())\n",
    "    for _ in range(t):\n",
    "        n = int(input())\n",
    "        array = list(map(int, input().strip().split()))\n",
    "        ob = Solution()\n",
    "        print(ob.smallestpositive(array,n))\n",
    "# } Driver Code Ends"
   ]
  }
 ],
 "metadata": {
  "kernelspec": {
   "display_name": "Python 3",
   "language": "python",
   "name": "python3"
  },
  "language_info": {
   "codemirror_mode": {
    "name": "ipython",
    "version": 3
   },
   "file_extension": ".py",
   "mimetype": "text/x-python",
   "name": "python",
   "nbconvert_exporter": "python",
   "pygments_lexer": "ipython3",
   "version": "3.8.3"
  }
 },
 "nbformat": 4,
 "nbformat_minor": 4
}
