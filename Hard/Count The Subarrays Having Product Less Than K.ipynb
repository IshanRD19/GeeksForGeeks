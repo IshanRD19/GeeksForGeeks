{
 "cells": [
  {
   "cell_type": "markdown",
   "metadata": {},
   "source": [
    "# COUNT THE SUBARRAYS HAVING HAVING PRODUCT LESS THAN K\n",
    "\n",
    "Given an array of positive numbers, the task is to find the number of possible contiguous subarrays having product less than a given number k.\n",
    "\n",
    "### Example 1:\n",
    "\n",
    "#### Input : \n",
    "n = 4, k = 10\n",
    "\n",
    "a[] = {1, 2, 3, 4}\n",
    "#### Output : \n",
    "7\n",
    "#### Explanation:\n",
    "The contiguous subarrays are {1}, {2}, {3}, {4} \n",
    "{1, 2}, {1, 2, 3} and {2, 3} whose count is 7.\n",
    " \n",
    "\n",
    "### Example 2:\n",
    "\n",
    "#### Input:\n",
    "n = 7 , k = 100\n",
    "\n",
    "a[] = {1, 9, 2, 8, 6, 4, 3}\n",
    "#### Output:\n",
    "16\n",
    " \n",
    "\n",
    "### Your Task:  \n",
    "You don't need to read input or print anything. Your task is to complete the function countSubArrayProductLessThanK() which takes the array a[], its size n and an integer k as inputs and returns the count of required subarrays.\n",
    "\n",
    "**Expected Time Complexity:** O(n)\n",
    "\n",
    "**Expected Auxiliary Space:** O(1)\n",
    "\n",
    "### Constraints:\n",
    "1<=n<=10^5\n",
    "\n",
    "1<=k<=10^15\n",
    "\n",
    "1<=a[i]<=10^5\n",
    "\n",
    "## Approach 1: Naive Method"
   ]
  },
  {
   "cell_type": "code",
   "execution_count": null,
   "metadata": {},
   "outputs": [],
   "source": [
    "# User function Template for python3\n",
    "class Solution:\n",
    "    def countSubArrayProductLessThanK(self, a, n, k):\n",
    "        #Code here\n",
    "        count = 0\n",
    "        \n",
    "        # For each element as start of subarray\n",
    "        for start in range(n):\n",
    "            temp = 1\n",
    "            \n",
    "            # For each element as end of subarray\n",
    "            for end in range(start, n):\n",
    "                temp *= a[end]\n",
    "                \n",
    "                # Check if product is less than k\n",
    "                if temp < k:\n",
    "                    count += 1 \n",
    "                else:\n",
    "                    break\n",
    "                \n",
    "        return count\n",
    "\n",
    "# { \n",
    "# Driver Code Starts\n",
    "# Initial Template for Python 3\n",
    "def main():\n",
    "    T = int(input())\n",
    "    while(T > 0):\n",
    "        n, k = [int(x) for x in input().strip().split()]\n",
    "        arr = [int(x) for x in input().strip().split()]\n",
    "        print(Solution().countSubArrayProductLessThanK(arr, n, k))\n",
    "        T -= 1\n",
    "if __name__ == \"__main__\":\n",
    "    main()\n",
    "# } Driver Code Ends"
   ]
  },
  {
   "cell_type": "markdown",
   "metadata": {},
   "source": [
    "## Approach 2: Efficient Method"
   ]
  },
  {
   "cell_type": "code",
   "execution_count": 8,
   "metadata": {},
   "outputs": [
    {
     "name": "stdout",
     "output_type": "stream",
     "text": [
      "16\n"
     ]
    }
   ],
   "source": [
    "# User function Template for python3\n",
    "class Solution:\n",
    "    def countSubArrayProductLessThanK(self, a, n, k):\n",
    "        #Code here\n",
    "        start = end = 0\n",
    "        count, product = 0, 1\n",
    "        \n",
    "        # Traverse the array\n",
    "        while end < n:\n",
    "            product *= a[end]\n",
    "\n",
    "            # Remove elements from left until subarray product is legit or single element remains in window\n",
    "            while start < end and product >= k:\n",
    "                product //= a[start]\n",
    "                start += 1\n",
    "\n",
    "            # Compare the subarray product with k\n",
    "            if product < k:\n",
    "                \n",
    "                # Update the count of legit subarrays\n",
    "                count += 1 + (end - start)\n",
    "\n",
    "            end += 1\n",
    "\n",
    "        return count\n",
    "\n",
    "# { \n",
    "# Driver Code Starts\n",
    "# Initial Template for Python 3\n",
    "def main():\n",
    "    T = int(input())\n",
    "    while(T > 0):\n",
    "        n, k = [int(x) for x in input().strip().split()]\n",
    "        arr = [int(x) for x in input().strip().split()]\n",
    "        print(Solution().countSubArrayProductLessThanK(arr, n, k))\n",
    "        T -= 1\n",
    "if __name__ == \"__main__\":\n",
    "    main()\n",
    "# } Driver Code Ends"
   ]
  }
 ],
 "metadata": {
  "kernelspec": {
   "display_name": "Python 3.10.6 64-bit",
   "language": "python",
   "name": "python3"
  },
  "language_info": {
   "codemirror_mode": {
    "name": "ipython",
    "version": 3
   },
   "file_extension": ".py",
   "mimetype": "text/x-python",
   "name": "python",
   "nbconvert_exporter": "python",
   "pygments_lexer": "ipython3",
   "version": "3.10.6"
  },
  "orig_nbformat": 4,
  "vscode": {
   "interpreter": {
    "hash": "26de051ba29f2982a8de78e945f0abaf191376122a1563185a90213a26c5da77"
   }
  }
 },
 "nbformat": 4,
 "nbformat_minor": 2
}
