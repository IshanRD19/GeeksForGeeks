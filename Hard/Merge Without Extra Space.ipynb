{
 "cells": [
  {
   "cell_type": "markdown",
   "metadata": {},
   "source": [
    "# MERGE WITHOUT EXTRA SPACE\n",
    "\n",
    "Given two sorted arrays arr1[] and arr2[] of sizes n and m in non-decreasing order. Merge them in sorted order without using any extra space. Modify arr1 so that it contains the first N elements and modify arr2 so that it contains the last M elements.\n",
    " \n",
    "### Example 1:\n",
    "\n",
    "#### Input: \n",
    "n = 4, arr1[] = [1 3 5 7] \n",
    "\n",
    "m = 5, arr2[] = [0 2 6 8 9]\n",
    "#### Output: \n",
    "arr1[] = [0 1 2 3]\n",
    "\n",
    "arr2[] = [5 6 7 8 9]\n",
    "#### Explanation:\n",
    "After merging the two \n",
    "non-decreasing arrays, we get, \n",
    "0 1 2 3 5 6 7 8 9.\n",
    "### Example 2:\n",
    "\n",
    "#### Input: \n",
    "n = 2, arr1[] = [10, 12] \n",
    "\n",
    "m = 3, arr2[] = [5 18 20]\n",
    "#### Output: \n",
    "arr1[] = [5 10]\n",
    "arr2[] = [12 18 20]\n",
    "#### Explanation:\n",
    "After merging two sorted arrays \n",
    "we get 5 10 12 18 20.\n",
    "\n",
    "### Your Task:\n",
    "You don't need to read input or print anything. You only need to complete the function merge() that takes arr1, arr2, n and m as input parameters and modifies them in-place so that they look like the sorted merged array when concatenated.\n",
    " \n",
    "**Expected Time Complexity:** O((n+m) log(n+m))\n",
    "\n",
    "**Expected Auxilliary Space:** O(1)\n",
    "\n",
    "### Constraints:\n",
    "1 <= n, m <= 10^5\n",
    "\n",
    "0 <= arr1i, arr2i <= 10^7"
   ]
  },
  {
   "cell_type": "code",
   "execution_count": null,
   "metadata": {},
   "outputs": [],
   "source": [
    "# User function Template for python3\n",
    "class Solution:\n",
    "    \n",
    "    #Function to merge the arrays.\n",
    "    def merge(self,arr1,arr2,n,m):\n",
    "        #code here\n",
    "        \n",
    "        # Keep total space used a constant \n",
    "        for i in range(m):\n",
    "            arr1.append(arr2.pop(0))\n",
    "            \n",
    "        # Arrange in sorted order\n",
    "        arr1.sort()\n",
    "        \n",
    "        # Keep total space used a constant \n",
    "        for i in range(m):\n",
    "            arr2.insert(0, arr1.pop())\n",
    "            \n",
    "        return arr1, arr2\n",
    "\n",
    "# { \n",
    "# Driver Code Starts\n",
    "# Initial template for Python\n",
    "if __name__ == '__main__':\n",
    "    t = int(input())\n",
    "    for tt in range(t):\n",
    "        n,m = map(int, input().strip().split())\n",
    "        arr1 = list(map(int, input().strip().split()))\n",
    "        arr2 = list(map(int, input().strip().split()))\n",
    "        ob=Solution()\n",
    "        ob.merge(arr1, arr2, n, m)\n",
    "        print(*arr1,end=\" \")\n",
    "        print(*arr2)\n",
    "# } Driver Code Ends"
   ]
  }
 ],
 "metadata": {
  "kernelspec": {
   "display_name": "Python 3.10.6 64-bit",
   "language": "python",
   "name": "python3"
  },
  "language_info": {
   "codemirror_mode": {
    "name": "ipython",
    "version": 3
   },
   "file_extension": ".py",
   "mimetype": "text/x-python",
   "name": "python",
   "nbconvert_exporter": "python",
   "pygments_lexer": "ipython3",
   "version": "3.10.6"
  },
  "orig_nbformat": 4,
  "vscode": {
   "interpreter": {
    "hash": "26de051ba29f2982a8de78e945f0abaf191376122a1563185a90213a26c5da77"
   }
  }
 },
 "nbformat": 4,
 "nbformat_minor": 2
}
