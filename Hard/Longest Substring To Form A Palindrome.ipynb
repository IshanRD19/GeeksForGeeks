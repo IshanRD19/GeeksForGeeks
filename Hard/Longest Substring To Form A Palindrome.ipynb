{
 "cells": [
  {
   "cell_type": "markdown",
   "metadata": {},
   "source": [
    "# LONGEST SUBSTRING TO FORM A PALINDROME\n",
    "\n",
    "Given a string S which only contains lowercase alphabets. Find the length of the longest substring of S such that the characters in it can be rearranged to form a palindrome.\n",
    "\n",
    "### Example 1:\n",
    "\n",
    "#### Input:\n",
    "S = \"aabe\"\n",
    "#### Output:\n",
    "3\n",
    "#### Explanation:\n",
    "The substring \"aab\" can be rearranged to \"aba\" which is the longest palindrome possible for this String.\n",
    "### Example 2:\n",
    "#### Input:\n",
    "S = \"adbabd\"\n",
    "#### Output:\n",
    "6\n",
    "#### Explanation:\n",
    "The whole string “adbabd” can be rearranged to form a palindromic substring. One possible arrangement is \"abddba\". Thus, output length of the string is 6. \n",
    "\n",
    "### Your Task:  \n",
    "You don't need to read input or print anything. Your task is to complete the function longestSubstring() which takes a String S as input and returns the length of largest possible Palindrome.\n",
    "\n",
    "**Expected Time Complexity:** O(|S|*26)\n",
    "\n",
    "**Expected Auxiliary Space:** O(|S|*26)\n",
    "\n",
    "### Constraints:\n",
    "1 ≤ |S| ≤ 10^5"
   ]
  },
  {
   "cell_type": "code",
   "execution_count": 1,
   "metadata": {},
   "outputs": [
    {
     "name": "stdout",
     "output_type": "stream",
     "text": [
      "2\n",
      "aabe\n",
      "3\n",
      "adbabd\n",
      "6\n"
     ]
    }
   ],
   "source": [
    "# User function Template for python3\n",
    "class Solution:\n",
    "    def longestSubstring(self, S):\n",
    "        # code here\n",
    "        bit_mask = 0\n",
    "        index_map = {}\n",
    "        max_length = 0\n",
    "        \n",
    "        index_map[bit_mask] = -1\n",
    "        \n",
    "        for i in range(len(S)):\n",
    "            \n",
    "            # Turn a-z into 0-25\n",
    "            c = ord(S[i]) - 97\n",
    "            \n",
    "            # Turn the respective bit on if odd characters and turn off if even by taking Bitwise XOR with 2^c\n",
    "            bit_mask ^= (1 << c)\n",
    "            \n",
    "            if bit_mask in index_map:\n",
    "                max_length = max(max_length, i - index_map[bit_mask])\n",
    "            else:\n",
    "                index_map[bit_mask] = i\n",
    "            \n",
    "            \n",
    "            # Check for odd length palindromes\n",
    "            for j in range(26):\n",
    "                \n",
    "                # Cancel the occurrence of a character if it occurs odd number times\n",
    "                bit_mask_2 = bit_mask ^ (1 << j)\n",
    "                \n",
    "                if bit_mask_2 in index_map:\n",
    "                    max_length = max(max_length, i - index_map[bit_mask_2])\n",
    "                    \n",
    "                    \n",
    "        return max_length\n",
    "\n",
    "# { \n",
    "# Driver Code Starts\n",
    "# Initial Template for Python 3\n",
    "\n",
    "if __name__ == '__main__': \n",
    "    t = int (input ())\n",
    "    for _ in range (t):\n",
    "        S=input()\n",
    "        \n",
    "        ob = Solution()\n",
    "        print(ob.longestSubstring(S))\n",
    "# } Driver Code Ends"
   ]
  }
 ],
 "metadata": {
  "kernelspec": {
   "display_name": "Python 3",
   "language": "python",
   "name": "python3"
  },
  "language_info": {
   "codemirror_mode": {
    "name": "ipython",
    "version": 3
   },
   "file_extension": ".py",
   "mimetype": "text/x-python",
   "name": "python",
   "nbconvert_exporter": "python",
   "pygments_lexer": "ipython3",
   "version": "3.8.3"
  }
 },
 "nbformat": 4,
 "nbformat_minor": 4
}
