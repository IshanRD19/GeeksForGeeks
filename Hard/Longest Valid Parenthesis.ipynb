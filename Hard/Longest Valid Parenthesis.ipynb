{
 "cells": [
  {
   "cell_type": "markdown",
   "metadata": {},
   "source": [
    "# LONGEST VALID PARENTHESIS\n",
    "\n",
    "Given a string S consisting of opening and closing parenthesis '(' and ')'. Find length of the longest valid parenthesis substring.\n",
    "\n",
    "A parenthesis string is valid if:\n",
    "\n",
    "For every opening parenthesis, there is a closing parenthesis.\n",
    "Opening parenthesis must be closed in the correct order.\n",
    "### Example 1:\n",
    "\n",
    "#### Input:\n",
    "S = ((()\n",
    "#### Output:\n",
    "2\n",
    "#### Explaination:\n",
    "The longest valid parenthesis substring is \"()\".\n",
    "### Example 2:\n",
    "\n",
    "#### Input:\n",
    "S = )()())\n",
    "#### Output:\n",
    "4\n",
    "#### Explaination:\n",
    "The longest valid parenthesis substring is \"()()\".\n",
    "### Your Task:\n",
    "You do not need to read input or print anything. Your task is to complete the function maxLength() which takes string S as input parameter and returns the length of the maximum valid parenthesis substring.\n",
    "\n",
    "**Expected Time Complexity:** O(|S|)\n",
    "\n",
    "**Expected Auxiliary Space:** O(|S|)\n",
    "\n",
    "### Constraints:\n",
    "1 ≤ |S| ≤ 10^5"
   ]
  },
  {
   "cell_type": "code",
   "execution_count": 1,
   "metadata": {},
   "outputs": [
    {
     "name": "stdout",
     "output_type": "stream",
     "text": [
      "2\n",
      "((()\n",
      "2\n",
      ")()())\n",
      "4\n"
     ]
    }
   ],
   "source": [
    "# User function Template for Python3\n",
    "class Solution:\n",
    "    def maxLength(self, S):\n",
    "        # code here\n",
    "        opening_count, closing_count, max_length = 0, 0, 0\n",
    "        S_length = len(S)\n",
    "        \n",
    "        for i in range(S_length):\n",
    "            \n",
    "            if S[i] == '(':\n",
    "                opening_count += 1\n",
    "            else:\n",
    "                closing_count += 1\n",
    "\n",
    "            if opening_count == closing_count:\n",
    "                max_length = max(max_length, 2 * closing_count)\n",
    "                \n",
    "            elif closing_count > opening_count:\n",
    "                opening_count, closing_count = 0, 0\n",
    "                \n",
    "        opening_count, closing_count = 0, 0\n",
    "\n",
    "        for i in range(S_length - 1, -1, -1):\n",
    "            \n",
    "            if S[i] == '(':\n",
    "                opening_count += 1\n",
    "            else:\n",
    "                closing_count += 1\n",
    "\n",
    "            if opening_count == closing_count:\n",
    "                max_length = max(max_length, 2 * closing_count)\n",
    "                \n",
    "            elif opening_count > closing_count:\n",
    "                opening_count, closing_count = 0, 0\n",
    "                \n",
    "        return max_length\n",
    "                \n",
    "# { \n",
    "# Driver Code Starts\n",
    "# Initial Template for Python3\n",
    "if __name__ == '__main__':\n",
    "    t = int(input())\n",
    "    for _ in range(t):\n",
    "        S = input()\n",
    "        ob = Solution()\n",
    "        print(ob.maxLength(S))\n",
    "# } Driver Code Ends"
   ]
  }
 ],
 "metadata": {
  "kernelspec": {
   "display_name": "Python 3",
   "language": "python",
   "name": "python3"
  },
  "language_info": {
   "codemirror_mode": {
    "name": "ipython",
    "version": 3
   },
   "file_extension": ".py",
   "mimetype": "text/x-python",
   "name": "python",
   "nbconvert_exporter": "python",
   "pygments_lexer": "ipython3",
   "version": "3.8.3"
  }
 },
 "nbformat": 4,
 "nbformat_minor": 4
}
