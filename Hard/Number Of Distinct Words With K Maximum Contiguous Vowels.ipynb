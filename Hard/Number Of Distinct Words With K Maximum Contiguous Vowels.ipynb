{
 "cells": [
  {
   "cell_type": "markdown",
   "id": "e0e4d8af",
   "metadata": {},
   "source": [
    "# NUMBER OF DISTINCT WORDS WITH K MAXIMUM CONTIGUOUS VOWELS\n",
    "\n",
    "Find the number of unique words consisting of lowercase alphabets only of length N that can be formed with at-most K contiguous vowels. \n",
    "\n",
    "### Example 1:\n",
    "\n",
    "#### Input:\n",
    "N = 2\n",
    "\n",
    "K = 0\n",
    "#### Output:\n",
    "441\n",
    "#### Explanation:\n",
    "Total of 441 unique words are possible of length 2 that will have K( =0) vowels together, e.g. \"bc\", \"cd\", \"df\", etc are valid words while \"ab\" (with 1 vowel) is not a valid word.\n",
    "\n",
    "### Example 2:\n",
    "\n",
    "#### Input:\n",
    "N = 1\n",
    "\n",
    "K = 1\n",
    "#### Output:\n",
    "26\n",
    "#### Explanation:\n",
    "All the english alphabets including vowels and consonants; as atmost K( =1) vowel can be taken.\n",
    "\n",
    "### Your Task:  \n",
    "You don't need to read input or print anything. Your task is to complete the function kvowelwords() which takes an Integer N, an intege K and returns the total number of words of size N with atmost K vowels. As the answer maybe to large please return answer modulo 1000000007.\n",
    "\n",
    "**Expected Time Complexity:** O(N*K)\n",
    "\n",
    "**Expected Auxiliary Space:** O(N*K)\n",
    "\n",
    "### Constraints:\n",
    "1 ≤ N ≤ 1000\n",
    "\n",
    "0 ≤ K ≤ N"
   ]
  },
  {
   "cell_type": "code",
   "execution_count": 1,
   "id": "6664b6d1",
   "metadata": {},
   "outputs": [
    {
     "name": "stdout",
     "output_type": "stream",
     "text": [
      "2\n",
      "2 0\n",
      "441\n",
      "1 1\n",
      "26\n"
     ]
    }
   ],
   "source": [
    "# User function Template for python3\n",
    "class Solution:\n",
    "    def kvowelwords(self, N,K):\n",
    "        # code here\n",
    "        \n",
    "        # Check for trivial condition\n",
    "        if N == K == 0:\n",
    "            return 0\n",
    "        \n",
    "        explored_states = {}\n",
    "        \n",
    "        # For strings of incrementing size\n",
    "        for n in range(N+1):\n",
    "            \n",
    "            # For increasing count of allowed vowels\n",
    "            for k in range(K+1):\n",
    "                \n",
    "                # Check for strings with 0 length (base values)\n",
    "                if not n:\n",
    "                    explored_states[(n, k)] = 1\n",
    "                \n",
    "                else:\n",
    "                    explored_states[(n, k)] = 21 * explored_states[(n-1, k)] % 1000000007\n",
    "                \n",
    "                    # Check if vowels are allowed\n",
    "                    if k:\n",
    "                        explored_states[(n, k)] = (explored_states[(n, k)] + 5 * explored_states[(n-1, k-1)] % 1000000007) % 1000000007\n",
    "                    \n",
    "        return explored_states[(N, K)]\n",
    "\n",
    "# { \n",
    "# Driver Code Starts\n",
    "# Initial Template for Python 3\n",
    "if __name__ == '__main__':\n",
    "    T=int(input())\n",
    "    for i in range(T):\n",
    "        N,K = map(int,input().split())\n",
    "        ob = Solution()\n",
    "        ans = ob.kvowelwords(N,K)\n",
    "        print(ans)\n",
    "# } Driver Code Ends"
   ]
  }
 ],
 "metadata": {
  "kernelspec": {
   "display_name": "Python 3 (ipykernel)",
   "language": "python",
   "name": "python3"
  },
  "language_info": {
   "codemirror_mode": {
    "name": "ipython",
    "version": 3
   },
   "file_extension": ".py",
   "mimetype": "text/x-python",
   "name": "python",
   "nbconvert_exporter": "python",
   "pygments_lexer": "ipython3",
   "version": "3.10.6"
  }
 },
 "nbformat": 4,
 "nbformat_minor": 5
}
