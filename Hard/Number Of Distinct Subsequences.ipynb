{
 "cells": [
  {
   "cell_type": "markdown",
   "id": "8fcff9f4",
   "metadata": {},
   "source": [
    "# NUMBER OF DISTINCT SUBSEQUENCES\n",
    "\n",
    "Given a string consisting of lower case English alphabets, the task is to find the number of distinct subsequences of the string\n",
    "\n",
    "**Note:** Answer can be very large, so, ouput will be answer modulo 10^9+7\n",
    "\n",
    "### Example 1:\n",
    "\n",
    "#### Input:\n",
    "s = \"gfg\"\n",
    "#### Output:\n",
    "7\n",
    "#### Explanation:\n",
    "The seven distinct subsequences are \"\", \"g\", \"f\", \"gf\", \"fg\", \"gg\" and \"gfg\" \n",
    "### Example 2:\n",
    "\n",
    "#### Input:\n",
    "s = \"ggg\"\n",
    "#### Output:\n",
    "4\n",
    "#### Explanation:\n",
    "The four distinct subsequences are \"\", \"g\", \"gg\", \"ggg\"\n",
    "### Your task:\n",
    "You do not need to read any input or print anything. The task is to complete the function distinctSubsequences(), which takes a string as input and returns an integer.\n",
    "\n",
    "**Expected Time Complexity:** O(|str|)\n",
    "\n",
    "**Expected Auxiliary Space:** O(|str|)\n",
    "\n",
    "### Constraints:\n",
    "1 ≤ |s| ≤ 10^5\n",
    "\n",
    "s contains lower case English alphabets\n",
    "\n",
    "## Approach 1: Naive Approach Using Sets"
   ]
  },
  {
   "cell_type": "code",
   "execution_count": 30,
   "id": "4e1950db",
   "metadata": {},
   "outputs": [
    {
     "name": "stdout",
     "output_type": "stream",
     "text": [
      "4\n"
     ]
    }
   ],
   "source": [
    "# User function Template for python3\n",
    "class Solution:\n",
    "    def f(self, s, i, subseq, distinct):\n",
    "        # Check for end of string\n",
    "        if i == len(s):\n",
    "            distinct.add(subseq)\n",
    "            return distinct\n",
    "\n",
    "        # Pick + Not Pick\n",
    "        distinct = self.f(s, i+1, subseq + s[i], distinct)\n",
    "        distinct = self.f(s, i+1, subseq, distinct)\n",
    "        \n",
    "        return distinct\n",
    "\n",
    "\n",
    "    def distinctSubsequences(self, S):\n",
    "        # code here\n",
    "        return len(self.f(S, 0, \"\", set())) % (10**9 + 7)\n",
    "\n",
    "# { \n",
    "# Driver Code Starts\n",
    "# Initial Template for Python 3\n",
    "if __name__ == '__main__':\n",
    "\tT=int(input())\n",
    "\tfor i in range(T):\n",
    "\t\ts = input()\n",
    "\t\tob = Solution()\n",
    "\t\tanswer = ob.distinctSubsequences(s)\n",
    "\t\tprint(answer)\n",
    "# } Driver Code Ends"
   ]
  },
  {
   "cell_type": "markdown",
   "id": "ca3085a7",
   "metadata": {},
   "source": [
    "## Approach 2: Efficient Approach Using Dynamic Programming"
   ]
  },
  {
   "cell_type": "code",
   "execution_count": 33,
   "id": "18a38214",
   "metadata": {},
   "outputs": [
    {
     "name": "stdout",
     "output_type": "stream",
     "text": [
      "7\n"
     ]
    }
   ],
   "source": [
    "# User function Template for python3\n",
    "from dis import dis\n",
    "\n",
    "class Solution:\n",
    "    def distinctSubsequences(self, S):\n",
    "        # code here\n",
    "        length = len(S)\n",
    "        last_index = {}\n",
    "        distinct_count = {0: 1}\n",
    "\n",
    "        for i in range(1, length + 1):\n",
    "\n",
    "            # Total subsequence at current index\n",
    "            distinct_count[i] = 2 * distinct_count[i-1]\n",
    "\n",
    "            # If character is seen before\n",
    "            if S[i-1] in last_index:\n",
    "\n",
    "                # Remove the subsequences ending with previous occurence\n",
    "                distinct_count[i] -= distinct_count[last_index[S[i-1]]]\n",
    "\n",
    "            last_index[S[i-1]] = i-1\n",
    "\n",
    "        return distinct_count[length] % (10**9 + 7)\n",
    "\n",
    "# { \n",
    "# Driver Code Starts\n",
    "# Initial Template for Python 3\n",
    "if __name__ == '__main__':\n",
    "\tT=int(input())\n",
    "\tfor i in range(T):\n",
    "\t\ts = input()\n",
    "\t\tob = Solution()\n",
    "\t\tanswer = ob.distinctSubsequences(s)\n",
    "\t\tprint(answer)\n",
    "# } Driver Code Ends"
   ]
  }
 ],
 "metadata": {
  "kernelspec": {
   "display_name": "Python 3.10.6 64-bit",
   "language": "python",
   "name": "python3"
  },
  "language_info": {
   "codemirror_mode": {
    "name": "ipython",
    "version": 3
   },
   "file_extension": ".py",
   "mimetype": "text/x-python",
   "name": "python",
   "nbconvert_exporter": "python",
   "pygments_lexer": "ipython3",
   "version": "3.10.6"
  },
  "vscode": {
   "interpreter": {
    "hash": "26de051ba29f2982a8de78e945f0abaf191376122a1563185a90213a26c5da77"
   }
  }
 },
 "nbformat": 4,
 "nbformat_minor": 5
}
