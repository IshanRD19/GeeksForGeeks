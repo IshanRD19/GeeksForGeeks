{
 "cells": [
  {
   "cell_type": "markdown",
   "metadata": {},
   "source": [
    "# ADDITION OF SUBMATRIX\n",
    "\n",
    "Given a matrix Arr of size N x M. You are given position of submatrix as X1, Y1 and X2, Y2 inside the matrix. Find the sum of all elements inside that submatrix. Here X1, Y1, X2, Y2 are 1-based.\n",
    "\n",
    "### Example 1:\n",
    "\n",
    "#### Input: \n",
    "N = 5 , M = 6\n",
    "\n",
    "Arr[][] = {{1, 2, 3, 4, 5, 6},\n",
    "           {7, 8, 9, 10, 11, 12},\n",
    "           {13, 14, 15, 16, 17, 18},\n",
    "           {19, 20, 21, 22, 23, 24},\n",
    "           {25, 26, 27, 28, 29, 30}}\n",
    "\n",
    "X1=3, Y1=4, X2=4, Y2=5\n",
    "#### Output:\n",
    "78\n",
    "#### Explanation:\n",
    "Sum from cell starting at position (3, 4) (1-based indexing) and ending at (4, 5) is 78.\n",
    "### Example 2:\n",
    "\n",
    "#### Input: \n",
    "N = 3, M = 3\n",
    "\n",
    "Arr[][] = {{9, 8, 7},{4, 2, 1},{6, 5, 3}}\n",
    "\n",
    "X1=1, Y1=2, X2=3, Y2=3\n",
    "#### Output: 1\n",
    "#### Explanation:\n",
    "Sum from cell starting at position (1, 2) (1-based indexing) and ending at (3, 3) is 26.\n",
    "### Your Task:  \n",
    "You don't need to read input or print anything. Your task is to complete the function subMatrixSum() which takes the array of booleans arr[][], n, m, x1, y1, x2 and y2 as parameters and returns an integer denoting the answer.\n",
    "\n",
    "**Expected Time Complexity:** O(N*M)\n",
    "\n",
    "**Expected Auxiliary Space:** O(1)\n",
    "\n",
    "### Constraints:\n",
    "1 ≤ N, M ≤ 10^3\n",
    "\n",
    "1 ≤ Arr[N][M] ≤ 10^6\n",
    "\n",
    "1 <= X1, X2 <= N\n",
    "\n",
    "1 <= Y1, Y2 <= M"
   ]
  },
  {
   "cell_type": "code",
   "execution_count": 1,
   "metadata": {},
   "outputs": [
    {
     "name": "stdout",
     "output_type": "stream",
     "text": [
      "2\n",
      "5 6\n",
      "1 2 3 4 5 6 7 8 9 10 11 12 13 14 15 16 17 18 19 20 21 22 23 24 25 26 27 28 29 30\n",
      "3 4 4 5\n",
      "78\n",
      "3 3\n",
      "9 8 7 4 2 1 6 5 3\n",
      "1 2 3 3\n",
      "26\n"
     ]
    }
   ],
   "source": [
    "# User function Template for python3\n",
    "class Solution:\n",
    "\n",
    "    def subMatrixSum(self,arr, n, m, x1, y1, x2, y2):\n",
    "        # code here\n",
    "        result = 0\n",
    "        \n",
    "        for row in range (x1-1, x2):\n",
    "            result += sum(arr[row][y1-1:y2])\n",
    "        \n",
    "        return result\n",
    "\n",
    "#{ \n",
    "#  Driver Code Starts\n",
    "#Initial Template for Python 3\n",
    "if __name__ == '__main__':\n",
    "    tc = int(input())\n",
    "    while tc > 0:\n",
    "        n, m = list(map(int, input().strip().split()))\n",
    "        inputLine = list(map(int, input().strip().split()))\n",
    "        arr = [[0 for j in range(m)] for i in range(n)]\n",
    "        for i in range(n):\n",
    "            for j in range(m):\n",
    "                arr[i][j] = inputLine[i * m + j]\n",
    "        x1, y1, x2, y2 = list(map(int, input().strip().split()))\n",
    "        ob = Solution()\n",
    "        ans = ob.subMatrixSum(arr, n, m, x1, y1, x2, y2)\n",
    "        print(ans)\n",
    "        tc -= 1\n",
    "# } Driver Code Ends"
   ]
  }
 ],
 "metadata": {
  "kernelspec": {
   "display_name": "Python 3",
   "language": "python",
   "name": "python3"
  },
  "language_info": {
   "codemirror_mode": {
    "name": "ipython",
    "version": 3
   },
   "file_extension": ".py",
   "mimetype": "text/x-python",
   "name": "python",
   "nbconvert_exporter": "python",
   "pygments_lexer": "ipython3",
   "version": "3.8.3"
  }
 },
 "nbformat": 4,
 "nbformat_minor": 4
}
