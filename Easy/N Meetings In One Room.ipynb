{
 "cells": [
  {
   "cell_type": "markdown",
   "metadata": {},
   "source": [
    "# N MEETINGS IN ONE ROOM\n",
    "\n",
    "There is one meeting room in a firm. There are N meetings in the form of (start[i], end[i]) where start[i] is start time of meeting i and end[i] is finish time of meeting i.\n",
    "What is the maximum number of meetings that can be accommodated in the meeting room when only one meeting can be held in the meeting room at a particular time?\n",
    "\n",
    "**Note:** Start time of one chosen meeting can't be equal to the end time of the other chosen meeting.\n",
    "\n",
    "### Example 1:\n",
    "\n",
    "#### Input:\n",
    "N = 6\n",
    "\n",
    "start[] = {1,3,0,5,8,5}\n",
    "\n",
    "end[] =  {2,4,6,7,9,9}\n",
    "#### Output: \n",
    "4\n",
    "#### Explanation:\n",
    "Maximum four meetings can be held with\n",
    "given start and end timings.\n",
    "The meetings are - (1, 2),(3, 4), (5,7) and (8,9)\n",
    "### Example 2:\n",
    "\n",
    "#### Input:\n",
    "N = 3\n",
    "\n",
    "start[] = {10, 12, 20}\n",
    "\n",
    "end[] = {20, 25, 30}\n",
    "#### Output: \n",
    "1\n",
    "#### Explanation:\n",
    "Only one meetings can be held\n",
    "with given start and end timings.\n",
    "\n",
    "### Your Task:\n",
    "You don't need to read inputs or print anything. Complete the function maxMeetings() that takes two arrays start[] and end[] along with their size N as input parameters and returns the maximum number of meetings that can be held in the meeting room.\n",
    "\n",
    "**Expected Time Complexity:** O(N*LogN)\n",
    "\n",
    "**Expected Auxilliary Space:** O(N)\n",
    "\n",
    "### Constraints:\n",
    "1 ≤ N ≤ 10^5\n",
    "\n",
    "0 ≤ start[i] < end[i] ≤ 10^5"
   ]
  },
  {
   "cell_type": "code",
   "execution_count": null,
   "metadata": {},
   "outputs": [],
   "source": [
    "# User function Template for python3\n",
    "class Solution:\n",
    "    #Function to find the maximum number of meetings that can be performed in a meeting room.\n",
    "    def maximumMeetings(self,n,start,end):\n",
    "        # code here\n",
    "        length = len(end)\n",
    "        \n",
    "        # Sort the tasks as per their end time\n",
    "        schedule = sorted([(start[i], end[i]) for i in range(length)], key=lambda x: x[1])\n",
    "        \n",
    "        # Start from the task with earliest deadline\n",
    "        end_time = schedule[0][1]\n",
    "        count = 1\n",
    "        \n",
    "        # Compare start time of next task with end time of previous task\n",
    "        for i in range(1, length):\n",
    "            if schedule[i][0] > end_time:\n",
    "                count += 1\n",
    "                end_time = schedule[i][1]\n",
    "\n",
    "        return count\n",
    "\n",
    "# { \n",
    "# Driver Code Starts\n",
    "# Initial Template for Python 3\n",
    "if __name__ == '__main__':\n",
    "    test_cases = int(input())\n",
    "    for cases in range(test_cases) :\n",
    "        n = int(input())\n",
    "        start = list(map(int,input().strip().split()))\n",
    "        end = list(map(int,input().strip().split()))\n",
    "        ob=Solution()\n",
    "        print(ob.maximumMeetings(n,start,end))\n",
    "# } Driver Code Ends"
   ]
  }
 ],
 "metadata": {
  "kernelspec": {
   "display_name": "Python 3.10.6 64-bit",
   "language": "python",
   "name": "python3"
  },
  "language_info": {
   "name": "python",
   "version": "3.10.6"
  },
  "orig_nbformat": 4,
  "vscode": {
   "interpreter": {
    "hash": "26de051ba29f2982a8de78e945f0abaf191376122a1563185a90213a26c5da77"
   }
  }
 },
 "nbformat": 4,
 "nbformat_minor": 2
}
