{
 "cells": [
  {
   "cell_type": "markdown",
   "metadata": {},
   "source": [
    "# EQUAL POINT IN A STRING OF BRACKETS\n",
    "\n",
    "Given a string S of opening and closing brackets '(' and ')' only. The task is to find an equal point. An equal point is an index such that the number of closing brackets on right from that point must be equal to number of opening brackets before that point.\n",
    "\n",
    "### Example 1:\n",
    "\n",
    "#### Input:\n",
    "str = \"(())))(\"\n",
    "#### Output:\n",
    "4\n",
    "#### Explanation:\n",
    "After index 4, string splits into (()) and ))(. Number of opening brackets in the first part is equal to number of closing brackets in the second part.\n",
    "### Example 2:\n",
    "#### Input:\n",
    "str = \"))\"\n",
    "#### Output:\n",
    "2\n",
    "#### Explanation:\n",
    "As after 2nd position i.e. )) and \"empty\" string will be split into these two parts: So, in this number of opening brackets i.e. 0 in the first part is equal to number of closing brackets in the second part i.e. also 0.\n",
    "\n",
    "### Your Task:  \n",
    "You don't need to read input or print anything. Your task is to complete the function findIndex() which takes the string S as inputs and returns the occurrence of the equal point in the string.\n",
    "\n",
    "**Expected Time Complexity:** O(N)\n",
    "\n",
    "**Expected Auxiliary Space:** O(N)\n",
    "\n",
    "### Constraints:\n",
    "1 ≤ S ≤ 10^6\n",
    "\n",
    "String can be unbalanced"
   ]
  },
  {
   "cell_type": "code",
   "execution_count": 1,
   "metadata": {},
   "outputs": [
    {
     "name": "stdout",
     "output_type": "stream",
     "text": [
      "3\n",
      "(())))(\n",
      "4\n",
      "))\n",
      "2\n",
      "()()()()((\n",
      "4\n"
     ]
    }
   ],
   "source": [
    "# User function Template for python3\n",
    "class Solution:\n",
    "    def findIndex(self,str):\n",
    "        # Your code goes here\n",
    "        length = len(str)\n",
    "        opening, closing = [0] * length, [0] * length\n",
    "        open_count, closed_count = 0, 0\n",
    "        \n",
    "        # Store count of opening brackets before index i\n",
    "        for i in range(length):\n",
    "            opening[i] = open_count\n",
    "\n",
    "            if str[i] == '(':\n",
    "                open_count += 1\n",
    "            \n",
    "        # Store count of closing brackets from index i\n",
    "        for i in range(length):\n",
    "            if str[length - i - 1] == ')':\n",
    "                closed_count += 1\n",
    "            \n",
    "            closing[length - i - 1] = closed_count\n",
    "            \n",
    "        # Search for equal point\n",
    "        for i in range(length):\n",
    "            if opening[i] == closing[i]:\n",
    "                return i \n",
    "            \n",
    "        return length\n",
    "\n",
    "#{ \n",
    "#  Driver Code Starts\n",
    "#Initial Template for Python 3\n",
    "def main():\n",
    "    T = int(input())\n",
    "    while(T > 0):\n",
    "        str = input()\n",
    "        ob=Solution()\n",
    "        print(ob.findIndex(str))\n",
    "        T -= 1\n",
    "if __name__ == \"__main__\":\n",
    "    main()\n",
    "# } Driver Code Ends"
   ]
  }
 ],
 "metadata": {
  "kernelspec": {
   "display_name": "Python 3",
   "language": "python",
   "name": "python3"
  },
  "language_info": {
   "codemirror_mode": {
    "name": "ipython",
    "version": 3
   },
   "file_extension": ".py",
   "mimetype": "text/x-python",
   "name": "python",
   "nbconvert_exporter": "python",
   "pygments_lexer": "ipython3",
   "version": "3.8.3"
  }
 },
 "nbformat": 4,
 "nbformat_minor": 4
}
