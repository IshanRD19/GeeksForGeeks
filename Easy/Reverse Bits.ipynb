{
 "cells": [
  {
   "cell_type": "markdown",
   "metadata": {},
   "source": [
    "# REVERSE BITS\n",
    "\n",
    "Given a non-negative integer n. Reverse the bits of n and print the number obtained after reversing the bits.\n",
    "**Note:**  The actual binary representation of the number is being considered for reversing the bits, no leading 0’s are being considered.\n",
    " \n",
    "### Example 1:\n",
    "#### Input : \n",
    "N = 11\n",
    "#### Output:\n",
    "13\n",
    "#### Explanation:\n",
    "(11)10 = (1011)2.\n",
    "After reversing the bits we get:\n",
    "(1101)2 = (13)10.\n",
    "### Example 2:\n",
    "\n",
    "#### Input : \n",
    "N = 10\n",
    "#### Output:\n",
    "5\n",
    "#### Explanation:\n",
    "(10)10 = (1010)2.\n",
    "After reversing the bits we get:\n",
    "(0101)2 = (101)2\n",
    "        = (5)10.\n",
    "### Your task:\n",
    "You don't need to read input or print anything. Your task is to complete the function reverseBits() which takes an integer N as input and returns the number obtained after reversing bits.\n",
    " \n",
    "**Expected Time Complexity:** O(number of bits in the binary representation of N)\n",
    "\n",
    "**Expected Auxiliary Space:**  O(1)\n",
    " \n",
    "### Constraints :\n",
    "1 ≤ N ≤ 10^9"
   ]
  },
  {
   "cell_type": "code",
   "execution_count": null,
   "metadata": {},
   "outputs": [],
   "source": [
    "# User function Template for python3\n",
    "class Solution:\n",
    "    def reverseBits(self,n):\n",
    "        #code here\n",
    "        return int(bin(n)[2:][::-1], 2)\n",
    "\n",
    "# { \n",
    "# Driver Code Starts\n",
    "# Initial Template for Python 3\n",
    "import math\n",
    "def main():\n",
    "    T=int(input())\n",
    "    while(T>0):\n",
    "        n=int(input())\n",
    "        ob=Solution()\n",
    "        print(ob.reverseBits(n))\n",
    "        T-=1\n",
    "if __name__==\"__main__\":\n",
    "    main()\n",
    "# } Driver Code Ends"
   ]
  }
 ],
 "metadata": {
  "kernelspec": {
   "display_name": "Python 3.10.6 64-bit",
   "language": "python",
   "name": "python3"
  },
  "language_info": {
   "name": "python",
   "version": "3.10.6"
  },
  "orig_nbformat": 4,
  "vscode": {
   "interpreter": {
    "hash": "26de051ba29f2982a8de78e945f0abaf191376122a1563185a90213a26c5da77"
   }
  }
 },
 "nbformat": 4,
 "nbformat_minor": 2
}
