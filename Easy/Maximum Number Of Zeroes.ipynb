{
 "cells": [
  {
   "cell_type": "markdown",
   "metadata": {},
   "source": [
    "# MAXIMUM NUMBER OF ZEROS\n",
    "\n",
    "Given an array arr[] of N values, the task is to find the number which has the maximum number of zeroes. If there are no zeroes then print -1.\n",
    "\n",
    "**Note:** If there are multiple numbers with the same (max) number of zeroes then print the Maximum number among them.\n",
    "\n",
    "### Example 1:\n",
    "\n",
    "#### Input: \n",
    "N = 5\n",
    "arr[] = {10, 20, 3000, 9999, 200}\n",
    "#### Output: \n",
    "3000\n",
    "#### Explanation: \n",
    "3000 contains 3 zero's \n",
    "in it.\n",
    "\n",
    "### Example 2:\n",
    "\n",
    "#### Input: \n",
    "N = 4\n",
    "arr[] = {1, 2, 3, 4}\n",
    "#### Output: \n",
    " -1\n",
    "#### Explanation: \n",
    "No zero is present.\n",
    " \n",
    "\n",
    "### Your Task:\n",
    "This is a function problem. You don't need to take any input, as it is already accomplished by the driver code. You just need to complete the function MaxZero() that takes array arr[] and integer N as parameters and returns the number with the maximum number of zeroes.\n",
    "\n",
    "**Expected Time Complexity:** O(N*M). where N is the size of array and M is the maximum length of a number in the array\n",
    "\n",
    "**Expected Auxiliary Space:** O(1).\n",
    "\n",
    "### Constraints:\n",
    "1 ≤ N ≤ 10^5\n",
    "\n",
    "1 < A[i] < 10^100"
   ]
  },
  {
   "cell_type": "code",
   "execution_count": null,
   "metadata": {},
   "outputs": [],
   "source": [
    "# User Template code\n",
    "def MaxZero(arr, n):\n",
    "    # Your code goes here\n",
    "    max_at = max_count = 0\n",
    "    \n",
    "    for i in range(n):\n",
    "        str_count = str(arr[i]).count('0')\n",
    "        \n",
    "        if str_count > max_count:\n",
    "            max_at = i\n",
    "            max_count = str(arr[i]).count('0')\n",
    "            \n",
    "        if str_count == max_count:\n",
    "            if arr[i] > arr[max_at]:\n",
    "                max_at = i\n",
    "\n",
    "    return arr[max_at] if max_count else -1\n",
    "\n",
    "# { \n",
    "# Driver Code Starts\n",
    "if __name__ == '__main__': \n",
    "    t=int(input())\n",
    "    for _ in range(0,t):\n",
    "        n=int(input())\n",
    "        a=list(map(int,input().split()))\n",
    "        print(MaxZero(a,n))\n",
    "# } Driver Code Ends"
   ]
  }
 ],
 "metadata": {
  "kernelspec": {
   "display_name": "Python 3.10.6 64-bit",
   "language": "python",
   "name": "python3"
  },
  "language_info": {
   "name": "python",
   "version": "3.10.6"
  },
  "orig_nbformat": 4,
  "vscode": {
   "interpreter": {
    "hash": "26de051ba29f2982a8de78e945f0abaf191376122a1563185a90213a26c5da77"
   }
  }
 },
 "nbformat": 4,
 "nbformat_minor": 2
}
