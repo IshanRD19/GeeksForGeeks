{
 "cells": [
  {
   "cell_type": "markdown",
   "metadata": {},
   "source": [
    "# MISSING NUMBER IN ARRAY\n",
    "\n",
    "Given an array of size N-1 such that it only contains distinct integers in the range of 1 to N. Find the missing element.\n",
    "\n",
    "### Example 1:\n",
    "\n",
    "#### Input:\n",
    "N = 5\n",
    "\n",
    "A[] = {1,2,3,5}\n",
    "#### Output:\n",
    "4\n",
    "### Example 2:\n",
    "\n",
    "#### Input:\n",
    "N = 10\n",
    "\n",
    "A[] = {6,1,2,8,3,4,7,10,5}\n",
    "#### Output:\n",
    "9\n",
    "\n",
    "### Your Task :\n",
    "You don't need to read input or print anything. Complete the function MissingNumber() that takes array and N as input  parameters and returns the value of the missing number.\n",
    "\n",
    "**Expected Time Complexity:** O(N)\n",
    "\n",
    "**Expected Auxiliary Space:** O(1)\n",
    "\n",
    "### Constraints:\n",
    "1 ≤ N ≤ 10^6\n",
    "\n",
    "1 ≤ A[i] ≤ 10^6"
   ]
  },
  {
   "cell_type": "code",
   "execution_count": 1,
   "metadata": {},
   "outputs": [
    {
     "name": "stdout",
     "output_type": "stream",
     "text": [
      "2\n",
      "5\n",
      "1 2 3 5\n",
      "4\n",
      "10\n",
      "6 1 2 8 3 4 7 10 5\n",
      "9\n"
     ]
    }
   ],
   "source": [
    "# User function Template for python3\n",
    "class Solution:\n",
    "    def MissingNumber(self,array,n):\n",
    "        # code here\n",
    "        return (n * (n + 1) // 2) - sum(array)\n",
    "\n",
    "# { \n",
    "#  Driver Code Starts\n",
    "# Initial Template for Python 3\n",
    "t=int(input())\n",
    "for _ in range(0,t):\n",
    "    n=int(input())\n",
    "    a=list(map(int,input().split()))\n",
    "    s=Solution().MissingNumber(a,n)\n",
    "    print(s)\n",
    "# } Driver Code Ends"
   ]
  }
 ],
 "metadata": {
  "kernelspec": {
   "display_name": "Python 3",
   "language": "python",
   "name": "python3"
  },
  "language_info": {
   "codemirror_mode": {
    "name": "ipython",
    "version": 3
   },
   "file_extension": ".py",
   "mimetype": "text/x-python",
   "name": "python",
   "nbconvert_exporter": "python",
   "pygments_lexer": "ipython3",
   "version": "3.8.3"
  }
 },
 "nbformat": 4,
 "nbformat_minor": 4
}
