{
 "cells": [
  {
   "cell_type": "markdown",
   "metadata": {},
   "source": [
    "# PANGRAM CHECKING\n",
    "\n",
    "Given a string check if it is Pangram or not. A pangram is a sentence containing every letter in the English Alphabet.\n",
    "\n",
    "### Example 1:\n",
    "\n",
    "#### Input:\n",
    "S = Bawds jog, flick quartz, vex nymph\n",
    "#### Output:\n",
    "1\n",
    "#### Explantion:\n",
    "In the given input, there are all the letters of the English alphabet. Hence, the output is 1.\n",
    "### Example 2:\n",
    "\n",
    "#### Input:\n",
    "S = sdfs\n",
    "#### Output:\n",
    "0\n",
    "#### Explantion:\n",
    "In the given input, there aren't all the letters present in the English alphabet. Hence, the output is 0.\n",
    "### Your Task:\n",
    "You need to complete the function checkPangram() that takes a string as a parameter and returns true if the string is a pangram, else it returns false.\n",
    "\n",
    "**Expected Time Complexity:** O(N).\n",
    "\n",
    "**Expected Auxiliary Space:** O(Number of distinct characters).\n",
    "\n",
    "### Constraints:\n",
    "1 ≤ |S| ≤ 10^4"
   ]
  },
  {
   "cell_type": "code",
   "execution_count": 1,
   "metadata": {},
   "outputs": [
    {
     "name": "stdout",
     "output_type": "stream",
     "text": [
      "2\n",
      "Bawds jog, flick quartz, vex nymph\n",
      "1\n",
      "sdfs\n",
      "0\n"
     ]
    }
   ],
   "source": [
    "# User function Template for python3\n",
    "class Solution:\n",
    "    #Function to check if a string is Pangram or not.\n",
    "    def checkPangram(self,s):\n",
    "        #code here\n",
    "        chars = [c for c in s if (65 <= ord(c) <= 90) or (97 <= ord(c) <= 122)]\n",
    "        return 1 if len(set(chars)) == 26 else 0\n",
    "\n",
    "#{ \n",
    "#  Driver Code Starts\n",
    "#Initial Template for Python 3\n",
    "if __name__ == '__main__':\n",
    "    t = int(input())\n",
    "    for i in range(t):\n",
    "        s=str(input())\n",
    "        obj = Solution()\n",
    "        if(obj.checkPangram(s)):\n",
    "            print(1)\n",
    "        else:\n",
    "            print(0)\n",
    "# } Driver Code Ends"
   ]
  }
 ],
 "metadata": {
  "kernelspec": {
   "display_name": "Python 3",
   "language": "python",
   "name": "python3"
  },
  "language_info": {
   "codemirror_mode": {
    "name": "ipython",
    "version": 3
   },
   "file_extension": ".py",
   "mimetype": "text/x-python",
   "name": "python",
   "nbconvert_exporter": "python",
   "pygments_lexer": "ipython3",
   "version": "3.8.3"
  }
 },
 "nbformat": 4,
 "nbformat_minor": 4
}
