{
 "cells": [
  {
   "cell_type": "markdown",
   "metadata": {},
   "source": [
    "# NON-REPEATING ELEMENT\n",
    "\n",
    "Find the first non-repeating element in a given array arr of N integers.\n",
    "\n",
    "**Note:** Array consists of only positive and negative integers and not zero.\n",
    "\n",
    "### Example 1:\n",
    "\n",
    "#### Input:\n",
    "arr[] = {-1, 2, -1, 3, 2}\n",
    "#### Output:\n",
    "3\n",
    "#### Explanation:\n",
    "-1 and 2 are repeating whereas 3 is the only number occuring once. Hence, the output is 3. \n",
    " \n",
    "### Example 2:\n",
    "\n",
    "#### Input:\n",
    "arr[] = {1, 1, 1}\n",
    "#### Output:\n",
    "0\n",
    "\n",
    "### Your Task:\n",
    "This is a function problem. The input is already taken care of by the driver code. You only need to complete the function firstNonRepeating() that takes an array (arr), sizeOfArray (n), and returns the first non-repeating element. The driver code takes care of the printing.\n",
    "\n",
    "**Expected Time Complexity:** O(N).\n",
    "\n",
    "**Expected Auxiliary Space:** O(N).\n",
    "\n",
    "### Constraints:\n",
    "1 <= N <= 10^7\n",
    "\n",
    "-10^16 <= Ai <= 10^16\n",
    "\n",
    "{Ai !=0 }"
   ]
  },
  {
   "cell_type": "code",
   "execution_count": 1,
   "metadata": {},
   "outputs": [
    {
     "name": "stdout",
     "output_type": "stream",
     "text": [
      "2\n",
      "5\n",
      "-1 2 -1 3 2\n",
      "3\n",
      "3\n",
      "1 1 1\n",
      "0\n"
     ]
    }
   ],
   "source": [
    "# User function Template for python3\n",
    "class Solution:\n",
    "    def firstNonRepeating(self, arr, n): \n",
    "        # Complete the function\n",
    "        arr_map = {}\n",
    "        min_index = n\n",
    "\n",
    "        # For each element\n",
    "        for i in range(n):\n",
    "            \n",
    "            # Store and update the first and last index\n",
    "            if arr[i] in arr_map:\n",
    "                arr_map[arr[i]][1] = i\n",
    "            else:\n",
    "                arr_map[arr[i]] = [i, i]\n",
    "                \n",
    "        \n",
    "        # For each element\n",
    "        for k, v in arr_map.items():\n",
    "            \n",
    "            # Check if first and last occurence is same and find the first such element\n",
    "            if v[0] == v[1] and v[0] < min_index:\n",
    "                min_index = v[0]\n",
    "        \n",
    "        if min_index == n:\n",
    "            return 0\n",
    "        \n",
    "        return arr[min_index]\n",
    "\n",
    "#{ \n",
    "#  Driver Code Starts\n",
    "# Initial Template for Python 3\n",
    "from collections import defaultdict \n",
    "for _ in range(0,int(input())):\n",
    "    n = int(input())\n",
    "    arr = list(map(int,input().strip().split()))\n",
    "    ob = Solution()\n",
    "    print(ob.firstNonRepeating(arr, n))\n",
    "# } Driver Code Ends"
   ]
  }
 ],
 "metadata": {
  "kernelspec": {
   "display_name": "Python 3",
   "language": "python",
   "name": "python3"
  },
  "language_info": {
   "codemirror_mode": {
    "name": "ipython",
    "version": 3
   },
   "file_extension": ".py",
   "mimetype": "text/x-python",
   "name": "python",
   "nbconvert_exporter": "python",
   "pygments_lexer": "ipython3",
   "version": "3.8.3"
  }
 },
 "nbformat": 4,
 "nbformat_minor": 4
}
