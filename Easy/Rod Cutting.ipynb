{
 "cells": [
  {
   "cell_type": "markdown",
   "metadata": {},
   "source": [
    "# ROD CUTTING\n",
    "\n",
    "Given a rod of length N inches and an array of prices, price[] that contains prices of all pieces of size smaller than N. Determine the maximum value obtainable by cutting up the rod and selling the pieces.\n",
    "\n",
    "### Example 1:\n",
    "\n",
    "#### Input:\n",
    "N = 8\n",
    "\n",
    "Price[] = {1, 5, 8, 9, 10, 17, 17, 20}\n",
    "#### Output:\n",
    "22\n",
    "#### Explanation:\n",
    "The maximum obtainable value is 22 by cutting in two pieces of lengths 2 and 6, i.e., 5+17=22.\n",
    "### Example 2:\n",
    "\n",
    "#### Input:\n",
    "N=8\n",
    "\n",
    "Price[] = {3, 5, 8, 9, 10, 17, 17, 20}\n",
    "#### Output:\n",
    "24\n",
    "#### Explanation: \n",
    "The maximum obtainable value is 24 by cutting the rod into 8 pieces of length 1, i.e, 8*3=24. \n",
    "\n",
    "### Your Task:  \n",
    "You don't need to read input or print anything. Your task is to complete the function cutRod() which takes the array A[] and its size N as inputs and returns the maximum price obtainable.\n",
    "\n",
    "**Expected Time Complexity:** O(N^2)\n",
    "\n",
    "**Expected Auxiliary Space:** O(N)\n",
    "\n",
    "### Constraints:\n",
    "1 ≤ N ≤ 1000\n",
    "\n",
    "1 ≤ Ai ≤ 10^5"
   ]
  },
  {
   "cell_type": "code",
   "execution_count": 1,
   "metadata": {},
   "outputs": [
    {
     "name": "stdout",
     "output_type": "stream",
     "text": [
      "2\n",
      "8\n",
      "1 5 8 9 10 17 17 20\n",
      "22\n",
      "8\n",
      "3 5 8 9 10 17 17 20\n",
      "24\n"
     ]
    }
   ],
   "source": [
    "# User function Template for python3\n",
    "class Solution:\n",
    "    def cutRod(self, price, n):\n",
    "        #code here\n",
    "        \n",
    "        # Define base conditions\n",
    "        solved = {0: 0, 1: price[0]}\n",
    "        \n",
    "        # Perform bottom-up approach\n",
    "        for total_length in range(2, n+1):\n",
    "            max_price = price[total_length - 1]\n",
    "\n",
    "            # Identify only the length to apply the first cut (or not) for maximum price\n",
    "            for cut_at in range(1, (total_length + 1) // 2 + 1):\n",
    "                max_price = max(max_price, solved[cut_at] + solved[total_length - cut_at])\n",
    "                \n",
    "            # Store the maximum price for intermediate lengths\n",
    "            solved[total_length] = max_price\n",
    "            \n",
    "        return solved[n]            \n",
    "\n",
    "#{ \n",
    "#  Driver Code Starts\n",
    "#Initial Template for Python 3\n",
    "def main():\n",
    "    T = int(input())\n",
    "    while(T > 0):\n",
    "        n = int(input())\n",
    "        a = [int(x) for x in input().strip().split()]\n",
    "        ob = Solution()\n",
    "        print(ob.cutRod(a, n))\n",
    "        T -= 1\n",
    "if __name__ == \"__main__\":\n",
    "    main()\n",
    "# } Driver Code Ends"
   ]
  }
 ],
 "metadata": {
  "kernelspec": {
   "display_name": "Python 3",
   "language": "python",
   "name": "python3"
  },
  "language_info": {
   "codemirror_mode": {
    "name": "ipython",
    "version": 3
   },
   "file_extension": ".py",
   "mimetype": "text/x-python",
   "name": "python",
   "nbconvert_exporter": "python",
   "pygments_lexer": "ipython3",
   "version": "3.8.3"
  }
 },
 "nbformat": 4,
 "nbformat_minor": 4
}
