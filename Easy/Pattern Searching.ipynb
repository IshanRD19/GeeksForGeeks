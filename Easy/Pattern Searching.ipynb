{
 "cells": [
  {
   "cell_type": "markdown",
   "metadata": {},
   "source": [
    "# PATTERN SEARCHING\n",
    "\n",
    "Given a text and a pattern, the task is to check if the pattern exists in the text or not.\n",
    "\n",
    "### Example 1:\n",
    "\n",
    "#### Input: \n",
    "text = \"geeksforgeeks\"\n",
    "       pat = \"geek\"\n",
    "#### Output: \n",
    "1\n",
    "#### Explanation: \n",
    "\"geek\" exits in\n",
    "\"geeksforgeeks\"\n",
    "### Example 2:\n",
    "\n",
    "#### Input: \n",
    "text = \"geeksforgeeks\"\n",
    "pat = \"gfg\" \n",
    "#### Output: \n",
    "0 \n",
    "#### Explanation: \n",
    "\"gfg\" does not exits in \n",
    "\"geeksforgeeks\"\n",
    "### Your Task:  \n",
    "You don't need to read input or print anything. Your task is to complete the function search() which takes the string two strings as inputs and returns 1 if the pattern is found, otherwise 0.\n",
    "\n",
    "**Expected Time Complexity:** O(|text| + |pat|)\n",
    "\n",
    "**Expected Auxiliary Space:** O(|text| + |pat|)\n",
    "\n",
    "### Constraints:\n",
    "1 ≤ |text|, |pat| ≤ 10^5\n",
    "\n",
    "Both the string contains lower case English alphabets"
   ]
  },
  {
   "cell_type": "code",
   "execution_count": null,
   "metadata": {},
   "outputs": [],
   "source": [
    "# User function Template for python3\n",
    "class Solution:\n",
    "\tdef search(self, text, pat):\n",
    "\t\t# code here\n",
    "\t\treturn 1 if pat in text else 0\n",
    "\n",
    "# { \n",
    "# Driver Code Starts\n",
    "# Initial Template for Python 3\n",
    "if __name__ == '__main__':\n",
    "\tT=int(input())\n",
    "\tfor i in range(T):\n",
    "\t\ttext,pat = input().split()\n",
    "\t\tob = Solution()\n",
    "\t\tanswer = ob.search(text,pat)\n",
    "\t\tprint(answer)\n",
    "# } Driver Code Ends"
   ]
  }
 ],
 "metadata": {
  "kernelspec": {
   "display_name": "Python 3.10.6 64-bit",
   "language": "python",
   "name": "python3"
  },
  "language_info": {
   "name": "python",
   "version": "3.10.6"
  },
  "orig_nbformat": 4,
  "vscode": {
   "interpreter": {
    "hash": "26de051ba29f2982a8de78e945f0abaf191376122a1563185a90213a26c5da77"
   }
  }
 },
 "nbformat": 4,
 "nbformat_minor": 2
}
