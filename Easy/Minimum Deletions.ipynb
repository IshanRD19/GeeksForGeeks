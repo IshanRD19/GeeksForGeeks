{
 "cells": [
  {
   "cell_type": "markdown",
   "metadata": {},
   "source": [
    "# MINIMUM DELETIONS\n",
    "\n",
    "Given a string of S as input. Your task is to write a program to remove or delete the minimum number of characters from the string so that the resultant string is a palindrome.\n",
    "Note: The order of characters in the string should be maintained.\n",
    "\n",
    "### Example 1:\n",
    "\n",
    "#### Input:\n",
    "S = \"aebcbda\"\n",
    "#### Output:\n",
    "2\n",
    "#### Explanation:\n",
    "Remove characters 'e' and 'd'.\n",
    "### Example 2:\n",
    "\n",
    "#### Input:\n",
    "S = \"geeksforgeeks\"\n",
    "#### Output:\n",
    "8\n",
    "#### Explanation:\n",
    "One of the possible result string can be \"eefee\", so answer is 13 - 5 = 8.\n",
    "### Your Task:  \n",
    "You don't need to read input or print anything. Your task is to complete the function minimumNumberOfDeletions() which takes the string S as inputs and returns the minimum number of deletions required to convert S into a pallindrome.\n",
    "\n",
    "**Expected Time Complexity:** O(|S|^2)\n",
    "\n",
    "**Expected Auxiliary Space:** O(|S|^2)\n",
    "\n",
    "### Constraints:\n",
    "1 ≤ |S| ≤ 10^3"
   ]
  },
  {
   "cell_type": "code",
   "execution_count": 1,
   "metadata": {},
   "outputs": [
    {
     "name": "stdout",
     "output_type": "stream",
     "text": [
      "4\n",
      "aebcbda\n",
      "2\n",
      "geeksforgeeks\n",
      "8\n",
      "zpybdlv\n",
      "6\n",
      "cbbd\n",
      "2\n"
     ]
    }
   ],
   "source": [
    "# User function Template for python3\n",
    "class Solution:\n",
    "    \n",
    "    # Function to find the length of longest common subsequence in two strings.\n",
    "    def lcs(self, x, y, s1, s2, explored_states):\n",
    "\n",
    "        # Check for base condition\n",
    "        if not x or not y:\n",
    "            return 0\n",
    "        \n",
    "        # Check for duplicate subproblems\n",
    "        if (x, y) in explored_states:\n",
    "            return explored_states[(x,y)]\n",
    "\n",
    "        # Check for matching character in string\n",
    "        if s1[x-1] == s2[y-1]:\n",
    "            explored_states[(x, y)] = 1 + self.lcs(x-1, y-1, s1, s2, explored_states)\n",
    "        else:\n",
    "            explored_states[(x, y)] = max(self.lcs(x-1, y, s1, s2, explored_states), self.lcs(x, y-1, s1, s2, explored_states))\n",
    "        \n",
    "        return explored_states[(x, y)]\n",
    "\n",
    "    \n",
    "    def minimumNumberOfDeletions(self, S):\n",
    "        # code here \n",
    "        length = len(S)\n",
    "        explored_states = {}\n",
    "        return length - self.lcs(length, length, S, S[::-1], explored_states)\n",
    "\n",
    "# { \n",
    "#  Driver Code Starts\n",
    "#Initial Template for Python 3\n",
    "if __name__ == '__main__': \n",
    "    t = int (input ())\n",
    "    for _ in range (t):\n",
    "        S=input()\n",
    "        ob = Solution()\n",
    "        print(ob.minimumNumberOfDeletions(S))\n",
    "# } Driver Code Ends"
   ]
  }
 ],
 "metadata": {
  "kernelspec": {
   "display_name": "Python 3",
   "language": "python",
   "name": "python3"
  },
  "language_info": {
   "codemirror_mode": {
    "name": "ipython",
    "version": 3
   },
   "file_extension": ".py",
   "mimetype": "text/x-python",
   "name": "python",
   "nbconvert_exporter": "python",
   "pygments_lexer": "ipython3",
   "version": "3.8.3"
  }
 },
 "nbformat": 4,
 "nbformat_minor": 4
}
