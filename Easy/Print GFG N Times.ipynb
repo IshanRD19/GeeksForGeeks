{
 "cells": [
  {
   "cell_type": "markdown",
   "metadata": {},
   "source": [
    "# PRINT GFG N TIMES\n",
    "\n",
    "Print GFG n times without the loop.\n",
    "\n",
    "### Example:\n",
    "\n",
    "#### Input:\n",
    "5\n",
    "#### Output:\n",
    "GFG GFG GFG GFG GFG\n",
    "### Your Task:\n",
    "This is a function problem. You only need to complete the function printGfg() that takes N as parameter and prints N times GFG recursively. Don't print newline, it will be added by the driver code.\n",
    "\n",
    "**Expected Time Complexity:** O(N).\n",
    "\n",
    "**Expected Auxiliary Space:** O(N) (Recursive).\n",
    "\n",
    "### Constraint:\n",
    "1<=N<=1000"
   ]
  },
  {
   "cell_type": "code",
   "execution_count": null,
   "metadata": {},
   "outputs": [],
   "source": [
    "# User function Template for python3\n",
    "class Solution:\n",
    "    def printGfg(self, n):\n",
    "        # Code here\n",
    "        if not n:\n",
    "            return\n",
    "        \n",
    "        print('GFG', end=' ')\n",
    "        self.printGfg(n-1)\n",
    "    \n",
    "        return\n",
    "        \n",
    "# { \n",
    "# Driver Code Starts\n",
    "# Initial Template for Python 3\n",
    "if __name__ == '__main__':\n",
    "    t = int(input())\n",
    "    for _ in range(t):\n",
    "        N = int(input())\n",
    "        ob = Solution()\n",
    "        ob.printGfg(N)\n",
    "        print()\n",
    "# } Driver Code Ends"
   ]
  }
 ],
 "metadata": {
  "language_info": {
   "name": "python"
  },
  "orig_nbformat": 4
 },
 "nbformat": 4,
 "nbformat_minor": 2
}
