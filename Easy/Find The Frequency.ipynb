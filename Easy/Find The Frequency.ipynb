{
 "cells": [
  {
   "cell_type": "markdown",
   "metadata": {},
   "source": [
    "# FIND THE FREQUENCY\n",
    "\n",
    "Given a vector of N positive integers and an integer X. The task is to find the frequency of X in vector.\n",
    "\n",
    "### Example 1:\n",
    "\n",
    "#### Input:\n",
    "N = 5\n",
    "\n",
    "vector = {1, 1, 1, 1, 1}\n",
    "\n",
    "X = 1\n",
    "#### Output: \n",
    "5\n",
    "#### Explanation:\n",
    "Frequency of 1 is 5.\n",
    "### Your Task:\n",
    "Your task is to complete the function findFrequency() which should count the frequency of X and return it."
   ]
  },
  {
   "cell_type": "code",
   "execution_count": 1,
   "metadata": {},
   "outputs": [
    {
     "name": "stdout",
     "output_type": "stream",
     "text": [
      "1\n",
      "5\n",
      "1 1 1 1 1\n",
      "1\n",
      "5\n"
     ]
    }
   ],
   "source": [
    "# User function Template for python3\n",
    "\"\"\"\n",
    "You're given an array (arr) of length n\n",
    "Return the frequency of element x in the given array\n",
    "\"\"\"\n",
    "def findFrequency (arr, n, x):\n",
    "    # Your Code Here\n",
    "    return arr.count(x)\n",
    "\n",
    "#{ \n",
    "#  Driver Code Starts\n",
    "#Initial Template for Python 3\n",
    "t = int (input ())\n",
    "for tc in range (t):\n",
    "    n = int (input ())\n",
    "    arr = list (map (int, input ().split ()))\n",
    "    x = int (input ())\n",
    "    print (findFrequency (arr, n, x))\n",
    "# } Driver Code Ends"
   ]
  }
 ],
 "metadata": {
  "kernelspec": {
   "display_name": "Python 3",
   "language": "python",
   "name": "python3"
  },
  "language_info": {
   "codemirror_mode": {
    "name": "ipython",
    "version": 3
   },
   "file_extension": ".py",
   "mimetype": "text/x-python",
   "name": "python",
   "nbconvert_exporter": "python",
   "pygments_lexer": "ipython3",
   "version": "3.8.3"
  }
 },
 "nbformat": 4,
 "nbformat_minor": 4
}
