{
 "cells": [
  {
   "cell_type": "markdown",
   "metadata": {},
   "source": [
    "# WAVE ARRAY\n",
    "\n",
    "Given a sorted array arr[] of distinct integers. Sort the array into a wave-like array(In Place).\n",
    "In other words, arrange the elements into a sequence such that arr[1] >= arr[2] <= arr[3] >= arr[4] <= arr[5].....\n",
    "\n",
    "If there are multiple solutions, find the lexicographically smallest one.\n",
    "\n",
    "### Example 1:\n",
    "\n",
    "#### Input:\n",
    "n = 5\n",
    "\n",
    "arr[] = {1,2,3,4,5}\n",
    "#### Output:\n",
    "2 1 4 3 5\n",
    "#### Explanation:\n",
    "Array elements after sorting it in wave form are 2 1 4 3 5.\n",
    "### Example 2:\n",
    "\n",
    "#### Input:\n",
    "n = 6\n",
    "\n",
    "arr[] = {2,4,7,8,9,10}\n",
    "#### Output:\n",
    "4 2 8 7 10 9\n",
    "#### Explanation:\n",
    "Array elements after sorting it in wave form are 4 2 8 7 10 9.\n",
    "### Your Task:\n",
    "The task is to complete the function convertToWave(), which converts the given array to a wave array.\n",
    "\n",
    "**NOTE:** The given array is sorted in ascending order, and you don't need to return anything to make changes in the original array itself.\n",
    "\n",
    "**Expected Time Complexity:** O(n).\n",
    "\n",
    "**Expected Auxiliary Space:** O(1).\n",
    "\n",
    "### Constraints:\n",
    "1 ≤ n ≤ 10^6\n",
    "\n",
    "0 ≤ arr[i] ≤10^7"
   ]
  },
  {
   "cell_type": "code",
   "execution_count": 1,
   "metadata": {},
   "outputs": [
    {
     "name": "stdout",
     "output_type": "stream",
     "text": [
      "2\n",
      "5\n",
      "1 2 3 4 5\n",
      "2 1 4 3 5 \n",
      "6\n",
      "2 4 7 8 9 10\n",
      "4 2 8 7 10 9 \n"
     ]
    }
   ],
   "source": [
    "from typing import List\n",
    "\n",
    "class Solution:\n",
    "    def convertToWave(self, n : int, a : List[int]) -> None:\n",
    "        # code here\n",
    "        \n",
    "        # For each pair of sorted elements\n",
    "        for i in range(0, n // 2):\n",
    "            \n",
    "            # Swap the elements in-place\n",
    "            a[2 * i], a[2 * i + 1] = a[2 * i + 1], a[2 * i]\n",
    "\n",
    "        return\n",
    "\n",
    "#{ \n",
    "#  Driver Code Starts\n",
    "class IntArray:\n",
    "    def __init__(self) -> None:\n",
    "        pass\n",
    "    def Input(self,n):\n",
    "        arr=[int(i) for i in input().strip().split()]#array input\n",
    "        return arr\n",
    "    def Print(self,arr):\n",
    "        for i in arr:\n",
    "            print(i,end=\" \")\n",
    "        print()\n",
    "\n",
    "if __name__==\"__main__\":\n",
    "    t = int(input())\n",
    "    for _ in range(t):\n",
    "        n = int(input())\n",
    "        a=IntArray().Input(n)\n",
    "        obj = Solution()\n",
    "        obj.convertToWave(n, a)\n",
    "        IntArray().Print(a)\n",
    "# } Driver Code Ends"
   ]
  }
 ],
 "metadata": {
  "kernelspec": {
   "display_name": "Python 3",
   "language": "python",
   "name": "python3"
  },
  "language_info": {
   "codemirror_mode": {
    "name": "ipython",
    "version": 3
   },
   "file_extension": ".py",
   "mimetype": "text/x-python",
   "name": "python",
   "nbconvert_exporter": "python",
   "pygments_lexer": "ipython3",
   "version": "3.8.3"
  }
 },
 "nbformat": 4,
 "nbformat_minor": 4
}
