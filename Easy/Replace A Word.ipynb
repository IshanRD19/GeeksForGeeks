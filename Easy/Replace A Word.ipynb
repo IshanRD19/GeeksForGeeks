{
 "cells": [
  {
   "cell_type": "markdown",
   "metadata": {},
   "source": [
    "# REPLACE A WORD\n",
    "\n",
    "Given three strings S, oldW and newW. Find all occurrences of the word oldW in S and replace them with word newW.\n",
    "\n",
    "### Example 1:\n",
    "\n",
    "#### Input: \n",
    "S = \"xxforxx xx for xx\"\n",
    "\n",
    "oldW = \"xx\"\n",
    "\n",
    "newW = \"Geeks\"\n",
    "#### Output: \n",
    "\"geeksforgeeks geeks for geeks\" \n",
    "\n",
    "#### Explanation: \n",
    "Replacing each \"xx\" with \"Geeks\" in S.\n",
    "### Example 2:\n",
    "\n",
    "#### Input: \n",
    "S = \"india is the xx country\"\n",
    "\n",
    "oldW = \"xx\"\n",
    "\n",
    "newW = \"best\"\n",
    "#### Output: \n",
    "\"india is the best country\"\n",
    "#### Explanation: \n",
    "Replacing each \"xx\" with \"best\" in S.\n",
    "\n",
    "### Your Task:  \n",
    "You dont need to read input or print anything. Complete the function ReplaceAll() which takes S, oldW and newW as input parameters and returns the string S after replacing all oldW with newW.\n",
    "\n",
    "**Expected Time Complexity: O(n^2)\n",
    "\n",
    "**Expected Auxiliary Space: O(1)\n",
    "\n",
    "### Constraints:\n",
    "1 <= |S| <= 1000\n",
    "\n",
    "1 <= |oldW|, |newW| <= |S|"
   ]
  },
  {
   "cell_type": "code",
   "execution_count": 1,
   "metadata": {},
   "outputs": [
    {
     "name": "stdout",
     "output_type": "stream",
     "text": [
      "2\n",
      "xxforxx xx for xx\n",
      "xx\n",
      "Geeks\n",
      "GeeksforGeeks Geeks for Geeks\n",
      "india is the xx country\n",
      "xx\n",
      "best\n",
      "india is the best country\n"
     ]
    }
   ],
   "source": [
    "# User function Template for python3\n",
    "class Solution:\n",
    "    def replaceAll (ob, S, oldW, newW):\n",
    "        # code here\n",
    "        return S.replace(oldW, newW)\n",
    "\n",
    "#{ \n",
    " # Driver Code Starts\n",
    "#Initial Template for Python 3\n",
    "\n",
    "#Initial Template for Python 3\n",
    "if __name__ == '__main__': \n",
    "    t = int (input ())\n",
    "    for _ in range (t):\n",
    "        S = input()\n",
    "        oldW = input()\n",
    "        newW = input()\n",
    "        \n",
    "        ob = Solution()\n",
    "        print(ob.replaceAll(S, oldW, newW))\n",
    "# } Driver Code Ends"
   ]
  }
 ],
 "metadata": {
  "kernelspec": {
   "display_name": "Python 3",
   "language": "python",
   "name": "python3"
  },
  "language_info": {
   "codemirror_mode": {
    "name": "ipython",
    "version": 3
   },
   "file_extension": ".py",
   "mimetype": "text/x-python",
   "name": "python",
   "nbconvert_exporter": "python",
   "pygments_lexer": "ipython3",
   "version": "3.8.3"
  }
 },
 "nbformat": 4,
 "nbformat_minor": 4
}
