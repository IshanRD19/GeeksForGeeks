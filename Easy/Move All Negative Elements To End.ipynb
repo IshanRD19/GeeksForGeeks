{
 "cells": [
  {
   "cell_type": "markdown",
   "metadata": {},
   "source": [
    "# MOVE ALL NEGATIVE ELEMENTS TO END\n",
    "\n",
    "Given an unsorted array arr[] of size N having both negative and positive integers. The task is place all negative element at the end of array without changing the order of positive element and negative element.\n",
    "\n",
    "### Example 1:\n",
    "\n",
    "#### Input : \n",
    "N = 8\n",
    "\n",
    "arr[] = {1, -1, 3, 2, -7, -5, 11, 6 }\n",
    "#### Output : \n",
    "1  3  2  11  6  -1  -7  -5\n",
    "\n",
    "### Example 2:\n",
    "\n",
    "#### Input: \n",
    "N=8\n",
    "\n",
    "arr[] = {-5, 7, -3, -4, 9, 10, -1, 11}\n",
    "#### Output :\n",
    "7  9  10  11  -5  -3  -4  -1\n",
    "\n",
    "### Your Task:  \n",
    "You don't need to read input or print anything. Your task is to complete the function segregateElements() which takes the array arr[] and its size N as inputs and store the answer in the array arr[] itself.\n",
    "\n",
    "**Expected Time Complexity:** O(N)\n",
    "\n",
    "**Expected Auxiliary Space:** O(N)\n",
    "\n",
    "### Constraints:\n",
    "1 ≤ N ≤ 10^5\n",
    "\n",
    "-10^5 ≤ arr[] ≤ 10^5"
   ]
  },
  {
   "cell_type": "code",
   "execution_count": 1,
   "metadata": {},
   "outputs": [
    {
     "name": "stdout",
     "output_type": "stream",
     "text": [
      "2\n",
      "8\n",
      "1 -1 3 2 -7 -5 11 6\n",
      "1 3 2 11 6 -1 -7 -5\n",
      "8\n",
      "-5 7 -3 -4 9 10 -1 11\n",
      "7 9 10 11 -5 -3 -4 -1\n"
     ]
    }
   ],
   "source": [
    "# User function Template for python3\n",
    "class Solution:\n",
    "    def segregateElements(self, arr, n):\n",
    "        # Your code goes here\n",
    "        pos = [i for i in arr if i >= 0]\n",
    "        neg = [i for i in arr if i < 0]\n",
    "        pos_len = len(pos)\n",
    "        arr[0:pos_len] = pos\n",
    "        arr[pos_len: pos_len + len(neg)] = neg\n",
    "        return\n",
    "\n",
    "#{ \n",
    "#  Driver Code Starts\n",
    "#Initial Template for Python 3\n",
    "def main():\n",
    "    T = int(input())\n",
    "    while(T > 0):\n",
    "        n = int(input())\n",
    "        a = [int(x) for x in input().strip().split()]\n",
    "        ob=Solution()\n",
    "        ob.segregateElements(a, n)\n",
    "        print(*a)\n",
    "        T -= 1\n",
    "if __name__ == \"__main__\":\n",
    "    main()\n",
    "# } Driver Code Ends"
   ]
  }
 ],
 "metadata": {
  "kernelspec": {
   "display_name": "Python 3",
   "language": "python",
   "name": "python3"
  },
  "language_info": {
   "codemirror_mode": {
    "name": "ipython",
    "version": 3
   },
   "file_extension": ".py",
   "mimetype": "text/x-python",
   "name": "python",
   "nbconvert_exporter": "python",
   "pygments_lexer": "ipython3",
   "version": "3.8.3"
  }
 },
 "nbformat": 4,
 "nbformat_minor": 4
}
