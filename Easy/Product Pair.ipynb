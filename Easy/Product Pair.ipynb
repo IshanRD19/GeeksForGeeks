{
 "cells": [
  {
   "cell_type": "markdown",
   "metadata": {},
   "source": [
    "# PRODUCT PAIR\n",
    "\n",
    "Given an array arr[] of size N of distinct elements and a number X, find if there is a pair in arr[] with product equal to X.\n",
    "\n",
    "### Example 1:\n",
    "\n",
    "#### Input:\n",
    "N = 4, X = 400\n",
    "arr[] = {10, 20, 9, 40}\n",
    "#### Output: \n",
    "Yes\n",
    "#### Explanation: \n",
    "As 10 * 40 = 400.\n",
    "\n",
    "### Example 2:\n",
    "\n",
    "#### Input:\n",
    "N = 4, X = 30\n",
    "arr[] = {-10, 20, 9, -40}\n",
    "#### Output: \n",
    "No\n",
    "#### Explanation: \n",
    "No pair with product 30.\n",
    "\n",
    "### Your Task:\n",
    "You don't need to read input or print anything. Your task is to complete the function isProduct() which takes the arr[], n and x as input parameters and returns an boolean value denoting the answer.\n",
    "\n",
    "**Expected Time Complexity:** O(N)\n",
    "\n",
    "**Expected Auxiliary Space:** \n",
    "O(N)\n",
    "\n",
    "### Constraints:\n",
    "1 ≤ N ≤ 10^5\n",
    "0 ≤ |arri| ≤ 10^8\n",
    "0 ≤ X ≤ 10^18\n",
    "\n",
    " "
   ]
  },
  {
   "cell_type": "code",
   "execution_count": null,
   "metadata": {},
   "outputs": [],
   "source": [
    "# User function Template for python3\n",
    "class Solution:\n",
    "    def isProduct(self, arr, n, x):\n",
    "        # code here\n",
    "        items = set(arr)\n",
    "        \n",
    "        for i in range(n):\n",
    "            if arr[i] and x / arr[i] in items:\n",
    "                return True\n",
    "        \n",
    "        return False\n",
    "\n",
    "# { \n",
    "# Driver Code Starts\n",
    "# Initial Template for Python 3\n",
    "if __name__ == '__main__':\n",
    "    tc = int(input())\n",
    "    while tc > 0:\n",
    "        n, x = list(map(int, input().strip().split()))\n",
    "        arr = list(map(int, input().strip().split()))\n",
    "        ob = Solution()\n",
    "        ans = ob.isProduct(arr, n, x)\n",
    "        if ans:\n",
    "            print(\"Yes\")\n",
    "        else:\n",
    "            print(\"No\")\n",
    "        tc -= 1\n",
    "# } Driver Code Ends"
   ]
  }
 ],
 "metadata": {
  "kernelspec": {
   "display_name": "Python 3.10.6 64-bit",
   "language": "python",
   "name": "python3"
  },
  "language_info": {
   "name": "python",
   "version": "3.10.6"
  },
  "orig_nbformat": 4,
  "vscode": {
   "interpreter": {
    "hash": "26de051ba29f2982a8de78e945f0abaf191376122a1563185a90213a26c5da77"
   }
  }
 },
 "nbformat": 4,
 "nbformat_minor": 2
}
