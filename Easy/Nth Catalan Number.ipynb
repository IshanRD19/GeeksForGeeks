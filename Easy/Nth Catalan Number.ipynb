{
 "cells": [
  {
   "cell_type": "markdown",
   "metadata": {},
   "source": [
    "# Nth CATALAN NUMBER\n",
    "\n",
    "Given a number N. The task is to find the Nth catalan number.\n",
    "The first few Catalan numbers for N = 0, 1, 2, 3, … are 1, 1, 2, 5, 14, 42, 132, 429, 1430, 4862, …\n",
    "\n",
    "**Note:** Positions start from 0 as shown above.\n",
    "\n",
    "### Example 1:\n",
    "\n",
    "#### Input:\n",
    "N = 5\n",
    "#### Output: \n",
    "42\n",
    "### Example 2:\n",
    "\n",
    "Input:\n",
    "N = 4\n",
    "#### Output: \n",
    "14\n",
    "### Your Task:\n",
    "Complete findCatalan() function that takes n as an argument and returns the Nth Catalan number. The output is printed by the driver code.\n",
    "\n",
    "**Expected Time Complexity:** O(N).\n",
    "\n",
    "**Expected Auxiliary Space:** O(N).\n",
    "\n",
    "### Constraints:\n",
    "1 <= N <= 100\n",
    "\n",
    "## Approach 1: Recursive Method"
   ]
  },
  {
   "cell_type": "code",
   "execution_count": 1,
   "metadata": {},
   "outputs": [
    {
     "name": "stdout",
     "output_type": "stream",
     "text": [
      "42\n"
     ]
    }
   ],
   "source": [
    "# User function Template for python3\n",
    "class Solution:\n",
    "    #Function to find the nth catalan number.\n",
    "    def findCatalan(self,n):\n",
    "        # return the nth Catalan number.\n",
    "        if n < 2:\n",
    "            return 1\n",
    "            \n",
    "        result = 0\n",
    "        \n",
    "        for i in range(n):\n",
    "            result += self.findCatalan(i) * self.findCatalan(n-i-1)\n",
    "            \n",
    "        return result\n",
    "\n",
    "# { \n",
    "# Driver Code Starts\n",
    "# Initial Template for Python 3\n",
    "if __name__ == '__main__': \n",
    "    t=int(input())\n",
    "    for tcs in range(t):\n",
    "        n=int(input())\n",
    "        print(Solution().findCatalan(n))\n",
    "# } Driver Code Ends"
   ]
  },
  {
   "cell_type": "markdown",
   "metadata": {},
   "source": [
    "## Approach 2: Using Dynamic Programming"
   ]
  },
  {
   "cell_type": "code",
   "execution_count": 2,
   "metadata": {},
   "outputs": [
    {
     "name": "stdout",
     "output_type": "stream",
     "text": [
      "42\n"
     ]
    }
   ],
   "source": [
    "# User function Template for python3\n",
    "class Solution:\n",
    "    #Function to find the nth catalan number.\n",
    "    def findCatalan(self,n):\n",
    "        catalan = {0: 1, 1: 1}\n",
    "        \n",
    "        for i in range(2, n+1):\n",
    "            \n",
    "            for j in range(i):\n",
    "                \n",
    "                if i in catalan:\n",
    "                    catalan[i] += catalan[j] * catalan[i-j-1]\n",
    "                else:\n",
    "                    catalan[i] = catalan[j] * catalan[i-j-1]\n",
    "                \n",
    "        return catalan[n]\n",
    "\n",
    "# { \n",
    "# Driver Code Starts\n",
    "# Initial Template for Python 3\n",
    "if __name__ == '__main__': \n",
    "    t=int(input())\n",
    "    for tcs in range(t):\n",
    "        n=int(input())\n",
    "        print(Solution().findCatalan(n))\n",
    "# } Driver Code Ends"
   ]
  }
 ],
 "metadata": {
  "kernelspec": {
   "display_name": "Python 3.10.6 64-bit",
   "language": "python",
   "name": "python3"
  },
  "language_info": {
   "codemirror_mode": {
    "name": "ipython",
    "version": 3
   },
   "file_extension": ".py",
   "mimetype": "text/x-python",
   "name": "python",
   "nbconvert_exporter": "python",
   "pygments_lexer": "ipython3",
   "version": "3.10.6"
  },
  "orig_nbformat": 4,
  "vscode": {
   "interpreter": {
    "hash": "26de051ba29f2982a8de78e945f0abaf191376122a1563185a90213a26c5da77"
   }
  }
 },
 "nbformat": 4,
 "nbformat_minor": 2
}
