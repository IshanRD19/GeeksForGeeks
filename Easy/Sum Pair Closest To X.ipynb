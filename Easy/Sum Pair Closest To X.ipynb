{
 "cells": [
  {
   "cell_type": "markdown",
   "metadata": {},
   "source": [
    "# SUM PAIR CLOSEST TO X\n",
    "\n",
    "Given a sorted array arr[] of size N and a number X, find a pair in array whose sum is closest to X.\n",
    "\n",
    "### Example 1:\n",
    "\n",
    "#### Input:\n",
    "N = 6, X = 54\n",
    "\n",
    "arr[] = {10, 22, 28, 29, 30, 40}\n",
    "#### Output:\n",
    "22 30\n",
    "#### Explanation:\n",
    "As 22 + 30 = 52 is closest to 54.\n",
    "\n",
    "### Example 2:\n",
    "\n",
    "#### Input:\n",
    "N = 5, X = 10\n",
    "\n",
    "arr[] = {1, 2, 3, 4, 5}\n",
    "#### Output:\n",
    "4 5\n",
    "#### Explanation:\n",
    "As 4 + 5 = 9 is closest to 10.\n",
    "\n",
    "### Your Task:\n",
    "You don't need to read input or print anything. Your task is to complete the function sumClosest() which takes arr[] of size n and x as input parameters and returns a list containing 2 integers denoting the required pair. If multiple pairs are possible return the largest sum pair.\n",
    "\n",
    "**Expected Time Complexity:** O(N)\n",
    "\n",
    "**Expected Auxiliary Space:** O(1)\n",
    "\n",
    "### Constraints:\n",
    "2 <= N <= 10^5\n",
    "\n",
    "0 <= X <= 10^6\n",
    "\n",
    "0 <= arr[i] <= 10^6"
   ]
  },
  {
   "cell_type": "code",
   "execution_count": 1,
   "metadata": {},
   "outputs": [
    {
     "name": "stdout",
     "output_type": "stream",
     "text": [
      "2\n",
      "6 54\n",
      "10 22 28 29 30 40\n",
      "22 30\n",
      "5 10\n",
      "1 2 3 4 5\n",
      "4 5\n"
     ]
    }
   ],
   "source": [
    "# User function Template for python3\n",
    "class Solution:\n",
    "    def sumClosest(self, arr, x):\n",
    "        # code here\n",
    "        start, end = 0, n-1 \n",
    "        gap = 10 ** 6\n",
    "        result = []\n",
    "\n",
    "        while start < end:\n",
    "            sum_pair = arr[start] + arr[end]\n",
    "            \n",
    "            # Check for exact match\n",
    "            if sum_pair == x:\n",
    "                return [arr[start], arr[end]]\n",
    "            \n",
    "            else:\n",
    "                \n",
    "                # Compare the closeness of sum pair\n",
    "                if abs(sum_pair - x) < gap:\n",
    "                    gap = abs(sum_pair - x)\n",
    "                    result = [arr[start], arr[end]]\n",
    "                \n",
    "                # Update the sum pair\n",
    "                if sum_pair < x:\n",
    "                    start += 1\n",
    "                else:\n",
    "                    end -= 1\n",
    "\n",
    "        return result\n",
    "\n",
    "#{ \n",
    "# Driver Code Starts\n",
    "# Initial Template for Python 3\n",
    "if __name__ == '__main__':\n",
    "    tc = int(input())\n",
    "    while tc > 0:\n",
    "        n, x = list(map(int, input().strip().split()))\n",
    "        arr = list(map(int, input().strip().split()))\n",
    "        ob = Solution()\n",
    "        ans = ob.sumClosest(arr, x)\n",
    "        print(str(ans[0]) + \" \" + str(ans[1]))\n",
    "        tc -= 1\n",
    "# } Driver Code Ends"
   ]
  }
 ],
 "metadata": {
  "kernelspec": {
   "display_name": "Python 3",
   "language": "python",
   "name": "python3"
  },
  "language_info": {
   "codemirror_mode": {
    "name": "ipython",
    "version": 3
   },
   "file_extension": ".py",
   "mimetype": "text/x-python",
   "name": "python",
   "nbconvert_exporter": "python",
   "pygments_lexer": "ipython3",
   "version": "3.8.3"
  }
 },
 "nbformat": 4,
 "nbformat_minor": 4
}
