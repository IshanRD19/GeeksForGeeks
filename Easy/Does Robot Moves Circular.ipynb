{
 "cells": [
  {
   "cell_type": "markdown",
   "metadata": {},
   "source": [
    "# DOES ROBOT MOVES CIRCULAR\n",
    "\n",
    "Given a sequence of moves for a robot. Check if the sequence is circular or not.\n",
    "\n",
    "A sequence of moves is circular if the first and last positions of the robot are the same. A move can be one of the following :\n",
    "    G - Go one unit\n",
    "    L - Turn left\n",
    "    R - Turn right\n",
    "\n",
    "### Example 1:\n",
    "\n",
    "#### Input: \n",
    "path = \"GLGLGLG\"\n",
    "#### Output: \n",
    "\"Circular\"\n",
    "#### Explanation: \n",
    "If we start form \n",
    "(0,0) in a plane then we will \n",
    "back to (0,0) by the end of the \n",
    "sequence.\n",
    "### Example 2:\n",
    "\n",
    "#### Input: \n",
    "path = \"GGGGL\"\n",
    "#### Output: \n",
    "\"Not Circular\"\n",
    "#### Explanation: \n",
    "We can't return to \n",
    "same place at the end of the path.\n",
    "### Your Task:  \n",
    "You don't need to read input or print anything. Your task is to complete the function isCircular() which takes the string path as input and returns \"Circular\" if the path is circular else returns \"Not Circular\".\n",
    "\n",
    "**Expected Time Complexity:** O(|S|)\n",
    "\n",
    "**Expected Auxiliary Space:** O(1)\n",
    "\n",
    "### Constraints:\n",
    "1 ≤ |S| ≤ 10^5"
   ]
  },
  {
   "cell_type": "code",
   "execution_count": null,
   "metadata": {},
   "outputs": [],
   "source": [
    "# User function Template for python3\n",
    "class Solution:\n",
    "    def isCircular(self, path):\n",
    "        # Left and Right\n",
    "        directions = {'E': ['N', 'S'], 'W': ['S', 'N'], 'N': ['W', 'E'], 'S': ['E', 'W']}\n",
    "\n",
    "        # X and Y\n",
    "        move = {'E': [1, 0], 'W': [-1, 0], 'N': [0, 1], 'S': [0, -1]}\n",
    "\n",
    "        X, Y = 0, 0\n",
    "        towards = 'E'\n",
    "\n",
    "        for p in path:\n",
    "            if p == 'G':\n",
    "                X += move[towards][0]\n",
    "                Y += move[towards][1]\n",
    "            else:\n",
    "                towards = directions[towards][0] if p == 'L' else directions[towards][1]\n",
    "\n",
    "        return 'Circular' if not X and not Y else 'Not Circular'\n",
    "\n",
    "# { \n",
    "# Driver Code Starts\n",
    "# Initial Template for Python 3\n",
    "if __name__ == '__main__':\n",
    "    t = int(input())\n",
    "    for _ in range(t):\n",
    "        path = input()\n",
    "        solObj = Solution()\n",
    "        print(solObj.isCircular(path))\n",
    "# } Driver Code Ends"
   ]
  }
 ],
 "metadata": {
  "kernelspec": {
   "display_name": "Python 3.10.6 64-bit",
   "language": "python",
   "name": "python3"
  },
  "language_info": {
   "name": "python",
   "version": "3.10.6"
  },
  "orig_nbformat": 4,
  "vscode": {
   "interpreter": {
    "hash": "26de051ba29f2982a8de78e945f0abaf191376122a1563185a90213a26c5da77"
   }
  }
 },
 "nbformat": 4,
 "nbformat_minor": 2
}
