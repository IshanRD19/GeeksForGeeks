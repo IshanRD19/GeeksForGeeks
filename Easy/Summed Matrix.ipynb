{
 "cells": [
  {
   "cell_type": "markdown",
   "metadata": {},
   "source": [
    "# SUMMED MATRIX\n",
    "\n",
    "A matrix is constructed of size n*n. such that Mi,j= i+j. Count the number of cells having value q.\n",
    "Note: Assume, the array is in 1-based indexing.\n",
    "\n",
    "### Example 1:\n",
    "\n",
    "#### Input:\n",
    "n = 4, q = 7\n",
    "#### Output:\n",
    "2\n",
    "#### Explanation:\n",
    "Matrix becomes\n",
    "2 3 4 5 \n",
    "3 4 5 6 \n",
    "4 5 6 7\n",
    "5 6 7 8\n",
    "The count of 7 is 2.\n",
    "### Example 2:\n",
    "\n",
    "#### Input:\n",
    "n = 5, q = 4\n",
    "#### Output:\n",
    "3\n",
    "#### Explanation:\n",
    "Matrix becomes\n",
    "2 3 4 5 6 \n",
    "3 4 5 6 7 \n",
    "4 5 6 7 8 \n",
    "5 6 7 8 9 \n",
    "6 7 8 9 10 \n",
    "The count of 4 is 3.\n",
    " \n",
    "### Your Task:\n",
    "You don't need to read input or print anything. Your task is to complete the function sumMatrix() which takes 2 Integers n, and q as input and returns the count of q in the n*n matrix.\n",
    "\n",
    "**Expected Time Complexity:** O(1)\n",
    "\n",
    "**Expected Auxiliary Space:** O(1)\n",
    "\n",
    "### Constraints:\n",
    "1 ≤ n,q ≤ 10^18"
   ]
  },
  {
   "cell_type": "code",
   "execution_count": 1,
   "metadata": {},
   "outputs": [
    {
     "name": "stdout",
     "output_type": "stream",
     "text": [
      "3\n"
     ]
    }
   ],
   "source": [
    "# User function Template for python3\n",
    "class Solution:\n",
    "    def sumMatrix(self, n, q):\n",
    "        # code here \n",
    "        \n",
    "        if q < 2 or q > 2*n:\n",
    "            return 0\n",
    "        \n",
    "        if q > n:\n",
    "            return (2*n + 1) - q\n",
    "        \n",
    "        return q-1\n",
    "\n",
    "# { \n",
    "# Driver Code Starts\n",
    "# Initial Template for Python 3\n",
    "if __name__ == '__main__': \n",
    "    t = int (input ())\n",
    "    for _ in range (t):\n",
    "        n,q=map(int,input().split())\n",
    "        \n",
    "        ob = Solution()\n",
    "        print(ob.sumMatrix(n,q))\n",
    "# } Driver Code Ends"
   ]
  }
 ],
 "metadata": {
  "kernelspec": {
   "display_name": "Python 3.10.6 64-bit",
   "language": "python",
   "name": "python3"
  },
  "language_info": {
   "codemirror_mode": {
    "name": "ipython",
    "version": 3
   },
   "file_extension": ".py",
   "mimetype": "text/x-python",
   "name": "python",
   "nbconvert_exporter": "python",
   "pygments_lexer": "ipython3",
   "version": "3.10.6"
  },
  "orig_nbformat": 4,
  "vscode": {
   "interpreter": {
    "hash": "26de051ba29f2982a8de78e945f0abaf191376122a1563185a90213a26c5da77"
   }
  }
 },
 "nbformat": 4,
 "nbformat_minor": 2
}
