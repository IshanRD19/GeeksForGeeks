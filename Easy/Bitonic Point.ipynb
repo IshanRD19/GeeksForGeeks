{
 "cells": [
  {
   "cell_type": "markdown",
   "metadata": {},
   "source": [
    "# BITONIC POINT\n",
    "\n",
    "Given an array arr of n elements which is first increasing and then may be decreasing, find the maximum element in the array.\n",
    "Note: If the array is increasing then just print then last element will be the maximum value.\n",
    "\n",
    "### Example 1:\n",
    "\n",
    "#### Input: \n",
    "n = 9\n",
    "\n",
    "arr[] = {1,15,25,45,42,21,17,12,11}\n",
    "#### Output: \n",
    "45\n",
    "#### Explanation: \n",
    "Maximum element is 45.\n",
    "### Example 2:\n",
    "\n",
    "#### Input: \n",
    "n = 5\n",
    "\n",
    "arr[] = {1, 45, 47, 50, 5}\n",
    "#### Output: \n",
    "50\n",
    "#### Explanation: \n",
    "Maximum element is 50.\n",
    "### Your Task:  \n",
    "You don't need to read input or print anything. Your task is to complete the function findMaximum() which takes the array arr[], and n as parameters and returns an integer denoting the answer.\n",
    "\n",
    "**Expected Time Complexity:** O(logn)\n",
    "\n",
    "**Expected Auxiliary Space:** O(1)\n",
    "\n",
    "### Constraints:\n",
    "3 ≤ n ≤ 10^6\n",
    "\n",
    "1 ≤ arr[i] ≤ 10^6"
   ]
  },
  {
   "cell_type": "code",
   "execution_count": 2,
   "metadata": {},
   "outputs": [
    {
     "name": "stdout",
     "output_type": "stream",
     "text": [
      "50\n"
     ]
    }
   ],
   "source": [
    "# User function Template for python3\n",
    "class Solution:\n",
    "\n",
    "    def findMaximum(self,arr, n):\n",
    "        # code here\n",
    "        start, end = 0, n-1\n",
    "\n",
    "        # Apply Binary Search\n",
    "        while start <= end:\n",
    "            middle = start + (end - start) // 2\n",
    "\n",
    "            if middle == n-1 or arr[middle-1] < arr[middle] > arr[middle+1]:\n",
    "                break\n",
    "\n",
    "            elif arr[middle-1] < arr[middle] < arr[middle+1]:\n",
    "                start = middle + 1\n",
    "\n",
    "            else:\n",
    "                end = middle - 1\n",
    "\n",
    "        return arr[middle]\n",
    "\t\t    \n",
    "#{ \n",
    "# Driver Code Starts\n",
    "#Initial Template for Python 3\n",
    "if __name__ == '__main__':\n",
    "    tc = int(input())\n",
    "    while tc > 0:\n",
    "        n = int(input())\n",
    "        arr = list(map(int, input().strip().split()))\n",
    "        ob = Solution()\n",
    "        ans = ob.findMaximum(arr, n)\n",
    "        print(ans)\n",
    "        tc -= 1\n",
    "# } Driver Code Ends"
   ]
  }
 ],
 "metadata": {
  "kernelspec": {
   "display_name": "Python 3.10.6 64-bit",
   "language": "python",
   "name": "python3"
  },
  "language_info": {
   "codemirror_mode": {
    "name": "ipython",
    "version": 3
   },
   "file_extension": ".py",
   "mimetype": "text/x-python",
   "name": "python",
   "nbconvert_exporter": "python",
   "pygments_lexer": "ipython3",
   "version": "3.10.6"
  },
  "orig_nbformat": 4,
  "vscode": {
   "interpreter": {
    "hash": "26de051ba29f2982a8de78e945f0abaf191376122a1563185a90213a26c5da77"
   }
  }
 },
 "nbformat": 4,
 "nbformat_minor": 2
}
