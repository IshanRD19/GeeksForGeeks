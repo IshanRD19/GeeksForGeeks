{
 "cells": [
  {
   "cell_type": "markdown",
   "metadata": {},
   "source": [
    "# CHECK IF TWO STRINGS ARE K-ANAGRAMS OR NOT\n",
    "\n",
    "Given two strings of lowercase alphabets and a value K, your task is to complete the given function which tells if  two strings are K-anagrams of each other or not.\n",
    "\n",
    "Two strings are called K-anagrams if both of the below conditions are true.\n",
    "1. Both have same number of characters.\n",
    "\n",
    "2. Two strings can become anagram by changing at most K characters in a string.\n",
    "\n",
    "### Example:\n",
    "\n",
    "#### Input:\n",
    "str1 = \"fodr\", str2=\"gork\"\n",
    "\n",
    "k = 2\n",
    "#### Output:\n",
    "1\n",
    "#### Explanation:\n",
    "Can change fd to gk\n",
    "### Your Task:\n",
    "Since this is a function problem, you don't need to take any input. Just complete the given function areKAnagrams that returns true if the strings can be turned into K-anagrams, else return false.\n",
    "\n",
    "### Constraints:\n",
    "1 ≤ length of String ≤ 10^5\n",
    "\n",
    "1 ≤ K ≤ length of String"
   ]
  },
  {
   "cell_type": "code",
   "execution_count": 1,
   "metadata": {},
   "outputs": [
    {
     "name": "stdout",
     "output_type": "stream",
     "text": [
      "3\n",
      "fodr gork\n",
      "2\n",
      "1\n",
      "gmigmeeafnvezua rowxjiftoofihdh\n",
      "2\n",
      "0\n",
      "veirpr wqsrrw\n",
      "4\n",
      "1\n"
     ]
    }
   ],
   "source": [
    "# User function template for Python 3\n",
    "class Solution:\n",
    "    def areKAnagrams(self, str1, str2, k):\n",
    "        # code here\n",
    "        # Alternate: Make a map with key as char and value as count\n",
    "        \n",
    "        length = len(str1)\n",
    "\n",
    "        # Check for trivial condition\n",
    "        if length != len(str2):\n",
    "            return False\n",
    "        \n",
    "        character_switches = 0\n",
    "        \n",
    "        # For every character in str1\n",
    "        for i in range(length):\n",
    "\n",
    "            # Check if the character exists in the second string\n",
    "            if str1[i] in str2:\n",
    "                \n",
    "                # Remove the used character from str2\n",
    "                str2 = str2[:str2.find(str1[i])] + str2[str2.find(str1[i]) + 1:]\n",
    "                \n",
    "            else:\n",
    "                character_switches += 1\n",
    "                \n",
    "            # Check for terminal condition\n",
    "            if character_switches > k:\n",
    "                return False\n",
    "\n",
    "        return True\n",
    "\n",
    "#{ \n",
    "#  Driver Code Starts\n",
    "#Initial template for Python 3\n",
    "if __name__=='__main__':\n",
    "    t = int(input())\n",
    "    for i in range(t):\n",
    "        arr = input().strip().split()\n",
    "        k = int(input())\n",
    "        ob = Solution()\n",
    "        if ob.areKAnagrams(arr[0], arr[1], k):\n",
    "            print(1)\n",
    "        else:\n",
    "            print(0)\n",
    "# } Driver Code Ends"
   ]
  }
 ],
 "metadata": {
  "kernelspec": {
   "display_name": "Python 3",
   "language": "python",
   "name": "python3"
  },
  "language_info": {
   "codemirror_mode": {
    "name": "ipython",
    "version": 3
   },
   "file_extension": ".py",
   "mimetype": "text/x-python",
   "name": "python",
   "nbconvert_exporter": "python",
   "pygments_lexer": "ipython3",
   "version": "3.8.3"
  }
 },
 "nbformat": 4,
 "nbformat_minor": 4
}
