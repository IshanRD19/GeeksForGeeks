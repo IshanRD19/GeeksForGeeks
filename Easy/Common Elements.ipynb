{
 "cells": [
  {
   "cell_type": "markdown",
   "metadata": {},
   "source": [
    "# COMMON ELEMENTS\n",
    "\n",
    "Given three arrays sorted in increasing order. Find the elements that are common in all three arrays.\n",
    "\n",
    "**Note:** can you take care of the duplicates without using any additional Data Structure?\n",
    "\n",
    "### Example 1:\n",
    "\n",
    "#### Input:\n",
    "n1 = 6; A = {1, 5, 10, 20, 40, 80}\n",
    "\n",
    "n2 = 5; B = {6, 7, 20, 80, 100}\n",
    "\n",
    "n3 = 8; C = {3, 4, 15, 20, 30, 70, 80, 120}\n",
    "#### Output:\n",
    "20 80\n",
    "#### Explanation:\n",
    "20 and 80 are the only common elements in A, B and C.\n",
    " \n",
    "### Your Task:  \n",
    "You don't need to read input or print anything. Your task is to complete the function commonElements() which take the 3 arrays A[], B[], C[] and their respective sizes n1, n2 and n3 as inputs and returns an array containing the common element present in all the 3 arrays in sorted order. \n",
    "If there are no such elements return an empty array. In this case the output will be printed as -1.\n",
    "\n",
    "**Expected Time Complexity:** O(n1 + n2 + n3)\n",
    "\n",
    "**Expected Auxiliary Space:** O(n1 + n2 + n3)\n",
    "\n",
    "### Constraints:\n",
    "1 <= n1, n2, n3 <= 10^5\n",
    "\n",
    "The array elements can be both positive or negative integers."
   ]
  },
  {
   "cell_type": "code",
   "execution_count": 1,
   "metadata": {},
   "outputs": [
    {
     "name": "stdout",
     "output_type": "stream",
     "text": [
      "1\n",
      "6 5 8\n",
      "1 5 10 20 40 80\n",
      "6 7 20 80 100\n",
      "3 4 15 20 30 70 80 120\n",
      "20 80 \n"
     ]
    }
   ],
   "source": [
    "# User function Template for python3\n",
    "class Solution:\n",
    "    def commonElements (self,A, B, C, n1, n2, n3):\n",
    "        # your code here\n",
    "        a, b, c = 0, 0, 0\n",
    "        result = []\n",
    "        \n",
    "        # Iterate until either array is completely traversed \n",
    "        while a < n1 and b < n2 and c < n3:\n",
    "            \n",
    "            # Check for common element across all three arrays\n",
    "            if A[a] == B[b] == C[c]:\n",
    "                \n",
    "                # Ignore duplicate entries\n",
    "                if A[a] not in result:\n",
    "                    result.append(A[a])\n",
    "\n",
    "                a += 1\n",
    "                b += 1\n",
    "                c += 1\n",
    "                continue\n",
    "            \n",
    "            # Increment the index pointing to the lowest integer\n",
    "            if A[a] < B[b]:\n",
    "                \n",
    "                if A[a] < C[c]:\n",
    "                    a += 1\n",
    "                else:\n",
    "                    c += 1\n",
    "            else:\n",
    "                if B[b] < C[c]:\n",
    "                    b += 1\n",
    "                else:\n",
    "                    c += 1\n",
    "                    \n",
    "        return result\n",
    "\n",
    "# { \n",
    "# Driver Code Starts\n",
    "# Initial Template for Python 3\n",
    "t = int (input ())\n",
    "for tc in range (t):\n",
    "    n1, n2, n3 = list(map(int,input().split()))\n",
    "    A = list(map(int,input().split()))\n",
    "    B = list(map(int,input().split()))\n",
    "    C = list(map(int,input().split()))\n",
    "    ob = Solution()\n",
    "    res = ob.commonElements (A, B, C, n1, n2, n3)\n",
    "    if len (res) == 0:\n",
    "        print (-1)\n",
    "    else:\n",
    "        for i in range (len (res)):\n",
    "            print (res[i], end=\" \")\n",
    "        print ()\n",
    "# } Driver Code Ends"
   ]
  }
 ],
 "metadata": {
  "kernelspec": {
   "display_name": "Python 3",
   "language": "python",
   "name": "python3"
  },
  "language_info": {
   "codemirror_mode": {
    "name": "ipython",
    "version": 3
   },
   "file_extension": ".py",
   "mimetype": "text/x-python",
   "name": "python",
   "nbconvert_exporter": "python",
   "pygments_lexer": "ipython3",
   "version": "3.8.3"
  }
 },
 "nbformat": 4,
 "nbformat_minor": 4
}
