{
 "cells": [
  {
   "cell_type": "markdown",
   "metadata": {},
   "source": [
    "# ANAGRAM\n",
    "\n",
    "Given two strings a and b consisting of lowercase characters. The task is to check whether two given strings are an anagram of each other or not. An anagram of a string is another string that contains the same characters, only the order of characters can be different. For example, act and tac are an anagram of each other.\n",
    "\n",
    "### Example 1:\n",
    "\n",
    "#### Input:\n",
    "a = geeksforgeeks, b = forgeeksgeeks\n",
    "#### Output: \n",
    "YES\n",
    "#### Explanation: \n",
    "Both the string have same characters with same frequency. So, both are anagrams.\n",
    "### Example 2:\n",
    "\n",
    "#### Input:\n",
    "a = allergy, b = allergic\n",
    "#### Output: \n",
    "NO\n",
    "#### Explanation: \n",
    "Characters in both the strings are not same, so they are not anagrams.\n",
    "### Your Task:\n",
    "You don't need to read input or print anything. Your task is to complete the function isAnagram() which takes the string a and string b as input parameter and check if the two strings are an anagram of each other. The function returns true if the strings are anagram else it returns false.\n",
    "\n",
    "**Note:** In python, you have to return True or False.\n",
    "\n",
    "**Expected Time Complexity:** O(|a|+|b|).\n",
    "\n",
    "**Expected Auxiliary Space:** O(Number of distinct characters).\n",
    "\n",
    "**Note:** |s| represents the length of string s.\n",
    "\n",
    "### Constraints:\n",
    "1 ≤ |a|,|b| ≤ 10^5"
   ]
  },
  {
   "cell_type": "code",
   "execution_count": 1,
   "metadata": {},
   "outputs": [
    {
     "name": "stdout",
     "output_type": "stream",
     "text": [
      "NO\n"
     ]
    }
   ],
   "source": [
    "# User function Template for python3\n",
    "class Solution:\n",
    "    #Function is to check whether two strings are anagram of each other or not.\n",
    "    def isAnagram(self,a,b):\n",
    "        #code here\n",
    "        if len(a) != len(b):\n",
    "            return False\n",
    "            \n",
    "        map_a, map_b = {}, {}\n",
    "        \n",
    "        for i in range(len(a)):\n",
    "            \n",
    "            if a[i] in map_a:\n",
    "                map_a[a[i]] += 1\n",
    "            else:\n",
    "                map_a[a[i]] = 1\n",
    "\n",
    "            if b[i] in map_b:\n",
    "                map_b[b[i]] += 1\n",
    "            else:\n",
    "                map_b[b[i]] = 1\n",
    "\n",
    "        return map_a == map_b\n",
    "\n",
    "# { \n",
    "# Driver Code Starts\n",
    "# Initial Template for Python 3\n",
    "if __name__=='__main__':\n",
    "    t = int(input())\n",
    "    for i in range(t):\n",
    "        a,b=map(str,input().strip().split())\n",
    "        if(Solution().isAnagram(a,b)):\n",
    "            print(\"YES\")\n",
    "        else:\n",
    "            print(\"NO\") \n",
    "# } Driver Code Ends"
   ]
  }
 ],
 "metadata": {
  "kernelspec": {
   "display_name": "Python 3.10.6 64-bit",
   "language": "python",
   "name": "python3"
  },
  "language_info": {
   "codemirror_mode": {
    "name": "ipython",
    "version": 3
   },
   "file_extension": ".py",
   "mimetype": "text/x-python",
   "name": "python",
   "nbconvert_exporter": "python",
   "pygments_lexer": "ipython3",
   "version": "3.10.6"
  },
  "orig_nbformat": 4,
  "vscode": {
   "interpreter": {
    "hash": "26de051ba29f2982a8de78e945f0abaf191376122a1563185a90213a26c5da77"
   }
  }
 },
 "nbformat": 4,
 "nbformat_minor": 2
}
