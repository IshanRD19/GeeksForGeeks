{
 "cells": [
  {
   "cell_type": "markdown",
   "metadata": {},
   "source": [
    "# SUBARRAY WITH 0 SUM\n",
    "\n",
    "Given an array of positive and negative numbers. Find if there is a subarray (of size at-least one) with 0 sum.\n",
    "\n",
    "### Example 1:\n",
    "\n",
    "#### Input:\n",
    "5\n",
    "\n",
    "4 2 -3 1 6\n",
    "\n",
    "#### Output: \n",
    "Yes\n",
    "\n",
    "#### Explanation: \n",
    "2, -3, 1 is the subarray with sum 0.\n",
    "### Example 2:\n",
    "\n",
    "#### Input:\n",
    "5\n",
    "\n",
    "4 2 0 1 6\n",
    "\n",
    "#### Output: \n",
    "Yes\n",
    "\n",
    "#### Explanation: \n",
    "0 is one of the element in the array so there exist a subarray with sum 0.\n",
    "\n",
    "### Your Task:\n",
    "You only need to complete the function subArrayExists() that takes array and n as parameters and returns true or false depending upon whether there is a subarray present with 0-sum or not. Printing will be taken care by the drivers code.\n",
    "\n",
    "**Expected Time Complexity:** O(n).\n",
    "\n",
    "**Expected Auxiliary Space:** O(n).\n",
    "\n",
    "### Constraints:\n",
    "1 <= n <= 10^4\n",
    "\n",
    "-10^5 <= a[i] <= 10^5"
   ]
  },
  {
   "cell_type": "code",
   "execution_count": 1,
   "metadata": {},
   "outputs": [
    {
     "name": "stdout",
     "output_type": "stream",
     "text": [
      "2\n",
      "5\n",
      "4 2 -3 1 6\n",
      "Yes\n",
      "5\n",
      "4 2 0 1 6\n",
      "Yes\n"
     ]
    }
   ],
   "source": [
    "# User function Template for python3\n",
    "class Solution:\n",
    "    #Function to check whether there is a subarray present with 0-sum or not.\n",
    "    def subArrayExists(self,arr,n):\n",
    "        ##Your code here\n",
    "        #Return true or false\n",
    "        prefix_sum = 0\n",
    "        seen = set()\n",
    "        \n",
    "        # Traverse the array from left to right\n",
    "        for i in range(n):\n",
    "            prefix_sum += arr[i]\n",
    "            \n",
    "            # Check if the prefix is 0 or is already observed before this\n",
    "            if not prefix_sum or prefix_sum in seen:\n",
    "                return True\n",
    "            else:\n",
    "                seen.add(prefix_sum)\n",
    "            \n",
    "        return False\n",
    "\n",
    "# { \n",
    "# Driver Code Starts\n",
    "# Initial Template for Python 3\n",
    "def main():\n",
    "    T=int(input())\n",
    "    while(T>0):\n",
    "        n=int(input())\n",
    "        arr=[int(x) for x in input().strip().split()]\n",
    "        if(Solution().subArrayExists(arr,n)):\n",
    "            print(\"Yes\")\n",
    "        else:\n",
    "            print(\"No\")\n",
    "        T-=1\n",
    "if __name__==\"__main__\":\n",
    "    main()\n",
    "# } Driver Code Ends"
   ]
  }
 ],
 "metadata": {
  "kernelspec": {
   "display_name": "Python 3",
   "language": "python",
   "name": "python3"
  },
  "language_info": {
   "codemirror_mode": {
    "name": "ipython",
    "version": 3
   },
   "file_extension": ".py",
   "mimetype": "text/x-python",
   "name": "python",
   "nbconvert_exporter": "python",
   "pygments_lexer": "ipython3",
   "version": "3.8.3"
  }
 },
 "nbformat": 4,
 "nbformat_minor": 4
}
