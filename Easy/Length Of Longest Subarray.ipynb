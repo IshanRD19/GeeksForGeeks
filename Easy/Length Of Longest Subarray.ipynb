{
 "cells": [
  {
   "cell_type": "markdown",
   "metadata": {},
   "source": [
    "# LENGTH OF LONGEST SUBARRAY\n",
    "\n",
    "Given an array A[] of size N, return length of the longest subarray of non- negative integers.\n",
    "\n",
    "**Note:** Subarray here means a continuous part of the array.\n",
    "\n",
    "### Example 1:\n",
    "\n",
    "#### Input : \n",
    "N = 9\n",
    "\n",
    "A[] = {2, 3, 4, -1, -2, 1, 5, 6, 3}\n",
    "#### Output : \n",
    "4\n",
    "#### Explanation :\n",
    "The subarray [ 1, 5, 6, 3] has longest length 4 and\n",
    "contains no negative integers\n",
    " \n",
    "### Example 2:\n",
    "#### Input : \n",
    "N = 10\n",
    "\n",
    "A[] = {1, 0, 0, 1, -1, -1, 0, 0, 1, 0}\n",
    "#### Output : \n",
    "4\n",
    "#### Explanation :\n",
    "Subarrays [1, 0, 0, 1] and [0, 0, 1, 0] have\n",
    "equal lengths but sum of first one is greater\n",
    "so that will be the output.\n",
    "\n",
    "### Your Task:  \n",
    "You don't need to read input or print anything. Your task is to complete the function longestSubarray() which takes the array A[] and its size N as inputs and returns the length of the longest subarray of non-negative integers.\n",
    "\n",
    "**Expected Time Complexity:** O(N)\n",
    "\n",
    "**Expected Auxiliary Space:** O(1)\n",
    "\n",
    "### Constraints:\n",
    "1 <= N <= 10^5\n",
    "\n",
    "-10^5 <= A[i] <= 10^5"
   ]
  },
  {
   "cell_type": "code",
   "execution_count": 1,
   "metadata": {},
   "outputs": [
    {
     "name": "stdout",
     "output_type": "stream",
     "text": [
      "4\n"
     ]
    }
   ],
   "source": [
    "# User function Template for python3\n",
    "def longestSubarry( A, N):\n",
    "    result = -1\n",
    "    streak = 0\n",
    "    \n",
    "    # Traverse the array\n",
    "    for i in range(N):\n",
    "        \n",
    "        # Check for non-negative subarray\n",
    "        if A[i] < 0:\n",
    "            result = max(result, streak)\n",
    "            streak = 0\n",
    "        else:\n",
    "            streak += 1\n",
    "            \n",
    "    return max(result, streak)\n",
    "\n",
    "# { \n",
    "# Driver Code Starts\n",
    "# Initial Template for Python 3\n",
    "def main():\n",
    "    T = int(input())\n",
    "    while(T > 0):\n",
    "        n = int(input())\n",
    "        a = [int(x) for x in input().strip().split()]\n",
    "        print(longestSubarry(a, n))\n",
    "        T -= 1\n",
    "if __name__ == \"__main__\":\n",
    "    main()\n",
    "# } Driver Code Ends"
   ]
  }
 ],
 "metadata": {
  "kernelspec": {
   "display_name": "Python 3.10.6 64-bit",
   "language": "python",
   "name": "python3"
  },
  "language_info": {
   "codemirror_mode": {
    "name": "ipython",
    "version": 3
   },
   "file_extension": ".py",
   "mimetype": "text/x-python",
   "name": "python",
   "nbconvert_exporter": "python",
   "pygments_lexer": "ipython3",
   "version": "3.10.6"
  },
  "orig_nbformat": 4,
  "vscode": {
   "interpreter": {
    "hash": "26de051ba29f2982a8de78e945f0abaf191376122a1563185a90213a26c5da77"
   }
  }
 },
 "nbformat": 4,
 "nbformat_minor": 2
}
