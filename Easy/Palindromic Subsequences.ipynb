{
 "cells": [
  {
   "cell_type": "markdown",
   "metadata": {},
   "source": [
    "# PALINDROMIC SUBSEQUENCES\n",
    "\n",
    "Given a Binary String S (the string that contains only 0's and 1's). Find the minimum number of palindromic subsequences that are needed to be removed such that string S becomes empty.\n",
    "\n",
    "### Example 1:\n",
    "\n",
    "#### Input:\n",
    " N = 5, S = \"10001\"\n",
    "#### Output:\n",
    " 1\n",
    "#### Explanation:\n",
    "We can remove whole S, as S is already a palindrome.\n",
    "### Example 2: \n",
    "\n",
    "#### Input:\n",
    "N = 8, S = \"10001001\"\n",
    "#### Output:\n",
    "2\n",
    "#### Explanation: \n",
    "First we'll remove sub-sequence \"111\" and then \"00000\".\n",
    "### Your Task:  \n",
    "You don't need to read input or print anything. Your task is to complete the function MinRemove() which takes the length of string and the string as inputs and returns the answer.\n",
    "\n",
    "**Expected Time Complexity:** O(N)\n",
    "\n",
    "**Expected Auxiliary Space:** O(1)\n",
    "\n",
    "### Constraints:\n",
    "1 ≤ N ≤ 10^8"
   ]
  },
  {
   "cell_type": "code",
   "execution_count": 1,
   "metadata": {},
   "outputs": [
    {
     "name": "stdout",
     "output_type": "stream",
     "text": [
      "1\n",
      "2\n"
     ]
    }
   ],
   "source": [
    "# User function Template for python3\n",
    "class Solution:\n",
    "    def MinRemove(self, n, s): \n",
    "        # code here\n",
    "\n",
    "        # Check if string is a palindrome\n",
    "        if s == s[::-1]:\n",
    "            return 1\n",
    "\n",
    "        # Max 2 removals required (all 0s and then all 1s)\n",
    "        return 2\n",
    "\n",
    "#{ \n",
    " # Driver Code Starts\n",
    "#Initial Template for Python 3\n",
    "\n",
    "if __name__ == '__main__': \n",
    "    t = int(input())\n",
    "    for _ in range(t):\n",
    "        n = int(input().strip())\n",
    "        s = input().strip()\n",
    "        obj = Solution()\n",
    "        print(obj.MinRemove(n,s))\n",
    "# } Driver Code Ends"
   ]
  }
 ],
 "metadata": {
  "kernelspec": {
   "display_name": "Python 3.10.6 64-bit",
   "language": "python",
   "name": "python3"
  },
  "language_info": {
   "codemirror_mode": {
    "name": "ipython",
    "version": 3
   },
   "file_extension": ".py",
   "mimetype": "text/x-python",
   "name": "python",
   "nbconvert_exporter": "python",
   "pygments_lexer": "ipython3",
   "version": "3.10.6"
  },
  "orig_nbformat": 4,
  "vscode": {
   "interpreter": {
    "hash": "26de051ba29f2982a8de78e945f0abaf191376122a1563185a90213a26c5da77"
   }
  }
 },
 "nbformat": 4,
 "nbformat_minor": 2
}
