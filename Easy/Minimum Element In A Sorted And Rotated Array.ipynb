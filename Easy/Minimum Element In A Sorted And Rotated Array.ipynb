{
 "cells": [
  {
   "cell_type": "markdown",
   "metadata": {},
   "source": [
    "# MINIMUM ELEMENT IN A SORTED AND ROTATED ARRAY\n",
    "\n",
    "A sorted array A[ ] with distinct elements is rotated at some unknown point, the task is to find the minimum element in it.\n",
    "\n",
    "### Example 1\n",
    "\n",
    "#### Input:\n",
    "N = 5\n",
    "\n",
    "arr[] = {4 ,5 ,1 ,2 ,3}\n",
    "#### Output:\n",
    "1\n",
    "#### Explanation:\n",
    "1 is the minimum element inthe array.\n",
    "### Example 2\n",
    "\n",
    "#### Input:\n",
    "N = 7\n",
    "\n",
    "arr[] = {10, 20, 30, 40, 50, 5, 7}\n",
    "#### Output:\n",
    "5\n",
    "#### Explanation:\n",
    "Here 5 is the minimum element.\n",
    " \n",
    "### Your Task:\n",
    "Complete the function findMin() which takes an array arr[] and n, size of the array as input parameters, and returns the minimum element of the array.\n",
    "\n",
    "**Expected Time Complexity:** O(log N).\n",
    "\n",
    "**Expected Auxiliary Space:** O(log N).\n",
    "\n",
    "### Constraints:\n",
    "1 ≤ N ≤ 100000\n",
    "\n",
    "1 ≤ A[i] ≤ 1000000"
   ]
  },
  {
   "cell_type": "code",
   "execution_count": 1,
   "metadata": {},
   "outputs": [
    {
     "name": "stdout",
     "output_type": "stream",
     "text": [
      "3\n",
      "5\n",
      "4 5 1 2 3\n",
      "1\n",
      "7\n",
      "10 20 30 40 50 5 7\n",
      "5\n",
      "42\n",
      "335 359 383 392 422 437 448 465 468 479 492 501 539 605 668 704 706 717 719 725 727 772 812 828 870 895 896 903 913 943 962 963 996 36 146 154 170 282 293 300 323 334\n",
      "36\n"
     ]
    }
   ],
   "source": [
    "# User function Template for python3\n",
    "class Solution:\n",
    "    def findMin(self, arr, n):\n",
    "        #complete the function here\n",
    "\n",
    "        # Revise!\n",
    "        \n",
    "        left, right = 0, n-1\n",
    "        \n",
    "        while left < right:\n",
    "            middle = (left + right) // 2 \n",
    "            \n",
    "            # Check if minimum element is found\n",
    "            if arr[middle] == arr[right]:\n",
    "                right -= 1\n",
    "                \n",
    "            # Check if middle is greater than rightmost element\n",
    "            elif arr[middle] > arr[right]:\n",
    "                left = middle + 1\n",
    "                \n",
    "            # Check if middle is lesser than leftmost element\n",
    "            else:\n",
    "                right = middle\n",
    "    \n",
    "        return arr[right]\n",
    "\n",
    "#{ \n",
    "#  Driver Code Starts\n",
    "#Initial Template for Python 3\n",
    "\n",
    "if __name__ == '__main__':\n",
    "    t = int(input())\n",
    "    for _ in range(t):\n",
    "        n = int(input())\n",
    "        arr = [int(x) for x in input().split()]\n",
    "        ob = Solution()\n",
    "        print(ob.findMin(arr, n))\n",
    "# } Driver Code Ends"
   ]
  }
 ],
 "metadata": {
  "kernelspec": {
   "display_name": "Python 3",
   "language": "python",
   "name": "python3"
  },
  "language_info": {
   "codemirror_mode": {
    "name": "ipython",
    "version": 3
   },
   "file_extension": ".py",
   "mimetype": "text/x-python",
   "name": "python",
   "nbconvert_exporter": "python",
   "pygments_lexer": "ipython3",
   "version": "3.8.3"
  }
 },
 "nbformat": 4,
 "nbformat_minor": 4
}
