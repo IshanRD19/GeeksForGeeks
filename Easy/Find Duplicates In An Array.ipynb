{
 "cells": [
  {
   "cell_type": "markdown",
   "metadata": {},
   "source": [
    "# FIND DUPLICATES IN AN ARRAY\n",
    "\n",
    "Given an array a[] of size N which contains elements from 0 to N-1, you need to find all the elements occurring more than once in the given array.\n",
    "\n",
    "### Example 1:\n",
    "\n",
    "#### Input:\n",
    "N = 4\n",
    "\n",
    "a[] = {0,3,1,2}\n",
    "#### Output:\n",
    "-1\n",
    "#### Explanation:\n",
    "N=4 and all elements from 0 to (N-1 = 3) are present in the given array. Therefore output is -1.\n",
    "### Example 2:\n",
    "\n",
    "#### Input:\n",
    "N = 5\n",
    "\n",
    "a[] = {2,3,1,2,3}\n",
    "#### Output:\n",
    "2 3 \n",
    "#### Explanation:\n",
    "2 and 3 occur more than once in the given array.\n",
    "### Your Task:\n",
    "Complete the function duplicates() which takes array a[] and n as input as parameters and returns a list of elements that occur more than once in the given array in sorted manner. If no such element is found, return list containing [-1]. \n",
    "\n",
    "**Expected Time Complexity:** O(n).\n",
    "\n",
    "**Expected Auxiliary Space:** O(n).\n",
    "\n",
    "**Note:** The extra space is only for the array to be returned. Try and perform all operation withing the provided array. \n",
    "\n",
    "### Constraints:\n",
    "1 <= N <= 10^5\n",
    "\n",
    "0 <= A[i] <= N-1, for each valid i"
   ]
  },
  {
   "cell_type": "code",
   "execution_count": 1,
   "metadata": {},
   "outputs": [
    {
     "name": "stdout",
     "output_type": "stream",
     "text": [
      "2\n",
      "4\n",
      "0 3 1 2\n",
      "-1 \n",
      "5\n",
      "2 3 1 2 3\n",
      "2 3 \n"
     ]
    }
   ],
   "source": [
    "class Solution:\n",
    "    def duplicates(self, arr, n): \n",
    "        # code here\n",
    "        result = []\n",
    "        \n",
    "        # For each element\n",
    "        for i in range(n):\n",
    "            \n",
    "            # Treat array values as index\n",
    "            index = arr[i] % n\n",
    "            arr[index] += n\n",
    "            \n",
    "        # For each element\n",
    "        for i in range(n):\n",
    "            \n",
    "            # Check if updated value at index is more than twice of n\n",
    "            if arr[i] >= 2 * n:\n",
    "                result.append(i)\n",
    "                \n",
    "        return result if result else [-1]\n",
    "\n",
    "#{ \n",
    "#  Driver Code Starts\n",
    "if(__name__=='__main__'):\n",
    "    t = int(input())\n",
    "    for i in range(t):\n",
    "        n = int(input())\n",
    "        arr = list(map(int, input().strip().split()))\n",
    "        res = Solution().duplicates(arr, n)\n",
    "        for i in res:\n",
    "            print(i,end=\" \")\n",
    "        print()\n",
    "\n",
    "\n",
    "\n",
    "# } Driver Code Ends"
   ]
  }
 ],
 "metadata": {
  "kernelspec": {
   "display_name": "Python 3",
   "language": "python",
   "name": "python3"
  },
  "language_info": {
   "codemirror_mode": {
    "name": "ipython",
    "version": 3
   },
   "file_extension": ".py",
   "mimetype": "text/x-python",
   "name": "python",
   "nbconvert_exporter": "python",
   "pygments_lexer": "ipython3",
   "version": "3.8.3"
  }
 },
 "nbformat": 4,
 "nbformat_minor": 4
}
