{
 "cells": [
  {
   "cell_type": "markdown",
   "metadata": {},
   "source": [
    "# DIVISIBLE BY 7\n",
    "\n",
    "Given an n-digit large number in form of string, check whether it is divisible by 7 or not. Print 1 if divisible by 7, otherwise 0.\n",
    "\n",
    "### Example 1:\n",
    "\n",
    "#### Input:\n",
    "num = \"8955795758\"\n",
    "#### Output:\n",
    "1\n",
    "#### Explanation:\n",
    "8955795758 is divisible by 7.\n",
    "### Example 2:\n",
    "\n",
    "#### Input:\n",
    "num = \"1000\"\n",
    "#### Output:\n",
    "0\n",
    "#### Explanation:\n",
    "1000 is not divisible by 7.\n",
    "\n",
    "### Your Task:  \n",
    "You don't need to read input or print anything. Your task is to complete the function isdivisible7â€‹() which takes the string num as inputs and returns the answer.\n",
    "\n",
    "**Expected Time Complexity:** O(|num|)\n",
    "\n",
    "**Expected Auxiliary Space:** O(1)\n",
    "\n",
    "### Constraints:\n",
    "1 ≤ |num| ≤ 10^5"
   ]
  },
  {
   "cell_type": "code",
   "execution_count": 1,
   "metadata": {},
   "outputs": [
    {
     "name": "stdout",
     "output_type": "stream",
     "text": [
      "2\n",
      "8955795758\n",
      "1\n",
      "1000\n",
      "0\n"
     ]
    }
   ],
   "source": [
    "# User function Template for python3\n",
    "class Solution:\n",
    "    def isdivisible7(self, num):\n",
    "        # code here\n",
    "        number = int(num)\n",
    "        return 0 if number % 7 else 1\n",
    "\n",
    "#{ \n",
    "#  Driver Code Starts\n",
    "#Initial Template for Python 3\n",
    "if __name__=='__main__':\n",
    "    t=int(input())\n",
    "    for _ in range(t):\n",
    "        s = input().strip()\n",
    "        ob=Solution()\n",
    "        print(ob.isdivisible7(s))\n",
    "# } Driver Code Ends"
   ]
  }
 ],
 "metadata": {
  "kernelspec": {
   "display_name": "Python 3",
   "language": "python",
   "name": "python3"
  },
  "language_info": {
   "codemirror_mode": {
    "name": "ipython",
    "version": 3
   },
   "file_extension": ".py",
   "mimetype": "text/x-python",
   "name": "python",
   "nbconvert_exporter": "python",
   "pygments_lexer": "ipython3",
   "version": "3.8.3"
  }
 },
 "nbformat": 4,
 "nbformat_minor": 4
}
