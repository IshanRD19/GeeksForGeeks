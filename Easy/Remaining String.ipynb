{
 "cells": [
  {
   "cell_type": "markdown",
   "metadata": {},
   "source": [
    "# REMAINING STRING\n",
    "\n",
    "Given a string S without spaces, a character ch, and an integer count, the task is to find the string after the specified character has occurred count number of times.\n",
    "\n",
    "### Example 1:\n",
    "\n",
    "#### Input:  \n",
    "S = \"Thisisdemostring\", ch = 'i', \n",
    "count = 3\n",
    "#### Output: \n",
    "ng\n",
    "#### Explanation: \n",
    "Substring of S after the 3rd\n",
    "occurrence of 'i' is \"ng\"\n",
    "### Example 2:\n",
    "\n",
    "#### Input:  \n",
    "S = \"Thisisdemostri\", ch = 'i', \n",
    "count = 3\n",
    "##### Output: \n",
    "Empty string\n",
    "##### Explanation: \n",
    "'i' occurce 3rd time at \n",
    "last index\n",
    "### Your Task:\n",
    "Your task is to complete the function printString() which takes a single, a character, and a count as inputs and returns the string. You need not take any input or print anything.\n",
    "\n",
    "**Note:**  “Empty string” should be returned incase of any unsatisfying conditions (Given character is not present, or present but less than given count, or given count completes on the last index). If given count is 0, then given character doesn’t matter, just return the whole string.\n",
    "\n",
    "**Expected Time Complexity:** O(|s|)\n",
    "\n",
    "**Expected Auxiliary Space:** O(1)\n",
    "\n",
    "### Constraints:\n",
    "1 <= |S| <= 10^5\n",
    "\n",
    "Assume upper case and lower case\n",
    "alphabets as different"
   ]
  },
  {
   "cell_type": "code",
   "execution_count": null,
   "metadata": {},
   "outputs": [],
   "source": [
    "#User function Template for python3\n",
    "class Solution:\n",
    "    def printString(self, S, ch, count):\n",
    "        # code here\n",
    "        if not count:\n",
    "            return S\n",
    "\n",
    "        length = len(S)\n",
    "        i = 0\n",
    "\n",
    "        while i<length:\n",
    "\n",
    "            if S[i] == ch:\n",
    "                count -= 1\n",
    "\n",
    "            if not count:\n",
    "                break\n",
    "\n",
    "            i += 1\n",
    "\n",
    "        return S[i+1:] if S[i+1:] else 'Empty string'\n",
    "\n",
    "# { \n",
    "# Driver Code Starts\n",
    "# Initial Template for Python 3\n",
    "if __name__ == '__main__':\n",
    "\tT=int(input())\n",
    "\tfor i in range(T):\n",
    "\t\ts = input()\n",
    "\t\tch = input()[0]\n",
    "\t\tcount = int(input())\n",
    "\t\tob = Solution()\t\n",
    "\t\tanswer = ob.printString(s,ch,count)\n",
    "\t\tprint(answer)\n",
    "# } Driver Code Ends"
   ]
  }
 ],
 "metadata": {
  "kernelspec": {
   "display_name": "Python 3.10.6 64-bit",
   "language": "python",
   "name": "python3"
  },
  "language_info": {
   "codemirror_mode": {
    "name": "ipython",
    "version": 3
   },
   "file_extension": ".py",
   "mimetype": "text/x-python",
   "name": "python",
   "nbconvert_exporter": "python",
   "pygments_lexer": "ipython3",
   "version": "3.10.6"
  },
  "orig_nbformat": 4,
  "vscode": {
   "interpreter": {
    "hash": "26de051ba29f2982a8de78e945f0abaf191376122a1563185a90213a26c5da77"
   }
  }
 },
 "nbformat": 4,
 "nbformat_minor": 2
}
