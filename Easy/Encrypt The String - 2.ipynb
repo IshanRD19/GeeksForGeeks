{
 "cells": [
  {
   "cell_type": "markdown",
   "metadata": {},
   "source": [
    "# ENCRYPT THE STRING - 2\n",
    "\n",
    "You are given a string S. Every sub-string of identical letters is replaced by a single instance of that letter followed by the hexadecimal representation of the number of occurrences of that letter. Then, the string thus obtained is further encrypted by reversing it [ See the sample for more clarity ]. Print the Encrypted String.\n",
    "\n",
    "**Note:** All Hexadecimal letters should be converted to Lowercase letters.\n",
    "\n",
    "### Example 1:\n",
    "\n",
    "#### Input:\n",
    "S = \"aaaaaaaaaaa\"\n",
    "\n",
    "#### Output:\n",
    "ba \n",
    "#### Explanation: \n",
    "aaaaaaaaaaa\n",
    "\n",
    "Step1: a11 (a occurs 11 times)\n",
    "\n",
    "Step2: a11 is ab [since 11 is b in hexadecimal]\n",
    "\n",
    "Step3: ba [After reversing]\n",
    "### Example 2:\n",
    "\n",
    "#### Input:\n",
    "S = \"abc\"\n",
    "#### Output:\n",
    "1c1b1a\n",
    "#### Explanation: \n",
    "abc\n",
    "\n",
    "Step1: a1b1c1\n",
    "\n",
    "Step2: 1c1b1a [After reversing]\n",
    " \n",
    "\n",
    "### Your Task:\n",
    "You don't need to read input or print anything. Your task is to complete the function encryptString() which takes a String S and returns the answer.\n",
    "\n",
    "**Expected Time Complexity:** O(|S|)\n",
    "\n",
    "**Expected Auxiliary Space:** O(1)\n",
    "\n",
    "### Constraints\n",
    "1 <= |S| <= 10^5"
   ]
  },
  {
   "cell_type": "code",
   "execution_count": 18,
   "metadata": {},
   "outputs": [
    {
     "name": "stdout",
     "output_type": "stream",
     "text": [
      "3\n",
      "aaaaaaaaaaa\n",
      "ba\n",
      "abc\n",
      "1c1b1a\n",
      "aaaaaaaaaaaaaaaaabbbbbbbbbbbbbbfffffffffffffffffhhhhhhhhhhhhhhhhhhhhhhhhhhhhhhhh\n",
      "20h11feb11a\n"
     ]
    }
   ],
   "source": [
    "# User function Template for python3\n",
    "class Solution:\n",
    "    def decimal_to_hex(self, decimal):\n",
    "        hexa = ''\n",
    "        hex_map = {10: 'a', 11: 'b', 12: 'c', 13: 'd', 14: 'e', 15: 'f'}\n",
    "        \n",
    "        while decimal:\n",
    "            remainder = decimal % 16\n",
    "            if remainder in hex_map:\n",
    "                hexa += hex_map[remainder]\n",
    "            else:\n",
    "                hexa += str(remainder)\n",
    "\n",
    "            decimal = decimal // 16\n",
    "        \n",
    "        return hexa[::-1]\n",
    "    \n",
    "    def encryptString(self, S):\n",
    "        # code here\n",
    "        result = []\n",
    "        current = S[0]\n",
    "        count = 1\n",
    "        \n",
    "        # For each character\n",
    "        for c in S[1:]:\n",
    "            \n",
    "            # Check if in continuation\n",
    "            if c == current:\n",
    "                count += 1\n",
    "            \n",
    "            # Store the count of previous character\n",
    "            else:\n",
    "                result.append(current)\n",
    "                result.append(self.decimal_to_hex(count))\n",
    "                current = c\n",
    "                count = 1\n",
    "                \n",
    "        # Check the count of last character\n",
    "        result.append(current)\n",
    "        result.append(self.decimal_to_hex(count))\n",
    "        \n",
    "        result.reverse()\n",
    "        return ''.join(result)\n",
    "\n",
    "#{ \n",
    "#  Driver Code Starts\n",
    "if __name__ == '__main__': \n",
    "    t = int (input ())\n",
    "    for _ in range (t):\n",
    "        S=input()\n",
    "        ob = Solution()\n",
    "        print(ob.encryptString(S))\n",
    "# } Driver Code Ends"
   ]
  },
  {
   "cell_type": "code",
   "execution_count": 17,
   "metadata": {},
   "outputs": [
    {
     "data": {
      "text/plain": [
       "17"
      ]
     },
     "execution_count": 17,
     "metadata": {},
     "output_type": "execute_result"
    }
   ],
   "source": [
    "len('aaaaaaaaaaaaaaaaa')"
   ]
  }
 ],
 "metadata": {
  "kernelspec": {
   "display_name": "Python 3",
   "language": "python",
   "name": "python3"
  },
  "language_info": {
   "codemirror_mode": {
    "name": "ipython",
    "version": 3
   },
   "file_extension": ".py",
   "mimetype": "text/x-python",
   "name": "python",
   "nbconvert_exporter": "python",
   "pygments_lexer": "ipython3",
   "version": "3.8.3"
  }
 },
 "nbformat": 4,
 "nbformat_minor": 4
}
