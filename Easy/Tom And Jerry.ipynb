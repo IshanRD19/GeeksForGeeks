{
 "cells": [
  {
   "cell_type": "markdown",
   "metadata": {},
   "source": [
    "# TOM AND JERRY\n",
    "\n",
    "Tom and Jerry being bored in this pandemic, decides to play a game. Given an integer N. On each player's turn, that player makes a move by subtracting a divisor of current N (which is less than N) from current N, thus forming a new N for the next turn. The player who does not have any divisor left to subtract loses the game.\n",
    "\n",
    "The game begins with Tom playing the first move. Both Tom and Jerry play optimally. The task is to determine who wins the game. Return 1 if Tom wins, else return 0.\n",
    "\n",
    "### Example 1:\n",
    "\n",
    "#### Input:\n",
    "N = 2\n",
    "#### Output:\n",
    "1\n",
    "#### Explanation:\n",
    "Tom subtracts 1 from N to make N = 1.\n",
    "Now, Jerry isn't left with any possible\n",
    "turn so Tom wins the game, and therefore\n",
    "the Output is 1.\n",
    "### Example 2:\n",
    "\n",
    "#### Input:\n",
    "N = 4\n",
    "#### Output:\n",
    "1\n",
    "#### Explanation:\n",
    "1st turn: Tom subtract 1 from N as 1 is \n",
    "a divisor of 4 and less than 4.\n",
    "\n",
    "2nd turn: N=3, Jerry has to subtract 1 as 1 \n",
    "is the only divisor of 3 which is less than 3.\n",
    "\n",
    "3rd turn: N=2, Tom subtract 1 as 1 is the \n",
    "only divisor of 2 which is less than 2.\n",
    "\n",
    "4th turn: N=1, Jerry can't subtract any value.\n",
    "So, Tom wins.\n",
    "\n",
    "### Your Task:\n",
    "You don't need to read input or print anything. Your task is to complete the function numsGame() which takes an Integer N as input and returns 1 if Tom wins else returns 0.\n",
    "\n",
    "**Expected Time Complexity:** O(1)\n",
    "\n",
    "**Expected Auxiliary Space:** O(1)\n",
    "\n",
    "### Constraints:\n",
    "1 < N ≤ 10^8"
   ]
  },
  {
   "cell_type": "code",
   "execution_count": null,
   "metadata": {},
   "outputs": [],
   "source": [
    "# User function Template for python3\n",
    "class Solution:\n",
    "    def numsGame(self, N):\n",
    "        # code here\n",
    "        return 0 if N % 2 else 1\n",
    "\n",
    "# { \n",
    "# Driver Code Starts\n",
    "# Initial Template for Python 3\n",
    "if __name__ == '__main__': \n",
    "    t = int (input ())\n",
    "    for _ in range (t):\n",
    "        N=int(input())\n",
    "        ob = Solution()\n",
    "        print(ob.numsGame(N))\n",
    "# } Driver Code Ends"
   ]
  }
 ],
 "metadata": {
  "kernelspec": {
   "display_name": "Python 3.10.6 64-bit",
   "language": "python",
   "name": "python3"
  },
  "language_info": {
   "name": "python",
   "version": "3.10.6"
  },
  "orig_nbformat": 4,
  "vscode": {
   "interpreter": {
    "hash": "26de051ba29f2982a8de78e945f0abaf191376122a1563185a90213a26c5da77"
   }
  }
 },
 "nbformat": 4,
 "nbformat_minor": 2
}
