{
 "cells": [
  {
   "cell_type": "markdown",
   "metadata": {},
   "source": [
    "# FIRST REPEATING ELEMENT\n",
    "\n",
    "Given an array arr[] of size n, find the first repeating element. The element should occurs more than once and the index of its first occurrence should be the smallest.\n",
    " \n",
    "### Example 1:\n",
    "\n",
    "#### Input:\n",
    "n = 7\n",
    "\n",
    "arr[] = {1, 5, 3, 4, 3, 5, 6}\n",
    "#### Output:\n",
    "2\n",
    "#### Explanation: \n",
    "5 is appearing twice and its first appearence is at index 2 which is less than 3 whose first occuring index is 3.\n",
    "\n",
    "### Example 2:\n",
    "\n",
    "#### Input:\n",
    "n = 4\n",
    "\n",
    "arr[] = {1, 2, 3, 4}\n",
    "#### Output:\n",
    "-1\n",
    "#### Explanation: \n",
    "All elements appear only once so answer is -1.\n",
    "\n",
    "### Your Task:\n",
    "You don't need to read input or print anything. Complete the function firstRepeated() which takes arr and n as input parameters and return the position of the first repeating element. If there is no such element, return -1.\n",
    "The position you return should be according to 1-based indexing. \n",
    "\n",
    "**Expected Time Complexity:** O(n)\n",
    "\n",
    "**Expected Auxilliary Space:** O(n)\n",
    "\n",
    "### Constraints:\n",
    "1 <= n <= 10^6\n",
    "\n",
    "0 <= Ai<= 10^6"
   ]
  },
  {
   "cell_type": "code",
   "execution_count": 1,
   "metadata": {},
   "outputs": [
    {
     "name": "stdout",
     "output_type": "stream",
     "text": [
      "2\n",
      "7\n",
      "1 5 3 4 3 5 6\n",
      "2\n",
      "4\n",
      "1 2 3 4\n",
      "-1\n"
     ]
    }
   ],
   "source": [
    "# User function Template for python3\n",
    "class Solution:\n",
    "    #Function to return the position of the first repeating element.\n",
    "    def firstRepeated(self,arr, n):\n",
    "        # arr : given array\n",
    "        # n : size of the array\n",
    "        \n",
    "        # Traverse backwards to automatically get min_index in single traversal\n",
    "\n",
    "        seen = {}\n",
    "        min_index = -1\n",
    "\n",
    "        # Check if the element is seen before\n",
    "        for i in range(n-1 , -1, -1):\n",
    "            \n",
    "            # Update the min_index\n",
    "            if arr[i] in seen:\n",
    "                min_index = i\n",
    "            \n",
    "            # Store the index\n",
    "            else:\n",
    "                seen[arr[i]] = i\n",
    "\n",
    "        return (min_index + 1) if min_index != -1 else -1\n",
    "\n",
    "# { \n",
    "#  Driver Code Starts\n",
    "# Initial Template for Python 3\n",
    "if __name__=='__main__':\n",
    "    t=int(input())\n",
    "    for _ in range(t):\n",
    "        n=int(input())\n",
    "        arr=[int(x) for x in input().strip().split()]\n",
    "        ob = Solution()\n",
    "        print(ob.firstRepeated(arr, n))\n",
    "# } Driver Code Ends"
   ]
  }
 ],
 "metadata": {
  "kernelspec": {
   "display_name": "Python 3",
   "language": "python",
   "name": "python3"
  },
  "language_info": {
   "codemirror_mode": {
    "name": "ipython",
    "version": 3
   },
   "file_extension": ".py",
   "mimetype": "text/x-python",
   "name": "python",
   "nbconvert_exporter": "python",
   "pygments_lexer": "ipython3",
   "version": "3.8.3"
  }
 },
 "nbformat": 4,
 "nbformat_minor": 4
}
