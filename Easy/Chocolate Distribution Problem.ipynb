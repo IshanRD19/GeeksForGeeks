{
 "cells": [
  {
   "cell_type": "markdown",
   "metadata": {},
   "source": [
    "# CHOCOLATE DISTRIBUTION PROBLEM\n",
    "\n",
    "Given an array A[ ] of positive integers of size N, where each value represents the number of chocolates in a packet. Each packet can have a variable number of chocolates. There are M students, the task is to distribute chocolate packets among M students such that :\n",
    "\n",
    "1. Each student gets exactly one packet.\n",
    "\n",
    "2. The difference between maximum number of chocolates given to a student and minimum number of chocolates given to a student is minimum.\n",
    "\n",
    "### Example 1:\n",
    "\n",
    "#### Input:\n",
    "N = 8, M = 5\n",
    "\n",
    "A = {3, 4, 1, 9, 56, 7, 9, 12}\n",
    "#### Output:\n",
    "6\n",
    "#### Explanation:\n",
    "The minimum difference between maximum chocolates and minimum chocolates is 9 - 3 = 6 by choosing following M packets : {3, 4, 9, 7, 9}.\n",
    "### Example 2:\n",
    "\n",
    "#### Input:\n",
    "N = 7, M = 3\n",
    "\n",
    "A = {7, 3, 2, 4, 9, 12, 56}\n",
    "#### Output:\n",
    "2\n",
    "#### Explanation:\n",
    "The minimum difference between maximum chocolates and minimum chocolates is 4 - 2 = 2 by choosing following M packets : {3, 2, 4}.\n",
    "### Your Task:\n",
    "You don't need to take any input or print anything. Your task is to complete the function findMinDiff() which takes array A[ ], N and M as input parameters and returns the minimum possible difference between maximum number of chocolates given to a student and minimum number of chocolates given to a student.\n",
    "\n",
    "**Expected Time Complexity:** O(N*Log(N))\n",
    "\n",
    "**Expected Auxiliary Space:** O(1)\n",
    "\n",
    "### Constraints:\n",
    "1 ≤ T ≤ 100\n",
    "\n",
    "1 ≤ N ≤ 10^5\n",
    "\n",
    "1 ≤ Ai ≤ 10^9\n",
    "\n",
    "1 ≤ M ≤ N"
   ]
  },
  {
   "cell_type": "code",
   "execution_count": 1,
   "metadata": {},
   "outputs": [
    {
     "name": "stdout",
     "output_type": "stream",
     "text": [
      "2\n",
      "8\n",
      "3 4 1 9 56 7 9 12\n",
      "5\n",
      "6\n",
      "7\n",
      "7 3 2 4 9 12 56\n",
      "3\n",
      "2\n"
     ]
    }
   ],
   "source": [
    "# User function Template for python3\n",
    "class Solution:\n",
    "    def findMinDiff(self, A,N,M):\n",
    "        # code here\n",
    "        min_difference = 10 ** 9\n",
    "\n",
    "        # Sort the array\n",
    "        A.sort()\n",
    "        \n",
    "        # For each group of M packets\n",
    "        for i in range(N - M + 1):\n",
    "\n",
    "            # Find the minimum difference among packets\n",
    "            if A[i+M-1] - A[i] < min_difference:\n",
    "                min_difference = A[i+M-1] - A[i]\n",
    "            \n",
    "        return min_difference\n",
    "\n",
    "# { \n",
    "#  Driver Code Starts\n",
    "# Initial Template for Python 3\n",
    "if __name__ == '__main__':\n",
    "    t = int(input())\n",
    "    for _ in range(t):\n",
    "        N = int(input())\n",
    "        A = [int(x) for x in input().split()]\n",
    "        M = int(input())\n",
    "        solObj = Solution()\n",
    "        print(solObj.findMinDiff(A,N,M))\n",
    "# } Driver Code Ends"
   ]
  }
 ],
 "metadata": {
  "kernelspec": {
   "display_name": "Python 3",
   "language": "python",
   "name": "python3"
  },
  "language_info": {
   "codemirror_mode": {
    "name": "ipython",
    "version": 3
   },
   "file_extension": ".py",
   "mimetype": "text/x-python",
   "name": "python",
   "nbconvert_exporter": "python",
   "pygments_lexer": "ipython3",
   "version": "3.8.3"
  }
 },
 "nbformat": 4,
 "nbformat_minor": 4
}
