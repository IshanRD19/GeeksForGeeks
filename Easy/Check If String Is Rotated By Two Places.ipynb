{
 "cells": [
  {
   "cell_type": "markdown",
   "metadata": {},
   "source": [
    "# CHECK IF STRING IS ROTATED BY TWO PLACES\n",
    "\n",
    "Given two strings a and b. The task is to find if the string 'b' can be obtained by rotating another string 'a' by exactly 2 places.\n",
    "\n",
    "### Example 1:\n",
    "\n",
    "#### Input:\n",
    "a = amazon\n",
    "\n",
    "b = azonam\n",
    "#### Output:\n",
    "1\n",
    "#### Explanation:\n",
    "amazon can be rotated anti clockwise by two places, which will make it as azonam.\n",
    "### Example 2:\n",
    "\n",
    "#### Input:\n",
    "a = geeksforgeeks\n",
    "\n",
    "b = geeksgeeksfor\n",
    "#### Output:\n",
    "0\n",
    "#### Explanation:\n",
    "If we rotate geeksforgeeks by two place in any direction , we won't get geeksgeeksfor.\n",
    "### Your Task:\n",
    "The task is to complete the function isRotated() which takes two strings as input parameters and checks if given strings can be formed by rotations. The function returns true if string 1 can be obtained by rotating string 2 by two places, else it returns false.\n",
    "\n",
    "**Expected Time Complexity:** O(N).\n",
    "\n",
    "**Expected Auxilary Complexity:** O(N).\n",
    "\n",
    "**Challenge:** Try doing it in O(1) space complexity.\n",
    "\n",
    "### Constraints:\n",
    "1 ≤ length of a, b ≤ 10^5"
   ]
  },
  {
   "cell_type": "code",
   "execution_count": 1,
   "metadata": {},
   "outputs": [
    {
     "name": "stdout",
     "output_type": "stream",
     "text": [
      "2\n",
      "amazon\n",
      "azonam\n",
      "1\n",
      "geeksforgeeks\n",
      "geeksgeeksfor\n",
      "0\n"
     ]
    }
   ],
   "source": [
    "# User function Template for python3\n",
    "class Solution:\n",
    "    #Function to check if a string can be obtained by rotating another string by exactly 2 places.\n",
    "    def isRotated(self,str1,str2):\n",
    "        #code here\n",
    "        return 1 if str1[2:] + str1[:2] == str2 or str1[-2:] + str1[:-2] == str2 else 0\n",
    "\n",
    "# { \n",
    "# Driver Code Starts\n",
    "# Initial Template for Python 3\n",
    "if __name__=='__main__':\n",
    "    t = int(input())\n",
    "    for i in range(t):\n",
    "        s=str(input())\n",
    "        p=str(input())\n",
    "        if(Solution().isRotated(s,p)):\n",
    "            print(1)\n",
    "        else:\n",
    "            print(0)\n",
    "# } Driver Code Ends"
   ]
  }
 ],
 "metadata": {
  "kernelspec": {
   "display_name": "Python 3",
   "language": "python",
   "name": "python3"
  },
  "language_info": {
   "codemirror_mode": {
    "name": "ipython",
    "version": 3
   },
   "file_extension": ".py",
   "mimetype": "text/x-python",
   "name": "python",
   "nbconvert_exporter": "python",
   "pygments_lexer": "ipython3",
   "version": "3.8.3"
  }
 },
 "nbformat": 4,
 "nbformat_minor": 4
}
