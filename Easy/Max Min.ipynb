{
 "cells": [
  {
   "cell_type": "markdown",
   "metadata": {},
   "source": [
    "# MAX MIN\n",
    "\n",
    "Given an array A of size N of integers. Your task is to find the sum of minimum and maximum elements in the array.\n",
    "\n",
    "### Example 1:\n",
    "\n",
    "#### Input:\n",
    "N = 5\n",
    "\n",
    "A[] = {-2, 1, -4, 5, 3}\n",
    "#### Output:\n",
    "1\n",
    "#### Explanation:\n",
    "min = -4, max =  5. Sum = -4 + 5 = 1\n",
    "\n",
    "### Example 2:\n",
    "\n",
    "#### Input:\n",
    "N = 4\n",
    "\n",
    "A[]  = {1, 3, 4, 1}\n",
    "#### Output:\n",
    "5\n",
    "#### Explanation:\n",
    "min = 1, max = 4. Sum = 1 + 4 = 5\n",
    " \n",
    "### Your Task:  \n",
    "You don't need to read input or print anything. Your task is to complete the function findSum() which takes the array A[] and its size N as inputs and returns the summation of minimum and maximum element of the array.\n",
    "\n",
    "**Expected Time Complexity:** O(N)\n",
    "\n",
    "**Expected Auxiliary Space:** O(1)\n",
    "\n",
    "### Constraints:\n",
    "1 <= N <= 10^5\n",
    "\n",
    "-10^9 <= Ai <= 10^9"
   ]
  },
  {
   "cell_type": "code",
   "execution_count": 1,
   "metadata": {},
   "outputs": [
    {
     "name": "stdout",
     "output_type": "stream",
     "text": [
      "2\n",
      "5\n",
      "-2 1 -4 5 3\n",
      "1\n",
      "4\n",
      "1 3 4 1\n",
      "5\n"
     ]
    }
   ],
   "source": [
    "class Solution:\n",
    "    def findSum(self,A,N): \n",
    "        #code here\n",
    "        return max(A) + min(A)\n",
    "\n",
    "#{ \n",
    "#  Driver Code Starts\n",
    "#Initial Template for Python 3\n",
    "t=int(input())\n",
    "for _ in range(0,t):\n",
    "    n=int(input())\n",
    "    a=list(map(int,input().split()))\n",
    "    ob = Solution()\n",
    "    print(ob.findSum(a,n))\n",
    "# } Driver Code Ends"
   ]
  }
 ],
 "metadata": {
  "kernelspec": {
   "display_name": "Python 3",
   "language": "python",
   "name": "python3"
  },
  "language_info": {
   "codemirror_mode": {
    "name": "ipython",
    "version": 3
   },
   "file_extension": ".py",
   "mimetype": "text/x-python",
   "name": "python",
   "nbconvert_exporter": "python",
   "pygments_lexer": "ipython3",
   "version": "3.8.3"
  }
 },
 "nbformat": 4,
 "nbformat_minor": 4
}
