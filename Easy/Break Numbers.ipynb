{
 "cells": [
  {
   "cell_type": "markdown",
   "metadata": {},
   "source": [
    "# BREAK NUMBERS\n",
    "\n",
    "Given a large number N, write a program to count the ways to break it into three whole numbers such that they sum up to the original number.\n",
    "\n",
    "### Example 1:\n",
    "\n",
    "#### Input:\n",
    "N = 3\n",
    "#### Output:\n",
    "10\n",
    "#### Explaination:\n",
    "The ways are \n",
    "\n",
    "0 + 0 + 3 = 3\n",
    "\n",
    "0 + 3 + 0 = 3\n",
    "\n",
    "3 + 0 + 0 = 3\n",
    "\n",
    "0 + 1 + 2 = 3\n",
    "\n",
    "0 + 2 + 1 = 3\n",
    "\n",
    "1 + 0 + 2 = 3\n",
    "\n",
    "1 + 2 + 0 = 3\n",
    "\n",
    "2 + 0 + 1 = 3\n",
    "\n",
    "2 + 1 + 0 = 3\n",
    "\n",
    "1 + 1 + 1 = 3\n",
    "### Example 2:\n",
    "\n",
    "#### Input:\n",
    "N = 1\n",
    "#### Output:\n",
    "3\n",
    "#### Explaination:\n",
    "The ways are:\n",
    "\n",
    "1 + 0 + 0 = 1\n",
    "\n",
    "0 + 1 + 0 = 1\n",
    "\n",
    "0 + 0 + 1 = 1\n",
    "### Your Task:\n",
    "You do not need to read input or print anything. Your task is to complete the function countWays() which takes N as input parameter and returns the total number of possible ways to break N in three whole numbers.\n",
    "\n",
    "**Expected Time Complexity:** O(1)\n",
    "\n",
    "**Expected Auxiliary Space:** O(1)\n",
    "\n",
    "### Constraints:\n",
    "1 ≤ N ≤ 10^9"
   ]
  },
  {
   "cell_type": "code",
   "execution_count": 1,
   "metadata": {},
   "outputs": [
    {
     "name": "stdout",
     "output_type": "stream",
     "text": [
      "2\n",
      "3\n",
      "10\n",
      "1\n",
      "3\n"
     ]
    }
   ],
   "source": [
    "# User function Template for python3\n",
    "class Solution:\n",
    "    def countWays(self, N):\n",
    "        # code here\n",
    "        return (N + 1) * (N + 2) // 2\n",
    "\n",
    "#{ \n",
    "#  Driver Code Starts\n",
    "#Initial Template for Python 3\n",
    "\n",
    "if __name__ == '__main__':\n",
    "    t = int(input())\n",
    "    for _ in range(t):\n",
    "        N = int(input())\n",
    "        \n",
    "        ob = Solution()\n",
    "        print(ob.countWays(N))\n",
    "# } Driver Code Ends"
   ]
  }
 ],
 "metadata": {
  "kernelspec": {
   "display_name": "Python 3",
   "language": "python",
   "name": "python3"
  },
  "language_info": {
   "codemirror_mode": {
    "name": "ipython",
    "version": 3
   },
   "file_extension": ".py",
   "mimetype": "text/x-python",
   "name": "python",
   "nbconvert_exporter": "python",
   "pygments_lexer": "ipython3",
   "version": "3.8.3"
  }
 },
 "nbformat": 4,
 "nbformat_minor": 4
}
