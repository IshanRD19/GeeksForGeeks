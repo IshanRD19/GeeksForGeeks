{
 "cells": [
  {
   "cell_type": "markdown",
   "metadata": {},
   "source": [
    "# STRING SUBSEQUENCE\n",
    "\n",
    "Given two strings S1 and S2, find the number of times the second string occurs in the first string, whether continuous or discontinuous.\n",
    "\n",
    "### Example 1:\n",
    "\n",
    "#### Input: \n",
    "S1 = geeksforgeeks\n",
    "\n",
    "S2 = gks\n",
    "#### Output:\n",
    "4\n",
    "#### Explaination: \n",
    "For the first 'g' there are 3 ways and for the second 'g' there is one way. Total 4 ways.\n",
    "\n",
    "### Your Task:\n",
    "You don't need to read input or print anything. Your task is to complete the function countWays() which takes the string S1 and S2 as input parameters and returns the number of ways.\n",
    "\n",
    "**Expected Time Complexity:** O(n*m)        [n and m are length of the strings]\n",
    "\n",
    "**Expected Auxiliary Space:** O(n*m)\n",
    "\n",
    "### Constraints:\n",
    "1 ≤ n, m ≤ 500"
   ]
  },
  {
   "cell_type": "code",
   "execution_count": 1,
   "metadata": {},
   "outputs": [
    {
     "name": "stdout",
     "output_type": "stream",
     "text": [
      "4\n",
      "0\n",
      "10\n"
     ]
    }
   ],
   "source": [
    "# User function Template for python3\n",
    "class Solution:\n",
    "    def countWays(self, S1, S2):\n",
    "        # code here \n",
    "        len_1, len_2 = len(S1), len(S2)\n",
    "        count = [0 for _ in range(len_2)]\n",
    "\n",
    "        # For each character in first string\n",
    "        for i1 in range(len_1):\n",
    "\n",
    "            # Compare with each character in reverse of second string (to avoid using same character twice)\n",
    "            for i2 in range(len_2 - 1, -1, -1):\n",
    "\n",
    "                # Compare values and update\n",
    "                if S1[i1] == S2[i2]:\n",
    "                    \n",
    "                    # Check if it is first character of subsequence\n",
    "                    if i2:\n",
    "                        count[i2] += count[i2-1]\n",
    "                    else:\n",
    "                        count[i2] += 1\n",
    "\n",
    "        return count[len_2 - 1]\n",
    "\n",
    "\n",
    "# ujimqwspslgvlcsaqbdbgwtbseettwdnfnbyjvpdjxyuzqxstatbzpctthoofremgfkrbcvkzvgbofthgojhdnaywpnbit\n",
    "# oraai\n",
    "\n",
    "#{ \n",
    " # Driver Code Starts\n",
    "#Initial Template for Python 3\n",
    "\n",
    "if __name__ == '__main__':\n",
    "    T=int(input())\n",
    "    for _ in range(T):\n",
    "        S1 = input()\n",
    "        S2 = input()\n",
    "        ob = Solution()\n",
    "        ans = ob.countWays(S1,S2)\n",
    "        print(ans)\n",
    "# } Driver Code Ends"
   ]
  }
 ],
 "metadata": {
  "kernelspec": {
   "display_name": "Python 3.10.6 64-bit",
   "language": "python",
   "name": "python3"
  },
  "language_info": {
   "codemirror_mode": {
    "name": "ipython",
    "version": 3
   },
   "file_extension": ".py",
   "mimetype": "text/x-python",
   "name": "python",
   "nbconvert_exporter": "python",
   "pygments_lexer": "ipython3",
   "version": "3.10.6"
  },
  "orig_nbformat": 4,
  "vscode": {
   "interpreter": {
    "hash": "26de051ba29f2982a8de78e945f0abaf191376122a1563185a90213a26c5da77"
   }
  }
 },
 "nbformat": 4,
 "nbformat_minor": 2
}
