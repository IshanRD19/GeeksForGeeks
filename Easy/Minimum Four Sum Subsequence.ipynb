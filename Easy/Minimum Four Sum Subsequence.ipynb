{
 "cells": [
  {
   "cell_type": "markdown",
   "metadata": {},
   "source": [
    "# MINIMUM FOUR SUM SUBSEQUENCE\n",
    "\n",
    "Given an array A[] of positive integers. The task is to complete the function which returns an integer denoting the minimum sum subsequence from the array such that at least one value among all groups of four consecutive elements is picked.\n",
    "\n",
    "### Examples:\n",
    "\n",
    "#### Input:\n",
    "A[] = {1, 2, 3, 4, 5, 6, 7, 8}\n",
    "#### Output:\n",
    "6\n",
    "6 is sum of output subsequence {1, 5}. Following 4 length subarrays are possible (1, 2, 3, 4), (2, 3, 4, 5), (3, 4, 5, 6),\n",
    "(4, 5, 6, 7), (5, 6, 7, 8) Here, Our subsequence {1, 5} has an element from all above groups of four consecutive elements.\n",
    "\n",
    "#### Input:\n",
    "A[] = {1, 2, 3, 3, 4, 5, 6, 1}\n",
    "#### Output:\n",
    "4\n",
    "\n",
    "The subsequence is {3, 1}. Here we consider second three.\n",
    "\n",
    "### Input:\n",
    "The first line of input contains an integer T denoting the no of test cases. Then T test cases follow. Each test case contains two lines. The first line of each test case contains an integer N. Then in the next line are N space separated values of the array A[].\n",
    "\n",
    "### Output:\n",
    "For each test case in a new line output will be the min sum of such subsequence .\n",
    "\n",
    "### Constraints:\n",
    "1<=T<=100\n",
    "1<=N<=50\n",
    "1<=A[]<=1000\n",
    "\n",
    "### Example (To be used only for expected output):\n",
    "#### Input:\n",
    "2\n",
    "\n",
    "8\n",
    "\n",
    "1 2 3 4 5 6 7 8\n",
    "\n",
    "8\n",
    "\n",
    "1 2 3 3 4 5 6 1\n",
    "#### Output:\n",
    "6\n",
    "\n",
    "4"
   ]
  },
  {
   "cell_type": "code",
   "execution_count": null,
   "metadata": {},
   "outputs": [],
   "source": [
    "# Your task is to complete this function\n",
    "# Function should return an integer\n",
    "class Solution:\n",
    "    \n",
    "    def minSum(arr, n):\n",
    "        # Code here\n",
    "        \n",
    "        # Check for trivial case\n",
    "        if n < 4:\n",
    "            return min(arr)\n",
    "        \n",
    "        min_4_sum = 0\n",
    "        right = n-1\n",
    "        left = max(0, right - 3)\n",
    "        \n",
    "        while left >= 0:\n",
    "            \n",
    "            min_4_sum += min(arr[left:right+1])\n",
    "            \n",
    "        \n",
    "        \n",
    "        \n",
    "        \n",
    "\n",
    "\n",
    "# { \n",
    "# Driver Code Starts\n",
    "# Your code goes here\n",
    "import sys\n",
    "sys.setrecursionlimit(10**6)\n",
    "\n",
    "if __name__=='__main__':\n",
    "    t = int(input())\n",
    "    for i in range(t):\n",
    "        n = int(input())\n",
    "        arr = list(map(int, input().strip().split()))\n",
    "        ob = Solution\n",
    "        print(ob.minSum(arr, n))\n",
    "# Contributed By: Harshit Sidhwa\n",
    "# } Driver Code Ends"
   ]
  },
  {
   "cell_type": "code",
   "execution_count": 4,
   "metadata": {},
   "outputs": [
    {
     "ename": "TypeError",
     "evalue": "unsupported operand type(s) for +: 'int' and 'list'",
     "output_type": "error",
     "traceback": [
      "\u001b[1;31m---------------------------------------------------------------------------\u001b[0m",
      "\u001b[1;31mTypeError\u001b[0m                                 Traceback (most recent call last)",
      "\u001b[1;32m<ipython-input-4-6fe6efdc7a44>\u001b[0m in \u001b[0;36m<module>\u001b[1;34m\u001b[0m\n\u001b[1;32m----> 1\u001b[1;33m \u001b[0msum\u001b[0m\u001b[1;33m(\u001b[0m\u001b[1;33m[\u001b[0m\u001b[1;33m[\u001b[0m\u001b[1;36m1\u001b[0m\u001b[1;33m]\u001b[0m\u001b[1;33m*\u001b[0m\u001b[1;36m3\u001b[0m\u001b[1;33m,\u001b[0m \u001b[1;33m[\u001b[0m\u001b[1;33m]\u001b[0m\u001b[1;33m]\u001b[0m\u001b[1;33m)\u001b[0m\u001b[1;33m\u001b[0m\u001b[1;33m\u001b[0m\u001b[0m\n\u001b[0m",
      "\u001b[1;31mTypeError\u001b[0m: unsupported operand type(s) for +: 'int' and 'list'"
     ]
    }
   ],
   "source": []
  }
 ],
 "metadata": {
  "kernelspec": {
   "display_name": "Python 3",
   "language": "python",
   "name": "python3"
  },
  "language_info": {
   "codemirror_mode": {
    "name": "ipython",
    "version": 3
   },
   "file_extension": ".py",
   "mimetype": "text/x-python",
   "name": "python",
   "nbconvert_exporter": "python",
   "pygments_lexer": "ipython3",
   "version": "3.8.3"
  }
 },
 "nbformat": 4,
 "nbformat_minor": 4
}
