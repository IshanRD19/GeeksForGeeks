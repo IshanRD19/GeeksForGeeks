{
 "cells": [
  {
   "cell_type": "markdown",
   "metadata": {},
   "source": [
    "# COMMON SUBSEQUENCE OLDP\n",
    "\n",
    "Given two strings S1 and S2 print whether they contain any common subsequence (non empty) or not.\n",
    "\n",
    "**NOTE:** Print 1 if they have a common subsequence (non empty) else 0.\n",
    "\n",
    "### Example 1:\n",
    "\n",
    "#### Input: \n",
    "S1 = \"ABEF\" , S2 = \"CADE\"\n",
    "#### Output: \n",
    "1\n",
    "#### Explanation: \n",
    "\"A\", \"E\", \"AE\" are in both S1 and S2.\n",
    "### Example 2:\n",
    "\n",
    "#### Input: \n",
    "S1 = \"ABCDE\" , S2 = \"FGHIJ\"\n",
    "#### Output: \n",
    "0\n",
    "#### Explanation: \n",
    "There is no common subsequences .\n",
    "\n",
    "### Your Task:  \n",
    "You dont need to read input or print anything. Complete the function commonSubseq() which takes S1 and S2 as input parameter and returns 1 if they have a common subsequence (non empty) else 0.\n",
    "\n",
    "**Expected Time Complexity:** O(|S|)\n",
    "\n",
    "**Expected Auxiliary Space:** O(K), Where K = Constant.\n",
    "\n",
    "### Constraints:\n",
    "1<= |S1|=|S2| <=1000"
   ]
  },
  {
   "cell_type": "code",
   "execution_count": 1,
   "metadata": {},
   "outputs": [
    {
     "name": "stdout",
     "output_type": "stream",
     "text": [
      "1\n",
      "0\n"
     ]
    }
   ],
   "source": [
    "#User function Template for python3\n",
    "class Solution:\n",
    "    def commonSubseq (ob, S1, S2):\n",
    "        # code here \n",
    "        smaller_set = set()\n",
    "\n",
    "        # Identify the smaller and larger strings\n",
    "        if len(S1) <= len(S2):\n",
    "            smaller_string = S1\n",
    "            larger_string = S2\n",
    "        else:\n",
    "            smaller_string = S2\n",
    "            larger_string = S1\n",
    "\n",
    "        # For each character in smaller string\n",
    "        for i in range(len(smaller_string)):\n",
    "            \n",
    "            # Update the set\n",
    "            smaller_set.add(smaller_string[i])\n",
    "\n",
    "        # For each character in larger string\n",
    "        for i in range(len(larger_string)):\n",
    "            \n",
    "            # Check if a common (non-empty) subsequence exists\n",
    "            if larger_string[i] in smaller_set:\n",
    "                return 1\n",
    "\n",
    "        return 0\n",
    "\n",
    "#{ \n",
    " # Driver Code Starts\n",
    "#Initial Template for Python 3\n",
    "if __name__ == '__main__': \n",
    "    t = int (input ())\n",
    "    for _ in range (t):\n",
    "        S1, S2 = input().split()\n",
    "        \n",
    "        ob = Solution()\n",
    "        print(ob.commonSubseq(S1, S2))\n",
    "# } Driver Code Ends"
   ]
  }
 ],
 "metadata": {
  "kernelspec": {
   "display_name": "Python 3.10.6 64-bit",
   "language": "python",
   "name": "python3"
  },
  "language_info": {
   "codemirror_mode": {
    "name": "ipython",
    "version": 3
   },
   "file_extension": ".py",
   "mimetype": "text/x-python",
   "name": "python",
   "nbconvert_exporter": "python",
   "pygments_lexer": "ipython3",
   "version": "3.10.6"
  },
  "orig_nbformat": 4,
  "vscode": {
   "interpreter": {
    "hash": "26de051ba29f2982a8de78e945f0abaf191376122a1563185a90213a26c5da77"
   }
  }
 },
 "nbformat": 4,
 "nbformat_minor": 2
}
