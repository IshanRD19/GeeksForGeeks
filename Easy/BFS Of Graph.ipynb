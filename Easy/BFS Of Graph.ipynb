{
 "cells": [
  {
   "cell_type": "markdown",
   "metadata": {},
   "source": [
    "Given a directed graph. The task is to do Breadth First Traversal of this graph starting from 0.\n",
    "\n",
    "**Note:** One can move from node u to node v only if there's an edge from u to v and find the BFS traversal of the graph starting from the 0th vertex, from left to right according to the graph. Also, you should only take nodes directly or indirectly connected from Node 0 in consideration.\n",
    "\n",
    "### Example 1:\n",
    "\n",
    "#### Input:\n",
    "\n",
    "#### Output: \n",
    "0 1 2 3 4\n",
    "#### Explanation: \n",
    "0 is connected to 1 , 2 , 3.\n",
    "2 is connected to 4.\n",
    "so starting from 0, it will go to 1 then 2\n",
    "then 3.After this 2 to 4, thus bfs will be\n",
    "0 1 2 3 4.\n",
    "### Example 2:\n",
    "\n",
    "#### Input:\n",
    "\n",
    "#### Output: \n",
    "0 1 2\n",
    "#### Explanation:\n",
    "0 is connected to 1 , 2.\n",
    "so starting from 0, it will go to 1 then 2,\n",
    "thus bfs will be 0 1 2 3 4. \n",
    "\n",
    "### Your task:\n",
    "You don’t need to read input or print anything. Your task is to complete the function bfsOfGraph() which takes the integer V denoting the number of vertices and adjacency list as input parameters and returns  a list containing the BFS traversal of the graph starting from the 0th vertex from left to right.\n",
    "\n",
    "**Expected Time Complexity:** O(V + E)\n",
    "\n",
    "**Expected Auxiliary Space:** O(V)\n",
    "\n",
    "### Constraints:\n",
    "1 ≤ V, E ≤ 10^4"
   ]
  },
  {
   "cell_type": "code",
   "execution_count": 5,
   "metadata": {},
   "outputs": [],
   "source": [
    "# User function Template for python3\n",
    "class Solution:\n",
    "    #Function to return Breadth First Traversal of given graph.\n",
    "    def bfsOfGraph(self, V, adj):\n",
    "        # code here\n",
    "        explored_nodes = [0]\n",
    "        visited_nodes = []\n",
    "        result = []\n",
    "        \n",
    "        while explored_nodes:\n",
    "            current_node = explored_nodes.pop(0)\n",
    "            \n",
    "            # Check if node is already visited\n",
    "            if current_node in visited_nodes:\n",
    "                continue\n",
    "\n",
    "            result.append(current_node)\n",
    "            \n",
    "            # Store all unexplored neighbors of current node\n",
    "            for e in adj[current_node]:\n",
    "                if e not in explored_nodes:\n",
    "                    explored_nodes.append(e)\n",
    "            \n",
    "            # Mark the current node as visited\n",
    "            visited_nodes.append(current_node)\n",
    "                        \n",
    "        return result \n",
    "\n",
    "# { \n",
    "# Driver Code Starts\n",
    "if __name__ == '__main__':\n",
    "    T=int(input())\n",
    "    for i in range(T):\n",
    "        V, E = map(int, input().split())\n",
    "    adj = [[] for i in range(V)]\n",
    "    for _ in range(E):\n",
    "        u, v = map(int, input().split())\n",
    "        adj[u].append(v)\n",
    "    ob = Solution()\n",
    "    ans = ob.bfsOfGraph(V, adj)\n",
    "    for i in range(len(ans)):\n",
    "        print(ans[i], end = \" \")\n",
    "    print()\n",
    "# } Driver Code Ends"
   ]
  }
 ],
 "metadata": {
  "kernelspec": {
   "display_name": "Python 3.10.6 64-bit",
   "language": "python",
   "name": "python3"
  },
  "language_info": {
   "codemirror_mode": {
    "name": "ipython",
    "version": 3
   },
   "file_extension": ".py",
   "mimetype": "text/x-python",
   "name": "python",
   "nbconvert_exporter": "python",
   "pygments_lexer": "ipython3",
   "version": "3.10.6"
  },
  "orig_nbformat": 4,
  "vscode": {
   "interpreter": {
    "hash": "26de051ba29f2982a8de78e945f0abaf191376122a1563185a90213a26c5da77"
   }
  }
 },
 "nbformat": 4,
 "nbformat_minor": 2
}
