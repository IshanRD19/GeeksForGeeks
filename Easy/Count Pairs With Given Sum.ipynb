{
 "cells": [
  {
   "cell_type": "markdown",
   "metadata": {},
   "source": [
    "# COUNT PAIRS WITH GIVEN SUM\n",
    "\n",
    "Given an array of N integers, and an integer K, find the number of pairs of elements in the array whose sum is equal to K.\n",
    "\n",
    "### Example 1:\n",
    "\n",
    "#### Input:\n",
    "N = 4, K = 6\n",
    "\n",
    "arr[] = {1, 5, 7, 1}\n",
    "#### Output:\n",
    "2\n",
    "\n",
    "#### Explanation: \n",
    "arr[0] + arr[1] = 1 + 5 = 6 and arr[1] + arr[3] = 5 + 1 = 6.\n",
    "\n",
    "### Example 2:\n",
    "\n",
    "#### Input:\n",
    "N = 4, K = 2\n",
    "\n",
    "arr[] = {1, 1, 1, 1}\n",
    "\n",
    "#### Output:\n",
    "6\n",
    "#### Explanation: \n",
    "Each 1 will produce sum 2 with any 1.\n",
    "\n",
    "### Your Task:\n",
    "You don't need to read input or print anything. Your task is to complete the function getPairsCount() which takes arr[], n and k as input parameters and returns the number of pairs that have sum K.\n",
    "\n",
    "**Expected Time Complexity:** O(N)\n",
    "\n",
    "**Expected Auxiliary Space:** O(N)\n",
    "\n",
    "### Constraints:\n",
    "1 <= N <= 10^5\n",
    "\n",
    "1 <= K <= 10^8\n",
    "\n",
    "1 <= Arr[i] <= 10^6"
   ]
  },
  {
   "cell_type": "code",
   "execution_count": 1,
   "metadata": {},
   "outputs": [
    {
     "name": "stdout",
     "output_type": "stream",
     "text": [
      "2\n",
      "4 6\n",
      "1 5 7 1\n",
      "2\n",
      "4 2\n",
      "1 1 1 1\n",
      "6\n"
     ]
    }
   ],
   "source": [
    "# User function Template for python3\n",
    "class Solution:\n",
    "    def getPairsCount(self, arr, n, k):\n",
    "        # Step 1\n",
    "        \n",
    "        freq_map = {}\n",
    "\n",
    "        # Store the frequency of each element\n",
    "        for i in range(n):\n",
    "            if arr[i] in freq_map:\n",
    "                freq_map[arr[i]] += 1\n",
    "            else:\n",
    "                freq_map[arr[i]] = 1\n",
    "                \n",
    "        # Step 2\n",
    "\n",
    "        count = 0\n",
    "        \n",
    "        # Count the number of valid pairs\n",
    "        for i in range(n):\n",
    "            complement = k - arr[i]\n",
    "            if complement in freq_map:\n",
    "                count += freq_map[complement]\n",
    "\n",
    "            # Exclude the pairs having same index\n",
    "            if complement == arr[i]:\n",
    "                count -= 1\n",
    "        \n",
    "        return count // 2\n",
    "\n",
    "#{ \n",
    "#  Driver Code Starts\n",
    "#Initial Template for Python 3\n",
    "if __name__ == '__main__':\n",
    "    tc = int(input())\n",
    "    while tc > 0:\n",
    "        n, k = list(map(int, input().strip().split()))\n",
    "        arr = list(map(int, input().strip().split()))\n",
    "        ob = Solution()\n",
    "        ans = ob.getPairsCount(arr, n, k)\n",
    "        print(ans)\n",
    "        tc -= 1\n",
    "# } Driver Code Ends"
   ]
  }
 ],
 "metadata": {
  "kernelspec": {
   "display_name": "Python 3",
   "language": "python",
   "name": "python3"
  },
  "language_info": {
   "codemirror_mode": {
    "name": "ipython",
    "version": 3
   },
   "file_extension": ".py",
   "mimetype": "text/x-python",
   "name": "python",
   "nbconvert_exporter": "python",
   "pygments_lexer": "ipython3",
   "version": "3.8.3"
  }
 },
 "nbformat": 4,
 "nbformat_minor": 4
}
