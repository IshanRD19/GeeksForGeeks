{
 "cells": [
  {
   "cell_type": "markdown",
   "metadata": {},
   "source": [
    "# MINIMUM NUMBER OF COINS\n",
    "\n",
    "Given an infinite supply of each denomination of Indian currency { 1, 2, 5, 10, 20, 50, 100, 200, 500, 2000 } and a target value N.\n",
    "Find the minimum number of coins and/or notes needed to make the change for Rs N. You must return the list containing the value of coins required. \n",
    "\n",
    "### Example 1:\n",
    "\n",
    "#### Input: \n",
    "N = 43\n",
    "#### Output: \n",
    "20 20 2 1\n",
    "#### Explaination: \n",
    "Minimum number of coins and notes needed \n",
    "to make 43. \n",
    "\n",
    "### Example 2:\n",
    "\n",
    "#### Input: \n",
    "N = 1000\n",
    "#### Output: \n",
    "500 500\n",
    "#### Explaination: \n",
    "minimum possible notes\n",
    "is 2 notes of 500.\n",
    "\n",
    "### Your Task:\n",
    "You do not need to read input or print anything. Your task is to complete the function minPartition() which takes the value N as input parameter and returns a list of integers in decreasing order.\n",
    "\n",
    "**Expected Time Complexity:** O(N)\n",
    "\n",
    "**Expected Auxiliary Space:** O(N)\n",
    "\n",
    "### Constraints:\n",
    "1 ≤ N ≤ 10^6"
   ]
  },
  {
   "cell_type": "code",
   "execution_count": 3,
   "metadata": {},
   "outputs": [
    {
     "name": "stdout",
     "output_type": "stream",
     "text": [
      "500 500 \n"
     ]
    }
   ],
   "source": [
    "# User function Template for python3\n",
    "class Solution:\n",
    "    def minPartition(self, N):\n",
    "        # code here\n",
    "        result = []\n",
    "\n",
    "        while N:\n",
    "\n",
    "            if N >= 2000:\n",
    "                result.append(2000)\n",
    "                N -= 2000\n",
    "\n",
    "            elif N >= 500:\n",
    "                result.append(500)\n",
    "                N -= 500\n",
    "\n",
    "            elif N >= 200:\n",
    "                result.append(200)\n",
    "                N -= 200\n",
    "\n",
    "            elif N >= 100:\n",
    "                result.append(100)\n",
    "                N -= 100\n",
    "\n",
    "            elif N >= 50:\n",
    "                result.append(50)\n",
    "                N -= 50\n",
    "\n",
    "            elif N >= 20:\n",
    "                result.append(20)\n",
    "                N -= 20\n",
    "\n",
    "            elif N >= 10:\n",
    "                result.append(10)\n",
    "                N -= 10\n",
    "\n",
    "            elif N >= 5:\n",
    "                result.append(5)\n",
    "                N -= 5\n",
    "\n",
    "            elif N >= 2:\n",
    "                result.append(2)\n",
    "                N -= 2\n",
    "\n",
    "            else:\n",
    "                result.append(1)\n",
    "                N -= 1\n",
    "\n",
    "        return result\n",
    "\n",
    "# { \n",
    "# Driver Code Starts\n",
    "# Initial Template for Python 3\n",
    "if __name__ == '__main__':\n",
    "    t = int(input())\n",
    "    for _ in range(t):\n",
    "        N = int(input())\n",
    "        ob = Solution()\n",
    "        arr = ob.minPartition(N)\n",
    "        for i in range(len(arr)):\n",
    "            print(arr[i],end=\" \")\n",
    "        print()\n",
    "# } Driver Code Ends"
   ]
  }
 ],
 "metadata": {
  "kernelspec": {
   "display_name": "Python 3.10.6 64-bit",
   "language": "python",
   "name": "python3"
  },
  "language_info": {
   "codemirror_mode": {
    "name": "ipython",
    "version": 3
   },
   "file_extension": ".py",
   "mimetype": "text/x-python",
   "name": "python",
   "nbconvert_exporter": "python",
   "pygments_lexer": "ipython3",
   "version": "3.10.6"
  },
  "orig_nbformat": 4,
  "vscode": {
   "interpreter": {
    "hash": "26de051ba29f2982a8de78e945f0abaf191376122a1563185a90213a26c5da77"
   }
  }
 },
 "nbformat": 4,
 "nbformat_minor": 2
}
