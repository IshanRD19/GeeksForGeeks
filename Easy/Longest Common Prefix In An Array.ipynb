{
 "cells": [
  {
   "cell_type": "markdown",
   "metadata": {},
   "source": [
    "# LONGEST COMMON PREFIX IN AN ARRAY\n",
    "\n",
    "Given a array of N strings, find the longest common prefix among all strings present in the array.\n",
    "\n",
    "### Example 1:\n",
    "\n",
    "#### Input:\n",
    "N = 4\n",
    "\n",
    "arr[] = {geeksforgeeks, geeks, geek, geezer}\n",
    "#### Output:\n",
    "gee\n",
    "#### Explanation:\n",
    "\"gee\" is the longest common prefix in all the given strings.\n",
    "### Example 2:\n",
    "\n",
    "#### Input: \n",
    "N = 2\n",
    "\n",
    "arr[] = {hello, world}\n",
    "#### Output:\n",
    "-1\n",
    "#### Explanation:\n",
    "There's no common prefix in the given strings.\n",
    "\n",
    "### Your Task:\n",
    "You don't need to read input or print anything. Your task is to complete the function longestCommonPrefix() which takes the string array arr[] and its size N as inputs and returns the longest common prefix common in all the strings in the array. If there's no prefix common in all the strings, return \"-1\".\n",
    "\n",
    "**Expected Time Complexity:** O(N*max(|arri|)).\n",
    "\n",
    "**Expected Auxiliary Space:** O(max(|arri|)) for result.\n",
    "\n",
    "### Constraints:\n",
    "1 ≤ N ≤ 10^3\n",
    "\n",
    "1 ≤ |arri| ≤ 10^3"
   ]
  },
  {
   "cell_type": "code",
   "execution_count": 1,
   "metadata": {},
   "outputs": [
    {
     "name": "stdout",
     "output_type": "stream",
     "text": [
      "2\n",
      "4\n",
      "geeksforgeeks geeks geek geezer\n",
      "gee\n",
      "2\n",
      "hello world\n",
      "-1\n"
     ]
    }
   ],
   "source": [
    "# User function Template for python3\n",
    "class Solution:\n",
    "    def longestCommonPrefix(self, arr, n):\n",
    "        # code here\n",
    "        prefix = ''\n",
    "        i = 0\n",
    "\n",
    "        # Iterate until smallest string has been traversed\n",
    "        while True:\n",
    "\n",
    "            try:\n",
    "                # Check for common prefix\n",
    "                if len(set([s[i] for s in arr])) != 1:\n",
    "                    break\n",
    "\n",
    "                # Update the common prefix\n",
    "                prefix += arr[0][i]\n",
    "\n",
    "                i += 1\n",
    "\n",
    "            # Check if minimum length string has been traversed\n",
    "            except:\n",
    "                break\n",
    "                \n",
    "        return prefix if len(prefix) else -1\n",
    "\n",
    "#{ \n",
    "#  Driver Code Starts\n",
    "#Initial Template for Python 3\n",
    "\n",
    "if __name__=='__main__':\n",
    "    t=int(input())\n",
    "    for _ in range(t):\n",
    "        n = int(input())\n",
    "        arr = [x for x in input().strip().split(\" \")]\n",
    "        \n",
    "        ob=Solution()\n",
    "        print(ob.longestCommonPrefix(arr, n))\n",
    "# } Driver Code Ends"
   ]
  }
 ],
 "metadata": {
  "kernelspec": {
   "display_name": "Python 3",
   "language": "python",
   "name": "python3"
  },
  "language_info": {
   "codemirror_mode": {
    "name": "ipython",
    "version": 3
   },
   "file_extension": ".py",
   "mimetype": "text/x-python",
   "name": "python",
   "nbconvert_exporter": "python",
   "pygments_lexer": "ipython3",
   "version": "3.8.3"
  }
 },
 "nbformat": 4,
 "nbformat_minor": 4
}
