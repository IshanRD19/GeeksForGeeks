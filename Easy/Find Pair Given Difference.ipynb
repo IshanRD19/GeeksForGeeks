{
 "cells": [
  {
   "cell_type": "markdown",
   "metadata": {},
   "source": [
    "# FIND PAIR GIVEN DIFFERENCE\n",
    "\n",
    "Given an array Arr[] of size L and a number N, you need to write a program to find if there exists a pair of elements in the array whose difference is N.\n",
    "\n",
    "### Example 1:\n",
    "\n",
    "#### Input:\n",
    "L = 6, N = 78\n",
    "arr[] = {5, 20, 3, 2, 5, 80}\n",
    "#### Output: \n",
    "1\n",
    "#### Explanation: \n",
    "(2, 80) have difference of 78.\n",
    "### Example 2:\n",
    "\n",
    "#### Input:\n",
    "L = 5, N = 45\n",
    "arr[] = {90, 70, 20, 80, 50}\n",
    "#### Output: \n",
    "-1\n",
    "#### Explanation: \n",
    "There is no pair with difference of 45.\n",
    "### Your Task:\n",
    "You need not take input or print anything. Your task is to complete the function findPair() which takes array arr, size of the array L and N as input parameters and returns True if required pair exists, else return False.\n",
    "\n",
    "**Expected Time Complexity:** O(L* Log(L)).\n",
    "\n",
    "**Expected Auxiliary Space:** O(1).\n",
    "\n",
    "### Constraints:\n",
    "1<=L<=10^4 \n",
    "\n",
    "1<=Arr[i]<=10^5 \n",
    "\n",
    "0<=N<=10^5"
   ]
  },
  {
   "cell_type": "code",
   "execution_count": null,
   "metadata": {},
   "outputs": [],
   "source": [
    "# User function Template for python3\n",
    "class Solution:\n",
    "    def findPair(self, arr, L,N):\n",
    "        #code here\n",
    "        seen = set()\n",
    "\n",
    "        for i in range(L):\n",
    "\n",
    "            if arr[i] in seen:\n",
    "                return True\n",
    "\n",
    "            # Store both possible values\n",
    "            else:\n",
    "                seen.add(N + arr[i])\n",
    "                if (arr[i] - N) > 0:\n",
    "                    seen.add(arr[i] - N)\n",
    "                    \n",
    "        return False\n",
    "\n",
    "# { \n",
    "# Driver Code Starts\n",
    "# Initial Template for Python 3\n",
    "if __name__ == '__main__':\n",
    "    t = int(input())\n",
    "    for _ in range(t):\n",
    "        L,N = [int(x) for x in input().split()]\n",
    "        arr = [int(x) for x in input().split()]\n",
    "        solObj = Solution()\n",
    "        if(solObj.findPair(arr,L, N)):\n",
    "            print(1)\n",
    "        else:\n",
    "            print(-1)\n",
    "# } Driver Code Ends"
   ]
  }
 ],
 "metadata": {
  "kernelspec": {
   "display_name": "Python 3.10.6 64-bit",
   "language": "python",
   "name": "python3"
  },
  "language_info": {
   "name": "python",
   "version": "3.10.6"
  },
  "orig_nbformat": 4,
  "vscode": {
   "interpreter": {
    "hash": "26de051ba29f2982a8de78e945f0abaf191376122a1563185a90213a26c5da77"
   }
  }
 },
 "nbformat": 4,
 "nbformat_minor": 2
}
