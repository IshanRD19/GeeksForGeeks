{
 "cells": [
  {
   "cell_type": "markdown",
   "metadata": {},
   "source": [
    "# ALTERNATE POSITIVE AND NEGATIVE NUMBERS\n",
    "\n",
    "Given an unsorted array Arr of N positive and negative numbers. Your task is to create an array of alternate positive and negative numbers without changing the relative order of positive and negative numbers.\n",
    "\n",
    "**Note:** Array should start with positive number.\n",
    " \n",
    "### Example 1:\n",
    "\n",
    "#### Input: \n",
    "N = 9\n",
    "\n",
    "Arr[] = {9, 4, -2, -1, 5, 0, -5, -3, 2}\n",
    "#### Output:\n",
    "9 -2 4 -1 5 -5 0 -3 2\n",
    "### Example 2:\n",
    "\n",
    "#### Input: \n",
    "N = 10\n",
    "\n",
    "Arr[] = {-5, -2, 5, 2, 4, 7, 1, 8, 0, -8}\n",
    "#### Output:\n",
    "5 -5 2 -2 4 -8 7 1 8 0 \n",
    "\n",
    "### Your Task:  \n",
    "You don't need to read input or print anything. Your task is to complete the function rearrange() which takes the array of integers arr[] and n as parameters. You need to modify the array itself.\n",
    "\n",
    "**Expected Time Complexity:** O(N)\n",
    "\n",
    "**Expected Auxiliary Space:** O(N)\n",
    "\n",
    "### Constraints:\n",
    "1 ≤ N ≤ 10^7\n",
    "\n",
    "-10^6 ≤ Arr[i] ≤ 10^7"
   ]
  },
  {
   "cell_type": "code",
   "execution_count": 1,
   "metadata": {},
   "outputs": [
    {
     "name": "stdout",
     "output_type": "stream",
     "text": [
      "2\n",
      "9\n",
      "9 4 -2 -1 5 0 -5 -3 2\n",
      "9 -2 4 -1 5 -5 0 -3 2 \n",
      "10\n",
      "-5 -2 5 2 4 7 1 8 0 -8\n",
      "5 -5 2 -2 4 -8 7 1 8 0 \n"
     ]
    }
   ],
   "source": [
    "# User function Template for python3\n",
    "class Solution:\n",
    "    def rearrange(self,arr, n):\n",
    "        # code here\n",
    "        i = 0\n",
    "        result = []\n",
    "        positive = []\n",
    "        negative = []\n",
    "        \n",
    "        # For each element\n",
    "        for a in arr:\n",
    "            \n",
    "            # Segragate positive from negative elements\n",
    "            if a < 0:\n",
    "                negative.append(a)\n",
    "            else:\n",
    "                positive.append(a)\n",
    "        \n",
    "        # Store positive and negative numbers in an alternate manner\n",
    "        while i < n:\n",
    "            \n",
    "            if positive:\n",
    "                arr[i] = positive.pop(0)\n",
    "                i += 1\n",
    "            else:\n",
    "                arr[i:] = negative\n",
    "                break\n",
    "            \n",
    "            if negative:\n",
    "                arr[i] = negative.pop(0)\n",
    "                i += 1\n",
    "            else:\n",
    "                arr[i:] = positive\n",
    "                break\n",
    "        \n",
    "        return\n",
    "\n",
    "# { \n",
    "#  Driver Code Starts\n",
    "# Initial Template for Python 3\n",
    "if __name__ == '__main__':\n",
    "    tc = int(input())\n",
    "    while tc > 0:\n",
    "        n = int(input())\n",
    "        arr = list(map(int, input().strip().split()))\n",
    "        ob = Solution()\n",
    "        ob.rearrange(arr, n)\n",
    "        for x in arr:\n",
    "            print(x, end=\" \")\n",
    "        print()\n",
    "        tc -= 1\n",
    "# } Driver Code Ends"
   ]
  }
 ],
 "metadata": {
  "kernelspec": {
   "display_name": "Python 3",
   "language": "python",
   "name": "python3"
  },
  "language_info": {
   "codemirror_mode": {
    "name": "ipython",
    "version": 3
   },
   "file_extension": ".py",
   "mimetype": "text/x-python",
   "name": "python",
   "nbconvert_exporter": "python",
   "pygments_lexer": "ipython3",
   "version": "3.8.3"
  }
 },
 "nbformat": 4,
 "nbformat_minor": 4
}
