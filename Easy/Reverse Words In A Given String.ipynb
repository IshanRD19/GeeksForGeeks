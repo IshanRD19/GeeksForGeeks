{
 "cells": [
  {
   "cell_type": "markdown",
   "metadata": {},
   "source": [
    "# REVERSE WORDS IN A GIVEN STRING\n",
    "\n",
    "Given a String S, reverse the string without reversing its individual words. Words are separated by dots.\n",
    "\n",
    "### Example 1:\n",
    "\n",
    "#### Input:\n",
    "S = i.like.this.program.very.much\n",
    "#### Output:\n",
    "much.very.program.this.like.i\n",
    "#### Explanation:\n",
    "After reversing the whole string(not individual words), the input string becomes much.very.program.this.like.i\n",
    "### Example 2:\n",
    "\n",
    "#### Input:\n",
    "S = pqr.mno\n",
    "#### Output:\n",
    "mno.pqr\n",
    "#### Explanation:\n",
    "After reversing the whole string , the input string becomes mno.pqr\n",
    "\n",
    "### Your Task:\n",
    "You dont need to read input or print anything. Complete the function reverseWords() which takes string S as input parameter and returns a string containing the words in reversed order. Each word in the returning string should also be separated by '.' \n",
    "\n",
    "**Expected Time Complexity:** O(|S|)\n",
    "\n",
    "**Expected Auxiliary Space:** O(|S|)\n",
    "\n",
    "### Constraints:\n",
    "1 <= |S| <= 2000"
   ]
  },
  {
   "cell_type": "code",
   "execution_count": 1,
   "metadata": {},
   "outputs": [
    {
     "name": "stdout",
     "output_type": "stream",
     "text": [
      "2\n",
      "i.like.this.program.very.much\n",
      "much.very.program.this.like.i\n",
      "pqr.mno\n",
      "mno.pqr\n"
     ]
    }
   ],
   "source": [
    "# User function Template for python3\n",
    "class Solution:\n",
    "    #Function to reverse words in a given string.\n",
    "    def reverseWords(self,S):\n",
    "        # code here \n",
    "        words = S.split('.')\n",
    "        words.reverse()\n",
    "        return '.'.join(words) \n",
    "\n",
    "#{ \n",
    "#  Driver Code Starts\n",
    "# Initial Template for Python 3\n",
    "if __name__ == '__main__':\n",
    "    t = int(input())\n",
    "    for i in range(t):\n",
    "        s = str(input())\n",
    "        obj = Solution()\n",
    "        print(obj.reverseWords(s))\n",
    "# } Driver Code Ends"
   ]
  }
 ],
 "metadata": {
  "kernelspec": {
   "display_name": "Python 3",
   "language": "python",
   "name": "python3"
  },
  "language_info": {
   "codemirror_mode": {
    "name": "ipython",
    "version": 3
   },
   "file_extension": ".py",
   "mimetype": "text/x-python",
   "name": "python",
   "nbconvert_exporter": "python",
   "pygments_lexer": "ipython3",
   "version": "3.8.3"
  }
 },
 "nbformat": 4,
 "nbformat_minor": 4
}
