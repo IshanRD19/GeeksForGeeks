{
 "cells": [
  {
   "cell_type": "markdown",
   "metadata": {},
   "source": [
    "# NUMBER OF 1 BITS\n",
    "\n",
    "Given a positive integer N, print count of set bits in it. \n",
    "\n",
    "### Example 1:\n",
    "\n",
    "#### Input:\n",
    "N = 6\n",
    "#### Output:\n",
    "2\n",
    "#### Explanation:\n",
    "Binary representation is '110' \n",
    "So the count of the set bit is 2.\n",
    "### Example 2:\n",
    "\n",
    "#### Input:\n",
    "8\n",
    "#### Output:\n",
    "1\n",
    "#### Explanation:\n",
    "Binary representation is '1000' \n",
    "So the count of the set bit is 1.\n",
    "### Your Task:  \n",
    "You don't need to read input or print anything. Your task is to complete the function setBits() which takes an Integer N and returns the count of number of set bits.\n",
    "\n",
    "**Expected Time Complexity:** O(LogN)\n",
    "\n",
    "**Expected Auxiliary Space:** O(1)\n",
    "\n",
    "### Constraints:\n",
    "1 ≤ N ≤ 10^9"
   ]
  },
  {
   "cell_type": "code",
   "execution_count": 1,
   "metadata": {},
   "outputs": [
    {
     "name": "stdout",
     "output_type": "stream",
     "text": [
      "1\n",
      "2\n"
     ]
    }
   ],
   "source": [
    "#User function Template for python3\n",
    "class Solution:\n",
    "\tdef setBits(self, N):\n",
    "\t\t# code here\n",
    "\t\treturn bin(N)[2:].count('1')\n",
    "\n",
    "# { \n",
    "# Driver Code Starts\n",
    "# Initial Template for Python 3\n",
    "if __name__ == '__main__':\n",
    "\tT=int(input())\n",
    "\tfor i in range(T):\n",
    "\t\tN = int(input())\n",
    "\t\tob = Solution()\n",
    "\t\tans = ob.setBits(N)\n",
    "\t\tprint(ans)\n",
    "# } Driver Code Ends"
   ]
  }
 ],
 "metadata": {
  "kernelspec": {
   "display_name": "Python 3.10.6 64-bit",
   "language": "python",
   "name": "python3"
  },
  "language_info": {
   "codemirror_mode": {
    "name": "ipython",
    "version": 3
   },
   "file_extension": ".py",
   "mimetype": "text/x-python",
   "name": "python",
   "nbconvert_exporter": "python",
   "pygments_lexer": "ipython3",
   "version": "3.10.6"
  },
  "orig_nbformat": 4,
  "vscode": {
   "interpreter": {
    "hash": "26de051ba29f2982a8de78e945f0abaf191376122a1563185a90213a26c5da77"
   }
  }
 },
 "nbformat": 4,
 "nbformat_minor": 2
}
