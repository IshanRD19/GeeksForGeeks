{
 "cells": [
  {
   "cell_type": "markdown",
   "metadata": {},
   "source": [
    "# SORT AN ARRAY OF 0s, 1s AND 2s\n",
    "\n",
    "Given an array of size N containing only 0s, 1s, and 2s; sort the array in ascending order.\n",
    "\n",
    "### Example 1:\n",
    "\n",
    "#### Input: \n",
    "N = 5\n",
    "\n",
    "arr[]= {0 2 1 2 0}\n",
    "#### Output:\n",
    "0 0 1 2 2\n",
    "#### Explanation:\n",
    "0s 1s and 2s are segregated into ascending order.\n",
    "### Example 2:\n",
    "\n",
    "#### Input: \n",
    "N = 3\n",
    "\n",
    "arr[] = {0 1 0}\n",
    "#### Output:\n",
    "0 0 1\n",
    "#### Explanation:\n",
    "0s 1s and 2s are segregated into ascending order.\n",
    "\n",
    "### Your Task:\n",
    "You don't need to read input or print anything. Your task is to complete the function sort012() that takes an array arr and N as input parameters and sorts the array in-place.\n",
    "\n",
    "**Expected Time Complexity:** O(N)\n",
    "\n",
    "**Expected Auxiliary Space:** O(1)\n",
    "\n",
    "### Constraints:\n",
    "1 <= N <= 10^6\n",
    "\n",
    "0 <= A[i] <= 2"
   ]
  },
  {
   "cell_type": "code",
   "execution_count": 1,
   "metadata": {},
   "outputs": [
    {
     "name": "stdout",
     "output_type": "stream",
     "text": [
      "2\n",
      "5\n",
      "0 2 1 2 0\n",
      "0 0 1 2 2 \n",
      "3\n",
      "0 1 0\n",
      "0 0 1 \n"
     ]
    }
   ],
   "source": [
    "# User function Template for python3\n",
    "class Solution:\n",
    "    def sort012(self,arr,n):\n",
    "        # Better method than taking count and re-creating the array\n",
    "        low, mid, high = 0, 0, n-1\n",
    "        \n",
    "        # Traverse from middle to end of array \n",
    "        while mid <= high:\n",
    "\n",
    "            # Put 0 at low\n",
    "            if arr[mid] == 0:\n",
    "                arr[low], arr[mid] = arr[mid], arr[low]\n",
    "                low += 1\n",
    "                mid += 1\n",
    "\n",
    "            # Put 2 at high\n",
    "            elif arr[mid] == 2:\n",
    "                arr[high], arr[mid] = arr[mid], arr[high]\n",
    "                high -= 1\n",
    "\n",
    "            else:\n",
    "                mid += 1\n",
    "        \n",
    "        return\n",
    "\n",
    "#{ \n",
    "#  Driver Code Starts\n",
    "#Initial Template for Python 3\n",
    "if __name__ == '__main__':\n",
    "    t=int(input())\n",
    "    for _ in range(t):\n",
    "        n=int(input())\n",
    "        arr=[int(x) for x in input().strip().split()]\n",
    "        ob=Solution()\n",
    "        ob.sort012(arr,n)\n",
    "        for i in arr:\n",
    "            print(i, end=' ')\n",
    "        print()\n",
    "# } Driver Code Ends"
   ]
  }
 ],
 "metadata": {
  "kernelspec": {
   "display_name": "Python 3",
   "language": "python",
   "name": "python3"
  },
  "language_info": {
   "codemirror_mode": {
    "name": "ipython",
    "version": 3
   },
   "file_extension": ".py",
   "mimetype": "text/x-python",
   "name": "python",
   "nbconvert_exporter": "python",
   "pygments_lexer": "ipython3",
   "version": "3.8.3"
  }
 },
 "nbformat": 4,
 "nbformat_minor": 4
}
