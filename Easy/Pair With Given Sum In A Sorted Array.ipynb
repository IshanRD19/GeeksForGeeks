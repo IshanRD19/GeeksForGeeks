{
 "cells": [
  {
   "cell_type": "markdown",
   "metadata": {},
   "source": [
    "# PAIR WITH GIVEN SUM IN A SORTED ARRAY\n",
    "\n",
    "You are given an array Arr of size N. You need to find all pairs in the array that sum to a number K. If no such pair exists then output will be -1. The elements of the array are distinct and are in sorted order.\n",
    "Note: (a,b) and (b,a) are considered same. Also, an element cannot pair with itself, i.e., (a,a) is invalid.\n",
    "\n",
    "### Example 1:\n",
    "\n",
    "#### Input:\n",
    "n = 7\n",
    "\n",
    "arr[] = {1, 2, 3, 4, 5, 6, 7}\n",
    "\n",
    "K = 8\n",
    "\n",
    "#### Output:\n",
    "3\n",
    "\n",
    "#### Explanation:\n",
    "We find 3 such pairs that\n",
    "sum to 8 (1,7) (2,6) (3,5)\n",
    "\n",
    "### Example 2:\n",
    "\n",
    "#### Input:\n",
    "n = 7\n",
    "\n",
    "arr[] = {1, 2, 3, 4, 5, 6, 7}\n",
    "\n",
    "K = 98 \n",
    "#### Output:\n",
    "-1 \n",
    " \n",
    "\n",
    "### Your Task:\n",
    "This is a function problem. The input is already taken care of by the driver code. You only need to complete the function Countpair() that takes an array (arr), sizeOfArray (n), an integer K and return the count of the pairs which add up to the sum K. The driver code takes care of the printing.\n",
    "\n",
    "**Expected Time Complexity:** O(N).\n",
    "**Expected Auxiliary Space:** O(1).\n",
    "\n",
    "### Constraints:\n",
    "0 <= Ai <=10^7\n",
    "\n",
    "2 <= N <= 10^7\n",
    "\n",
    "0 <= K <= 10^7"
   ]
  },
  {
   "cell_type": "code",
   "execution_count": 2,
   "metadata": {},
   "outputs": [
    {
     "name": "stdout",
     "output_type": "stream",
     "text": [
      "3\n"
     ]
    }
   ],
   "source": [
    "# User function Template for python3\n",
    "class Solution:\n",
    "    def Countpair (self, arr, n, sum) : \n",
    "        #Complete the function\n",
    "        result = 0\n",
    "        left, right = 0, n-1\n",
    "        \n",
    "        # left and right can't be equal\n",
    "        while left < right:\n",
    "            current_pair = arr[left] + arr[right]\n",
    "            \n",
    "            if current_pair > sum:\n",
    "                right -= 1\n",
    "            elif current_pair < sum:\n",
    "                left += 1\n",
    "            else:\n",
    "                result += 1\n",
    "                left += 1\n",
    "                right -= 1\n",
    "        \n",
    "        return result if result else -1\n",
    "            \n",
    "# { \n",
    "# Driver Code Starts\n",
    "# Initial Template for Python 3\n",
    "for _ in range(0,int(input())):\n",
    "    n = int(input())\n",
    "    arr = list(map(int,input().strip().split()))\n",
    "    K = int(input())\n",
    "    res = Solution().Countpair(arr, n, K)\n",
    "    print(res)\n",
    "# } Driver Code Ends"
   ]
  }
 ],
 "metadata": {
  "kernelspec": {
   "display_name": "Python 3.10.6 64-bit",
   "language": "python",
   "name": "python3"
  },
  "language_info": {
   "codemirror_mode": {
    "name": "ipython",
    "version": 3
   },
   "file_extension": ".py",
   "mimetype": "text/x-python",
   "name": "python",
   "nbconvert_exporter": "python",
   "pygments_lexer": "ipython3",
   "version": "3.10.6"
  },
  "orig_nbformat": 4,
  "vscode": {
   "interpreter": {
    "hash": "26de051ba29f2982a8de78e945f0abaf191376122a1563185a90213a26c5da77"
   }
  }
 },
 "nbformat": 4,
 "nbformat_minor": 2
}
