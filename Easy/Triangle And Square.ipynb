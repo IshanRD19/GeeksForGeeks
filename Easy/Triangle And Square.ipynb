{
 "cells": [
  {
   "cell_type": "markdown",
   "metadata": {},
   "source": [
    "# TRIANGLE AND SQUARE\n",
    "\n",
    "Geek has a ticket to the Geek Summer Carnival. The ticket has a positive integer B written on it. B denotes the base of a right-angled isosceles triangle. \n",
    "Geek can avail discounts on X courses in the carnival.\n",
    "\n",
    "X is the maximum number of squares of size 2x2 units that can fit in the given right-angled isosceles triangle. \n",
    "Find X. \n",
    "\n",
    "### Example 1:\n",
    "\n",
    "#### Input:\n",
    "B = 8\n",
    "#### Output:\n",
    "6 \n",
    "#### Explanation: \n",
    "https://media.geeksforgeeks.org/img-practice/ScreenShot2022-04-01at2-1648805313.png\n",
    "\n",
    "### Example 2:\n",
    "\n",
    "\n",
    "#### Input:\n",
    "B = 2\n",
    "#### Output:\n",
    "0\n",
    "\n",
    "### Your Task:\n",
    "You don't need to read input or print anything. Complete the function countSquare() that takes integer b as input parameter and returns the number of possible squares that can fit into the isosceles triangle. \n",
    "\n",
    "\n",
    "Expected Time Complexity: O(1)\n",
    "Expected Auxiliary Space: O(1)\n",
    "\n",
    " \n",
    "\n",
    "### Constraints:\n",
    "1 <= B <= 1000"
   ]
  },
  {
   "cell_type": "code",
   "execution_count": null,
   "metadata": {},
   "outputs": [],
   "source": [
    "# User function Template for python3\n",
    "class Solution:\n",
    "    def countShare(self,B):\n",
    "        #code here\n",
    "        count = 0\n",
    "        \n",
    "        if B % 2:\n",
    "            n = (B - 1) // 2 - 1\n",
    "        else:\n",
    "            n = B // 2 - 1\n",
    "        \n",
    "        for i in range(1, n+1):\n",
    "            count += i\n",
    "        \n",
    "        return count\n",
    "        \n",
    "# { \n",
    "# Driver Code Starts\n",
    "# Initial Template for Python 3\n",
    "if __name__==\"__main__\":\n",
    "    for _ in range(int(input())):\n",
    "        b=int(input().strip())\n",
    "        obj=Solution()\n",
    "        print(obj.countShare(b))\n",
    "# } Driver Code Ends"
   ]
  }
 ],
 "metadata": {
  "kernelspec": {
   "display_name": "Python 3.10.6 64-bit",
   "language": "python",
   "name": "python3"
  },
  "language_info": {
   "name": "python",
   "version": "3.10.6"
  },
  "orig_nbformat": 4,
  "vscode": {
   "interpreter": {
    "hash": "26de051ba29f2982a8de78e945f0abaf191376122a1563185a90213a26c5da77"
   }
  }
 },
 "nbformat": 4,
 "nbformat_minor": 2
}
