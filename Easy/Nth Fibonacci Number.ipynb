{
 "cells": [
  {
   "cell_type": "markdown",
   "metadata": {},
   "source": [
    "# Nth FIBONACCI NUMBER\n",
    "\n",
    "Given a positive integer n, find the nth fibonacci number. Since the answer can be very large, return the answer modulo 1000000007.\n",
    "\n",
    "### Example 1:\n",
    "\n",
    "#### Input:\n",
    "n = 2\n",
    "#### Output:\n",
    "1 \n",
    "#### Explanation:\n",
    "1 is the 2nd number of fibonacci series.\n",
    "### Example 2:\n",
    "\n",
    "#### Input:\n",
    "n = 5\n",
    "#### Output:\n",
    "5\n",
    "#### Explanation:\n",
    "5 is the 5th number of fibonacci series.\n",
    "\n",
    "### Your Task:  \n",
    "You dont need to read input or print anything. Complete the function nthFibonacci() which takes n as input parameter and returns nth fibonacci number.\n",
    "\n",
    "**Expected Time Complexity:** O(n)\n",
    "\n",
    "**Expected Auxiliary Space:** O(n)\n",
    "\n",
    "### Constraints:\n",
    "1 <= n <= 1000"
   ]
  },
  {
   "cell_type": "code",
   "execution_count": 1,
   "metadata": {},
   "outputs": [
    {
     "name": "stdout",
     "output_type": "stream",
     "text": [
      "2\n",
      "2\n",
      "1\n",
      "5\n",
      "5\n"
     ]
    }
   ],
   "source": [
    "# User function Template for python3\n",
    "class Solution:\n",
    "    def nthFibonacci(self, n):\n",
    "        # code here\n",
    "        previous_1, previous_2 = 1, 0\n",
    "\n",
    "        for i in range(2, n+1):\n",
    "            current = (previous_2 + previous_1) % 1000000007\n",
    "            previous_2 = previous_1\n",
    "            previous_1 = current\n",
    "        \n",
    "        return current\n",
    "\n",
    "#{ \n",
    "#  Driver Code Starts\n",
    "#Initial Template for Python 3\n",
    "\n",
    "import sys\n",
    "sys.setrecursionlimit(10**6)\n",
    "\n",
    "if __name__ == '__main__': \n",
    "    t = int (input ())\n",
    "    for _ in range (t):\n",
    "        n = int(input())\n",
    "        \n",
    "        ob = Solution()\n",
    "        print(ob.nthFibonacci(n))\n",
    "# } Driver Code Ends"
   ]
  }
 ],
 "metadata": {
  "kernelspec": {
   "display_name": "Python 3",
   "language": "python",
   "name": "python3"
  },
  "language_info": {
   "codemirror_mode": {
    "name": "ipython",
    "version": 3
   },
   "file_extension": ".py",
   "mimetype": "text/x-python",
   "name": "python",
   "nbconvert_exporter": "python",
   "pygments_lexer": "ipython3",
   "version": "3.8.3"
  }
 },
 "nbformat": 4,
 "nbformat_minor": 4
}
