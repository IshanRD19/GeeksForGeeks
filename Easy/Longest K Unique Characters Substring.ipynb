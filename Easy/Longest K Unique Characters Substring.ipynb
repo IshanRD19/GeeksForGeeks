{
 "cells": [
  {
   "cell_type": "markdown",
   "metadata": {},
   "source": [
    "# LONGEST K UNIQUE CHARACTERS SUBSTRING\n",
    "\n",
    "Given a string you need to print the size of the longest possible substring that has exactly K unique characters. If there is no possible substring then print -1.\n",
    "\n",
    "### Example 1:\n",
    "\n",
    "#### Input:\n",
    "S = \"aabacbebebe\", K = 3\n",
    "#### Output:\n",
    "7\n",
    "#### Explanation:\n",
    "\"cbebebe\" is the longest substring with K distinct characters.\n",
    "### Example 2:\n",
    "\n",
    "#### Input: \n",
    "S = \"aaaa\", K = 2\n",
    "#### Output:\n",
    "-1\n",
    "#### Explanation:\n",
    "There's no substring with K distinct characters.\n",
    "\n",
    "### Your Task:\n",
    "You don't need to read input or print anything. Your task is to complete the function longestKSubstr() which takes the string S and an integer K as input and returns the length of the longest substring with exactly K distinct characters. If there is no substring with exactly K distinct characters then return -1.\n",
    "\n",
    "**Expected Time Complexity:** O(|S|).\n",
    "\n",
    "**Expected Auxiliary Space:** O(1).\n",
    "\n",
    "### Constraints:\n",
    "1 ≤ |S| ≤ 10^5\n",
    "\n",
    "1 ≤ K ≤ 10^5"
   ]
  },
  {
   "cell_type": "code",
   "execution_count": 1,
   "metadata": {},
   "outputs": [
    {
     "name": "stdout",
     "output_type": "stream",
     "text": [
      "3\n",
      "aabacbebebe\n",
      "3\n",
      "7\n",
      "aaaa\n",
      "2\n",
      "-1\n",
      "meayl\n",
      "2\n",
      "2\n"
     ]
    }
   ],
   "source": [
    "#User function Template for python3\n",
    "\n",
    "class Solution:\n",
    "\n",
    "    def longestKSubstr(self, s, k):\n",
    "        # code here\n",
    "        \n",
    "        # Check for trivial condition\n",
    "        if len(set([c for c in s])) < k:\n",
    "            return -1\n",
    "\n",
    "        start = 0\n",
    "        result = 0\n",
    "        chars = set()\n",
    "        last_seen = {}\n",
    "        \n",
    "        # For each character\n",
    "        for i in range(len(s)):\n",
    "            last_seen[s[i]] = i\n",
    "\n",
    "            # Check if the character is new or not\n",
    "            if s[i] not in chars:\n",
    "                chars.add(s[i])\n",
    "                \n",
    "                # Check if k unique characters are already considered or not\n",
    "                if len(chars) > k:\n",
    "                    \n",
    "                    # Store the length longest substring found before current index \n",
    "                    if i - start > result:\n",
    "                        result = i - start\n",
    "\n",
    "                    # Slide the window from left\n",
    "                    start = min(last_seen.values()) + 1\n",
    "                    chars.remove(s[start - 1])\n",
    "                    del last_seen[s[start - 1]]\n",
    "                        \n",
    "        return max(result, i - start + 1)\n",
    "\n",
    "#{ \n",
    "#  Driver Code Starts\n",
    "#Initial Template for Python 3\n",
    "if __name__ == '__main__':\n",
    "    t = int(input())\n",
    "    for _ in range(t):\n",
    "        s = input()\n",
    "        k = int(input())\n",
    "        solObj = Solution()\n",
    "        ans = solObj.longestKSubstr(s, k)\n",
    "        print(ans)\n",
    "# } Driver Code Ends"
   ]
  }
 ],
 "metadata": {
  "kernelspec": {
   "display_name": "Python 3",
   "language": "python",
   "name": "python3"
  },
  "language_info": {
   "codemirror_mode": {
    "name": "ipython",
    "version": 3
   },
   "file_extension": ".py",
   "mimetype": "text/x-python",
   "name": "python",
   "nbconvert_exporter": "python",
   "pygments_lexer": "ipython3",
   "version": "3.8.3"
  }
 },
 "nbformat": 4,
 "nbformat_minor": 4
}
