{
 "cells": [
  {
   "cell_type": "markdown",
   "metadata": {},
   "source": [
    "# EQUAL 0, 1 AND 2\n",
    "\n",
    "Given a string str of length N which consists of only 0, 1 or 2s, count the number of substring which have equal number of 0s, 1s and 2s.\n",
    " \n",
    "### Example 1:\n",
    "\n",
    "#### Input:\n",
    "str = “0102010”\n",
    "#### Output:\n",
    "2\n",
    "#### Explanation:\n",
    "Substring str[2, 4] = “102” and substring str[4, 6] = “201” has equal number of 0, 1 and 2 \n",
    "### Example 2:\n",
    "\n",
    "#### Input:\n",
    "str = “11100022”\n",
    "#### Output:\n",
    "0\n",
    "#### Explanation: \n",
    "There is no substring with equal number of 0 , 1 and 2.\n",
    "\n",
    "### Your Task:  \n",
    "You don't need to read input or print anything.Your task is to complete the function getSubstringWithEqual012() which takes a single string str as input and returns the answer.\n",
    "\n",
    "**Expected Time Complexity:** O(N)\n",
    "\n",
    "**Expected Auxiliary Space:** O(N)\n",
    "\n",
    "### Constraints:\n",
    "1 ≤ N ≤ 10^5"
   ]
  },
  {
   "cell_type": "code",
   "execution_count": 1,
   "metadata": {},
   "outputs": [
    {
     "name": "stdout",
     "output_type": "stream",
     "text": [
      "3\n",
      "0102010\n",
      "2\n",
      "1100022\n",
      "0\n",
      "102100211\n",
      "5\n"
     ]
    }
   ],
   "source": [
    "# User function Template for python3\n",
    "class Solution:\n",
    "\n",
    "    def getSubstringWithEqual012(self, Str):\n",
    "        # code here\n",
    "        result = 0\n",
    "        prefix_sum_0, prefix_sum_1, prefix_sum_2 = 0, 0, 0\n",
    "\n",
    "        ap = {}\n",
    "        ap[(0, 0)] = 1\n",
    "        \n",
    "        # Generate prefix sum using the frequency of each character  \n",
    "        for i in range(len(Str)):\n",
    "            if(Str[i] == '0'):\n",
    "                prefix_sum_0 += 1\n",
    "\n",
    "            elif(Str[i]=='1'):\n",
    "                prefix_sum_1 += 1\n",
    "            \n",
    "            else:\n",
    "                prefix_sum_2 += 1\n",
    "            \n",
    "            # Create a difference pair for each index\n",
    "            difference_pair = (prefix_sum_0 - prefix_sum_1, prefix_sum_1 - prefix_sum_2)\n",
    "            \n",
    "            # Check if difference pair is new or not\n",
    "            if difference_pair in ap.keys():\n",
    "                result += ap[difference_pair]\n",
    "                ap[difference_pair] += 1\n",
    "\n",
    "            else:\n",
    "                ap[difference_pair] = 1\n",
    "        \n",
    "        return result\n",
    "\n",
    "#{ \n",
    "#  Driver Code Starts\n",
    "#Initial Template for Python 3\n",
    "\n",
    "if __name__ == '__main__':\n",
    "\n",
    "    t = int(input())\n",
    "\n",
    "    for _ in range(t):\n",
    "        Str = input()\n",
    "\n",
    "        solObj = Solution()\n",
    "\n",
    "        print(solObj.getSubstringWithEqual012(Str))\n",
    "\n",
    "# } Driver Code Ends"
   ]
  }
 ],
 "metadata": {
  "kernelspec": {
   "display_name": "Python 3",
   "language": "python",
   "name": "python3"
  },
  "language_info": {
   "codemirror_mode": {
    "name": "ipython",
    "version": 3
   },
   "file_extension": ".py",
   "mimetype": "text/x-python",
   "name": "python",
   "nbconvert_exporter": "python",
   "pygments_lexer": "ipython3",
   "version": "3.8.3"
  }
 },
 "nbformat": 4,
 "nbformat_minor": 4
}
