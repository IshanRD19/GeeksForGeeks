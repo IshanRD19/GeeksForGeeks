{
 "cells": [
  {
   "cell_type": "markdown",
   "metadata": {},
   "source": [
    "# MINIMUM TIMES A HAS TO BE REPEATED SUCH THAT B IS A SUBSTRING OF IT\n",
    "\n",
    "Given two strings A and B. Find minimum number of times A has to be repeated such that B is a Substring of it. If B can never be a substring then return -1.\n",
    "\n",
    "### Example 1:\n",
    "\n",
    "#### Input:\n",
    "A = \"abcd\"\n",
    "\n",
    "B = \"cdabcdab\"\n",
    "#### Output:\n",
    "3\n",
    "#### Explanation:\n",
    "Repeating A three times (“abcdabcdabcd”), B is a substring of it. B is not a substring of A when it is repeated less than 3 times.\n",
    "### Example 2:\n",
    "#### Input:\n",
    "A = \"ab\"\n",
    "\n",
    "B = \"cab\"\n",
    "#### Output :\n",
    "-1\n",
    "#### Explanation:\n",
    "No matter how many times we repeat A, we can't get a string such that B is a substring of it.\n",
    "\n",
    "### Your Task:  \n",
    "You don't need to read input or print anything. Your task is to complete the function minRepeats() which takes 2 strings A, and B respectively and returns the minimum number of times A has to be repeated such that B is a substring of it. Return -1 if it's not possible.\n",
    "\n",
    "**Expected Time Complexity:** O(|A| * |B|)\n",
    "\n",
    "**Expected Auxiliary Space:** O(|B|)\n",
    "\n",
    "### Constraints:\n",
    "1 ≤ |A|, |B| ≤ 10^3\n",
    "\n",
    "String A and B consists of lower case alphabets"
   ]
  },
  {
   "cell_type": "code",
   "execution_count": 1,
   "metadata": {},
   "outputs": [
    {
     "name": "stdout",
     "output_type": "stream",
     "text": [
      "4\n",
      "abcd\n",
      "cdabcdab\n",
      "3\n",
      "ab\n",
      "cab\n",
      "-1\n",
      "aff\n",
      "ffaffaffaffaffaffa\n",
      "7\n",
      "qwq\n",
      "qwqwqwqwqwqwqwqw\n",
      "-1\n"
     ]
    }
   ],
   "source": [
    "# User function Template for python3\n",
    "class Solution:\n",
    "    def minRepeats(self, A, B):\n",
    "        # Check for trivial condition\n",
    "        if set([c for c in A]) != set([c for c in B]):\n",
    "            return -1\n",
    "\n",
    "        copy = A\n",
    "        count = 1\n",
    "\n",
    "        # Keep looking until found or exceeds constraint\n",
    "        while B not in A and count < 1001:\n",
    "            A += copy\n",
    "            count += 1\n",
    "        \n",
    "        return count if count < 1001 else -1\n",
    "\n",
    "# { \n",
    "#  Driver Code Starts\n",
    "# Initial Template for Python 3\n",
    "if __name__ == '__main__': \n",
    "    t = int (input ())\n",
    "    for _ in range (t):\n",
    "        A=input()\n",
    "        B=input()\n",
    "        \n",
    "        ob = Solution()\n",
    "        print(ob.minRepeats(A,B))\n",
    "# } Driver Code Ends"
   ]
  }
 ],
 "metadata": {
  "kernelspec": {
   "display_name": "Python 3",
   "language": "python",
   "name": "python3"
  },
  "language_info": {
   "codemirror_mode": {
    "name": "ipython",
    "version": 3
   },
   "file_extension": ".py",
   "mimetype": "text/x-python",
   "name": "python",
   "nbconvert_exporter": "python",
   "pygments_lexer": "ipython3",
   "version": "3.8.3"
  }
 },
 "nbformat": 4,
 "nbformat_minor": 4
}
