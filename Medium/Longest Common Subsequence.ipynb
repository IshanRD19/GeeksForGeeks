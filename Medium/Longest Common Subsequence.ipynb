{
 "cells": [
  {
   "cell_type": "markdown",
   "metadata": {},
   "source": [
    "# LONGEST COMMON SUBSEQUENCE\n",
    "\n",
    "Given two sequences, find the length of longest subsequence present in both of them. Both the strings are of uppercase.\n",
    "\n",
    "### Example 1:\n",
    "\n",
    "#### Input:\n",
    "A = 6, B = 6\n",
    "\n",
    "str1 = ABCDGH\n",
    "\n",
    "str2 = AEDFHR\n",
    "#### Output:\n",
    "3\n",
    "#### Explanation:\n",
    "LCS for input Sequences “ABCDGH” and “AEDFHR” is “ADH” of length 3.\n",
    "### Example 2:\n",
    "\n",
    "#### Input:\n",
    "A = 3, B = 2\n",
    "\n",
    "str1 = ABC\n",
    "\n",
    "str2 = AC\n",
    "#### Output:\n",
    "2\n",
    "#### Explanation:\n",
    "LCS of \"ABC\" and \"AC\" is \"AC\" of length 2.\n",
    "#### Your Task:\n",
    "Complete the function lcs() which takes the length of two strings respectively and two strings as input parameters and returns the length of the longest subsequence present in both of them.\n",
    "\n",
    "Expected Time Complexity : O(|str1|*|str2|)\n",
    "Expected Auxiliary Space: O(|str1|*|str2|)\n",
    "\n",
    "### Constraints:\n",
    "1 <= size(str1), size(str2) <= 10^3"
   ]
  },
  {
   "cell_type": "code",
   "execution_count": 1,
   "metadata": {},
   "outputs": [
    {
     "name": "stdout",
     "output_type": "stream",
     "text": [
      "3\n",
      "6 6\n",
      "ABCDGH\n",
      "AEDFHR\n",
      "3\n",
      "3 2\n",
      "ABC\n",
      "AC\n",
      "2\n",
      "11 5\n",
      "UBZVAFSPQPQ\n",
      "WUZIF\n",
      "3\n"
     ]
    }
   ],
   "source": [
    "# User function Template for python3\n",
    "class Solution:\n",
    "    def real_lcs(self, x, y, s1, s2, explored_states):\n",
    "\n",
    "        # Check for base condition\n",
    "        if not x or not y:\n",
    "            return 0\n",
    "        \n",
    "        # Check for duplicate subproblems\n",
    "        if (x, y) in explored_states:\n",
    "            return explored_states[(x,y)]\n",
    "\n",
    "        # Check for matching character in string\n",
    "        if s1[x-1] == s2[y-1]:\n",
    "            explored_states[(x, y)] = 1 + self.real_lcs(x-1, y-1, s1, s2, explored_states)\n",
    "        else:\n",
    "            explored_states[(x, y)] = max(self.real_lcs(x-1, y, s1, s2, explored_states), self.real_lcs(x, y-1, s1, s2, explored_states))\n",
    "        \n",
    "        return explored_states[(x, y)]\n",
    "        \n",
    "    # Function to find the length of longest common subsequence in two strings.\n",
    "    def lcs(self, x, y, s1, s2):\n",
    "        return self.real_lcs(x, y, s1, s2, {})\n",
    "\n",
    "# { \n",
    "#  Driver Code Starts\n",
    "# Initial Template for Python 3\n",
    "if __name__ == '__main__':\n",
    "    test_cases = int(input())\n",
    "    for cases in range(test_cases):\n",
    "        x,y = map(int,input().strip().split())\n",
    "        s1 = str(input())\n",
    "        s2 = str(input())\n",
    "        ob=Solution()\n",
    "        print(ob.lcs(x,y,s1,s2))\n",
    "# } Driver Code Ends"
   ]
  }
 ],
 "metadata": {
  "kernelspec": {
   "display_name": "Python 3",
   "language": "python",
   "name": "python3"
  },
  "language_info": {
   "codemirror_mode": {
    "name": "ipython",
    "version": 3
   },
   "file_extension": ".py",
   "mimetype": "text/x-python",
   "name": "python",
   "nbconvert_exporter": "python",
   "pygments_lexer": "ipython3",
   "version": "3.8.3"
  }
 },
 "nbformat": 4,
 "nbformat_minor": 4
}
