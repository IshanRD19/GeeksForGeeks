{
 "cells": [
  {
   "cell_type": "markdown",
   "metadata": {},
   "source": [
    "# 0-1 KNAPSACK PROBLEM\n",
    "\n",
    "You are given weights and values of N items, put these items in a knapsack of capacity W to get the maximum total value in the knapsack. Note that we have only one quantity of each item.\n",
    "In other words, given two integer arrays val[0..N-1] and wt[0..N-1] which represent values and weights associated with N items respectively. Also given an integer W which represents knapsack capacity, find out the maximum value subset of val[] such that sum of the weights of this subset is smaller than or equal to W. You cannot break an item, either pick the complete item or dont pick it (0-1 property).\n",
    "\n",
    "### Example 1:\n",
    "\n",
    "#### Input:\n",
    "N = 3\n",
    "W = 4\n",
    "values[] = {1,2,3}\n",
    "weight[] = {4,5,1}\n",
    "#### Output: \n",
    "3\n",
    "### Example 2:\n",
    "\n",
    "#### Input:\n",
    "N = 3\n",
    "W = 3\n",
    "values[] = {1,2,3}\n",
    "weight[] = {4,5,6}\n",
    "#### Output: \n",
    "0\n",
    "### Your Task:\n",
    "Complete the function knapSack() which takes maximum capacity W, weight array wt[], value array val[], and the number of items n as a parameter and returns the maximum possible value you can get.\n",
    "\n",
    "**Expected Time Complexity:** O(N*W).\n",
    "\n",
    "**Expected Auxiliary Space:** O(N*W)\n",
    "\n",
    "### Constraints:\n",
    "1 ≤ N ≤ 1000\n",
    "\n",
    "1 ≤ W ≤ 1000\n",
    "\n",
    "1 ≤ wt[i] ≤ 1000\n",
    "\n",
    "1 ≤ v[i] ≤ 1000"
   ]
  },
  {
   "cell_type": "code",
   "execution_count": null,
   "metadata": {},
   "outputs": [],
   "source": [
    "# User function Template for python3\n",
    "class Solution:\n",
    "    #Function to return max value that can be put in knapsack of capacity W.\n",
    "    def knapSack(self,W, wt, val, n):\n",
    "        dp = [[-1 for w in range(W+1)] for i in range(n+1)]\n",
    "        \n",
    "        # For each item\n",
    "        for i in range(n+1):\n",
    "            \n",
    "            # For each weight limit \n",
    "            for w in range(W+1):\n",
    "                \n",
    "                # Set base values\n",
    "                if not i or not w:\n",
    "                    dp[i][w] = 0\n",
    "                \n",
    "                # Compare the profits between taking it and leaving it\n",
    "                elif wt[i-1] <= w:\n",
    "                    dp[i][w] = max(val[i-1] + dp[i-1][w - wt[i-1]], dp[i-1][w])\n",
    "                \n",
    "                # Store profit without taking\n",
    "                else:\n",
    "                    dp[i][w] = dp[i-1][w]\n",
    "        \n",
    "        return dp[n][W]\n",
    "\n",
    "# { \n",
    "# Driver Code Starts\n",
    "# Initial Template for Python 3\n",
    "import atexit\n",
    "import io\n",
    "import sys\n",
    "if __name__ == '__main__':\n",
    "    test_cases = int(input())\n",
    "    for cases in range(test_cases):\n",
    "        n = int(input())\n",
    "        W = int(input())\n",
    "        val = list(map(int,input().strip().split()))\n",
    "        wt = list(map(int,input().strip().split()))\n",
    "        ob=Solution()\n",
    "        print(ob.knapSack(W,wt,val,n))\n",
    "# } Driver Code Ends"
   ]
  }
 ],
 "metadata": {
  "kernelspec": {
   "display_name": "Python 3.10.6 64-bit",
   "language": "python",
   "name": "python3"
  },
  "language_info": {
   "name": "python",
   "version": "3.10.6"
  },
  "orig_nbformat": 4,
  "vscode": {
   "interpreter": {
    "hash": "26de051ba29f2982a8de78e945f0abaf191376122a1563185a90213a26c5da77"
   }
  }
 },
 "nbformat": 4,
 "nbformat_minor": 2
}
