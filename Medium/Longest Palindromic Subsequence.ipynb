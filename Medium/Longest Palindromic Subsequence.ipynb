{
 "cells": [
  {
   "cell_type": "markdown",
   "metadata": {},
   "source": [
    "# LONGEST PALINDROMIC SUBSEQUENCE\n",
    "\n",
    "Given a String, find the longest palindromic subsequence.\n",
    "\n",
    "### Example 1:\n",
    "\n",
    "#### Input:\n",
    "S = \"bbabcbcab\"\n",
    "#### Output:\n",
    "7\n",
    "#### Explanation:\n",
    "Subsequence \"babcbab\" is the longest subsequence which is also a palindrome.\n",
    "### Example 2:\n",
    "\n",
    "#### Input: \n",
    "S = \"abcd\"\n",
    "#### Output:\n",
    "1\n",
    "#### Explanation:\n",
    "\"a\", \"b\", \"c\" and \"d\" are palindromic and all have a length 1.\n",
    "\n",
    "### Your Task:\n",
    "You don't need to read input or print anything. Your task is to complete the function longestPalinSubseq() which takes the string S as input and returns an integer denoting the length of the longest palindromic subsequence of S.\n",
    "\n",
    "**Expected Time Complexity:** O(|S|*|S|).\n",
    "\n",
    "**Expected Auxiliary Space:** O(|S|*|S|).\n",
    "\n",
    "### Constraints:\n",
    "1 ≤ |S| ≤ 1000"
   ]
  },
  {
   "cell_type": "code",
   "execution_count": 1,
   "metadata": {},
   "outputs": [
    {
     "name": "stdout",
     "output_type": "stream",
     "text": [
      "2\n",
      "bbabcbcab\n",
      "7\n",
      "abcd\n",
      "1\n"
     ]
    }
   ],
   "source": [
    "# User function Template for python3\n",
    "class Solution:\n",
    "    def real_lcs(self, x, y, s1, s2, explored_states):\n",
    "\n",
    "        # Check for base condition\n",
    "        if not x or not y:\n",
    "            return 0\n",
    "        \n",
    "        # Check for duplicate subproblems\n",
    "        if (x, y) in explored_states:\n",
    "            return explored_states[(x,y)]\n",
    "\n",
    "        # Check for matching character in string\n",
    "        if s1[x-1] == s2[y-1]:\n",
    "            explored_states[(x, y)] = 1 + self.real_lcs(x-1, y-1, s1, s2, explored_states)\n",
    "        else:\n",
    "            explored_states[(x, y)] = max(self.real_lcs(x-1, y, s1, s2, explored_states), self.real_lcs(x, y-1, s1, s2, explored_states))\n",
    "        \n",
    "        return explored_states[(x, y)]\n",
    "\n",
    "    \n",
    "    def longestPalinSubseq(self, S):\n",
    "        # code here\n",
    "        return self.real_lcs(len(S), len(S), S, S[::-1], {})\n",
    "\n",
    "#{ \n",
    "#  Driver Code Starts\n",
    "#Initial Template for Python 3\n",
    "\n",
    "if __name__ == '__main__':\n",
    "    t = int(input())\n",
    "    for _ in range(t):\n",
    "        s = input()\n",
    "        ob = Solution()\n",
    "        ans = ob.longestPalinSubseq(s)\n",
    "        print(ans)\n",
    "# } Driver Code Ends"
   ]
  }
 ],
 "metadata": {
  "kernelspec": {
   "display_name": "Python 3",
   "language": "python",
   "name": "python3"
  },
  "language_info": {
   "codemirror_mode": {
    "name": "ipython",
    "version": 3
   },
   "file_extension": ".py",
   "mimetype": "text/x-python",
   "name": "python",
   "nbconvert_exporter": "python",
   "pygments_lexer": "ipython3",
   "version": "3.8.3"
  }
 },
 "nbformat": 4,
 "nbformat_minor": 4
}
