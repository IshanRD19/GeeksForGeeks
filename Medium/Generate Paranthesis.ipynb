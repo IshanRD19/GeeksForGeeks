{
 "cells": [
  {
   "cell_type": "markdown",
   "metadata": {},
   "source": [
    "# GENERATE PARENTHESIS\n",
    "\n",
    "Given an integer N representing the number of pairs of parentheses, the task is to generate all combinations of well-formed(balanced) parentheses.\n",
    "\n",
    "### Example 1:\n",
    "\n",
    "#### Input:\n",
    "N = 3\n",
    "#### Output:\n",
    "((()))\n",
    "\n",
    "(()())\n",
    "\n",
    "(())()\n",
    "\n",
    "()(())\n",
    "\n",
    "()()()\n",
    "### Example 2:\n",
    "#### Input:\n",
    "N = 1\n",
    "#### Output:\n",
    "()\n",
    "\n",
    "### Your Task:  \n",
    "You don't need to read input or print anything. Complete the function AllParenthesis() which takes N as input parameter and returns the list of balanced parenthesis.\n",
    "\n",
    "**Expected Time Complexity:** O(2^N * N).\n",
    "\n",
    "**Expected Auxiliary Space:** O(2 * N * X), X = Number of valid Parenthesis.\n",
    "\n",
    "### Constraints:\n",
    "1 ≤ N ≤ 12"
   ]
  },
  {
   "cell_type": "code",
   "execution_count": 1,
   "metadata": {},
   "outputs": [
    {
     "name": "stdout",
     "output_type": "stream",
     "text": [
      "2\n",
      "3\n",
      "((()))\n",
      "(()())\n",
      "(())()\n",
      "()(())\n",
      "()()()\n",
      "1\n",
      "()\n"
     ]
    }
   ],
   "source": [
    "# User function Template for python3\n",
    "class Solution:\n",
    "    \n",
    "    def AllParenthesis(self,n):\n",
    "        # code here\n",
    "        results = []\n",
    "        \n",
    "        def generate_parenthesis(opening, closing, curr_str):\n",
    "            # Check for balanced parathesis\n",
    "            if opening > closing:\n",
    "                return\n",
    "\n",
    "            # Add the balanced parenthesis\n",
    "            if not opening:\n",
    "                results.append(curr_str + ')' * closing)\n",
    "                return \n",
    "\n",
    "            # Add an opening paranthesis\n",
    "            generate_parenthesis(opening - 1, closing, curr_str + '(')\n",
    "\n",
    "            # Add a closing paranthesis\n",
    "            generate_parenthesis(opening, closing - 1, curr_str + ')')\n",
    "\n",
    "            return\n",
    "\n",
    "        generate_parenthesis(n, n, '')\n",
    "\n",
    "        return results\n",
    "\n",
    "# { \n",
    "# Driver Code Starts\n",
    "# Initial Template for Python 3\n",
    "if __name__==\"__main__\":\n",
    "    t=int(input())\n",
    "    for i in range(0,t):\n",
    "        n=int(input())\n",
    "        ob=Solution()\n",
    "        result=ob.AllParenthesis(n)\n",
    "        result.sort()\n",
    "        for i in range(0,len(result)):\n",
    "            print(result[i])\n",
    "# } Driver Code Ends"
   ]
  }
 ],
 "metadata": {
  "kernelspec": {
   "display_name": "Python 3",
   "language": "python",
   "name": "python3"
  },
  "language_info": {
   "codemirror_mode": {
    "name": "ipython",
    "version": 3
   },
   "file_extension": ".py",
   "mimetype": "text/x-python",
   "name": "python",
   "nbconvert_exporter": "python",
   "pygments_lexer": "ipython3",
   "version": "3.8.3"
  }
 },
 "nbformat": 4,
 "nbformat_minor": 4
}
