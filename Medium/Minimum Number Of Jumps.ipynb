{
 "cells": [
  {
   "cell_type": "markdown",
   "metadata": {},
   "source": [
    "# MINIMUM NUMBER OF JUMPS\n",
    "\n",
    "Given an array of N integers arr[] where each element represents the max number of steps that can be made forward from that element. Find the minimum number of jumps to reach the end of the array (starting from the first element). If an element is 0, then you cannot move through that element.\n",
    "\n",
    "**Note:** Return -1 if you can't reach the end of the array.\n",
    "\n",
    "### Example 1:\n",
    "\n",
    "#### Input:\n",
    "N = 11 \n",
    "\n",
    "arr[] = {1, 3, 5, 8, 9, 2, 6, 7, 6, 8, 9} \n",
    "#### Output: 3 \n",
    "#### Explanation: \n",
    "First jump from 1st element to 2nd element with value 3. Now, from here we jump to 5th element with value 9, and from here we will jump to the last. \n",
    "### Example 2:\n",
    "\n",
    "#### Input :\n",
    "N = 6\n",
    "\n",
    "arr = {1, 4, 3, 2, 6, 7}\n",
    "#### Output: 2 \n",
    "#### Explanation: \n",
    "First we jump from the 1st to 2nd element and then jump to the last element.\n",
    "\n",
    "### Your task:\n",
    "You don't need to read input or print anything. Your task is to complete function minJumps() which takes the array arr and it's size N as input parameters and returns the minimum number of jumps. If not possible return -1.\n",
    "\n",
    "**Expected Time Complexity:** O(N)\n",
    "\n",
    "**Expected Space Complexity:** O(1)\n",
    "\n",
    "### Constraints:\n",
    "1 ≤ N ≤ 10^7\n",
    "\n",
    "0 ≤ arri ≤ 10^7"
   ]
  },
  {
   "cell_type": "code",
   "execution_count": 1,
   "metadata": {},
   "outputs": [
    {
     "name": "stdout",
     "output_type": "stream",
     "text": [
      "2\n",
      "11\n",
      "1 3 5 8 9 2 6 7 6 8 9\n",
      "3\n",
      "6\n",
      "1 4 3 2 6 7\n",
      "2\n"
     ]
    }
   ],
   "source": [
    "# User function Template for python3\n",
    "class Solution:\n",
    "    def minJumps(self, arr, n):\n",
    "        #code here\n",
    "        \n",
    "        # Check if already present at the end\n",
    "        if n == 1:\n",
    "            return 0\n",
    "\n",
    "        current_index = 1\n",
    "        current_range = arr[current_index - 1]\n",
    "        is_updated = True\n",
    "        total_jumps = 0\n",
    "\n",
    "        # Continue until no further movement is possible\n",
    "        while is_updated:\n",
    "            is_updated = False\n",
    "            \n",
    "            # Check if n node is in range\n",
    "            if current_index + current_range >= n:\n",
    "                return total_jumps + 1\n",
    "\n",
    "            # Identify the next best node to jump on \n",
    "            for potential_index in range(current_index + 1, current_index + arr[current_index - 1] + 1):\n",
    "                \n",
    "                if (potential_index + arr[potential_index - 1]) > (current_index + current_range):\n",
    "                    is_updated = True\n",
    "                    current_index = potential_index\n",
    "                    current_range = arr[potential_index - 1]\n",
    "\n",
    "            total_jumps += 1\n",
    "\n",
    "        return -1\n",
    "\n",
    "#{ \n",
    "#  Driver Code Starts\n",
    "#Initial Template for Python 3\n",
    "if __name__ == '__main__':\n",
    "    T=int(input())\n",
    "    for i in range(T):\n",
    "        n = int(input())\n",
    "        Arr = [int(x) for x in input().split()]\n",
    "        ob = Solution()\n",
    "        ans = ob.minJumps(Arr,n)\n",
    "        print(ans)\n",
    "# } Driver Code Ends"
   ]
  }
 ],
 "metadata": {
  "kernelspec": {
   "display_name": "Python 3.10.6 64-bit",
   "language": "python",
   "name": "python3"
  },
  "language_info": {
   "codemirror_mode": {
    "name": "ipython",
    "version": 3
   },
   "file_extension": ".py",
   "mimetype": "text/x-python",
   "name": "python",
   "nbconvert_exporter": "python",
   "pygments_lexer": "ipython3",
   "version": "3.10.6"
  },
  "vscode": {
   "interpreter": {
    "hash": "26de051ba29f2982a8de78e945f0abaf191376122a1563185a90213a26c5da77"
   }
  }
 },
 "nbformat": 4,
 "nbformat_minor": 4
}
