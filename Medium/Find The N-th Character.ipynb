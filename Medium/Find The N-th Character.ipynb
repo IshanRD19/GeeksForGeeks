{
 "cells": [
  {
   "cell_type": "markdown",
   "metadata": {},
   "source": [
    "# FIND THE N-th CHARACTER\n",
    "\n",
    "Given a binary string S . Perform R iterations on string S, where in each iteration 0 becomes 01 and 1 becomes 10. Find the Nth character (considering 0 based indexing) of the string after performing these R iterations. (See Examples for better understanding)\n",
    "\n",
    "### Example 1:\n",
    "\n",
    "#### Input:\n",
    "S = 101\n",
    "\n",
    "R = 2 \n",
    "\n",
    "N = 3\n",
    "#### Output:\n",
    "1\n",
    "#### Explanation : \n",
    "After 1st iteration S becomes 100110. After 2nd iteration, S = 100101101001. Now, we can clearly see that the character at 3rd index is 1, and so the output.\n",
    "### Example 2:\n",
    "\n",
    "#### Input:\n",
    "S = 11\n",
    "\n",
    "R = 1 \n",
    "\n",
    "N = 3\n",
    "#### Output:\n",
    "0\n",
    "#### Explanation: \n",
    "After 1st iteration S becomes 1010. Now, we can clearly see that the character at 3rd index is 0, and so the output.\n",
    "\n",
    "### Your task:\n",
    "You don't need to read input or print anything. Your task is to complete the function nthCharacter() which takes the string S and integers R and N as input parameters and returns the N-th character of the string after performing R operations on S.\n",
    " \n",
    "**Expected Time Complexity:** O(r*len(s))\n",
    "\n",
    "**Expected Auxilary Space:** O(len(s))\n",
    "\n",
    "### Constraints:\n",
    "1 ≤ String length ≤ 10^3\n",
    "\n",
    "1 ≤ R ≤ 20\n",
    "\n",
    "0 ≤ N < Length of final string"
   ]
  },
  {
   "cell_type": "code",
   "execution_count": 1,
   "metadata": {},
   "outputs": [
    {
     "name": "stdout",
     "output_type": "stream",
     "text": [
      "2\n",
      "101 2 3\n",
      "1\n",
      "11 1 3\n",
      "0\n"
     ]
    }
   ],
   "source": [
    "# User function Template for python3\n",
    "class Solution:\n",
    "    def nthCharacter(self, S, R, N):\n",
    "        # code here\n",
    "        char_map = {'0': '01', '1': '10'}\n",
    "        \n",
    "        # Extract the character that will give N-th character after R iterations\n",
    "        # 101 -> 1 @ (9/2^2) = 2 index\n",
    "        S = S[int(N/(2**R))]\n",
    "        \n",
    "        # Perform R iterations on the extracted character\n",
    "        # 1 -> 10 -> 1001 @ 0 index\n",
    "        for i in range(R):\n",
    "            S = ''.join([char_map[c] for c in S])\n",
    "        \n",
    "        # Return the N-th character assuming entire prefix string was present\n",
    "        # 9th index -> 9%2^2 = 1 index of 1001 => 0\n",
    "        return S[N%(2**R)]\n",
    "\n",
    "#{ \n",
    "#  Driver Code Starts\n",
    "#Initial Template for Python 3\n",
    "\n",
    "if __name__ == '__main__':\n",
    "    t = int(input())\n",
    "    for _ in range(t):\n",
    "        snr = input().split()\n",
    "        S, R, N = snr[0], int(snr[1]), int(snr[2])\n",
    "        ob = Solution()\n",
    "        print(ob.nthCharacter(S, R, N))\n",
    "# } Driver Code Ends0"
   ]
  }
 ],
 "metadata": {
  "kernelspec": {
   "display_name": "Python 3",
   "language": "python",
   "name": "python3"
  },
  "language_info": {
   "codemirror_mode": {
    "name": "ipython",
    "version": 3
   },
   "file_extension": ".py",
   "mimetype": "text/x-python",
   "name": "python",
   "nbconvert_exporter": "python",
   "pygments_lexer": "ipython3",
   "version": "3.8.3"
  }
 },
 "nbformat": 4,
 "nbformat_minor": 4
}
