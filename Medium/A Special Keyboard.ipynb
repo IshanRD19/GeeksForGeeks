{
 "cells": [
  {
   "cell_type": "markdown",
   "metadata": {},
   "source": [
    "# A SPECIAL KEYBOARD\n",
    "\n",
    "Imagine you have a special keyboard with all keys in a single row. The layout of characters on a keyboard is denoted by a string S1 of length 26. S1 is indexed from 0 to 25. Initially, your finger is at index 0.\n",
    "To type a character, you have to move your finger to the index of the desired character. The time taken to move your finger from index i to index j is |j-i|, where || denotes absolute value.Find the time taken to type the string S2 with the given keyboard layout.\n",
    "\n",
    "### Example 1:\n",
    "\n",
    "#### Input: \n",
    "S1 = \"abcdefghijklmnopqrstuvwxyz\"\n",
    "\n",
    "S2 = \"cba\"\n",
    "#### Output: \n",
    "4\n",
    "#### Explanation:\n",
    "Initially we are at index 0. To type 'c', it will take a time of abs(0-2) = 2. To, type 'b' next, it will take abs(2-1) = 1. And, for 'a', it will take abs(1-0) = 1 unit time. So, total time = 2+1+1 = 4.\n",
    "### Example 2:\n",
    "\n",
    "#### Input: \n",
    "S1 = \"zyxwvutsrqponmlkjihgfedcba\"\n",
    "\n",
    "S2 = \"a\"\n",
    "#### Output: \n",
    "25\n",
    "#### Explanation:\n",
    "'a' is at index 25. So, the time taken to type 'a' will be abs(0-25) = 25.\n",
    "\n",
    "### Your Task:\n",
    "You don't need to read input or print anything. You only need to complete the function findTime() that takes two strings S1, and S2 as input and returns an integer denoting time taken to type the string S2.\n",
    "\n",
    "\n",
    "Expected Time Complexity:  O(|S2|)\n",
    "Expected Auxilliary Space: O(1)\n",
    " \n",
    "\n",
    "### Constraints:\n",
    "1 < |S2| < 10^5\n",
    "\n",
    "Length of S1 is 26\n",
    "\n",
    "S1 contains all 26 alphabets in lower case"
   ]
  },
  {
   "cell_type": "code",
   "execution_count": 1,
   "metadata": {},
   "outputs": [
    {
     "name": "stdout",
     "output_type": "stream",
     "text": [
      "2\n",
      "abcdefghijklmnopqrstuvwxyz\n",
      "cba\n",
      "4\n",
      "zyxwvutsrqponmlkjihgfedcba\n",
      "a\n",
      "25\n"
     ]
    }
   ],
   "source": [
    "# User function Template for python3\n",
    "class Solution:\n",
    "    def findTime(self, S1, S2):\n",
    "        # code here \n",
    "        key_map = {}\n",
    "        result = 0\n",
    "\n",
    "        for i in range(26):\n",
    "            key_map[S1[i]] = i\n",
    "            \n",
    "        for i in range(len(S2)):\n",
    "            if i:\n",
    "                result += abs(key_map[S2[i]] - key_map[S2[i-1]])\n",
    "            else:\n",
    "                result += key_map[S2[i]]\n",
    "                \n",
    "        return result\n",
    "\n",
    "#{ \n",
    "#  Driver Code Starts\n",
    "#Initial Template for Python 3\n",
    "\n",
    "if __name__ == '__main__': \n",
    "    t = int (input ())\n",
    "    for _ in range (t):\n",
    "        S1=input()\n",
    "        S2=input()\n",
    "        \n",
    "        ob = Solution()\n",
    "        print(ob.findTime(S1,S2))\n",
    "# } Driver Code Ends"
   ]
  }
 ],
 "metadata": {
  "kernelspec": {
   "display_name": "Python 3",
   "language": "python",
   "name": "python3"
  },
  "language_info": {
   "codemirror_mode": {
    "name": "ipython",
    "version": 3
   },
   "file_extension": ".py",
   "mimetype": "text/x-python",
   "name": "python",
   "nbconvert_exporter": "python",
   "pygments_lexer": "ipython3",
   "version": "3.8.3"
  }
 },
 "nbformat": 4,
 "nbformat_minor": 4
}
