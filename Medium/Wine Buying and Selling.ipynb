{
 "cells": [
  {
   "cell_type": "markdown",
   "metadata": {},
   "source": [
    "# WINE BUYING AND SELLING\n",
    "\n",
    "Given an array, arr[] of size N represents N house built along a straight line with equal distance between adjacent houses. Each house has a certain number of wine and they want to buy/sell those wines to other houses. Transporting one bottle of wine from one house to an adjacent house results in one unit of work. The task is to find the minimum number of work is required to fulfill all the demands of those N houses.\n",
    "\n",
    "- if a[i] < 0, then ith house wants to sell a[i] number of a wine bottle to other houses.\n",
    "- if a[i] > 0, then ith house wants to buy a[i] number of a wine bottle from other houses.\n",
    "**Note:** One have to print the minimum number such that, all the house can buy/sell wine to each other.\n",
    "It is guaranteed that sum of all the elements of the array will be 0.\n",
    "\n",
    "#### Example 1:\n",
    "\n",
    "#### Input: \n",
    "N = 5, arr[] = {5, -4, 1, -3, 1}\n",
    "#### Output: \n",
    "9\n",
    "#### Explanation: \n",
    "1th house can sell 4 wine bottle to 0th house,\n",
    "total work needed 4*(1-0) = 4, new arr[] = 1,0,1,-3,1\n",
    "now 3rd house can sell wine to 0th, 2th and 4th.\n",
    "so total work needed = 1*(3-0)+1*(3-2)+1*(4-3) = 5\n",
    "So total work will be 4+5 = 9\n",
    "### Example 2: \n",
    "\n",
    "#### Input: \n",
    "N = 5, arr[]={-1000, -1000, -1000, 1000, 1000, 1000}\n",
    "#### Output: \n",
    "9000\n",
    "### Your Task:  \n",
    "You don't need to read input or print anything. Complete the function wineSelling() which takes the array arr[] and its size N as input parameters and return an integer as output.\n",
    "\n",
    "**Expected Time Complexity:** O(N)\n",
    "\n",
    "**Expected Auxiliary Space:** O(1)\n",
    "\n",
    "### Constraints:\n",
    "1 ≤ N ≤ 10^5\n",
    "\n",
    "1 ≤ A[i] ≤ 10^6"
   ]
  },
  {
   "cell_type": "code",
   "execution_count": 8,
   "metadata": {},
   "outputs": [
    {
     "name": "stdout",
     "output_type": "stream",
     "text": [
      "112\n"
     ]
    }
   ],
   "source": [
    "# User function Template for python3\n",
    "class Solution:\t\n",
    "    def wineSelling(self, A, N):\n",
    "        # code here\n",
    "        next_buyer, next_seller = 0, 0\n",
    "        tasks = 0\n",
    "\n",
    "        while True:\n",
    "            \n",
    "            # Search for next buyer\n",
    "            while next_buyer < N and A[next_buyer] <= 0:\n",
    "                next_buyer += 1\n",
    "\n",
    "            # Search for next seller\n",
    "            while next_seller < N and A[next_seller] >= 0:\n",
    "                next_seller += 1\n",
    "\n",
    "            # Check if transaction can happen\n",
    "            if next_seller < N and next_buyer < N:\n",
    "                wine = min(A[next_buyer], -A[next_seller])\n",
    "                A[next_buyer] -= wine\n",
    "                A[next_seller] += wine\n",
    "                tasks += wine * abs(next_buyer - next_seller)\n",
    "\n",
    "            else: \n",
    "                break\n",
    "\n",
    "        return tasks\n",
    "\n",
    "#{ \n",
    " # Driver Code Starts\n",
    "#Initial Template for Python 3\n",
    "if __name__=='__main__':\n",
    "    t = int(input())\n",
    "    for i in range(t):\n",
    "        N = int(input())\n",
    "        A = list(map(int, input().strip().split()))\n",
    "        ob = Solution()\n",
    "        ans = ob.wineSelling(A,N)\n",
    "        \n",
    "        print(ans)\n",
    "\n",
    "# } Driver Code Ends"
   ]
  }
 ],
 "metadata": {
  "kernelspec": {
   "display_name": "Python 3.10.6 64-bit",
   "language": "python",
   "name": "python3"
  },
  "language_info": {
   "codemirror_mode": {
    "name": "ipython",
    "version": 3
   },
   "file_extension": ".py",
   "mimetype": "text/x-python",
   "name": "python",
   "nbconvert_exporter": "python",
   "pygments_lexer": "ipython3",
   "version": "3.10.6"
  },
  "orig_nbformat": 4,
  "vscode": {
   "interpreter": {
    "hash": "26de051ba29f2982a8de78e945f0abaf191376122a1563185a90213a26c5da77"
   }
  }
 },
 "nbformat": 4,
 "nbformat_minor": 2
}
