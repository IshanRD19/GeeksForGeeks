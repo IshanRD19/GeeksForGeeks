{
 "cells": [
  {
   "cell_type": "markdown",
   "metadata": {},
   "source": [
    "# SUM OF SUBARRAYS\n",
    "\n",
    "Given an array A[] with N elements , you need to find the sum all sub arrays of array A. Since the sum could be very large print the sum modulo (109+7).\n",
    "\n",
    "### Example 1:\n",
    "\n",
    "#### Input:\n",
    "N = 3\n",
    "\n",
    "A[] = {1, 2, 3}\n",
    "#### Output: \n",
    "20\n",
    "#### Explanation:\n",
    "All subarrays are [1], [2], [3], [1,2], [2,3], [1,2,3]. Thus total sum is 20.\n",
    "\n",
    "### Example 2:\n",
    "#### Input:\n",
    "N = 2\n",
    "\n",
    "A[] = {1, 3}\n",
    "#### Output: \n",
    "8\n",
    "\n",
    "### Your Task:  \n",
    "You don't need to read input or print anything. Your task is to complete the function subarraySum() which takes the array A[] and its size N as inputs and returns the sum.\n",
    "\n",
    "**Expected Time Complexity:** O(N)\n",
    "\n",
    "**Expected Auxiliary Space:** O(1)\n",
    "\n",
    "### Constraints :\n",
    "1 ≤ N ≤ 10^5\n",
    "\n",
    "1 ≤ A[] ≤ 10^9\n",
    "\n",
    "## Approach 1: Brute Force"
   ]
  },
  {
   "cell_type": "code",
   "execution_count": null,
   "metadata": {},
   "outputs": [],
   "source": [
    "# User function Template for python3\n",
    "class Solution:\n",
    "    def subarraySum(self, a, n):\n",
    "        # code here \n",
    "        total = 0\n",
    "\n",
    "        # For each element as start\n",
    "        for i in range(0, n):\n",
    "            \n",
    "            # For each following element as end\n",
    "            for j in range(i, n):\n",
    "                \n",
    "                # Calculate sum of start to end\n",
    "                for k in range(i, j+1):\n",
    "                    total += a[k]\n",
    "                    \n",
    "        return total % (10 ** 9 + 7)\n",
    "\n",
    "# { \n",
    "# Driver Code Starts\n",
    "# Initial Template for Python 3\n",
    "def main():\n",
    "    T = int(input())\n",
    "    while(T > 0):\n",
    "        n = int(input())\n",
    "        a = [int(x) for x in input().strip().split()]\n",
    "        ob = Solution()\n",
    "        print(ob.subarraySum(a, n))\n",
    "        T -= 1\n",
    "if __name__ == \"__main__\":\n",
    "    main()\n",
    "# } Driver Code Ends"
   ]
  },
  {
   "cell_type": "markdown",
   "metadata": {},
   "source": [
    "## Approach 2: Simple Method"
   ]
  },
  {
   "cell_type": "code",
   "execution_count": null,
   "metadata": {},
   "outputs": [],
   "source": [
    "# User function Template for python3\n",
    "class Solution:\n",
    "    def subarraySum(self, a, n):\n",
    "        # code here \n",
    "        result = 0\n",
    "\n",
    "        # For each element as start\n",
    "        for i in range(0, n):\n",
    "            temp = 0\n",
    "            \n",
    "            # For each following element as end\n",
    "            for j in range(i, n):\n",
    "                temp += a[j]\n",
    "                result += temp\n",
    "                    \n",
    "        return result % (10 ** 9 + 7)\n",
    "\n",
    "# { \n",
    "# Driver Code Starts\n",
    "# Initial Template for Python 3\n",
    "def main():\n",
    "    T = int(input())\n",
    "    while(T > 0):\n",
    "        n = int(input())\n",
    "        a = [int(x) for x in input().strip().split()]\n",
    "        ob = Solution()\n",
    "        print(ob.subarraySum(a, n))\n",
    "        T -= 1\n",
    "if __name__ == \"__main__\":\n",
    "    main()\n",
    "# } Driver Code Ends"
   ]
  },
  {
   "cell_type": "markdown",
   "metadata": {},
   "source": [
    "## Approach 3: Efficient Method"
   ]
  },
  {
   "cell_type": "code",
   "execution_count": null,
   "metadata": {},
   "outputs": [],
   "source": [
    "# User function Template for python3\n",
    "class Solution:\n",
    "    def subarraySum(self, a, n):\n",
    "        # code here \n",
    "        total = 0\n",
    "\n",
    "        # For each element as start\n",
    "        for i in range(0, n):\n",
    "            total += a[i] * (n-i) * (i+1)\n",
    "                    \n",
    "        return total % (10 ** 9 + 7)\n",
    "\n",
    "# { \n",
    "# Driver Code Starts\n",
    "# Initial Template for Python 3\n",
    "def main():\n",
    "    T = int(input())\n",
    "    while(T > 0):\n",
    "        n = int(input())\n",
    "        a = [int(x) for x in input().strip().split()]\n",
    "        ob = Solution()\n",
    "        print(ob.subarraySum(a, n))\n",
    "        T -= 1\n",
    "if __name__ == \"__main__\":\n",
    "    main()\n",
    "# } Driver Code Ends"
   ]
  }
 ],
 "metadata": {
  "kernelspec": {
   "display_name": "Python 3.10.6 64-bit",
   "language": "python",
   "name": "python3"
  },
  "language_info": {
   "name": "python",
   "version": "3.10.6"
  },
  "orig_nbformat": 4,
  "vscode": {
   "interpreter": {
    "hash": "26de051ba29f2982a8de78e945f0abaf191376122a1563185a90213a26c5da77"
   }
  }
 },
 "nbformat": 4,
 "nbformat_minor": 2
}
