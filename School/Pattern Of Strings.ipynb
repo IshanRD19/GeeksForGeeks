{
 "cells": [
  {
   "cell_type": "markdown",
   "metadata": {},
   "source": [
    "# PATTERN OF STRINGS\n",
    "\n",
    "Given a string S of length N, find the pattern of the strings as shown below in the examples.\n",
    "\n",
    "### Example 1:\n",
    "#### Input:\n",
    "S = \"GeeK\"\n",
    "#### Output: \n",
    "Geek\n",
    "\n",
    "Gee\n",
    "\n",
    "Ge\n",
    "\n",
    "G\n",
    "#### Explanation:\n",
    "Decrease one character after each line\n",
    "### Example 2:\n",
    "#### Input:\n",
    "S = \"G*g\" \n",
    "#### Output:\n",
    "G*g\n",
    "\n",
    "G*\n",
    "\n",
    "G\n",
    "#### Explanation:\n",
    "Decrease one character after each line\n",
    "### Your Task:  \n",
    "You don't need to read input or print anything. Your task is to complete the function pattern() which takes the string S as inputs and returns the answer as a list of strings.\n",
    "\n",
    "**Expected Time Complexity:** O(N^2)\n",
    "\n",
    "**Expected Auxiliary Space:** O(N^2)\n",
    "\n",
    "### Constraints:\n",
    "1 ≤ N ≤ 10^3"
   ]
  },
  {
   "cell_type": "code",
   "execution_count": 1,
   "metadata": {},
   "outputs": [
    {
     "name": "stdout",
     "output_type": "stream",
     "text": [
      "2\n",
      "GeeK\n",
      "GeeK\n",
      "Gee\n",
      "Ge\n",
      "G\n",
      "G*g\n",
      "G*g\n",
      "G*\n",
      "G\n"
     ]
    }
   ],
   "source": [
    "# User function Template for python3\n",
    "class Solution:\n",
    "    def pattern(self, S):\n",
    "        # code here\n",
    "        result = []\n",
    "        length = len(S)\n",
    "        \n",
    "        for i in range(length):\n",
    "            result.append(S[:length - i])\n",
    "\n",
    "        return result\n",
    "\n",
    "#{ \n",
    "#  Driver Code Starts\n",
    "#Initial Template for Python 3\n",
    "\n",
    "if __name__ == '__main__':\n",
    "    T=int(input())\n",
    "    for i in range(T):\n",
    "        S = input()\n",
    "        ob = Solution()\n",
    "        answer = ob.pattern(S)\n",
    "        for value in answer:\n",
    "            print(value)\n",
    "            \n",
    "\n",
    "# } Driver Code Ends"
   ]
  }
 ],
 "metadata": {
  "kernelspec": {
   "display_name": "Python 3",
   "language": "python",
   "name": "python3"
  },
  "language_info": {
   "codemirror_mode": {
    "name": "ipython",
    "version": 3
   },
   "file_extension": ".py",
   "mimetype": "text/x-python",
   "name": "python",
   "nbconvert_exporter": "python",
   "pygments_lexer": "ipython3",
   "version": "3.8.3"
  }
 },
 "nbformat": 4,
 "nbformat_minor": 4
}
