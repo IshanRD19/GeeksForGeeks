{
 "cells": [
  {
   "cell_type": "markdown",
   "metadata": {},
   "source": [
    "# VOWEL OR NOT \n",
    "\n",
    "Given a English alphabet c, Write a program to check whether a character is a vowel or not.\n",
    "\n",
    "### Example 1:\n",
    "\n",
    "#### Input:\n",
    "c = 'a'\n",
    "#### Output:\n",
    "YES\n",
    "#### Explanation:\n",
    "'a' is a vowel.\n",
    " \n",
    "\n",
    "### Example 2:\n",
    "\n",
    "#### Input:\n",
    "c = 'Z'\n",
    "#### Output:\n",
    "NO\n",
    "#### Explanation:\n",
    "'Z' is not a vowel.\n",
    "\n",
    "### Your Task:\n",
    "You don't need to read input or print anything. Your task is to complete the function isVowel() which takes a character c and returns 'YES' or 'NO'.\n",
    "\n",
    "**Expected Time Complexity:** O(1)\n",
    "\n",
    "**Expected Auxiliary Space:** O(1)\n",
    "\n",
    "**Note:** c is either lowercase or uppercase English alphabetic character\n",
    "\n",
    "### Constraints:\n",
    "c belongs to English Alphabets."
   ]
  },
  {
   "cell_type": "code",
   "execution_count": 1,
   "metadata": {},
   "outputs": [
    {
     "name": "stdout",
     "output_type": "stream",
     "text": [
      "2\n",
      "a\n",
      "YES\n",
      "Z\n",
      "NO\n"
     ]
    }
   ],
   "source": [
    "# User function Template for python3\n",
    "class Solution:\n",
    "    def isVowel (ob,c):\n",
    "        # code here \n",
    "        if c.lower() in ['a', 'e', 'i', 'o', 'u']:\n",
    "            return 'YES'\n",
    "        return 'NO'\n",
    "\n",
    "#{ \n",
    "#  Driver Code Starts\n",
    "#Initial Template for Python 3\n",
    "if __name__ == '__main__': \n",
    "    t = int (input ())\n",
    "    for _ in range (t):\n",
    "        \n",
    "        c=input()\n",
    "\n",
    "        ob = Solution()\n",
    "        print(ob.isVowel(c))\n",
    "# } Driver Code Ends"
   ]
  }
 ],
 "metadata": {
  "kernelspec": {
   "display_name": "Python 3",
   "language": "python",
   "name": "python3"
  },
  "language_info": {
   "codemirror_mode": {
    "name": "ipython",
    "version": 3
   },
   "file_extension": ".py",
   "mimetype": "text/x-python",
   "name": "python",
   "nbconvert_exporter": "python",
   "pygments_lexer": "ipython3",
   "version": "3.8.3"
  }
 },
 "nbformat": 4,
 "nbformat_minor": 4
}
