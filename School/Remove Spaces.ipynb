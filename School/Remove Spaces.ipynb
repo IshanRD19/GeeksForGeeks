{
 "cells": [
  {
   "cell_type": "markdown",
   "metadata": {},
   "source": [
    "# REMOVE SPACES\n",
    "\n",
    "Given a string, remove spaces from it. \n",
    "\n",
    "### Example 1:\n",
    "\n",
    "#### Input:\n",
    "S = \"geeks  for geeks\"\n",
    "#### Output:\n",
    "geeksforgeeks\n",
    "#### Explanation: \n",
    "All the spaces have been removed.\n",
    "### Example 2:\n",
    "\n",
    "#### Input: \n",
    "S = \"    g f g\"\n",
    "#### Output:\n",
    "gfg\n",
    "#### Explanation:\n",
    "All the spaces including the leading ones have been removed.\n",
    "\n",
    "### Your Task:\n",
    "You don't need to read input or print anything. Your task is to complete the function modify() which takes the string S as input and returns the resultant string by removing all the white spaces from S.\n",
    "\n",
    "\n",
    "**Expected Time Complexity:** O(|S|).\n",
    "\n",
    "**Expected Auxiliary Space:** O(1).\n",
    "\n",
    "\n",
    "### Constraints:\n",
    "1 <= |S| <= 10^5"
   ]
  },
  {
   "cell_type": "code",
   "execution_count": 1,
   "metadata": {},
   "outputs": [
    {
     "name": "stdout",
     "output_type": "stream",
     "text": [
      "2\n",
      "geeks  for geeks\n",
      "geeksforgeeks\n",
      "   g f g\n",
      "gfg\n"
     ]
    }
   ],
   "source": [
    "#User function Template for python3\n",
    "\n",
    "class Solution:\n",
    "    def modify(self, s):\n",
    "        # code here\n",
    "        return s.replace(' ', '')\n",
    "\n",
    "#{ \n",
    "#  Driver Code Starts\n",
    "#Initial Template for Python 3\n",
    "\n",
    "if __name__ == '__main__':\n",
    "    t = int(input())\n",
    "    for _ in range(t):\n",
    "        s = input().strip()\n",
    "        ob = Solution()\n",
    "        ans = ob.modify(s)\n",
    "        print(ans)\n",
    "# } Driver Code Ends"
   ]
  }
 ],
 "metadata": {
  "kernelspec": {
   "display_name": "Python 3",
   "language": "python",
   "name": "python3"
  },
  "language_info": {
   "codemirror_mode": {
    "name": "ipython",
    "version": 3
   },
   "file_extension": ".py",
   "mimetype": "text/x-python",
   "name": "python",
   "nbconvert_exporter": "python",
   "pygments_lexer": "ipython3",
   "version": "3.8.3"
  }
 },
 "nbformat": 4,
 "nbformat_minor": 4
}
