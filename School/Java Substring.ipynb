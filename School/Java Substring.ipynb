{
 "cells": [
  {
   "cell_type": "markdown",
   "metadata": {},
   "source": [
    "# JAVA SUBSTRING\n",
    "\n",
    "Given a string S and two integers L and R. Print the characters in the range L to R of the string.\n",
    "\n",
    "**NOTE:** Assume zero based indexing.\n",
    "\n",
    "### Example 1:\n",
    "\n",
    "#### Input: \n",
    "S = \"cdbkdub\"\n",
    "\n",
    "L = 0 , R = 5\n",
    "#### Output:\n",
    "\"cdbkdu\" \n",
    "#### Explanation:\n",
    "Starting from index 0 ('c') to index 5 ('u').\n",
    "### Example 2:\n",
    "\n",
    "#### Input: \n",
    "S = \"sdiblcsdbud\"\n",
    "\n",
    "L = 3 , R = 7\n",
    "#### Output:\n",
    "\"blcsd\"\n",
    "#### Explanation: \n",
    "Starting from index 3 ('b') to index 7 ('d').\n",
    "\n",
    "### Your Task:  \n",
    "You dont need to read input or print anything. Complete the function javaSub() which takes S, L, R as input parameter and returns the sting from the range L to R.\n",
    "\n",
    "\n",
    "**Expected Time Complexity:** O(|S|)\n",
    "\n",
    "**Expected Auxiliary Space:** O(|S|)\n",
    "\n",
    "### Constraints:\n",
    "1 <= |S| <=1000\n",
    "\n",
    "1 <= L <= 800\n",
    "\n",
    "1 <= R <= 900"
   ]
  },
  {
   "cell_type": "code",
   "execution_count": 1,
   "metadata": {},
   "outputs": [
    {
     "name": "stdout",
     "output_type": "stream",
     "text": [
      "2\n",
      "cdbkdub\n",
      "0 5\n",
      "cdbkdu\n",
      "sdiblcsdbud\n",
      "3 7\n",
      "blcsd\n"
     ]
    }
   ],
   "source": [
    "# User function Template for python3\n",
    "class Solution:\n",
    "    def javaSub (ob, S, L, R):\n",
    "        # code here \n",
    "        return S[L:R+1]\n",
    "\n",
    "#{ \n",
    "#  Driver Code Starts\n",
    "#Initial Template for Python 3\n",
    "\n",
    "#Initial Template for Python 3\n",
    "if __name__ == '__main__': \n",
    "    t = int (input ())\n",
    "    for _ in range (t):\n",
    "        S = input()\n",
    "        L,R = input().split()\n",
    "        L = int(L)\n",
    "        R = int(R)\n",
    "        \n",
    "        ob = Solution()\n",
    "        print(ob.javaSub(S,L,R))\n",
    "# } Driver Code Ends"
   ]
  }
 ],
 "metadata": {
  "kernelspec": {
   "display_name": "Python 3",
   "language": "python",
   "name": "python3"
  },
  "language_info": {
   "codemirror_mode": {
    "name": "ipython",
    "version": 3
   },
   "file_extension": ".py",
   "mimetype": "text/x-python",
   "name": "python",
   "nbconvert_exporter": "python",
   "pygments_lexer": "ipython3",
   "version": "3.8.3"
  }
 },
 "nbformat": 4,
 "nbformat_minor": 4
}
