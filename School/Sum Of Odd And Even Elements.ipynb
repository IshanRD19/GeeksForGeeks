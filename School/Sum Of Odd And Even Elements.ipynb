{
 "cells": [
  {
   "cell_type": "markdown",
   "metadata": {},
   "source": [
    "# SUM OF ODD AND EVEN ELEMENTS\n",
    "\n",
    "Given an integer N, find the sum of odd numbers and even numbers from 1 to N.\n",
    "\n",
    "### Example 1:\n",
    "\n",
    "#### Input:\n",
    "5\n",
    "#### Output:\n",
    "9 6\n",
    "#### Explanation:\n",
    "Odd numbers upto 5 are 1, 3, 5 and their sum = 1 + 3 + 5 = 9.Even numbers upto 5 are 2 and 4 and their sum = 2 + 4 = 6.\n",
    "### Example 1:\n",
    "\n",
    "#### Input:\n",
    "6\n",
    "#### Output:\n",
    "9 12\n",
    "#### Explanation:\n",
    "Odd numbers upto 6 are 1, 3, 5 and their sum = 1 + 3 + 5 = 9.Even numbers upto 5 are 2 , 4 and 6 and their sum = 2 + 4 + 6  = 12.\n",
    " \n",
    "\n",
    "### Your Task:\n",
    "\n",
    "You don't need to read or print anything, Your task is to complete the function find_sum() which takes N as input parameter and returns a list of two numbers where first numbers is sum of odd numbers and second number is sum of even numbers.\n",
    "\n",
    "**Expected Time Complexity:** O(1)\n",
    "\n",
    "**Expected Space Complexity:** O(1)\n",
    "\n",
    "### Constraints:\n",
    "1 <= N <= 10^4"
   ]
  },
  {
   "cell_type": "code",
   "execution_count": 1,
   "metadata": {},
   "outputs": [
    {
     "name": "stdout",
     "output_type": "stream",
     "text": [
      "2\n",
      "5\n",
      "9 6 \n",
      "6\n",
      "9 12 \n"
     ]
    }
   ],
   "source": [
    "# User function Template for python3\n",
    "class Solution:\n",
    "    def find_sum(self, n):\n",
    "        # Code here\n",
    "        a = 1\n",
    "        d = 2\n",
    "        total = (n+1) // 2\n",
    "        odd_sum = int(0.5 * total * (2 * a + (total - 1) * d))\n",
    "\n",
    "        a = 2\n",
    "        total = n // 2\n",
    "        even_sum = int(0.5 * total * (2 * a + (total - 1) * d))\n",
    "        \n",
    "        return [odd_sum, even_sum]\n",
    "\n",
    "#{ \n",
    "#  Driver Code Starts\n",
    "#Initial Template for Python 3\n",
    "\n",
    "if __name__ == '__main__':\n",
    "    T=int(input())\n",
    "    for i in range(T):\n",
    "        n = int(input())\n",
    "        ob = Solution();\n",
    "        ans = ob.find_sum(n)\n",
    "        for _ in ans:\n",
    "            print(_, end=\" \")\n",
    "        print()\n",
    "# } Driver Code Ends"
   ]
  }
 ],
 "metadata": {
  "kernelspec": {
   "display_name": "Python 3",
   "language": "python",
   "name": "python3"
  },
  "language_info": {
   "codemirror_mode": {
    "name": "ipython",
    "version": 3
   },
   "file_extension": ".py",
   "mimetype": "text/x-python",
   "name": "python",
   "nbconvert_exporter": "python",
   "pygments_lexer": "ipython3",
   "version": "3.8.3"
  }
 },
 "nbformat": 4,
 "nbformat_minor": 4
}
