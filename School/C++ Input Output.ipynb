{
 "cells": [
  {
   "cell_type": "markdown",
   "metadata": {},
   "source": [
    "# C++ INPUT / OUTPUT\n",
    "\n",
    "Given two integers A and B. Your task is to return their product.\n",
    "\n",
    "### Example 1:\n",
    "\n",
    "#### Input:\n",
    "A = 1, B = 2\n",
    "#### Output:\n",
    "2\n",
    "#### Explanation:\n",
    "Multiplication of 1 and 2 is 2.\n",
    "\n",
    "### Example 2:\n",
    "\n",
    "#### Input:\n",
    "A = 8, B = 7\n",
    "#### Output:\n",
    "56\n",
    "#### Explanation:\n",
    "Multiplication of 8 and 7 is 56.\n",
    "\n",
    "### Your Task:\n",
    "You don't need to read input or print anything. Your task is to complete the function multiplication() which takes two integers a and b and returns their product.\n",
    "\n",
    "**Expected Time Complexity:** O(1)\n",
    "\n",
    "**Expected Auxiliary Space:** O(1)\n",
    "\n",
    "### Constraints:\n",
    "0 <= a,b <= 10000"
   ]
  },
  {
   "cell_type": "code",
   "execution_count": 1,
   "metadata": {},
   "outputs": [
    {
     "name": "stdout",
     "output_type": "stream",
     "text": [
      "2\n",
      "1 2\n",
      "2\n",
      "8 7\n",
      "56\n"
     ]
    }
   ],
   "source": [
    "#User function Template for python3\n",
    "class Solution:\n",
    "    def multiplication (ob, A, B):\n",
    "        # code here \n",
    "        return A * B\n",
    "\n",
    "#{ \n",
    "#  Driver Code Starts\n",
    "#Initial Template for Python 3\n",
    "if __name__ == '__main__': \n",
    "    t = int (input ())\n",
    "    for _ in range (t):\n",
    "        \n",
    "        A,B=map(int,input().strip().split(\" \"))\n",
    "\n",
    "        ob = Solution()\n",
    "        print(ob.multiplication(A,B))\n",
    "# } Driver Code Ends"
   ]
  }
 ],
 "metadata": {
  "kernelspec": {
   "display_name": "Python 3",
   "language": "python",
   "name": "python3"
  },
  "language_info": {
   "codemirror_mode": {
    "name": "ipython",
    "version": 3
   },
   "file_extension": ".py",
   "mimetype": "text/x-python",
   "name": "python",
   "nbconvert_exporter": "python",
   "pygments_lexer": "ipython3",
   "version": "3.8.3"
  }
 },
 "nbformat": 4,
 "nbformat_minor": 4
}
