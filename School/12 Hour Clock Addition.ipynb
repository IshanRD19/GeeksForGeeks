{
 "cells": [
  {
   "cell_type": "markdown",
   "metadata": {},
   "source": [
    "# 12 HOUR CLOCK ADDITION\n",
    "\n",
    "Given two positive integers num1 and num2, the task is to find the sum of the two numbers on a 12 hour clock rather than a number line.\n",
    "\n",
    "### Example 1:\n",
    "\n",
    "#### Input:\n",
    "num1 = 5, num2 = 7\n",
    "#### Output:\n",
    "0\n",
    "#### Explaination:\n",
    "5+7=12, which in 12 hour clock format is 0.\n",
    "### Example 2:\n",
    "\n",
    "#### Input:\n",
    "num1 = 3, num2 = 5\n",
    "#### Output:\n",
    "8\n",
    "#### Explaination:\n",
    "3+5=8, which is 12 hour format is intact.\n",
    "### Your Task:\n",
    "You do not need to read input or print anythign. Your task is to complete the function clockSum() which takes num1 and num2 as input parameters and returns the 12 hour clock format addition of the numbers.\n",
    "\n",
    "**Expected Time Complexity:** O(1)\n",
    "\n",
    "**Expected Auxiliary Space:** O(1)\n",
    "\n",
    "### Constraints:\n",
    "1 ≤ num1, num2 ≤ 50"
   ]
  },
  {
   "cell_type": "code",
   "execution_count": 1,
   "metadata": {},
   "outputs": [
    {
     "name": "stdout",
     "output_type": "stream",
     "text": [
      "2\n",
      "5 7\n",
      "0\n",
      "3 5\n",
      "8\n"
     ]
    }
   ],
   "source": [
    "# User function Template for python3\n",
    "class Solution:\n",
    "    def clockSum(self, num1, num2):\n",
    "        # code here\n",
    "        return (num1 + num2) % 12\n",
    "\n",
    "#{ \n",
    "#  Driver Code Starts\n",
    "#Initial Template for Python 3\n",
    "\n",
    "if __name__ == '__main__': \n",
    "    t = int (input ())\n",
    "    for _ in range (t):\n",
    "        num1, num2 = [int(x) for x in input().split()]\n",
    "        \n",
    "        ob = Solution()\n",
    "        print(ob.clockSum(num1, num2))\n",
    "\n",
    "# } Driver Code Ends"
   ]
  }
 ],
 "metadata": {
  "kernelspec": {
   "display_name": "Python 3",
   "language": "python",
   "name": "python3"
  },
  "language_info": {
   "codemirror_mode": {
    "name": "ipython",
    "version": 3
   },
   "file_extension": ".py",
   "mimetype": "text/x-python",
   "name": "python",
   "nbconvert_exporter": "python",
   "pygments_lexer": "ipython3",
   "version": "3.8.3"
  }
 },
 "nbformat": 4,
 "nbformat_minor": 4
}
