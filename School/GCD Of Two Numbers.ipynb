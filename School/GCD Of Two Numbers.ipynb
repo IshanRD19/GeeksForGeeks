{
 "cells": [
  {
   "cell_type": "markdown",
   "metadata": {},
   "source": [
    "# GCD OF TWO NUMBERS\n",
    "\n",
    "Given two positive integers A and B, find GCD of A and B.\n",
    "\n",
    "### Example 1:\n",
    "\n",
    "#### Input:\n",
    "A = 3, B = 6\n",
    "#### Output:\n",
    "3\n",
    "#### Explanation:\n",
    "GCD of 3 and 6 is 3\n",
    "\n",
    "### Example 2:\n",
    "\n",
    "#### Input:\n",
    "A = 1, B = 1\n",
    "#### Output:\n",
    "1\n",
    "#### Explanation:\n",
    "GCD of 1 and 1 is 1\n",
    "\n",
    "### Your Task:  \n",
    "You don't need to read input or print anything. Complete the function gcd() which takes two positive integers as input parameters and returns an integer.\n",
    "\n",
    "\n",
    "**Expected Time Complexity:** O(log(min(A, B)))\n",
    "\n",
    "**Expected Auxiliary Space:** O(1)\n",
    "\n",
    "\n",
    "### Constraints:\n",
    "1 ≤ A, B ≤ 10^9"
   ]
  },
  {
   "cell_type": "code",
   "execution_count": 1,
   "metadata": {},
   "outputs": [
    {
     "name": "stdout",
     "output_type": "stream",
     "text": [
      "2\n",
      "3 6\n",
      "3\n",
      "1 1\n",
      "1\n"
     ]
    }
   ],
   "source": [
    "# User function Template for python3\n",
    "class Solution:\n",
    "    def gcd(self, A, B):\n",
    "        # code here\n",
    "        if B % A == 0:\n",
    "            return A\n",
    "\n",
    "        return self.gcd(B % A, A)\n",
    "\n",
    "\n",
    "#{ \n",
    "#  Driver Code Starts\n",
    "#Initial Template for Python 3\n",
    "\n",
    "if __name__ == '__main__': \n",
    "    t = int(input())\n",
    "    for _ in range(t):\n",
    "        A,B = list(map(int, input().strip().split()))\n",
    "        ob = Solution()\n",
    "        print(ob.gcd(A,B))\n",
    "# } Driver Code Ends"
   ]
  }
 ],
 "metadata": {
  "kernelspec": {
   "display_name": "Python 3",
   "language": "python",
   "name": "python3"
  },
  "language_info": {
   "codemirror_mode": {
    "name": "ipython",
    "version": 3
   },
   "file_extension": ".py",
   "mimetype": "text/x-python",
   "name": "python",
   "nbconvert_exporter": "python",
   "pygments_lexer": "ipython3",
   "version": "3.8.3"
  }
 },
 "nbformat": 4,
 "nbformat_minor": 4
}
