{
 "cells": [
  {
   "cell_type": "markdown",
   "metadata": {},
   "source": [
    "# TRIANGLE SHRINKING DOWNWARDS\n",
    "\n",
    "Given a string of a constant length, print a triangle out of it. The triangle should start with the given string and keeps shrinking downwards by removing one character from the begining of the string. The spaces on the left side of the triangle should be replaced with dot character.\n",
    "\n",
    "### Example 1:\n",
    "\n",
    "#### Input:\n",
    "S = Geeks\n",
    "#### Output:\n",
    "Geeks\n",
    "\n",
    ".eeks\n",
    "\n",
    "..eks\n",
    "\n",
    "...ks\n",
    "\n",
    "....s\n",
    "### Example 2:\n",
    "\n",
    "#### Input:\n",
    "S = @io30 \n",
    "#### Output:\n",
    "@io30\n",
    "\n",
    ".io30\n",
    "\n",
    "..o30\n",
    "\n",
    "...30\n",
    "\n",
    "....0 \n",
    "\n",
    "### Your Task:\n",
    "You don't need to read input or print anything. Your task is to complete the function triDownwards() which takes a String S and returns a string formed by joining all the lines together. For the Input \"GEEKS\" you should return the String \"GEEKS.EEKS..EKS...KS....S\".\n",
    "\n",
    "**Expected Time Complexity:** O(|S|2)\n",
    "\n",
    "**Expected Auxiliary Space:** O(|S|)\n",
    "\n",
    "### Constraints:\n",
    "1 <= |S| <= 100"
   ]
  },
  {
   "cell_type": "code",
   "execution_count": 1,
   "metadata": {},
   "outputs": [
    {
     "name": "stdout",
     "output_type": "stream",
     "text": [
      "2\n",
      "Geeks\n",
      "Geeks\n",
      ".eeks\n",
      "..eks\n",
      "...ks\n",
      "....s\n",
      "@io30\n",
      "@io30\n",
      ".io30\n",
      "..o30\n",
      "...30\n",
      "....0\n"
     ]
    }
   ],
   "source": [
    "# User function Template for python3\n",
    "class Solution:\n",
    "    def triDownwards(self, S):\n",
    "        # code here\n",
    "        chars = [c for c in S]\n",
    "        result = [S]\n",
    "        \n",
    "        for i in range(len(chars)-1):\n",
    "            chars[i] = '.'\n",
    "            result.append(''.join(chars))\n",
    "        \n",
    "        return ''.join(result)\n",
    "\n",
    "#{ \n",
    "#  Driver Code Starts\n",
    "#Initial Template for Python 3\n",
    "if __name__ == '__main__': \n",
    "    t = int (input ())\n",
    "    for _ in range (t):\n",
    "        \n",
    "        S=input()\n",
    "        \n",
    "        ob = Solution()\n",
    "        ans=ob.triDownwards(S)\n",
    "        \n",
    "        for i in range(len(ans)):\n",
    "            print(ans[i],end=\"\")\n",
    "            if((i+1)%len(S))==0:\n",
    "                print()\n",
    "# } Driver Code Ends"
   ]
  }
 ],
 "metadata": {
  "kernelspec": {
   "display_name": "Python 3",
   "language": "python",
   "name": "python3"
  },
  "language_info": {
   "codemirror_mode": {
    "name": "ipython",
    "version": 3
   },
   "file_extension": ".py",
   "mimetype": "text/x-python",
   "name": "python",
   "nbconvert_exporter": "python",
   "pygments_lexer": "ipython3",
   "version": "3.8.3"
  }
 },
 "nbformat": 4,
 "nbformat_minor": 4
}
