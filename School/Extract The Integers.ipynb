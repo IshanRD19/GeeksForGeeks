{
 "cells": [
  {
   "cell_type": "markdown",
   "metadata": {},
   "source": [
    "# EXTRACT THE INTEGERS\n",
    "\n",
    "Given a string s, extract all the integers from s.\n",
    "\n",
    "### Example 1:\n",
    "\n",
    "#### Input:\n",
    "s = \"1: Prakhar Agrawal, 2: Manish Kumar Rai, 3: Rishabh Gupta56\"\n",
    "#### Output:\n",
    "1 2 3 56\n",
    "#### Explanation: \n",
    "1, 2, 3, 56 are the integers present in s.\n",
    "### Example 2:\n",
    "\n",
    "#### Input:\n",
    "s = \"geeksforgeeks\"\n",
    "#### Output:\n",
    "No Integers\n",
    "#### Explanation: \n",
    "No integers present in the string.\n",
    " \n",
    "### Your Task:\n",
    "You don't need to read input or print anything. Complete the function extractIntegerWords() which takes string s as input and returns a list of integers. If an empty list is returned the output is printed as \"No Integers\".\n",
    "\n",
    "**Expected Time Complexity:** O(|s|).\n",
    "\n",
    "**Expected Auxiliary Space:** O(|s|).\n",
    "\n",
    "### Constraints:\n",
    "1 <= |s| <= 10^5"
   ]
  },
  {
   "cell_type": "code",
   "execution_count": 1,
   "metadata": {},
   "outputs": [
    {
     "name": "stdout",
     "output_type": "stream",
     "text": [
      "2\n",
      "1: Prakhar Agrawal, 2: Manish Kumar Rai, 3: Rishabh Gupta56\n",
      "1 2 3 56\n",
      "geeksforgeeks\n",
      "No Integers\n"
     ]
    }
   ],
   "source": [
    "# User function Template for python3\n",
    "class Solution:\n",
    "    def extractIntegerWords(self, s):\n",
    "        # code here\n",
    "        start = False\n",
    "        integer = ''\n",
    "        result = []\n",
    "        \n",
    "        for i in range(len(s)):\n",
    "            \n",
    "            # Check for start of string\n",
    "            if not start and 48 <= ord(s[i]) <= 57:\n",
    "                start = True\n",
    "                integer = s[i]\n",
    "\n",
    "            elif start and 48 <= ord(s[i]) <= 57:\n",
    "                integer += s[i]\n",
    "\n",
    "            elif start and not 48 <= ord(s[i]) <= 57:\n",
    "                start = False\n",
    "                result.append(integer)\n",
    "                integer = ''\n",
    "            \n",
    "        # Check for integer at the end of the string\n",
    "        if integer:\n",
    "            result.append(integer)\n",
    "            \n",
    "        return result if result else ['No Integers']\n",
    "\n",
    "#{ \n",
    "#  Driver Code Starts\n",
    "#Initial Template for Python 3\n",
    "if __name__ == '__main__':\n",
    "    t = int(input())\n",
    "    for _ in range(t):\n",
    "        s = input()\n",
    "\n",
    "        solObj = Solution()\n",
    "\n",
    "        if solObj.extractIntegerWords(s):\n",
    "            print(*solObj.extractIntegerWords(s))\n",
    "        else:\n",
    "            print(\"No Integers\")\n",
    "# } Driver Code Ends"
   ]
  }
 ],
 "metadata": {
  "kernelspec": {
   "display_name": "Python 3",
   "language": "python",
   "name": "python3"
  },
  "language_info": {
   "codemirror_mode": {
    "name": "ipython",
    "version": 3
   },
   "file_extension": ".py",
   "mimetype": "text/x-python",
   "name": "python",
   "nbconvert_exporter": "python",
   "pygments_lexer": "ipython3",
   "version": "3.8.3"
  }
 },
 "nbformat": 4,
 "nbformat_minor": 4
}
