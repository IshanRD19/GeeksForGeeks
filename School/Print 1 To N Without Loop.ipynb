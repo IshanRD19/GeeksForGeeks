{
 "cells": [
  {
   "cell_type": "markdown",
   "metadata": {},
   "source": [
    "# PRINT 1 TO N WITHOUT LOOP\n",
    "\n",
    "Print numbers from 1 to N without the help of loops.\n",
    "\n",
    "### Example 1:\n",
    "\n",
    "#### Input:\n",
    "N = 10\n",
    "#### Output: 1 2 3 4 5 6 7 8 9 10\n",
    "\n",
    "### Example 2:\n",
    "\n",
    "#### Input:\n",
    "N = 5\n",
    "#### Output: \n",
    "1 2 3 4 5\n",
    " \n",
    "\n",
    "### Your Task:\n",
    "This is a function problem. You only need to complete the function printNos() that takes N as parameter and prints number from 1 to N recursively. Don't print newline, it will be added by the driver code.\n",
    "\n",
    "\n",
    "**Expected Time Complexity:** O(N)\n",
    "\n",
    "**Expected Auxiliary Space:** O(N) (Recursive)\n",
    "\n",
    "### Constraints:\n",
    "1 <= N <= 10^5"
   ]
  },
  {
   "cell_type": "code",
   "execution_count": 1,
   "metadata": {},
   "outputs": [
    {
     "name": "stdout",
     "output_type": "stream",
     "text": [
      "1\n",
      "10\n",
      "1 2 3 4 5 6 7 8 9 10 \n"
     ]
    }
   ],
   "source": [
    "# User function Template for python3\n",
    "class Solution:    \n",
    "    #Complete this function\n",
    "    def printNos(self,N):\n",
    "        #Your code here\n",
    "        if not N:\n",
    "            return\n",
    "        self.printNos(N-1)\n",
    "        print(N, end = ' ')\n",
    "        return\n",
    "\n",
    "#{ \n",
    "#  Driver Code Starts\n",
    "#Initial Template for Python 3\n",
    "\n",
    "import math\n",
    "\n",
    "def main():\n",
    "    T = int(input())\n",
    "\n",
    "    while(T>0):\n",
    "        N=int(input())\n",
    "        ob=Solution()\n",
    "        ob.printNos(N)\n",
    "        print()\n",
    "        T-=1\n",
    "\n",
    "if __name__==\"__main__\":\n",
    "    main()\n",
    "# } Driver Code Ends"
   ]
  }
 ],
 "metadata": {
  "kernelspec": {
   "display_name": "Python 3",
   "language": "python",
   "name": "python3"
  },
  "language_info": {
   "codemirror_mode": {
    "name": "ipython",
    "version": 3
   },
   "file_extension": ".py",
   "mimetype": "text/x-python",
   "name": "python",
   "nbconvert_exporter": "python",
   "pygments_lexer": "ipython3",
   "version": "3.8.3"
  }
 },
 "nbformat": 4,
 "nbformat_minor": 4
}
