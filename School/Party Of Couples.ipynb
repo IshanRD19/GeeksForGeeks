{
 "cells": [
  {
   "cell_type": "markdown",
   "metadata": {},
   "source": [
    "# PARTY OF COUPLES\n",
    "\n",
    "In a party of N people, each person is denoted by an integer. Couples are represented by the same number. Find out the only single person in the party of couples.\n",
    "\n",
    "### Example 1:\n",
    "\n",
    "#### Input:\n",
    "N = 5\n",
    "\n",
    "arr = {1, 2, 3, 2, 1}\n",
    "#### Output:\n",
    "3\n",
    "#### Explaination:\n",
    "Only the number 3 is single.\n",
    "\n",
    "### Example 2:\n",
    "\n",
    "#### Input:\n",
    "N = 11\n",
    "\n",
    "arr = {1, 2, 3, 5, 3, 2, 1, 4, 5, 6, 6}\n",
    "#### Output:\n",
    "4\n",
    "#### Explaination:\n",
    "4 is the only single.\n",
    "\n",
    "### Your Task:\n",
    "You do not need to read input or print anything. Your task is to complete the function findSingle() which takes the size of the array N and the array arr[] as input parameters and returns the only single person.\n",
    "\n",
    "\n",
    "**Expected Time Complexity:** O(N)\n",
    "\n",
    "**Expected Auxiliary Space:** O(1)\n",
    "\n",
    "\n",
    "### Constraints:\n",
    "1 ≤ N ≤ 10^4\n",
    "\n",
    "1 ≤ arr[i] ≤ 10^6"
   ]
  },
  {
   "cell_type": "code",
   "execution_count": 1,
   "metadata": {},
   "outputs": [
    {
     "name": "stdout",
     "output_type": "stream",
     "text": [
      "2\n",
      "5\n",
      "1 2 3 2 1\n",
      "3\n",
      "11\n",
      "1 2 3 5 3 2 1 4 5 6 6\n",
      "4\n"
     ]
    }
   ],
   "source": [
    "# User function Template for python3\n",
    "class Solution:\n",
    "    def findSingle(self, N, arr):\n",
    "        # code here\n",
    "        result = 0\n",
    "\n",
    "        for a in arr:\n",
    "            result = result ^ a\n",
    "        \n",
    "        return result\n",
    "\n",
    "#{ \n",
    "#  Driver Code Starts\n",
    "#Initial Template for Python 3\n",
    "\n",
    "if __name__ == '__main__': \n",
    "    t = int (input ())\n",
    "    for _ in range (t):\n",
    "        N = int(input())\n",
    "        arr = input().split()\n",
    "        for itr in range(N):\n",
    "            arr[itr] = int(arr[itr])\n",
    "        \n",
    "        ob = Solution()\n",
    "        print(ob.findSingle(N, arr))\n",
    "\n",
    "# } Driver Code Ends"
   ]
  }
 ],
 "metadata": {
  "kernelspec": {
   "display_name": "Python 3",
   "language": "python",
   "name": "python3"
  },
  "language_info": {
   "codemirror_mode": {
    "name": "ipython",
    "version": 3
   },
   "file_extension": ".py",
   "mimetype": "text/x-python",
   "name": "python",
   "nbconvert_exporter": "python",
   "pygments_lexer": "ipython3",
   "version": "3.8.3"
  }
 },
 "nbformat": 4,
 "nbformat_minor": 4
}
