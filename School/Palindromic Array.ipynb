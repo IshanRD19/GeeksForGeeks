{
 "cells": [
  {
   "cell_type": "markdown",
   "metadata": {},
   "source": [
    "# PALINDROMIC ARRAY\n",
    "\n",
    "Given a Integer array A[] of n elements. Your task is to complete the function PalinArray. Which will return 1 if all the elements of the Array are palindrome otherwise it will return 0.\n",
    "\n",
    "### Example:\n",
    "#### Input:\n",
    "2\n",
    "\n",
    "5\n",
    "\n",
    "111 222 333 444 555\n",
    "\n",
    "3\n",
    "\n",
    "121 131 20\n",
    "\n",
    "#### Output:\n",
    "1\n",
    "\n",
    "0\n",
    "\n",
    "### Explanation:\n",
    "For First test case.\n",
    "\n",
    "n=5;\n",
    "\n",
    "A[0] = 111    //which is a palindrome number.\n",
    "\n",
    "A[1] = 222   //which is a palindrome number.\n",
    "\n",
    "A[2] = 333   //which is a palindrome number.\n",
    "\n",
    "A[3] = 444  //which is a palindrome number.\n",
    "\n",
    "A[4] = 555  //which is a palindrome number.\n",
    "\n",
    "As all numbers are palindrome so This will return 1.\n",
    "\n",
    "### Constraints:\n",
    "1 <= T <= 50\n",
    "\n",
    "1 <= n<= 20\n",
    "\n",
    "1 <=A[]<= 10000"
   ]
  },
  {
   "cell_type": "code",
   "execution_count": 1,
   "metadata": {},
   "outputs": [
    {
     "name": "stdout",
     "output_type": "stream",
     "text": [
      "2\n",
      "5\n",
      "111 222 333 444 555\n",
      "1\n",
      "3\n",
      "121 131 20\n",
      "0\n"
     ]
    }
   ],
   "source": [
    "# Your task is to complete this function\n",
    "# Function should return True/False or 1/0\n",
    "def PalinArray(arr, n):\n",
    "    # Code here\n",
    "    for a in arr:\n",
    "        digits = [c for c in str(a)]\n",
    "        digits.reverse()\n",
    "        reverse_digits = ''.join(digits)\n",
    "        \n",
    "        if str(a) != reverse_digits:\n",
    "            return 0\n",
    "\n",
    "    return 1\n",
    "\n",
    "\n",
    "#{ \n",
    "#  Driver Code Starts\n",
    "# Driver Program\n",
    "if __name__ == '__main__':\n",
    "    t = int(input())\n",
    "    for i in range(t):\n",
    "        n = int(input())\n",
    "        arr = list(map(int, input().strip().split()))\n",
    "        if PalinArray(arr, n):\n",
    "            print(1)\n",
    "        else:\n",
    "            print(0)\n",
    "# } Driver Code Ends"
   ]
  }
 ],
 "metadata": {
  "kernelspec": {
   "display_name": "Python 3",
   "language": "python",
   "name": "python3"
  },
  "language_info": {
   "codemirror_mode": {
    "name": "ipython",
    "version": 3
   },
   "file_extension": ".py",
   "mimetype": "text/x-python",
   "name": "python",
   "nbconvert_exporter": "python",
   "pygments_lexer": "ipython3",
   "version": "3.8.3"
  }
 },
 "nbformat": 4,
 "nbformat_minor": 4
}
