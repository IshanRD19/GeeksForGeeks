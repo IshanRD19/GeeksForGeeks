{
 "cells": [
  {
   "cell_type": "markdown",
   "metadata": {},
   "source": [
    "# SIMPLE INTEREST\n",
    "\n",
    "Given three integers P,R and T, denoting Principal, Rate of Interest and Time period respectively.Compute the simple Interest.\n",
    "\n",
    "### Example 1:\n",
    "\n",
    "#### Input:\n",
    "P=100\n",
    "\n",
    "R=20\n",
    "\n",
    "T=2\n",
    "#### Output:\n",
    "40.00\n",
    "#### Explanation:\n",
    "The simple interest on 100 at a rate\n",
    "of 20% across 2 time periods is 40.\n",
    "### Example 2:\n",
    "\n",
    "#### Input:\n",
    "P=999\n",
    "\n",
    "R=9\n",
    "\n",
    "T=9\n",
    "#### Output:\n",
    "809.19\n",
    "#### Explanation:\n",
    "The simple interest on 999 at a rate \n",
    "of 9% across 9 time periods is 809.19\n",
    "\n",
    "### Your Task:\n",
    "You don't need to read input or print anything.Your Task is to complete the function simpleInterest() which takes three integers P,R and T and returns the simple interest.\n",
    "\n",
    "\n",
    "**Expected Time Complexity:** O(1)\n",
    "\n",
    "**Expected Auxillary Space:** O(1)\n",
    " \n",
    "### Constraints:\n",
    "1 <= P <= 10^5\n",
    "\n",
    "1 <= R,T <= 100"
   ]
  },
  {
   "cell_type": "code",
   "execution_count": 1,
   "metadata": {},
   "outputs": [
    {
     "name": "stdout",
     "output_type": "stream",
     "text": [
      "2\n",
      "100 20 2\n",
      "40.00\n",
      "999 9 9\n",
      "809.19\n"
     ]
    }
   ],
   "source": [
    "# User function Template for python3\n",
    "class Solution:\n",
    "    def simpleInterest(self,A,B,C):\n",
    "        #code here\n",
    "        return A * B * C / 100\n",
    "\n",
    "#{ \n",
    "#  Driver Code Starts\n",
    "#Initial Template for Python 3\n",
    "\n",
    "if __name__=='__main__':\n",
    "    t=int(input())\n",
    "    for _ in range(t):\n",
    "        P,R,T=map(int,input().strip().split(' '))\n",
    "        ob=Solution()\n",
    "        print('%.2f'%ob.simpleInterest(P,R,T))\n",
    "# } Driver Code Ends"
   ]
  }
 ],
 "metadata": {
  "kernelspec": {
   "display_name": "Python 3",
   "language": "python",
   "name": "python3"
  },
  "language_info": {
   "codemirror_mode": {
    "name": "ipython",
    "version": 3
   },
   "file_extension": ".py",
   "mimetype": "text/x-python",
   "name": "python",
   "nbconvert_exporter": "python",
   "pygments_lexer": "ipython3",
   "version": "3.8.3"
  }
 },
 "nbformat": 4,
 "nbformat_minor": 4
}
