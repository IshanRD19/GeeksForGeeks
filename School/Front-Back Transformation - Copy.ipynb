{
 "cells": [
  {
   "cell_type": "markdown",
   "metadata": {},
   "source": [
    "# FRONT-BACK TRANSFORMATION - COPY\n",
    "\n",
    "Given a string S, consisting only of english alphabets, replace all the alphabets with the alphabets occuring at the same position when counted in reverse order of alphabets. For example, 'a' would be replaced by 'z', 'b' by 'y', 'c' by 'x' and so on. Any capital letters would be replaced by capital letters only.\n",
    "\n",
    "### Example 1:\n",
    "\n",
    "#### Input:\n",
    "S = \"Hello\"\n",
    "#### Output:\n",
    "Svool\n",
    "#### Explanation:\n",
    "'H' is the 8th letter from the beginning of alphabets, which is replaced by 'S' which comes at 8th position in reverse order of alphabets. Similarly, all other letters are replaced by their respective upper or lower case letters accordingly.\n",
    "\n",
    "### Example 2:\n",
    "\n",
    "#### Input:\n",
    "S = \"GfG\"\n",
    "#### Output:\n",
    "TuT\n",
    "#### Explanation:\n",
    "'G' is replaced with 'T' and 'f' is replaced with 'u'\n",
    "\n",
    "### Your Task:  \n",
    "You don't need to read input or print anything. Your task is to complete the function convert() which accepts a string as input parameter and returns the modified string according to given conditions. \n",
    "\n",
    "**Expected Time Complexity:** O(Length of string)\n",
    "\n",
    "**Expected Auxiliary Space:** O(Length of string)\n",
    "\n",
    "### Constraints:\n",
    "1 <= Length of string S <= 10^5"
   ]
  },
  {
   "cell_type": "code",
   "execution_count": 1,
   "metadata": {},
   "outputs": [
    {
     "name": "stdout",
     "output_type": "stream",
     "text": [
      "2\n",
      "Hello\n",
      "Svool\n",
      "GfG\n",
      "TuT\n"
     ]
    }
   ],
   "source": [
    "# User function Template for python3\n",
    "class Solution:\n",
    "\n",
    "    def convert(self, s):\n",
    "        # code here\n",
    "        chars = [c for c in s]\n",
    "        \n",
    "        for i in range(len(chars)):\n",
    "            \n",
    "            if chars[i].isupper():\n",
    "                chars[i] = chr(ord('Z') - (ord(chars[i]) - ord('A')))\n",
    "\n",
    "            else:\n",
    "                chars[i] = chr(ord('z') - (ord(chars[i]) - ord('a')))\n",
    "                \n",
    "        return ''.join(chars)\n",
    "\n",
    "#{ \n",
    "#  Driver Code Starts\n",
    "#Initial Template for Python 3\n",
    "\n",
    "if __name__ == '__main__':\n",
    "\n",
    "    t = int(input())\n",
    "\n",
    "    for _ in range(t):\n",
    "        s = input()\n",
    "        solObj = Solution()\n",
    "        ans = solObj.convert(s)\n",
    "\n",
    "        print(ans)\n",
    "# } Driver Code Ends"
   ]
  }
 ],
 "metadata": {
  "kernelspec": {
   "display_name": "Python 3",
   "language": "python",
   "name": "python3"
  },
  "language_info": {
   "codemirror_mode": {
    "name": "ipython",
    "version": 3
   },
   "file_extension": ".py",
   "mimetype": "text/x-python",
   "name": "python",
   "nbconvert_exporter": "python",
   "pygments_lexer": "ipython3",
   "version": "3.8.3"
  }
 },
 "nbformat": 4,
 "nbformat_minor": 4
}
