{
 "cells": [
  {
   "cell_type": "markdown",
   "metadata": {},
   "source": [
    "# SUM OF ARRAY\n",
    "\n",
    "Given an integer array Arr[] of size N. The task is to find sum of it.\n",
    "\n",
    "### Example 1:\n",
    "\n",
    "### Input:\n",
    "N = 4\n",
    "\n",
    "Arr[] = {1, 2, 3, 4}\n",
    "#### Output:\n",
    "10\n",
    "#### Explanation:\n",
    "1 + 2 + 3 + 4 = 10.\n",
    "### Example 2:\n",
    "\n",
    "#### Input:\n",
    "N = 3\n",
    "\n",
    "Arr[] = {1, 3, 3}\n",
    "#### Output:\n",
    "7\n",
    "#### Explanation:\n",
    "1 + 3 + 3 = 7.\n",
    "### Your Task:\n",
    "Complete the function sum() which takes array arr and single integer n, as input parameters and returns an integer denoting the answer. You don't to print answer or take inputs.\n",
    "\n",
    "**Expected Time Complexity:** O(N)\n",
    "\n",
    "**Expected Auxiliary Space:** O(1)\n",
    "\n",
    "#### Constraints:\n",
    "1 <= N <= 10^5\n",
    "\n",
    "1 <= Arr[i] <= 10^4"
   ]
  },
  {
   "cell_type": "code",
   "execution_count": 1,
   "metadata": {},
   "outputs": [
    {
     "name": "stdout",
     "output_type": "stream",
     "text": [
      "2\n",
      "4\n",
      "1 2 3 4\n",
      "10\n",
      "3\n",
      "1 3 3\n",
      "7\n"
     ]
    }
   ],
   "source": [
    "# User function Template for python3\n",
    "class Solution:\n",
    "    def _sum(self,arr, n):\n",
    "        # code here\n",
    "        return sum(arr)\n",
    "\n",
    "\n",
    "#{ \n",
    "#  Driver Code Starts\n",
    "#Initial Template for Python 3\n",
    "\n",
    "\n",
    "\n",
    "\n",
    "# Driver code \n",
    "if __name__ == \"__main__\":         \n",
    "    tc = int(input())\n",
    "    while tc > 0:\n",
    "        n = int(input())\n",
    "        arr = list(map(int , input().strip().split()))\n",
    "        ob = Solution()\n",
    "        ans = ob._sum(arr, n)\n",
    "        print(ans)\n",
    "        tc = tc-1\n",
    "# } Driver Code Ends"
   ]
  }
 ],
 "metadata": {
  "kernelspec": {
   "display_name": "Python 3",
   "language": "python",
   "name": "python3"
  },
  "language_info": {
   "codemirror_mode": {
    "name": "ipython",
    "version": 3
   },
   "file_extension": ".py",
   "mimetype": "text/x-python",
   "name": "python",
   "nbconvert_exporter": "python",
   "pygments_lexer": "ipython3",
   "version": "3.8.3"
  }
 },
 "nbformat": 4,
 "nbformat_minor": 4
}
