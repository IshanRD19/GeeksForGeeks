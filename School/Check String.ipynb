{
 "cells": [
  {
   "cell_type": "markdown",
   "metadata": {},
   "source": [
    "# CHECK STRING\n",
    "\n",
    "Given a string, check if all its characters are same or not.\n",
    "\n",
    "### Example 1:\n",
    "\n",
    "#### Input:\n",
    "s = \"geeks\"\n",
    "#### Output:\n",
    "NO\n",
    "#### Explanation: \n",
    "The string contains different character 'g', 'e', 'k' and 's'.\n",
    "\n",
    "### Example 2:\n",
    "\n",
    "#### Input: \n",
    "s = \"gggg\"\n",
    "#### Output:\n",
    "YES\n",
    "#### Explanation:\n",
    "The string contains only one character 'g'.\n",
    "\n",
    "### Your Task:\n",
    "You don't need to read input or print anything. Your task is to complete the function check() which takes a string as input and returns true if all the characters in the string are same. Else, it returns false.\n",
    "\n",
    "**Expected Time Complexity:** O(|S|).\n",
    "\n",
    "**Expected Auxiliary Space:** O(1).\n",
    "\n",
    "### Constraints:\n",
    "1 <= |S| <= 10^4"
   ]
  },
  {
   "cell_type": "code",
   "execution_count": 1,
   "metadata": {},
   "outputs": [
    {
     "name": "stdout",
     "output_type": "stream",
     "text": [
      "2\n",
      "geeks\n",
      "NO\n",
      "gggg\n",
      "YES\n"
     ]
    }
   ],
   "source": [
    "# User function Template for python3\n",
    "class Solution:\n",
    "    def check (self,s):\n",
    "        # your code here\n",
    "        return True if len(set(s)) == 1 else False\n",
    "\n",
    "#{ \n",
    "#  Driver Code Starts\n",
    "#Initial Template for Python 3\n",
    "\n",
    "t = int (input ())\n",
    "for tc in range (t):\n",
    "    s = input ()\n",
    "    ob = Solution()\n",
    "    if ob.check (s):\n",
    "        print (\"YES\")\n",
    "    else:\n",
    "        print (\"NO\")\n",
    "        \n",
    "# } Driver Code Ends"
   ]
  }
 ],
 "metadata": {
  "kernelspec": {
   "display_name": "Python 3",
   "language": "python",
   "name": "python3"
  },
  "language_info": {
   "codemirror_mode": {
    "name": "ipython",
    "version": 3
   },
   "file_extension": ".py",
   "mimetype": "text/x-python",
   "name": "python",
   "nbconvert_exporter": "python",
   "pygments_lexer": "ipython3",
   "version": "3.8.3"
  }
 },
 "nbformat": 4,
 "nbformat_minor": 4
}
