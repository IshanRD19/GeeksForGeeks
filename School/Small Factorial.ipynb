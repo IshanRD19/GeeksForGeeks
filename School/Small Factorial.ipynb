{
 "cells": [
  {
   "cell_type": "markdown",
   "metadata": {},
   "source": [
    "# SMALL FACTORIAL\n",
    "\n",
    "Calculate factorial of a given number N.\n",
    "\n",
    "### Example 1:\n",
    "\n",
    "#### Input:\n",
    "5\n",
    "#### Output:\n",
    "120\n",
    "#### Explanation:\n",
    "1 * 2 * 3 * 4 * 5 = 120.\n",
    "\n",
    "### Your Task:\n",
    "You don't need to read or print anything. Your task is to complete the function find_fact() which takes n as input parameter and returns factorial of N.\n",
    " \n",
    "**Expected Time Complexity:** O(N)\n",
    "\n",
    "**Expected Space Complexity:** O(1)\n",
    " \n",
    "### Constraints:\n",
    "1 <= N <= 18"
   ]
  },
  {
   "cell_type": "code",
   "execution_count": 1,
   "metadata": {},
   "outputs": [
    {
     "name": "stdout",
     "output_type": "stream",
     "text": [
      "1\n",
      "5\n",
      "120\n"
     ]
    }
   ],
   "source": [
    "# User function Template for python3\n",
    "class Solution:\n",
    "    def find_fact(self, n):\n",
    "        # Code here\n",
    "        factorial = 1\n",
    "        for i in range(1, n+1):\n",
    "            factorial *= i\n",
    "        return factorial\n",
    "\n",
    "#{ \n",
    "#  Driver Code Starts\n",
    "#Initial Template for Python 3\n",
    "\n",
    "if __name__ == '__main__':\n",
    "    T=int(input())\n",
    "    for i in range(T):\n",
    "        n = int(input())\n",
    "        ob = Solution();\n",
    "        ans = ob.find_fact(n)\n",
    "        print(ans)\n",
    "\n",
    "# } Driver Code Ends"
   ]
  }
 ],
 "metadata": {
  "kernelspec": {
   "display_name": "Python 3",
   "language": "python",
   "name": "python3"
  },
  "language_info": {
   "codemirror_mode": {
    "name": "ipython",
    "version": 3
   },
   "file_extension": ".py",
   "mimetype": "text/x-python",
   "name": "python",
   "nbconvert_exporter": "python",
   "pygments_lexer": "ipython3",
   "version": "3.8.3"
  }
 },
 "nbformat": 4,
 "nbformat_minor": 4
}
