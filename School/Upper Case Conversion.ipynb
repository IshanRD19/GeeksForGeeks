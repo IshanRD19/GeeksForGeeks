{
 "cells": [
  {
   "cell_type": "markdown",
   "metadata": {},
   "source": [
    "# UPPER CASE CONVERSION\n",
    "\n",
    "Given a string str, convert the first letter of each word in the string to uppercase. \n",
    "\n",
    "### Example 1:\n",
    "\n",
    "#### Input:\n",
    "str = \"i love programming\"\n",
    "#### Output: \n",
    "\"I Love Programming\"\n",
    "#### Explanation:\n",
    "'I', 'L', 'P' are the first letters of the three words.\n",
    "\n",
    "### Your Task:  \n",
    "You dont need to read input or print anything. Complete the function transform() which takes s as input parameter and returns the transformed string.\n",
    "\n",
    "\n",
    "**Expected Time Complexity:** O(N)\n",
    "\n",
    "**Expected Auxiliary Space:** O(N) to store resultant string  \n",
    "\n",
    "\n",
    "### Constraints:\n",
    "1 <= N <= 10^4\n",
    "\n",
    "The original string str only consists of lowercase alphabets and spaces to separate words."
   ]
  },
  {
   "cell_type": "code",
   "execution_count": 1,
   "metadata": {},
   "outputs": [
    {
     "name": "stdout",
     "output_type": "stream",
     "text": [
      "1\n",
      "i love programming\n",
      "I Love Programming\n"
     ]
    }
   ],
   "source": [
    "# User function Template for python3\n",
    "class Solution:\n",
    "    def transform(self, s):\n",
    "        # code here\n",
    "        i = 1\n",
    "        flag = False\n",
    "        result = s[0].upper()\n",
    "        \n",
    "        while i < len(s):\n",
    "            \n",
    "            if s[i] == ' ':\n",
    "                flag = True\n",
    "                result += s[i]\n",
    "            \n",
    "            elif flag == True:\n",
    "                result += s[i].upper()\n",
    "                flag = False\n",
    "            \n",
    "            else:\n",
    "                result += s[i]\n",
    "            \n",
    "            i += 1\n",
    "\n",
    "        return result\n",
    "\n",
    "#{ \n",
    "#  Driver Code Starts\n",
    "#Initial Template for Python 3\n",
    "\n",
    "if __name__ == '__main__':\n",
    "    t = int(input())\n",
    "    for _ in range(t):\n",
    "        s = input().strip()\n",
    "        ob = Solution()\n",
    "        print(ob.transform(s))\n",
    "# } Driver Code Ends"
   ]
  }
 ],
 "metadata": {
  "kernelspec": {
   "display_name": "Python 3",
   "language": "python",
   "name": "python3"
  },
  "language_info": {
   "codemirror_mode": {
    "name": "ipython",
    "version": 3
   },
   "file_extension": ".py",
   "mimetype": "text/x-python",
   "name": "python",
   "nbconvert_exporter": "python",
   "pygments_lexer": "ipython3",
   "version": "3.8.3"
  }
 },
 "nbformat": 4,
 "nbformat_minor": 4
}
