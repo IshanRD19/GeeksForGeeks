{
 "cells": [
  {
   "cell_type": "markdown",
   "metadata": {},
   "source": [
    "# 12 HOUR CLOCK MULTIPLICATION\n",
    "\n",
    "Given two positive integers num1 and num2, the task is to find the product of the two numbers on a 12 hour clock rather than a number line.\n",
    "\n",
    "**Note:** Assume the Clock starts from 0 hour to 11 hours.\n",
    "\n",
    "### Example 1:\n",
    "\n",
    "#### Input:\n",
    "num1 = 2, num2 = 3\n",
    "#### Output:\n",
    "6\n",
    "#### Explanation:\n",
    "2*3 = 6. The time in a 12 hour clock is 6.\n",
    "### Example 2:\n",
    "\n",
    "#### Input:\n",
    "num1 = 3, num2 = 5\n",
    "#### Output:\n",
    "3\n",
    "#### Explanation:\n",
    "3*5 = 15. The time in a 12 hour clock is 3.\n",
    " \n",
    "### Your Task:\n",
    "You don't need to read input or print anything. Your task is to complete the function mulClock() which takes 2 Integers num1, and num2 as input and returns the required time in a 12 hour clock format.\n",
    "\n",
    "**Expected Time Complexity:** O(1)\n",
    "**Expected Auxiliary Space:** O(1)\n",
    "\n",
    "### Constraints:\n",
    "1 <= num1,num2 <= 10^3"
   ]
  },
  {
   "cell_type": "code",
   "execution_count": 1,
   "metadata": {},
   "outputs": [
    {
     "name": "stdout",
     "output_type": "stream",
     "text": [
      "2\n",
      "2 3\n",
      "6\n",
      "3 5\n",
      "3\n"
     ]
    }
   ],
   "source": [
    "# User function Template for python3\n",
    "class Solution:\n",
    "    def mulClock(self, num1, num2):\n",
    "        # code here\n",
    "        return (num1 * num2) % 12\n",
    "\n",
    "#{ \n",
    "#  Driver Code Starts\n",
    "#Initial Template for Python 3\n",
    "if __name__ == '__main__': \n",
    "    t = int (input ())\n",
    "    for _ in range (t):\n",
    "        num1,num2=map(int,input().split())\n",
    "        ob = Solution()\n",
    "        print(ob.mulClock(num1,num2))\n",
    "# } Driver Code Ends"
   ]
  }
 ],
 "metadata": {
  "kernelspec": {
   "display_name": "Python 3",
   "language": "python",
   "name": "python3"
  },
  "language_info": {
   "codemirror_mode": {
    "name": "ipython",
    "version": 3
   },
   "file_extension": ".py",
   "mimetype": "text/x-python",
   "name": "python",
   "nbconvert_exporter": "python",
   "pygments_lexer": "ipython3",
   "version": "3.8.3"
  }
 },
 "nbformat": 4,
 "nbformat_minor": 4
}
