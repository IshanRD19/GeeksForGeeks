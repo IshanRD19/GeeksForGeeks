{
 "cells": [
  {
   "cell_type": "markdown",
   "metadata": {},
   "source": [
    "# AT LEAST TWO GREATER ELEMENTS\n",
    "\n",
    "\n",
    "Given an array of N distinct elements, the task is to find all elements in array except two greatest elements in sorted order.\n",
    "\n",
    "\n",
    "### Example 1:\n",
    "\n",
    "#### Input : \n",
    "a[] = {2, 8, 7, 1, 5}\n",
    "#### Output :\n",
    "1 2 5 \n",
    "#### Explanation :\n",
    "The output three elements have two or more greater elements.   \n",
    "### Example 2:\n",
    "\n",
    "#### Input :\n",
    "a[] = {7, -2, 3, 4, 9, -1}\n",
    "#### Output :\n",
    "-2 -1 3 4\n",
    "\n",
    "### Your Task:  \n",
    "You don't need to read input or print anything. Your task is to complete the function findElements() which takes the array A[] and its size N as inputs and return the vector sorted values denoting the elements in array which have at-least two greater elements than themselves.\n",
    "\n",
    "**Expected Time Complexity:** O(N*Log(N))\n",
    "\n",
    "**Expected Auxiliary Space:** O(N)\n",
    "\n",
    "### Constraints:\n",
    "3 ≤ N ≤ 10^5\n",
    "-10^6 ≤ A[i] ≤ 10^6"
   ]
  },
  {
   "cell_type": "code",
   "execution_count": 1,
   "metadata": {},
   "outputs": [
    {
     "name": "stdout",
     "output_type": "stream",
     "text": [
      "2\n",
      "5\n",
      "2 8 7 1 5\n",
      "1 2 5\n",
      "6\n",
      "7 -2 3 4 9 -1\n",
      "-2 -1 3 4\n"
     ]
    }
   ],
   "source": [
    "# User function Template for python3\n",
    "class Solution:\n",
    "    def findElements(self,a, n):\n",
    "        # Your code goes here\n",
    "        a.sort()\n",
    "        return a[:-2]\n",
    "\n",
    "\n",
    "#{ \n",
    "#  Driver Code Starts\n",
    "#Initial Template for Python 3\n",
    "\n",
    "def main():\n",
    "\n",
    "    T = int(input())\n",
    "\n",
    "    while(T > 0):\n",
    "        n = int(input())\n",
    "        a = [int(x) for x in input().strip().split()]\n",
    "        ob=Solution()\n",
    "        print(*ob.findElements(a, n))\n",
    "        \n",
    "        T -= 1\n",
    "\n",
    "if __name__ == \"__main__\":\n",
    "    main()\n",
    "\n",
    "\n",
    "\n",
    "\n",
    "\n",
    "\n",
    "\n",
    "# } Driver Code Ends"
   ]
  }
 ],
 "metadata": {
  "kernelspec": {
   "display_name": "Python 3",
   "language": "python",
   "name": "python3"
  },
  "language_info": {
   "codemirror_mode": {
    "name": "ipython",
    "version": 3
   },
   "file_extension": ".py",
   "mimetype": "text/x-python",
   "name": "python",
   "nbconvert_exporter": "python",
   "pygments_lexer": "ipython3",
   "version": "3.8.3"
  }
 },
 "nbformat": 4,
 "nbformat_minor": 4
}
