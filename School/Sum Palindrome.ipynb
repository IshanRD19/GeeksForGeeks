{
 "cells": [
  {
   "cell_type": "markdown",
   "metadata": {},
   "source": [
    "# SUM PALINDROME\n",
    "\n",
    "Given a number, reverse it and add it to itself unless it becomes a palindrome or number of iterations becomes more than 5.\n",
    "\n",
    "### Example 1:\n",
    "\n",
    "#### Input:\n",
    "n = 23\n",
    "#### Output:\n",
    "55 \n",
    "#### Explanation:\n",
    "reverse(23) = 32,then 32+23 = 55 which is a palindrome. \n",
    "\n",
    "### Example 2:\n",
    "\n",
    "#### Input:\n",
    "n = 30\n",
    "#### Output:\n",
    "33\n",
    "#### Explanation:\n",
    "reverse(30) = 3,then 3+30 = 33 which is palindrome. \n",
    "\n",
    "### Your Task:  \n",
    "You dont need to read input or print anything. Complete the function isSumPalindrome() which takes n as input parameter and returns that palindrome number if it becomes a palindrome else returns -1.\n",
    "\n",
    "**Expected Time Complexity:** O(n*k),where k<=5.\n",
    "\n",
    "**Expected Auxiliary Space:** O(1)\n",
    "\n",
    "### Constraints:\n",
    "1 <= n <= 10^4"
   ]
  },
  {
   "cell_type": "code",
   "execution_count": 1,
   "metadata": {},
   "outputs": [
    {
     "name": "stdout",
     "output_type": "stream",
     "text": [
      "3\n",
      "32\n",
      "55\n",
      "30\n",
      "33\n",
      "101\n",
      "101\n"
     ]
    }
   ],
   "source": [
    "# User function Template for python3\n",
    "class Solution:\n",
    "    def isSumPalindrome (self, n):\n",
    "        # code here \n",
    "        \n",
    "        # For a maximum of 5 iterations\n",
    "        for i in range(5):\n",
    "            \n",
    "            # Find the reverse of n\n",
    "            n_reverse =  [d for d in str(n)]\n",
    "            n_reverse.reverse()\n",
    "            \n",
    "            # Check if sum is a palindrome\n",
    "            if n == int(''.join(n_reverse)):\n",
    "                return n\n",
    "            \n",
    "            # Calculate the sum\n",
    "            new_n = n + int(''.join(n_reverse))\n",
    "            \n",
    "            # Find the reverse of sum\n",
    "            new_n_reverse = [d for d in str(new_n)]\n",
    "            new_n_reverse.reverse()\n",
    "            \n",
    "            # Check if sum is a palindrome\n",
    "            if new_n == int(''.join(new_n_reverse)):\n",
    "                return new_n\n",
    "            \n",
    "            # Update the value of n\n",
    "            n = new_n\n",
    "            \n",
    "        return -1\n",
    "\n",
    "#{ \n",
    "#  Driver Code Starts\n",
    "#Initial Template for Python 3\n",
    "\n",
    "if __name__ == '__main__': \n",
    "    t = int (input ())\n",
    "    for _ in range (t):\n",
    "        n = int(input())\n",
    "        \n",
    "        ob = Solution()\n",
    "        print(ob.isSumPalindrome(n))\n",
    "# } Driver Code Ends"
   ]
  }
 ],
 "metadata": {
  "kernelspec": {
   "display_name": "Python 3",
   "language": "python",
   "name": "python3"
  },
  "language_info": {
   "codemirror_mode": {
    "name": "ipython",
    "version": 3
   },
   "file_extension": ".py",
   "mimetype": "text/x-python",
   "name": "python",
   "nbconvert_exporter": "python",
   "pygments_lexer": "ipython3",
   "version": "3.8.3"
  }
 },
 "nbformat": 4,
 "nbformat_minor": 4
}
