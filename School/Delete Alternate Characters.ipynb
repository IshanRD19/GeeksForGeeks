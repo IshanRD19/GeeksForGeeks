{
 "cells": [
  {
   "cell_type": "markdown",
   "metadata": {},
   "source": [
    "# DELETE ALTERNATE CHARACTERS\n",
    "\n",
    "Given a string S as input. Delete the characters at odd indices of the string.\n",
    "\n",
    "### Example 1:\n",
    "\n",
    "#### Input:\n",
    "S = \"Geeks\"\n",
    "#### Output:\n",
    "\"Ges\" \n",
    "#### Explanation:\n",
    "Deleted \"e\" at index 1 and \"k\" at index 3.\n",
    "### Example 2:\n",
    "\n",
    "#### Input:\n",
    "S = \"GeeksforGeeks\"\n",
    "#### Output:\n",
    "\"GesoGes\"\n",
    "#### Explanation:\n",
    "Deleted e, k, f, r, e k at index 1, 3, 5, 7, 9, 11.\n",
    "\n",
    "### Your Task:  \n",
    "You dont need to read input or print anything. Complete the function delAlternate() which takes S as input parameter and returns the final string after deletion of characters at odd indices.\n",
    "\n",
    "**Expected Time Complexity:** O(|S|)\n",
    "\n",
    "**Expected Auxiliary Space:** O(|S|)\n",
    "\n",
    "### Constraints:\n",
    "1<= |S| <=1000"
   ]
  },
  {
   "cell_type": "code",
   "execution_count": 1,
   "metadata": {},
   "outputs": [
    {
     "name": "stdout",
     "output_type": "stream",
     "text": [
      "2\n",
      "Geeks\n",
      "Ges\n",
      "GeeksforGeeks\n",
      "GesoGes\n"
     ]
    }
   ],
   "source": [
    "# User function Template for python3\n",
    "class Solution:\n",
    "    def delAlternate (ob, S):\n",
    "        # code here \n",
    "        return ''.join([c for c in S][::2])\n",
    "\n",
    "#{ \n",
    "#  Driver Code Starts\n",
    "#Initial Template for Python 3\n",
    "if __name__ == '__main__': \n",
    "    t = int (input ())\n",
    "    for _ in range (t):\n",
    "        S = input()\n",
    "        \n",
    "        ob = Solution()\n",
    "        print(ob.delAlternate(S))\n",
    "# } Driver Code Ends"
   ]
  }
 ],
 "metadata": {
  "kernelspec": {
   "display_name": "Python 3",
   "language": "python",
   "name": "python3"
  },
  "language_info": {
   "codemirror_mode": {
    "name": "ipython",
    "version": 3
   },
   "file_extension": ".py",
   "mimetype": "text/x-python",
   "name": "python",
   "nbconvert_exporter": "python",
   "pygments_lexer": "ipython3",
   "version": "3.8.3"
  }
 },
 "nbformat": 4,
 "nbformat_minor": 4
}
