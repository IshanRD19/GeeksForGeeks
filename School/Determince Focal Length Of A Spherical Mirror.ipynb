{
 "cells": [
  {
   "cell_type": "markdown",
   "metadata": {},
   "source": [
    "# DETERMINE FOCAL LENGTH OF A SPHERICAL MIRROR\n",
    "\n",
    "Find the focal length of the spherical mirror with the given radius-of-curvature R.\n",
    " \n",
    "### Example 1:\n",
    "\n",
    "#### Input:\n",
    "type = \"concave\", R = 5.4\n",
    "#### Output:\n",
    "2\n",
    "### Example 2:\n",
    "\n",
    "#### Input:\n",
    "type = \"convex\", R = 10\n",
    "#### Output:\n",
    "-5\n",
    " \n",
    "\n",
    "### Your Task:\n",
    "You don't need to read or print anyhting. Your task is to complete the function findFocalLength() which takes R and type as input parameter and returns floor value of focal length.\n",
    " \n",
    "**Expected Time Complexity:** O(1)\n",
    "\n",
    "**Expected Space Complexity:** O(1)\n",
    "\n",
    "### Constraints:\n",
    "1 <= R <= 100"
   ]
  },
  {
   "cell_type": "code",
   "execution_count": 9,
   "metadata": {},
   "outputs": [
    {
     "name": "stdout",
     "output_type": "stream",
     "text": [
      "3\n",
      "concave\n",
      "5.4\n",
      "2\n",
      "convex\n",
      "10\n",
      "-5\n",
      "convex\n",
      "61.4\n",
      "-31\n"
     ]
    }
   ],
   "source": [
    "# User function Template for python3\n",
    "import math\n",
    "class Solution:\n",
    "    def findFocalLength(self, R, type):\n",
    "        # Code here\n",
    "        return math.floor(R / 2) if type == 'concave' else math.floor((-1 * R) / 2)\n",
    "\n",
    "#{ \n",
    "#  Driver Code Starts\n",
    "#Initial Template for Python 3\n",
    "\n",
    "if __name__ == '__main__':\n",
    "    T=int(input())\n",
    "    for i in range(T):\n",
    "        type = input()\n",
    "        R = float(input())\n",
    "        ob = Solution()\n",
    "        ans = ob.findFocalLength(R, type)\n",
    "        print(ans)\n",
    "# } Driver Code Ends"
   ]
  }
 ],
 "metadata": {
  "kernelspec": {
   "display_name": "Python 3",
   "language": "python",
   "name": "python3"
  },
  "language_info": {
   "codemirror_mode": {
    "name": "ipython",
    "version": 3
   },
   "file_extension": ".py",
   "mimetype": "text/x-python",
   "name": "python",
   "nbconvert_exporter": "python",
   "pygments_lexer": "ipython3",
   "version": "3.8.3"
  }
 },
 "nbformat": 4,
 "nbformat_minor": 4
}
