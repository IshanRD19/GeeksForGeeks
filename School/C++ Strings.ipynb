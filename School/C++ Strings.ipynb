{
 "cells": [
  {
   "cell_type": "markdown",
   "metadata": {},
   "source": [
    "# C++ STRINGS\n",
    "\n",
    "Given two strings  S1 and S2 . You have to concatenate both the strings and print the concatenated string.\n",
    "\n",
    "### Example 1:\n",
    "\n",
    "#### Input:\n",
    "S1 = \"Geeksfor\"\n",
    "\n",
    "S2 = \"Geeks\"\n",
    "#### Output:\n",
    "GeeksforGeeks\n",
    "#### Explanation:\n",
    "Combined \"Geeksfor\" and \"Geeks\"\n",
    " \n",
    "\n",
    "### Example 2:\n",
    "\n",
    "#### Input:\n",
    "S1 = \"Practice\"\n",
    "\n",
    "S2 = \"Hard\"\n",
    "#### Output:\n",
    "PracticeHard\n",
    "#### Explanation:\n",
    "Combined \"Practice\" and \"Hard\"\n",
    " \n",
    "### Your Task:  \n",
    "You dont need to read input or print anything. Complete the function conCat() which accepts two strings S1 and S2 as input parameter and returns concatenated string.\n",
    "\n",
    "\n",
    "**Expected Time Complexity:** O(|S1| + |S2|).\n",
    "\n",
    "**Expected Auxiliary Space:** O(|S1| + |S2|).\n",
    "\n",
    "where N is the length of a String\n",
    "\n",
    "\n",
    "### Constraints:\n",
    "1 <= |S1| , |S2| <= 10^5\n",
    "\n",
    "|S| denotes the length of the string S."
   ]
  },
  {
   "cell_type": "code",
   "execution_count": 1,
   "metadata": {},
   "outputs": [
    {
     "name": "stdout",
     "output_type": "stream",
     "text": [
      "2\n",
      "Geeksfor\n",
      "Geeks\n",
      "GeeksforGeeks\n",
      "Practice\n",
      "Hard\n",
      "PracticeHard\n"
     ]
    }
   ],
   "source": [
    "# User function Template for python3\n",
    "class Solution:\n",
    "\n",
    "    def conCat(self,s1,s2):\n",
    "        # code here\n",
    "        return s1 + s2\n",
    "\n",
    "#{ \n",
    "#  Driver Code Starts\n",
    "#Initial Template for Python 3\n",
    "\n",
    "if __name__ == '__main__':\n",
    "\n",
    "    t = int(input())\n",
    "\n",
    "    for _ in range(t):\n",
    "        s1 = input()\n",
    "        s2 = input()\n",
    "\n",
    "        solObj = Solution()\n",
    "\n",
    "        print(solObj.conCat(s1,s2))\n",
    "# } Driver Code Ends"
   ]
  }
 ],
 "metadata": {
  "kernelspec": {
   "display_name": "Python 3",
   "language": "python",
   "name": "python3"
  },
  "language_info": {
   "codemirror_mode": {
    "name": "ipython",
    "version": 3
   },
   "file_extension": ".py",
   "mimetype": "text/x-python",
   "name": "python",
   "nbconvert_exporter": "python",
   "pygments_lexer": "ipython3",
   "version": "3.8.3"
  }
 },
 "nbformat": 4,
 "nbformat_minor": 4
}
