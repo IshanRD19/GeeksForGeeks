{
 "cells": [
  {
   "cell_type": "markdown",
   "metadata": {},
   "source": [
    "# POWER OF POW | ODD NUMBER\n",
    "\n",
    "Given a single integer N, your task is to find the sum of the square of first N odd natural Numbers.\n",
    "\n",
    "### Example 1:\n",
    "\n",
    "#### Input:\n",
    "2\n",
    "#### Output:\n",
    "10\n",
    "#### Explanation:\n",
    "1^2 + 3^2 = 10\n",
    "### Example 2: \n",
    "\n",
    "#### Input:\n",
    "3\n",
    "#### Outptut:\n",
    "35\n",
    "#### Explanation:\n",
    "1^2 + 3^2 + 5^2 = 35\n",
    "\n",
    "### Your Task:\n",
    "You don't need to read or print anything. Your task is to complete the function sum_of_square_evenNumbers() wgich takes N as input parameter and returns the sum of first N odd natural numbers.\n",
    " \n",
    "**Expected Time Complexity:** O(1)\n",
    "\n",
    "**Expected Space Complexity:** O(1)\n",
    "\n",
    "### Constraints:\n",
    "1 <= N <= 10000"
   ]
  },
  {
   "cell_type": "code",
   "execution_count": 1,
   "metadata": {},
   "outputs": [
    {
     "name": "stdout",
     "output_type": "stream",
     "text": [
      "2\n",
      "2\n",
      "10\n",
      "3\n",
      "35\n"
     ]
    }
   ],
   "source": [
    "class Solution:\n",
    "    def sum_of_square_oddNumbers(self, n):\n",
    "        # Code here\n",
    "        \n",
    "        # Sum of squares of n natural numbers       : [n (n+1) (2n+1)] / 6\n",
    "        # Sum of squares of first n even numbers    : [2n (n + 1) (2n + 1)] / 3\n",
    "        # Sum of squares of first n odd numbers     : [n (2n+1) (2n-1)] / 3\n",
    "        \n",
    "        return n * (2 * n + 1) * (2 * n - 1) // 3\n",
    "\n",
    "#{ \n",
    "#  Driver Code Starts\n",
    "\n",
    "\n",
    "if __name__ == '__main__':\n",
    "    T=int(input())\n",
    "    for i in range(T):\n",
    "        n = int(input())\n",
    "        ob = Solution();\n",
    "        ans = ob.sum_of_square_oddNumbers(n)\n",
    "        print(ans)\n",
    "# } Driver Code Ends"
   ]
  }
 ],
 "metadata": {
  "kernelspec": {
   "display_name": "Python 3",
   "language": "python",
   "name": "python3"
  },
  "language_info": {
   "codemirror_mode": {
    "name": "ipython",
    "version": 3
   },
   "file_extension": ".py",
   "mimetype": "text/x-python",
   "name": "python",
   "nbconvert_exporter": "python",
   "pygments_lexer": "ipython3",
   "version": "3.8.3"
  }
 },
 "nbformat": 4,
 "nbformat_minor": 4
}
