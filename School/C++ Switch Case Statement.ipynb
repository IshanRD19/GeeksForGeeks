{
 "cells": [
  {
   "cell_type": "markdown",
   "metadata": {},
   "source": [
    "# C++ SWITCH CASE STATEMENT\n",
    "\n",
    "Given a number N, if the number is between 1 and 10 both inclusive then return the number in words (Lower case English Alphabets) otherwise return \"not in range\".\n",
    "\n",
    "### Example 1:\n",
    "\n",
    "#### Input:\n",
    "5\n",
    "#### Output:\n",
    "five\n",
    "\n",
    "### Example 2:\n",
    "\n",
    "#### Input:\n",
    "11\n",
    "#### Output:\n",
    "not in range\n",
    "\n",
    "### Your Task:\n",
    "\n",
    "You don't need to read input or print anything. Your task is to complete the function isInRange() which takes an integer and if the number is between 1 and 10 both inclusive then return the number in words otherwise return \"not in range\".\n",
    "\n",
    "**Expected Time Complexity:** O(1)\n",
    "\n",
    "**Expected Auxiliary Space:** O(1)\n",
    "\n",
    "### Constraints:\n",
    "\n",
    "1 <= N <= 10000"
   ]
  },
  {
   "cell_type": "code",
   "execution_count": 1,
   "metadata": {},
   "outputs": [
    {
     "name": "stdout",
     "output_type": "stream",
     "text": [
      "2\n",
      "5\n",
      "five\n",
      "11\n",
      "not in range\n"
     ]
    }
   ],
   "source": [
    "# User function Template for python3\n",
    "class Solution:\n",
    "    def isInRange (ob,N):\n",
    "        # code here \n",
    "        words = {1: 'one',\n",
    "                2: 'two',\n",
    "                3: 'three',\n",
    "                4: 'four',\n",
    "                5: 'five',\n",
    "                6: 'six',\n",
    "                7: 'seven',\n",
    "                8: 'eight',\n",
    "                9: 'nine',\n",
    "                10: 'ten'}\n",
    "        return words[N] if N in words else 'not in range'\n",
    "\n",
    "#{ \n",
    "#  Driver Code Starts\n",
    "#Initial Template for Python 3\n",
    "if __name__ == '__main__': \n",
    "    t = int (input ())\n",
    "    for _ in range (t):\n",
    "        \n",
    "        N=int(input())\n",
    "\n",
    "        ob = Solution()\n",
    "        print(ob.isInRange(N))\n",
    "# } Driver Code Ends"
   ]
  }
 ],
 "metadata": {
  "kernelspec": {
   "display_name": "Python 3",
   "language": "python",
   "name": "python3"
  },
  "language_info": {
   "codemirror_mode": {
    "name": "ipython",
    "version": 3
   },
   "file_extension": ".py",
   "mimetype": "text/x-python",
   "name": "python",
   "nbconvert_exporter": "python",
   "pygments_lexer": "ipython3",
   "version": "3.8.3"
  }
 },
 "nbformat": 4,
 "nbformat_minor": 4
}
