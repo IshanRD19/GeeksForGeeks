{
 "cells": [
  {
   "cell_type": "markdown",
   "metadata": {},
   "source": [
    "# COUNT OF CAMEL CASE CHARACTERS\n",
    "\n",
    "Given a string. Count the number of Camel Case characters in it.\n",
    "\n",
    "### Example 1:\n",
    "\n",
    "#### Input:\n",
    "S = \"ckjkUUYII\"\n",
    "#### Output:\n",
    "5\n",
    "#### Explanation:\n",
    "Camel Case characters present: U, U, Y, I and I.\n",
    "\n",
    "### Example 2:\n",
    "\n",
    "#### Input: \n",
    "S = \"abcd\"\n",
    "#### Output:\n",
    "0\n",
    "#### Explanation: No Camel Case character present.\n",
    "\n",
    "### Your Task:\n",
    "You don't need to read input or print anything. Your task is to complete the function countCamelCase() which takes the string S as input and returns the count of the camel case characters in the string.\n",
    "\n",
    "\n",
    "**Expected Time Complexity:** O(|S|).\n",
    "\n",
    "**Expected Auxiliary Space:** O(1).\n",
    "\n",
    "\n",
    "### Constraints:\n",
    "1<=|S|<=10^5"
   ]
  },
  {
   "cell_type": "code",
   "execution_count": 1,
   "metadata": {},
   "outputs": [
    {
     "name": "stdout",
     "output_type": "stream",
     "text": [
      "2\n",
      "ckjkUUYII\n",
      "5\n",
      "abcd\n",
      "0\n"
     ]
    }
   ],
   "source": [
    "# User function Template for python3\n",
    "class Solution:\n",
    "    def countCamelCase (self, s):\n",
    "        # your code here\n",
    "        counter = 0\n",
    "\n",
    "        # For each character\n",
    "        for c in s:\n",
    "            # Check if it's upper case\n",
    "            if c == c.upper():\n",
    "                counter += 1\n",
    "        \n",
    "        return counter\n",
    "\n",
    "\n",
    "#{ \n",
    "#  Driver Code Starts\n",
    "#Initial Template for Python 3\n",
    "\n",
    "t = int (input ())\n",
    "for tc in range (t):\n",
    "    s = input ()\n",
    "    ob = Solution()\n",
    "    print (ob.countCamelCase (s))\n",
    "# } Driver Code Ends"
   ]
  }
 ],
 "metadata": {
  "kernelspec": {
   "display_name": "Python 3",
   "language": "python",
   "name": "python3"
  },
  "language_info": {
   "codemirror_mode": {
    "name": "ipython",
    "version": 3
   },
   "file_extension": ".py",
   "mimetype": "text/x-python",
   "name": "python",
   "nbconvert_exporter": "python",
   "pygments_lexer": "ipython3",
   "version": "3.8.3"
  }
 },
 "nbformat": 4,
 "nbformat_minor": 4
}
