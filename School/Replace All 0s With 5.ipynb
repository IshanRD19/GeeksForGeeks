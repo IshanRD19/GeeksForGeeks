{
 "cells": [
  {
   "cell_type": "markdown",
   "metadata": {},
   "source": [
    "# REPLACE ALL 0s WITH 5\n",
    "\n",
    "Given a number N. The task is to complete the function convertFive() which replace all zeros in the number with 5 and returns the number.\n",
    "\n",
    "### Input:\n",
    "The first line of input contains an integer T, denoting the number of testcases. Then T testcases follow. Each testcase contains a single integer N denoting the number.\n",
    "\n",
    "### Output:\n",
    "The function will return integer where all zero's are converted to 5.\n",
    "\n",
    "### User Task:\n",
    "Since this is a functional problem you don't have to worry about input, you just have to complete the function convertFive().\n",
    "\n",
    "### Constraints:\n",
    "1 <= T <= 103\n",
    "\n",
    "1 <= N <= 104\n",
    "\n",
    "### Example:\n",
    "#### Input\n",
    "2\n",
    "\n",
    "1004\n",
    "\n",
    "121\n",
    "\n",
    "#### Output\n",
    "1554\n",
    "\n",
    "121\n",
    "\n",
    "### Explanation:\n",
    "**Testcase 1:**  At index 1 and 2 there is 0 so we replace it with 5.\n",
    "\n",
    "**Testcase 2:** There is no ,0 so output will remain same."
   ]
  },
  {
   "cell_type": "code",
   "execution_count": 1,
   "metadata": {},
   "outputs": [
    {
     "name": "stdout",
     "output_type": "stream",
     "text": [
      "2\n",
      "1004\n",
      "1554\n",
      "121\n",
      "121\n"
     ]
    }
   ],
   "source": [
    "# function should return an integer\n",
    "# your task is to complete this function\n",
    "class Solution:\n",
    "    def convertFive(self,n):\n",
    "        #Code here\n",
    "        list_n = [c for c in str(n)]\n",
    "        string_n = ''.join(list_n)\n",
    "        updated_string_n = string_n.replace('0', '5')\n",
    "        return int(updated_string_n)\n",
    "\n",
    "#{ \n",
    "#  Driver Code Starts\n",
    "if __name__=='__main__':\n",
    "    t = int(input())\n",
    "    for i in range(t):\n",
    "        n=int(input())\n",
    "        print(Solution().convertFive(n))\n",
    "# } Driver Code Ends"
   ]
  }
 ],
 "metadata": {
  "kernelspec": {
   "display_name": "Python 3",
   "language": "python",
   "name": "python3"
  },
  "language_info": {
   "codemirror_mode": {
    "name": "ipython",
    "version": 3
   },
   "file_extension": ".py",
   "mimetype": "text/x-python",
   "name": "python",
   "nbconvert_exporter": "python",
   "pygments_lexer": "ipython3",
   "version": "3.8.3"
  }
 },
 "nbformat": 4,
 "nbformat_minor": 4
}
