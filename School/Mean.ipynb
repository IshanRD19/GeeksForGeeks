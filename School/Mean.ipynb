{
 "cells": [
  {
   "cell_type": "markdown",
   "metadata": {},
   "source": [
    "# MEAN\n",
    "\n",
    "Given the marks of N students in an Array A, calculate the mean.\n",
    "\n",
    "**Note:** If result is a Decimal Value, find it's floor Value.\n",
    "\n",
    "### Example 1:\n",
    "\n",
    "#### Input:\n",
    "N = 4 \n",
    "\n",
    "A = { 56 , 67 , 30 , 79 }\n",
    "#### Output:\n",
    "58\n",
    "#### Explanation:\n",
    "56+67+30+79 = 232;  232/4 = 58. So, the Output is 58.\n",
    "### Example 2:\n",
    "\n",
    "#### Input:\n",
    "N = 4 \n",
    "\n",
    "A = { 78 , 89 , 67 , 76 }\n",
    "#### Output:\n",
    "77\n",
    "#### Explanation:\n",
    "78+89+67+76  = 310;  310/4 = 77.5 = 77. So, the Output is 77.\n",
    "### Your Task:\n",
    "You don't need to read input or print anything. Your task is to complete the function mean() which takes 1 Integer N and an Array A as input and returns the answer.\n",
    "\n",
    "**Expected Time Complexity:** O(N)\n",
    "\n",
    "**Expected Auxiliary Space:** O(1)\n",
    "\n",
    "### Constraints:\n",
    "1 <= N <= 10^4\n",
    "\n",
    "1 <= A[i] <= 10^4"
   ]
  },
  {
   "cell_type": "code",
   "execution_count": 1,
   "metadata": {},
   "outputs": [
    {
     "name": "stdout",
     "output_type": "stream",
     "text": [
      "2\n",
      "4\n",
      "56 67 30 79\n",
      "58\n",
      "4\n",
      "78 89 67 76\n",
      "77\n"
     ]
    }
   ],
   "source": [
    "# User function Template for python3\n",
    "class Solution:\n",
    "    def mean(self, N, A):\n",
    "        # code here \n",
    "        return sum(A) // N\n",
    "        \n",
    "\n",
    "#{ \n",
    "#  Driver Code Starts\n",
    "#Initial Template for Python 3\n",
    "\n",
    "#Initial Template for Python 3\n",
    "\n",
    "if __name__ == '__main__': \n",
    "    t = int (input ())\n",
    "    for _ in range (t):\n",
    "        N=int(input())\n",
    "        A = list(map(int,input().split()))\n",
    "        \n",
    "        ob = Solution()\n",
    "        print(ob.mean(N,A))\n",
    "# } Driver Code Ends"
   ]
  }
 ],
 "metadata": {
  "kernelspec": {
   "display_name": "Python 3",
   "language": "python",
   "name": "python3"
  },
  "language_info": {
   "codemirror_mode": {
    "name": "ipython",
    "version": 3
   },
   "file_extension": ".py",
   "mimetype": "text/x-python",
   "name": "python",
   "nbconvert_exporter": "python",
   "pygments_lexer": "ipython3",
   "version": "3.8.3"
  }
 },
 "nbformat": 4,
 "nbformat_minor": 4
}
