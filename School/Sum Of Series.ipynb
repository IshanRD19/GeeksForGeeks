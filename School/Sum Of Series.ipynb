{
 "cells": [
  {
   "cell_type": "markdown",
   "metadata": {},
   "source": [
    "# SUM OF SERIES\n",
    "\n",
    "Write a program to find the sum of the given series 1+2+3+ . . . . . .(N terms) \n",
    "\n",
    "### Example 1:\n",
    "\n",
    "#### Input:\n",
    "N = 1\n",
    "#### Output:\n",
    "1\n",
    "#### Explanation:\n",
    "For n = 1, sum will be 1.\n",
    "### Example 2:\n",
    "\n",
    "#### Input:\n",
    "N = 5\n",
    "#### Output:\n",
    "15\n",
    "#### Explanation:\n",
    "For n = 5, sum will be 1 + 2 + 3 + 4 + 5 = 15.\n",
    "### Your Task:\n",
    "Complete the function seriesSum() which takes single integer n, as input parameters and returns an integer denoting the answer. You don't to print answer or take inputs.\n",
    "\n",
    "**Expected Time Complexity:** O(1)\n",
    "\n",
    "**Expected Auxiliary Space:** O(1)\n",
    "\n",
    "### Constraints:\n",
    "1 <= N <= 105"
   ]
  },
  {
   "cell_type": "code",
   "execution_count": 1,
   "metadata": {},
   "outputs": [
    {
     "name": "stdout",
     "output_type": "stream",
     "text": [
      "2\n",
      "1\n",
      "1\n",
      "5\n",
      "15\n"
     ]
    }
   ],
   "source": [
    "# User function Template for python3\n",
    "class Solution:\n",
    "    def seriesSum(self,n):\n",
    "        # code here\n",
    "        return int((n * (n+1)) / 2)\n",
    "\n",
    "\n",
    "#{ \n",
    "#  Driver Code Starts\n",
    "#Initial Template for Python 3\n",
    "\n",
    "\n",
    "# Driver code \n",
    "if __name__ == \"__main__\":         \n",
    "    tc = int(input())\n",
    "    while tc > 0:\n",
    "        n = int(input())\n",
    "        ob = Solution()\n",
    "        ans = ob.seriesSum(n)\n",
    "        print(ans)\n",
    "        tc = tc-1\n",
    "# } Driver Code Ends"
   ]
  }
 ],
 "metadata": {
  "kernelspec": {
   "display_name": "Python 3",
   "language": "python",
   "name": "python3"
  },
  "language_info": {
   "codemirror_mode": {
    "name": "ipython",
    "version": 3
   },
   "file_extension": ".py",
   "mimetype": "text/x-python",
   "name": "python",
   "nbconvert_exporter": "python",
   "pygments_lexer": "ipython3",
   "version": "3.8.3"
  }
 },
 "nbformat": 4,
 "nbformat_minor": 4
}
