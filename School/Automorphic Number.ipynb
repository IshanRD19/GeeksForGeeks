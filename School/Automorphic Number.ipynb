{
 "cells": [
  {
   "cell_type": "markdown",
   "metadata": {},
   "source": [
    "# AUTOMORPHIC NUMBER\n",
    "\n",
    "Given a number N, check whether the number is Automorphic number or not.\n",
    "A number is called Automorphic number if and only if its square ends in the same digits as the number itself.\n",
    "\n",
    "### Example 1:\n",
    "\n",
    "#### Input:\n",
    "N = 76\n",
    "#### Output:\n",
    "Automorphic\n",
    "#### Explanation:\n",
    "76^2 = 5776 which ends with 76 therefore it is a automorphic number.\n",
    "### Example 2:\n",
    "\n",
    "#### Input:\n",
    "N = 16\n",
    "#### Output:\n",
    "Not Automorphic\n",
    "#### Explanation:\n",
    "16^2 = 256 is not ending with 16.\n",
    "\n",
    "### Your Task:\n",
    "\n",
    "You don't need to read or print anything. Your task is to complete the function is_AutomorphicNumber() which takes n as input parameter and returns \"Automorphic\" if it is Automorphic number otherwise returns \"Not Automorphic\"(Without quotes).\n",
    " \n",
    "**Expected Time complexity:** O(log(N))\n",
    "\n",
    "**Expected Space Complexity:** O(1)\n",
    "\n",
    "### Constranits:\n",
    "1 <= N <= 1000"
   ]
  },
  {
   "cell_type": "code",
   "execution_count": 1,
   "metadata": {},
   "outputs": [
    {
     "name": "stdout",
     "output_type": "stream",
     "text": [
      "2\n",
      "76\n",
      "Automorphic\n",
      "16\n",
      "Not Automorphic\n"
     ]
    }
   ],
   "source": [
    "# User function Template for python3\n",
    "class Solution:\n",
    "    def is_AutomorphicNumber(self, n):\n",
    "        # Code here\n",
    "        return 'Automorphic' if str(n) == str(n ** 2)[-len(str(n)):] else 'Not Automorphic'\n",
    "\n",
    "#{ \n",
    "#  Driver Code Starts\n",
    "#Initial Template for Python 3\n",
    "\n",
    "if __name__ == '__main__':\n",
    "    T=int(input())\n",
    "    for i in range(T):\n",
    "        n = int(input())\n",
    "        ob = Solution();\n",
    "        ans = ob.is_AutomorphicNumber(n)\n",
    "        print(ans)\n",
    "# } Driver Code Ends"
   ]
  }
 ],
 "metadata": {
  "kernelspec": {
   "display_name": "Python 3",
   "language": "python",
   "name": "python3"
  },
  "language_info": {
   "codemirror_mode": {
    "name": "ipython",
    "version": 3
   },
   "file_extension": ".py",
   "mimetype": "text/x-python",
   "name": "python",
   "nbconvert_exporter": "python",
   "pygments_lexer": "ipython3",
   "version": "3.8.3"
  }
 },
 "nbformat": 4,
 "nbformat_minor": 4
}
