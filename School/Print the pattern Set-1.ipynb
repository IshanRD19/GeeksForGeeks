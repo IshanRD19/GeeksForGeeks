{
 "cells": [
  {
   "cell_type": "markdown",
   "metadata": {},
   "source": [
    "# PRINT THE PATTERN SET-1\n",
    "\n",
    "You a given a number N. You need to print the pattern for the given value of N.\n",
    "\n",
    "### Example 1: \n",
    "#### Input:\n",
    "N = 2\n",
    "\n",
    "#### Output:\n",
    "2 2 1 1\n",
    "\n",
    "2 1\n",
    "\n",
    "### Example 2: \n",
    "\n",
    "#### Input:\n",
    "N = 3\n",
    "\n",
    "#### Output:\n",
    "3 3 3 2 2 2 1 1 1\n",
    "\n",
    "3 3 2 2 1 1\n",
    "\n",
    "3 2 1\n",
    "\n",
    "### Your Task:\n",
    "Since this is a function problem, you don't need to worry about the testcases. Your task is to complete the function printPat which takes one argument 'N' denoting the length of the pattern.\n",
    "\n",
    "**Note:** Instead of printing new line print a \"$\" without quotes.\n",
    "\n",
    "### Constraints:\n",
    "1 <= N <= 40\n",
    "\n",
    "\n",
    "**Note:** The Input/Ouput format and Example given are used for system's internal purpose, and should be used by a user for Expected Output only. As it is a function problem, hence a user should not read any input from stdin/console. The task is to complete the function specified, and not to write the full code."
   ]
  },
  {
   "cell_type": "code",
   "execution_count": 1,
   "metadata": {},
   "outputs": [
    {
     "name": "stdout",
     "output_type": "stream",
     "text": [
      "1\n",
      "3\n",
      "3 3 3 2 2 2 1 1 1 $3 3 2 2 1 1 $3 2 1 $\n"
     ]
    }
   ],
   "source": [
    "def printPat(n):\n",
    "    #Code here\n",
    "    rows = []\n",
    "    for i in range(n, 0, -1):\n",
    "        row = []\n",
    "        for j in range(n, 0, -1):\n",
    "            for k in range(i):\n",
    "                row.append(j)\n",
    "        rows.append(row)\n",
    "\n",
    "    output = ''\n",
    "    for row in rows:\n",
    "        output += ' '.join(str(i) for i in row)\n",
    "        output += ' $'\n",
    "\n",
    "    return output\n",
    "\n",
    "\n",
    "#{ \n",
    "#  Driver Code Starts\n",
    "if __name__ == '__main__':\n",
    "    t=int(input())\n",
    "    for i in range(t):\n",
    "        n= int(input())\n",
    "        print (printPat(n))\n",
    "# } Driver Code Ends"
   ]
  }
 ],
 "metadata": {
  "kernelspec": {
   "display_name": "Python 3",
   "language": "python",
   "name": "python3"
  },
  "language_info": {
   "codemirror_mode": {
    "name": "ipython",
    "version": 3
   },
   "file_extension": ".py",
   "mimetype": "text/x-python",
   "name": "python",
   "nbconvert_exporter": "python",
   "pygments_lexer": "ipython3",
   "version": "3.8.3"
  }
 },
 "nbformat": 4,
 "nbformat_minor": 4
}
