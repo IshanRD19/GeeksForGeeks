{
 "cells": [
  {
   "cell_type": "markdown",
   "metadata": {},
   "source": [
    "# SERIES AP\n",
    "\n",
    "Given the first 2 terms A1 and A2 of an Arithmetic Series.Find the Nth term of the series. \n",
    "\n",
    "### Example 1:\n",
    "\n",
    "#### Input:\n",
    "A1=2\n",
    "\n",
    "A2=3\n",
    "\n",
    "N=4\n",
    "#### Output:\n",
    "5\n",
    "#### Explanation:\n",
    "The series is 2,3,4,5,6....\n",
    "\n",
    "Thus,4th term is 5.\n",
    "### Example 2:\n",
    "\n",
    "#### Input:\n",
    "A1=1\n",
    "\n",
    "A2=2\n",
    "\n",
    "N=10\n",
    "#### Output:\n",
    "10\n",
    "#### Explanation:\n",
    "The series is1,2,3,4,5,6,7,8,9,10,11..\n",
    "\n",
    "Thus,10th term is 10.\n",
    "\n",
    "### Your Task:\n",
    "You don't need to read input or print anything.Your Task is to complete the function nthTermOfAP() which takes three integers A1,A2 and N as input parameters and returns the nth term of the AP that has A1 and A2 as the first and second terms respectively.\n",
    "\n",
    "\n",
    "**Expected Time Complexity:** O(1)\n",
    "\n",
    "**Expected Auxillary Space:** O(1)\n",
    "\n",
    "\n",
    "### Constraints:\n",
    "-10^4 <= A1,A2 <= 10^4\n",
    "\n",
    "1 <= N <= 10^3"
   ]
  },
  {
   "cell_type": "code",
   "execution_count": 1,
   "metadata": {},
   "outputs": [
    {
     "name": "stdout",
     "output_type": "stream",
     "text": [
      "2\n",
      "2 3 4\n",
      "5\n",
      "1 2 10\n",
      "10\n"
     ]
    }
   ],
   "source": [
    "### User function Template for python3\n",
    "class Solution:\n",
    "    def nthTermOfAP(self, A1, A2, N):\n",
    "        #code here\n",
    "        return A1 + (N-1) * (A2 - A1)\n",
    "        \n",
    "\n",
    "#{ \n",
    "#  Driver Code Starts\n",
    "#Initial Template for Python 3\n",
    "\n",
    "if __name__=='__main__':\n",
    "    t=int(input())\n",
    "    for _ in range(t):\n",
    "        A1,A2,N=map(int,input().strip().split(' '))\n",
    "        ob=Solution()\n",
    "        print(ob.nthTermOfAP(A1,A2,N))  \n",
    "# } Driver Code Ends"
   ]
  }
 ],
 "metadata": {
  "kernelspec": {
   "display_name": "Python 3",
   "language": "python",
   "name": "python3"
  },
  "language_info": {
   "codemirror_mode": {
    "name": "ipython",
    "version": 3
   },
   "file_extension": ".py",
   "mimetype": "text/x-python",
   "name": "python",
   "nbconvert_exporter": "python",
   "pygments_lexer": "ipython3",
   "version": "3.8.3"
  }
 },
 "nbformat": 4,
 "nbformat_minor": 4
}
