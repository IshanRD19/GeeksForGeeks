{
 "cells": [
  {
   "cell_type": "markdown",
   "metadata": {},
   "source": [
    "# REMOVE CHARACTERS FROM ALPHANUMERIC STRING\n",
    "\n",
    "Remove all characters except the numeric characters from an alphanumeric string.\n",
    "\n",
    "### Example 1:\n",
    "\n",
    "#### Input:\n",
    "S = \"AA1d23cBB4\"\n",
    "#### Output:\n",
    "1234\n",
    "#### Explanation:\n",
    "Remove all characters other than numbers\n",
    "### Example 2:\n",
    "\n",
    "#### Input:\n",
    "S = \"a1b2c3\"\n",
    "#### Output:\n",
    "123\n",
    "#### Explanation:\n",
    "Remove all chacactres other than numbers\n",
    "\n",
    "### Your task:\n",
    "Your task is to complete the function string() which takes a single string as input and returns the string. You need not take any input or print anything.\n",
    " \n",
    "**Expected Time Complexity:** O(|S|)\n",
    "\n",
    "**Expected Auxiliary Space:** O(1)\n",
    "\n",
    "### Constraints:\n",
    "1 <= |S| <= 10^5"
   ]
  },
  {
   "cell_type": "code",
   "execution_count": 1,
   "metadata": {},
   "outputs": [
    {
     "name": "stdout",
     "output_type": "stream",
     "text": [
      "2\n",
      "AA1d23cBB4\n",
      "1234\n",
      "a1b2c3\n",
      "123\n"
     ]
    }
   ],
   "source": [
    "# User function Template for python3\n",
    "class Solution:\n",
    "    def removeCharacters(self, S):\n",
    "        # code here\n",
    "        s_list = list(S)\n",
    "\n",
    "        for i in range(len(s_list)):\n",
    "            if not 48 <= ord(s_list[i]) <= 57:\n",
    "                s_list[i] = ''\n",
    "                \n",
    "        return ''.join(s_list)\n",
    "\n",
    "#{ \n",
    "#  Driver Code Starts\n",
    "#Initial Template for Python 3\n",
    "\n",
    "if __name__ == '__main__':\n",
    "    T=int(input())\n",
    "    for i in range(T):\n",
    "        s = input()\n",
    "        \n",
    "        ob = Solution()    \n",
    "        answer = ob.removeCharacters(s)\n",
    "        \n",
    "        print(answer)\n",
    "\n",
    "\n",
    "# } Driver Code Ends"
   ]
  }
 ],
 "metadata": {
  "kernelspec": {
   "display_name": "Python 3",
   "language": "python",
   "name": "python3"
  },
  "language_info": {
   "codemirror_mode": {
    "name": "ipython",
    "version": 3
   },
   "file_extension": ".py",
   "mimetype": "text/x-python",
   "name": "python",
   "nbconvert_exporter": "python",
   "pygments_lexer": "ipython3",
   "version": "3.8.3"
  }
 },
 "nbformat": 4,
 "nbformat_minor": 4
}
