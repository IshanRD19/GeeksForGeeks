{
 "cells": [
  {
   "cell_type": "markdown",
   "metadata": {},
   "source": [
    "# SUM OF DIGITS IS PALINDROME OR NOT\n",
    "\n",
    "Given a number N.Find if the digit sum(or sum of digits) of N is a Palindrome number or not.\n",
    "Note:A Palindrome number is a number which stays the same when reversed.Example- 121,131,7 etc.\n",
    "\n",
    "### Example 1:\n",
    "\n",
    "#### Input:\n",
    "N=56\n",
    "#### Output:\n",
    "1\n",
    "#### Explanation:\n",
    "The digit sum of 56 is 5+6=11. Since, 11 is a palindrome number.Thus, answer is 1.\n",
    "### Example 2:\n",
    "\n",
    "#### Input:\n",
    "N=98\n",
    "#### Output:\n",
    "0\n",
    "#### Explanation:\n",
    "The digit sum of 98 is 9+8=17. Since 17 is not a palindrome,thus, answer is 0.\n",
    "\n",
    "### Your Task:\n",
    "You don't need to read input or print aything.Your Task is to complete the function isDigitSumPalindrome() which takes a number N as input parameter and returns 1 if the Digit sum of N is a palindrome.Otherwise it returns 0.\n",
    "\n",
    "**Expected Time Complexity:** O(LogN)\n",
    "\n",
    "**Expected Auxillary Space:** O(1)\n",
    "\n",
    "### Constraints:\n",
    "1 <= N <= 10^9"
   ]
  },
  {
   "cell_type": "code",
   "execution_count": 1,
   "metadata": {},
   "outputs": [
    {
     "name": "stdout",
     "output_type": "stream",
     "text": [
      "2\n",
      "56\n",
      "1\n",
      "98\n",
      "0\n"
     ]
    }
   ],
   "source": [
    "#User function Template for python3\n",
    "\n",
    "class Solution:\n",
    "    def isDigitSumPalindrome(self, N):\n",
    "        #code here\n",
    "        digits = [int(d) for d in str(N)]\n",
    "        digits_sum = sum(digits)\n",
    "        \n",
    "        chars = [d for d in str(digits_sum)]\n",
    "        reverse_chars = chars.copy()\n",
    "        reverse_chars.reverse()\n",
    "        \n",
    "        if chars == reverse_chars:\n",
    "            return 1\n",
    "\n",
    "        return 0\n",
    "\n",
    "#{ \n",
    "#  Driver Code Starts\n",
    "#Initial Template for Python 3\n",
    "\n",
    "if __name__=='__main__':\n",
    "    t=int(input())\n",
    "    for _ in range(t):\n",
    "        N=int(input())\n",
    "        ob=Solution()\n",
    "        print(ob.isDigitSumPalindrome(N))\n",
    "# } Driver Code Ends"
   ]
  }
 ],
 "metadata": {
  "kernelspec": {
   "display_name": "Python 3",
   "language": "python",
   "name": "python3"
  },
  "language_info": {
   "codemirror_mode": {
    "name": "ipython",
    "version": 3
   },
   "file_extension": ".py",
   "mimetype": "text/x-python",
   "name": "python",
   "nbconvert_exporter": "python",
   "pygments_lexer": "ipython3",
   "version": "3.8.3"
  }
 },
 "nbformat": 4,
 "nbformat_minor": 4
}
