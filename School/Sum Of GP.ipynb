{
 "cells": [
  {
   "cell_type": "markdown",
   "metadata": {},
   "source": [
    "# SUM OF GP\n",
    "\n",
    "Given n, a and r as the number of terms, first term and common ratio respectively of an Geometric Progression Series. Find the sum of the series upto nth term.\n",
    "\n",
    "### Example 1:\n",
    "\n",
    "#### Input:\n",
    "3 3 2\n",
    "#### Output:\n",
    "21\n",
    "#### Explanation:\n",
    "Series upto 3rd term is 3 6 12, so sum will be 21.\n",
    "\n",
    "### Example 2:\n",
    "\n",
    "#### Input:\n",
    "3 1 2\n",
    "#### Output:\n",
    "7\n",
    "#### Example:\n",
    "Series upto 3rd term is 1 2 4, so sum will be 7.\n",
    "\n",
    "### Your Task:\n",
    "You don't need to read or print anything. Your task is to complete the function sum_of_gp() which takes n, a and r as input parameter and returns the sum of the series.\n",
    "\n",
    "**Expected Time Complexity:** O(1)\n",
    "\n",
    "**Expected Space Complexity:** O(1)\n",
    " \n",
    "### Constranits:\n",
    "1 <= n, a, r <= 10"
   ]
  },
  {
   "cell_type": "code",
   "execution_count": 1,
   "metadata": {},
   "outputs": [
    {
     "name": "stdout",
     "output_type": "stream",
     "text": [
      "2\n",
      "3 3 2\n",
      "21\n",
      "3 1 2\n",
      "7\n"
     ]
    }
   ],
   "source": [
    "# User function Template for python3\n",
    "class Solution:\n",
    "    def sum_of_gp(self, n, a, r):\n",
    "        # Code here\n",
    "        if r == 1:\n",
    "            return a * n\n",
    "        \n",
    "        elif r > 1:\n",
    "            # Sum of the first n terms of a GP is given by: Sn = a[(r^n – 1)/(r – 1)] if r ≠ 1 and r > 1.\n",
    "            return a * (r ** n - 1) // (r - 1)\n",
    "\n",
    "        # Sum of the first n terms of a GP is given by: Sn = a[(1 - r^n)/(1 - r)] if r ≠ 1 and r < 1.\n",
    "        return a * (1 - r ** n) // (1 - r)\n",
    "\n",
    "#{ \n",
    "#  Driver Code Starts\n",
    "#Initial Template for Python 3\n",
    "\n",
    "if __name__ == '__main__':\n",
    "    T=int(input())\n",
    "    for i in range(T):\n",
    "        n, a, r = input().split()\n",
    "        n = int(n)\n",
    "        a = int(a)\n",
    "        r = int(r)\n",
    "        ob = Solution();\n",
    "        ans = ob.sum_of_gp(n, a, r)\n",
    "        print(ans)\n",
    "# } Driver Code Ends"
   ]
  }
 ],
 "metadata": {
  "kernelspec": {
   "display_name": "Python 3",
   "language": "python",
   "name": "python3"
  },
  "language_info": {
   "codemirror_mode": {
    "name": "ipython",
    "version": 3
   },
   "file_extension": ".py",
   "mimetype": "text/x-python",
   "name": "python",
   "nbconvert_exporter": "python",
   "pygments_lexer": "ipython3",
   "version": "3.8.3"
  }
 },
 "nbformat": 4,
 "nbformat_minor": 4
}
