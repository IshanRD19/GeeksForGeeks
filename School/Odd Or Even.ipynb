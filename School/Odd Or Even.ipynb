{
 "cells": [
  {
   "cell_type": "markdown",
   "metadata": {},
   "source": [
    "# ODD OR EVEN\n",
    "\n",
    "Given a positive integer N, determine whether it is odd or even.\n",
    "\n",
    " \n",
    "\n",
    "### Example 1:\n",
    "\n",
    "#### Input:\n",
    "N = 1\n",
    "#### Output:\n",
    "odd\n",
    "#### Explanation:\n",
    "The output is self-explanatory.\n",
    "\n",
    "### Example 2:\n",
    "\n",
    "#### Input:\n",
    "N = 2\n",
    "#### Output:\n",
    "even\n",
    "#### Explanation:\n",
    "The output is self-explanatory.\n",
    "\n",
    "### Your Task:\n",
    "You don't need to read input or print anything. Your task is to complete the function oddEven() which takes the integer N and return \"even\" is number is even and \"odd\" if the number is odd.\n",
    "\n",
    "**Expected Time Complexity:** O(1)\n",
    "\n",
    "**Expected Auxiliary Space:** O(1)\n",
    "\n",
    "### Constraints:\n",
    "0 <= N <= 10000"
   ]
  },
  {
   "cell_type": "code",
   "execution_count": 1,
   "metadata": {},
   "outputs": [
    {
     "name": "stdout",
     "output_type": "stream",
     "text": [
      "2\n",
      "1\n",
      "odd\n",
      "2\n",
      "even\n"
     ]
    }
   ],
   "source": [
    "# User function Template for python3\n",
    "class Solution:\n",
    "    def oddEven (ob,N):\n",
    "        # code here \n",
    "        if N%2:\n",
    "            return 'odd'\n",
    "        else:\n",
    "            return 'even'\n",
    "        \n",
    "\n",
    "#{ \n",
    "#  Driver Code Starts\n",
    "#Initial Template for Python 3\n",
    "if __name__ == '__main__': \n",
    "    t = int (input ())\n",
    "    for _ in range (t):\n",
    "        \n",
    "        N=int(input())\n",
    "\n",
    "        ob = Solution()\n",
    "        print(ob.oddEven(N))\n",
    "# } Driver Code Ends"
   ]
  }
 ],
 "metadata": {
  "kernelspec": {
   "display_name": "Python 3",
   "language": "python",
   "name": "python3"
  },
  "language_info": {
   "codemirror_mode": {
    "name": "ipython",
    "version": 3
   },
   "file_extension": ".py",
   "mimetype": "text/x-python",
   "name": "python",
   "nbconvert_exporter": "python",
   "pygments_lexer": "ipython3",
   "version": "3.8.3"
  }
 },
 "nbformat": 4,
 "nbformat_minor": 4
}
