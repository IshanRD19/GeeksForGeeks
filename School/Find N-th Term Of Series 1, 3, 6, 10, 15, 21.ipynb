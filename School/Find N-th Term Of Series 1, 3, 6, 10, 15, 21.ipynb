{
 "cells": [
  {
   "cell_type": "markdown",
   "metadata": {},
   "source": [
    "# FIND THE N-TH TERM OF SERIES 1, 3, 6, 10, 15, 21\n",
    "\n",
    "Given a number N, find the Nth term in the series 1, 3, 6, 10, 15, 21…\n",
    "\n",
    "### Example 1:\n",
    "\n",
    "#### Input :\n",
    "N = 4 \n",
    "#### Output:\n",
    "10\n",
    "#### Explanation:\n",
    "The 4th term of the Series is 10.\n",
    "### Example 2:\n",
    "\n",
    "#### Input :\n",
    "N = 3 \n",
    "#### Output:\n",
    "6\n",
    "#### Explanation:\n",
    "The 3rd term of the Series is 6.\n",
    "\n",
    "### Your Task:\n",
    "You don't need to read input or print anything. Your task is to complete the function findNthTerm() which takes an Integer N as input and returns the answer.\n",
    "\n",
    "**Expected Time Complexity:** O(1)\n",
    "\n",
    "**Expected Auxiliary Space:** O(1)\n",
    "\n",
    "### Constraints:\n",
    "1 <= N <= 10^4"
   ]
  },
  {
   "cell_type": "code",
   "execution_count": 1,
   "metadata": {},
   "outputs": [
    {
     "name": "stdout",
     "output_type": "stream",
     "text": [
      "2\n",
      "4\n",
      "10\n",
      "3\n",
      "6\n"
     ]
    }
   ],
   "source": [
    "# User function Template for python3\n",
    "class Solution:\n",
    "    def findNthTerm(self, N):\n",
    "        # code here \n",
    "        return N * (N + 1) // 2\n",
    "\n",
    "#{ \n",
    "#  Driver Code Starts\n",
    "#Initial Template for Python 3\n",
    "\n",
    "if __name__ == '__main__': \n",
    "    t = int (input ())\n",
    "    for _ in range (t):\n",
    "        N=int(input())\n",
    "        \n",
    "        ob = Solution()\n",
    "        print(ob.findNthTerm(N))\n",
    "# } Driver Code Ends"
   ]
  }
 ],
 "metadata": {
  "kernelspec": {
   "display_name": "Python 3",
   "language": "python",
   "name": "python3"
  },
  "language_info": {
   "codemirror_mode": {
    "name": "ipython",
    "version": 3
   },
   "file_extension": ".py",
   "mimetype": "text/x-python",
   "name": "python",
   "nbconvert_exporter": "python",
   "pygments_lexer": "ipython3",
   "version": "3.8.3"
  }
 },
 "nbformat": 4,
 "nbformat_minor": 4
}
