{
 "cells": [
  {
   "cell_type": "markdown",
   "metadata": {},
   "source": [
    "# DECIMAL TO ANY BASE CONVERSION\n",
    "\n",
    "Given a decimal number N and the base B to which it should be converted. Convert the given number to the given base.\n",
    "\n",
    "### Example 1:\n",
    "\n",
    "#### Input:\n",
    "B = 2\n",
    "N = 12 \n",
    "\n",
    "#### Output:\n",
    "1100\n",
    "\n",
    "#### Explanation:\n",
    "If the number 12 is converted to a number with base 2 we get the binary representation of 12 = 1100.\n",
    "### Example 2:\n",
    "\n",
    "#### Input:\n",
    "B = 16\n",
    "N = 282\n",
    "\n",
    "#### Output:\n",
    "11A\n",
    "\n",
    "#### Explanation:\n",
    "If the number 282 is converted to a number with base 16 we get the hexadecimal representation of 282 = 11A.\n",
    "### Your Task:  \n",
    "You don't need to read input or print anything. Your task is to complete the function getNumber() which takes two integer B and N representing the base and the decimal number and returns the number in the given base.\n",
    "\n",
    "**Expected Time Complexity:** O(LogN)\n",
    "\n",
    "**Expected Auxiliary Space:** O(1)\n",
    "\n",
    "### Constraints:\n",
    "2 <= B <= 16\n",
    "1 <= N <= 999999999"
   ]
  },
  {
   "cell_type": "code",
   "execution_count": 1,
   "metadata": {},
   "outputs": [
    {
     "name": "stdout",
     "output_type": "stream",
     "text": [
      "2\n",
      "2\n",
      "12\n",
      "1100\n",
      "16\n",
      "282\n",
      "11A\n"
     ]
    }
   ],
   "source": [
    "# User function Template for python3\n",
    "class Solution:\n",
    "    def getNumber(self, B, N):\n",
    "        #code here \n",
    "        char_map = {10: 'A', 11: 'B', 12: 'C', 13: 'D', 14: 'E', 15: 'F'}\n",
    "        result = ''\n",
    "        while N:\n",
    "            remainder = N % B\n",
    "\n",
    "            if remainder > 9:\n",
    "                result += char_map[remainder]\n",
    "            else:\n",
    "                result += str(remainder)\n",
    "            \n",
    "            N //= B\n",
    "        \n",
    "        return result[::-1]\n",
    "\n",
    "# { \n",
    "# Driver Code Starts\n",
    "# Initial Template for Python 3\n",
    "if __name__ == '__main__': \n",
    "    t = int(input())\n",
    "    for _ in range(t):\n",
    "        B = int(input())\n",
    "        N = int(input())\n",
    "        ob = Solution()\n",
    "        ans = ob.getNumber(B, N)\n",
    "        print(ans)\n",
    "# } Driver Code Ends"
   ]
  }
 ],
 "metadata": {
  "kernelspec": {
   "display_name": "Python 3",
   "language": "python",
   "name": "python3"
  },
  "language_info": {
   "codemirror_mode": {
    "name": "ipython",
    "version": 3
   },
   "file_extension": ".py",
   "mimetype": "text/x-python",
   "name": "python",
   "nbconvert_exporter": "python",
   "pygments_lexer": "ipython3",
   "version": "3.8.3"
  }
 },
 "nbformat": 4,
 "nbformat_minor": 4
}
