{
 "cells": [
  {
   "cell_type": "markdown",
   "metadata": {},
   "source": [
    "# SWAP TWO NUMBERS\n",
    "\n",
    "Swap given two numbers and print them. (Try to do it without a temporary variable.) and return it.\n",
    "\n",
    "### Example 1:\n",
    "\n",
    "#### Input:\n",
    "a = 13, b = 9\n",
    "#### Output:\n",
    "9 13\n",
    "#### Explanation:\n",
    "after swapping it becomes 9 and 13.\n",
    "### Example 2:\n",
    "\n",
    "### Input:\n",
    "a = 15, b = 8\n",
    "### Output:\n",
    "8 15\n",
    "#### Explanation:\n",
    "after swapping it becomes 8 and 15.\n",
    "### Your Task:  \n",
    "You don't need to read input or print anything. Your task is to complete the function get() which takes a, b as inputs and returns the list of integers contains the new value of a and b after swap.\n",
    "\n",
    "**Expected Time Complexity:** O(1)\n",
    "\n",
    "**Expected Auxiliary Space:** O(1)\n",
    "\n",
    "### Constraints:\n",
    "1 ≤ a, b ≤ 10^6"
   ]
  },
  {
   "cell_type": "code",
   "execution_count": 1,
   "metadata": {},
   "outputs": [
    {
     "name": "stdout",
     "output_type": "stream",
     "text": [
      "2\n",
      "13 9\n",
      "9 13\n",
      "15 8\n",
      "8 15\n"
     ]
    }
   ],
   "source": [
    "#User function Template for python3\n",
    "class Solution:\n",
    "    def get(self, a, b):\n",
    "        #code here\n",
    "        return b, a\n",
    "\n",
    "#{ \n",
    "#Driver Code Starts.\n",
    "if __name__ == \"__main__\":\n",
    "    t = int (input ())\n",
    "    for tc in range (t):\n",
    "        a,b = map(int,input().strip().split())\n",
    "        ob = Solution()\n",
    "        ans=ob.get(a,b)\n",
    "        print(str(ans[0])+\" \"+str(ans[1]))\n",
    "#} Driver Code Ends"
   ]
  }
 ],
 "metadata": {
  "kernelspec": {
   "display_name": "Python 3",
   "language": "python",
   "name": "python3"
  },
  "language_info": {
   "codemirror_mode": {
    "name": "ipython",
    "version": 3
   },
   "file_extension": ".py",
   "mimetype": "text/x-python",
   "name": "python",
   "nbconvert_exporter": "python",
   "pygments_lexer": "ipython3",
   "version": "3.8.3"
  }
 },
 "nbformat": 4,
 "nbformat_minor": 4
}
