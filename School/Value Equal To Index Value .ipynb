{
 "cells": [
  {
   "cell_type": "markdown",
   "metadata": {},
   "source": [
    "# VALUE EQUAL TO INDEX VALUE\n",
    "\n",
    "Given an array Arr of N positive integers. Your task is to find the elements whose value is equal to that of its index value ( Consider 1-based indexing ).\n",
    "\n",
    "### Example 1:\n",
    "#### Input: \n",
    "N = 5\n",
    "\n",
    "Arr[] = {15, 2, 45, 12, 7}\n",
    "#### Output:\n",
    "2\n",
    "#### Explanation:\n",
    "Only Arr[2] = 2 exists here.\n",
    "\n",
    "### Example 2:\n",
    "\n",
    "#### Input: \n",
    "N = 1\n",
    "\n",
    "Arr[] = {1}\n",
    "#### Output: \n",
    "1\n",
    "#### Explanation: \n",
    "Here Arr[1] = 1 exists.\n",
    "### Your Task:  \n",
    "Y^ou don't need to read input or print anything. Your task is to complete the function valueEqualToIndex() which takes the array of integers arr[] and n as parameters and returns an array of indices where the given conditions are satified. When there is not such element exists then return an empty array of length 0.\n",
    "\n",
    "**Expected Time Complexity:** O(N)\n",
    "\n",
    "**Expected Auxiliary Space:** O(1)\n",
    "\n",
    "**Note:** There can be more than one element in the array which have same value as their index. You need to include every such element's index. Follows 1-based indexing of the array.\n",
    "\n",
    "### Constraints:\n",
    "1 ≤ N ≤ 10^5\n",
    "\n",
    "1 ≤ Arr[i] ≤ 10^6"
   ]
  },
  {
   "cell_type": "code",
   "execution_count": 1,
   "metadata": {},
   "outputs": [
    {
     "name": "stdout",
     "output_type": "stream",
     "text": [
      "1\n",
      "5\n",
      "15 2 45 12 7\n",
      "2 \n"
     ]
    }
   ],
   "source": [
    "#User function Template for python3\n",
    "class Solution:\n",
    "\n",
    "    def valueEqualToIndex(self, arr, n):\n",
    "        # code here\n",
    "        output = []\n",
    "        for i in range(n):\n",
    "            if arr[i] == i+1:\n",
    "                output.append(i+1)\n",
    "                \n",
    "        return output\n",
    "\n",
    "\n",
    "#{ \n",
    "#  Driver Code Starts\n",
    "#Initial Template for Python 3\n",
    "\n",
    "\n",
    "\n",
    "if __name__ == '__main__':\n",
    "    tc = int(input())\n",
    "    while tc > 0:\n",
    "        n = int(input())\n",
    "        arr = list(map(int, input().strip().split()))\n",
    "        ob = Solution()\n",
    "        ans = ob.valueEqualToIndex(arr, n)\n",
    "        if len(ans) == 0:\n",
    "            print(\"Not Found\")\n",
    "        else:\n",
    "            for x in ans:\n",
    "                print(x, end=\" \")\n",
    "            print()\n",
    "        tc -= 1\n",
    "\n",
    "# } Driver Code Ends"
   ]
  }
 ],
 "metadata": {
  "kernelspec": {
   "display_name": "Python 3",
   "language": "python",
   "name": "python3"
  },
  "language_info": {
   "codemirror_mode": {
    "name": "ipython",
    "version": 3
   },
   "file_extension": ".py",
   "mimetype": "text/x-python",
   "name": "python",
   "nbconvert_exporter": "python",
   "pygments_lexer": "ipython3",
   "version": "3.8.3"
  }
 },
 "nbformat": 4,
 "nbformat_minor": 4
}
