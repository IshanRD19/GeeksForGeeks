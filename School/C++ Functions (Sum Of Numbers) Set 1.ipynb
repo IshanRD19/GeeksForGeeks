{
 "cells": [
  {
   "cell_type": "markdown",
   "metadata": {},
   "source": [
    "# C++ FUNCTIONS (SUM OF NUMBERS) | SET 1\n",
    "Given three numbers A, B, C you have to write a function named calcSum() which takes these 3 numbers as arguments and returns their sum.\n",
    "\n",
    "### Input:\n",
    "The input line contains T, which denotes the number of testcases. Then T test cases follow. Each test case consists of a single line which contains three space separated integers A, B, and C.\n",
    "\n",
    "### Output:\n",
    "Corresponding to each testcase, output sum of A, B and C in a new line.\n",
    "\n",
    "### User Task:\n",
    "Since this is a functional problem you don't have to worry about input, you just have to complete the function calcSum().\n",
    "\n",
    "### Constraints:\n",
    "1 <= T <= 10^5\n",
    "\n",
    "1 <= A <= 10^2\n",
    "\n",
    "1 <= B <= 10^2\n",
    "\n",
    "1 <= C <= 10^2\n",
    "\n",
    "### Example:\n",
    "#### Input:\n",
    "3\n",
    "\n",
    "1 2 3\n",
    "\n",
    "5 6 7\n",
    "\n",
    "2 5 3\n",
    "\n",
    "#### Output:\n",
    "6\n",
    "\n",
    "18\n",
    "\n",
    "10\n",
    "\n",
    "#### Explanation:\n",
    "Testcase 1: Sum of the given 1,2 and 3 is 6."
   ]
  },
  {
   "cell_type": "code",
   "execution_count": 1,
   "metadata": {},
   "outputs": [
    {
     "name": "stdout",
     "output_type": "stream",
     "text": [
      "3\n",
      "1 2 3\n",
      "6\n",
      "5 6 7\n",
      "18\n",
      "2 5 3\n",
      "10\n"
     ]
    }
   ],
   "source": [
    "# User function Template for python3\n",
    "class Solution:\n",
    "    def calcSum(self, a, b, c):\n",
    "        # code here\n",
    "        return a + b + c\n",
    "\n",
    "\n",
    "#{ \n",
    "#  Driver Code Starts\n",
    "if __name__ == '__main__':\n",
    "    tc = int(input())\n",
    "    while tc > 0:\n",
    "        a, b, c = list(map(int, input().strip().split()))\n",
    "        ob = Solution()\n",
    "        print(ob.calcSum(a, b, c))\n",
    "        tc -= 1\n",
    "# } Driver Code Ends"
   ]
  }
 ],
 "metadata": {
  "kernelspec": {
   "display_name": "Python 3",
   "language": "python",
   "name": "python3"
  },
  "language_info": {
   "codemirror_mode": {
    "name": "ipython",
    "version": 3
   },
   "file_extension": ".py",
   "mimetype": "text/x-python",
   "name": "python",
   "nbconvert_exporter": "python",
   "pygments_lexer": "ipython3",
   "version": "3.8.3"
  }
 },
 "nbformat": 4,
 "nbformat_minor": 4
}
