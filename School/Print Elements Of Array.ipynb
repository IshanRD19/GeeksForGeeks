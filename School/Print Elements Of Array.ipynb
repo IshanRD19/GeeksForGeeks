{
 "cells": [
  {
   "cell_type": "markdown",
   "metadata": {},
   "source": [
    "# PRINT ELEMENTS OF ARRAY\n",
    "\n",
    "Given an array Arr of size N, print all its elements.\n",
    "\n",
    "### Example 1:\n",
    "\n",
    "#### Input:\n",
    "N = 5\n",
    "\n",
    "Arr[] = {1, 2, 3, 4, 5}\n",
    "#### Output:\n",
    "1 2 3 4 5\n",
    "### Example 2:\n",
    "\n",
    "#### Input:\n",
    "N = 4\n",
    "\n",
    "Arr[] = {2, 3, 5, 5}\n",
    "#### Output:\n",
    "2 3 5 5\n",
    "### Your Task:\n",
    "Complete the function printArray() which takes an array arr, single integer n, as input parameters and prints the value of the array space separated.\n",
    "\n",
    "**Expected Time Complexity:** O(N)\n",
    "\n",
    "**Expected Auxiliary Space:** O(1)\n",
    "\n",
    "### Constraints:\n",
    "1 <= N <= 10^5\n",
    "\n",
    "1 <= Arr[i] <= 10^5"
   ]
  },
  {
   "cell_type": "code",
   "execution_count": 1,
   "metadata": {},
   "outputs": [
    {
     "name": "stdout",
     "output_type": "stream",
     "text": [
      "2\n",
      "5\n",
      "1 2 3 4 5\n",
      "1 2 3 4 5\n",
      "4\n",
      "2 3 5 5\n",
      "2 3 5 5\n"
     ]
    }
   ],
   "source": [
    "# User function Template for python3\n",
    "class Solution:\n",
    "    # Just print the space seperated array elements\n",
    "    def printArray(self, arr, n):\n",
    "        # code here\n",
    "        print(' '.join([str(i) for i in arr]), end='') \n",
    "        return\n",
    "\n",
    "#{ \n",
    "#  Driver Code Starts\n",
    "if __name__ == \"__main__\":         \n",
    "    tc = int(input())\n",
    "    while tc > 0:\n",
    "        n = int(input().strip())\n",
    "        arr = list(map(int, input().strip().split()))\n",
    "        ob = Solution()\n",
    "        ob.printArray(arr, n)\n",
    "        print()\n",
    "        tc=tc-1\n",
    "# } Driver Code Ends"
   ]
  }
 ],
 "metadata": {
  "kernelspec": {
   "display_name": "Python 3",
   "language": "python",
   "name": "python3"
  },
  "language_info": {
   "codemirror_mode": {
    "name": "ipython",
    "version": 3
   },
   "file_extension": ".py",
   "mimetype": "text/x-python",
   "name": "python",
   "nbconvert_exporter": "python",
   "pygments_lexer": "ipython3",
   "version": "3.8.3"
  }
 },
 "nbformat": 4,
 "nbformat_minor": 4
}
