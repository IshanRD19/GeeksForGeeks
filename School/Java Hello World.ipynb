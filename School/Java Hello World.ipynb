{
 "cells": [
  {
   "cell_type": "markdown",
   "metadata": {},
   "source": [
    "# JAVA HELLO WORLD\n",
    "\n",
    "Display the most famous phrase of beginning any programming language, \"Hello World\" (without Quotes).\n",
    "\n",
    "### Example:\n",
    "\n",
    "#### Input:\n",
    "#### Output:\n",
    "Hello World \n",
    "#### Explanation:\n",
    "Print Hello World on a single line.\n",
    "### Your Task:  \n",
    "You don't need to read any input. Your task is to complete the function printHelloWorld() which do not takes any input and prints 'Hello World'.\n",
    "\n",
    "**Expected Time Complexity:** O(1)\n",
    "\n",
    "**Expected Auxiliary Space:** O(1)"
   ]
  },
  {
   "cell_type": "code",
   "execution_count": 1,
   "metadata": {},
   "outputs": [
    {
     "name": "stdout",
     "output_type": "stream",
     "text": [
      "Hello World\n"
     ]
    }
   ],
   "source": [
    "def printHelloWorld():\n",
    "    print('Hello World')\n",
    "    return\n",
    "\n",
    "printHelloWorld()"
   ]
  }
 ],
 "metadata": {
  "kernelspec": {
   "display_name": "Python 3",
   "language": "python",
   "name": "python3"
  },
  "language_info": {
   "codemirror_mode": {
    "name": "ipython",
    "version": 3
   },
   "file_extension": ".py",
   "mimetype": "text/x-python",
   "name": "python",
   "nbconvert_exporter": "python",
   "pygments_lexer": "ipython3",
   "version": "3.8.3"
  }
 },
 "nbformat": 4,
 "nbformat_minor": 4
}
