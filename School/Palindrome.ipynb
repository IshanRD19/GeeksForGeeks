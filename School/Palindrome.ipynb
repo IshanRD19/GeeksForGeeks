{
 "cells": [
  {
   "cell_type": "markdown",
   "metadata": {},
   "source": [
    "# PALINDROME\n",
    "\n",
    "Given an integer, check whether it is a palindrome or not.\n",
    "\n",
    "### Example 1:\n",
    "\n",
    "#### Input:\n",
    "n = 55555\n",
    "#### Output:\n",
    "Yes\n",
    "\n",
    "### Example 2:\n",
    "\n",
    "#### Input:\n",
    "n = 123\n",
    "#### Output:\n",
    "No\n",
    "\n",
    "### Your Task:\n",
    "You don't need to read or print anything. Your task is to complete the function is_palindrome() which takes the number as input parameter and returns \"Yes\" if it is palindrome otherwise returns \"No\"(Without quotes).\n",
    " \n",
    "\n",
    "**Expected Time Complexity:** O(x)\n",
    "\n",
    "**Expected Space Complexity:** O(x) where x is number of digits in n.\n",
    "\n",
    "### Constraints:\n",
    "1 <= n <= 1000"
   ]
  },
  {
   "cell_type": "code",
   "execution_count": 1,
   "metadata": {},
   "outputs": [
    {
     "name": "stdout",
     "output_type": "stream",
     "text": [
      "2\n",
      "55555\n",
      "Yes\n",
      "123\n",
      "No\n"
     ]
    }
   ],
   "source": [
    "# User function Template for python3\n",
    "class Solution:\n",
    "    def is_palindrome(self, n):\n",
    "        # Code here\n",
    "        digits = [i for i in str(n)]\n",
    "        digits.reverse()\n",
    "        reverse_n = int(''.join(digits))\n",
    "\n",
    "        if n == reverse_n:\n",
    "            return 'Yes'\n",
    "        \n",
    "        return 'No'\n",
    "        \n",
    "\n",
    "#{ \n",
    "#  Driver Code Starts\n",
    "#Initial Template for Python 3\n",
    "\n",
    "if __name__ == '__main__':\n",
    "    T=int(input())\n",
    "    for i in range(T):\n",
    "        n = int(input())\n",
    "        ob = Solution();\n",
    "        ans = ob.is_palindrome(n)\n",
    "        print(ans)\n",
    "# } Driver Code Ends"
   ]
  }
 ],
 "metadata": {
  "kernelspec": {
   "display_name": "Python 3",
   "language": "python",
   "name": "python3"
  },
  "language_info": {
   "codemirror_mode": {
    "name": "ipython",
    "version": 3
   },
   "file_extension": ".py",
   "mimetype": "text/x-python",
   "name": "python",
   "nbconvert_exporter": "python",
   "pygments_lexer": "ipython3",
   "version": "3.8.3"
  }
 },
 "nbformat": 4,
 "nbformat_minor": 4
}
