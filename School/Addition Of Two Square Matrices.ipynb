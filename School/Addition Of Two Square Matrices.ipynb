{
 "cells": [
  {
   "cell_type": "markdown",
   "metadata": {},
   "source": [
    "# ADDITION OF TWO SQUARE MATRICES\n",
    "\n",
    "Given two square matrices matrixA and matrixB of size n x n.  Find the addition of these two matrices.\n",
    "\n",
    "### Example 1:\n",
    "\n",
    "#### Input:\n",
    "matrixA = {{1, 2}, {3, 4}},\n",
    "\n",
    "matrixB = {{4, 3}, {2, 1}}\n",
    "#### Output:\n",
    "{{5, 5}, {5, 5}}\n",
    "### Example 2:\n",
    "\n",
    "#### Input:\n",
    "matrixA = {{2, 2}, {2, 2}},\n",
    "\n",
    "matrixB = {{3, 3}, {3, 3}}\n",
    "#### Output:\n",
    "{{5, 5},{5, 5}}\n",
    " \n",
    "### Your Task:\n",
    "You don't need to read or print anything. Your task is to complete the function Addition() which takes matrixA and matrixB as input parameters and adds two matrices. Do the addition without using extra memory. The output matrix must be in matrixA.\n",
    "\n",
    "**Expected Time Complexity:** O(n2)\n",
    "\n",
    "**Expected Space Complexity:** O(1)\n",
    "\n",
    "### Constraints:\n",
    "1 <= n <= 100"
   ]
  },
  {
   "cell_type": "code",
   "execution_count": 1,
   "metadata": {},
   "outputs": [
    {
     "name": "stdout",
     "output_type": "stream",
     "text": [
      "2\n",
      "2\n",
      "1 2\n",
      "3 4\n",
      "4 3\n",
      "2 1\n",
      "5 5 \n",
      "5 5 \n",
      "2\n",
      "2 2\n",
      "2 2\n",
      "3 3\n",
      "3 3\n",
      "5 5 \n",
      "5 5 \n"
     ]
    }
   ],
   "source": [
    "# User function Template for python3\n",
    "class Solution:\n",
    "    def Addition(self, matrixA, matrixB):\n",
    "        # Code here\n",
    "        n = len(matrixA[0])\n",
    "        for row in range(n):\n",
    "            for col in range(n):\n",
    "                matrixA[row][col] += matrixB[row][col]\n",
    "        return matrixA\n",
    "\n",
    "#{ \n",
    "#  Driver Code Starts\n",
    "#Initial Template for Python 3\n",
    "if __name__ == '__main__':\n",
    "    T=int(input())\n",
    "    for i in range(T):\n",
    "        n = int(input())\n",
    "        matrixA = []\n",
    "        matrixB = []\n",
    "        for _ in range(n):\n",
    "            matrixA.append(list(map(int,input().split())))\n",
    "        for _ in range(n):\n",
    "            matrixB.append(list(map(int,input().split())))\n",
    "        ob = Solution()\n",
    "        ob.Addition(matrixA, matrixB)\n",
    "        for i in range(n):\n",
    "            for j in range(n):\n",
    "                print(matrixA[i][j], end = \" \")\n",
    "            print()\n",
    "# } Driver Code Ends"
   ]
  }
 ],
 "metadata": {
  "kernelspec": {
   "display_name": "Python 3",
   "language": "python",
   "name": "python3"
  },
  "language_info": {
   "codemirror_mode": {
    "name": "ipython",
    "version": 3
   },
   "file_extension": ".py",
   "mimetype": "text/x-python",
   "name": "python",
   "nbconvert_exporter": "python",
   "pygments_lexer": "ipython3",
   "version": "3.8.3"
  }
 },
 "nbformat": 4,
 "nbformat_minor": 4
}
