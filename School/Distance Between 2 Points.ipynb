{
 "cells": [
  {
   "cell_type": "markdown",
   "metadata": {},
   "source": [
    "# DISTANCE BETWEEN 2 POINTS\n",
    "\n",
    "Given coordinates of 2 points on a cartesian plane, find the distance between them rounded up to nearest integer.\n",
    "\n",
    "### Example 1:\n",
    "\n",
    "#### Input:\n",
    "0 0 2 -2\n",
    "#### Output:\n",
    "3\n",
    "#### Explanation:\n",
    "Distance between (0, 0) and (2, -2) is 3.\n",
    "### Example 2:\n",
    "\n",
    "#### Input:\n",
    "-20 23 -15 68\n",
    "#### Output:\n",
    "45\n",
    "#### Explanation:\n",
    "Distance between (-20, 23) and (-15, 68) is 45.\n",
    "### Your Task:\n",
    "You don't need to read or print anything. Your task is to complete the function distance() which takes x1, y1, x2 and y2 as input parameter and returns the distance between the given two points.\n",
    "\n",
    "**Expected Time Complexity:** O(1)\n",
    "\n",
    "**Expected Space Complexity:** O(1)\n",
    "\n",
    "### Constraints:\n",
    "-1000 <= x1, y1, x2, y2 <= 1000"
   ]
  },
  {
   "cell_type": "code",
   "execution_count": 1,
   "metadata": {},
   "outputs": [
    {
     "name": "stdout",
     "output_type": "stream",
     "text": [
      "2\n",
      "0 0 2 -2\n",
      "3\n",
      "-20 23 -15 68\n",
      "45\n"
     ]
    }
   ],
   "source": [
    "# User function Template for python3\n",
    "class Solution:\n",
    "    def distance(self, x1, y1, x2, y2):\n",
    "        # Code here\n",
    "        return round((((x2 - x1) ** 2) + ((y2 - y1) ** 2)) ** 0.5)\n",
    "\n",
    "#{ \n",
    "#  Driver Code Starts\n",
    "#Initial Template for Python 3\n",
    "\n",
    "if __name__ == '__main__':\n",
    "    T=int(input())\n",
    "    for i in range(T):\n",
    "        x1, y1, x2, y2 = input().split()\n",
    "        x1 = int(x1);\n",
    "        y1 = int(y1);\n",
    "        x2 = int(x2);\n",
    "        y2 = int(y2);\n",
    "        ob = Solution();\n",
    "        ans = ob.distance(x1, y1, x2, y2)\n",
    "        print(ans)\n",
    "# } Driver Code Ends"
   ]
  }
 ],
 "metadata": {
  "kernelspec": {
   "display_name": "Python 3",
   "language": "python",
   "name": "python3"
  },
  "language_info": {
   "codemirror_mode": {
    "name": "ipython",
    "version": 3
   },
   "file_extension": ".py",
   "mimetype": "text/x-python",
   "name": "python",
   "nbconvert_exporter": "python",
   "pygments_lexer": "ipython3",
   "version": "3.8.3"
  }
 },
 "nbformat": 4,
 "nbformat_minor": 4
}
