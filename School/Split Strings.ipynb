{
 "cells": [
  {
   "cell_type": "markdown",
   "metadata": {},
   "source": [
    "# SPLIT STRINGS\n",
    "\n",
    "Given a string S which consists of alphabets , numbers and special characters. You need to write a program to split the strings in three different strings S1, S2 and S3 such that the string S1 will contain all the alphabets present in S , the string S2 will contain all the numbers present in S and S3 will contain all special characters present in S.  The strings S1, S2 and S3 should have characters in same order as they appear in input.\n",
    "\n",
    "### Example 1:\n",
    "\n",
    "#### Input:\n",
    "S = geeks01for02geeks03!!!\n",
    "#### Output:\n",
    "geeksforgeeks\n",
    "\n",
    "010203\n",
    "\n",
    "!!!\n",
    "#### Explanation:\n",
    "The output shows S1, S2 and S3. \n",
    "### Example 2:\n",
    "\n",
    "#### Input:\n",
    "S = \\**Docoding123456789everyday##\n",
    "#### Output:\n",
    "Docodingeveryday\n",
    "\n",
    "123456789\n",
    "\n",
    "\\**##\n",
    "\n",
    "### Your Task:  \n",
    "You dont need to read input or print anything. Complete the function splitString() which takes the string S as input parameters and returns a list of strings containing S1, S2 and S3 respectively. If you return an empty string the driver will print -1.\n",
    "\n",
    " \n",
    "**Expected Time Complexity:** O(|S|)\n",
    "\n",
    "**Expected Auxiliary Space:** O(1)\n",
    "\n",
    " \n",
    "\n",
    "### Constraints:\n",
    "1 ≤ |S| ≤ 10^5"
   ]
  },
  {
   "cell_type": "code",
   "execution_count": 1,
   "metadata": {},
   "outputs": [
    {
     "name": "stdout",
     "output_type": "stream",
     "text": [
      "2\n",
      "geeks01for02geeks03!!!\n",
      "geeksforgeeks\n",
      "010203\n",
      "!!!\n",
      "**Docoding123456789everyday##\n",
      "Docodingeveryday\n",
      "123456789\n",
      "**##\n"
     ]
    }
   ],
   "source": [
    "#User function Template for python3\n",
    "\n",
    "class Solution:\n",
    "    def splitString(ob, S): \n",
    "        # code here \n",
    "        letters, digits, special = '', '', ''\n",
    "        \n",
    "        for i in range(len(S)):\n",
    "            \n",
    "            if (65 <= ord(S[i]) <= 90) or (97 <= ord(S[i]) <= 122):\n",
    "                letters += S[i]\n",
    "\n",
    "            elif 48 <= ord(S[i]) <= 57:\n",
    "                digits += S[i]\n",
    "\n",
    "            else:\n",
    "                special += S[i]\n",
    "       \n",
    "        return [letters, digits, special]\n",
    "\n",
    "#  Driver Code Starts\n",
    "if __name__ == '__main__':\n",
    "    T = int(input())\n",
    "    for _ in range(T):\n",
    "        S = input()\n",
    "        ob = Solution()\n",
    "        ans = ob.splitString(S)\n",
    "        for i in ans:\n",
    "            if(i==\"\"):\n",
    "                print(-1)\n",
    "            else:\n",
    "                print(i)\n",
    "# Driver Code Ends"
   ]
  }
 ],
 "metadata": {
  "kernelspec": {
   "display_name": "Python 3",
   "language": "python",
   "name": "python3"
  },
  "language_info": {
   "codemirror_mode": {
    "name": "ipython",
    "version": 3
   },
   "file_extension": ".py",
   "mimetype": "text/x-python",
   "name": "python",
   "nbconvert_exporter": "python",
   "pygments_lexer": "ipython3",
   "version": "3.8.3"
  }
 },
 "nbformat": 4,
 "nbformat_minor": 4
}
