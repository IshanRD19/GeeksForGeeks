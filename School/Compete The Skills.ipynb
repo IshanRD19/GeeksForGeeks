{
 "cells": [
  {
   "cell_type": "markdown",
   "metadata": {},
   "source": [
    "# COMPETE THE SKILLS\n",
    "\n",
    "A and B are good friend and programmers. They are always in a healthy competition with each other. They decide to judge the best among them by competing. They do so by comparing their three skills as per their values. Please help them doing so as they are busy.\n",
    "\n",
    "Set for A are like [a1, a2, a3]\n",
    "\n",
    "Set for B are like [b1, b2, b3]\n",
    "\n",
    "Compare ith skill of A with ith skill of B\n",
    "\n",
    "if a[i] > b[i] , A's score increases by 1\n",
    "\n",
    "if a[i] < b[i] , B's score increases by 1\n",
    "\n",
    "if a[i] = b[i] , nothing happens\n",
    " \n",
    "\n",
    "### Example 1:\n",
    "\n",
    "#### Input : \n",
    "A = {4, 2, 7}\n",
    "\n",
    "B = {5, 6, 3}\n",
    "#### Output : \n",
    "1 2\n",
    "\n",
    "### Example 2:\n",
    "\n",
    "#### Input : \n",
    "A = {4, 2, 7}\n",
    "\n",
    "B = {5, 2, 8}\n",
    "#### Output : \n",
    "0 2\n",
    "\n",
    "### Your Task:  \n",
    "You don't need to read input or print anything. Your task is to complete the function scores() which takes the array A[], B[] as inputs and two reference variables ca and cb to store the final answer. Store the score of A in ca and score of B in cb.\n",
    "\n",
    "**Expected Time Complexity:** O(1)\n",
    "\n",
    "**Expected Auxiliary Space:** O(1)\n",
    "\n",
    "### Constraints :\n",
    "1 ≤ a[i] ≤ 10^17\n",
    "\n",
    "1 ≤ b[i] ≤ 10^17"
   ]
  },
  {
   "cell_type": "code",
   "execution_count": 1,
   "metadata": {},
   "outputs": [
    {
     "name": "stdout",
     "output_type": "stream",
     "text": [
      "2\n",
      "4 2 7\n",
      "5 6 3\n",
      "1 2\n",
      "4 2 7\n",
      "5 2 8\n",
      "0 2\n"
     ]
    }
   ],
   "source": [
    "# User function Template for python3\n",
    "class Solution:\n",
    "    def scores(self, a, b, cc):\n",
    "        # Update list cc of length 2 with cc[0] = ca and cc[1] = cb\n",
    "        # Your code goes here\n",
    "        \n",
    "        for i in range(len(a)):\n",
    "            if a[i] > b[i]:\n",
    "                cc[0] += 1\n",
    "\n",
    "            elif a[i] < b[i]:\n",
    "                cc[1] += 1\n",
    "        \n",
    "        return cc \n",
    "        \n",
    "#{ \n",
    "#  Driver Code Starts\n",
    "#Initial Template for Python 3\n",
    "\n",
    "def main():\n",
    "\n",
    "    T = int(input())\n",
    "\n",
    "    while(T > 0):\n",
    "        a = [int(x) for x in input().strip().split()]\n",
    "        b = [int(x) for x in input().strip().split()]\n",
    "        \n",
    "        cc = [0, 0]\n",
    "        ob=Solution()\n",
    "        ob.scores(a, b, cc)\n",
    "        print(*cc)\n",
    "        \n",
    "        T -= 1\n",
    "\n",
    "if __name__ == \"__main__\":\n",
    "    main()\n",
    "\n",
    "# } Driver Code Ends"
   ]
  }
 ],
 "metadata": {
  "kernelspec": {
   "display_name": "Python 3",
   "language": "python",
   "name": "python3"
  },
  "language_info": {
   "codemirror_mode": {
    "name": "ipython",
    "version": 3
   },
   "file_extension": ".py",
   "mimetype": "text/x-python",
   "name": "python",
   "nbconvert_exporter": "python",
   "pygments_lexer": "ipython3",
   "version": "3.8.3"
  }
 },
 "nbformat": 4,
 "nbformat_minor": 4
}
