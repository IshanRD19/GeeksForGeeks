{
 "cells": [
  {
   "cell_type": "markdown",
   "metadata": {},
   "source": [
    "# SECOND LARGEST\n",
    "\n",
    "Given an array Arr of size N, print second largest element from an array.\n",
    "\n",
    "### Example 1:\n",
    "\n",
    "#### Input: \n",
    "N = 6\n",
    "\n",
    "Arr[] = {12, 35, 1, 10, 34, 1}\n",
    "#### Output:\n",
    "34\n",
    "#### Explanation:\n",
    "The largest element of the array is 35 and the second largest element is 34.\n",
    "### Example 2:\n",
    "\n",
    "#### Input: \n",
    "N = 3\n",
    "\n",
    "Arr[] = {10, 5, 10}\n",
    "#### Output:\n",
    "5\n",
    "#### Explanation:\n",
    "The largest element of the array is 10 and the second largest element is 5.\n",
    "### Your Task:\n",
    "You don't need to read input or print anything. Your task is to complete the function print2largest() which takes the array of integers arr and n as parameters and returns an integer denoting the answer. If 2nd largest element doesn't exist then return -1.\n",
    "\n",
    "**Expected Time Complexity:** O(N)\n",
    "\n",
    "**Expected Auxiliary Space:** O(1)\n",
    "\n",
    "### Constraints:\n",
    "1 ≤ N ≤ 10^5\n",
    "\n",
    "1 ≤ Arr[i] ≤ 10^5"
   ]
  },
  {
   "cell_type": "code",
   "execution_count": 1,
   "metadata": {},
   "outputs": [
    {
     "name": "stdout",
     "output_type": "stream",
     "text": [
      "2\n",
      "3\n",
      "10 5 10\n",
      "5\n",
      "6\n",
      "12 35 1 10 34 1\n",
      "34\n"
     ]
    }
   ],
   "source": [
    "# User function Template for python3\n",
    "class Solution:\n",
    "\n",
    "    def print2largest(self,arr, n):\n",
    "        # code here\n",
    "        a = list(set(arr))\n",
    "        size = len(a)\n",
    "        \n",
    "        # Check if array length is insufficient\n",
    "        if size < 2:\n",
    "            return -1\n",
    "\n",
    "        if a[0] > a[1]:\n",
    "            largest = a[0]\n",
    "            second_largest = a[1]\n",
    "        else:\n",
    "            largest = a[1]\n",
    "            second_largest = a[0]\n",
    "            \n",
    "        for i in range(2, size):\n",
    "            \n",
    "            if a[i] > second_largest:\n",
    "                \n",
    "                if a[i] > largest:\n",
    "                    second_largest = largest\n",
    "                    largest = a[i]\n",
    "                else:\n",
    "                    second_largest = a[i]\n",
    "        \n",
    "        return second_largest\n",
    "\n",
    "\n",
    "#{ \n",
    "#  Driver Code Starts\n",
    "#Initial Template for Python 3\n",
    "\n",
    "\n",
    "\n",
    "if __name__ == '__main__':\n",
    "    tc = int(input())\n",
    "    while tc > 0:\n",
    "        n = int(input())\n",
    "        arr = list(map(int, input().strip().split()))\n",
    "        ob = Solution()\n",
    "        ans = ob.print2largest(arr, n)\n",
    "        print(ans)\n",
    "        tc -= 1\n",
    "\n",
    "# } Driver Code Ends"
   ]
  }
 ],
 "metadata": {
  "kernelspec": {
   "display_name": "Python 3",
   "language": "python",
   "name": "python3"
  },
  "language_info": {
   "codemirror_mode": {
    "name": "ipython",
    "version": 3
   },
   "file_extension": ".py",
   "mimetype": "text/x-python",
   "name": "python",
   "nbconvert_exporter": "python",
   "pygments_lexer": "ipython3",
   "version": "3.8.3"
  }
 },
 "nbformat": 4,
 "nbformat_minor": 4
}
