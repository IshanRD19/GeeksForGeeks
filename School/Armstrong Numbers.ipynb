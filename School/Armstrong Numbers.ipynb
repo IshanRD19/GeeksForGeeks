{
 "cells": [
  {
   "cell_type": "markdown",
   "metadata": {},
   "source": [
    "# ARMSTRONG NUMBERS\n",
    "\n",
    "For a given 3 digit number, find whether it is armstrong number or not. An Armstrong number of three digits is an integer such that the sum of the cubes of its digits is equal to the number itself. Return \"Yes\" if it is a armstrong number else return \"No\".\n",
    "**NOTE:** 371 is an Armstrong number since 33 + 73 + 13 = 371\n",
    "\n",
    "### Example 1:\n",
    "\n",
    "#### Input:\n",
    "N = 153\n",
    "#### Output:\n",
    "\"Yes\"\n",
    "#### Explanation:\n",
    "153 is an Armstrong number\n",
    "since 1^3 + 5^3 + 3^3 = 153.\n",
    "Hence answer is \"Yes\".\n",
    "### Example 2:\n",
    "\n",
    "#### Input:\n",
    "N = 370\n",
    "#### Output:\n",
    "\"Yes\"\n",
    "#### Explanation:\n",
    "370 is an Armstrong number\n",
    "since 3^3 + 7^3 + 0^3 = 370.\n",
    "Hence answer is \"Yes\".\n",
    "\n",
    "### Your Task:  \n",
    "You dont need to read input or print anything. Complete the function armstrongNumber() which takes n as input parameter and returns \"Yes\" if it is a armstrong number else returns \"No\"..\n",
    "\n",
    "**Expected Time Complexity:** O(1)\n",
    "\n",
    "**Expected Auxiliary Space:** O(1)\n",
    "\n",
    "### Constraints:\n",
    "100 ≤ n <1000"
   ]
  },
  {
   "cell_type": "code",
   "execution_count": 1,
   "metadata": {},
   "outputs": [
    {
     "name": "stdout",
     "output_type": "stream",
     "text": [
      "2\n",
      "153\n",
      "Yes\n",
      "370\n",
      "Yes\n"
     ]
    }
   ],
   "source": [
    "#User function Template for python3\n",
    "\n",
    "#User function Template for python3\n",
    "class Solution:\n",
    "    def armstrongNumber (ob, n):\n",
    "        # code here\n",
    "        digits = [i for i in str(n)]\n",
    "        cubes = [int(i) ** 3 for i in digits]\n",
    "        \n",
    "        if sum(cubes) == n:\n",
    "            return 'Yes'\n",
    "\n",
    "        return 'No'\n",
    "\n",
    "#{ \n",
    "#  Driver Code Starts\n",
    "#Initial Template for Python 3\n",
    "if __name__ == '__main__': \n",
    "    t = int (input ())\n",
    "    for _ in range (t):\n",
    "        n = input()\n",
    "        n = int(n)\n",
    "        ob = Solution()\n",
    "        print(ob.armstrongNumber(n))\n",
    "# } Driver Code Ends"
   ]
  }
 ],
 "metadata": {
  "kernelspec": {
   "display_name": "Python 3",
   "language": "python",
   "name": "python3"
  },
  "language_info": {
   "codemirror_mode": {
    "name": "ipython",
    "version": 3
   },
   "file_extension": ".py",
   "mimetype": "text/x-python",
   "name": "python",
   "nbconvert_exporter": "python",
   "pygments_lexer": "ipython3",
   "version": "3.8.3"
  }
 },
 "nbformat": 4,
 "nbformat_minor": 4
}
