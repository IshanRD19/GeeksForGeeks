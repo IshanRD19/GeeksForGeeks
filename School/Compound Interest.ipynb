{
 "cells": [
  {
   "cell_type": "markdown",
   "metadata": {},
   "source": [
    "# COMPOUND INTEREST\n",
    "\n",
    "Calculate the Compund interest for given principal amount P , time T(in years), compounded N times in a year at rate R. Calculate floor of future value of given principal amount.\n",
    "\n",
    "### Example 1:\n",
    "\n",
    "#### Input:\n",
    "P = 1000 , T = 2 , N = 2 , R = 10\n",
    "#### Output:\n",
    "1215\n",
    "#### Explanation:\n",
    "The given Principal, Time, Rate and number of compounds in a year results in a Compound Interest of 1215.51. The floor value being 1215, Output is 1215.\n",
    "### Example 2:\n",
    "\n",
    "#### Input:\n",
    "P = 100 , T = 1 , N = 1 , R = 10\n",
    "#### Output:\n",
    "110\n",
    "#### Explanation:\n",
    "The given Principal, Time, Rate and number of compounds in a year results in a Compound Interest of 110. So, the Output is 110.\n",
    "\n",
    "### Your Task:\n",
    "You don't need to read input or print anything. Your task is to complete the function getCompundInterest() which takes Integers P,T,N and R as input respectively and returns the answer.\n",
    "\n",
    "**Expected Time Complexity:** O(log(N*T))\n",
    "\n",
    "**Expected Auxiliary Space:** O(1)\n",
    "\n",
    "### Constraints:\n",
    "1 <= P <= 1000\n",
    "\n",
    "1 <= T <= 20\n",
    "\n",
    "1 <= N <= 4\n",
    "\n",
    "1 <= R <= 20"
   ]
  },
  {
   "cell_type": "code",
   "execution_count": 1,
   "metadata": {},
   "outputs": [
    {
     "name": "stdout",
     "output_type": "stream",
     "text": [
      "2\n",
      "1000 2 2 10\n",
      "1215\n",
      "100 1 1 10\n",
      "110\n"
     ]
    }
   ],
   "source": [
    "# User function Template for python3\n",
    "class Solution:\n",
    "    def getCompundInterest(self, P ,T , N , R):\n",
    "        # code here\n",
    "        return math.floor(P * (1 + R / (100 * N)) ** (N * T))\n",
    "\n",
    "#{ \n",
    "#  Driver Code Starts\n",
    "#Initial Template for Python 3\n",
    "import math\n",
    "if __name__ == '__main__': \n",
    "    t = int (input ())\n",
    "    for _ in range (t):\n",
    "        P,T,N,R = map(int,input().split())\n",
    "        ob = Solution()\n",
    "        print(ob.getCompundInterest(P,T,N,R))\n",
    "# } Driver Code Ends"
   ]
  }
 ],
 "metadata": {
  "kernelspec": {
   "display_name": "Python 3",
   "language": "python",
   "name": "python3"
  },
  "language_info": {
   "codemirror_mode": {
    "name": "ipython",
    "version": 3
   },
   "file_extension": ".py",
   "mimetype": "text/x-python",
   "name": "python",
   "nbconvert_exporter": "python",
   "pygments_lexer": "ipython3",
   "version": "3.8.3"
  }
 },
 "nbformat": 4,
 "nbformat_minor": 4
}
