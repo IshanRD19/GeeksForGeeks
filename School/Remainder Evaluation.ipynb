{
 "cells": [
  {
   "cell_type": "markdown",
   "metadata": {},
   "source": [
    "# REMAINDER EVALUATION\n",
    "\n",
    "Given two positive integers num1 and num2, the task is to find the remainder when num1 is divided by num2.\n",
    "\n",
    "### Example 1:\n",
    "\n",
    "#### Input:\n",
    "num1 = 5\n",
    "\n",
    "num2 = 3\n",
    "\n",
    "#### Output:\n",
    "2\n",
    "\n",
    "#### Explanation:\n",
    "The remainder after dividing 5 by 3 is: 2.\n",
    "### Example 2:\n",
    "\n",
    "#### Input:\n",
    "num1 = 5\n",
    "\n",
    "num2 = 10\n",
    "\n",
    "#### Output:\n",
    "5\n",
    "\n",
    "#### Explanation:\n",
    "5 cannot be divided by 10 so it is \n",
    "the Remainder.\n",
    "### Your Task:  \n",
    "You don't need to read input or print anything. Your task is to complete the function findRemainder() which takes two integer num1 and num2 as an input parameter and return the remainder when num1 is divided by num2.\n",
    "\n",
    "**Expected Time Complexity:** O(1)\n",
    "\n",
    "**Expected Auxiliary Space:** O(1)\n",
    "\n",
    "### Constraints:\n",
    "0 <= num1 <= 10^6\n",
    "\n",
    "1 <= num2 <= 10^6"
   ]
  },
  {
   "cell_type": "code",
   "execution_count": 1,
   "metadata": {},
   "outputs": [
    {
     "name": "stdout",
     "output_type": "stream",
     "text": [
      "2\n",
      "5 3\n",
      "2\n",
      "5 10\n",
      "5\n"
     ]
    }
   ],
   "source": [
    "#User function Template for python3\n",
    "\n",
    "class Solution:\n",
    "    def findRemainder(self, num1, num2):\n",
    "        #code here \n",
    "        return num1 % num2\n",
    "\n",
    "#{ \n",
    "#  Driver Code Starts\n",
    "#Initial Template for Python 3\n",
    "\n",
    "if __name__ == '__main__': \n",
    "    t = int(input())\n",
    "    for _ in range(t):\n",
    "        num1,num2 = map(int,input().strip().split())\n",
    "        ob = Solution()\n",
    "        print(ob.findRemainder(num1,num2))\n",
    "# } Driver Code Ends"
   ]
  }
 ],
 "metadata": {
  "kernelspec": {
   "display_name": "Python 3",
   "language": "python",
   "name": "python3"
  },
  "language_info": {
   "codemirror_mode": {
    "name": "ipython",
    "version": 3
   },
   "file_extension": ".py",
   "mimetype": "text/x-python",
   "name": "python",
   "nbconvert_exporter": "python",
   "pygments_lexer": "ipython3",
   "version": "3.8.3"
  }
 },
 "nbformat": 4,
 "nbformat_minor": 4
}
