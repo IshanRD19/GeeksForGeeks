{
 "cells": [
  {
   "cell_type": "markdown",
   "metadata": {},
   "source": [
    "# SUM OF DIGITS\n",
    "\n",
    "Given a number, N. Find the sum of all the digits of N\n",
    " \n",
    "\n",
    "### Example 1:\n",
    "\n",
    "#### Input:\n",
    "N = 12\n",
    "#### Output:\n",
    "3\n",
    "#### Explanation:\n",
    "Sum of 12's digits: 1 + 2 = 3\n",
    "### Example 2:\n",
    "\n",
    "#### Input:\n",
    "N = 23\n",
    "#### Output\n",
    "5\n",
    "#### Explanation:\n",
    "Sum of 23's digits: 2 + 3 = 5\n",
    "\n",
    "### Your Task:\n",
    "You don't need to read input or print anything. Your task is to complete the function sumOfDigits() which takes an integer N as input parameters and returns an integer, total sum of digits of N.\n",
    "\n",
    "\n",
    "**Expected Time Complexity:** O(log10N)\n",
    "\n",
    "**Expected Space Complexity:** O(1)\n",
    " \n",
    "\n",
    "### Constraints:\n",
    "1 <= N <= 10^5"
   ]
  },
  {
   "cell_type": "code",
   "execution_count": 1,
   "metadata": {},
   "outputs": [
    {
     "name": "stdout",
     "output_type": "stream",
     "text": [
      "2\n",
      "12\n",
      "3\n",
      "23\n",
      "5\n"
     ]
    }
   ],
   "source": [
    "# User function Template for python3\n",
    "class Solution:\n",
    "    def sumOfDigits (self, N):\n",
    "        # code here\n",
    "        digits = [int(d) for d in str(N)]\n",
    "        return sum(digits)\n",
    "\n",
    "\n",
    "#{ \n",
    "#  Driver Code Starts\n",
    "#Initial Template for Python 3\n",
    "if __name__ == '__main__': \n",
    "    t = int (input ())\n",
    "    for _ in range (t):\n",
    "        N = int(input())\n",
    "        ob = Solution()\n",
    "        print(ob.sumOfDigits(N))\n",
    "# } Driver Code Ends"
   ]
  }
 ],
 "metadata": {
  "kernelspec": {
   "display_name": "Python 3",
   "language": "python",
   "name": "python3"
  },
  "language_info": {
   "codemirror_mode": {
    "name": "ipython",
    "version": 3
   },
   "file_extension": ".py",
   "mimetype": "text/x-python",
   "name": "python",
   "nbconvert_exporter": "python",
   "pygments_lexer": "ipython3",
   "version": "3.8.3"
  }
 },
 "nbformat": 4,
 "nbformat_minor": 4
}
