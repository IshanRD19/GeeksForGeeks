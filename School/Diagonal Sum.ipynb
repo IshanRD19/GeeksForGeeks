{
 "cells": [
  {
   "cell_type": "markdown",
   "metadata": {},
   "source": [
    "# DIAGONAL SUM\n",
    "\n",
    "Given a square matrix of size n×n. Your task is to calculate the sum of its diagonals.\n",
    "\n",
    "### Example 1:\n",
    "\n",
    "#### Input:\n",
    "matrix = {{1, 1, 1}, {1, 1, 1}, {1, 1, 1}}\n",
    "#### Output:\n",
    "6\n",
    "### Example 2:\n",
    "\n",
    "#### Input:\n",
    "matrix = {{1, 2}, {3, 4}}\n",
    "#### Output:\n",
    "10\n",
    "\n",
    "### Your Task:\n",
    "You don't need to read or print anyhting. Your task is to complete the function DiagonalSum() which takes the matrix as input parameter and returns the sum of its diagonals.\n",
    " \n",
    "**Expected Time Complexity:** O(n)\n",
    "\n",
    "**Expected Space Complexity:** O(1)\n",
    "\n",
    "### Constraints:\n",
    "1 <= n <= 100\n",
    "\n",
    "1 <= matrix elements <= 10000"
   ]
  },
  {
   "cell_type": "code",
   "execution_count": 1,
   "metadata": {},
   "outputs": [
    {
     "name": "stdout",
     "output_type": "stream",
     "text": [
      "2\n",
      "3\n",
      "1 1 1\n",
      "1 1 1\n",
      "1 1 1\n",
      "6\n",
      "2\n",
      "1 2\n",
      "3 4\n",
      "10\n"
     ]
    }
   ],
   "source": [
    "# User function Template for python3\n",
    "class Solution:\n",
    "    def DiagonalSum(self, matrix):\n",
    "        # Code here\n",
    "        primary, secondary = 0, 0\n",
    "        n = len(matrix[0])\n",
    "        \n",
    "        for row in range(n):\n",
    "            for col in range(n):\n",
    "                \n",
    "                if row == col:\n",
    "                    primary += matrix[row][col]\n",
    "\n",
    "                if (row + col) == (n - 1):\n",
    "                    secondary += matrix[row][col]\n",
    "        \n",
    "        return primary + secondary\n",
    "\n",
    "#{ \n",
    "#  Driver Code Starts\n",
    "#Initial Template for Python 3\n",
    "\n",
    "if __name__ == '__main__':\n",
    "    T=int(input())\n",
    "    for i in range(T):\n",
    "        n = int(input())\n",
    "        matrix = []\n",
    "        for _ in range(n):\n",
    "            matrix.append(list(map(int,input().split())))\n",
    "        ob = Solution()\n",
    "        ans = ob.DiagonalSum(matrix)\n",
    "        print(ans)\n",
    "# } Driver Code Ends"
   ]
  }
 ],
 "metadata": {
  "kernelspec": {
   "display_name": "Python 3",
   "language": "python",
   "name": "python3"
  },
  "language_info": {
   "codemirror_mode": {
    "name": "ipython",
    "version": 3
   },
   "file_extension": ".py",
   "mimetype": "text/x-python",
   "name": "python",
   "nbconvert_exporter": "python",
   "pygments_lexer": "ipython3",
   "version": "3.8.3"
  }
 },
 "nbformat": 4,
 "nbformat_minor": 4
}
