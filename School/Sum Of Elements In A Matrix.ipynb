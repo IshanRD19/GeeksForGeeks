{
 "cells": [
  {
   "cell_type": "markdown",
   "metadata": {},
   "source": [
    "# SUM OF ELEMENTS IN A MATRIX\n",
    "\n",
    "Given a non null integer matrix Grid of dimensions NxM.Calculate the sum of its elements.\n",
    "\n",
    "### Example 1:\n",
    "\n",
    "#### Input:\n",
    "N=2,M=3\n",
    "\n",
    "Grid=\n",
    "[[1,0,1],\n",
    "[-8,9,-2]]\n",
    "#### Output:\n",
    "1\n",
    "#### Explanation:\n",
    "The sum of all elements of the matrix is \n",
    "(1+0+1-8+9-2)=1.\n",
    "### Example 2:\n",
    "\n",
    "#### Input:\n",
    "N=3, M=5\n",
    "\n",
    "Grid=\n",
    "[[1,0,1,0,1],\n",
    "[0,1,0,1,0],\n",
    "[-1,-1,-1,-1,-1]]\n",
    "#### Output:\n",
    "0\n",
    "#### Explanation:\n",
    "The sum of all elements of the matrix are\n",
    "(1+0+1+0+1+0+1+0+1+0-1-1-1-1-1)=0.\n",
    "\n",
    "\n",
    "### Your Task:\n",
    "You don't need to read input or print anything.Your task is to complete the function sumOfMatrix() which takes two integers N ,M and a 2D array Grid as input parameters and returns the sum of all the elements of the Grid.\n",
    "\n",
    "\n",
    "**Expected Time Complexity:** O(N*M)\n",
    "\n",
    "**Expected Auxillary Space:** O(1)\n",
    "\n",
    "\n",
    "### Constraints:\n",
    "1 <= N,M <= 1000\n",
    "\n",
    "-1000 <= Grid[i][j] <= 1000"
   ]
  },
  {
   "cell_type": "code",
   "execution_count": 1,
   "metadata": {},
   "outputs": [
    {
     "name": "stdout",
     "output_type": "stream",
     "text": [
      "2\n",
      "2 3\n",
      "1 0 1\n",
      "-8 9 -2\n",
      "1\n",
      "3 5\n",
      "1 0 1 0 1\n",
      "0 1 0 1 0\n",
      "-1 -1 -1 -1 -1\n",
      "0\n"
     ]
    }
   ],
   "source": [
    "# User function Template for python3\n",
    "class Solution:\n",
    "    def sumOfMatrix(self,N,M,Grid):\n",
    "        #code here\n",
    "        matrix_sum = 0\n",
    "        for row in Grid:\n",
    "            matrix_sum += sum(row)\n",
    "        return matrix_sum\n",
    "\n",
    "#{ \n",
    "#  Driver Code Starts\n",
    "#Initial Template for Python 3\n",
    "\n",
    "if __name__=='__main__':\n",
    "    t=int(input())\n",
    "    for _ in range(t):\n",
    "        N,M=map(int,input().strip().split(' '))\n",
    "        Grid = [[0 for i in range(M)] for j in range(N)]\n",
    "        for i in range(N):\n",
    "            s=list(map(int,input().strip().split(' ')))\n",
    "            for j in range(M):\n",
    "                Grid[i][j]=s[j]\n",
    "        ob=Solution()\n",
    "        print(ob.sumOfMatrix(N,M,Grid)) \n",
    "# } Driver Code Ends"
   ]
  }
 ],
 "metadata": {
  "kernelspec": {
   "display_name": "Python 3",
   "language": "python",
   "name": "python3"
  },
  "language_info": {
   "codemirror_mode": {
    "name": "ipython",
    "version": 3
   },
   "file_extension": ".py",
   "mimetype": "text/x-python",
   "name": "python",
   "nbconvert_exporter": "python",
   "pygments_lexer": "ipython3",
   "version": "3.8.3"
  }
 },
 "nbformat": 4,
 "nbformat_minor": 4
}
