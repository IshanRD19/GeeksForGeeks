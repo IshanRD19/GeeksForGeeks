{
 "cells": [
  {
   "cell_type": "markdown",
   "metadata": {},
   "source": [
    "# Identical Matrices\n",
    "\n",
    "Given two square matrices Grid1 and Grid2 with the same dimensions(NxN).Check whether they are identical or not.\n",
    "\n",
    "### Example 1:\n",
    "\n",
    "### Input:\n",
    "N=2\n",
    "\n",
    "Grid1=[[1,2],[3,4]]\n",
    "\n",
    "Grid2=[[1,2],[3,4]]\n",
    "### Output:\n",
    "1\n",
    "### Explanation:\n",
    "Both the matrices are identical, so the answer is 1.\n",
    "### Example 2:\n",
    "\n",
    "### Input:\n",
    "N=2\n",
    "\n",
    "Grid1=[[1,2][3,4]]\n",
    "\n",
    "Grid2=[[1,2][3,2]]\n",
    "### Output:\n",
    "0\n",
    "### Explanation:\n",
    "Both the matrices are not identical. So, answer is 0.\n",
    "\n",
    "### Your Task:\n",
    "You don't need to read input or print anything.Your task is to complete the function areMatricesIdentical() which takes the integer N and two 2D arrays Grid1 and Grid2 as input parameters and returns 1 if the matrices are identical.Otherwise,it returns 0.\n",
    "\n",
    "**Expected Time Complexity:** O(N^2)\n",
    "\n",
    "**Expected Auxillary Space:** O(1)\n",
    "\n",
    "### Constraints:\n",
    "1 <= N <= 1000\n",
    "\n",
    "-1000 <= Grid1[i][j], Grid2[i][j] <= 1000, for 0 <= i,j"
   ]
  },
  {
   "cell_type": "code",
   "execution_count": 1,
   "metadata": {},
   "outputs": [
    {
     "name": "stdout",
     "output_type": "stream",
     "text": [
      "2\n",
      "2\n",
      "1 2\n",
      "3 4\n",
      "1 2\n",
      "3 4\n",
      "1\n",
      "2\n",
      "1 2\n",
      "3 4\n",
      "1 2\n",
      "3 2\n",
      "0\n"
     ]
    }
   ],
   "source": [
    "# User function Template for python3\n",
    "class Solution:\n",
    "    def areMatricesidentical(self,N,Grid1,Grid2):\n",
    "        #code here\n",
    "        for row in range(N):\n",
    "            for col in range(N):\n",
    "                \n",
    "                if Grid1[row][col] != Grid2[row][col]:\n",
    "                    return 0\n",
    "\n",
    "        return 1\n",
    "\n",
    "#{ \n",
    "#  Driver Code Starts\n",
    "#Initial Template for Python 3\n",
    "\n",
    "if __name__=='__main__':\n",
    "    t=int(input())\n",
    "    for _ in range(t):\n",
    "        N=int(input())\n",
    "        Grid1 = [[0 for i in range(N)] for j in range(N)]\n",
    "        for i in range(N):\n",
    "            s=list(map(int,input().strip().split(' ')))\n",
    "            for j in range(N):\n",
    "                Grid1[i][j]=s[j]\n",
    "        Grid2 = [[0 for i in range(N)] for j in range(N)]\n",
    "        for i in range(N):\n",
    "            s=list(map(int,input().strip().split(' ')))\n",
    "            for j in range(N):\n",
    "                Grid2[i][j]=s[j]        \n",
    "        ob=Solution()\n",
    "        print(ob.areMatricesidentical(N,Grid1,Grid2))\n",
    "# } Driver Code Ends"
   ]
  }
 ],
 "metadata": {
  "kernelspec": {
   "display_name": "Python 3",
   "language": "python",
   "name": "python3"
  },
  "language_info": {
   "codemirror_mode": {
    "name": "ipython",
    "version": 3
   },
   "file_extension": ".py",
   "mimetype": "text/x-python",
   "name": "python",
   "nbconvert_exporter": "python",
   "pygments_lexer": "ipython3",
   "version": "3.8.3"
  }
 },
 "nbformat": 4,
 "nbformat_minor": 4
}
