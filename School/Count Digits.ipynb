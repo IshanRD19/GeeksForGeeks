{
 "cells": [
  {
   "cell_type": "markdown",
   "metadata": {},
   "source": [
    "# COUNT DIGITS\n",
    "\n",
    "Given a number N. Count the number of digits in N which evenly divides N.\n",
    "\n",
    "### Example 1:\n",
    "\n",
    "#### Input:\n",
    "N = 12\n",
    "#### Output:\n",
    "2\n",
    "#### Explanation:\n",
    "1, 2 both divide 12 evenly\n",
    "### Example 2:\n",
    "\n",
    "#### Input:\n",
    "N = 23\n",
    "#### Output\n",
    "0\n",
    "#### Explanation:\n",
    "2 and 3, none of them divide 23 evenly\n",
    "\n",
    "### Your Task:\n",
    "You don't need to read input or print anything. Your task is to complete the function evenlyDivides() which takes an integer N as input parameters and returns an integer, total number factor of digits N which divides N evenly.\n",
    "\n",
    "**Expected Time Complexity:** O(log N)\n",
    "\n",
    "**Expected Space Complexity:** O(1)\n",
    "\n",
    "### Constraints:\n",
    "1 <= N <= 10^5"
   ]
  },
  {
   "cell_type": "code",
   "execution_count": 1,
   "metadata": {},
   "outputs": [
    {
     "name": "stdout",
     "output_type": "stream",
     "text": [
      "2\n",
      "12\n",
      "2\n",
      "23\n",
      "0\n"
     ]
    }
   ],
   "source": [
    "# User function Template for python3\n",
    "class Solution:\n",
    "    def evenlyDivides (self, N):\n",
    "        # code here\n",
    "        result = 0\n",
    "        digits = [int(d) for d in str(N)]\n",
    "        \n",
    "        for d in digits:\n",
    "            if not d:\n",
    "                continue\n",
    "            if not N % d:\n",
    "                result += 1\n",
    "\n",
    "        return result\n",
    "\n",
    "#{ \n",
    "#  Driver Code Starts\n",
    "#Initial Template for Python 3\n",
    "\n",
    "if __name__ == '__main__': \n",
    "    t = int (input ())\n",
    "    for _ in range (t):\n",
    "        N = int(input())\n",
    "       \n",
    "\n",
    "        ob = Solution()\n",
    "        print(ob.evenlyDivides(N))\n",
    "# } Driver Code Ends"
   ]
  }
 ],
 "metadata": {
  "kernelspec": {
   "display_name": "Python 3",
   "language": "python",
   "name": "python3"
  },
  "language_info": {
   "codemirror_mode": {
    "name": "ipython",
    "version": 3
   },
   "file_extension": ".py",
   "mimetype": "text/x-python",
   "name": "python",
   "nbconvert_exporter": "python",
   "pygments_lexer": "ipython3",
   "version": "3.8.3"
  }
 },
 "nbformat": 4,
 "nbformat_minor": 4
}
