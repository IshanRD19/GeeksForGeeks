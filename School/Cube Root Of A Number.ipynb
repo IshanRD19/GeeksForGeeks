{
 "cells": [
  {
   "cell_type": "markdown",
   "metadata": {},
   "source": [
    "# CUBE ROOT OF A NUMBER\n",
    "\n",
    "Given a number N, find the cube root of N.\n",
    "\n",
    "**Note:** We need to print the floor value of the result.\n",
    "\n",
    "### Example 1:\n",
    "#### Input:\n",
    "N = 3\n",
    "#### Output:\n",
    "1\n",
    "#### Explanation:\n",
    "Cube root of 3 is 1.442 = 1\n",
    "### Example 2:\n",
    "\n",
    "#### Input:\n",
    "N = 8\n",
    "#### Output:\n",
    "2\n",
    "#### Explanation:\n",
    "Cube root of 8 is 2\n",
    " \n",
    "\n",
    "### Your Task:\n",
    "You don't need to read input or print anything. Your task is to complete the function cubeRoot() which takes a Integer N as input and returns the answer.\n",
    "\n",
    "**Expected Time Complexity:** O(cube root of N)\n",
    "\n",
    "**Expected Auxiliary Space:** O(1)\n",
    "\n",
    "### Constraints:\n",
    "1 <= N <= 10^5"
   ]
  },
  {
   "cell_type": "code",
   "execution_count": 1,
   "metadata": {},
   "outputs": [
    {
     "name": "stdout",
     "output_type": "stream",
     "text": [
      "2\n",
      "3\n",
      "1\n",
      "8\n",
      "2\n"
     ]
    }
   ],
   "source": [
    "# User function Template for python3\n",
    "class Solution:\n",
    "    def cubeRoot(self, N):\n",
    "        # code here \n",
    "        return int(N ** (1/3))\n",
    "\n",
    "#{ \n",
    "#  Driver Code Starts\n",
    "#Initial Template for Python 3\n",
    "\n",
    "if __name__ == '__main__': \n",
    "    t = int (input ())\n",
    "    for _ in range (t):\n",
    "        N = int(input())\n",
    "        \n",
    "        ob = Solution()\n",
    "        print(ob.cubeRoot(N))\n",
    "# } Driver Code Ends"
   ]
  }
 ],
 "metadata": {
  "kernelspec": {
   "display_name": "Python 3",
   "language": "python",
   "name": "python3"
  },
  "language_info": {
   "codemirror_mode": {
    "name": "ipython",
    "version": 3
   },
   "file_extension": ".py",
   "mimetype": "text/x-python",
   "name": "python",
   "nbconvert_exporter": "python",
   "pygments_lexer": "ipython3",
   "version": "3.8.3"
  }
 },
 "nbformat": 4,
 "nbformat_minor": 4
}
