{
 "cells": [
  {
   "cell_type": "markdown",
   "metadata": {},
   "source": [
    "# REMOVE VOWELS FROM STRING\n",
    "\n",
    "Given a string, remove the vowels from the string.\n",
    "\n",
    "### Example 1:\n",
    "\n",
    "#### Input:\n",
    "S = \"welcome to geeksforgeeks\"\n",
    "#### Output:\n",
    "wlcm t gksfrgks\n",
    "#### Explanation:\n",
    "Ignore vowels and print other characters \n",
    "### Example 2:\n",
    "\n",
    "#### Input:\n",
    "S = \"what is your name ?\"\n",
    "#### Output:\n",
    "wht s yr nm ?\n",
    "#### Explanation:\n",
    "Ignore vowels and print other characters \n",
    "### Your task:\n",
    "Your task is to complete the function removeVowels() which takes a single string as input and returns the modified string. You need not take any input or print anything.\n",
    "\n",
    "**Expected Time Complexity:** O(|s|)\n",
    "\n",
    "**Expected Auxiliary Space:** O(1)\n",
    "\n",
    "### Constraints:\n",
    "1 <= |S| <= 10^5\n",
    "\n",
    "Alphabets are lower cases only"
   ]
  },
  {
   "cell_type": "code",
   "execution_count": 1,
   "metadata": {},
   "outputs": [
    {
     "name": "stdout",
     "output_type": "stream",
     "text": [
      "2\n",
      "welcome to geeksforgeeks\n",
      "wlcm t gksfrgks\n",
      "what is your name ?\n",
      "wht s yr nm ?\n"
     ]
    }
   ],
   "source": [
    "# User function Template for python3\n",
    "class Solution:\n",
    "    def removeVowels(self, S):\n",
    "        # code here\n",
    "        chars = list(S)\n",
    "        \n",
    "        for i in range(len(chars)):\n",
    "            chars[i] = '' if chars[i] in ['a', 'e', 'i', 'o', 'u'] else chars[i]\n",
    "            \n",
    "        return ''.join(chars)\n",
    "\n",
    "#{ \n",
    "#  Driver Code Starts\n",
    "#Initial Template for Python 3\n",
    "\n",
    "if __name__ == '__main__':\n",
    "    T=int(input())\n",
    "    for i in range(T):\n",
    "        s = input()\n",
    "        \n",
    "        ob = Solution()    \n",
    "        answer = ob.removeVowels(s)\n",
    "        \n",
    "        print(answer)\n",
    "\n",
    "\n",
    "# } Driver Code Ends"
   ]
  }
 ],
 "metadata": {
  "kernelspec": {
   "display_name": "Python 3",
   "language": "python",
   "name": "python3"
  },
  "language_info": {
   "codemirror_mode": {
    "name": "ipython",
    "version": 3
   },
   "file_extension": ".py",
   "mimetype": "text/x-python",
   "name": "python",
   "nbconvert_exporter": "python",
   "pygments_lexer": "ipython3",
   "version": "3.8.3"
  }
 },
 "nbformat": 4,
 "nbformat_minor": 4
}
