{
 "cells": [
  {
   "cell_type": "markdown",
   "metadata": {},
   "source": [
    "# CHECK FOR BINARY\n",
    "\n",
    "Given a non-empty sequence of characters str, return true if sequence is Binary, else return false\n",
    "\n",
    "### Example 1:\n",
    "\n",
    "#### Input:\n",
    "str = 101\n",
    "#### Output:\n",
    "1\n",
    "#### Explanation:\n",
    "Since string contains only 0 and 1, output is 1.\n",
    "### Example 2:\n",
    "\n",
    "#### Input:\n",
    "str = 75\n",
    "#### Output:\n",
    "0\n",
    "#### Explanation:\n",
    "Since string contains digits other than 0 and 1, output is 0.\n",
    " \n",
    "\n",
    "### Your Task:\n",
    "Complete the function isBinary() which takes an string str as input parameter and returns 1 if str is binary and returns 0 otherwise.\n",
    "\n",
    "**Expected Time Complexity:** O(|s|)\n",
    "\n",
    "**Expected Auxiliary Space:** O(1)\n",
    "\n",
    "### Constraints:\n",
    "1 <= T <= 50\n",
    "\n",
    "1 <= Length of str <= 10000"
   ]
  },
  {
   "cell_type": "code",
   "execution_count": 1,
   "metadata": {},
   "outputs": [
    {
     "name": "stdout",
     "output_type": "stream",
     "text": [
      "2\n",
      "101\n",
      "1\n",
      "75\n",
      "0\n"
     ]
    }
   ],
   "source": [
    "# Return true if str is binary, else false\n",
    "def isBinary(str):\n",
    "    #code here\n",
    "    binary_chars = '01'\n",
    "\n",
    "    for c in str:\n",
    "        if c not in binary_chars:\n",
    "            return 0\n",
    "    \n",
    "    return 1\n",
    "    \n",
    "\n",
    "#{ \n",
    "#  Driver Code Starts\n",
    "# Your code goes here\n",
    "if __name__=='__main__':\n",
    "    t = int(input())\n",
    "    for i in range(t):\n",
    "        str = input().strip()\n",
    "        if isBinary(str):\n",
    "            print (1)\n",
    "        else:\n",
    "            print (0)\n",
    "# } Driver Code Ends"
   ]
  }
 ],
 "metadata": {
  "kernelspec": {
   "display_name": "Python 3",
   "language": "python",
   "name": "python3"
  },
  "language_info": {
   "codemirror_mode": {
    "name": "ipython",
    "version": 3
   },
   "file_extension": ".py",
   "mimetype": "text/x-python",
   "name": "python",
   "nbconvert_exporter": "python",
   "pygments_lexer": "ipython3",
   "version": "3.8.3"
  }
 },
 "nbformat": 4,
 "nbformat_minor": 4
}
