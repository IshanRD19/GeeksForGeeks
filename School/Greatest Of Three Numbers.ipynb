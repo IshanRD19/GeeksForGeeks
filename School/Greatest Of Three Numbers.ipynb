{
 "cells": [
  {
   "cell_type": "markdown",
   "metadata": {},
   "source": [
    "# GREATEST OF THREE NUMBERS\n",
    "\n",
    "Given 3 numbers A, B and C. Find the greatest number among them.\n",
    "\n",
    "### Example 1:\n",
    "\n",
    "#### Input:\n",
    "A = 10, B = 3, C = 2\n",
    "#### Output:\n",
    "10\n",
    "#### Explanation:\n",
    "10 is the greatest among the three.\n",
    "### Example 2:\n",
    "\n",
    "#### Input:\n",
    "A = -4, B = -3, C = -2\n",
    "#### Output:\n",
    "-2\n",
    "#### Explanation:\n",
    "-2 is the greatest among the three.\n",
    "\n",
    "### Your Task:\n",
    "You don't need to read input or print anything.Your task is to complete the function greatestOfThree() which takes three numbers A,B and C as input parameters and returns the greatest among them.\n",
    "\n",
    "\n",
    "**Expected Time Complexity:** O(1)\n",
    "\n",
    "**Expected Auxillary Space:** O(1)\n",
    "\n",
    "\n",
    "### Constraints:\n",
    "-10^9 <= A, B, C <= 10^9"
   ]
  },
  {
   "cell_type": "code",
   "execution_count": 1,
   "metadata": {},
   "outputs": [
    {
     "name": "stdout",
     "output_type": "stream",
     "text": [
      "2\n",
      "10 3 2\n",
      "10\n",
      "-4 -3 -2\n",
      "-2\n"
     ]
    }
   ],
   "source": [
    "# User function Template for python3\n",
    "class Solution:\n",
    "    def greatestOfThree(self,A,B,C):\n",
    "        #code here\n",
    "        return A if A > B and A > C else (B if B > C else C)\n",
    "\n",
    "#{ \n",
    "#  Driver Code Starts\n",
    "#Initial Template for Python 3\n",
    "\n",
    "if __name__=='__main__':\n",
    "    t=int(input())\n",
    "    for _ in range(t):\n",
    "        A,B,C=map(int,input().strip().split(' '))\n",
    "        ob=Solution()\n",
    "        print(ob.greatestOfThree(A,B,C))   \n",
    "# } Driver Code Ends"
   ]
  }
 ],
 "metadata": {
  "kernelspec": {
   "display_name": "Python 3",
   "language": "python",
   "name": "python3"
  },
  "language_info": {
   "codemirror_mode": {
    "name": "ipython",
    "version": 3
   },
   "file_extension": ".py",
   "mimetype": "text/x-python",
   "name": "python",
   "nbconvert_exporter": "python",
   "pygments_lexer": "ipython3",
   "version": "3.8.3"
  }
 },
 "nbformat": 4,
 "nbformat_minor": 4
}
