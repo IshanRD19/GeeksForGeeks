{
 "cells": [
  {
   "cell_type": "markdown",
   "metadata": {},
   "source": [
    "# FIND INDEX\n",
    "\n",
    "Given an unsorted array Arr[] of N integers and a Key which is present in this array. You need to write a program to find the start index( index where the element is first found from left in the array ) and end index( index where the element is first found from right in the array ).\n",
    "\n",
    "### Example 1:\n",
    "\n",
    "#### Input:\n",
    "N = 6\n",
    "\n",
    "arr[] = { 1, 2, 3, 4, 5, 5 }\n",
    "\n",
    "Key = 5\n",
    "#### Output:\n",
    "4 5\n",
    "#### Explanation:\n",
    "5 appears first time at index 4 and appears last time at index 5. (0 based indexing)\n",
    " \n",
    "\n",
    "### Example 2:\n",
    "\n",
    "#### Input:\n",
    "\n",
    "N=6\n",
    "\n",
    "arr[] = { 6, 5, 4, 3, 1, 2 }\n",
    "\n",
    "Key = 4\n",
    "#### Output:\n",
    "2 2 \n",
    "\n",
    "### Your Task:\n",
    "Since, this is a function problem. You don't need to take any input, as it is already accomplished by the driver code. You just need to complete the function findIndex() that takes array a, integer N and integer key as parameters and returns an array of length 2 in which at first index contains the value of start index and at the second index contains the value of end index. If the key does not exist in the array then return -1 for both start and end index in this case.\n",
    "\n",
    "\n",
    "**Expected Time Complexity:** O(N)\n",
    "\n",
    "**Expected Auxiliary Space:** O(1).\n",
    "\n",
    "### Constraints:\n",
    "1 ≤ N ≤ 10^6"
   ]
  },
  {
   "cell_type": "code",
   "execution_count": 1,
   "metadata": {},
   "outputs": [
    {
     "name": "stdout",
     "output_type": "stream",
     "text": [
      "2\n",
      "6\n",
      "1 2 3 4 5 5\n",
      "5\n",
      "4 5\n",
      "6\n",
      "6 5 4 3 1 2\n",
      "4\n",
      "2 2\n"
     ]
    }
   ],
   "source": [
    "#User function Template for python3\n",
    "\n",
    "class Solution:\n",
    "    def findIndex (self,a, N, key ):\n",
    "        #code here.\n",
    "        try:\n",
    "            start_index = a.index(key)\n",
    "            a.reverse()\n",
    "            end_index = a.index(key)\n",
    "        except:\n",
    "            return [-1, -1]\n",
    "        \n",
    "        return [start_index, N - end_index - 1]\n",
    "\n",
    "#{ \n",
    "#  Driver Code Starts\n",
    "#Initial Template for Python 3\n",
    "\n",
    "\n",
    "t=int(input())\n",
    "for _ in range(0,t):\n",
    "    n=int(input())\n",
    "    a=list(map(int,input().split()))\n",
    "    key=int(input())\n",
    "    ob = Solution()\n",
    "    ans=ob.findIndex(a, n, key )\n",
    "    print(*ans)\n",
    "    \n",
    "# } Driver Code Ends"
   ]
  }
 ],
 "metadata": {
  "kernelspec": {
   "display_name": "Python 3",
   "language": "python",
   "name": "python3"
  },
  "language_info": {
   "codemirror_mode": {
    "name": "ipython",
    "version": 3
   },
   "file_extension": ".py",
   "mimetype": "text/x-python",
   "name": "python",
   "nbconvert_exporter": "python",
   "pygments_lexer": "ipython3",
   "version": "3.8.3"
  }
 },
 "nbformat": 4,
 "nbformat_minor": 4
}
