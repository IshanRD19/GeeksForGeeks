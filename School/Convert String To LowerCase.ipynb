{
 "cells": [
  {
   "cell_type": "markdown",
   "metadata": {},
   "source": [
    "# CONVERT STRING TO LOWERCASE\n",
    "\n",
    "Given a string S. The task is to convert characters of string to lowercase.\n",
    "\n",
    "### Example 1:\n",
    "\n",
    "#### Input:\n",
    "S = \"ABCddE\"\n",
    "#### Output:\n",
    "\"abcdde\"\n",
    "#### Explanation:\n",
    "A, B, C and E are converted to a, b, c and E thus all uppercase characters of the string converted to lowercase letter.\n",
    "### Example 2:\n",
    "\n",
    "#### Input:\n",
    "S = \"LMNOppQQ\"\n",
    "#### Output:\n",
    "\"lmnoppqq\"\n",
    "#### Explanation:\n",
    "L, M, N, O, and Q are converted to l, m, n, o and q thus all uppercase characters of the string converted to lowercase letter.\n",
    "### Your Task:  \n",
    "You dont need to read input or print anything. Complete the function toLower() which takes S as input parameter and returns the converted string.\n",
    "\n",
    "**Expected Time Complexity:** O(n)\n",
    "\n",
    "**Expected Auxiliary Space:** O(1) \n",
    "\n",
    "### Constraints:\n",
    "1 <= |S| <= 1000"
   ]
  },
  {
   "cell_type": "code",
   "execution_count": 1,
   "metadata": {},
   "outputs": [
    {
     "name": "stdout",
     "output_type": "stream",
     "text": [
      "2\n",
      "ABCddE\n",
      "abcdde\n",
      "LMNOppQQ\n",
      "lmnoppqq\n"
     ]
    }
   ],
   "source": [
    "#User function Template for python3\n",
    "\n",
    "class Solution:\n",
    "    def toLower (ob, S):\n",
    "        # code here \n",
    "        return S.lower()\n",
    "\n",
    "#{ \n",
    "#  Driver Code Starts\n",
    "#Initial Template for Python 3\n",
    "\n",
    "if __name__ == '__main__': \n",
    "    t = int (input ())\n",
    "    for _ in range (t):\n",
    "        S = input()\n",
    "        \n",
    "        ob = Solution()\n",
    "        print(ob.toLower(S))\n",
    "# } Driver Code Ends"
   ]
  }
 ],
 "metadata": {
  "kernelspec": {
   "display_name": "Python 3",
   "language": "python",
   "name": "python3"
  },
  "language_info": {
   "codemirror_mode": {
    "name": "ipython",
    "version": 3
   },
   "file_extension": ".py",
   "mimetype": "text/x-python",
   "name": "python",
   "nbconvert_exporter": "python",
   "pygments_lexer": "ipython3",
   "version": "3.8.3"
  }
 },
 "nbformat": 4,
 "nbformat_minor": 4
}
