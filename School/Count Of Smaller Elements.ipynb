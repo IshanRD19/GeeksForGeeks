{
 "cells": [
  {
   "cell_type": "markdown",
   "metadata": {},
   "source": [
    "# COUNT OF SMALLER ELEMENTS\n",
    "\n",
    "Given an sorted array A of size N. Find number of elements which are less than or equal to given element X.\n",
    "\n",
    "### Example 1:\n",
    "\n",
    "#### Input:\n",
    "N = 6\n",
    "\n",
    "A[] = {1, 2, 4, 5, 8, 10}\n",
    "\n",
    "X = 9\n",
    "#### Output:\n",
    "5\n",
    " \n",
    "\n",
    "### Example 2:\n",
    "\n",
    "#### Input:\n",
    "N = 7\n",
    "\n",
    "A[] = {1, 2, 2, 2, 5, 7, 9}\n",
    "\n",
    "X = 2\n",
    "#### Output:\n",
    "4\n",
    "\n",
    "### Your Task:  \n",
    "You don't need to read input or print anything. Your task is to complete the function countOfElements() which takes the array A[], its size N and an integer X as inputs and returns the number of elements which are less than or equal to given element.\n",
    "\n",
    "**Expected Time Complexity:** O(N)\n",
    "\n",
    "**Expected Auxiliary Space:** O(1)\n",
    "\n",
    "### Constraints:\n",
    "1 <= N <= 10^5\n",
    "\n",
    "1 <= A[i] <= 10^5\n",
    "\n",
    "0 <= X <= 10^5"
   ]
  },
  {
   "cell_type": "code",
   "execution_count": 1,
   "metadata": {},
   "outputs": [
    {
     "name": "stdout",
     "output_type": "stream",
     "text": [
      "2\n",
      "6\n",
      "1 2 4 5 8 10\n",
      "9\n",
      "5\n",
      "7\n",
      "1 2 2 2 5 7 9\n",
      "2\n",
      "4\n"
     ]
    }
   ],
   "source": [
    "# User function Template for python3\n",
    "def countOfElements(a, n, x):\n",
    "    counter = 0\n",
    "    \n",
    "    # For each element in sorted array\n",
    "    for i in a:\n",
    "        \n",
    "        # Check if it is less than or equal to the given parameter\n",
    "        if i > x:\n",
    "            break\n",
    "        \n",
    "        # Increment the counter\n",
    "        counter += 1\n",
    "\n",
    "    return counter\n",
    "\n",
    "#{ \n",
    "#  Driver Code Starts\n",
    "#Initial Template for Python 3\n",
    "\n",
    "def main():\n",
    "    T = int(input())\n",
    "\n",
    "    while(T > 0):\n",
    "        n = int(input())\n",
    "        a = [int(x) for x in input().strip().split()]\n",
    "        k = int(input())\n",
    "        print(countOfElements(a, n, k))\n",
    "        T -= 1\n",
    "\n",
    "if __name__ == \"__main__\":\n",
    "    main()\n",
    "# } Driver Code Ends"
   ]
  }
 ],
 "metadata": {
  "kernelspec": {
   "display_name": "Python 3",
   "language": "python",
   "name": "python3"
  },
  "language_info": {
   "codemirror_mode": {
    "name": "ipython",
    "version": 3
   },
   "file_extension": ".py",
   "mimetype": "text/x-python",
   "name": "python",
   "nbconvert_exporter": "python",
   "pygments_lexer": "ipython3",
   "version": "3.8.3"
  }
 },
 "nbformat": 4,
 "nbformat_minor": 4
}
