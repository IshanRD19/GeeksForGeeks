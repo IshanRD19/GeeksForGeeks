{
 "cells": [
  {
   "cell_type": "markdown",
   "metadata": {},
   "source": [
    "# PERFECT ARRAYS\n",
    "\n",
    "Given an array of size N and you have to tell whether the array is perfect or not. An array is said to be perfect if it's reverse array matches the original array. If the array is perfect then print \"PERFECT\" else print \"NOT PERFECT\".\n",
    "\n",
    "### Example 1:\n",
    "\n",
    "#### Input: \n",
    "Arr[] = {1, 2, 3, 2, 1}\n",
    "#### Output:\n",
    "PERFECT\n",
    "#### Explanation:\n",
    "Here we can see we have [1, 2, 3, 2, 1] if we reverse it we can find [1, 2, 3, 2, 1] which is the same as before. So, the answer is PERFECT.\n",
    "\n",
    "### Example 2:\n",
    "\n",
    "#### Input:\n",
    "Arr[] = {1, 2, 3, 4, 5}\n",
    "\n",
    "#### Output:\n",
    "NOT PERFECT\n",
    "\n",
    "### User Task:\n",
    "The task is to complete the function IsPerfect(), which takes an array (a), size of the array (n), and return the boolean value true if it Perfect else false. The drivercode automatically adds a new line.\n",
    "\n",
    "**Expected Time Complexity:** O(N).\n",
    "\n",
    "**Expected Auxiliary Space:** O(1).\n",
    "\n",
    "### Constraints:\n",
    "1 ≤ N ≤ 10^5\n",
    "\n",
    "1 ≤ a[i] ≤ 10^3"
   ]
  },
  {
   "cell_type": "code",
   "execution_count": 1,
   "metadata": {},
   "outputs": [
    {
     "name": "stdout",
     "output_type": "stream",
     "text": [
      "2\n",
      "5\n",
      "1 2 3 2 1\n",
      "PERFECT\n",
      "5\n",
      "1 2 3 4 5\n",
      "NOT PERFECT\n"
     ]
    }
   ],
   "source": [
    "# User function Template for python3\n",
    "class Solution:\n",
    "    def IsPerfect(self, arr, n):\n",
    "        # Complete the function\n",
    "        start, end = 0, n-1\n",
    "        \n",
    "        while start <= end:\n",
    "        \n",
    "            if arr[start] != arr[end]:\n",
    "                return False\n",
    "            \n",
    "            start += 1\n",
    "            end -= 1\n",
    "\n",
    "        return True\n",
    "\n",
    "# { \n",
    "# Driver Code Starts\n",
    "# Initial Template for Python 3\n",
    "\n",
    "for _ in range(0,int(input())):\n",
    "    n = int(input())\n",
    "    arr = list(map(int,input().strip().split()))\n",
    "    ob = Solution()\n",
    "    if(ob.IsPerfect(arr,n)):\n",
    "        print(\"PERFECT\")\n",
    "    else:\n",
    "        print(\"NOT PERFECT\")\n",
    "    \n",
    "# } Driver Code Ends"
   ]
  }
 ],
 "metadata": {
  "kernelspec": {
   "display_name": "Python 3",
   "language": "python",
   "name": "python3"
  },
  "language_info": {
   "codemirror_mode": {
    "name": "ipython",
    "version": 3
   },
   "file_extension": ".py",
   "mimetype": "text/x-python",
   "name": "python",
   "nbconvert_exporter": "python",
   "pygments_lexer": "ipython3",
   "version": "3.8.3"
  }
 },
 "nbformat": 4,
 "nbformat_minor": 4
}
