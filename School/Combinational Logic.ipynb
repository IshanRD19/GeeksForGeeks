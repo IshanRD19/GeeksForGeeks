{
 "cells": [
  {
   "cell_type": "markdown",
   "metadata": {},
   "source": [
    "# COMBINATIONAL LOGIC\n",
    "\n",
    "Construct a 6 input gate which performs the following logical operation:\n",
    "\n",
    "(not(A)).B + C.D +E.(not(F))\n",
    "\n",
    "where A, B, C, D, E and F are the inputs to the 6 input gate.\n",
    "\n",
    "### Example 1:\n",
    "\n",
    "#### Input:\n",
    "A = 1, B = 1, C = 0 D = 0, E = 1, F = 1\n",
    "#### Output:\n",
    "0 \n",
    "#### Explanation:\n",
    "(not(A)).B + C.D +E.(not(F)) = (not(1)).1 + 0.0 +1.(not(1)) = 0.\n",
    "### Example 2:\n",
    "\n",
    "#### Input:\n",
    "A = 1, B = 1, C = 1 D = 1, E = 1, F = 1\n",
    "#### Output:\n",
    "1\n",
    "#### Explanation:\n",
    "(not(A)).B + C.D +E.(not(F)) = (not(1)).1 + 1.1 +1.(not(1)) = 1.\n",
    "### Your Task:  \n",
    "You dont need to read input or print anything. Complete the function logicalOperation() which takes A, B, C, D, E, F as input parameter and returns the result after executing the given opearation.\n",
    "\n",
    "**Expected Time Complexity:** O(1)\n",
    "\n",
    "**Expected Auxiliary Space:** O(1)\n",
    "\n",
    "### Constraints:\n",
    "0 <= A,B,C,D,E,F <= 1"
   ]
  },
  {
   "cell_type": "code",
   "execution_count": 1,
   "metadata": {},
   "outputs": [
    {
     "name": "stdout",
     "output_type": "stream",
     "text": [
      "2\n",
      "1 1 0 0 1 1\n",
      "0\n",
      "1 1 1 1 1 1\n",
      "1\n"
     ]
    }
   ],
   "source": [
    "# User function Template for python3\n",
    "class Solution:\n",
    "    def logicalOperation (self, A, B, C, D, E, F):\n",
    "        # code here \n",
    "        if ((not A) and B) or (C and D) or (E and (not F)):\n",
    "            return 1\n",
    "        return 0\n",
    "\n",
    "#{ \n",
    "#  Driver Code Starts\n",
    "#Initial Template for Python 3\n",
    "\n",
    "#Initial Template for Python 3\n",
    "if __name__ == '__main__': \n",
    "    t = int (input ())\n",
    "    for _ in range (t):\n",
    "        A,B,C,D,E,F = input().split()\n",
    "        A = int(A)\n",
    "        B = int(B)\n",
    "        C = int(C)\n",
    "        D = int(D)\n",
    "        E = int(E)\n",
    "        F = int(F)\n",
    "        \n",
    "        ob = Solution()\n",
    "        print(ob.logicalOperation(A, B, C, D, E, F))\n",
    "# } Driver Code Ends"
   ]
  }
 ],
 "metadata": {
  "kernelspec": {
   "display_name": "Python 3",
   "language": "python",
   "name": "python3"
  },
  "language_info": {
   "codemirror_mode": {
    "name": "ipython",
    "version": 3
   },
   "file_extension": ".py",
   "mimetype": "text/x-python",
   "name": "python",
   "nbconvert_exporter": "python",
   "pygments_lexer": "ipython3",
   "version": "3.8.3"
  }
 },
 "nbformat": 4,
 "nbformat_minor": 4
}
