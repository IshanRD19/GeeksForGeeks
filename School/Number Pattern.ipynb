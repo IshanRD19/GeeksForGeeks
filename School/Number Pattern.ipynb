{
 "cells": [
  {
   "cell_type": "markdown",
   "metadata": {},
   "source": [
    "# NUMBER PATTERN\n",
    "\n",
    "For a given number N. Print the pattern in the following form: 1 121 12321 1234321 for N = 4.\n",
    "\n",
    "### Example 1:\n",
    "\n",
    "#### Input:\n",
    "N = 3\n",
    "#### Output:\n",
    "1 121 12321\n",
    "#### Explanation:\n",
    "For N = 3 we will print the 3 strings according to the pattern.\n",
    "### Example 2:\n",
    "\n",
    "#### Input:\n",
    "N = 6\n",
    "#### Output:\n",
    "1 121 12321 1234321 123454321 12345654321\n",
    "#### Explanation:\n",
    "For N = 6 we will print the 6 strings according to the pattern.\n",
    "### Your Task:  \n",
    "You don't need to read input or print anything. Your task is to complete the function numberPattern() which takes an integer N as input parameter and returns the list of strings to be printed.\n",
    "\n",
    "**Expected Time Complexity:** O(N^2)\n",
    "\n",
    "**Expected Auxiliary Space:** O(1)\n",
    "\n",
    "### Constraints:\n",
    "1 ≤ N ≤ 200"
   ]
  },
  {
   "cell_type": "code",
   "execution_count": 1,
   "metadata": {},
   "outputs": [
    {
     "name": "stdout",
     "output_type": "stream",
     "text": [
      "2\n",
      "3\n",
      "1 121 12321 \n",
      "6\n",
      "1 121 12321 1234321 123454321 12345654321 \n"
     ]
    }
   ],
   "source": [
    "# User function Template for python3\n",
    "class Solution:\n",
    "    def numberPattern(self, N):\n",
    "        # code here\n",
    "        result = []\n",
    "        \n",
    "        for i in range(1, N+1):\n",
    "            string = [j for j in range(1, i+1)]\n",
    "            string.extend([j for j in range(i-1, 0, -1)])\n",
    "            result.append(''.join([str(s) for s in string]))\n",
    "        \n",
    "        return result\n",
    "\n",
    "#{ \n",
    "# Driver Code Starts\n",
    "# Initial Template for Python 3\n",
    "if __name__ == '__main__':\n",
    "    T=int(input())\n",
    "    for i in range(T):\n",
    "        N = int(input())\n",
    "        ob = Solution()\n",
    "        res = ob.numberPattern(N)\n",
    "        for each in res:\n",
    "            print(each, end=\" \")\n",
    "        print()\n",
    "# } Driver Code Ends"
   ]
  }
 ],
 "metadata": {
  "kernelspec": {
   "display_name": "Python 3",
   "language": "python",
   "name": "python3"
  },
  "language_info": {
   "codemirror_mode": {
    "name": "ipython",
    "version": 3
   },
   "file_extension": ".py",
   "mimetype": "text/x-python",
   "name": "python",
   "nbconvert_exporter": "python",
   "pygments_lexer": "ipython3",
   "version": "3.8.3"
  }
 },
 "nbformat": 4,
 "nbformat_minor": 4
}
