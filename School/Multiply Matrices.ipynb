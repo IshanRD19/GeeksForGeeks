{
 "cells": [
  {
   "cell_type": "markdown",
   "metadata": {},
   "source": [
    "# MULTIPLY MATRICES\n",
    "\n",
    "Given two square Matrices A[][] and B[][]. Your task is to complete the function multiply which stores the multiplied matrices in a new matrix C[][].\n",
    "\n",
    "### Example 1:\n",
    "\n",
    "#### Input: \n",
    "N = 2\n",
    "A[][] = {{7, 8}, {2 , 9}}\n",
    "B[][] = {{14, 5}, {5, 18}}\n",
    "\n",
    "#### Output: \n",
    "C[][] = {{138, 179}, {73, 172}}\n",
    " \n",
    "\n",
    "### Example 2:\n",
    "\n",
    "#### Input: \n",
    "N = 2\n",
    "\n",
    "A[][] = {{17, 4}, {17 , 16}}\n",
    "\n",
    "B[][] = {{9, 2}, {7, 1}}\n",
    "\n",
    "#### Output: \n",
    "C[][] = {{181, 38}, {265, 50}}\n",
    "\n",
    "### Constraints:\n",
    "1 <=T<= 100\n",
    "\n",
    "1 <= N <= 20"
   ]
  },
  {
   "cell_type": "code",
   "execution_count": 1,
   "metadata": {},
   "outputs": [
    {
     "name": "stdout",
     "output_type": "stream",
     "text": [
      "2\n",
      "2\n",
      "7 8 2 9\n",
      "14 5 5 18\n",
      "138 179 73 172 \n",
      "2\n",
      "17 4 17 16\n",
      "9 2 7 1\n",
      "181 38 265 50 \n"
     ]
    }
   ],
   "source": [
    "# Your task is to complete this function\n",
    "# function should store the multiplication in C\n",
    "def multiply(A, B, C, n):\n",
    "    # Code here\n",
    "    for row in range(n):\n",
    "        for col in range(n):\n",
    "            C[row][col]\n",
    "            for k in range(n):\n",
    "                C[row][col] += A[row][k] * B[k][col]\n",
    "    return\n",
    "\n",
    "#{ \n",
    "#  Driver Code Starts\n",
    "# Your code goes here\n",
    "if __name__=='__main__':\n",
    "    t = int(input())\n",
    "    for i in range(t):\n",
    "        n = int(input())\n",
    "        arr = list(map(int, input().strip().split()))\n",
    "        matrix1 = [[0 for i in range(n)]for j in range(n)]\n",
    "        c=0\n",
    "        for i in range(n):\n",
    "            for j in range(n):\n",
    "                matrix1[i][j] = arr[c]\n",
    "                c+=1\n",
    "        arr = list(map(int, input().strip().split()))\n",
    "        matrix2 = [[0 for i in range(n)]for j in range(n)]\n",
    "        c=0\n",
    "        for i in range(n):\n",
    "            for j in range(n):\n",
    "                matrix2[i][j] = arr[c]\n",
    "                c+=1\n",
    "        matrix3 = [[0 for i in range(n)]for j in range(n)]\n",
    "        multiply(matrix1, matrix2, matrix3, n)\n",
    "        for i in range(n):\n",
    "            for j in range(n):\n",
    "                print(matrix3[i][j], end=\" \")\n",
    "        print ('')\n",
    "# } Driver Code Ends"
   ]
  }
 ],
 "metadata": {
  "kernelspec": {
   "display_name": "Python 3",
   "language": "python",
   "name": "python3"
  },
  "language_info": {
   "codemirror_mode": {
    "name": "ipython",
    "version": 3
   },
   "file_extension": ".py",
   "mimetype": "text/x-python",
   "name": "python",
   "nbconvert_exporter": "python",
   "pygments_lexer": "ipython3",
   "version": "3.8.3"
  }
 },
 "nbformat": 4,
 "nbformat_minor": 4
}
