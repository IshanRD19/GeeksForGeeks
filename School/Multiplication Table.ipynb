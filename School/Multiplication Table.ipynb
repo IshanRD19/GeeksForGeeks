{
 "cells": [
  {
   "cell_type": "markdown",
   "metadata": {},
   "source": [
    "# MULTIPLICATION TABLE\n",
    "\n",
    "Print the multiplication table of a given number N. \n",
    "\n",
    "### Example 1:\n",
    "\n",
    "#### Input:\n",
    "N = 9\n",
    "\n",
    "#### Output:\n",
    "9 18 27 36 45 54 63 72 81 90\n",
    "\n",
    "#### Explanation:\n",
    "The table of 9 is the output whose 1st \n",
    "term is 9 and the 10th term is 90.\n",
    "\n",
    "### Example 2:\n",
    "\n",
    "#### Input:\n",
    "N = 2\n",
    "\n",
    "#### Output:\n",
    "2 4 6 8 10 12 14 16 18 20\n",
    "\n",
    "\n",
    "### Your Task:  \n",
    "You don't need to read input. Your task is to complete the function getTable() which takes an integer N as input parameter and returns a list of integers denoting the multiplication of table of N from 1 to 10. \n",
    "\n",
    "**Expected Time Complexity:** O(1)\n",
    "\n",
    "**Expected Auxiliary Space:** O(1)\n",
    "\n",
    "\n",
    "### Constraints: \n",
    "1 <= N <= 10^6"
   ]
  },
  {
   "cell_type": "code",
   "execution_count": 1,
   "metadata": {},
   "outputs": [
    {
     "name": "stdout",
     "output_type": "stream",
     "text": [
      "2\n",
      "9\n",
      "9 18 27 36 45 54 63 72 81 90 \n",
      "2\n",
      "2 4 6 8 10 12 14 16 18 20 \n"
     ]
    }
   ],
   "source": [
    "# User function Template for python3\n",
    "\n",
    "class Solution:\n",
    "    def getTable(self,N):\n",
    "        # code here\n",
    "        return [N*i for i in range(1,11)]\n",
    "\n",
    "#{ \n",
    "#  Driver Code Starts\n",
    "#Initial Template for Python 3\n",
    "\n",
    "if __name__ == '__main__': \n",
    "    t = int(input())\n",
    "    for _ in range(t):\n",
    "        N = int(input())\n",
    "        ob = Solution()\n",
    "        ans = ob.getTable(N)\n",
    "        for i in ans:\n",
    "            print(i,end=\" \")\n",
    "        print()\n",
    "# } Driver Code Ends"
   ]
  }
 ],
 "metadata": {
  "kernelspec": {
   "display_name": "Python 3",
   "language": "python",
   "name": "python3"
  },
  "language_info": {
   "codemirror_mode": {
    "name": "ipython",
    "version": 3
   },
   "file_extension": ".py",
   "mimetype": "text/x-python",
   "name": "python",
   "nbconvert_exporter": "python",
   "pygments_lexer": "ipython3",
   "version": "3.8.3"
  }
 },
 "nbformat": 4,
 "nbformat_minor": 4
}
