{
 "cells": [
  {
   "cell_type": "markdown",
   "metadata": {},
   "source": [
    "# 12 HOUR CLOCK SUBTRACTION\n",
    "\n",
    "Given two positive integers num1 and num2, subtract num2 from num1 on a 12 hour clock rather than a number line.\n",
    "\n",
    "**Note:** Assume the Clock starts from 0 hour to 11 hours.\n",
    "\n",
    "### Example 1:\n",
    "\n",
    "#### Input:\n",
    "num1 = 7, num2 = 5\n",
    "#### Output:\n",
    "2\n",
    "#### Explanation:\n",
    "7-5 = 2. The time in a 12 hour clock is 2.\n",
    "### Example 2:\n",
    "\n",
    "#### Input:\n",
    "num1 = 5, num2 = 7\n",
    "#### Output:\n",
    "10\n",
    "#### Explanation:\n",
    "5-7 = -2. The time in a 12 hour clock is 10.\n",
    " \n",
    "### Your Task:\n",
    "You don't need to read input or print anything. Your task is to complete the function subClock() which takes 2 Integers num1, and num2 as input and returns the required time in a 12 hour clock format.\n",
    "\n",
    "**Expected Time Complexity:** O(1)\n",
    "\n",
    "**Expected Auxiliary Space:** O(1)\n",
    "\n",
    "### Constraints:\n",
    "1 <= num1,num2 <= 10^3"
   ]
  },
  {
   "cell_type": "code",
   "execution_count": 1,
   "metadata": {},
   "outputs": [
    {
     "name": "stdout",
     "output_type": "stream",
     "text": [
      "2\n",
      "7 5\n",
      "2\n",
      "5 7\n",
      "10\n"
     ]
    }
   ],
   "source": [
    "# User function Template for python3\n",
    "class Solution:\n",
    "    def subClock(self, num1, num2):\n",
    "        # code here\n",
    "        return (num1 - num2) % 12\n",
    "\n",
    "#{ \n",
    "#  Driver Code Starts\n",
    "#Initial Template for Python 3\n",
    "\n",
    "if __name__ == '__main__': \n",
    "    t = int (input ())\n",
    "    for _ in range (t):\n",
    "        num1,num2=map(int,input().split())\n",
    "        \n",
    "        ob = Solution()\n",
    "        print(ob.subClock(num1,num2))\n",
    "# } Driver Code Ends"
   ]
  }
 ],
 "metadata": {
  "kernelspec": {
   "display_name": "Python 3",
   "language": "python",
   "name": "python3"
  },
  "language_info": {
   "codemirror_mode": {
    "name": "ipython",
    "version": 3
   },
   "file_extension": ".py",
   "mimetype": "text/x-python",
   "name": "python",
   "nbconvert_exporter": "python",
   "pygments_lexer": "ipython3",
   "version": "3.8.3"
  }
 },
 "nbformat": 4,
 "nbformat_minor": 4
}
