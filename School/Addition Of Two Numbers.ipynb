{
 "cells": [
  {
   "cell_type": "markdown",
   "metadata": {},
   "source": [
    "# ADDITION OF TWO NUMBERS\n",
    "\n",
    "Given two numbers A and B. Your task is to return the sum of A and B.\n",
    "\n",
    "### Example 1:\n",
    "#### Input:\n",
    "A = 1, B = 2\n",
    "#### Output:\n",
    "3\n",
    "#### Explanation:\n",
    "Addition of 1 and 2 is 3.\n",
    "\n",
    "### Example 2:\n",
    "#### Input:\n",
    "A = 10, B = 20\n",
    "#### Output:\n",
    "30\n",
    "#### Explanation:\n",
    "Addition of 10 and 20 is 30.\n",
    "\n",
    "### Your Task:\n",
    "You don't need to read input or print anything. Your task is to complete the function addition() which takes two numbers A and B and returns the sum of A and B.\n",
    "\n",
    "**Expected Time Complexity:** O(1)\n",
    "**Expected Auxiliary Space:** O(1)\n",
    "\n",
    "### Constraints:\n",
    "1 <= A, B <= 10^18"
   ]
  },
  {
   "cell_type": "code",
   "execution_count": 1,
   "metadata": {},
   "outputs": [
    {
     "name": "stdout",
     "output_type": "stream",
     "text": [
      "2\n",
      "1 2\n",
      "3\n",
      "10 20\n",
      "30\n"
     ]
    }
   ],
   "source": [
    "#User function Template for python3\n",
    "class Solution:\n",
    "    def addition (ob,A,B):\n",
    "        # code here \n",
    "        return A+B\n",
    "\n",
    "#{ \n",
    "#  Driver Code Starts\n",
    "#Initial Template for Python 3\n",
    "if __name__ == '__main__': \n",
    "    t = int (input())\n",
    "    for _ in range (t):\n",
    "        \n",
    "        A,B=map(int,input().strip().split(\" \"))\n",
    "\n",
    "        ob = Solution()\n",
    "        print(ob.addition(A,B))\n",
    "# } Driver Code Ends"
   ]
  }
 ],
 "metadata": {
  "kernelspec": {
   "display_name": "Python 3",
   "language": "python",
   "name": "python3"
  },
  "language_info": {
   "codemirror_mode": {
    "name": "ipython",
    "version": 3
   },
   "file_extension": ".py",
   "mimetype": "text/x-python",
   "name": "python",
   "nbconvert_exporter": "python",
   "pygments_lexer": "ipython3",
   "version": "3.8.3"
  }
 },
 "nbformat": 4,
 "nbformat_minor": 4
}
