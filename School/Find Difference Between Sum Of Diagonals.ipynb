{
 "cells": [
  {
   "cell_type": "markdown",
   "metadata": {},
   "source": [
    "# FIND DIFFERENCE BETWEEN SUM OF DIAGONALS\n",
    "\n",
    "Given a matrix Grid[][] of size NxN. Calculate the absolute difference between the sums of its diagonals.\n",
    "\n",
    "### Example 1:\n",
    "\n",
    "#### Input:\n",
    "N=3\n",
    "\n",
    "Grid=[[1,2,3],[4,5,6],[7,8,9]]\n",
    "#### Output: \n",
    "0\n",
    "#### Explanation:\n",
    "Sum of primary diagonal = 1+5+9 = 15.\n",
    "\n",
    "Sum of secondary diagonal = 3+5+7 = 15.\n",
    "\n",
    "Difference = |15 - 15| = 0.\n",
    "\n",
    "### Example 2:\n",
    "\n",
    "#### Input:\n",
    "N=3\n",
    "\n",
    "Grid=[[1,1,1],[1,1,1],[1,1,1]]\n",
    "#### Output:\n",
    "0\n",
    "#### Explanation:\n",
    "Sum of primary diagonal = 1+1+1=3.\n",
    "\n",
    "Sum of secondary diagonal = 1+1+1=3.\n",
    "\n",
    "Difference = |3-3| = 0.\n",
    "\n",
    "### Your Task:\n",
    "You don't need to read input or print anything.Your task is to complete the function diagonalSumDifference() which takes an integer N and a 2D array Grid as input parameters and returns the absolutes difference between the sums of its diagonals.\n",
    "\n",
    "**Expected Time Complexity:** O(N)\n",
    "\n",
    "**Expected Auxillary Space:** O(1)\n",
    "\n",
    "### Constraints:\n",
    "1 <= N <= 1000\n",
    "\n",
    "-1000 <= Grid[i][j] <= 1000, for 0 <= i, j"
   ]
  },
  {
   "cell_type": "code",
   "execution_count": 1,
   "metadata": {},
   "outputs": [
    {
     "name": "stdout",
     "output_type": "stream",
     "text": [
      "2\n",
      "3\n",
      "1 2 3\n",
      "4 5 6\n",
      "7 8 9\n",
      "0\n",
      "3\n",
      "1 1 1\n",
      "1 1 1\n",
      "1 1 1\n",
      "0\n"
     ]
    }
   ],
   "source": [
    "# User function Template for python3\n",
    "class Solution:\n",
    "    def diagonalSumDifference(self,N,Grid):\n",
    "        #code here\n",
    "        primary, secondary = 0, 0\n",
    "        \n",
    "        for row in range(N):\n",
    "            for col in range(N):\n",
    "                \n",
    "                if row == col:\n",
    "                    primary += Grid[row][col]\n",
    "\n",
    "                if (row + col) == (N - 1):\n",
    "                    secondary += Grid[row][col]\n",
    "        \n",
    "        return abs(primary - secondary)\n",
    "\n",
    "#{ \n",
    "#  Driver Code Starts\n",
    "#Initial Template for Python 3\n",
    "\n",
    "if __name__=='__main__':\n",
    "    t=int(input())\n",
    "    for _ in range(t):\n",
    "        N=int(input())\n",
    "        Grid = [[0 for i in range(N)] for j in range(N)]\n",
    "        for i in range(N):\n",
    "            s=list(map(int,input().strip().split(' ')))\n",
    "            for j in range(N):\n",
    "                Grid[i][j]=s[j]\n",
    "        ob=Solution()\n",
    "        print(ob.diagonalSumDifference(N,Grid))\n",
    "# } Driver Code Ends"
   ]
  }
 ],
 "metadata": {
  "kernelspec": {
   "display_name": "Python 3",
   "language": "python",
   "name": "python3"
  },
  "language_info": {
   "codemirror_mode": {
    "name": "ipython",
    "version": 3
   },
   "file_extension": ".py",
   "mimetype": "text/x-python",
   "name": "python",
   "nbconvert_exporter": "python",
   "pygments_lexer": "ipython3",
   "version": "3.8.3"
  }
 },
 "nbformat": 4,
 "nbformat_minor": 4
}
