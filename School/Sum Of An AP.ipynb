{
 "cells": [
  {
   "cell_type": "markdown",
   "metadata": {},
   "source": [
    "# SUM OF AN AP\n",
    "\n",
    "Given n, a and d as the number of terms, first term and common difference respectively of an Arthimetic Series. Find the sum of the series upto nth term.\n",
    "\n",
    "### Example 1:\n",
    "\n",
    "#### Input:\n",
    "5 1 3\n",
    "#### Output:\n",
    "35\n",
    "#### Explanation: Series upto 5th term is\n",
    "1 4 7 10 13, so sum will be 35.\n",
    "### Example 2:\n",
    "\n",
    "#### Input:\n",
    "3 1 2\n",
    "#### Output:\n",
    "9\n",
    "#### Example:\n",
    "Series upto 3rd term is 1 3 5, so sum will be 9.\n",
    "\n",
    "### Your Task:\n",
    "You don't need to read or print anything. Your task is to complete the function sum_of_ap() which takes n, a and d as input parameter and returns the sum of the series.\n",
    "\n",
    "**Expected Time Complexity:** O(1)\n",
    "\n",
    "**Expected Space Complexity:** O(1)\n",
    " \n",
    "### Constranits:\n",
    "1 <= n, a, d <= 100"
   ]
  },
  {
   "cell_type": "code",
   "execution_count": 1,
   "metadata": {},
   "outputs": [
    {
     "name": "stdout",
     "output_type": "stream",
     "text": [
      "2\n",
      "5 1 3\n",
      "35\n",
      "3 1 2\n",
      "9\n"
     ]
    }
   ],
   "source": [
    "# User function Template for python3\n",
    "class Solution:\n",
    "    def sum_of_ap(self, n, a, d):\n",
    "        # Code here\n",
    "        \n",
    "        # Sum of an AP: (n/2) * (2*a + (n-1)*d)\n",
    "        return int(0.5 * n * (2 * a + (n - 1) * d))\n",
    "\n",
    "#{ \n",
    "#  Driver Code Starts\n",
    "#Initial Template for Python 3\n",
    "\n",
    "if __name__ == '__main__':\n",
    "    T=int(input())\n",
    "    for i in range(T):\n",
    "        n, a, d = input().split()\n",
    "        n = int(n)\n",
    "        a = int(a)\n",
    "        d = int(d)\n",
    "        ob = Solution();\n",
    "        ans = ob.sum_of_ap(n, a, d)\n",
    "        print(ans)\n",
    "# } Driver Code Ends"
   ]
  }
 ],
 "metadata": {
  "kernelspec": {
   "display_name": "Python 3",
   "language": "python",
   "name": "python3"
  },
  "language_info": {
   "codemirror_mode": {
    "name": "ipython",
    "version": 3
   },
   "file_extension": ".py",
   "mimetype": "text/x-python",
   "name": "python",
   "nbconvert_exporter": "python",
   "pygments_lexer": "ipython3",
   "version": "3.8.3"
  }
 },
 "nbformat": 4,
 "nbformat_minor": 4
}
