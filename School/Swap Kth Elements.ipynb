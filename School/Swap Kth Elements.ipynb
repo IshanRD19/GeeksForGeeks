{
 "cells": [
  {
   "cell_type": "markdown",
   "metadata": {},
   "source": [
    "# SWAP Kth ELEMENTS\n",
    "\n",
    "Given an array Arr of size N, swap the Kth element from beginning with Kth element from end.\n",
    "\n",
    "### Example 1:\n",
    "\n",
    "#### Input:\n",
    "N = 8, K = 3\n",
    "\n",
    "Arr[] = {1, 2, 3, 4, 5, 6, 7, 8}\n",
    "#### Output:\n",
    "1 2 6 4 5 3 7 8\n",
    "#### Explanation:\n",
    "Kth element from beginning is 3 and from end is 6.\n",
    "### Example 2:\n",
    "\n",
    "#### Input:\n",
    "N = 5, K = 2\n",
    "\n",
    "Arr[] = {5, 3, 6, 1, 2}\n",
    "#### Output:\n",
    "5 1 6 3 2\n",
    "#### Explanation:\n",
    "Kth element from beginning is 3 and from end is 1.\n",
    "### Your Task:\n",
    "You don't need to read input or print anything. Your task is to complete the function swapKth() which takes the array of integers arr, n and k as parameters and returns void. You have to modify the array itself.\n",
    "\n",
    "Expected Time Complexity: O(1)\n",
    "Expected Auxiliary Space: O(1)\n",
    "\n",
    "### Constraints:\n",
    "1 ≤ K ≤ N ≤ 10^5\n",
    "\n",
    "1 ≤ Arr[i] ≤ 10^3"
   ]
  },
  {
   "cell_type": "code",
   "execution_count": 1,
   "metadata": {},
   "outputs": [
    {
     "name": "stdout",
     "output_type": "stream",
     "text": [
      "2\n",
      "8 3\n",
      "1 2 3 4 5 6 7 8\n",
      "1 2 6 4 5 3 7 8 \n",
      "5 2\n",
      "5 3 6 1 2\n",
      "5 1 6 3 2 \n"
     ]
    }
   ],
   "source": [
    "# User function Template for python3\n",
    "class Solution:\n",
    "    \n",
    "    def swapKth(self, arr, n, k):\n",
    "        # code here\n",
    "        temp = arr[k-1]\n",
    "        arr[k-1] = arr[-k]\n",
    "        arr[-k] = temp\n",
    "        return\n",
    "\n",
    "\n",
    "#{ \n",
    "#  Driver Code Starts\n",
    "if __name__ == '__main__':\n",
    "    tc = int(input())\n",
    "    while tc > 0:\n",
    "        n, k = list(map(int, input().strip().split()))\n",
    "        arr = list(map(int, input().strip().split()))\n",
    "        ob = Solution()\n",
    "        ob.swapKth(arr, n, k)\n",
    "        for x in arr:\n",
    "            print(x, end=\" \")\n",
    "        print()\n",
    "        tc -= 1\n",
    "# } Driver Code Ends"
   ]
  }
 ],
 "metadata": {
  "kernelspec": {
   "display_name": "Python 3",
   "language": "python",
   "name": "python3"
  },
  "language_info": {
   "codemirror_mode": {
    "name": "ipython",
    "version": 3
   },
   "file_extension": ".py",
   "mimetype": "text/x-python",
   "name": "python",
   "nbconvert_exporter": "python",
   "pygments_lexer": "ipython3",
   "version": "3.8.3"
  }
 },
 "nbformat": 4,
 "nbformat_minor": 4
}
