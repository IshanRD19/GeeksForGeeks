{
 "cells": [
  {
   "cell_type": "markdown",
   "metadata": {},
   "source": [
    "# JAVA STRINGS | SET 1\n",
    "\n",
    "Given two strings S1 and S2 as input. Your task is to concatenate two strings and then reverse the string. Finally print the reversed string.\n",
    "\n",
    "### Example 1:\n",
    "\n",
    "#### Input:\n",
    "S1 = \"Geeks\" , S2 = \"forGeeks\"\n",
    "#### Output:\n",
    "\"skeeGrofskeeG\" \n",
    "#### Explanation:\n",
    "Concatenating S1 and S2 to  get \"GeeksforGeeks\" then reversing it to  \"skeeGrofskeeG\".\n",
    "### Example 2:\n",
    "\n",
    "#### Input:\n",
    "S1 = \"Practice\" , S2 = \"Geeks\"\n",
    "#### Output:\n",
    "\"skeeGecitcarP\"\n",
    "#### Explanation:\n",
    "Concatenating S1 and S2 to get \"PracticeGeeks\" then reversing it to \"skeegecitcarP\".\n",
    "\n",
    "### Your Task:  \n",
    "You dont need to read input or print anything. Complete the function conRevstr() which takes S1 and S2 as input parameter and returns the sting final_s after concatenating and reversing.\n",
    "\n",
    "**Expected Time Complexity:** O(|S1| + |S2|)\n",
    "\n",
    "**Expected Auxiliary Space:** O(|S1| + |S2|)\n",
    "\n",
    "### Constraints:\n",
    "1<= |S1| <=1000\n",
    "1<= |S2| <=1000\n"
   ]
  },
  {
   "cell_type": "code",
   "execution_count": 1,
   "metadata": {},
   "outputs": [
    {
     "name": "stdout",
     "output_type": "stream",
     "text": [
      "2\n",
      "Practice\n",
      "Geeks\n",
      "skeeGecitcarP\n",
      "Geeks\n",
      "forGeeks\n",
      "skeeGrofskeeG\n"
     ]
    }
   ],
   "source": [
    "#User function Template for python3\n",
    "class Solution:\n",
    "    def conRevstr (ob, S1, S2):\n",
    "        # code here \n",
    "        concatenated_str = S1 + S2\n",
    "        chars = [c for c in concatenated_str]\n",
    "        chars.reverse()\n",
    "        return ''.join(chars)\n",
    "\n",
    "#{ \n",
    "#  Driver Code Starts\n",
    "#Initial Template for Python 3\n",
    "if __name__ == '__main__': \n",
    "    t = int (input ())\n",
    "    for _ in range (t):\n",
    "        S1 = input()\n",
    "        S2 = input()\n",
    "        ob = Solution()\n",
    "        print(ob.conRevstr(S1,S2))\n",
    "# } Driver Code Ends"
   ]
  }
 ],
 "metadata": {
  "kernelspec": {
   "display_name": "Python 3",
   "language": "python",
   "name": "python3"
  },
  "language_info": {
   "codemirror_mode": {
    "name": "ipython",
    "version": 3
   },
   "file_extension": ".py",
   "mimetype": "text/x-python",
   "name": "python",
   "nbconvert_exporter": "python",
   "pygments_lexer": "ipython3",
   "version": "3.8.3"
  }
 },
 "nbformat": 4,
 "nbformat_minor": 4
}
