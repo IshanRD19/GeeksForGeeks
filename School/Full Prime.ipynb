{
 "cells": [
  {
   "cell_type": "markdown",
   "metadata": {},
   "source": [
    "# FULL PRIME\n",
    "\n",
    "Given a number N.Check if it is Full Prime or not. \n",
    "\n",
    "**Note:** A full prime number is one in which the number itself is prime and all its digits are also prime.\n",
    "\n",
    "### Example 1:\n",
    "\n",
    "#### Input:\n",
    "N=31\n",
    "#### Output:\n",
    "0\n",
    "#### Explanation:\n",
    "N is prime but since 1 is not a prime so all the digits of N are not prime.So, Answer is 0.\n",
    "\n",
    "### Example 2:\n",
    "\n",
    "#### Input:\n",
    "N=37\n",
    "#### Output:\n",
    "1\n",
    "#### Explanation:\n",
    "N is prime and so is all of its digits. Thus, Answer is 1.\n",
    "\n",
    "### Your Task:\n",
    "You don't need to read input or print anything.Your task is to complete the function fullPrime() which takes the number N as input parameter and returns 1 if the number is Full Prime.Otherwise return 0.\n",
    "\n",
    "**Expected Time Complexity:** O(Sqrt(N))\n",
    "\n",
    "**Expected Auxillary Space:** O(1)\n",
    "\n",
    "### Constraints:\n",
    "1 <= N <= 10^9"
   ]
  },
  {
   "cell_type": "code",
   "execution_count": 1,
   "metadata": {},
   "outputs": [
    {
     "name": "stdout",
     "output_type": "stream",
     "text": [
      "2\n",
      "31\n",
      "0\n",
      "37\n",
      "1\n"
     ]
    }
   ],
   "source": [
    "# User function Template for python3\n",
    "class Solution:\n",
    "    def fullPrime(self, N):\n",
    "        #code here\n",
    "\n",
    "        # Check if N is prime\n",
    "        i = 2\n",
    "        while i*i <= N:\n",
    "            if not N % i:\n",
    "                return 0\n",
    "            i += 1\n",
    "        \n",
    "        # Check if all the digits are prime\n",
    "        digits = [int(d) for d in str(N)]\n",
    "        for d in digits:\n",
    "            if d not in [2,3,5,7]:\n",
    "                return 0\n",
    "\n",
    "        return 1\n",
    "\n",
    "#{ \n",
    "#  Driver Code Starts\n",
    "#Initial Template for Python 3\n",
    "if __name__ == '__main__':\n",
    "    t=int(input())\n",
    "    for _ in range(t):\n",
    "        N=int(input())\n",
    "        ob=Solution()\n",
    "        print(ob.fullPrime(N))\n",
    "# } Driver Code Ends"
   ]
  }
 ],
 "metadata": {
  "kernelspec": {
   "display_name": "Python 3",
   "language": "python",
   "name": "python3"
  },
  "language_info": {
   "codemirror_mode": {
    "name": "ipython",
    "version": 3
   },
   "file_extension": ".py",
   "mimetype": "text/x-python",
   "name": "python",
   "nbconvert_exporter": "python",
   "pygments_lexer": "ipython3",
   "version": "3.8.3"
  }
 },
 "nbformat": 4,
 "nbformat_minor": 4
}
