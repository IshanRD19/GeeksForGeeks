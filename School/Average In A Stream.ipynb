{
 "cells": [
  {
   "cell_type": "markdown",
   "metadata": {},
   "source": [
    "# AVERAGE IN A STREAM\n",
    "\n",
    "Given a stream of incoming numbers, find average or mean of the stream at every point.\n",
    "\n",
    "### Example 1:\n",
    "\n",
    "#### Input:\n",
    "n = 5\n",
    "\n",
    "arr[] = {10, 20, 30, 40, 50}\n",
    "#### Output:\n",
    "10.00 15.00 20.00 25.00 30.00 \n",
    "#### Explanation: \n",
    "10 / 1 = 10.00\n",
    "(10 + 20) / 2 = 15.00\n",
    "(10 + 20 + 30) / 3 = 20.00\n",
    "And so on.\n",
    " \n",
    "\n",
    "### Example 2:\n",
    "\n",
    "#### Input:\n",
    "n = 2\n",
    "\n",
    "arr[] = {12, 2}\n",
    "#### Output:\n",
    "12.00 7.00 \n",
    "#### Explanation: \n",
    "12 / 1 = 12.00\n",
    "(12 + 2) / 2 = 7.00\n",
    " \n",
    "\n",
    "### Your Task:\n",
    "You don't need to read input or print anything. Your task is to complete the function streamAvg() which takes the array of integers arr and n as input parameters and returns an array of type float denoting the average at every point in the stream. \n",
    "\n",
    "**Expected Time Complexity:** O(n)\n",
    "\n",
    "**Expected Auxiliary Space:** O(1)\n",
    "\n",
    "### Constraints:\n",
    "1 ≤ n ≤ 10^5\n",
    "1 ≤ arr[i] ≤ 10^6"
   ]
  },
  {
   "cell_type": "code",
   "execution_count": 1,
   "metadata": {},
   "outputs": [
    {
     "name": "stdout",
     "output_type": "stream",
     "text": [
      "2\n",
      "5\n",
      "10 20 30 40 50\n",
      "10.00 15.00 20.00 25.00 30.00 \n",
      "2\n",
      "12 2\n",
      "12.00 7.00 \n"
     ]
    }
   ],
   "source": [
    "# User function Template for python3\n",
    "class Solution:\n",
    "    def streamAvg(self, arr, n):\n",
    "        # code here\n",
    "        sum_so_far = 0\n",
    "        avg_list = []\n",
    "        \n",
    "        for i in range(n):\n",
    "            sum_so_far += arr[i]\n",
    "            avg_list.append(sum_so_far / (i + 1))\n",
    "            \n",
    "        return avg_list\n",
    "        \n",
    "\n",
    "#{ \n",
    "#  Driver Code Starts\n",
    "#Initial template for Python\n",
    "\n",
    "if __name__ == '__main__':\n",
    "    tc = int(input())\n",
    "    while tc > 0:\n",
    "        n = int(input())\n",
    "        arr = list(map(int, input().strip().split()))\n",
    "        ob = Solution()\n",
    "        ans = ob.streamAvg(arr, n)\n",
    "        for x in ans:\n",
    "            print('%.2f'%x, end=\" \")\n",
    "        print()\n",
    "        tc -= 1\n",
    "\n",
    "# } Driver Code Ends"
   ]
  }
 ],
 "metadata": {
  "kernelspec": {
   "display_name": "Python 3",
   "language": "python",
   "name": "python3"
  },
  "language_info": {
   "codemirror_mode": {
    "name": "ipython",
    "version": 3
   },
   "file_extension": ".py",
   "mimetype": "text/x-python",
   "name": "python",
   "nbconvert_exporter": "python",
   "pygments_lexer": "ipython3",
   "version": "3.8.3"
  }
 },
 "nbformat": 4,
 "nbformat_minor": 4
}
