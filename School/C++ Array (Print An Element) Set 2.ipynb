{
 "cells": [
  {
   "cell_type": "markdown",
   "metadata": {},
   "source": [
    "# C++ ARRAY (PRINT AN ELEMENT) SET 2\n",
    "\n",
    "Given an array A[] of N integers and an index Key. Your task is to print the element present at index key in the array.\n",
    "\n",
    "### Example 1:\n",
    "\n",
    "#### Input:\n",
    "5 2\n",
    "\n",
    "10 20 30 40 50\n",
    "#### Output:\n",
    "30\n",
    "\n",
    "### Example 2:\n",
    "\n",
    "#### Input:\n",
    "7 4\n",
    "\n",
    "10 20 30 40 50 60 70\n",
    "#### Output:\n",
    "50\n",
    "\n",
    "### Your Task:  \n",
    "You don't need to read input or print anything. Your task is to complete the function findElementAtIndex() which takes the array A[], its size N and an integer Key as inputs and returns the element present at index Key.\n",
    "\n",
    "**Expected Time Complexity:** O(1)\n",
    "\n",
    "**Expected Auxiliary Space:** O(1)\n",
    "\n",
    "### Constraints:\n",
    "1 ≤ N ≤ 100\n",
    "\n",
    "0 ≤ Key ≤ N - 1\n",
    "\n",
    "1 ≤ A[i] ≤ 100"
   ]
  },
  {
   "cell_type": "code",
   "execution_count": 1,
   "metadata": {},
   "outputs": [
    {
     "name": "stdout",
     "output_type": "stream",
     "text": [
      "2\n",
      "5 2\n",
      "10 20 30 40 50\n",
      "30\n",
      "7 4\n",
      "10 20 30 40 50 60 70\n",
      "50\n"
     ]
    }
   ],
   "source": [
    "# User function Template for python3\n",
    "class Solution:\n",
    "    # Function to find triplets with zero sum.    \n",
    "    def findElementAtIndex(self, arr, n, key):\n",
    "        return arr[key]\n",
    "\n",
    "\n",
    "#{ \n",
    "#  Driver Code Starts\n",
    "if __name__=='__main__':\n",
    "    t = int(input())\n",
    "    for i in range(t):\n",
    "        n, k = map(int,input().split())\n",
    "        a = list(map(int,input().strip().split()))\n",
    "        print(Solution.findElementAtIndex(Solution.findElementAtIndex, a, n, k))\n",
    "# } Driver Code Ends"
   ]
  }
 ],
 "metadata": {
  "kernelspec": {
   "display_name": "Python 3",
   "language": "python",
   "name": "python3"
  },
  "language_info": {
   "codemirror_mode": {
    "name": "ipython",
    "version": 3
   },
   "file_extension": ".py",
   "mimetype": "text/x-python",
   "name": "python",
   "nbconvert_exporter": "python",
   "pygments_lexer": "ipython3",
   "version": "3.8.3"
  }
 },
 "nbformat": 4,
 "nbformat_minor": 4
}
