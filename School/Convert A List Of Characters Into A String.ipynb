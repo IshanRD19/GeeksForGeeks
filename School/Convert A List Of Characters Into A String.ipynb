{
 "cells": [
  {
   "cell_type": "markdown",
   "metadata": {},
   "source": [
    "# CONVERT A LIST OF CHARACTERS INTO A STRING\n",
    "\n",
    "Given a list of characters, merge all of them into a string.\n",
    "\n",
    "### Example 1:\n",
    "\n",
    "#### Input:\n",
    "N = 13\n",
    "\n",
    "Char array = g e e k s f o r g e e k s\n",
    "#### Output:\n",
    "geeksforgeeks \n",
    "#### Explanation:\n",
    "Combined all the characters to form a single string.\n",
    "\n",
    "### Example 2:\n",
    "\n",
    "#### Input:\n",
    "N = 4\n",
    "\n",
    "Char array = e e b a\n",
    "#### Output:\n",
    "eeba\n",
    "#### Explanation:\n",
    "Combined all the characters to form a single string.\n",
    "\n",
    "\n",
    "### Your Task:\n",
    "You dont need to read input or print anything. Complete the function chartostr() which accepts a char array arr and its size  N  as parameter and returns a string.\n",
    " \n",
    "\n",
    "**Expected Time Complexity:** O(N)\n",
    "\n",
    "**Expected Auxiliary Space:** O(N)"
   ]
  },
  {
   "cell_type": "code",
   "execution_count": 1,
   "metadata": {},
   "outputs": [
    {
     "name": "stdout",
     "output_type": "stream",
     "text": [
      "2\n",
      "13\n",
      "g e e k s f o r g e e k s\n",
      "geeksforgeeks\n",
      "4\n",
      "e e b a\n",
      "eeba\n"
     ]
    }
   ],
   "source": [
    "# User function Template for python3\n",
    "class Solution:\n",
    "    def chartostr(self, arr,N):\n",
    "        # code here\n",
    "        return ''.join(arr)\n",
    "\n",
    "#{ \n",
    "#  Driver Code Starts\n",
    "#Initial Template for Python 3\n",
    "\n",
    "if __name__ == '__main__':\n",
    "    T = int(input())\n",
    "\n",
    "    for tcs in range(T):\n",
    "        N= int(input())\n",
    "        arr =input().split()\n",
    "        ob = Solution()\n",
    "        print(ob.chartostr(arr,N))\n",
    "# } Driver Code Ends"
   ]
  }
 ],
 "metadata": {
  "kernelspec": {
   "display_name": "Python 3",
   "language": "python",
   "name": "python3"
  },
  "language_info": {
   "codemirror_mode": {
    "name": "ipython",
    "version": 3
   },
   "file_extension": ".py",
   "mimetype": "text/x-python",
   "name": "python",
   "nbconvert_exporter": "python",
   "pygments_lexer": "ipython3",
   "version": "3.8.3"
  }
 },
 "nbformat": 4,
 "nbformat_minor": 4
}
