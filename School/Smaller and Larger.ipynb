{
 "cells": [
  {
   "cell_type": "markdown",
   "metadata": {},
   "source": [
    "# SMALLER AND LARGER\n",
    "\n",
    "Given a sorted array Arr of size N and a value X, find the number of array elements less than or equal to X and elements more than or equal to X. \n",
    "\n",
    "### Example 1:\n",
    "\n",
    "### Input:\n",
    "N = 7, X = 0\n",
    "\n",
    "Arr[] = {1, 2, 8, 10, 11, 12, 19}\n",
    "### Output:\n",
    "0 7\n",
    "### Explanation:\n",
    "There are no elements less or equal to 0 and 7 elements greater or equal to 0.\n",
    "### Example 2:\n",
    "\n",
    "### Input:\n",
    "N = 7, X = 5\n",
    "\n",
    "Arr[] = {1, 2, 8, 10, 11, 12, 19}\n",
    "### Output:\n",
    "2 5\n",
    "### Explanation:\n",
    "There are 2 elements less or equal to 5 and 5 elements greater or equal to 5.\n",
    "### Your Task:\n",
    "You don't need to read input or print anything. Your task is to complete the function getMoreAndLess() which takes the array of integers arr, n and x as parameters and returns an array of size 2. pair denoting the answer. The first value is number of elements less than or equal to x and the second value is number of elements more than or equal to x.\n",
    "\n",
    "**Expected Time Complexity:** O(logN)\n",
    "\n",
    "**Expected Auxiliary Space:** O(1)\n",
    "\n",
    "### Constraints:\n",
    "1 ≤ N ≤ 10^5\n",
    "0 ≤ X ≤ 10^6\n",
    "1 ≤ Arr[i] ≤ 10^6"
   ]
  },
  {
   "cell_type": "code",
   "execution_count": 1,
   "metadata": {},
   "outputs": [
    {
     "name": "stdout",
     "output_type": "stream",
     "text": [
      "2\n",
      "7 0\n",
      "1 2 8 10 11 12 19\n",
      "0 7\n",
      "7 5\n",
      "1 2 8 10 11 12 19\n",
      "2 5\n"
     ]
    }
   ],
   "source": [
    "# User function Template for python3\n",
    "class Solution:\n",
    "    def getMoreAndLess(self, arr, n, x):\n",
    "        # code here\n",
    "        less, more = 0, 0\n",
    "        for i in arr:\n",
    "            if i <= x:\n",
    "                less += 1\n",
    "            if i >= x:\n",
    "                more += 1\n",
    "\n",
    "        return less, more\n",
    "\n",
    "#{ \n",
    "#  Driver Code Starts\n",
    "#Initial Template for Python 3\n",
    "\n",
    "if __name__ == '__main__':\n",
    "    tc = int(input())\n",
    "    while tc > 0:\n",
    "        n, x = list(map(int, input().strip().split()))\n",
    "        arr = list(map(int, input().strip().split()))\n",
    "        ob = Solution()\n",
    "        ans = ob.getMoreAndLess(arr, n, x)\n",
    "        print(str(ans[0]) + \" \" + str(ans[1]))\n",
    "        tc -= 1\n",
    "\n",
    "# } Driver Code Ends"
   ]
  }
 ],
 "metadata": {
  "kernelspec": {
   "display_name": "Python 3",
   "language": "python",
   "name": "python3"
  },
  "language_info": {
   "codemirror_mode": {
    "name": "ipython",
    "version": 3
   },
   "file_extension": ".py",
   "mimetype": "text/x-python",
   "name": "python",
   "nbconvert_exporter": "python",
   "pygments_lexer": "ipython3",
   "version": "3.8.3"
  }
 },
 "nbformat": 4,
 "nbformat_minor": 4
}
