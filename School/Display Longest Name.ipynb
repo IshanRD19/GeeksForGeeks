{
 "cells": [
  {
   "cell_type": "markdown",
   "metadata": {},
   "source": [
    "# DISPLAY LONGEST NAME\n",
    "\n",
    "Given a list of names, display the longest name.\n",
    "\n",
    "### Example:\n",
    "\n",
    "#### Input:\n",
    "N = 5\n",
    "\n",
    "names[] = { \"Geek\", \"Geeks\", \"Geeksfor\", \"GeeksforGeek\", \"GeeksforGeeks\" }\n",
    "\n",
    "#### Output:\n",
    "GeeksforGeeks\n",
    "\n",
    "### Your Task:  \n",
    "You don't need to read input or print anything. Your task is to complete the function longest() which takes the array names[] and its size N as inputs and returns the Longest name in the list of names.\n",
    "\n",
    "**Expected Time Complexity:** O(N)\n",
    "\n",
    "**Expected Auxiliary Space:** O(1)\n",
    "\n",
    "### Constraints:\n",
    "1 <= N <= 100\n",
    "\n",
    "1 <= |length of name| <= 1000"
   ]
  },
  {
   "cell_type": "code",
   "execution_count": 1,
   "metadata": {},
   "outputs": [
    {
     "name": "stdout",
     "output_type": "stream",
     "text": [
      "1\n",
      "5\n",
      "Geek\n",
      "Geeks\n",
      "Geeksfor\n",
      "GeeksforGeek\n",
      "GeeksforGeeks\n",
      "GeeksforGeeks\n"
     ]
    }
   ],
   "source": [
    "#User function Template for python3\n",
    "\n",
    "class Solution:\n",
    "    def longest(self, names, n):\n",
    "        # code here\n",
    "        return names[[len(name) for name in names].index(max([len(name) for name in names]))]\n",
    "\n",
    "\n",
    "#{ \n",
    "#  Driver Code Starts\n",
    "def main():\n",
    "    T = int(input())\n",
    "\n",
    "    while(T > 0):\n",
    "        n = int(input())\n",
    "        names = []\n",
    "        for i in range(n):\n",
    "            names.append(input())\n",
    "        ob = Solution()\n",
    "        print(ob.longest(names, n))\n",
    "        T -= 1\n",
    "\n",
    "if __name__ == \"__main__\":\n",
    "    main()\n",
    "# } Driver Code Ends"
   ]
  }
 ],
 "metadata": {
  "kernelspec": {
   "display_name": "Python 3",
   "language": "python",
   "name": "python3"
  },
  "language_info": {
   "codemirror_mode": {
    "name": "ipython",
    "version": 3
   },
   "file_extension": ".py",
   "mimetype": "text/x-python",
   "name": "python",
   "nbconvert_exporter": "python",
   "pygments_lexer": "ipython3",
   "version": "3.8.3"
  }
 },
 "nbformat": 4,
 "nbformat_minor": 4
}
