{
 "cells": [
  {
   "cell_type": "markdown",
   "metadata": {},
   "source": [
    "# AREA OF RECTANGLE, RIGHT ANGLED TRIANGLE AND CIRCLE\n",
    "\n",
    "Given the length of rectangle, width of rectangle, base of right angled triangle, perpendicular of right angled triangle and radius of circle respectively. Calculate the area of rectangle, right angled triangle and circle.\n",
    "\n",
    "### Example 1:\n",
    "\n",
    "#### Input:\n",
    "L = 32 , W = 32 , B = 54 H = 12 , R = 52\n",
    "#### Output:\n",
    "1024 324 8490 \n",
    "#### Explanation:\n",
    "Area of Rectangle = L*W = 32*32 = 1024\n",
    "\n",
    "Area of Triangle = 0.5*B*H = 0.5*54*12 = 324\n",
    "\n",
    "Area of Circle = 3.14*(52)2 = 8490\n",
    "### Example 2:\n",
    "\n",
    "#### Input:\n",
    "L = 2 , W = 2 , B = 4 H = 8 , R = 4\n",
    "#### Output:\n",
    "4 16 50\n",
    "#### Explanation:\n",
    "Area of Rectangle = L*W = 2*2 = 4\n",
    "\n",
    "Area of Triangle = 0.5*B*H = 0.5*4*8 = 16\n",
    "\n",
    "Area of Circle = 3.14*(4)2 = 50\n",
    "\n",
    "### Your Task:\n",
    "You don't need to read input or print anything. Your task is to complete the function getAreas() which takes 5 Integers L, W, B, H, R as input and returns the answer in a list of 3 integers.\n",
    "\n",
    "**Expected Time Complexity:** O(1)\n",
    "\n",
    "**Expected Auxiliary Space:** O(1)\n",
    "\n",
    "### Constraints:\n",
    "1 ≤ L,W,B,H,R ≤ 10^4"
   ]
  },
  {
   "cell_type": "code",
   "execution_count": 1,
   "metadata": {},
   "outputs": [
    {
     "name": "stdout",
     "output_type": "stream",
     "text": [
      "2\n",
      "32 32 54 12 52\n",
      "1024 324 8490\n",
      "2 2 4 8 4\n",
      "4 16 50\n"
     ]
    }
   ],
   "source": [
    "# User function Template for python3\n",
    "class Solution:\n",
    "    def getAreas(self, L , W , B , H , R):\n",
    "        # code here\n",
    "        return [int(L * W), int(0.5 * B * H), int(3.14 * R * R)]\n",
    "\n",
    "#{ \n",
    "#  Driver Code Starts\n",
    "#Initial Template for Python 3\n",
    "\n",
    "import math\n",
    "if __name__ == '__main__': \n",
    "    t = int (input ())\n",
    "    for _ in range (t):\n",
    "        L,W,B,H,R=map(int,input().split())\n",
    "        \n",
    "        ob = Solution()\n",
    "        ptr = ob.getAreas(L,W,B,H,R)\n",
    "        \n",
    "        print(ptr[0],ptr[1],ptr[2])\n",
    "# } Driver Code Ends"
   ]
  }
 ],
 "metadata": {
  "kernelspec": {
   "display_name": "Python 3",
   "language": "python",
   "name": "python3"
  },
  "language_info": {
   "codemirror_mode": {
    "name": "ipython",
    "version": 3
   },
   "file_extension": ".py",
   "mimetype": "text/x-python",
   "name": "python",
   "nbconvert_exporter": "python",
   "pygments_lexer": "ipython3",
   "version": "3.8.3"
  }
 },
 "nbformat": 4,
 "nbformat_minor": 4
}
