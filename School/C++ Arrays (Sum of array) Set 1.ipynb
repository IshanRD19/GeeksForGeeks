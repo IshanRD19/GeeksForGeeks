{
 "cells": [
  {
   "cell_type": "markdown",
   "metadata": {},
   "source": [
    "# C++ ARRAYS (SUM OF ARRAY) | SET 1\n",
    "\n",
    "Given an array of N integers. Your task is to print the sum of all of the integers.\n",
    " \n",
    "\n",
    "### Example 1:\n",
    "#### Input:\n",
    "4\n",
    "\n",
    "1 2 3 4\n",
    "#### Output:\n",
    "10\n",
    " \n",
    "### Example 2:\n",
    "#### Input:\n",
    "6\n",
    "\n",
    "5 8 3 10 22 45\n",
    "#### Output:\n",
    "93\n",
    " \n",
    "### Your Task:  \n",
    "You don't need to read input or print anything. Your task is to complete the function getSum() which takes the array A[] and its size N as inputs and returns the sum of array in a new line.\n",
    "\n",
    "**Expected Time Complexity:** O(N)\n",
    "\n",
    "**Expected Auxiliary Space:** O(1)\n",
    "\n",
    "### Constraints:\n",
    "1 ≤ N ≤ 10^6\n",
    "\n",
    "0 ≤ Arr[i] ≤ 200"
   ]
  },
  {
   "cell_type": "code",
   "execution_count": 1,
   "metadata": {},
   "outputs": [
    {
     "name": "stdout",
     "output_type": "stream",
     "text": [
      "2\n",
      "4\n",
      "1 2 3 4\n",
      "10\n",
      "6\n",
      "5 8 3 10 22 45\n",
      "93\n"
     ]
    }
   ],
   "source": [
    "#User function Template for python3\n",
    "class Solution:\n",
    "    def getSum(self, arr, n):\n",
    "        # Your code goes here\n",
    "        sum = 0\n",
    "\n",
    "        for a in arr:\n",
    "            sum += a\n",
    "            \n",
    "        return sum\n",
    "\n",
    "\n",
    "#{ \n",
    "#  Driver Code Starts\n",
    "#Initial Template for Python 3\n",
    "\n",
    "def main():\n",
    "\n",
    "    T = int(input())\n",
    "\n",
    "    while(T > 0):\n",
    "        n = int(input())\n",
    "        a = [int(x) for x in input().strip().split()]\n",
    "        ob=Solution()\n",
    "        print(ob.getSum(a, n))\n",
    "\n",
    "        T -= 1\n",
    "\n",
    "\n",
    "if __name__ == \"__main__\":\n",
    "    main()\n",
    "# } Driver Code Ends"
   ]
  }
 ],
 "metadata": {
  "kernelspec": {
   "display_name": "Python 3",
   "language": "python",
   "name": "python3"
  },
  "language_info": {
   "codemirror_mode": {
    "name": "ipython",
    "version": 3
   },
   "file_extension": ".py",
   "mimetype": "text/x-python",
   "name": "python",
   "nbconvert_exporter": "python",
   "pygments_lexer": "ipython3",
   "version": "3.8.3"
  }
 },
 "nbformat": 4,
 "nbformat_minor": 4
}
