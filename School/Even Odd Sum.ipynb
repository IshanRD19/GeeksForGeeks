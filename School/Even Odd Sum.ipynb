{
 "cells": [
  {
   "cell_type": "markdown",
   "metadata": {},
   "source": [
    "# EVEN ODD SUM\n",
    "\n",
    "Given an array Arr[] of N integers.Find the sum of values of even and odd index positions separately.\n",
    "\n",
    "### Example 1:\n",
    "\n",
    "#### Input:\n",
    "N=5\n",
    "\n",
    "Arr={1,2,3,4,5}\n",
    "#### Output:\n",
    "9 6\n",
    "#### Explanation:\n",
    "The sum of elements at odd places i.e at 1st,3rd and 5th places are (1+3+5=9). Similarly,the sum of elements at even places i.e. at 2nd and 4th places are (2+4=6).\n",
    "### Example 2:\n",
    "\n",
    "#### Input:\n",
    "N=5\n",
    "\n",
    "Arr={1,1,1,1,1}\n",
    "#### Output:\n",
    "3 2\n",
    "#### Explanation:\n",
    "The sum of elements at odd places is (1+1+1=3).Similarly, the sum of elements at even places is (1+1=2)\n",
    "\n",
    "### Your Task:\n",
    "You don't need to read input or print anything.Your Task is to complete the function EvenOddSum() which takes an integer N and an array Arr as input parameters and returns the sum of elements in odd places and in even places separately.\n",
    " \n",
    "**Expected Time Complexity:** O(N)\n",
    "\n",
    "**Expected Auxillary Space:** O(1)\n",
    "\n",
    "### Constraints:\n",
    "1 <= N <= 10^5\n",
    "\n",
    "0 <= Arr[i] <=10^4, for 0 <= i"
   ]
  },
  {
   "cell_type": "code",
   "execution_count": 1,
   "metadata": {},
   "outputs": [
    {
     "name": "stdout",
     "output_type": "stream",
     "text": [
      "2\n",
      "5\n",
      "1 2 3 4 5\n",
      "9 6\n",
      "5\n",
      "1 1 1 1 1\n",
      "3 2\n"
     ]
    }
   ],
   "source": [
    "# User function Template for python3\n",
    "class Solution:\n",
    "    def EvenOddSum(self,N,Arr):\n",
    "        #code here (return list)\n",
    "        try:\n",
    "            odd_sum = sum(Arr[0::2])\n",
    "        except:\n",
    "            odd_sum = 0\n",
    "\n",
    "        try:\n",
    "            even_sum = sum(Arr[1::2])\n",
    "        except:\n",
    "            even_sum = 0\n",
    "\n",
    "        return [odd_sum, even_sum]\n",
    "\n",
    "#{ \n",
    "#  Driver Code Starts\n",
    "#Initial Template for Python 3\n",
    "if __name__=='__main__':\n",
    "    t=int(input())\n",
    "    for _ in range(t):\n",
    "        N=int(input())\n",
    "        Arr=list(map(int,input().strip().split(' ')))\n",
    "        ob=Solution()\n",
    "        ans=ob.EvenOddSum(N,Arr)\n",
    "        print(ans[0],end=\" \")\n",
    "        print(ans[1])\n",
    "# } Driver Code Ends"
   ]
  }
 ],
 "metadata": {
  "kernelspec": {
   "display_name": "Python 3",
   "language": "python",
   "name": "python3"
  },
  "language_info": {
   "codemirror_mode": {
    "name": "ipython",
    "version": 3
   },
   "file_extension": ".py",
   "mimetype": "text/x-python",
   "name": "python",
   "nbconvert_exporter": "python",
   "pygments_lexer": "ipython3",
   "version": "3.8.3"
  }
 },
 "nbformat": 4,
 "nbformat_minor": 4
}
