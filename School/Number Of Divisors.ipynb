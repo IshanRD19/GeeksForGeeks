{
 "cells": [
  {
   "cell_type": "markdown",
   "metadata": {},
   "source": [
    "# NUMBER OF DIVISORS\n",
    "\n",
    "Given an integer N, find the number of divisors of N that are divisible by 3.\n",
    "\n",
    "### Example 1:\n",
    "\n",
    "#### Input:\n",
    "6\n",
    "#### Output:\n",
    "2\n",
    "#### Explanation:\n",
    "1, 2, 3, 6 are divisors of 6 out of which 3 and 6 are divisible by 3.\n",
    "\n",
    "### Example 2:\n",
    "\n",
    "#### Input:\n",
    "10\n",
    "#### Output:\n",
    "0\n",
    "#### Explanation:\n",
    "1, 2, 5 and 10 are divisors of 10 but none of them are divisible by 3.\n",
    " \n",
    "\n",
    "### Your Task:\n",
    "\n",
    "You don't need to read or print anything. Your task is to complete the function count_divisors() which takes N as input parameter and returns count of divisor which are divisible by 3.\n",
    " \n",
    "**Expected Time Complexity:** O(sqrt(N))\n",
    "\n",
    "**Expected Space Complexity:** O(1)\n",
    "\n",
    "### Constraints:\n",
    "1 <= N <= 10^5"
   ]
  },
  {
   "cell_type": "code",
   "execution_count": 1,
   "metadata": {},
   "outputs": [
    {
     "name": "stdout",
     "output_type": "stream",
     "text": [
      "3\n",
      "6\n",
      "2\n",
      "10\n",
      "0\n",
      "9\n",
      "2\n"
     ]
    }
   ],
   "source": [
    "# User function Template for python3\n",
    "class Solution:\n",
    "    def count_divisors(self, N):\n",
    "        # code here\n",
    "        i = 1\n",
    "        result = 0\n",
    "\n",
    "        while i*i <= N:\n",
    "            \n",
    "            # Check for divisor\n",
    "            if not N % i:\n",
    "                \n",
    "                if not i % 3:\n",
    "                    result += 1\n",
    "\n",
    "                if not (N / i) % 3 and i != (N / i):\n",
    "                    result += 1\n",
    "\n",
    "            i += 1\n",
    "\n",
    "        return result\n",
    "\n",
    "#{ \n",
    "#  Driver Code Starts\n",
    "#Initial Template for Python 3#Back-end complete function Template for Python 3#Initial Template for Python 3\n",
    "\n",
    "if __name__ == '__main__': \n",
    "    t = int (input ())\n",
    "    for _ in range (t):\n",
    "        N = int(input())\n",
    "       \n",
    "\n",
    "        ob = Solution()\n",
    "        print(ob.count_divisors(N))\n",
    "# } Driver Code Ends"
   ]
  }
 ],
 "metadata": {
  "kernelspec": {
   "display_name": "Python 3",
   "language": "python",
   "name": "python3"
  },
  "language_info": {
   "codemirror_mode": {
    "name": "ipython",
    "version": 3
   },
   "file_extension": ".py",
   "mimetype": "text/x-python",
   "name": "python",
   "nbconvert_exporter": "python",
   "pygments_lexer": "ipython3",
   "version": "3.8.3"
  }
 },
 "nbformat": 4,
 "nbformat_minor": 4
}
