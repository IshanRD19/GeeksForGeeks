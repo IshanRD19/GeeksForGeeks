{
 "cells": [
  {
   "cell_type": "markdown",
   "metadata": {},
   "source": [
    "# BINARY REPRESENTATION\n",
    "\n",
    "Write a program to print Binary representation of a given number N.\n",
    "\n",
    "### Example 1:\n",
    "\n",
    "#### Input:\n",
    "N = 2\n",
    "#### Output:\n",
    "000000000000000000000000000010\n",
    "#### Explanation:\n",
    "The binary representation of 2 is '10' but we need to print in 30 bits so append remaining 0's in the left.\n",
    "### Example 2:\n",
    "\n",
    "#### Input:\n",
    "N = 5\n",
    "#### Output:\n",
    "000000000000000000000000000101\n",
    "#### Explanation:\n",
    "The binary representation of 5 is '101'.\n",
    "### Your Task:  \n",
    "You don't need to read input or print anything. Your task is to complete the function getBinaryRep() which takes an Integer N as input parameter and returns a string of size 30 which is the binary representation of N.\n",
    "\n",
    "**Expected Time Complexity:** O(LogN)\n",
    "\n",
    "**Expected Auxiliary Space:** O(1)\n",
    "\n",
    "### Constraints:\n",
    "1 ≤ N ≤ 10^9"
   ]
  },
  {
   "cell_type": "code",
   "execution_count": 1,
   "metadata": {},
   "outputs": [
    {
     "name": "stdout",
     "output_type": "stream",
     "text": [
      "2\n",
      "2\n",
      "000000000000000000000000000010\n",
      "5\n",
      "000000000000000000000000000101\n"
     ]
    }
   ],
   "source": [
    "# User function Template for python3\n",
    "class Solution:\n",
    "    def getBinaryRep(self, n):\n",
    "        # code here\n",
    "        binary_n = bin(n)[2:]\n",
    "        prefix = '0' * (30 - len(binary_n))\n",
    "        return prefix + binary_n \n",
    "\n",
    "#{ \n",
    "#  Driver Code Starts\n",
    "#Initial Template for Python 3\n",
    "\n",
    "if __name__ == '__main__':\n",
    "    T=int(input())\n",
    "    for i in range(T):\n",
    "        n = int(input())\n",
    "        ob = Solution();\n",
    "        ans = ob.getBinaryRep(n)\n",
    "        print(ans)\n",
    "\n",
    "# } Driver Code Ends"
   ]
  }
 ],
 "metadata": {
  "kernelspec": {
   "display_name": "Python 3",
   "language": "python",
   "name": "python3"
  },
  "language_info": {
   "codemirror_mode": {
    "name": "ipython",
    "version": 3
   },
   "file_extension": ".py",
   "mimetype": "text/x-python",
   "name": "python",
   "nbconvert_exporter": "python",
   "pygments_lexer": "ipython3",
   "version": "3.8.3"
  }
 },
 "nbformat": 4,
 "nbformat_minor": 4
}
