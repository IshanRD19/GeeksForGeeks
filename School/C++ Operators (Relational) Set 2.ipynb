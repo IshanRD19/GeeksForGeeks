{
 "cells": [
  {
   "cell_type": "markdown",
   "metadata": {},
   "source": [
    "# C++ OPERATORS (RELATIONAL) | SET 2\n",
    "\n",
    "Given two numbers A and B and task is to check whether A is greater than or less than or equals to B.\n",
    "\n",
    "### Example 1:\n",
    "\n",
    "#### Input:\n",
    "A = 2, B = 5\n",
    "#### Output:\n",
    "2 is less than 5\n",
    "#### Explanation:\n",
    "The output is self-explanatory.\n",
    " \n",
    "\n",
    "### Example 2:\n",
    "\n",
    "#### Input:\n",
    "A = 6, B = 3\n",
    "#### Output:\n",
    "6 is greater than 3\n",
    "#### Explanation:\n",
    "The output is self-explanatory.\n",
    " \n",
    "\n",
    "### Your Task:\n",
    "\n",
    "You don't need to read input or print anything. Your task is to complete the function compareNum() which takes two integers A and B, if\n",
    "\n",
    "If A > B then print \"A is greater than B\" without quotes\n",
    "\n",
    "If A < B then print \"A is less than B\" without quotes\n",
    "\n",
    "if A = B then print \"A is equals to B\" without quotes.\n",
    "\n",
    " \n",
    "\n",
    "**Expected Time Complexity:** O(1)\n",
    "\n",
    "**Expected Auxiliary Space:** O(1)\n",
    "\n",
    "\n",
    "### Constraints:\n",
    "1 <= A <= 10000\n",
    "\n",
    "1 <= B <= 10000"
   ]
  },
  {
   "cell_type": "code",
   "execution_count": 1,
   "metadata": {},
   "outputs": [
    {
     "name": "stdout",
     "output_type": "stream",
     "text": [
      "2\n",
      "2 5\n",
      "2 is less than 5\n",
      "6 3\n",
      "6 is greater than 3\n"
     ]
    }
   ],
   "source": [
    "# User function Template for python3\n",
    "class Solution:\n",
    "    def compareNum (ob, A, B):\n",
    "        # code here \n",
    "        if A > B:\n",
    "            return '{} is greater than {}'.format(A, B)\n",
    "\n",
    "        elif A < B:\n",
    "            return '{} is less than {}'.format(A, B)\n",
    "        \n",
    "        return '{} is equals to {}'.format(A, B)\n",
    "        \n",
    "\n",
    "#{ \n",
    "#  Driver Code Starts\n",
    "#Initial Template for Python 3\n",
    "if __name__ == '__main__': \n",
    "    t = int (input ())\n",
    "    for _ in range (t):\n",
    "        \n",
    "        A,B = map(int,input().strip().split(\" \"))\n",
    "\n",
    "        ob = Solution()\n",
    "        print(ob.compareNum(A,B))\n",
    "# } Driver Code Ends"
   ]
  }
 ],
 "metadata": {
  "kernelspec": {
   "display_name": "Python 3",
   "language": "python",
   "name": "python3"
  },
  "language_info": {
   "codemirror_mode": {
    "name": "ipython",
    "version": 3
   },
   "file_extension": ".py",
   "mimetype": "text/x-python",
   "name": "python",
   "nbconvert_exporter": "python",
   "pygments_lexer": "ipython3",
   "version": "3.8.3"
  }
 },
 "nbformat": 4,
 "nbformat_minor": 4
}
