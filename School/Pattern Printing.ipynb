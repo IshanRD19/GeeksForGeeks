{
 "cells": [
  {
   "cell_type": "markdown",
   "metadata": {},
   "source": [
    "# PATTERN PRINTING\n",
    "\n",
    "Given a number N. The task is to print a series of asterisk(*) from 1 till N terms with increasing order and difference being 1.\n",
    "\n",
    "### Example 1:\n",
    "\n",
    "#### Input:\n",
    "N = 3\n",
    "#### Output:\n",
    "@ @@ @@@ \n",
    "#### Explanation:\n",
    "First, print 1 asterisk then space after that print 2 asterisk and space after that print 3 asterisk now stop as N is 3.\n",
    "### Example 2:\n",
    "\n",
    "#### Input:\n",
    "N = 5\n",
    "#### Output:\n",
    "@ @@ @@@ @@@@ @@@@@\n",
    "#### Explanation:\n",
    "First, print 1 asterisk then space after that print 2 asterisk and space and do this 3 more times.\n",
    "### Your Task:  \n",
    "You don't need to read input. Your task is to complete the function printPattern() which takes an integer N as an input parameter and print the above pattern.\n",
    "\n",
    "**Expected Time Complexity:** O(N^2)\n",
    "\n",
    "**Expected Auxiliary Space:** O(1)\n",
    "\n",
    "### Constraints:\n",
    "1 <= N <= 1000"
   ]
  },
  {
   "cell_type": "code",
   "execution_count": 1,
   "metadata": {},
   "outputs": [
    {
     "name": "stdout",
     "output_type": "stream",
     "text": [
      "2\n",
      "3\n",
      "@ @@ @@@ \n",
      "5\n",
      "@ @@ @@@ @@@@ @@@@@ \n"
     ]
    }
   ],
   "source": [
    "# User function Template for python3\n",
    "class Solution:\n",
    "    def printPattern(self, N):\n",
    "        #code here\n",
    "        for i in range(1, N+1):\n",
    "            print('@' * i, end=' ')\n",
    "        return \n",
    "\n",
    "#{ \n",
    "#  Driver Code Starts\n",
    "#Initial Template for Python 3\n",
    "\n",
    "if __name__ == '__main__': \n",
    "    t = int(input())\n",
    "    for _ in range(t):\n",
    "        N = int(input())\n",
    "        ob = Solution()\n",
    "        ob.printPattern(N)\n",
    "        print()\n",
    "# } Driver Code Ends"
   ]
  }
 ],
 "metadata": {
  "kernelspec": {
   "display_name": "Python 3",
   "language": "python",
   "name": "python3"
  },
  "language_info": {
   "codemirror_mode": {
    "name": "ipython",
    "version": 3
   },
   "file_extension": ".py",
   "mimetype": "text/x-python",
   "name": "python",
   "nbconvert_exporter": "python",
   "pygments_lexer": "ipython3",
   "version": "3.8.3"
  }
 },
 "nbformat": 4,
 "nbformat_minor": 4
}
