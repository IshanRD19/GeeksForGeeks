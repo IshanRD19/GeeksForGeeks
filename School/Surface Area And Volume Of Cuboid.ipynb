{
 "cells": [
  {
   "cell_type": "markdown",
   "metadata": {},
   "source": [
    "# SURFACE AREA AND VOLUME OF CUBOID\n",
    "\n",
    "Given length l, width b and height h of a cuboid. Find the total surface area and volume of cuboid.\n",
    "\n",
    "### Example 1:\n",
    "\n",
    "#### Input:\n",
    "l = 1, b = 2, h = 3\n",
    "#### Output:\n",
    "22 6\n",
    "#### Explanation:\n",
    "Surface area = 2 * (2 * 3 + 3 * 1 + 1 * 2) = 22 and volume = 1 * 2 * 3 = 6\n",
    "### Example 2:\n",
    "\n",
    "#### Input:\n",
    "l = 2, b = 3, h = 5\n",
    "#### Output:\n",
    "62 30\n",
    "#### Explanation:\n",
    "Surface area = 2 * (3 * 5 + 5 * 2 + 2 * 3) = 62 and volume = 2 * 3 * 5 = 30\n",
    "\n",
    "### Your Task:\n",
    "You don't need to read or print anything. Your task is to complete the function find() which takes l, b and h as input parameter and returns a list containing the value of surface area and volume.\n",
    " \n",
    "**Expected Time Complexity:** O(1)\n",
    "\n",
    "**Expected Space Complexity:** O(1)\n",
    "\n",
    "### Costraints:\n",
    "1 <= l, b, h <= 10^6"
   ]
  },
  {
   "cell_type": "code",
   "execution_count": 1,
   "metadata": {},
   "outputs": [
    {
     "name": "stdout",
     "output_type": "stream",
     "text": [
      "2\n",
      "1 2 3\n",
      "22 6 \n",
      "2 3 5\n",
      "62 30 \n"
     ]
    }
   ],
   "source": [
    "# User function Template for python3\n",
    "class Solution:\n",
    "    def find(self, l, b, h):\n",
    "        # Code here\n",
    "        return [2 * (l*b + b*h + l*h), l*b*h]\n",
    "\n",
    "#{ \n",
    "#  Driver Code Starts\n",
    "#Initial Template for Python 3\n",
    "\n",
    "if __name__ == '__main__':\n",
    "    T=int(input())\n",
    "    for i in range(T):\n",
    "        l, b, h = input().split()\n",
    "        l = int(l); b = int(b); h = int(h);\n",
    "        ob = Solution()\n",
    "        ans = ob.find(l, b, h)\n",
    "        for _ in ans:\n",
    "            print(_, end = \" \")\n",
    "        print()\n",
    "# } Driver Code Ends"
   ]
  }
 ],
 "metadata": {
  "kernelspec": {
   "display_name": "Python 3",
   "language": "python",
   "name": "python3"
  },
  "language_info": {
   "codemirror_mode": {
    "name": "ipython",
    "version": 3
   },
   "file_extension": ".py",
   "mimetype": "text/x-python",
   "name": "python",
   "nbconvert_exporter": "python",
   "pygments_lexer": "ipython3",
   "version": "3.8.3"
  }
 },
 "nbformat": 4,
 "nbformat_minor": 4
}
