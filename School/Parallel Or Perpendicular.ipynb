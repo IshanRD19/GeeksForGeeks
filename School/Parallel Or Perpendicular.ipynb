{
 "cells": [
  {
   "cell_type": "markdown",
   "metadata": {},
   "source": [
    "# PARALLEL OR PERPENDICULAR\n",
    "\n",
    "Given two force vectors, find out whether they are parallel, perpendicular or neither. Let the first vector be A = a1 i +a2 j + a3 k and the second vector be B = b1 i + b2 j + b3 k.\n",
    "\n",
    "A.B = a1 * b1 + a2 * b2 + a3 * b3\n",
    "\n",
    "A x B = (a2 * b3 - a3 * b2) i - (a1 * b3 - b1* a3) j + (a1 * b2 - a2 * b1) k\n",
    "\n",
    "|A|^2 = a1^2 + a2^2 + a3^2\n",
    "\n",
    "If A.B = 0, then A and B are perpendicular.\n",
    "\n",
    "If |A X B|^2 = 0, then A and B are parallel.\n",
    "\n",
    "### Example 1:\n",
    "\n",
    "#### Input:\n",
    "A = 3i + 2j + k, B = 6i + 4j + 2k\n",
    "#### Output:\n",
    "1\n",
    "#### Explanation:\n",
    "|A X B|^2 = 0\n",
    "### Example 2:\n",
    "#### Input:\n",
    "A = 4i + 6j + k, B = i - 1j + 2k\n",
    "#### Output:\n",
    "2\n",
    "#### Explanation:\n",
    "A.B = 0\n",
    " \n",
    "\n",
    "### Your Task:\n",
    "You don't need to read or print anything. Your task is to complete the function find() which takes A and B vector as parameter and returns 1 if they are parallel to each other, 2 if they are perpendicular to each other or 0 otherwise. A and B vectors will contain (a1,a2,a3) and (b1,b2,b3) respectively.\n",
    " \n",
    "**Expected Time Complexity:** O(1)\n",
    "\n",
    "**Expected Space Complexity:** O(1)\n",
    "\n",
    "### Constraints:\n",
    "-100 <= Component <= 100"
   ]
  },
  {
   "cell_type": "code",
   "execution_count": 1,
   "metadata": {},
   "outputs": [
    {
     "name": "stdout",
     "output_type": "stream",
     "text": [
      "2\n",
      "3 2 1\n",
      "6 4 2\n",
      "1\n",
      "4 6 1\n",
      "1 -1 2\n",
      "2\n"
     ]
    }
   ],
   "source": [
    "# User function Template for python3\n",
    "class Solution:\n",
    "    def find(self, A, B):\n",
    "        # Code here\n",
    "        \n",
    "        # Perpendicular\n",
    "        if not A[0] * B[0] + A[1] * B[1] + A[2] * B[2]:\n",
    "            return 2\n",
    "\n",
    "        # Parallel\n",
    "        elif((A[1] * B[2] - A[2] * B[1]) ** 2) + ((A[0] * B[2] - A[2] * B[0]) ** 2) + ((A[0] * B[1] - A[1] * B[0]) ** 2) == 0:\n",
    "            return 1\n",
    "        \n",
    "        return 0\n",
    "\n",
    "#{ \n",
    "#  Driver Code Starts\n",
    "#Initial Template for Python 3\n",
    "\n",
    "if __name__ == '__main__':\n",
    "    T=int(input())\n",
    "    for i in range(T):\n",
    "        A = list(map(int, input().split()))\n",
    "        B = list(map(int,input().split()))\n",
    "        ob = Solution()\n",
    "        ans = ob.find(A, B)\n",
    "        print(ans)\n",
    "# } Driver Code Ends"
   ]
  }
 ],
 "metadata": {
  "kernelspec": {
   "display_name": "Python 3",
   "language": "python",
   "name": "python3"
  },
  "language_info": {
   "codemirror_mode": {
    "name": "ipython",
    "version": 3
   },
   "file_extension": ".py",
   "mimetype": "text/x-python",
   "name": "python",
   "nbconvert_exporter": "python",
   "pygments_lexer": "ipython3",
   "version": "3.8.3"
  }
 },
 "nbformat": 4,
 "nbformat_minor": 4
}
