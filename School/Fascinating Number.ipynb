{
 "cells": [
  {
   "cell_type": "markdown",
   "metadata": {},
   "source": [
    "# FASCINATING NUMBER\n",
    "\n",
    "Given a number N. Your task is to check whether it is fascinating or not.\n",
    "Fascinating Number: When a number(should contain 3 digits or more) is multiplied by 2 and 3 ,and when both these products are concatenated with the original number, then it results in all digits from 1 to 9 present exactly once.\n",
    "\n",
    "### Example 1:\n",
    "\n",
    "#### Input: \n",
    "N = 192\n",
    "#### Output: \n",
    "Fascinating\n",
    "#### Explanation: \n",
    "After multiplication with 2 and 3, and concatenating with original number, number will become 192384576 which contains all digits from 1 to 9.\n",
    "### Example 2:\n",
    "\n",
    "#### Input: \n",
    "N = 853\n",
    "#### Output: \n",
    "Not Fascinating\n",
    "#### Explanation: \n",
    "It's not a fascinating number.\n",
    "### Your Task:  \n",
    "You don't need to read input or print anything. Your task is to complete the function fascinating() which takes the integer n parameters and returns boolean denoting the answer.\n",
    "\n",
    "**Expected Time Complexity:** O(1)\n",
    "\n",
    "**Expected Auxiliary Space:** O(1)\n",
    "\n",
    "### Constraints:\n",
    "100 <= N <= 2*10^9"
   ]
  },
  {
   "cell_type": "code",
   "execution_count": 1,
   "metadata": {},
   "outputs": [
    {
     "name": "stdout",
     "output_type": "stream",
     "text": [
      "2\n",
      "192\n",
      "Fascinating\n",
      "853\n",
      "Not Fascinating\n"
     ]
    }
   ],
   "source": [
    "# User function Template for python3\n",
    "class Solution:\n",
    "\n",
    "    def fascinating(self,n):\n",
    "        # code here\n",
    "        concatenation = str(n) + str(2*n) + str(3*n)\n",
    "        \n",
    "        if '0' in concatenation or not (len(list(concatenation)) == len(set(concatenation)) == 9):\n",
    "            return False\n",
    "\n",
    "        return True\n",
    "\n",
    "#{ \n",
    "#  Driver Code Starts\n",
    "#Initial Template for Python 3\n",
    "\n",
    "\n",
    "\n",
    "if __name__ == '__main__':\n",
    "    tc = int(input())\n",
    "    while tc > 0:\n",
    "        n = int(input().strip())\n",
    "        ob = Solution()\n",
    "        ans = ob.fascinating(n)\n",
    "        if ans:\n",
    "            print(\"Fascinating\")\n",
    "        else:\n",
    "            print(\"Not Fascinating\")\n",
    "        tc -= 1\n",
    "\n",
    "# } Driver Code Ends"
   ]
  }
 ],
 "metadata": {
  "kernelspec": {
   "display_name": "Python 3",
   "language": "python",
   "name": "python3"
  },
  "language_info": {
   "codemirror_mode": {
    "name": "ipython",
    "version": 3
   },
   "file_extension": ".py",
   "mimetype": "text/x-python",
   "name": "python",
   "nbconvert_exporter": "python",
   "pygments_lexer": "ipython3",
   "version": "3.8.3"
  }
 },
 "nbformat": 4,
 "nbformat_minor": 4
}
