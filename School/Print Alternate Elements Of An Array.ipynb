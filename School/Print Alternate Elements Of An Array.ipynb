{
 "cells": [
  {
   "cell_type": "markdown",
   "metadata": {},
   "source": [
    "# PRINT ALTERNATE ELEMENTS OF AN ARRAY\n",
    "\n",
    "You are given an array A of size N. You need to print elements of A in alternate order (starting from index 0).\n",
    "\n",
    "### Example 1:\n",
    "#### Input:\n",
    "N = 4\n",
    "\n",
    "A[] = {1, 2, 3, 4}\n",
    "\n",
    "#### Output:\n",
    "1 3\n",
    "\n",
    "### Example 2:\n",
    "#### Input:\n",
    "N = 5\n",
    "\n",
    "A[] = {1, 2, 3, 4, 5}\n",
    "\n",
    "#### Output:\n",
    "1 3 5\n",
    "\n",
    "### Your Task:\n",
    "Since this is a function problem, you just need to complete the provided function void print(int ar[],int n)\n",
    "\n",
    "### Constraints:\n",
    "1 <= N <= 105\n",
    "\n",
    "1 <= Ai <= 105\n",
    "\n",
    "**Expected Time Complexity:** O(n)\n",
    "\n",
    "**Expected Auxiliary Space:** O(1)\n"
   ]
  },
  {
   "cell_type": "code",
   "execution_count": 1,
   "metadata": {},
   "outputs": [
    {
     "name": "stdout",
     "output_type": "stream",
     "text": [
      "1\n",
      "5\n",
      "1 2 3 4 5\n",
      "1 3 5 \n"
     ]
    }
   ],
   "source": [
    "# User function Template for python3\n",
    "\n",
    "# arr is the array\n",
    "# n is the number of elements in array\n",
    "def printAl(arr,n):\n",
    "    # your code here\n",
    "    for i in range(0, len(arr), 2):\n",
    "        print(arr[i], end=' ')\n",
    "    return\n",
    "\n",
    "# { \n",
    "#  Driver Code Starts\n",
    "# Initial Template for Python 3\n",
    "if __name__ == \"__main__\":\n",
    "    t=int(input())\n",
    "    for i in range(t):\n",
    "        n=int(input())\n",
    "        arr=list(map(int,input().split()))\n",
    "        printAl(arr,n)\n",
    "        print()\n",
    "# } Driver Code Ends"
   ]
  }
 ],
 "metadata": {
  "kernelspec": {
   "display_name": "Python 3",
   "language": "python",
   "name": "python3"
  },
  "language_info": {
   "codemirror_mode": {
    "name": "ipython",
    "version": 3
   },
   "file_extension": ".py",
   "mimetype": "text/x-python",
   "name": "python",
   "nbconvert_exporter": "python",
   "pygments_lexer": "ipython3",
   "version": "3.8.3"
  }
 },
 "nbformat": 4,
 "nbformat_minor": 4
}
