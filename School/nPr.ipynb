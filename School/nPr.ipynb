{
 "cells": [
  {
   "cell_type": "markdown",
   "metadata": {},
   "source": [
    "# nPr\n",
    "\n",
    "Write a program to calculate nPr. nPr represents n permutation r and value of nPr is (n!) / (n-r)!.\n",
    "\n",
    "### Example 1:\n",
    "\n",
    "#### Input:\n",
    "n = 2, r = 1\n",
    "#### Output:\n",
    "2\n",
    "#### Explaination:\n",
    "2!/(2-1)! = 2!/1! = (2*1)/1 = 2.\n",
    "### Example 2:\n",
    "\n",
    "#### Input:\n",
    "n = 3, r = 3\n",
    "#### Output:\n",
    "6\n",
    "#### Explaination:\n",
    "3!/(3-3)! = 3!/0! = 6/1 = 6.\n",
    "### Your Task:\n",
    "You do not need to read input or print anything. Your task is to complete the function nPr() which takes n and r as input parameters and returns nPr .\n",
    "\n",
    "**Expected Time Complexity:** O(n)\n",
    "\n",
    "**Expected Auxiliary Space:** O(1)\n",
    "\n",
    "### Constraints:\n",
    "1 ≤ n, r ≤ 20"
   ]
  },
  {
   "cell_type": "code",
   "execution_count": 1,
   "metadata": {},
   "outputs": [
    {
     "name": "stdout",
     "output_type": "stream",
     "text": [
      "2\n",
      "2 1\n",
      "2\n",
      "3 3\n",
      "6\n"
     ]
    }
   ],
   "source": [
    "# User function Template for python3\n",
    "class Solution:\n",
    "    def nPr(self, n, r):\n",
    "        # code here\n",
    "        prod = 1\n",
    "        \n",
    "        for i in range(n, n-r, -1):\n",
    "            prod *= i\n",
    "            \n",
    "        return prod\n",
    "\n",
    "#{ \n",
    "#  Driver Code Starts\n",
    "#Initial Template for Python 3\n",
    "\n",
    "if __name__ == '__main__':\n",
    "    t = int(input())\n",
    "    for _ in range(t):\n",
    "        n, r = [int(x) for x in input().split()]\n",
    "        \n",
    "        ob = Solution()\n",
    "        print(ob.nPr(n, r))\n",
    "# } Driver Code Ends"
   ]
  }
 ],
 "metadata": {
  "kernelspec": {
   "display_name": "Python 3",
   "language": "python",
   "name": "python3"
  },
  "language_info": {
   "codemirror_mode": {
    "name": "ipython",
    "version": 3
   },
   "file_extension": ".py",
   "mimetype": "text/x-python",
   "name": "python",
   "nbconvert_exporter": "python",
   "pygments_lexer": "ipython3",
   "version": "3.8.3"
  }
 },
 "nbformat": 4,
 "nbformat_minor": 4
}
