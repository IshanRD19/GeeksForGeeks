{
 "cells": [
  {
   "cell_type": "markdown",
   "metadata": {},
   "source": [
    "# MULTIPLY ARRAY\n",
    "\n",
    "Calculate the product of all the elements in an array.\n",
    "\n",
    "### Example 1:\n",
    "\n",
    "#### Input:\n",
    "5\n",
    "\n",
    "1 2 3 4 5\n",
    "#### Output:\n",
    "120\n",
    " \n",
    "\n",
    "### Example 2:\n",
    "\n",
    "#### Input:\n",
    "10\n",
    "\n",
    "5 5 5 5 5 5 5 5 5 5\n",
    "\n",
    "#### Output:\n",
    "9765625\n",
    " \n",
    "\n",
    "### Your Task:  \n",
    "You don't need to read input or print anything. Your task is to complete the function product() which takes the array Arr[] and its size N as inputs and returns the product of all elements.\n",
    "\n",
    "**Expected Time Complexity:** O(N)\n",
    "\n",
    "**Expected Auxiliary Space:** O(1)\n",
    "\n",
    "### Constraints:\n",
    "1  ≤  N  ≤  10\n",
    "\n",
    "1  ≤  A[i]  ≤  5"
   ]
  },
  {
   "cell_type": "code",
   "execution_count": 1,
   "metadata": {},
   "outputs": [
    {
     "name": "stdout",
     "output_type": "stream",
     "text": [
      "2\n",
      "5\n",
      "1 2 3 4 5\n",
      "120\n",
      "10\n",
      "5 5 5 5 5 5 5 5 5 5\n",
      "9765625\n"
     ]
    }
   ],
   "source": [
    "# User function Template for python3\n",
    "class Solution:\n",
    "    def longest(self, arr, n):\n",
    "        #Code Here\n",
    "        result = 1\n",
    "        \n",
    "        for i in arr:\n",
    "            result *= i\n",
    "            \n",
    "        return result\n",
    "\n",
    "# { \n",
    "# Driver Code Starts.\n",
    "def main():\n",
    "    T = int(input())\n",
    "    while(T > 0):\n",
    "        n = int(input())\n",
    "        arr = [int(x) for x in input().strip().split()]\n",
    "        ob = Solution()\n",
    "        print(ob.longest(arr, n))\n",
    "        T -= 1\n",
    "if __name__ == \"__main__\":\n",
    "    main()\n",
    "# } Driver Code Ends"
   ]
  }
 ],
 "metadata": {
  "kernelspec": {
   "display_name": "Python 3",
   "language": "python",
   "name": "python3"
  },
  "language_info": {
   "codemirror_mode": {
    "name": "ipython",
    "version": 3
   },
   "file_extension": ".py",
   "mimetype": "text/x-python",
   "name": "python",
   "nbconvert_exporter": "python",
   "pygments_lexer": "ipython3",
   "version": "3.8.3"
  }
 },
 "nbformat": 4,
 "nbformat_minor": 4
}
