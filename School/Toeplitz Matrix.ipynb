{
 "cells": [
  {
   "cell_type": "markdown",
   "metadata": {},
   "source": [
    "# TOEPLITZ MATRIX\n",
    "\n",
    "A Toeplitz (or diagonal-constant) matrix is a matrix in which each descending diagonal from left to right is constant, i.e., all elements in a diagonal are same.\n",
    "Given a matrix A of order N X M your task is to complete the function isToeplitz which returns true if the matrix is Toeplitz otherwise returns false.\n",
    "\n",
    "### Example 1:\n",
    "\n",
    "#### Input:\n",
    "3 3 \n",
    "\n",
    "6 7 8 4 6 7 1 4 6 \n",
    "#### Output:\n",
    "1\n",
    "#### Explanation:\n",
    "The test case represents a 3x3 matrix which looks like \n",
    "\n",
    "6 7 8 \n",
    "\n",
    "4 6 7 \n",
    "\n",
    "1 4 6\n",
    "#### Output:\n",
    "1(True) as values in all diagonals are same.\n",
    "### Example 2:\n",
    "\n",
    "#### Input:\n",
    "2 3 \n",
    "1 2 3 4 5 6\n",
    "#### Output: 0\n",
    "#### Explanation: \n",
    "Matrix of order 2x3 will be \n",
    "\n",
    "1 2 3\n",
    "\n",
    "4 5 6\n",
    "#### Output:\n",
    "0(False) as values in all diagonals are not same.\n",
    "### Your task:\n",
    "You don't need to read input or print anything. Your task is to complete the function isToepliz() which takes the matrix and size of matrix as input parameters and returns 1 if the matrix is a Toepliz matrix , otherwise return 0. \n",
    "\n",
    "### Constraints:\n",
    "\n",
    "1 <= N,M <= 40\n",
    "\n",
    "1 <= A[i][j] <= 100\n",
    "\n",
    "1 <= i <= N,1 <= j <= M\n",
    "\n",
    "**Expected time complexity:** O(nxn)\n",
    "\n",
    "**Expected space complexity:** O(1)"
   ]
  },
  {
   "cell_type": "code",
   "execution_count": 1,
   "metadata": {},
   "outputs": [
    {
     "name": "stdout",
     "output_type": "stream",
     "text": [
      "2\n",
      "3 3\n",
      "6 7 8 4 6 7 1 4 6\n",
      "1\n",
      "2 3\n",
      "1 2 3 4 5 6\n",
      "0\n"
     ]
    }
   ],
   "source": [
    "# You are required to complete this method\n",
    "# Return True/False or 1/0\n",
    "def isToepliz(lis, n, m):\n",
    "    #code here\n",
    "    for row in range(n-1):\n",
    "        for col in range(m-1):\n",
    "\n",
    "            # Check if the diagonal elements are constant or not\n",
    "            if lis[row][col] != lis[row+1][col+1]:\n",
    "                return False\n",
    "\n",
    "    return True\n",
    "            \n",
    "\n",
    "#{ \n",
    "#  Driver Code Starts\n",
    "# Your code goes here\n",
    "if __name__=='__main__':\n",
    "    t = int(input())\n",
    "    for i in range(t):\n",
    "        n,m = list(map(int, input().strip().split()))\n",
    "        arr = list(map(int, input().strip().split()))\n",
    "        matrix = [[0 for i in range(m)]for j in range(n)]\n",
    "        k=0\n",
    "        for i in range(n):\n",
    "            for j in range(m):\n",
    "                matrix[i][j] = arr[k]\n",
    "                k+=1\n",
    "        if isToepliz(matrix, n, m):\n",
    "            print(1)\n",
    "        else:\n",
    "            print(0)\n",
    "# Contributed by: Harshit Sidhwa\n",
    "# } Driver Code Ends"
   ]
  }
 ],
 "metadata": {
  "kernelspec": {
   "display_name": "Python 3",
   "language": "python",
   "name": "python3"
  },
  "language_info": {
   "codemirror_mode": {
    "name": "ipython",
    "version": 3
   },
   "file_extension": ".py",
   "mimetype": "text/x-python",
   "name": "python",
   "nbconvert_exporter": "python",
   "pygments_lexer": "ipython3",
   "version": "3.8.3"
  }
 },
 "nbformat": 4,
 "nbformat_minor": 4
}
