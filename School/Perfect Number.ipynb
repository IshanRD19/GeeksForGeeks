{
 "cells": [
  {
   "cell_type": "markdown",
   "metadata": {},
   "source": [
    "# PERFECT NUMBER\n",
    "\n",
    "Given a number N. Check if it is perfect or not. A number is perfect if sum of factorial of its digit is equal to the given number.\n",
    "\n",
    "### Example 1:\n",
    "\n",
    "#### Input:\n",
    "N = 23\n",
    "#### Output:\n",
    "0\n",
    "#### Explanation:\n",
    "The sum of factorials of digits of 23 is 2! + 3! = 2 + 6 = 8 which is not equal to 23. Thus, answer is 0.\n",
    "### Example 2:\n",
    "\n",
    "#### Input:\n",
    "N = 145\n",
    "#### Output:\n",
    "1\n",
    "#### Explanation:\n",
    "The sum of factorials of digits of 145 is 1! + 4! + 5! = 1 + 24 + 120 = 145 which is equal to 145.Thus, answer is 1.\n",
    "\n",
    "### Your Task:\n",
    "You don't need to read input or print anything.Your task is to complete the function isPerfect() which takes a number N as input parameter and returns 1 if N is perfect.Otherwise, it returns 0.\n",
    "\n",
    "**Expected Time Complexity:** O(Log10N)\n",
    "**Expected Auxillary Space:** O(constant)\n",
    "\n",
    "### Constraints:\n",
    "1<=N<=109"
   ]
  },
  {
   "cell_type": "code",
   "execution_count": 1,
   "metadata": {},
   "outputs": [
    {
     "name": "stdout",
     "output_type": "stream",
     "text": [
      "2\n",
      "23\n",
      "0\n",
      "145\n",
      "1\n"
     ]
    }
   ],
   "source": [
    "# User function Template for python3\n",
    "class Solution:\n",
    "    def isPerfect(self,N):\n",
    "        #code here\n",
    "        digits = [int(d) for d in str(N)]\n",
    "        sum_of_digit_factorial = 0\n",
    "        \n",
    "        for digit in digits:\n",
    "            factorial = 1\n",
    "\n",
    "            while digit > 1:\n",
    "                factorial *= digit\n",
    "                digit -= 1\n",
    "\n",
    "            sum_of_digit_factorial += factorial\n",
    "\n",
    "        if N == sum_of_digit_factorial:\n",
    "            return 1\n",
    "        \n",
    "        return 0\n",
    "        \n",
    "#{ \n",
    "#  Driver Code Starts\n",
    "#Initial Template for Python 3\n",
    "\n",
    "if __name__=='__main__':\n",
    "    t=int(input())\n",
    "    for _ in range(t):\n",
    "        N=int(input())\n",
    "        ob=Solution()\n",
    "        print(ob.isPerfect(N))   \n",
    "# } Driver Code Ends"
   ]
  }
 ],
 "metadata": {
  "kernelspec": {
   "display_name": "Python 3",
   "language": "python",
   "name": "python3"
  },
  "language_info": {
   "codemirror_mode": {
    "name": "ipython",
    "version": 3
   },
   "file_extension": ".py",
   "mimetype": "text/x-python",
   "name": "python",
   "nbconvert_exporter": "python",
   "pygments_lexer": "ipython3",
   "version": "3.8.3"
  }
 },
 "nbformat": 4,
 "nbformat_minor": 4
}
