{
 "cells": [
  {
   "cell_type": "markdown",
   "metadata": {},
   "source": [
    "# C++ IF-ELSE (DECISION MAKING)\n",
    "\n",
    "Given an integer N. Your task is to check if the integer is greater than, less than or equal to 5.\n",
    "If the integer is greater than 5, then print \"Greater than 5\" (without quotes).\n",
    "If the integer is less than 5, then print \"Less than 5\".\n",
    "If the integer is equal to 5, then print \"Equal to 5\".\n",
    "\n",
    "### Example 1:\n",
    "\n",
    "#### Input:\n",
    "N = 8\n",
    "#### Output:\n",
    "Greater than 5\n",
    " \n",
    "\n",
    "### Example 2:\n",
    "\n",
    "#### Input:\n",
    "N = 4\n",
    "#### Output:\n",
    "Less than 5\n",
    " \n",
    "\n",
    "### Your Task:\n",
    "\n",
    "You don't need to read input or print anything. Your task is to complete the function compareFive() which takes the number N and returns \"Greater than 5\" if the integer is greater than 5 or \"Less than 5\" if the integer is less than 5 otherwise print \"Equal to 5\" if the integer equals to 5.\n",
    "\n",
    "**Expected Time Complexity:** O(1)\n",
    "\n",
    "**Expected Auxiliary Space:** O(1)\n",
    "\n",
    "### Constraints:\n",
    "1 <= N <= 100000"
   ]
  },
  {
   "cell_type": "code",
   "execution_count": 1,
   "metadata": {},
   "outputs": [
    {
     "name": "stdout",
     "output_type": "stream",
     "text": [
      "2\n",
      "8\n",
      "Greater than 5\n",
      "4\n",
      "Less than 5\n"
     ]
    }
   ],
   "source": [
    "# User function Template for python3\n",
    "class Solution:\n",
    "    def compareFive (ob,N):\n",
    "        # code here \n",
    "        if N > 5:\n",
    "            return \"Greater than 5\"\n",
    "        \n",
    "        elif N < 5:\n",
    "            return \"Less than 5\"\n",
    "\n",
    "        return \"Equal to 5\"\n",
    "            \n",
    "        \n",
    "\n",
    "#{ \n",
    "#  Driver Code Starts\n",
    "#Initial Template for Python 3\n",
    "if __name__ == '__main__': \n",
    "    t = int (input ())\n",
    "    for _ in range (t):\n",
    "        \n",
    "        N=int(input())\n",
    "\n",
    "        ob = Solution()\n",
    "        print(ob.compareFive(N))\n",
    "# } Driver Code Ends"
   ]
  }
 ],
 "metadata": {
  "kernelspec": {
   "display_name": "Python 3",
   "language": "python",
   "name": "python3"
  },
  "language_info": {
   "codemirror_mode": {
    "name": "ipython",
    "version": 3
   },
   "file_extension": ".py",
   "mimetype": "text/x-python",
   "name": "python",
   "nbconvert_exporter": "python",
   "pygments_lexer": "ipython3",
   "version": "3.8.3"
  }
 },
 "nbformat": 4,
 "nbformat_minor": 4
}
