{
 "cells": [
  {
   "cell_type": "markdown",
   "metadata": {},
   "source": [
    "# REVERSE DIGITS\n",
    "\n",
    "Given N,  reverse the digits of N.\n",
    "\n",
    "### Example 1:\n",
    "\n",
    "#### Input:\n",
    "200\n",
    "#### Output:\n",
    "2\n",
    "#### Explanation:\n",
    "By reversing the digts of number, number will change into 2.\n",
    "### Example 2:\n",
    "\n",
    "#### Input:\n",
    "122\n",
    "#### Output:\n",
    "221\n",
    "#### Explanation:\n",
    "By reversing the digits of number, number will change into 221.\n",
    " \n",
    "\n",
    "### Your Task:\n",
    "You don't need to read or print anything. Your task is to complete the function reverse_digit() which takes N as input parameter and returns the reversed number.\n",
    " \n",
    "\n",
    "**Expected Time Complexity:** O(Log(N))\n",
    "\n",
    "**Expected Space Complexity:** O(1)\n",
    " \n",
    "\n",
    "### Constraints:\n",
    "1 <= N <= 10^15"
   ]
  },
  {
   "cell_type": "code",
   "execution_count": 1,
   "metadata": {},
   "outputs": [
    {
     "name": "stdout",
     "output_type": "stream",
     "text": [
      "2\n",
      "200\n",
      "2\n",
      "122\n",
      "221\n"
     ]
    }
   ],
   "source": [
    "# User function Template for python3\n",
    "class Solution:\n",
    "    def reverse_digit(self, n):\n",
    "        # Code here\n",
    "        digits = [d for d in str(n)]\n",
    "        digits.reverse()\n",
    "        return int(''.join(digits))\n",
    "\n",
    "#{ \n",
    "#  Driver Code Starts\n",
    "#Initial Template for Python 3\n",
    "\n",
    "if __name__ == '__main__':\n",
    "    T=int(input())\n",
    "    for i in range(T):\n",
    "        n = int(input())\n",
    "        ob = Solution();\n",
    "        ans = ob.reverse_digit(n)\n",
    "        print(ans)\n",
    "# } Driver Code Ends"
   ]
  }
 ],
 "metadata": {
  "kernelspec": {
   "display_name": "Python 3",
   "language": "python",
   "name": "python3"
  },
  "language_info": {
   "codemirror_mode": {
    "name": "ipython",
    "version": 3
   },
   "file_extension": ".py",
   "mimetype": "text/x-python",
   "name": "python",
   "nbconvert_exporter": "python",
   "pygments_lexer": "ipython3",
   "version": "3.8.3"
  }
 },
 "nbformat": 4,
 "nbformat_minor": 4
}
