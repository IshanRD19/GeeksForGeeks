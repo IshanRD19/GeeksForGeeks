{
 "cells": [
  {
   "cell_type": "markdown",
   "metadata": {},
   "source": [
    "# FIND THE MEDIAN\n",
    "\n",
    "Given an array arr[] of N integers, calculate the median\n",
    "\n",
    "### Example 1:\n",
    "\n",
    "#### Input:\n",
    "N = 5\n",
    "\n",
    "arr[] = 90 100 78 89 67\n",
    "#### Output: \n",
    "89\n",
    "#### Explanation:\n",
    "After sorting the array middle element is the median \n",
    "\n",
    "### Example 2:\n",
    "\n",
    "#### Input:\n",
    "N = 4\n",
    "\n",
    "arr[] = 56 67 30 79\n",
    "#### Output:\n",
    "61\n",
    "#### Explanation:\n",
    "In case of even number of elements, average of two middle elements is the median.\n",
    "\n",
    "### Your Task:\n",
    "You don't need to read or print anything. Your task is to complete the function find_median() which takes the array as input parameter and returns the floor value of the median.\n",
    " \n",
    "\n",
    "**Expected Time Complexity:** O(n * log(n))\n",
    "\n",
    "**Expected Space Complexity:** O(1)\n",
    " \n",
    "\n",
    "### Constraints:\n",
    "1 <= Length of Array <= 100\n",
    "1 <= Elements of Array <= 100"
   ]
  },
  {
   "cell_type": "code",
   "execution_count": 1,
   "metadata": {},
   "outputs": [
    {
     "name": "stdout",
     "output_type": "stream",
     "text": [
      "2\n",
      "5\n",
      "90 100 78 89 67\n",
      "89\n",
      "4\n",
      "56 67 30 79\n",
      "61\n"
     ]
    }
   ],
   "source": [
    "# User function Template for python3\n",
    "class Solution:\n",
    "    def find_median(self, v):\n",
    "        # Code here\n",
    "        size = len(v)\n",
    "        v.sort()\n",
    "        \n",
    "        if size % 2:\n",
    "            return v[size // 2]\n",
    "        \n",
    "        return (v[(size // 2) - 1] + v[size // 2]) // 2\n",
    "\n",
    "\n",
    "#{ \n",
    "#  Driver Code Starts\n",
    "#Initial Template for Python 3\n",
    "\n",
    "if __name__ == '__main__':\n",
    "    T = int(input())\n",
    "    for i in range(T):\n",
    "        n = int(input())\n",
    "        v = list(map(int,input().split())) \n",
    "        ob = Solution();\n",
    "        ans = ob.find_median(v)\n",
    "        print(ans)\n",
    "# } Driver Code Ends"
   ]
  }
 ],
 "metadata": {
  "kernelspec": {
   "display_name": "Python 3",
   "language": "python",
   "name": "python3"
  },
  "language_info": {
   "codemirror_mode": {
    "name": "ipython",
    "version": 3
   },
   "file_extension": ".py",
   "mimetype": "text/x-python",
   "name": "python",
   "nbconvert_exporter": "python",
   "pygments_lexer": "ipython3",
   "version": "3.8.3"
  }
 },
 "nbformat": 4,
 "nbformat_minor": 4
}
