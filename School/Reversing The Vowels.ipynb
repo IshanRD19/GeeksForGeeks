{
 "cells": [
  {
   "cell_type": "markdown",
   "metadata": {},
   "source": [
    "# REVERSING THE VOWELS\n",
    "\n",
    "Given a string consisting of lowercase english alphabets, reverse only the vowels present in it and print the resulting string.\n",
    "\n",
    "### Example 1:\n",
    "\n",
    "#### Input:\n",
    "S = \"geeksforgeeks\"\n",
    "#### Output:\n",
    "geeksforgeeks\n",
    "#### Explanation: \n",
    "The vowels are: e, e, o, e, e. Reverse of these is also e, e, o, e, e.\n",
    "\n",
    "### Example 2:\n",
    "\n",
    "#### Input: \n",
    "S = \"practice\"\n",
    "#### Output:\n",
    "prectica\n",
    "#### Explanation:\n",
    "The vowels are a, i, e. Reverse of these is e, i, a.\n",
    " \n",
    "\n",
    "### Example 3:\n",
    "\n",
    "#### Input: \n",
    "S = \"bcdfg\"\n",
    "#### Output:\n",
    "bcdfg\n",
    "#### Explanation:\n",
    "There are no vowels in S.\n",
    "\n",
    "### Your Task:\n",
    "You don't need to read input or print anything. Your task is to complete the function modify() which takes the string S as input and returns the resultant string by reversing only the vowels present in S.\n",
    "\n",
    "**Expected Time Complexity:** O(|S|).\n",
    "\n",
    "**Expected Auxiliary Space:** O(|S|).\n",
    "\n",
    "### Constraints:\n",
    "1<=|S|<=10^5"
   ]
  },
  {
   "cell_type": "code",
   "execution_count": 1,
   "metadata": {},
   "outputs": [
    {
     "name": "stdout",
     "output_type": "stream",
     "text": [
      "3\n",
      "geeksforgeeks\n",
      "geeksforgeeks\n",
      "practice\n",
      "prectica\n",
      "bcdfg\n",
      "bcdfg\n"
     ]
    }
   ],
   "source": [
    "# User function Template for python3\n",
    "class Solution:\n",
    "    def modify(self, s):\n",
    "        # code here\n",
    "        indices, vowels = [], []\n",
    "        chars = list(s)\n",
    "        \n",
    "        # Store all the positions in consideration\n",
    "        for i in range(len(chars)):\n",
    "            if s[i] in ['a', 'e', 'i', 'o', 'u']:\n",
    "                indices.append(i)\n",
    "                vowels.append(s[i])\n",
    "\n",
    "        vowels.reverse()\n",
    "\n",
    "        # Reverse the vowels in stored positions\n",
    "        for i in indices:\n",
    "            chars[i] = vowels.pop(0) \n",
    "        \n",
    "        return ''.join(chars) \n",
    "        \n",
    "\n",
    "#{ \n",
    "#  Driver Code Starts\n",
    "#Initial Template for Python 3\n",
    "\n",
    "if __name__ == '__main__':\n",
    "    t = int(input())\n",
    "    for _ in range(t):\n",
    "        s = input().strip()\n",
    "        ob = Solution()\n",
    "        ans = ob.modify(s)\n",
    "        print(ans)\n",
    "# } Driver Code Ends"
   ]
  }
 ],
 "metadata": {
  "kernelspec": {
   "display_name": "Python 3",
   "language": "python",
   "name": "python3"
  },
  "language_info": {
   "codemirror_mode": {
    "name": "ipython",
    "version": 3
   },
   "file_extension": ".py",
   "mimetype": "text/x-python",
   "name": "python",
   "nbconvert_exporter": "python",
   "pygments_lexer": "ipython3",
   "version": "3.8.3"
  }
 },
 "nbformat": 4,
 "nbformat_minor": 4
}
