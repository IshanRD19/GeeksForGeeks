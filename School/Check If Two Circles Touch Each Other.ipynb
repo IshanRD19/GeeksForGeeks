{
 "cells": [
  {
   "cell_type": "markdown",
   "metadata": {},
   "source": [
    "# CHECK IF TWO CIRCLES TOUCH EACH OTHER\n",
    "\n",
    "Given two circles C1 of radius R1 and C2 of radius R2,centered at (X1,Y1) and (X2,Y2) respectively.Find out whether they touch(at one or more than one points).\n",
    "\n",
    "### Example 1:\n",
    "\n",
    "#### Input:\n",
    "X1=3\n",
    "\n",
    "Y1=4\n",
    "\n",
    "R1=5\n",
    "\n",
    "X2=14\n",
    "\n",
    "Y2=18\n",
    "\n",
    "R2=8\n",
    "\n",
    "#### Output:\n",
    "0\n",
    "#### Explanation:\n",
    "The circles centred at (3,4) and (14,18) and having radii 5 and 8 respectively do not touch each other.\n",
    "### Example 2:\n",
    "#### Input:\n",
    "X1=3\n",
    "\n",
    "Y1=4\n",
    "\n",
    "R1=5\n",
    "\n",
    "X2=14\n",
    "\n",
    "Y2=18\n",
    "\n",
    "R2=18\n",
    "#### Output:\n",
    "1\n",
    "#### Explanation:\n",
    "The circles centred at (3,4) and (14,18) and having radii 5 and 18 respectively touch each other at two points.\n",
    "\n",
    "### Your Task:\n",
    "You don't need to read input or print anything.Your Task is to complete the function circleTouch() which takes 6 integers X1,Y1,R1,X2,Y2 and R2 as input parameters and returns 0 if the circle does not touch each other at all.Otherwise it returns 1.\n",
    "\n",
    "\n",
    "Expected Time Complexity:O(1)\n",
    "Expected Auxillary Space:O(1)\n",
    "\n",
    "\n",
    "### Constraints:\n",
    "-10^4 <= X1, Y1, X2, Y2 <= 10^4\n",
    "\n",
    "1 <= R1, R2 <= 10^4"
   ]
  },
  {
   "cell_type": "code",
   "execution_count": 1,
   "metadata": {},
   "outputs": [
    {
     "name": "stdout",
     "output_type": "stream",
     "text": [
      "2\n",
      "3 4 5 14 18 8\n",
      "0\n",
      "3 4 5 14 18 18\n",
      "1\n"
     ]
    }
   ],
   "source": [
    "# User function Template for python3\n",
    "class Solution:\n",
    "    def circleTouch(self,X1,Y1,R1,X2,Y2,R2):\n",
    "        #code here\n",
    "        centre_distance = (((X2 - X1) ** 2) + ((Y2 - Y1) ** 2)) ** 0.5\n",
    "        return 1 if centre_distance <= (R1 + R2) else 0\n",
    "\n",
    "#{ \n",
    "#  Driver Code Starts\n",
    "#Initial Template for Python 3\n",
    "\n",
    "if __name__=='__main__':\n",
    "    t=int(input())\n",
    "    for _ in range(t):\n",
    "        X1,Y1,R1,X2,Y2,R2=map(int,input().strip().split(' '))\n",
    "        ob=Solution()\n",
    "        print(ob.circleTouch(X1,Y1,R1,X2,Y2,R2))\n",
    "# } Driver Code Ends"
   ]
  }
 ],
 "metadata": {
  "kernelspec": {
   "display_name": "Python 3",
   "language": "python",
   "name": "python3"
  },
  "language_info": {
   "codemirror_mode": {
    "name": "ipython",
    "version": 3
   },
   "file_extension": ".py",
   "mimetype": "text/x-python",
   "name": "python",
   "nbconvert_exporter": "python",
   "pygments_lexer": "ipython3",
   "version": "3.8.3"
  }
 },
 "nbformat": 4,
 "nbformat_minor": 4
}
