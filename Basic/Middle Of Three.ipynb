{
 "cells": [
  {
   "cell_type": "markdown",
   "metadata": {},
   "source": [
    "# MIDDLE OF THREE\n",
    "\n",
    "Given three distinct numbers A, B and C. Find the number with value in middle (Try to do it with minimum comparisons).\n",
    "\n",
    "### Example 1:\n",
    "\n",
    "#### Input:\n",
    "A = 978, B = 518, C = 300\n",
    "#### Output:\n",
    "518\n",
    "#### Explanation:\n",
    "Since 518>300 and 518<978, so \n",
    "518 is the middle element.\n",
    "\n",
    "### Example 2:\n",
    "\n",
    "#### Input:\n",
    "A = 162, B = 934, C = 200\n",
    "#### Output:\n",
    "200\n",
    "#### Exaplanation:\n",
    "Since 200>162 && 200<934,\n",
    "So, 200 is the middle element.\n",
    "\n",
    "### Your Task:\n",
    "You don't need to read input or print anything.Your task is to complete the function middle() which takes three integers A,B and C as input parameters and returns the number which has middle value.\n",
    "\n",
    "**Expected Time Complexity:** O(1)\n",
    "\n",
    "**Expected Auxillary Space:** O(1)\n",
    "\n",
    "### Constraints:\n",
    "1 <= A, B, C <= 10^9\n",
    "\n",
    "A,B,C are distinct. "
   ]
  },
  {
   "cell_type": "code",
   "execution_count": 1,
   "metadata": {},
   "outputs": [
    {
     "name": "stdout",
     "output_type": "stream",
     "text": [
      "518\n",
      "200\n"
     ]
    }
   ],
   "source": [
    "# User function Template for python3\n",
    "class Solution:\n",
    "    def middle(self,A,B,C):\n",
    "        #code here\n",
    "        if A < B:\n",
    "            if A > C:\n",
    "                return A\n",
    "            elif B < C:\n",
    "                return B\n",
    "\n",
    "        else:\n",
    "            if A < C:\n",
    "                return A\n",
    "            elif B > C:\n",
    "                return B\n",
    "\n",
    "        return C\n",
    "\n",
    "# { \n",
    "# Driver Code Starts\n",
    "# Initial Template for Python 3\n",
    "if __name__=='__main__':\n",
    "    t=int(input())\n",
    "    for _ in range(t):\n",
    "        A,B,C=map(int,input().strip().split())\n",
    "        ob=Solution()\n",
    "        print(ob.middle(A,B,C))\n",
    "# } Driver Code Ends"
   ]
  }
 ],
 "metadata": {
  "kernelspec": {
   "display_name": "Python 3.10.6 64-bit",
   "language": "python",
   "name": "python3"
  },
  "language_info": {
   "codemirror_mode": {
    "name": "ipython",
    "version": 3
   },
   "file_extension": ".py",
   "mimetype": "text/x-python",
   "name": "python",
   "nbconvert_exporter": "python",
   "pygments_lexer": "ipython3",
   "version": "3.10.6"
  },
  "orig_nbformat": 4,
  "vscode": {
   "interpreter": {
    "hash": "26de051ba29f2982a8de78e945f0abaf191376122a1563185a90213a26c5da77"
   }
  }
 },
 "nbformat": 4,
 "nbformat_minor": 2
}
