{
 "cells": [
  {
   "cell_type": "markdown",
   "metadata": {},
   "source": [
    "# PRODUCT OF MAXIMUM IN FIRST ARRAY AND MINIMUM IN SECOND ARRAY\n",
    "\n",
    "Given two arrays of A and B respectively of sizes N1 and N2, the task is to calculate the product of the maximum element of the first array and minimum element of the second array.\n",
    "\n",
    "### Example 1:\n",
    "\n",
    "#### Input: \n",
    "A[] = {5, 7, 9, 3, 6, 2}, \n",
    "        B[] = {1, 2, 6, -1, 0, 9}\n",
    "#### Output : \n",
    "-9\n",
    "### Explanation:\n",
    "The first array is 5 7 9 3 6 2. \n",
    "The max element among these elements is 9.\n",
    "The second array is 1 2 6 -1 0 9.\n",
    "The min element among these elements is -1.\n",
    "The product of 9 and -1 is 9*-1=-9.\n",
    "\n",
    "### Example 2:\n",
    "\n",
    "#### Input : \n",
    "A[] = {0, 0, 0, 0}, \n",
    "           B[] = {1, -1, 2}\n",
    "#### Output : \n",
    "0\n",
    "\n",
    "### Your Task:\n",
    "This is a function problem. The input is already taken care of by the driver code. You only need to complete the function find_multiplication() that takes an array of integer (A), another array of integer (B), size of array A(n), size of array B(m) and return the product of the max element of the first array and the minimum element of the second array. The driver code takes care of the printing.\n",
    "\n",
    "**Expected Time Complexity:** O(N + M).\n",
    "\n",
    "**Expected Auxiliary Space:** O(1).\n",
    "\n",
    "### Output:\n",
    "For each test case, output the product of the max element of the first array and the minimum element of the second array.\n",
    "\n",
    "### Constraints:\n",
    "1 ≤ N, M ≤ 10^6\n",
    "\n",
    "-10^8 ≤ Ai, Bi ≤ 10^8"
   ]
  },
  {
   "cell_type": "code",
   "execution_count": null,
   "metadata": {},
   "outputs": [],
   "source": [
    "# User function Template for python3\n",
    "class Solution:\n",
    "    def find_multiplication (self, arr, brr, n, m) : \n",
    "        #Complete the function\n",
    "        return max(arr) * min(brr)\n",
    "\n",
    "# { \n",
    "# Driver Code Starts\n",
    "# Initial Template for Python 3\n",
    "\n",
    "for _ in range(0,int(input())):\n",
    "    n = int(input())\n",
    "    arr = list(map(int,input().strip().split()))\n",
    "    m = int(input())\n",
    "    brr = list(map(int,input().strip().split()))\n",
    "    ob=Solution()\n",
    "    res = ob.find_multiplication(arr, brr, n, m)\n",
    "    print(res)\n",
    "# } Driver Code Ends"
   ]
  }
 ],
 "metadata": {
  "language_info": {
   "name": "python"
  },
  "orig_nbformat": 4
 },
 "nbformat": 4,
 "nbformat_minor": 2
}
