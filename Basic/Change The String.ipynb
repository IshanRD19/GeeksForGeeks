{
 "cells": [
  {
   "cell_type": "markdown",
   "metadata": {},
   "source": [
    "# CHANGE THE STRING\n",
    "\n",
    "Given a string S, the task is to change the complete string to Uppercase or Lowercase depending upon the case for the first character.\n",
    "\n",
    "### Example 1:\n",
    "\n",
    "#### Input:\n",
    "S = \"abCD\"\n",
    "#### Output: \n",
    "abcd\n",
    "#### Explanation: \n",
    "The first letter (a) is \n",
    "lowercase. Hence, the complete string\n",
    "is made lowercase.\n",
    "\n",
    "### Example 2:\n",
    "\n",
    "#### Input: \n",
    "S = \"Abcd\"\n",
    "#### Output: \n",
    "ABCD\n",
    "#### Explanation: \n",
    "The first letter (A) is\n",
    "uppercase. Hence, the complete string\n",
    "is made uppercase.\n",
    "\n",
    "### Your Task:\n",
    "You don't need to read input or print anything. Your task is to complete the function modify() which takes the string S as input and returns the resultant string with stated modifications.\n",
    "\n",
    "**Expected Time Complexity:** O(|S|).\n",
    "\n",
    "**Expected Auxiliary Space:** O(1) for C++ and O(|S|) for output in Java/Python.\n",
    "\n",
    "### Constraints:\n",
    "1<=|S|<=10^4"
   ]
  },
  {
   "cell_type": "code",
   "execution_count": null,
   "metadata": {},
   "outputs": [],
   "source": [
    "# User function Template for python3\n",
    "class Solution:\n",
    "    def modify(self, s):\n",
    "        # code here\n",
    "        return s.lower() if s[0].islower() else s.upper()\n",
    "\n",
    "# { \n",
    "# Driver Code Starts\n",
    "# Initial Template for Python 3\n",
    "t = int (input ())\n",
    "for tc in range (t):\n",
    "    s = input ()\n",
    "    ob = Solution()\n",
    "    print(ob.modify(s))\n",
    "# } Driver Code Ends"
   ]
  }
 ],
 "metadata": {
  "kernelspec": {
   "display_name": "Python 3.10.6 64-bit",
   "language": "python",
   "name": "python3"
  },
  "language_info": {
   "name": "python",
   "version": "3.10.6"
  },
  "orig_nbformat": 4,
  "vscode": {
   "interpreter": {
    "hash": "26de051ba29f2982a8de78e945f0abaf191376122a1563185a90213a26c5da77"
   }
  }
 },
 "nbformat": 4,
 "nbformat_minor": 2
}
