{
 "cells": [
  {
   "cell_type": "markdown",
   "metadata": {},
   "source": [
    "# SUM OF DISTINCT ELEMENTS FOR A LIMITED RANGE\n",
    "\n",
    "Given an array, arr[] of N elements such that every element of the array is an integer in the range 1 to n, the task is to find the sum of all the distinct elements of the array.\n",
    "\n",
    "### Example 1:\n",
    "\n",
    "#### Input:\n",
    "N = 9\n",
    "\n",
    "arr[] = {5, 1, 2, 4, 6, 7, 3, 6, 7}\n",
    "\n",
    "#### Output:\n",
    "28\n",
    "#### Explanation:\n",
    "The distinct elements in the array are 1, 2, 3, 4, 5, 6, 7.\n",
    "### Example 2:\n",
    "\n",
    "#### Input:\n",
    "N = 3, arr[] = {1, 1, 1}\n",
    "#### Output:\n",
    "1\n",
    "\n",
    "#### Your Task:\n",
    "This is a function problem. You don't need to take any input, as it is already accomplished by the driver code. You just need to complete the function sumOfDistinct() that takes array arr[]  and integer N as parameters and returns the sum of a distinct elements of the array.\n",
    "\n",
    "**Expected Time Complexity:** O(N).\n",
    "\n",
    "**Expected Auxiliary Space:** O(1).\n",
    "\n",
    "### Constraints:\n",
    "1 ≤ N ≤ 10^6"
   ]
  },
  {
   "cell_type": "code",
   "execution_count": 1,
   "metadata": {},
   "outputs": [
    {
     "name": "stdout",
     "output_type": "stream",
     "text": [
      "2\n",
      "9\n",
      "5 1 2 4 6 7 3 6 7\n",
      "28\n",
      "3\n",
      "1 1 1\n",
      "1\n"
     ]
    }
   ],
   "source": [
    "class Solution:\n",
    "    def sumOfDistinct(self, arr, n):\n",
    "        # Your code goes here\n",
    "        return sum(set(arr))\n",
    "\n",
    "#{ \n",
    "#  Driver Code Starts\n",
    "if __name__ == '__main__': \n",
    "    \n",
    "    t=int(input())\n",
    "    for _ in range(0,t):\n",
    "        n=int(input())\n",
    "        a=list(map(int,input().split()))\n",
    "        ob = Solution()\n",
    "        ans=ob.sumOfDistinct(a,n)\n",
    "        print(ans)\n",
    "            \n",
    "# } Driver Code Ends"
   ]
  }
 ],
 "metadata": {
  "kernelspec": {
   "display_name": "Python 3",
   "language": "python",
   "name": "python3"
  },
  "language_info": {
   "codemirror_mode": {
    "name": "ipython",
    "version": 3
   },
   "file_extension": ".py",
   "mimetype": "text/x-python",
   "name": "python",
   "nbconvert_exporter": "python",
   "pygments_lexer": "ipython3",
   "version": "3.8.3"
  }
 },
 "nbformat": 4,
 "nbformat_minor": 4
}
