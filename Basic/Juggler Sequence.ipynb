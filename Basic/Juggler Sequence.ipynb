{
 "cells": [
  {
   "cell_type": "markdown",
   "metadata": {},
   "source": [
    "# JUGGLER SEQUENCE\n",
    "\n",
    "Juggler Sequence is a series of integers in which the first term starts with a positive integer number a and the remaining terms are generated from the immediate previous term using the below recurrence relation:\n",
    "\n",
    " a_(k+1)={|_a_k^(1/2)_|   for even a_k; |_a_k^(3/2)_|   for odd a_k, \n",
    "\n",
    "Given a number N, find the Juggler Sequence for this number as the first term of the sequence.\n",
    "\n",
    "### Example 1:\n",
    "\n",
    "#### Input:\n",
    "N = 9\n",
    "#### Output:\n",
    "9 27 140 11 36 6 2 1\n",
    "#### Explaination:\n",
    "We start with 9 and use above formula to get next terms.\n",
    " \n",
    "### Example 2:\n",
    "\n",
    "#### Input:\n",
    "N = 6\n",
    "#### Output:\n",
    "6 2 1\n",
    "#### Explaination: \n",
    "6^1/2 = 2. 2^1/2 = 1.\n",
    " \n",
    "### Your Task:\n",
    "You do not need to read input or print anything. Your Task is to complete the function jugglerSequence() which takes N as input parameter and returns a list of integers denoting the generated sequence.\n",
    "\n",
    "**Expected Time Complexity:** O(N)\n",
    "\n",
    "**Expected Auxiliary Space:** O(N)\n",
    "\n",
    "### Constraints:\n",
    "1 ≤ N ≤ 100"
   ]
  },
  {
   "cell_type": "code",
   "execution_count": 1,
   "metadata": {},
   "outputs": [
    {
     "name": "stdout",
     "output_type": "stream",
     "text": [
      "2\n",
      "9\n",
      "9 27 140 11 36 6 2 1 \n",
      "6\n",
      "6 2 1 \n"
     ]
    }
   ],
   "source": [
    "# User function Template for python3\n",
    "class Solution:\n",
    "    def jugglerSequence(self, N):\n",
    "        # code here\n",
    "        result = [N]\n",
    "        \n",
    "        while result[-1] != 1:\n",
    "            \n",
    "            if result[-1] % 2:\n",
    "                result.append(int(result[-1] ** (3 / 2)))\n",
    "            else:\n",
    "                result.append(int(result[-1] ** (1 / 2)))\n",
    "\n",
    "        return result\n",
    "\n",
    "#{ \n",
    "#  Driver Code Starts\n",
    "#Initial Template for Python 3\n",
    "\n",
    "if __name__ == '__main__':\n",
    "    t = int(input())\n",
    "    for _ in range(t):\n",
    "        N = int(input())\n",
    "        \n",
    "        ob = Solution()\n",
    "        arr = ob.jugglerSequence(N)\n",
    "        for i in (arr):\n",
    "            print(i,end=\" \")\n",
    "        print()\n",
    "# } Driver Code Ends"
   ]
  }
 ],
 "metadata": {
  "kernelspec": {
   "display_name": "Python 3",
   "language": "python",
   "name": "python3"
  },
  "language_info": {
   "codemirror_mode": {
    "name": "ipython",
    "version": 3
   },
   "file_extension": ".py",
   "mimetype": "text/x-python",
   "name": "python",
   "nbconvert_exporter": "python",
   "pygments_lexer": "ipython3",
   "version": "3.8.3"
  }
 },
 "nbformat": 4,
 "nbformat_minor": 4
}
