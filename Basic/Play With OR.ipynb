{
 "cells": [
  {
   "cell_type": "markdown",
   "metadata": {},
   "source": [
    "# PLAY WITH OR\n",
    "\n",
    "You are given an array arr[], you have to re-construct an array arr[].\n",
    "The values in arr[] are obtained by doing OR(bitwise or) of consecutive elements in the array.\n",
    "\n",
    "### Example 1:\n",
    "\n",
    "#### Input: \n",
    "arr[ ] = {10, 11, 1, 2, 3}\n",
    "#### Output: \n",
    "11 11 3 3 3\n",
    "#### Explanation:\n",
    "At index 0, arr[0] or arr[1] = 11\n",
    "At index 1, arr[1] or arr[2] = 11\n",
    "At index 2, arr[2] or arr[3] = 3\n",
    "...\n",
    "At index 4, No element is left So, it will \n",
    "remain as it is.\n",
    "New Array will be {11, 11, 3, 3, 3}.\n",
    "\n",
    "### Example 2:\n",
    "\n",
    "#### Input: \n",
    "arr[ ] = {5, 9, 2, 6} \n",
    "#### Output:  \n",
    "13 11 6 6 \n",
    " \n",
    "\n",
    "### Your Task:\n",
    "This is a function problem. The input is already taken care of by the driver code. You only need to complete the function game_with_number() that takes an array (arr), sizeOfArray (n), and return the array re-constructed array arr. The driver code takes care of the printing.\n",
    "\n",
    " \n",
    "**Expected Time Complexity:** O(N).\n",
    " \n",
    "**Expected Auxiliary Space:** O(1).\n",
    "\n",
    "### Constraints:\n",
    "1 ≤ N ≤ 10^5\n",
    "\n",
    "1 ≤ arr[i] ≤ 10^7"
   ]
  },
  {
   "cell_type": "code",
   "execution_count": 1,
   "metadata": {},
   "outputs": [
    {
     "name": "stdout",
     "output_type": "stream",
     "text": [
      "11 11 3 3 3\n"
     ]
    }
   ],
   "source": [
    "# User function Template for python3\n",
    "def game_with_number (arr,  n) : \n",
    "    #Complete the function\n",
    "    result = []\n",
    "    \n",
    "    for i in range(1, n):\n",
    "        result.append(arr[i-1] | arr[i])\n",
    "        \n",
    "    return result + [arr[-1]]\n",
    "\n",
    "# { \n",
    "# Driver Code Starts\n",
    "# Initial Template for Python 3\n",
    "for _ in range(0,int(input())):\n",
    "    n = int(input())\n",
    "    arr = list(map(int,input().strip().split()))\n",
    "    res = game_with_number(arr, n);\n",
    "    print(*res)\n",
    "# } Driver Code Ends"
   ]
  }
 ],
 "metadata": {
  "kernelspec": {
   "display_name": "Python 3.10.6 64-bit",
   "language": "python",
   "name": "python3"
  },
  "language_info": {
   "codemirror_mode": {
    "name": "ipython",
    "version": 3
   },
   "file_extension": ".py",
   "mimetype": "text/x-python",
   "name": "python",
   "nbconvert_exporter": "python",
   "pygments_lexer": "ipython3",
   "version": "3.10.6"
  },
  "orig_nbformat": 4,
  "vscode": {
   "interpreter": {
    "hash": "26de051ba29f2982a8de78e945f0abaf191376122a1563185a90213a26c5da77"
   }
  }
 },
 "nbformat": 4,
 "nbformat_minor": 2
}
