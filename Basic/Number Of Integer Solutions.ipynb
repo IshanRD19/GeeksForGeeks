{
 "cells": [
  {
   "cell_type": "markdown",
   "metadata": {},
   "source": [
    "# NUMBER OF INTEGER SOLUTIONS\n",
    "\n",
    "You are given a positive integer N and you have to find the number of non negative integral solutions to a+b+c=N.\n",
    "\n",
    "### Example 1:\n",
    "\n",
    "#### Input:\n",
    "N = 10\n",
    "#### Output:\n",
    "66\n",
    "#### Explanation:\n",
    "There are 66 possible solutions.\n",
    "### Example 2:\n",
    "\n",
    "#### Input:\n",
    "N = 20\n",
    "#### Output:\n",
    "231\n",
    "#### Explanation:\n",
    "There are 231 possible solutions.\n",
    "\n",
    "### Your Task:\n",
    "You don't need to read input or print anything. Your task is to complete the function noOfIntSols() which takes an Integer N as input and returns the number of integer solutions possible.\n",
    "\n",
    "**Expected Time Complexity:** O(1)\n",
    "\n",
    "**Expected Auxiliary Space:** O(1)\n",
    "\n",
    "### Constraints:\n",
    "1 <= N <= 10^9"
   ]
  },
  {
   "cell_type": "code",
   "execution_count": 1,
   "metadata": {},
   "outputs": [
    {
     "name": "stdout",
     "output_type": "stream",
     "text": [
      "2\n",
      "10\n",
      "66\n",
      "20\n",
      "231\n"
     ]
    }
   ],
   "source": [
    "# User function Template for python3\n",
    "class Solution:\n",
    "    def noOfIntSols(self, N):\n",
    "        # code here\n",
    "        return (N+1) * (N+2) // 2\n",
    "\n",
    "#{ \n",
    "#  Driver Code Starts\n",
    "#Initial Template for Python 3\n",
    "\n",
    "if __name__ == '__main__': \n",
    "    t = int (input ())\n",
    "    for _ in range (t):\n",
    "        N=int(input())\n",
    "        \n",
    "        ob = Solution()\n",
    "        print(ob.noOfIntSols(N))\n",
    "# } Driver Code Ends"
   ]
  }
 ],
 "metadata": {
  "kernelspec": {
   "display_name": "Python 3",
   "language": "python",
   "name": "python3"
  },
  "language_info": {
   "codemirror_mode": {
    "name": "ipython",
    "version": 3
   },
   "file_extension": ".py",
   "mimetype": "text/x-python",
   "name": "python",
   "nbconvert_exporter": "python",
   "pygments_lexer": "ipython3",
   "version": "3.8.3"
  }
 },
 "nbformat": 4,
 "nbformat_minor": 4
}
