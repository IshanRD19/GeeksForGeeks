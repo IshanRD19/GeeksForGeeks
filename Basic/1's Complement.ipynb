{
 "cells": [
  {
   "cell_type": "markdown",
   "metadata": {},
   "source": [
    "# 1'S COMPLEMENT\n",
    "\n",
    "Given an N bit binary number, find the 1's complement of the number. The ones' complement of a binary number is defined as the value obtained by inverting all the bits in the binary representation of the number (swapping 0s for 1s and vice versa).\n",
    "\n",
    "### Example 1:\n",
    "\n",
    "#### Input:\n",
    "N = 3\n",
    "\n",
    "S = 101\n",
    "#### Output:\n",
    "010\n",
    "#### Explanation:\n",
    "We get the output by converting 1's in S\n",
    "to 0 and 0s to 1\n",
    "### Example 2:\n",
    "\n",
    "#### Input:\n",
    "N = 2\n",
    "\n",
    "S = 10\n",
    "#### Output:\n",
    "01\n",
    "#### Explanation:\n",
    "We get the output by converting 1's in S\n",
    "to 0 and 0s to 1\n",
    "\n",
    "### Your Task:  \n",
    "You don't need to read input or print anything. Your task is to complete the function onesComplement() which takes the binary string S, its size N as input parameters and returns 1's complement of S of size N.\n",
    " \n",
    "**Expected Time Complexity:** O(N)\n",
    "\n",
    "**Expected Space Complexity:** O(N)\n",
    "\n",
    "### Constraints:\n",
    "1 <= N <= 100"
   ]
  },
  {
   "cell_type": "code",
   "execution_count": 1,
   "metadata": {},
   "outputs": [
    {
     "name": "stdout",
     "output_type": "stream",
     "text": [
      "2\n",
      "3\n",
      "101\n",
      "010\n",
      "2\n",
      "10\n",
      "01\n"
     ]
    }
   ],
   "source": [
    "# User function Template for python3\n",
    "class Solution:\n",
    "    def onesComplement(self,S,N):\n",
    "        # code here\n",
    "        result = ''\n",
    "        for i in S:\n",
    "            if i == '0':\n",
    "                result += '1'\n",
    "            else:\n",
    "                result += '0'\n",
    "        return result\n",
    "\n",
    "#{ \n",
    "#  Driver Code Starts\n",
    "#Initial Template for Python 3\n",
    "if __name__ == '__main__': \n",
    "    t = int (input ())\n",
    "    for _ in range (t):\n",
    "        N = int(input())\n",
    "        S = input()\n",
    "\n",
    "        ob = Solution()\n",
    "        print(ob.onesComplement(S,N))\n",
    "# } Driver Code Ends"
   ]
  }
 ],
 "metadata": {
  "kernelspec": {
   "display_name": "Python 3",
   "language": "python",
   "name": "python3"
  },
  "language_info": {
   "codemirror_mode": {
    "name": "ipython",
    "version": 3
   },
   "file_extension": ".py",
   "mimetype": "text/x-python",
   "name": "python",
   "nbconvert_exporter": "python",
   "pygments_lexer": "ipython3",
   "version": "3.8.3"
  }
 },
 "nbformat": 4,
 "nbformat_minor": 4
}
