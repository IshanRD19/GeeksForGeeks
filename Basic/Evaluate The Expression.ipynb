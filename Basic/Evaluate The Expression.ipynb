{
 "cells": [
  {
   "cell_type": "markdown",
   "metadata": {},
   "source": [
    "# EVALUATE THE EXPRESSION\n",
    "\n",
    "Given a number n, find the value of below expression:\n",
    "            f(n-1)*f(n+1) - f(n)*f(n)    where f(n) is nth Fibonacci. \n",
    " \n",
    "### Example 1:\n",
    "\n",
    "#### Input:\n",
    "n = 5\n",
    "#### Output:\n",
    "-1\n",
    "#### Explanation:\n",
    "f(4) = 3, f(5) = 5\n",
    "\n",
    "f(6) = 8. 3 * 8 - 5 * 5 = -1\n",
    "### Example 2:\n",
    "\n",
    "#### Input:\n",
    "n = 3\n",
    "#### Output:\n",
    "-1\n",
    "#### Explanation:\n",
    "f(2) = 1, f(3) = 2 and f(4) = 3. 1 * 3 - 2 * 2 = -1\n",
    " \n",
    "### Your Task:\n",
    "You don't need to read or print anything. Yous task is to complete the function evaluate_exp() which takes n as input parameter and returns the value of the given expression.\n",
    " \n",
    "**Expected Time Complexity:** O(1)\n",
    "\n",
    "**Expected Space Complexity:** O(1)\n",
    "\n",
    "### Constraints:\n",
    "1 <= n <= 10^18"
   ]
  },
  {
   "cell_type": "code",
   "execution_count": 1,
   "metadata": {},
   "outputs": [
    {
     "name": "stdout",
     "output_type": "stream",
     "text": [
      "2\n",
      "5\n",
      "-1\n",
      "3\n",
      "-1\n"
     ]
    }
   ],
   "source": [
    "# User function Template for python3\n",
    "class Solution:\n",
    "    def evaluate_exp(self, n):\n",
    "        # Code here\n",
    "        return -1 if n % 2 else 1\n",
    "\n",
    "# { \n",
    "# Driver Code Starts\n",
    "# Initial Template for Python 3\n",
    "if __name__ == '__main__':\n",
    "    T=int(input())\n",
    "    for i in range(T):\n",
    "        n = int(input())\n",
    "        ob = Solution()\n",
    "        ans = ob.evaluate_exp(n)\n",
    "        print(ans)\n",
    "# } Driver Code Ends"
   ]
  }
 ],
 "metadata": {
  "kernelspec": {
   "display_name": "Python 3",
   "language": "python",
   "name": "python3"
  },
  "language_info": {
   "codemirror_mode": {
    "name": "ipython",
    "version": 3
   },
   "file_extension": ".py",
   "mimetype": "text/x-python",
   "name": "python",
   "nbconvert_exporter": "python",
   "pygments_lexer": "ipython3",
   "version": "3.8.3"
  }
 },
 "nbformat": 4,
 "nbformat_minor": 4
}
