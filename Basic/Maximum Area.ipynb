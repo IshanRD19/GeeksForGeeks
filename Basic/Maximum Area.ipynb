{
 "cells": [
  {
   "cell_type": "markdown",
   "metadata": {},
   "source": [
    "# MAXIMUM AREA\n",
    "\n",
    "Given the maximum possible area of the right angle triangle for a fixed length of hypotenuse. The task is to find the length of hypotenuse.\n",
    "\n",
    "**Note:** If the answer comes in Decimal, find it's Floor value.\n",
    "\n",
    "### Example 1:\n",
    "\n",
    "#### Input:\n",
    "N = 25\n",
    "#### Output:\n",
    "10\n",
    "#### Explanation:\n",
    "For a maximum area of 25 square Units of a Right-angled Triangle, the length of it's Hypotenuse is 10.\n",
    "### Example 2:\n",
    "\n",
    "#### Input:\n",
    "N = 21\n",
    "#### Output:\n",
    "9\n",
    "#### Explanation:\n",
    "For a maximum area of 21 square Units of a Right-angled Triangle, the length of it's Hypotenuse is 9.165 = 9.\n",
    "### Your Task:\n",
    "You don't need to read input or print anything. Your task is to complete the function getHypotenuse() which takes an Integer N as input and returns the answer.\n",
    "\n",
    "**Expected Time Complexity:** O(1)\n",
    "\n",
    "**Expected Auxiliary Space:** O(1)\n",
    "\n",
    "### Constraints:\n",
    "1 <= N <= 1010"
   ]
  },
  {
   "cell_type": "code",
   "execution_count": 1,
   "metadata": {},
   "outputs": [
    {
     "name": "stdout",
     "output_type": "stream",
     "text": [
      "2\n",
      "25\n",
      "10\n",
      "21\n",
      "9\n"
     ]
    }
   ],
   "source": [
    "# User function Template for python3\n",
    "class Solution:\n",
    "    def getHypotenuse(self, N):\n",
    "        # code here \n",
    "        \n",
    "        # A right angle triangle with fixed hypotenuse attains maximum area, when it is isosceles \n",
    "        # i.e. both height and base becomes equal\n",
    "        \n",
    "        # 0.5 * b * b = N\n",
    "        # b = 2N ** 0.5\n",
    "\n",
    "        # b**2 + b**2 = H**2\n",
    "        # H = b * (2 ** 0.5)\n",
    "        \n",
    "        return int(((2 * N) ** 0.5) * (2 ** 0.5))\n",
    "\n",
    "#{ \n",
    "#  Driver Code Starts\n",
    "#Initial Template for Python 3\n",
    "import math\n",
    "\n",
    "if __name__ == '__main__': \n",
    "    t = int (input ())\n",
    "    for _ in range (t):\n",
    "        N=int(input())\n",
    "        \n",
    "        ob = Solution()\n",
    "        print(ob.getHypotenuse(N))\n",
    "# } Driver Code Ends"
   ]
  }
 ],
 "metadata": {
  "kernelspec": {
   "display_name": "Python 3",
   "language": "python",
   "name": "python3"
  },
  "language_info": {
   "codemirror_mode": {
    "name": "ipython",
    "version": 3
   },
   "file_extension": ".py",
   "mimetype": "text/x-python",
   "name": "python",
   "nbconvert_exporter": "python",
   "pygments_lexer": "ipython3",
   "version": "3.8.3"
  }
 },
 "nbformat": 4,
 "nbformat_minor": 4
}
