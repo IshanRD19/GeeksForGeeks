{
 "cells": [
  {
   "cell_type": "markdown",
   "metadata": {},
   "source": [
    "# JUMPY BALL\n",
    "\n",
    "You have a jumpy ball. You throw it up from the ground up to a height of H. The ball is jumpy, so when it comes back to the ground, it rebounds and goes up again to a distance of floor(H/2). This keeps on repeating until it can't rebound anymore. You need to find the total distance traveled by the ball.\n",
    "\n",
    "### Example 1:\n",
    "\n",
    "#### Input:\n",
    "H = 10\n",
    "\n",
    "#### Output:\n",
    "36\n",
    "\n",
    "#### Explanation:\n",
    "H is 10. From ground to H it travels d=10. From H to ground it travels d=10+10. Now H becomes floor(10/2). So ball rebounds to d=10+10+5. It goes down to the ground. d=10+10+5+5. Now H becomes floor(5/2). So ball rebounds to d=10+10+5+5+2.\n",
    "The ball goes down. d=10+10+5+5+2+2. H becomes floor(2/2). So ball rebounds to d=10+10+5+5+2+2+1.\n",
    "It goes down to the ground. d=10+10+5+5+2+2+1+1. H becomes floor(1/2). H is zero so no rebound. Total d=36.\n",
    "### Example 2:\n",
    "\n",
    "#### Input:\n",
    "H = 20\n",
    "\n",
    "#### Output:\n",
    "76\n",
    "#### Your Task:  \n",
    "You don't need to read input or print anything. Your task is to complete the function jumpyBall() which takes an integer H as an input parameter and returns the total distance traveled by the ball.\n",
    "\n",
    "**Expected Time Complexity:** O(log H)\n",
    "\n",
    "**Expected Auxiliary Space:** O(1)\n",
    "\n",
    "### Constraints:\n",
    "0 <= H <= 10^15"
   ]
  },
  {
   "cell_type": "code",
   "execution_count": 1,
   "metadata": {},
   "outputs": [
    {
     "name": "stdout",
     "output_type": "stream",
     "text": [
      "2\n",
      "10\n",
      "36\n",
      "20\n",
      "76\n"
     ]
    }
   ],
   "source": [
    "# User function Template for python3\n",
    "class Solution:\n",
    "    def jumpyBall(self, N):\n",
    "        #code here \n",
    "        result = 0\n",
    "        while N > 0:\n",
    "            result += 2 * N\n",
    "            N = N // 2\n",
    "        return result\n",
    "\n",
    "#{ \n",
    "#  Driver Code Starts\n",
    "#Initial Template for Python 3\n",
    "\n",
    "if __name__ == '__main__': \n",
    "    t = int(input())\n",
    "    for _ in range(t):\n",
    "        N = int(input())\n",
    "        ob = Solution()\n",
    "        ans = ob.jumpyBall(N)\n",
    "        print(ans)\n",
    "# } Driver Code Ends"
   ]
  }
 ],
 "metadata": {
  "kernelspec": {
   "display_name": "Python 3",
   "language": "python",
   "name": "python3"
  },
  "language_info": {
   "codemirror_mode": {
    "name": "ipython",
    "version": 3
   },
   "file_extension": ".py",
   "mimetype": "text/x-python",
   "name": "python",
   "nbconvert_exporter": "python",
   "pygments_lexer": "ipython3",
   "version": "3.8.3"
  }
 },
 "nbformat": 4,
 "nbformat_minor": 4
}
