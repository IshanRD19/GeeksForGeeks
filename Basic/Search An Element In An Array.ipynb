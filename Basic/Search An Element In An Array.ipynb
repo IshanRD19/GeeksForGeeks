{
 "cells": [
  {
   "cell_type": "markdown",
   "metadata": {},
   "source": [
    "# SEARCH AN ELEMENT IN AN ARRAY\n",
    "\n",
    "Given an integer array and another integer element. The task is to find if the given element is present in array or not.\n",
    "\n",
    "### Example 1:\n",
    "\n",
    "#### Input:\n",
    "n = 4\n",
    "\n",
    "arr[] = {1,2,3,4}\n",
    "\n",
    "x = 3\n",
    "#### Output:\n",
    "2\n",
    "#### Explanation:\n",
    "There is one test case with array as {1, 2, 3 4} and element to be searched as 3.  Since 3 is present at index 2, output is 2.\n",
    "### Example 2:\n",
    "\n",
    "#### Input:\n",
    "n = 5\n",
    "\n",
    "arr[] = {1,2,3,4,5}\n",
    "\n",
    "x = 5\n",
    "\n",
    "#### Output:\n",
    "4\n",
    "#### Explanation:\n",
    "For array elements {1,2,3,4,5} element to be searched is 5 and it is at index 4. So, the output is 4.\n",
    "### Your Task:\n",
    "The task is to complete the function search() which takes the array arr[], its size N and the element X as inputs and returns the index of first occurrence of X in the given array. If the element X does not exist in the array, the function should return -1.\n",
    "\n",
    "**Expected Time Complexity:** O(n).\n",
    "\n",
    "**Expected Auxiliary Space:** O(1). \n",
    "\n",
    "### Constraints:\n",
    "1 <= n <= 10^6\n",
    "\n",
    "0 <= arr[i] <= 10^6\n",
    "\n",
    "0 <= x <= 10^5"
   ]
  },
  {
   "cell_type": "code",
   "execution_count": 1,
   "metadata": {},
   "outputs": [
    {
     "name": "stdout",
     "output_type": "stream",
     "text": [
      "2\n",
      "4\n",
      "1 2 3 4\n",
      "3\n",
      "2\n",
      "5\n",
      "1 2 3 4 5\n",
      "5\n",
      "4\n"
     ]
    }
   ],
   "source": [
    "# User function Template for python3\n",
    "class Solution:\n",
    "    #Complete the below function\n",
    "    def search(self,arr, N, X):\n",
    "        #Your code here\n",
    "        try:\n",
    "            return arr.index(X)\n",
    "        except:\n",
    "            return -1\n",
    "\n",
    "# { \n",
    "# Driver Code Starts\n",
    "# Initial Template for Python 3\n",
    "import math\n",
    "def main():\n",
    "        T=int(input())\n",
    "        while(T>0):\n",
    "            N=int(input())\n",
    "            A=[int(x) for x in input().strip().split()]\n",
    "            x=int(input())\n",
    "            ob=Solution()\n",
    "            print(ob.search(A,N,x))\n",
    "            T-=1\n",
    "if __name__ == \"__main__\":\n",
    "    main()\n",
    "# } Driver Code Ends"
   ]
  }
 ],
 "metadata": {
  "kernelspec": {
   "display_name": "Python 3",
   "language": "python",
   "name": "python3"
  },
  "language_info": {
   "codemirror_mode": {
    "name": "ipython",
    "version": 3
   },
   "file_extension": ".py",
   "mimetype": "text/x-python",
   "name": "python",
   "nbconvert_exporter": "python",
   "pygments_lexer": "ipython3",
   "version": "3.8.3"
  }
 },
 "nbformat": 4,
 "nbformat_minor": 4
}
