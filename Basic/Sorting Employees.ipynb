{
 "cells": [
  {
   "cell_type": "markdown",
   "metadata": {},
   "source": [
    "# SORTING EMPLOYEES\n",
    "\n",
    "You have records of employee name as string (Ename) and salary as positive integer (S). You have to sort the records on the basis of employee salary, if salary is same then use employee name for comparison.\n",
    "\n",
    "### Example 1:\n",
    "\n",
    "#### Input: \n",
    "N = 2\n",
    "arr[] = {{xbnnskd, 100}, {geek, 50}}\n",
    "#### Output: \n",
    "{geek 50}, {xbnnskd 100}\n",
    "#### Explanation: \n",
    "geek has lowest salary \n",
    "as 50 and xbnnskd has more salary.\n",
    "### Example 2: \n",
    "\n",
    "#### Input: \n",
    "N = 2\n",
    "arr[] = {{shyam, 50}, {ram, 50}} \n",
    "#### Output: \n",
    "ram 50 shyam 50\n",
    "### Your Task:\n",
    "This is a function problem. You don't need to take any input, as it is already accomplished by the driver code. You just need to complete the function sortRecords() that takes array arr[] and integer N as parameters and sort the array according to the above-given conditions. The function does not return anything.\n",
    "\n",
    "**Expected Time Complexity:** O(NlogN)\n",
    "\n",
    "**Expected Auxiliary Space:** O(1).\n",
    "\n",
    "### Constraints:\n",
    "1 ≤ N ≤ 10^3"
   ]
  },
  {
   "cell_type": "code",
   "execution_count": null,
   "metadata": {},
   "outputs": [],
   "source": [
    "# User function Template for python3\n",
    "class Solution:\n",
    "    def sortRecords(self, a, n):\n",
    "        # Your code goes here\n",
    "        a[:] = sorted(a, key=lambda x: x[0])\n",
    "        a[:] = sorted(a, key=lambda x: x[1])\n",
    "        return \n",
    "\n",
    "# { \n",
    "# Driver Code Starts\n",
    "if __name__ == '__main__': \n",
    "    t=int(input())\n",
    "    for _ in range(0,t):\n",
    "        n=int(input())\n",
    "        s=list(map(str,input().split()))\n",
    "        a=[]\n",
    "        for i in range(0,2*n,2):\n",
    "            a.append([s[i],int(s[i+1])])\n",
    "        ob = Solution()\n",
    "        ob.sortRecords(a,n)\n",
    "        for i,j in a:\n",
    "            print(i+\" \"+str(j),end=\" \")\n",
    "        print()\n",
    "# } Driver Code Ends"
   ]
  }
 ],
 "metadata": {
  "kernelspec": {
   "display_name": "Python 3.10.6 64-bit",
   "language": "python",
   "name": "python3"
  },
  "language_info": {
   "name": "python",
   "version": "3.10.6"
  },
  "orig_nbformat": 4,
  "vscode": {
   "interpreter": {
    "hash": "26de051ba29f2982a8de78e945f0abaf191376122a1563185a90213a26c5da77"
   }
  }
 },
 "nbformat": 4,
 "nbformat_minor": 2
}
