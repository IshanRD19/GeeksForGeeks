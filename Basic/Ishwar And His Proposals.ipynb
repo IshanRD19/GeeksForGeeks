{
 "cells": [
  {
   "cell_type": "markdown",
   "metadata": {},
   "source": [
    "# ISHWAR AND HIS PROPOSALS\n",
    "\n",
    "Ishwar has got proposals from N girls. Each girl gives him a rose with a number written on it where the number represents the popularity of that girl. Ishwar decides that he'll accept the proposal of the second most popular and the second least popular girl only. Can you help him finding the popularity of those girls?\n",
    "Note: The popularity of all the girls are unique.\n",
    "\n",
    "### Example 1:\n",
    "\n",
    "#### Input:\n",
    "N = 4\n",
    "\n",
    "arr[] = {1 2 3 4}\n",
    "#### Output: 3 2\n",
    "#### Explanation: 3 represents the popularity\n",
    "of the second most popular girl and 2\n",
    "represents the popularity of second\n",
    "least popular girl.\n",
    "### Example 2:\n",
    "\n",
    "#### Input:\n",
    "N = 5\n",
    "\n",
    "arr[] = {6 9 1 4 8}\n",
    "#### Output: 8 4\n",
    "#### Explanation: 8 represents the popularity\n",
    "of the second most popular girl and 4\n",
    "represents the popularity of second\n",
    "least popular girl.\n",
    "\n",
    "### Your Task:\n",
    "You don't need to read input or print anything. Your task is to complete the function acceptedProposals() which takes the array arr[] and its size N as inputs and returns an array of size 2 where the 0-th element represents the popularity of the second most popular girl and the 1-st element represents the popularity of the second least popular girl.\n",
    "\n",
    "\n",
    "Expected Time Complexity: O(N).\n",
    "Expected Auxiliary Space: O(1).\n",
    "\n",
    "\n",
    "### Constraint:\n",
    "2 <= N <= 10^5\n",
    "\n",
    "1 <= popularity <= 10^6"
   ]
  },
  {
   "cell_type": "code",
   "execution_count": 1,
   "metadata": {},
   "outputs": [
    {
     "name": "stdout",
     "output_type": "stream",
     "text": [
      "2\n",
      "4\n",
      "1 2 3 4\n",
      "3 2\n",
      "5\n",
      "6 9 1 4 8\n",
      "8 4\n"
     ]
    }
   ],
   "source": [
    "# User function Template for python3\n",
    "class Solution:\n",
    "    def acceptedProposals (self, arr, n):\n",
    "        # your code here\n",
    "        max_1, max_2, min_1, min_2 = -1, -1, 10**6, 10**6\n",
    "        \n",
    "        for i in arr:\n",
    "            \n",
    "            if i > max_1:\n",
    "                max_2 = max_1\n",
    "                max_1 = i\n",
    "            elif i > max_2:\n",
    "                max_2 = i\n",
    "\n",
    "            if i < min_1:\n",
    "                min_2 = min_1\n",
    "                min_1 = i\n",
    "            elif i < min_2:\n",
    "                min_2 = i\n",
    "            \n",
    "        return max_2, min_2\n",
    "\n",
    "# { \n",
    "#  Driver Code Starts\n",
    "#Initial Template for Python 3\n",
    "t = int (input ())\n",
    "for tc in range (t):\n",
    "    n = int (input ())\n",
    "    arr = list(map(int, input().split()))\n",
    "    ob = Solution()\n",
    "    res = ob.acceptedProposals (arr, n)\n",
    "    print (res[0], end = \" \")\n",
    "    print (res[1])\n",
    "# } Driver Code Ends"
   ]
  }
 ],
 "metadata": {
  "kernelspec": {
   "display_name": "Python 3",
   "language": "python",
   "name": "python3"
  },
  "language_info": {
   "codemirror_mode": {
    "name": "ipython",
    "version": 3
   },
   "file_extension": ".py",
   "mimetype": "text/x-python",
   "name": "python",
   "nbconvert_exporter": "python",
   "pygments_lexer": "ipython3",
   "version": "3.8.3"
  }
 },
 "nbformat": 4,
 "nbformat_minor": 4
}
