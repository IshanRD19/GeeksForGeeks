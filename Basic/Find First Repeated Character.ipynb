{
 "cells": [
  {
   "cell_type": "markdown",
   "metadata": {},
   "source": [
    "# FIND FIRST REPEATED CHARACTER\n",
    "\n",
    "Given a string S. The task is to find the first repeated character in it. We need to find the character that occurs more than once and whose index of second occurrence is smallest. S contains only lowercase letters.\n",
    "\n",
    "### Example 1:\n",
    "\n",
    "#### Input: \n",
    "S=\"geeksforgeeks\"\n",
    "#### Output: \n",
    "e\n",
    "#### Explanation: \n",
    "'e' repeats at third position.\n",
    " \n",
    "\n",
    "### Example 2:\n",
    "\n",
    "#### Input: \n",
    "S=\"hellogeeks\"\n",
    "#### Output: \n",
    "l\n",
    "#### Explanation: \n",
    "'l' repeats at third position.\n",
    " \n",
    "\n",
    "### Example 3:\n",
    "\n",
    "#### Input: \n",
    "S=\"abc\"\n",
    "#### Output: \n",
    "-1\n",
    "#### Explanation: \n",
    "There is no repeated character.\n",
    "### Your Task:  \n",
    "You don't need to read input or print anything. Your task is to complete the function firstRepChar() which accepts a string S as input parameter and returns a string containing first repeated character in it. If there is no repeated character in the string S then return \"-1\".\n",
    " \n",
    "\n",
    "**Expected Time Complexity:** O(|S|) \n",
    "\n",
    "**Expected Auxiliary Space:** O(1)\n",
    "\n",
    "where |S| denotes length of string S.\n",
    " "
   ]
  },
  {
   "cell_type": "code",
   "execution_count": 2,
   "metadata": {},
   "outputs": [
    {
     "name": "stdout",
     "output_type": "stream",
     "text": [
      "-1\n"
     ]
    }
   ],
   "source": [
    "# User function Template for python3\n",
    "class Solution:\n",
    "\n",
    "    def firstRepChar(self, s):\n",
    "        # code here\n",
    "        seen_chars = set()\n",
    "        \n",
    "        for i in range(len(s)):\n",
    "        \n",
    "            if s[i] in seen_chars:\n",
    "                return s[i]\n",
    "        \n",
    "            else:\n",
    "                seen_chars.add(s[i])\n",
    "        \n",
    "        return -1\n",
    "\n",
    "# { \n",
    "# Driver Code Starts\n",
    "# Initial Template for Python 3\n",
    "if __name__ == '__main__':\n",
    "    t = int(input())\n",
    "    for _ in range(t):\n",
    "        s = input()\n",
    "        solObj = Solution()\n",
    "        print(solObj.firstRepChar(s))\n",
    "# } Driver Code Ends"
   ]
  }
 ],
 "metadata": {
  "kernelspec": {
   "display_name": "Python 3.10.6 64-bit",
   "language": "python",
   "name": "python3"
  },
  "language_info": {
   "codemirror_mode": {
    "name": "ipython",
    "version": 3
   },
   "file_extension": ".py",
   "mimetype": "text/x-python",
   "name": "python",
   "nbconvert_exporter": "python",
   "pygments_lexer": "ipython3",
   "version": "3.10.6"
  },
  "orig_nbformat": 4,
  "vscode": {
   "interpreter": {
    "hash": "26de051ba29f2982a8de78e945f0abaf191376122a1563185a90213a26c5da77"
   }
  }
 },
 "nbformat": 4,
 "nbformat_minor": 2
}
