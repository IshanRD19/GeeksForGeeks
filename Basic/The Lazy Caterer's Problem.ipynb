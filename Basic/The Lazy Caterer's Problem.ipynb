{
 "cells": [
  {
   "cell_type": "markdown",
   "metadata": {},
   "source": [
    "# THE LAZY CATERER'S PROBLEM\n",
    "\n",
    "Given an integer n, denoting the number of cuts that can be made on a pancake, find the maximum number of pieces that can be formed by making n cuts.\n",
    "\n",
    "**NOTE:** Cuts can't be horizontal.\n",
    "\n",
    "### Example 1:\n",
    "\n",
    "#### Input:\n",
    "N = 5\n",
    "#### Output:\n",
    "16\n",
    "#### Explanation:\n",
    "16 pieces can be formed by making 5 cuts.\n",
    "### Example 2:\n",
    "\n",
    "#### Input:\n",
    "N = 3\n",
    "#### Output:\n",
    "7\n",
    "#### Explanation:\n",
    "7 pieces can be formed by making 3 cuts.\n",
    " \n",
    "\n",
    "### Your Task: \n",
    "You don't need to read or print anything. Your task is to complete the function maximum_Cuts() which takes n as input parameter and returns the maximum number of pieces that can be formed by making n cuts.\n",
    " \n",
    "**Expected Time Complexity:** O(1)\n",
    "\n",
    "**Expected Space Complexity:** O(1)\n",
    "\n",
    "### Constraints:\n",
    "1 <= N <= 10000"
   ]
  },
  {
   "cell_type": "code",
   "execution_count": 1,
   "metadata": {},
   "outputs": [
    {
     "name": "stdout",
     "output_type": "stream",
     "text": [
      "2\n",
      "5\n",
      "16\n",
      "3\n",
      "7\n"
     ]
    }
   ],
   "source": [
    "# User function Template for python3\n",
    "class Solution:\n",
    "    def maximum_Cuts(self, n):\n",
    "        # Code here\n",
    "        \n",
    "        # We now know ,\n",
    "        # f(n) = n + f(n-1) \n",
    "\n",
    "        # Expanding f(n-1) and so on we have ,\n",
    "        # f(n) = n + n-1 + n-2 + ...... + 1 + f(0)\n",
    "\n",
    "        # which gives,\n",
    "        # f(n) = (n*(n+1))/2 + 1\n",
    "        \n",
    "        return n * (n + 1) // 2 + 1\n",
    "\n",
    "#{ \n",
    "#  Driver Code Starts\n",
    "#Initial Template for Python 3\n",
    "\n",
    "if __name__ == '__main__':\n",
    "    T=int(input())\n",
    "    for i in range(T):\n",
    "        n = int(input())\n",
    "        ob = Solution()\n",
    "        ans = ob.maximum_Cuts(n)\n",
    "        print(ans)\n",
    "# } Driver Code Ends"
   ]
  }
 ],
 "metadata": {
  "kernelspec": {
   "display_name": "Python 3",
   "language": "python",
   "name": "python3"
  },
  "language_info": {
   "codemirror_mode": {
    "name": "ipython",
    "version": 3
   },
   "file_extension": ".py",
   "mimetype": "text/x-python",
   "name": "python",
   "nbconvert_exporter": "python",
   "pygments_lexer": "ipython3",
   "version": "3.8.3"
  }
 },
 "nbformat": 4,
 "nbformat_minor": 4
}
