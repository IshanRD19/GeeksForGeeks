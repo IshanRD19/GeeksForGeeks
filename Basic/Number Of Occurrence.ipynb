{
 "cells": [
  {
   "cell_type": "markdown",
   "metadata": {},
   "source": [
    "# NUMBER OF OCCURRENCE\n",
    "\n",
    "Given a sorted array Arr of size N and a number X, you need to find the number of occurrences of X in Arr.\n",
    "\n",
    "### Example 1:\n",
    "\n",
    "#### Input:\n",
    "N = 7, X = 2\n",
    "\n",
    "Arr[] = {1, 1, 2, 2, 2, 2, 3}\n",
    "#### Output: \n",
    "4\n",
    "#### Explanation: \n",
    "2 occurs 4 times in the\n",
    "given array.\n",
    "### Example 2:\n",
    "\n",
    "#### Input:\n",
    "N = 7, X = 4\n",
    "\n",
    "Arr[] = {1, 1, 2, 2, 2, 2, 3}\n",
    "#### Output: \n",
    "0\n",
    "### Explanation: \n",
    "4 is not present in the\n",
    "given array.\n",
    "### Your Task:\n",
    "You don't need to read input or print anything. Your task is to complete the function count() which takes the array of integers arr, n and x as parameters and returns an integer denoting the answer.\n",
    "\n",
    "**Expected Time Complexity:** O(logN)\n",
    "\n",
    "**Expected Auxiliary Space:** O(1)\n",
    "\n",
    "### Constraints:\n",
    "1 ≤ N ≤ 10^5\n",
    "\n",
    "1 ≤ Arr[i] ≤ 10^6\n",
    "\n",
    "1 ≤ X ≤ 10^6"
   ]
  },
  {
   "cell_type": "code",
   "execution_count": null,
   "metadata": {},
   "outputs": [],
   "source": [
    "# User function Template for python3\n",
    "class Solution:\n",
    "\n",
    "\tdef count(self,arr, n, x):\n",
    "\t\t# code here\n",
    "\t\treturn arr.count(x)\n",
    "\n",
    "# { \n",
    "# Driver Code Starts\n",
    "# Initial Template for Python 3\n",
    "if __name__ == '__main__':\n",
    "    tc = int(input())\n",
    "    while tc > 0:\n",
    "        n, x = list(map(int, input().strip().split()))\n",
    "        arr = list(map(int, input().strip().split()))\n",
    "        ob = Solution()\n",
    "        ans = ob.count(arr, n, x)\n",
    "        print(ans)\n",
    "        tc -= 1\n",
    "# } Driver Code Ends"
   ]
  }
 ],
 "metadata": {
  "kernelspec": {
   "display_name": "Python 3.10.6 64-bit",
   "language": "python",
   "name": "python3"
  },
  "language_info": {
   "name": "python",
   "version": "3.10.6"
  },
  "orig_nbformat": 4,
  "vscode": {
   "interpreter": {
    "hash": "26de051ba29f2982a8de78e945f0abaf191376122a1563185a90213a26c5da77"
   }
  }
 },
 "nbformat": 4,
 "nbformat_minor": 2
}
