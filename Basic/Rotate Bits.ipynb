{
 "cells": [
  {
   "cell_type": "markdown",
   "metadata": {},
   "source": [
    "# ROTATE BITS\n",
    "\n",
    "Given an integer N and an integer D, rotate the binary representation of the integer N by D digits to the left as well as right and print the results in decimal values after each of the rotation.\n",
    "**Note:** Integer N is stored using 16 bits. i.e. 12 will be stored as 0000.....001100.\n",
    "\n",
    "### Example 1:\n",
    "\n",
    "#### Input:\n",
    "N = 28, D = 2\n",
    "#### Output:\n",
    "112\n",
    "\n",
    "7\n",
    "#### Explanation: \n",
    "28 in Binary is:\n",
    "000...011100\n",
    "Rotating left by 2 positions, it becomes\n",
    "00...1110000 = 112 (in decimal).\n",
    "Rotating right by 2 positions, it becomes\n",
    "000...000111 = 7 (in decimal).\n",
    "\n",
    "### Example 2:\n",
    "\n",
    "#### Input: \n",
    "N = 29, D = 2\n",
    "#### Output: \n",
    "116\n",
    "\n",
    "16391\n",
    "#### Explanation: \n",
    "29 in Binary is:\n",
    "000...011101\n",
    "Rotating left by 2 positions, it becomes\n",
    "00...1110100 = 116 (in decimal).\n",
    "Rotating right by 2 positions, it becomes\n",
    "010...000111 = 16391 (in decimal).\n",
    "\n",
    "### Your Task:\n",
    "You don't need to read input or print anything. Your task is to complete the function rotate() which takes the integer N and integer D as inputs and returns an array of size 2 where arr[0] = Decimal value after left rotation and arr[1] = Decimal value after right rotation.\n",
    "\n",
    "\n",
    "**Expected Time Complexity:** O(1).\n",
    "\n",
    "**Expected Auxiliary Space:** O(1).\n",
    "\n",
    "\n",
    "### Constraints:\n",
    "1 <= N <  2^16\n",
    "\n",
    "1 <= D <= 10^5"
   ]
  },
  {
   "cell_type": "code",
   "execution_count": 1,
   "metadata": {},
   "outputs": [
    {
     "name": "stdout",
     "output_type": "stream",
     "text": [
      "112\n",
      "7\n",
      "116\n",
      "16391\n"
     ]
    }
   ],
   "source": [
    "# User function Template for python3\n",
    "class Solution:\n",
    "    def rotate(self, N, D):\n",
    "        # code here\n",
    "        binary = bin(N)[2:]\n",
    "        length = len(binary)\n",
    "        \n",
    "        # Modify inputs as per 16 bit representation\n",
    "        D = D % 16\n",
    "        binary = '0'*(16-length) + binary\n",
    "        \n",
    "        # Rotate the bits\n",
    "        left_shift = binary[D:] + binary[:D]\n",
    "        right_shift = binary[-D:] + binary[:-D]\n",
    "        \n",
    "        return [int(left_shift, 2), int(right_shift, 2)]\n",
    "\n",
    "# { \n",
    "# Driver Code Starts\n",
    "# Initial Template for Python 3\n",
    "if __name__ == '__main__':\n",
    "    t = int(input())\n",
    "    for _ in range(t):\n",
    "        n, d = input().strip().split(\" \")\n",
    "        n, d = int(n), int(d)\n",
    "        ob = Solution()\n",
    "        ans = ob.rotate(n, d)\n",
    "        print(ans[0])\n",
    "        print(ans[1])\n",
    "# } Driver Code Ends"
   ]
  }
 ],
 "metadata": {
  "kernelspec": {
   "display_name": "Python 3.10.6 64-bit",
   "language": "python",
   "name": "python3"
  },
  "language_info": {
   "codemirror_mode": {
    "name": "ipython",
    "version": 3
   },
   "file_extension": ".py",
   "mimetype": "text/x-python",
   "name": "python",
   "nbconvert_exporter": "python",
   "pygments_lexer": "ipython3",
   "version": "3.10.6"
  },
  "orig_nbformat": 4,
  "vscode": {
   "interpreter": {
    "hash": "26de051ba29f2982a8de78e945f0abaf191376122a1563185a90213a26c5da77"
   }
  }
 },
 "nbformat": 4,
 "nbformat_minor": 2
}
