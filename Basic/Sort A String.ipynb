{
 "cells": [
  {
   "cell_type": "markdown",
   "metadata": {},
   "source": [
    "# SORT A STRING\n",
    "\n",
    "Given a string consisting of lowercase letters, arrange all its letters in ascending order. \n",
    "\n",
    "### Example 1:\n",
    "\n",
    "#### Input:\n",
    "S = \"edcab\"\n",
    "#### Output:\n",
    "\"abcde\"\n",
    "#### Explanation:\n",
    "characters are in ascending order in \"abcde\".\n",
    "### Example 2:\n",
    "\n",
    "#### Input:\n",
    "S = \"xzy\"\n",
    "#### Output:\n",
    "\"xyz\"\n",
    "#### Explanation:\n",
    "characters are in ascending order in \"xyz\".\n",
    "\n",
    "### Your Task:  \n",
    "You don't need to read input or print anything. Your task is to complete the function sort() which takes the string as inputs and returns the modified string.\n",
    "\n",
    "**Expected Time Complexity:** O(|S| * log |S|)\n",
    "\n",
    "**Expected Auxiliary Space:** O(1)\n",
    "\n",
    "### Constraints:\n",
    "1 ≤ |S| ≤ 10^5\n",
    "\n",
    "S contains only lowercase alphabets."
   ]
  },
  {
   "cell_type": "code",
   "execution_count": 1,
   "metadata": {},
   "outputs": [
    {
     "name": "stdout",
     "output_type": "stream",
     "text": [
      "2\n",
      "edcab\n",
      "abcde\n",
      "xzy\n",
      "xyz\n"
     ]
    }
   ],
   "source": [
    "# User function Template for python3\n",
    "class Solution:\n",
    "    def sort(self, s): \n",
    "        #code here\n",
    "        chars = [c for c in s]\n",
    "        chars.sort()\n",
    "        return ''.join(chars)\n",
    "\n",
    "#{ \n",
    "#  Driver Code Starts\n",
    "#Initial Template for Python 3\n",
    "\n",
    "if __name__ == '__main__': \n",
    "    t = int(input().strip())\n",
    "    for _ in range(t):\n",
    "        s = input().strip()\n",
    "        obj = Solution()\n",
    "        ans = obj.sort(s)\n",
    "        print(ans)\n",
    "# } Driver Code Ends"
   ]
  }
 ],
 "metadata": {
  "kernelspec": {
   "display_name": "Python 3",
   "language": "python",
   "name": "python3"
  },
  "language_info": {
   "codemirror_mode": {
    "name": "ipython",
    "version": 3
   },
   "file_extension": ".py",
   "mimetype": "text/x-python",
   "name": "python",
   "nbconvert_exporter": "python",
   "pygments_lexer": "ipython3",
   "version": "3.8.3"
  }
 },
 "nbformat": 4,
 "nbformat_minor": 4
}
