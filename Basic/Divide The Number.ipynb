{
 "cells": [
  {
   "cell_type": "markdown",
   "metadata": {},
   "source": [
    "# DIVIDE THE NUMBER\n",
    "\n",
    "Given a positive integer N, count the number of possible ways to represent N as the sum of four positive integers.\n",
    " \n",
    "### Example 1:\n",
    "\n",
    "#### Input:\n",
    "N = 5\n",
    "#### Output:\n",
    "1\n",
    "#### Explanation:\n",
    "We can represent 5 as a sum of 4 positive integers, only in 1 way as 1+1+1+2 = 5\n",
    "### Example 2:\n",
    "\n",
    "#### Input:\n",
    "N = 41\n",
    "#### Output:\n",
    "511\n",
    "#### Explanation:\n",
    "We can represent 41 as sum of 4 positive integers in 511 ways\n",
    "\n",
    "### Your Task:\n",
    "You don't need to read input or print anything. Your task is to complete the function countWays() which takes an integer N as input parameter and returns an integer, the total count of the number of ways N can be represented as sum of 4 positive numbers.\n",
    " \n",
    "**Expected Time Complexity:** O(N^4)\n",
    "\n",
    "**Expected Space Complexity:** O(1) \n",
    "\n",
    "### Constraints:\n",
    "0 <= N <= 100"
   ]
  },
  {
   "cell_type": "code",
   "execution_count": 1,
   "metadata": {},
   "outputs": [
    {
     "name": "stdout",
     "output_type": "stream",
     "text": [
      "2\n",
      "5\n",
      "1\n",
      "41\n",
      "511\n"
     ]
    }
   ],
   "source": [
    "# User function Template for python3\n",
    "class Solution:\n",
    "    def countWays (self, N):\n",
    "        # code here\n",
    "        count = 0\n",
    "        \n",
    "        for i in range(1, N):\n",
    "            for j in range(i, N):\n",
    "                for k in range(j, N):\n",
    "                    for l in range(k, N):\n",
    "                        if i + j + k + l == N:\n",
    "                            count += 1\n",
    "        return count\n",
    "\n",
    "#{ \n",
    " # Driver Code Starts\n",
    "#Initial Template for Python 3\n",
    "\n",
    "if __name__ == '__main__': \n",
    "    t = int (input ())\n",
    "    for _ in range (t):\n",
    "        N = int(input())\n",
    "        ob = Solution()\n",
    "        print(ob.countWays(N))\n",
    "# } Driver Code Ends"
   ]
  }
 ],
 "metadata": {
  "kernelspec": {
   "display_name": "Python 3",
   "language": "python",
   "name": "python3"
  },
  "language_info": {
   "codemirror_mode": {
    "name": "ipython",
    "version": 3
   },
   "file_extension": ".py",
   "mimetype": "text/x-python",
   "name": "python",
   "nbconvert_exporter": "python",
   "pygments_lexer": "ipython3",
   "version": "3.8.3"
  }
 },
 "nbformat": 4,
 "nbformat_minor": 4
}
