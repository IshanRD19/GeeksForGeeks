{
 "cells": [
  {
   "cell_type": "markdown",
   "metadata": {},
   "source": [
    "# POWER OF 2\n",
    "\n",
    "Given a non-negative integer N. The task is to check if N is a power of 2. More formally, check if N can be expressed as 2x for some x.\n",
    "\n",
    "### Example 1:\n",
    "\n",
    "#### Input: \n",
    "N = 1\n",
    "#### Output: \n",
    "YES\n",
    "#### Explanation:\n",
    "1 is equal to 2 raised to 0 (20 = 1).\n",
    "### Example 2:\n",
    "\n",
    "#### Input: \n",
    "N = 98\n",
    "#### Output: \n",
    "NO\n",
    "#### Explanation: \n",
    "98 cannot be obtained by any power of 2.\n",
    "\n",
    "### Your Task:\n",
    "Your task is to complete the function isPowerofTwo() which takes n as a parameter and returns true or false by checking if the given number can be represented as a power of two or not.\n",
    "\n",
    "**Expected Time Complexity:**O(log N).\n",
    "\n",
    "**Expected Auxiliary Space:** O(1).\n",
    "\n",
    "### Constraints:\n",
    "0 ≤N ≤10^18\n",
    "\n",
    "View Bookmarked Problems \n"
   ]
  },
  {
   "cell_type": "code",
   "execution_count": 2,
   "metadata": {},
   "outputs": [
    {
     "name": "stdout",
     "output_type": "stream",
     "text": [
      "YES\n",
      "NO\n"
     ]
    }
   ],
   "source": [
    "# User function Template for python3\n",
    "class Solution:\n",
    "    ##Complete this function\n",
    "    # Function to check if given number n is a power of two.\n",
    "    def isPowerofTwo(self,n):\n",
    "        ##Your code here\n",
    "        if not n:\n",
    "            return False\n",
    "            \n",
    "        return True if n == 1 or not int(str(bin(n)[3:])) else False\n",
    "\n",
    "# { \n",
    "# Driver Code Starts\n",
    "# Initial Template for Python 3\n",
    "import math\n",
    "def main():\n",
    "    T=int(input())\n",
    "    while(T>0):\n",
    "        n=int(input())\n",
    "        ob=Solution()\n",
    "        if ob.isPowerofTwo(n):\n",
    "            print(\"YES\")\n",
    "        else:\n",
    "            print(\"NO\")\n",
    "        T-=1\n",
    "if __name__==\"__main__\":\n",
    "    main()\n",
    "# } Driver Code Ends"
   ]
  }
 ],
 "metadata": {
  "kernelspec": {
   "display_name": "Python 3.10.6 64-bit",
   "language": "python",
   "name": "python3"
  },
  "language_info": {
   "codemirror_mode": {
    "name": "ipython",
    "version": 3
   },
   "file_extension": ".py",
   "mimetype": "text/x-python",
   "name": "python",
   "nbconvert_exporter": "python",
   "pygments_lexer": "ipython3",
   "version": "3.10.6"
  },
  "orig_nbformat": 4,
  "vscode": {
   "interpreter": {
    "hash": "26de051ba29f2982a8de78e945f0abaf191376122a1563185a90213a26c5da77"
   }
  }
 },
 "nbformat": 4,
 "nbformat_minor": 2
}
