{
 "cells": [
  {
   "cell_type": "markdown",
   "metadata": {},
   "source": [
    "# STRING WITH NUMBERS AT ITS END\n",
    "\n",
    "Given string s that is appended with a number at last. The task is to check whether the length of string excluding that number is equal to that number.\n",
    "### Example 1:\n",
    "\n",
    "#### Input:  \n",
    "s = \"geeks5\"\n",
    "#### Output: \n",
    "1\n",
    "#### Explanation: \n",
    "Length of geeks is 5\n",
    "and the last number is also 5.\n",
    "### Example 2:\n",
    "\n",
    "#### Input: \n",
    "s = \"geek5\"\n",
    "#### Output: \n",
    "0\n",
    "#### Explanation: \n",
    "Length of geek is 4\n",
    "and the last number is 5.\n",
    "### User Task:\n",
    "Your task is to complete the function isSame() which takes a single string as input and returns 1 in case the answer is true, otherwise 0. You do not need to take any input or print anything.\n",
    "\n",
    "**Expected Time Complexity:** O(|s|)\n",
    "\n",
    "**Expected Auxiliary Space:** O(1)\n",
    "\n",
    "### Constraints:\n",
    "1 <= |s| <= 10^5"
   ]
  },
  {
   "cell_type": "code",
   "execution_count": null,
   "metadata": {},
   "outputs": [],
   "source": [
    "# User function Template for python3\n",
    "class Solution:\n",
    "    def isSame(self, s):\n",
    "        # code here\n",
    "        i = length = 0\n",
    "\n",
    "        while 97 <= ord(s[i]) <= 122:\n",
    "            length += 1\n",
    "            i += 1\n",
    "\n",
    "        return 1 if length == int(s[i:]) else 0\n",
    "\n",
    "# { \n",
    "# Driver Code Starts\n",
    "# Initial Template for Python 3\n",
    "if __name__ == '__main__':\n",
    "    T=int(input())\n",
    "    for i in range(T):\n",
    "        s = input()\n",
    "        ob = Solution()\t\n",
    "        answer = ob.isSame(s)\n",
    "        print(answer)\n",
    "# } Driver Code Ends"
   ]
  }
 ],
 "metadata": {
  "language_info": {
   "name": "python"
  },
  "orig_nbformat": 4
 },
 "nbformat": 4,
 "nbformat_minor": 2
}
