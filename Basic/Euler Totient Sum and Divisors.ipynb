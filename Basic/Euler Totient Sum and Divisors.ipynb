{
 "cells": [
  {
   "cell_type": "markdown",
   "metadata": {},
   "source": [
    "# EULER TOTIENT SUM AND DIVISORS\n",
    "\n",
    "Given a number N find the sum of the Euler Totient values of all the divisors of N.\n",
    " \n",
    "### Example 1:\n",
    "\n",
    "#### Input:\n",
    "N = 5\n",
    "#### Output:\n",
    "5\n",
    "#### Explanation:\n",
    "1 and 5 are the factor of 5 and Φ(1) = 1 and Φ(5) = 4 and their sum is 4 + 1 = 5\n",
    "### Example 2:\n",
    "\n",
    "#### Input:\n",
    "N = 1\n",
    "#### Output:\n",
    "1\n",
    "#### Explanation:\n",
    "1 is the only factor of 1 and Φ(1) = 1\n",
    "\n",
    "### Your Task:\n",
    "You don't need to read input or print anything. Your task is to complete the function phiSum() which takes an integer N as input parameter and returns an integer, sum of the Euler Totient values of all the divisors of N.\n",
    " \n",
    "**Expected Time Complexity:** O(1)\n",
    "\n",
    "**Expected Space Complexity:** O(1)\n",
    "\n",
    "### Constraints:\n",
    "1 <= N <= 10^6"
   ]
  },
  {
   "cell_type": "code",
   "execution_count": 1,
   "metadata": {},
   "outputs": [
    {
     "name": "stdout",
     "output_type": "stream",
     "text": [
      "2\n",
      "5\n",
      "5\n",
      "1\n",
      "1\n"
     ]
    }
   ],
   "source": [
    "# User function Template for python3\n",
    "class Solution:\n",
    "    def phiSum (self, N):\n",
    "        # code here\n",
    "#         i = 1\n",
    "#         result = 0\n",
    "        \n",
    "#         # Find the divisors\n",
    "#         for i in range(1, N+1):\n",
    "\n",
    "#             # Check if divisor\n",
    "#             if not N % i:\n",
    "                \n",
    "#                 # Default 1 as totient of 1 and 2 is 1\n",
    "#                 if i in [1, 2]:\n",
    "#                     totient = 1\n",
    "                    \n",
    "#                 else:\n",
    "#                     # Default 1 as totient of 1 is 1\n",
    "#                     totient = 1\n",
    "                \n",
    "#                     # Find the totient of divisor\n",
    "#                     for j in range(2, i):\n",
    "#                         if i % j:\n",
    "#                             totient += 1\n",
    "            \n",
    "#                 result += totient\n",
    "        \n",
    "#         return result\n",
    "        return N\n",
    "\n",
    "#{ \n",
    "#  Driver Code Starts\n",
    "#Initial Template for Python 3\n",
    "if __name__ == '__main__': \n",
    "    t = int (input ())\n",
    "    for _ in range (t):\n",
    "        N = int(input())\n",
    "        ob = Solution()\n",
    "        print(ob.phiSum(N))\n",
    "# } Driver Code Ends"
   ]
  }
 ],
 "metadata": {
  "kernelspec": {
   "display_name": "Python 3",
   "language": "python",
   "name": "python3"
  },
  "language_info": {
   "codemirror_mode": {
    "name": "ipython",
    "version": 3
   },
   "file_extension": ".py",
   "mimetype": "text/x-python",
   "name": "python",
   "nbconvert_exporter": "python",
   "pygments_lexer": "ipython3",
   "version": "3.8.3"
  }
 },
 "nbformat": 4,
 "nbformat_minor": 4
}
