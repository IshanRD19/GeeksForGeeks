{
 "cells": [
  {
   "cell_type": "markdown",
   "metadata": {},
   "source": [
    "# MINIMIZE THE SUM OF PRODUCT\n",
    "\n",
    "You are given two arrays, A and B, of equal size N. The task is to find the minimum value of A[0] * B[0] + A[1] * B[1] + .... + A[N-1] * B[N-1], where shuffling of elements of arrays A and B is allowed.\n",
    "\n",
    "### Example 1:\n",
    "\n",
    "#### Input:\n",
    "N = 3 \n",
    "\n",
    "A[] = {3, 1, 1}\n",
    "\n",
    "B[] = {6, 5, 4}\n",
    "#### Output:\n",
    "23 \n",
    "\n",
    "#### Explanation:\n",
    "1 * 6 + 1 * 5 + 3 * 4 = 6 + 5 + 12 = 23 is the minimum sum\n",
    " \n",
    "### Example 2:\n",
    "\n",
    "#### Input:\n",
    "N = 5\n",
    "\n",
    "A[] = {6, 1, 9, 5, 4}\n",
    "\n",
    "B[] = {3, 4, 8, 2, 4}\n",
    "#### Output:\n",
    "80\n",
    "#### Explanation:\n",
    "2 * 9 + 3 * 6 + 4 * 5 + 4 * 4 + 8 * 1 = 18 + 18 + 20 + 16 + 8 = 80 is the minimum sum\n",
    "\n",
    "### Your Task:  \n",
    "You don't need to read input or print anything. Your task is to complete the function minValue() which takes the arrays A[], B[] and its size N as inputs and returns the minimum sum.\n",
    " \n",
    "**Expected Time Complexity:** O(N. log(N))\n",
    "\n",
    "**Expected Auxiliary Space:** O(1)\n",
    "\n",
    "### Constraints:\n",
    "1 ≤ N ≤ 10^5\n",
    "\n",
    "1 ≤ A[] ≤ 10^6"
   ]
  },
  {
   "cell_type": "code",
   "execution_count": 1,
   "metadata": {},
   "outputs": [
    {
     "name": "stdout",
     "output_type": "stream",
     "text": [
      "2\n",
      "3\n",
      "3 1 1\n",
      "6 5 4\n",
      "23\n",
      "5\n",
      "6 1 9 5 4\n",
      "3 4 8 2 4\n",
      "80\n"
     ]
    }
   ],
   "source": [
    "# User function Template for python3\n",
    "class Solution:\n",
    "    def minValue(self, a, b, n):\n",
    "        # Your code goes here\n",
    "        a.sort()\n",
    "        b.sort()\n",
    "        b.reverse()\n",
    "        min_sum = 0\n",
    "        \n",
    "        for i in range(n):\n",
    "            min_sum += a[i] * b[i]\n",
    "            \n",
    "        return min_sum\n",
    "\n",
    "#{ \n",
    " # Driver Code Starts\n",
    "#Initial Template for Python 3\n",
    "\n",
    "\n",
    "def main():\n",
    "\n",
    "    T = int(input())\n",
    "\n",
    "    while(T > 0):\n",
    "        n = int(input())\n",
    "        a = [int(x) for x in input().strip().split()]\n",
    "        b = [int(x) for x in input().strip().split()]\n",
    "        ob=Solution()\n",
    "        print(ob.minValue(a, b, n))\n",
    "\n",
    "        T -= 1\n",
    "\n",
    "\n",
    "if __name__ == \"__main__\":\n",
    "    main()\n",
    "\n",
    "# } Driver Code Ends"
   ]
  }
 ],
 "metadata": {
  "kernelspec": {
   "display_name": "Python 3",
   "language": "python",
   "name": "python3"
  },
  "language_info": {
   "codemirror_mode": {
    "name": "ipython",
    "version": 3
   },
   "file_extension": ".py",
   "mimetype": "text/x-python",
   "name": "python",
   "nbconvert_exporter": "python",
   "pygments_lexer": "ipython3",
   "version": "3.8.3"
  }
 },
 "nbformat": 4,
 "nbformat_minor": 4
}
