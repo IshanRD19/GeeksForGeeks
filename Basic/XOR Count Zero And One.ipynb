{
 "cells": [
  {
   "cell_type": "markdown",
   "metadata": {},
   "source": [
    "# XOR COUNT ZERO AND ONE\n",
    "\n",
    "Given a number N, the task is to find XOR of count of 0s and count of 1s in binary representation of a given number.\n",
    "\n",
    "### Example 1:\n",
    "\n",
    "#### Input:\n",
    "N = 5\n",
    "#### Output:\n",
    "3\n",
    "#### Explanation: \n",
    "Binary representation: 101\n",
    "\n",
    "Set_bit_count: 2\n",
    "\n",
    "Unset_bit_count: 1\n",
    "\n",
    "2 XOR 1 = 3\n",
    "### Example 2:\n",
    "\n",
    "#### Input:\n",
    "N = 7\n",
    "#### Output:\n",
    "3\n",
    "#### Expalanation:\n",
    "Binary representation: 111\n",
    "\n",
    "Set_bit_count: 3\n",
    "\n",
    "Unset_bit_count: 0\n",
    "\n",
    "3 XOR 0 = 3\n",
    "### Your Task:\n",
    "You don't need to read or print anything. Your task is to complete the function find_xor() which takes N as input parameter and returns the XOR of count of 0s and count of 1s in binary representation of N.\n",
    "\n",
    "**Expected Time Complexity:** O(log(N))\n",
    "\n",
    "**Expected Space Complexity:** O(1)\n",
    "\n",
    "### Constranits:\n",
    "1 <= N <= 10^9"
   ]
  },
  {
   "cell_type": "code",
   "execution_count": 1,
   "metadata": {},
   "outputs": [
    {
     "name": "stdout",
     "output_type": "stream",
     "text": [
      "2\n",
      "5\n",
      "3\n",
      "7\n",
      "3\n"
     ]
    }
   ],
   "source": [
    "## User function Template for python3\n",
    "class Solution:\n",
    "    def find_xor(self, n):\n",
    "        # Code here\n",
    "        binary = [int(b) for b in bin(n)[2:]]\n",
    "        set_bit_count = binary.count(1)\n",
    "        unset_bit_count = binary.count(0)\n",
    "        return set_bit_count ^ unset_bit_count\n",
    "\n",
    "# { \n",
    "# Driver Code Starts\n",
    "# Initial Template for Python 3\n",
    "if __name__ == '__main__':\n",
    "    T=int(input())\n",
    "    for i in range(T):\n",
    "        n = int(input())\n",
    "        ob = Solution();\n",
    "        ans = ob.find_xor(n)\n",
    "        print(ans)\n",
    "# } Driver Code Ends"
   ]
  }
 ],
 "metadata": {
  "kernelspec": {
   "display_name": "Python 3",
   "language": "python",
   "name": "python3"
  },
  "language_info": {
   "codemirror_mode": {
    "name": "ipython",
    "version": 3
   },
   "file_extension": ".py",
   "mimetype": "text/x-python",
   "name": "python",
   "nbconvert_exporter": "python",
   "pygments_lexer": "ipython3",
   "version": "3.8.3"
  }
 },
 "nbformat": 4,
 "nbformat_minor": 4
}
