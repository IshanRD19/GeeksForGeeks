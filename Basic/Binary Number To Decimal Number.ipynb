{
 "cells": [
  {
   "cell_type": "markdown",
   "metadata": {},
   "source": [
    "# BINARY NUMBER TO DECIMAL NUMBER\n",
    "\n",
    "Given a Binary Number B, find its decimal equivalent.\n",
    " \n",
    "### Example 1:\n",
    "\n",
    "#### Input:\n",
    "B = 10001000\n",
    "#### Output:\n",
    "136\n",
    "### Example 2:\n",
    "\n",
    "#### Input:\n",
    "B = 101100\n",
    "#### Output:\n",
    "44\n",
    " \n",
    "\n",
    "### Your Task:\n",
    "You don't need to read or print anything. Your task is to complete the function binary_to_decimal() which takes the binary number as string input parameter and returns its decimal equivalent.\n",
    " \n",
    "**Expected Time Complexity:** O(K * Log(K)) where K is number of bits in binary number.\n",
    "\n",
    "**Expected Space Complexity:** O(1)\n",
    "\n",
    "### Constraints:\n",
    "1 <= number of bits in binary number  <= 16"
   ]
  },
  {
   "cell_type": "code",
   "execution_count": 1,
   "metadata": {},
   "outputs": [
    {
     "name": "stdout",
     "output_type": "stream",
     "text": [
      "2\n",
      "10001000\n",
      "136\n",
      "101100\n",
      "44\n"
     ]
    }
   ],
   "source": [
    "# User function Template for python3\n",
    "\n",
    "class Solution:\n",
    "    def binary_to_decimal(self, str):\n",
    "        # Code here\n",
    "        digits = [int(d) for d in str]\n",
    "        length = len(digits)\n",
    "        decimal = 0\n",
    "\n",
    "        for i in range(length):\n",
    "            \n",
    "            if digits[length - i - 1]:\n",
    "                decimal += 2 ** i\n",
    "                \n",
    "        return decimal\n",
    "\n",
    "#{ \n",
    " # Driver Code Starts\n",
    "#Initial Template for Python 3\n",
    "\n",
    "if __name__ == '__main__':\n",
    "    T=int(input())\n",
    "    for i in range(T):\n",
    "        str = input()\n",
    "        ob = Solution();\n",
    "        ans = ob.binary_to_decimal(str)\n",
    "        print(ans)\n",
    "# } Driver Code Ends"
   ]
  }
 ],
 "metadata": {
  "kernelspec": {
   "display_name": "Python 3",
   "language": "python",
   "name": "python3"
  },
  "language_info": {
   "codemirror_mode": {
    "name": "ipython",
    "version": 3
   },
   "file_extension": ".py",
   "mimetype": "text/x-python",
   "name": "python",
   "nbconvert_exporter": "python",
   "pygments_lexer": "ipython3",
   "version": "3.8.3"
  }
 },
 "nbformat": 4,
 "nbformat_minor": 4
}
