{
 "cells": [
  {
   "cell_type": "markdown",
   "metadata": {},
   "source": [
    "# UNCOMMON CHARACTERS\n",
    "\n",
    "Given two strings A and B. Find the characters that are not common in the two strings. \n",
    "\n",
    "### Example 1:\n",
    "\n",
    "#### Input:\n",
    "A = geeksforgeeks\n",
    "\n",
    "B = geeksquiz\n",
    "#### Output: \n",
    "fioqruz\n",
    "#### Explanation: \n",
    "The characters 'f', 'i', 'o', 'q', 'r', 'u','z' \n",
    "are either present in A or B, but not in both.\n",
    "### Example 2:\n",
    "\n",
    "#### Input:\n",
    "A = characters\n",
    "\n",
    "B = alphabets\n",
    "#### Output: \n",
    "bclpr\n",
    "#### Explanation: \n",
    "The characters 'b','c','l','p','r' \n",
    "are either present in A or B, but not in both.\n",
    "\n",
    "### Your Task:  \n",
    "You dont need to read input or print anything. Complete the function UncommonChars() which takes strings A and B as input parameters and returns a string that contains all the uncommon characters in sorted order. If no such character exists return \"-1\".\n",
    "\n",
    "\n",
    "**Expected Time Complexity:** O(M+N) where M and N are the sizes of A and B respectively.\n",
    "\n",
    "**Expected Auxiliary Space:** O(M+N)  \n",
    "\n",
    "\n",
    "### Constraints:\n",
    "1 <= M,N <= 10^4\n",
    "\n",
    "String may contain duplicate characters."
   ]
  },
  {
   "cell_type": "code",
   "execution_count": 1,
   "metadata": {},
   "outputs": [
    {
     "name": "stdout",
     "output_type": "stream",
     "text": [
      "fioqruz\n",
      "bclpr\n"
     ]
    }
   ],
   "source": [
    "# User function Template for python3\n",
    "class Solution:\n",
    "    def UncommonChars(self,A, B):\n",
    "        #code here\n",
    "        set_a = set([c for c in A])\n",
    "        set_b = set([c for c in B])\n",
    "        result = list(set_a.union(set_b) - set_a.intersection(set_b))\n",
    "        result.sort()\n",
    "        return ''.join(result) if result else -1\n",
    "\n",
    "# { \n",
    "# Driver Code Starts\n",
    "# Initial Template for Python 3\n",
    "if __name__ == '__main__':\n",
    "    T = int(input())\n",
    "    for tcs in range(T):\n",
    "        A = input()\n",
    "        B = input()\n",
    "        ob = Solution()\n",
    "        print(ob.UncommonChars(A, B))\n",
    "# } Driver Code Ends"
   ]
  }
 ],
 "metadata": {
  "kernelspec": {
   "display_name": "Python 3.10.6 64-bit",
   "language": "python",
   "name": "python3"
  },
  "language_info": {
   "codemirror_mode": {
    "name": "ipython",
    "version": 3
   },
   "file_extension": ".py",
   "mimetype": "text/x-python",
   "name": "python",
   "nbconvert_exporter": "python",
   "pygments_lexer": "ipython3",
   "version": "3.10.6"
  },
  "orig_nbformat": 4,
  "vscode": {
   "interpreter": {
    "hash": "26de051ba29f2982a8de78e945f0abaf191376122a1563185a90213a26c5da77"
   }
  }
 },
 "nbformat": 4,
 "nbformat_minor": 2
}
