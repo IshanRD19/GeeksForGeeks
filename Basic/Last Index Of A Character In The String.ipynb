{
 "cells": [
  {
   "cell_type": "markdown",
   "metadata": {},
   "source": [
    "# LAST INDEX OF A CHARACTER IN THE STRING\n",
    "\n",
    "Given a string S  and a character X, the task is to find the last index (0 based indexing) of X in string S. If no index found then the answer will be -1.\n",
    "\n",
    "### Example 1:\n",
    "\n",
    "### Input:\n",
    "S = \"Geeks\", P = 'e'\n",
    "### Output:\n",
    "2\n",
    "### Explanation:\n",
    "Last index of 'e' is 2.\n",
    "### Example 2:\n",
    "\n",
    "### Input:\n",
    "S = \"okiyh\", P = 'z'\n",
    "### Output:\n",
    "-1\n",
    "### Explanation:\n",
    "There is no character as 'z'.\n",
    "\n",
    "### Your Task:  \n",
    "You don't need to read input or print anything. Your task is to complete the function LastIndex() which takes the string s and character p as inputs and returns the answer.\n",
    "\n",
    "**Expected Time Complexity:** O(|S|)\n",
    "\n",
    "**Expected Auxiliary Space:** O(1)\n",
    "\n",
    "### Constraints:\n",
    "1 ≤ |S| ≤ 10^5\n",
    "\n",
    "S and P contain only lower and upper case alphabets."
   ]
  },
  {
   "cell_type": "code",
   "execution_count": 1,
   "metadata": {},
   "outputs": [
    {
     "name": "stdout",
     "output_type": "stream",
     "text": [
      "2\n",
      "Geeks\n",
      "e\n",
      "2\n",
      "okiyh\n",
      "z\n",
      "-1\n"
     ]
    }
   ],
   "source": [
    "# User function Template for python3\n",
    "class Solution:\n",
    "    def LastIndex(self, s, p):\n",
    "        # code here\n",
    "        for i in range(len(s) - 1, -1, -1):\n",
    "            if s[i] == p:\n",
    "                return i\n",
    "        return -1\n",
    "\n",
    "#{ \n",
    "#  Driver Code Starts\n",
    "#Initial Template for Python 3\n",
    "\n",
    "if __name__=='__main__':\n",
    "    t=int(input())\n",
    "    for _ in range(t):\n",
    "        s = input().strip()\n",
    "        p = input().strip()[0]\n",
    "        \n",
    "        ob=Solution()\n",
    "        print(ob.LastIndex(s, p))\n",
    "# } Driver Code Ends"
   ]
  }
 ],
 "metadata": {
  "kernelspec": {
   "display_name": "Python 3",
   "language": "python",
   "name": "python3"
  },
  "language_info": {
   "codemirror_mode": {
    "name": "ipython",
    "version": 3
   },
   "file_extension": ".py",
   "mimetype": "text/x-python",
   "name": "python",
   "nbconvert_exporter": "python",
   "pygments_lexer": "ipython3",
   "version": "3.8.3"
  }
 },
 "nbformat": 4,
 "nbformat_minor": 4
}
