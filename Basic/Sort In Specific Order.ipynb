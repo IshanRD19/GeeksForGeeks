{
 "cells": [
  {
   "cell_type": "markdown",
   "metadata": {},
   "source": [
    "# SORT IN SPECIFIC ORDER\n",
    "\n",
    "Given an array A of positive integers. Your task is to sort them in such a way that the first part of the array contains odd numbers sorted in descending order, rest portion contains even numbers sorted in ascending order.\n",
    "\n",
    "### Example 1:\n",
    "\n",
    "#### Input:\n",
    "N = 7\n",
    "\n",
    "Arr = {1, 2, 3, 5, 4, 7, 10}\n",
    "#### Output:\n",
    "7 5 3 1 2 4 10\n",
    "#### Explanation:\n",
    "Array elements 7 5 3 1 are odd and sorted in descending order, whereas 2 4 10 are even numbers and sorted in ascending order.\n",
    " \n",
    "### Example 2:\n",
    "\n",
    "#### Input:\n",
    "N = 7\n",
    "\n",
    "Arr = {0, 4, 5, 3, 7, 2, 1}\n",
    "#### Output:\n",
    "7 5 3 1 0 2 4 \n",
    "\n",
    "### Your Task:  \n",
    "You don't need to read input or print anything. Your task is to complete the function leftIndex() which takes the array Arr[] and its size N as inputs and modifies the array Arr[].\n",
    "\n",
    "**Expected Time Complexity:** O(N. Log(N))\n",
    "\n",
    "**Expected Auxiliary Space:** O(N)\n",
    " \n",
    "\n",
    "### Constraints:\n",
    "1 <= N <= 10^6\n",
    "\n",
    "0 <= Ai <= 10^18"
   ]
  },
  {
   "cell_type": "code",
   "execution_count": 1,
   "metadata": {},
   "outputs": [
    {
     "name": "stdout",
     "output_type": "stream",
     "text": [
      "2\n",
      "7\n",
      "1 2 3 5 4 7 10\n",
      "7 5 3 1 2 4 10\n",
      "7\n",
      "0 4 5 3 7 2 1\n",
      "7 5 3 1 0 2 4\n"
     ]
    }
   ],
   "source": [
    "# User function Template for python3\n",
    "class Solution:\n",
    "    def sortIt(self, arr, n):\n",
    "        #code here.\n",
    "        odd, even, result = [], [], []\n",
    "        \n",
    "        # For each element\n",
    "        for i in arr:\n",
    "            \n",
    "            # Categorize based on odd and even\n",
    "            if i%2:\n",
    "                odd.append(i)\n",
    "            else:\n",
    "                even.append(i)\n",
    "                \n",
    "        # Sort in specific order\n",
    "        odd.sort(reverse=True)\n",
    "        even.sort()\n",
    "        \n",
    "        # Update the array in-place\n",
    "        arr[:len(odd)] = odd\n",
    "        arr[len(odd):] = even\n",
    "        return arr\n",
    "\n",
    "# { \n",
    "# Driver Code Starts\n",
    "# Initial Template for Python 3\n",
    "def main():\n",
    "    T = int(input())\n",
    "    while(T > 0):\n",
    "        n = int(input())\n",
    "        a = [int(x) for x in input().strip().split()]\n",
    "        ob = Solution()\n",
    "        ob.sortIt(a, n)\n",
    "        print(*a)\n",
    "        T -= 1\n",
    "if __name__ == \"__main__\":\n",
    "    main()\n",
    "# } Driver Code Ends"
   ]
  }
 ],
 "metadata": {
  "kernelspec": {
   "display_name": "Python 3",
   "language": "python",
   "name": "python3"
  },
  "language_info": {
   "codemirror_mode": {
    "name": "ipython",
    "version": 3
   },
   "file_extension": ".py",
   "mimetype": "text/x-python",
   "name": "python",
   "nbconvert_exporter": "python",
   "pygments_lexer": "ipython3",
   "version": "3.8.3"
  }
 },
 "nbformat": 4,
 "nbformat_minor": 4
}
