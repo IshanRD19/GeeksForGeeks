{
 "cells": [
  {
   "cell_type": "markdown",
   "metadata": {},
   "source": [
    "# ARRANGING THE ARRAY\n",
    "\n",
    "You are given an array of size N. Rearrange the given array in-place such that all the negative numbers occur before positive numbers.(Maintain the order of all -ve and +ve numbers as given in the original array).\n",
    " \n",
    "### Example 1:\n",
    "\n",
    "#### Input:\n",
    "N = 4\n",
    "\n",
    "Arr[] = {-3, 3, -2, 2}\n",
    "#### Output:\n",
    "-3 -2 3 2\n",
    "\n",
    "#### Explanation:\n",
    "In the given array, negative numbers are -3, -2 and positive numbers are 3, 2. \n",
    " \n",
    "\n",
    "### Example 2:\n",
    "\n",
    "#### Input:\n",
    "N = 5\n",
    "\n",
    "Arr[] = {2, -4, 7, -3, 4}\n",
    "#### Output:\n",
    "-4 -3 2 7 4\n",
    " \n",
    "\n",
    "### Your Task:  \n",
    "You don't need to read input or print anything. Your task is to complete the function Rearrange() which takes the array Arr[] and its size N as inputs and returns the array after rearranging with spaces between the elements of the array.\n",
    "\n",
    "***Expected Time Complexity:*** O(N. Log(N))\n",
    "\n",
    "***Expected Auxiliary Space:*** O(Log(N))\n",
    "\n",
    "### Constraints:\n",
    "1 ≤ N ≤ 10^7\n",
    "\n",
    "-10^18 ≤ Elements of array ≤ 10^18\n",
    "\n",
    "## Approach 1: Trivial Approach"
   ]
  },
  {
   "cell_type": "code",
   "execution_count": 1,
   "metadata": {},
   "outputs": [
    {
     "name": "stdout",
     "output_type": "stream",
     "text": [
      "2\n",
      "4\n",
      "-3 3 -2 2\n",
      "-3 -2 3 2\n",
      "5\n",
      "2 -4 7 -3 4\n",
      "-4 -3 2 7 4\n"
     ]
    }
   ],
   "source": [
    "# User function Template for python3\n",
    "def Rearrange(a, n):\n",
    "    # Your code goes here\n",
    "    is_positive_found, positive_at = False, -1\n",
    "    i = 0\n",
    "    \n",
    "    while i < n:\n",
    "        \n",
    "        # Update the array if positive element is found before negative element\n",
    "        if a[i] < 0 and is_positive_found:\n",
    "\n",
    "            # Insert negative element before positive element\n",
    "            a.insert(positive_at, a[i])\n",
    "            \n",
    "            # Remove the original negative element\n",
    "            a.pop(i+1)\n",
    "            \n",
    "            # Rescan the array from the updated index onwards\n",
    "            i = positive_at + 1\n",
    "            is_positive_found = False\n",
    "            \n",
    "        # Shift to next index if negative element is already present before positive element\n",
    "        elif a[i] < 0 and not is_positive_found:\n",
    "            i += 1\n",
    "\n",
    "        # Store the location of leftmost positive element\n",
    "        elif a[i] >= 0 and not is_positive_found:\n",
    "            is_positive_found = True\n",
    "            positive_at = i\n",
    "            i += 1\n",
    "            \n",
    "        # Shift to next index if positive element is already found\n",
    "        else:\n",
    "            i += 1\n",
    "        \n",
    "    return a\n",
    "\n",
    "# { \n",
    "# Driver Code Starts\n",
    "# Initial Template for Python 3\n",
    "def main():\n",
    "    T = int(input())\n",
    "    while(T > 0):\n",
    "        n = int(input())\n",
    "        a = [int(x) for x in input().strip().split()]\n",
    "        Rearrange(a, n)\n",
    "        print(*a)\n",
    "        T -= 1\n",
    "if __name__ == \"__main__\":\n",
    "    main()\n",
    "# } Driver Code Ends"
   ]
  },
  {
   "cell_type": "markdown",
   "metadata": {},
   "source": [
    "### Complexity Analysis\n",
    "\n",
    "Time Complexity: O(n^2)\n",
    "\n",
    "Space Complexity: O(1)\n",
    "\n",
    "## Approach 2: Time Efficient Approach"
   ]
  },
  {
   "cell_type": "code",
   "execution_count": 2,
   "metadata": {},
   "outputs": [
    {
     "name": "stdout",
     "output_type": "stream",
     "text": [
      "2\n",
      "4\n",
      "-3 3 -2 2\n",
      "-3 -2 3 2\n",
      "5\n",
      "2 -4 7 -3 4\n",
      "-4 -3 2 7 4\n"
     ]
    }
   ],
   "source": [
    "# User function Template for python3\n",
    "def Rearrange(a, n):\n",
    "    # Your code goes here\n",
    "    pos = []\n",
    "    i = 0\n",
    "    \n",
    "    while i < len(a):\n",
    "        \n",
    "        if a[i] >= 0:\n",
    "            pos.append(a[i])\n",
    "            a.pop(i)\n",
    "            \n",
    "        else:\n",
    "            i += 1\n",
    "            \n",
    "    return a.extend(pos)\n",
    "\n",
    "# { \n",
    "# Driver Code Starts\n",
    "# Initial Template for Python 3\n",
    "def main():\n",
    "    T = int(input())\n",
    "    while(T > 0):\n",
    "        n = int(input())\n",
    "        a = [int(x) for x in input().strip().split()]\n",
    "        Rearrange(a, n)\n",
    "        print(*a)\n",
    "        T -= 1\n",
    "if __name__ == \"__main__\":\n",
    "    main()\n",
    "# } Driver Code Ends"
   ]
  },
  {
   "cell_type": "markdown",
   "metadata": {},
   "source": [
    "### Complexity Analysis\n",
    "\n",
    "Time Complexity: O(n)\n",
    "\n",
    "Space Complexity: O(n)\n",
    "\n",
    "## Approach 3: Space Efficient Approach"
   ]
  },
  {
   "cell_type": "code",
   "execution_count": 3,
   "metadata": {},
   "outputs": [
    {
     "name": "stdout",
     "output_type": "stream",
     "text": [
      "2\n",
      "4\n",
      "-3 3 -2 2\n",
      "-3 -2 3 2\n",
      "5\n",
      "2 -4 7 -3 4\n",
      "-4 -3 2 7 4\n"
     ]
    }
   ],
   "source": [
    "# User function Template for python3\n",
    "def Rearrange(a, n):\n",
    "    # Your code goes here\n",
    "    place_negative_at = -1\n",
    "    \n",
    "    for i in range(n):\n",
    "        \n",
    "        if a[i] < 0:\n",
    "            place_negative_at += 1\n",
    "            \n",
    "            # Swap the elements\n",
    "            a[i], a[place_negative_at] = a[place_negative_at], a[i]\n",
    "            \n",
    "            # Maintain the order by rotating once to bring back the element adjacent to i-th index\n",
    "            if i - place_negative_at > 1:\n",
    "                a.insert(place_negative_at + 1, a[i])\n",
    "                a.pop(i+1)\n",
    "\n",
    "    return \n",
    "    \n",
    "# { \n",
    "# Driver Code Starts\n",
    "# Initial Template for Python 3\n",
    "def main():\n",
    "    T = int(input())\n",
    "    while(T > 0):\n",
    "        n = int(input())\n",
    "        a = [int(x) for x in input().strip().split()]\n",
    "        Rearrange(a, n)\n",
    "        print(*a)\n",
    "        T -= 1\n",
    "if __name__ == \"__main__\":\n",
    "    main()\n",
    "# } Driver Code Ends"
   ]
  },
  {
   "cell_type": "markdown",
   "metadata": {},
   "source": [
    "### Complexity Analysis\n",
    "\n",
    "Time Complexity: O(n)\n",
    "\n",
    "Space Complexity: O(1)"
   ]
  }
 ],
 "metadata": {
  "kernelspec": {
   "display_name": "Python 3",
   "language": "python",
   "name": "python3"
  },
  "language_info": {
   "codemirror_mode": {
    "name": "ipython",
    "version": 3
   },
   "file_extension": ".py",
   "mimetype": "text/x-python",
   "name": "python",
   "nbconvert_exporter": "python",
   "pygments_lexer": "ipython3",
   "version": "3.8.3"
  }
 },
 "nbformat": 4,
 "nbformat_minor": 4
}
