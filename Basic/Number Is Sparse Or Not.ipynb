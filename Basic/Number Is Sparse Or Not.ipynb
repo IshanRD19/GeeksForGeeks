{
 "cells": [
  {
   "cell_type": "markdown",
   "metadata": {},
   "source": [
    "# NUMBER IS SPARSE OR NOT\n",
    "\n",
    "Given a number N. The task is to check whether it is sparse or not. A number is said to be a sparse number if no two or more consecutive bits are set in the binary representation.\n",
    "\n",
    "### Example 1:\n",
    "\n",
    "#### Input: \n",
    "N = 2\n",
    "#### Output: \n",
    "1\n",
    "#### Explanation: \n",
    "Binary Representation of 2 is 10, \n",
    "which is not having consecutive set bits. \n",
    "So, it is sparse number.\n",
    "### Example 2:\n",
    "\n",
    "#### Input: \n",
    "N = 3\n",
    "#### Output: \n",
    "0\n",
    "#### Explanation: \n",
    "Binary Representation of 3 is 11, \n",
    "which is having consecutive set bits in it. \n",
    "So, it is not a sparse number.\n",
    "\n",
    "Your Task: The task is to complete the function checkSparse() that takes n as a parameter and returns 1 if the number is sparse else returns 0.\n",
    "\n",
    "\n",
    "**Expected Time Complexity:** O(log N).\n",
    "\n",
    "**Expected Auxiliary Space:** O(1).\n",
    "\n",
    "### Constraints:\n",
    "1 <= N <= 10^6"
   ]
  },
  {
   "cell_type": "code",
   "execution_count": 1,
   "metadata": {},
   "outputs": [
    {
     "name": "stdout",
     "output_type": "stream",
     "text": [
      "1\n",
      "0\n",
      "0\n"
     ]
    }
   ],
   "source": [
    "# User function Template for python3\n",
    "class Solution:\n",
    "    #Function to check if the number is sparse or not.\n",
    "    def isSparse(self,n):\n",
    "        #Your code here \n",
    "        bits = str(bin(n)[2:])\n",
    "        \n",
    "        for i in range(1, len(bits)):\n",
    "            if bits[i] == '0':\n",
    "                continue\n",
    "\n",
    "            if bits[i-1] == bits[i] == '1':\n",
    "                return 0\n",
    "            \n",
    "        return 1\n",
    "\n",
    "# { \n",
    "# Driver Code Starts\n",
    "# Initial Template for Python 3\n",
    "import math\n",
    "def main():\n",
    "    T=int(input())\n",
    "    while(T>0):\n",
    "        n=int(input())\n",
    "        ob=Solution()\n",
    "        if ob.isSparse(n):\n",
    "            print(\"1\")\n",
    "        else:\n",
    "            print(\"0\")\n",
    "        T-=1\n",
    "if __name__==\"__main__\":\n",
    "    main()\n",
    "# } Driver Code Ends"
   ]
  }
 ],
 "metadata": {
  "kernelspec": {
   "display_name": "Python 3.10.6 64-bit",
   "language": "python",
   "name": "python3"
  },
  "language_info": {
   "codemirror_mode": {
    "name": "ipython",
    "version": 3
   },
   "file_extension": ".py",
   "mimetype": "text/x-python",
   "name": "python",
   "nbconvert_exporter": "python",
   "pygments_lexer": "ipython3",
   "version": "3.10.6"
  },
  "orig_nbformat": 4,
  "vscode": {
   "interpreter": {
    "hash": "26de051ba29f2982a8de78e945f0abaf191376122a1563185a90213a26c5da77"
   }
  }
 },
 "nbformat": 4,
 "nbformat_minor": 2
}
