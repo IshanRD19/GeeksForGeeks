{
 "cells": [
  {
   "cell_type": "markdown",
   "metadata": {},
   "source": [
    "# SET BITS AND NUMBER\n",
    "\n",
    "Given a number N. Find the product of the number of setbits and the number itself.\n",
    "\n",
    "### Example 1:\n",
    "\n",
    "#### Input:\n",
    "N = 2\n",
    "#### Output:\n",
    "2\n",
    "#### Explaination:\n",
    "2 has one setbit. So, 2*1 = 2.\n",
    "\n",
    "### Example 2:\n",
    "\n",
    "#### Input:\n",
    "N = 3\n",
    "#### Output:\n",
    "6\n",
    "#### Explaination:\n",
    "3 has 2 setbits. 3*2 = 6.\n",
    "\n",
    "### Your Task:\n",
    "You do not need to read input or print anything. Your task is to complete the function bitMultiply() which takes the number N as input parameters and returns the product.\n",
    "\n",
    "**Expected Time Complexity:** O(Log N)\n",
    "\n",
    "**Expected Auxiliary Space:** O(1)\n",
    "\n",
    "### Constraints:\n",
    "1 <= N <= 10^6"
   ]
  },
  {
   "cell_type": "code",
   "execution_count": 1,
   "metadata": {},
   "outputs": [
    {
     "name": "stdout",
     "output_type": "stream",
     "text": [
      "2\n",
      "2\n",
      "2\n",
      "3\n",
      "6\n"
     ]
    }
   ],
   "source": [
    "# User function Template for python3\n",
    "class Solution:\n",
    "    def bitMultiply(self, N):\n",
    "        # code here\n",
    "        set_bits = [int(b) for b in bin(N)[2:]].count(1)\n",
    "        return N * set_bits\n",
    "\n",
    "#{ \n",
    "#  Driver Code Starts\n",
    "#Initial Template for Python 3\n",
    "\n",
    "if __name__ == '__main__': \n",
    "    t = int (input ())\n",
    "    for _ in range (t):\n",
    "        N = int(input())\n",
    "        \n",
    "        ob = Solution()\n",
    "        print(ob.bitMultiply(N))\n",
    "\n",
    "# } Driver Code Ends"
   ]
  }
 ],
 "metadata": {
  "kernelspec": {
   "display_name": "Python 3",
   "language": "python",
   "name": "python3"
  },
  "language_info": {
   "codemirror_mode": {
    "name": "ipython",
    "version": 3
   },
   "file_extension": ".py",
   "mimetype": "text/x-python",
   "name": "python",
   "nbconvert_exporter": "python",
   "pygments_lexer": "ipython3",
   "version": "3.8.3"
  }
 },
 "nbformat": 4,
 "nbformat_minor": 4
}
