{
 "cells": [
  {
   "cell_type": "markdown",
   "metadata": {},
   "source": [
    "# ALTERNATIVE SORTING\n",
    "\n",
    "Given an array arr[] of N distinct integers, output the array in such a way that the first element is first maximum and the second element is the first minimum, and so on.\n",
    "\n",
    "### Example 1:\n",
    "\n",
    "#### Input:\n",
    "N = 7, arr[] = {7, 1, 2, 3, 4, 5, 6}\n",
    "#### Output:\n",
    "7 1 6 2 5 3 4\n",
    "#### Explanation:\n",
    "The first element is first maximum and second element is first minimum and so on.\n",
    "### Example 2:\n",
    "\n",
    "#### Input:\n",
    "N = 8, arr[] = {1, 6, 9, 4, 3, 7, 8, 2}\n",
    "#### Output:\n",
    "9 1 8 2 7 3 6 4\n",
    "\n",
    "### Your Task:\n",
    "This is a function problem. You don't need to take any input, as it is already accomplished by the driver code. You just need to complete the function alternateSort() that takes array arr and integer N as parameters and returns the desired array as output.\n",
    "\n",
    "**Expected Time Complexity:** O(NlogN).\n",
    "\n",
    "**Expected Auxiliary Space:** O(N).\n",
    "\n",
    "### Constraints:\n",
    "1 ≤ N ≤ 10^6"
   ]
  },
  {
   "cell_type": "code",
   "execution_count": 1,
   "metadata": {},
   "outputs": [
    {
     "name": "stdout",
     "output_type": "stream",
     "text": [
      "2\n",
      "7\n",
      "7 1 2 3 4 5 6\n",
      "7 1 6 2 5 3 4 \n",
      "8\n",
      "1 6 9 4 3 7 8 2\n",
      "9 1 8 2 7 3 6 4 \n"
     ]
    }
   ],
   "source": [
    "class Solution:\n",
    "    def alternateSort(self,arr, N):\n",
    "        # Your code goes here\n",
    "        arr.sort()\n",
    "        result = []\n",
    "        \n",
    "        for i in range(0, N//2):\n",
    "                result.append(arr[N - 1 - i])\n",
    "                result.append(arr[i])\n",
    "                \n",
    "        if N % 2:\n",
    "            result.append(arr[N // 2])\n",
    "            \n",
    "        return result\n",
    "\n",
    "#{ \n",
    "#  Driver Code Starts\n",
    "if __name__ == '__main__': \n",
    "    def printAns(ans):\n",
    "        for x in ans:\n",
    "            print(x, end=\" \");\n",
    "        print()\n",
    "    \n",
    "    t=int(input())\n",
    "    for _ in range(0,t):\n",
    "        n=int(input())\n",
    "        a = list(map(int,input().split()))\n",
    "        obj=Solution()\n",
    "        ans=obj.alternateSort(a,n)\n",
    "        printAns(ans)\n",
    "# } Driver Code Ends"
   ]
  }
 ],
 "metadata": {
  "kernelspec": {
   "display_name": "Python 3",
   "language": "python",
   "name": "python3"
  },
  "language_info": {
   "codemirror_mode": {
    "name": "ipython",
    "version": 3
   },
   "file_extension": ".py",
   "mimetype": "text/x-python",
   "name": "python",
   "nbconvert_exporter": "python",
   "pygments_lexer": "ipython3",
   "version": "3.8.3"
  }
 },
 "nbformat": 4,
 "nbformat_minor": 4
}
