{
 "cells": [
  {
   "cell_type": "markdown",
   "metadata": {},
   "source": [
    "# FIND DUPLICATES UNDER GIVEN CONSTRAINTS\n",
    "\n",
    "Given a sorted array A[] having 10 elements which contain 6 different numbers in which only 1 number is repeated five times. Your task is to find the duplicate number using two comparisons only.\n",
    "\n",
    "### Example 1:\n",
    "\n",
    "#### Input: \n",
    "A[] = {1, 1, 1, 1, 1, 5, 7, 10, 20, 30}\n",
    "#### Output:\n",
    "1\n",
    "### Example 2:\n",
    "\n",
    "#### Input: \n",
    "A[] = {1, 2, 3, 3, 3, 3, 3, 5, 9, 10}\n",
    "#### Output:\n",
    "3\n",
    "\n",
    "### Your Task:  \n",
    "You don't need to read input or print anything. Your task is to complete the function findDuplicate() which takes the array A[], as inputs and returns the required duplicate element.\n",
    "\n",
    "**Expected Time Complexity:** O(1)\n",
    "\n",
    "**Expected Auxiliary Space:** O(1)\n",
    "\n",
    "### Constraints:\n",
    "Size of the array A[] = 10\n",
    "\n",
    "1 ≤ A[] ≤ 10^5"
   ]
  },
  {
   "cell_type": "code",
   "execution_count": 1,
   "metadata": {},
   "outputs": [
    {
     "name": "stdout",
     "output_type": "stream",
     "text": [
      "2\n",
      "1 1 1 1 1 5 7 10 20 30\n",
      "1\n",
      "1 2 3 3 3 3 3 5 9 10\n",
      "3\n"
     ]
    }
   ],
   "source": [
    "# User function Template for python3\n",
    "def findDuplicate(A):\n",
    "    # Your code goes here\n",
    "    if A[2] == A[3]:\n",
    "        return A[2]\n",
    "        \n",
    "    return A[7]\n",
    "\n",
    "#{ \n",
    "#  Driver Code Starts\n",
    "#Initial Template for Python 3\n",
    "def main():\n",
    "    T = int(input())\n",
    "    while(T > 0):\n",
    "        # n = int(input())\n",
    "        a = [int(x) for x in input().strip().split()]\n",
    "        print(findDuplicate(a))\n",
    "        T -= 1\n",
    "if __name__ == \"__main__\":\n",
    "    main()\n",
    "# } Driver Code Ends"
   ]
  }
 ],
 "metadata": {
  "kernelspec": {
   "display_name": "Python 3",
   "language": "python",
   "name": "python3"
  },
  "language_info": {
   "codemirror_mode": {
    "name": "ipython",
    "version": 3
   },
   "file_extension": ".py",
   "mimetype": "text/x-python",
   "name": "python",
   "nbconvert_exporter": "python",
   "pygments_lexer": "ipython3",
   "version": "3.8.3"
  }
 },
 "nbformat": 4,
 "nbformat_minor": 4
}
