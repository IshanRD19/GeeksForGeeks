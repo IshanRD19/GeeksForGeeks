{
 "cells": [
  {
   "cell_type": "markdown",
   "metadata": {},
   "source": [
    "# SNAKE CASE\n",
    "\n",
    "Given a Sentence S of length N containing only english alphabet characters, your task is to write a program that converts the given sentence to Snake Case sentence. Snake case is the practice of writing compound words or phrases in which the elements are separated with one underscore character (_) and no spaces, and the first letter of each word written in lowercase. For ease keep all the characters in lowercase.\n",
    "\n",
    "**Note:** The given sentence will not start with a Whitespace.\n",
    "\n",
    "### Example 1:\n",
    "\n",
    "#### Input: \n",
    "N = 14\n",
    "\n",
    "S = \"Geeks ForGeeks\"\n",
    "#### Output:\n",
    "\"geeks_forgeeks\"\n",
    "#### Explanation:\n",
    "All upper case characters are converted to lower case and the whitespace characters are replaced with underscore '_'.\n",
    "### Example 2:\n",
    "\n",
    "#### Input: \n",
    "N = 21\n",
    "\n",
    "S = \"Here comes the garden\"\n",
    "#### Output:\n",
    "\"here_comes_the_garden\"\n",
    "#### Explanation:\n",
    "All upper case characters are converted to lower case and the whitespace  characters are replaced with underscore '_'.\n",
    "### Your Task:\n",
    "You don't need to read input or print anything. Your task is to complete the function snakeCase() which takes N and a String S as input parameters and returns the converted string .\n",
    "\n",
    "Expected Time Complexity: O(N)\n",
    "Expected Auxiliary Space: O(1)\n",
    "\n",
    "### Constraints:\n",
    "1 ≤ N ≤ 10^5"
   ]
  },
  {
   "cell_type": "code",
   "execution_count": 1,
   "metadata": {},
   "outputs": [
    {
     "name": "stdout",
     "output_type": "stream",
     "text": [
      "2\n",
      "14\n",
      "Geeks ForGeeks\n",
      "geeks_forgeeks\n",
      "21\n",
      "Here comes the garden\n",
      "here_comes_the_garden\n"
     ]
    }
   ],
   "source": [
    "class Solution:\n",
    "    def snakeCase(self, S , n):\n",
    "        # code here\n",
    "        S = S.replace(' ', '_')\n",
    "        return S.lower()\n",
    "\n",
    "#{ \n",
    "#  Driver Code Starts\n",
    "#Initial Template for Python 3\n",
    "if __name__ == '__main__': \n",
    "    t = int (input ())\n",
    "    for _ in range (t):\n",
    "        n=int(input())\n",
    "        S=input()\n",
    "        ob = Solution()\n",
    "        print(ob.snakeCase(S , n))\n",
    "# } Driver Code Ends"
   ]
  }
 ],
 "metadata": {
  "kernelspec": {
   "display_name": "Python 3",
   "language": "python",
   "name": "python3"
  },
  "language_info": {
   "codemirror_mode": {
    "name": "ipython",
    "version": 3
   },
   "file_extension": ".py",
   "mimetype": "text/x-python",
   "name": "python",
   "nbconvert_exporter": "python",
   "pygments_lexer": "ipython3",
   "version": "3.8.3"
  }
 },
 "nbformat": 4,
 "nbformat_minor": 4
}
