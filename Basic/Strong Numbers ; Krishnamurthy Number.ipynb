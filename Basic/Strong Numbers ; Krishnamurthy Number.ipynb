{
 "cells": [
  {
   "cell_type": "markdown",
   "metadata": {},
   "source": [
    "# STRONG NUMBERS | KRISHNAMURTHY NUMBER\n",
    "\n",
    "Strong Numbers are the numbers whose sum of factorial of digits is equal to the original number. Given a number, the task is to check if it is a Strong Number or not.\n",
    " \n",
    "\n",
    "### Example 1:\n",
    "\n",
    "#### Input:\n",
    "145\n",
    "#### Output:\n",
    "1\n",
    "#### Explanation:\n",
    "1! + 4! + 5! = 145\n",
    "### Example 2:\n",
    "\n",
    "#### Input:\n",
    "5314\n",
    "#### Output:\n",
    "0\n",
    "#### Explanation:\n",
    "5! + 3! + 1! + 4! is not equal to 5314.\n",
    "\n",
    "### Your Task:\n",
    "You don't need to read or print anything. Your task is to complete the function is_StrongNumber() which takes the number as input parameter and returns 1 if it is Strong Number otherwise returns 0.\n",
    " \n",
    "\n",
    "**Expected Time Complexity:** O(Number of digits in N)\n",
    "**Expected Space Complexity:** O(1)\n",
    "\n",
    "### Constraints:\n",
    "1 <= n <= 10000"
   ]
  },
  {
   "cell_type": "code",
   "execution_count": 1,
   "metadata": {},
   "outputs": [
    {
     "name": "stdout",
     "output_type": "stream",
     "text": [
      "2\n",
      "145\n",
      "1\n",
      "5314\n",
      "0\n"
     ]
    }
   ],
   "source": [
    "# User function Template for python3\n",
    "class Solution:\n",
    "    def is_StrongNumber(self, n):\n",
    "        # Code here\n",
    "        digits = [int(d) for d in str(n)]\n",
    "        total = 0\n",
    "        \n",
    "        for digit in digits:\n",
    "            factorial = 1\n",
    "\n",
    "            while digit > 1:\n",
    "                factorial *= digit\n",
    "                digit -= 1\n",
    "\n",
    "            total += factorial\n",
    "\n",
    "        return 1 if total == n else 0\n",
    "\n",
    "#{ \n",
    "#  Driver Code Starts\n",
    "#Initial Template for Python 3\n",
    "\n",
    "if __name__ == '__main__':\n",
    "    T=int(input())\n",
    "    for i in range(T):\n",
    "        n = int(input())\n",
    "        ob = Solution();\n",
    "        ans = ob.is_StrongNumber(n)\n",
    "        print(ans)\n",
    "# } Driver Code Ends"
   ]
  }
 ],
 "metadata": {
  "kernelspec": {
   "display_name": "Python 3",
   "language": "python",
   "name": "python3"
  },
  "language_info": {
   "codemirror_mode": {
    "name": "ipython",
    "version": 3
   },
   "file_extension": ".py",
   "mimetype": "text/x-python",
   "name": "python",
   "nbconvert_exporter": "python",
   "pygments_lexer": "ipython3",
   "version": "3.8.3"
  }
 },
 "nbformat": 4,
 "nbformat_minor": 4
}
