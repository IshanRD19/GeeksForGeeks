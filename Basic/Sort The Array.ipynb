{
 "cells": [
  {
   "cell_type": "markdown",
   "metadata": {},
   "source": [
    "# SORT THE ARRAY\n",
    "\n",
    "Given a random set of numbers, Print them in sorted order.\n",
    "\n",
    "### Example 1:\n",
    "\n",
    "#### Input:\n",
    "N = 4\n",
    "\n",
    "arr[] = {1, 5, 3, 2}\n",
    "#### Output: {1, 2, 3, 5}\n",
    "#### Explanation:\n",
    "After sorting array will be like {1, 2, 3, 5}.\n",
    "### Example 2:\n",
    "\n",
    "#### Input:\n",
    "N = 2\n",
    "\n",
    "arr[] = {3, 1}\n",
    "#### Output:\n",
    "{1, 3}\n",
    "#### Explanation:\n",
    "After sorting array will be like {3, 1}.\n",
    "### Your Task:  \n",
    "You don't need to read input or print anything. Your task is to complete the function sortArr() which takes the list of integers and the size N as inputs and returns the modified list.\n",
    "\n",
    "**Expected Time Complexity:** O(N * log N)\n",
    "\n",
    "**Expected Auxiliary Space:** O(1)\n",
    "\n",
    "### Constraints:\n",
    "1 ≤ N, A[i] ≤ 10^5"
   ]
  },
  {
   "cell_type": "code",
   "execution_count": 1,
   "metadata": {},
   "outputs": [
    {
     "name": "stdout",
     "output_type": "stream",
     "text": [
      "2\n",
      "4\n",
      "1 5 3 2\n",
      "1 2 3 5 \n",
      "2\n",
      "3 1\n",
      "1 3 \n"
     ]
    }
   ],
   "source": [
    "# User function Template for python3\n",
    "class Solution:\n",
    "    def sortArr(self, arr, n): \n",
    "        #code here\n",
    "        arr.sort()\n",
    "        return arr\n",
    "\n",
    "#{ \n",
    "#  Driver Code Starts\n",
    "#Initial Template for Python 3\n",
    "\n",
    "if __name__ == '__main__': \n",
    "    t = int(input())\n",
    "    for _ in range(t):\n",
    "        n = int(input())\n",
    "        arr = list(map(int, input().strip().split()))\n",
    "        obj = Solution()\n",
    "        ans = obj.sortArr(arr, n)\n",
    "        for i in ans:\n",
    "            print(i,end=\" \")\n",
    "        print()\n",
    "# } Driver Code Ends"
   ]
  }
 ],
 "metadata": {
  "kernelspec": {
   "display_name": "Python 3",
   "language": "python",
   "name": "python3"
  },
  "language_info": {
   "codemirror_mode": {
    "name": "ipython",
    "version": 3
   },
   "file_extension": ".py",
   "mimetype": "text/x-python",
   "name": "python",
   "nbconvert_exporter": "python",
   "pygments_lexer": "ipython3",
   "version": "3.8.3"
  }
 },
 "nbformat": 4,
 "nbformat_minor": 4
}
