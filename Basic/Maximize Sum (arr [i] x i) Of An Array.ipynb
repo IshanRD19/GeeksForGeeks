{
 "cells": [
  {
   "cell_type": "markdown",
   "metadata": {},
   "source": [
    "# MAXIMIZE SUM (arr[i] * i) OF AN ARRAY\n",
    "\n",
    "Given an array A of N integers. Your task is to write a program to find the maximum value of ∑arr[i]*i, where i = 0, 1, 2,., n 1.\n",
    "You are allowed to rearrange the elements of the array.\n",
    "\n",
    "**Note:** Since output could be large, hence module 109+7 and then print answer.\n",
    "\n",
    "### Example 1:\n",
    "\n",
    "#### Input:\n",
    "Arr[] = {5, 3, 2, 4, 1}\n",
    "#### Output:\n",
    "40\n",
    "#### Explanation:\n",
    "If we arrange the array as 1 2 3 4 5 then we can see that the minimum index will multiply with minimum number and maximum index will multiply with maximum number. So 1*0+2*1+3*2+4*3+5*4=0+2+6+12+20 = 40 mod(109+7) = 40\n",
    "\n",
    "### Example 2:\n",
    "\n",
    "#### Input:\n",
    "Arr[] = {1, 2, 3}\n",
    "#### Output:\n",
    "8\n",
    "\n",
    "### Your Task:\n",
    "This is a function problem. The input is already taken care of by the driver code. You only need to complete the function Maximize() that takes an array (arr), sizeOfArray (n), and return the maximum value of an array. The driver code takes care of the printing.\n",
    "\n",
    "**Expected Time Complexity:** O(nlog(n)).\n",
    "\n",
    "**Expected Auxiliary Space:** O(1).\n",
    "\n",
    "### Constraints:\n",
    "1 ≤ N ≤ 10^7\n",
    "\n",
    "1 ≤ Ai ≤ N"
   ]
  },
  {
   "cell_type": "code",
   "execution_count": 1,
   "metadata": {},
   "outputs": [
    {
     "name": "stdout",
     "output_type": "stream",
     "text": [
      "2\n",
      "5\n",
      "5 3 2 4 1\n",
      "40\n",
      "3\n",
      "1 2 3\n",
      "8\n"
     ]
    }
   ],
   "source": [
    "# User function Template for python3\n",
    "class Solution:\n",
    "    def Maximize(self, a, n): \n",
    "        # Complete the function\n",
    "        a.sort()\n",
    "        return sum([i * a[i] for i in range(n)]) % (10**9 + 7)\n",
    "\n",
    "# { \n",
    "# Driver Code Starts\n",
    "# Initial Template for Python 3\n",
    "for _ in range(0,int(input())):\n",
    "    n = int(input())\n",
    "    arr = list(map(int,input().strip().split()))\n",
    "    ob=Solution()\n",
    "    print(ob.Maximize(arr, n))\n",
    "# } Driver Code Ends"
   ]
  }
 ],
 "metadata": {
  "kernelspec": {
   "display_name": "Python 3",
   "language": "python",
   "name": "python3"
  },
  "language_info": {
   "codemirror_mode": {
    "name": "ipython",
    "version": 3
   },
   "file_extension": ".py",
   "mimetype": "text/x-python",
   "name": "python",
   "nbconvert_exporter": "python",
   "pygments_lexer": "ipython3",
   "version": "3.8.3"
  }
 },
 "nbformat": 4,
 "nbformat_minor": 4
}
