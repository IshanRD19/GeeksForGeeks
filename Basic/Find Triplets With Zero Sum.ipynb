{
 "cells": [
  {
   "cell_type": "markdown",
   "metadata": {},
   "source": [
    "# FIND TRIPLETS WITH ZERO SUM\n",
    "\n",
    "Given an array arr[] of n integers. Check whether it contains a triplet that sums up to zero. \n",
    "\n",
    "### Example 1:\n",
    "\n",
    "#### Input:\n",
    "n = 5, arr[] = {0, -1, 2, -3, 1}\n",
    "#### Output:\n",
    "1\n",
    "#### Explanation:\n",
    "0, -1 and 1 forms a triplet\n",
    "with sum equal to 0.\n",
    "### Example 2:\n",
    "\n",
    "#### Input:\n",
    "n = 3, arr[] = {1, 2, 3}\n",
    "#### Output:\n",
    "0\n",
    "#### Explanation: \n",
    "No triplet with zero sum exists. \n",
    "\n",
    "### Your Task:\n",
    "You don't need to read input or print anything. Your task is to complete the boolean function findTriplets() which takes the array arr[] and the size of the array (n) as inputs and print 1 if the function returns true else print 0 if the function returns false. \n",
    "\n",
    "**Expected Time Complexity:** O(n2)\n",
    "\n",
    "**Expected Auxiliary Space:** O(1)\n",
    "\n",
    "### Constrains:\n",
    "1 <= n <= 10^4\n",
    "\n",
    "-10^6 <= A[i] <= 10^6\n",
    "\n",
    "## Approach 1: Naive Approach"
   ]
  },
  {
   "cell_type": "code",
   "execution_count": null,
   "metadata": {},
   "outputs": [],
   "source": []
  },
  {
   "cell_type": "code",
   "execution_count": null,
   "metadata": {},
   "outputs": [],
   "source": []
  },
  {
   "cell_type": "markdown",
   "metadata": {},
   "source": [
    "# Approach 2: Hashing"
   ]
  },
  {
   "cell_type": "code",
   "execution_count": 8,
   "metadata": {},
   "outputs": [
    {
     "name": "stdout",
     "output_type": "stream",
     "text": [
      "1\n",
      "5\n",
      "0 -1 2 -3 1\n",
      "1\n"
     ]
    }
   ],
   "source": [
    "#User function Template for python3\n",
    "\n",
    "class Solution:\n",
    "\n",
    "    # Function to find triplets with zero sum.    \n",
    "    def findTriplets(self, arr, n):\n",
    "\n",
    "        # Check if array size is insufficient\n",
    "        if n < 3:\n",
    "            return False\n",
    "        \n",
    "        # Iteratively select and fix an element\n",
    "        for i in range(n-1):\n",
    "        \n",
    "            # To store the second element\n",
    "            hashmap = set()\n",
    "            \n",
    "            # Iteratively select the next element\n",
    "            for j in range(i+1, n):\n",
    "                \n",
    "                # Check if a suitable third element already exists in hashmap \n",
    "                if -(arr[i] + arr[j]) in hashmap:\n",
    "                    return True\n",
    "                \n",
    "                # Add the second element in the hashmap \n",
    "                else:\n",
    "                    hashmap.add(arr[j])\n",
    "\n",
    "        return False\n",
    "\n",
    "\n",
    "#{ \n",
    "#  Driver Code Starts\n",
    "# Initial Template for Python 3\n",
    "\n",
    "# import atexit\n",
    "# import io\n",
    "# import sys\n",
    "\n",
    "# _INPUT_LINES = sys.stdin.read().splitlines()\n",
    "# input = iter(_INPUT_LINES).__next__\n",
    "# _OUTPUT_BUFFER = io.StringIO()\n",
    "# sys.stdout = _OUTPUT_BUFFER\n",
    "\n",
    "# @atexit.register\n",
    "\n",
    "# def write():\n",
    "#     sys.__stdout__.write(_OUTPUT_BUFFER.getvalue())\n",
    "\n",
    "if __name__=='__main__':\n",
    "    t = int(input())\n",
    "    for i in range(t):\n",
    "        n=int(input())\n",
    "        a=list(map(int,input().strip().split()))\n",
    "        if(Solution().findTriplets(a,n)):\n",
    "            print(1)\n",
    "        else:\n",
    "            print(0)\n",
    "# } Driver Code Ends"
   ]
  },
  {
   "cell_type": "markdown",
   "metadata": {},
   "source": [
    "## Approach 3: Sort and Traverse"
   ]
  },
  {
   "cell_type": "code",
   "execution_count": null,
   "metadata": {},
   "outputs": [],
   "source": []
  }
 ],
 "metadata": {
  "kernelspec": {
   "display_name": "Python 3",
   "language": "python",
   "name": "python3"
  },
  "language_info": {
   "codemirror_mode": {
    "name": "ipython",
    "version": 3
   },
   "file_extension": ".py",
   "mimetype": "text/x-python",
   "name": "python",
   "nbconvert_exporter": "python",
   "pygments_lexer": "ipython3",
   "version": "3.8.3"
  }
 },
 "nbformat": 4,
 "nbformat_minor": 4
}
