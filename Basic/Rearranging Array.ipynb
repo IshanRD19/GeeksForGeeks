{
 "cells": [
  {
   "cell_type": "markdown",
   "metadata": {},
   "source": [
    "# REARRANGING ARRAY\n",
    "\n",
    "Given a list of integers, rearrange the list such that it consists of alternating minimum-maximum elements using only list operations. The first element of the list should be the minimum of all elements and the second element should be a maximum of all elements present in the list. Similarly, the third element will be the next minimum element and the fourth element is the next maximum element, and so on. Use of extra space is not permitted. Store the answer in the answer[] array. You don't need to print that.\n",
    "\n",
    "**Note:** All the elements in the array are unique.\n",
    "\n",
    "### Example 1:\n",
    "\n",
    "#### Input\n",
    "5\n",
    "\n",
    "4 5 1 2 3\n",
    "#### Output\n",
    "1 5 2 4 3\n",
    "#### Explanation:\n",
    "In the first example minimum element is 1, maximum element is 5, second minimum is 2 and so on, thus the rearranged array is [1, 5, 2, 4, 3] \n",
    "\n",
    "### Example 2:\n",
    "\n",
    "#### Input\n",
    "4\n",
    "\n",
    "1 2 3 4\n",
    "#### Output\n",
    "1 4 2 3 \n",
    "\n",
    "### Your Task:  \n",
    "You don't need to read input or print anything. Your task is to complete the function Rearrange() which takes the array A[] and its size N as inputs and stores the final modified list in the answer[].\n",
    "\n",
    "**Expected Time Complexity:** O(N.log(N))\n",
    "\n",
    "**Expected Auxiliary Space:** O(1)\n",
    "\n",
    "### Constraints:\n",
    "1 ≤ N ≤ 105\n",
    "1 ≤ A[i] ≤ 106"
   ]
  },
  {
   "cell_type": "code",
   "execution_count": 1,
   "metadata": {},
   "outputs": [
    {
     "name": "stdout",
     "output_type": "stream",
     "text": [
      "2\n",
      "5\n",
      "4 5 1 2 3\n",
      "1 5 2 4 3\n",
      "4\n",
      "1 2 3 4\n",
      "1 4 2 3\n"
     ]
    }
   ],
   "source": [
    "# User function Template for python3\n",
    "class Solution:    \n",
    "    def Rearrange(self, a, n, answer):\n",
    "        #Code Here\n",
    "        \n",
    "        # (Time Efficient Method)\n",
    "        a.sort()\n",
    "        \n",
    "        for i in range(n):\n",
    "            if i%2:\n",
    "                answer[i] = a[n - ((i+1) // 2)]\n",
    "            else:\n",
    "                answer[i] = a[i // 2]\n",
    "                \n",
    "        return answer\n",
    "\n",
    "#{ \n",
    "#  Driver Code Starts\n",
    "#Initial Template for Python 3\n",
    "def main():\n",
    "    T = int(input())\n",
    "    while(T > 0):\n",
    "        n = int(input())\n",
    "        a = [int(x) for x in input().strip().split()]\n",
    "        answer = [0 for x in range(n)]\n",
    "        ob = Solution()\n",
    "        ob.Rearrange(a, n, answer)\n",
    "        print(*answer)\n",
    "        T -= 1\n",
    "if __name__ == \"__main__\":\n",
    "    main()\n",
    "# } Driver Code Ends"
   ]
  }
 ],
 "metadata": {
  "kernelspec": {
   "display_name": "Python 3",
   "language": "python",
   "name": "python3"
  },
  "language_info": {
   "codemirror_mode": {
    "name": "ipython",
    "version": 3
   },
   "file_extension": ".py",
   "mimetype": "text/x-python",
   "name": "python",
   "nbconvert_exporter": "python",
   "pygments_lexer": "ipython3",
   "version": "3.8.3"
  }
 },
 "nbformat": 4,
 "nbformat_minor": 4
}
