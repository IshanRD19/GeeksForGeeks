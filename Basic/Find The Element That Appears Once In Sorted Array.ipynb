{
 "cells": [
  {
   "cell_type": "markdown",
   "metadata": {},
   "source": [
    "# FIND THE ELEMENT THAT APPEARS ONCE IN SORTED ARRAY\n",
    "\n",
    "Given a sorted array arr[] of size N. Find the element that appears only once in the array. All other elements appear exactly twice. \n",
    "\n",
    "### Example 1:\n",
    "\n",
    "#### Input:\n",
    "N = 11\n",
    "\n",
    "arr[] = {1, 1, 2, 2, 3, 3, 4, 50, 50, 65, 65}\n",
    "#### Output: \n",
    "4\n",
    "#### Explanation: \n",
    "4 is the only element that appears exactly once.\n",
    " \n",
    "### Your Task:  \n",
    "You don't need to read input or print anything. Complete the function findOnce() which takes sorted array and its size as its input parameter and returns the element that appears only once. \n",
    "\n",
    "**Expected Time Complexity:** O(log N)\n",
    "**Expected Auxiliary Space:** O(1)\n",
    "\n",
    "### Constraints:\n",
    "1 <= N <= 10^5\n",
    "\n",
    "-10^5 <= arr[i] <= 10^5"
   ]
  },
  {
   "cell_type": "code",
   "execution_count": 1,
   "metadata": {},
   "outputs": [
    {
     "name": "stdout",
     "output_type": "stream",
     "text": [
      "4\n"
     ]
    }
   ],
   "source": [
    "# User function Template for python3\n",
    "class Solution:\n",
    "    def findOnce(self,arr : list, n : int):\n",
    "        # Complete this function\n",
    "        result = 0\n",
    "        \n",
    "        for i in range(0, n-1, 2):\n",
    "            if arr[i] != arr[i+1]:\n",
    "                return arr[i]\n",
    "\n",
    "        return arr[n-1]\n",
    "\n",
    "# { \n",
    "# Driver Code Starts\n",
    "# Initial Template for Python 3\n",
    "if __name__ == '__main__':\n",
    "    t = int(input())\n",
    "    for _ in range(t):\n",
    "        n = int(input())\n",
    "        arr = [int(x) for x in input().strip().split()]\n",
    "        ob = Solution()\n",
    "        print(ob.findOnce(arr, n))\n",
    "# } Driver Code Ends"
   ]
  }
 ],
 "metadata": {
  "kernelspec": {
   "display_name": "Python 3.10.6 64-bit",
   "language": "python",
   "name": "python3"
  },
  "language_info": {
   "codemirror_mode": {
    "name": "ipython",
    "version": 3
   },
   "file_extension": ".py",
   "mimetype": "text/x-python",
   "name": "python",
   "nbconvert_exporter": "python",
   "pygments_lexer": "ipython3",
   "version": "3.10.6"
  },
  "orig_nbformat": 4,
  "vscode": {
   "interpreter": {
    "hash": "26de051ba29f2982a8de78e945f0abaf191376122a1563185a90213a26c5da77"
   }
  }
 },
 "nbformat": 4,
 "nbformat_minor": 2
}
