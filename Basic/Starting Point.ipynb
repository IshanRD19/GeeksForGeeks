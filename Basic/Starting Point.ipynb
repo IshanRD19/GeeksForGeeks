{
 "cells": [
  {
   "cell_type": "markdown",
   "metadata": {},
   "source": [
    "# STARTING POINT\n",
    "\n",
    "You are a traveler, lost in a jungle. Backtrack your steps and find the starting point.\n",
    "\n",
    "Currently, you are at coordinates (x,y). You are also given an array pathCoordinates [ ] where each element is a (a,b) pair.\n",
    "\n",
    "The ith pair (a,b), in the array, denotes that in the ith move you moved your X co-ordinate by a and Y co-ordinate by b. \n",
    "if X,Y coordinates in an instant are (c,d) then your next move will be to ( c+a, d+b). \n",
    "\n",
    "### Example 1:\n",
    "\n",
    "#### Input:\n",
    "x = 2, y = 2, \n",
    "\n",
    "pathCoordinates = {{1,0},{0,1},{1,1}}\n",
    "#### Output:\n",
    "{0,0}\n",
    "#### Explaination:\n",
    "{0,0} was the starting point of the traveler. At first he changed his X co-ordinate by 1 and Y co-ordinate by 0. {0,0} -> {1,0} After that he changed his X co-ordinate by 0 and Y co-ordinate by 1. {0,0} -> {1,0} -> {1,1} And finally, he changed his X co-ordinate by 1 and Y co-ordinate by 1. {0,0} -> {1,0} -> {1,1} -> {2,2}\n",
    "\n",
    "\n",
    "### Example 2:\n",
    "\n",
    "#### Input:\n",
    "x = 1, y = 2,\n",
    "\n",
    "pathCoordinates = {{1,1}}\n",
    "#### Output:\n",
    "{0,1}\n",
    "#### Explaination:\n",
    "The route followed by the traveller is {0,1} -> {1,2}.\n",
    " \n",
    "### Your Task:\n",
    "You don't need to read or print anything. Your task is to complete the function findStartingPoint() which takes x, y, and pathCoordinates as input parameters and returns a list containing the starting point.\n",
    " \n",
    "**Expected Time Compelxity:** O(n) where n = length of pathCoordinates.\n",
    "\n",
    "**Expected Space Complexity:** O(1)\n",
    "\n",
    "### Constraints:\n",
    "1 <= n <= 10^3"
   ]
  },
  {
   "cell_type": "code",
   "execution_count": 1,
   "metadata": {},
   "outputs": [
    {
     "name": "stdout",
     "output_type": "stream",
     "text": [
      "2\n",
      "2 2\n",
      "3\n",
      "1 0\n",
      "0 1\n",
      "1 1\n",
      "0 0 \n",
      "1 2\n",
      "1\n",
      "1 1\n",
      "0 1 \n"
     ]
    }
   ],
   "source": [
    "# User function Template for python3\n",
    "class Solution:\n",
    "    def findStartingPoint(self, x, y, pathCoordinates):\n",
    "        #Code here\n",
    "        start_x, start_y = x, y\n",
    "        for i in range(len(pathCoordinates)-1, -1, -1):\n",
    "            start_x -= pathCoordinates[i][0]\n",
    "            start_y -= pathCoordinates[i][1]\n",
    "        return [start_x, start_y]\n",
    "\n",
    "#{ \n",
    "#  Driver Code Starts\n",
    "#Initial Template for Python 3\n",
    "\n",
    "if __name__ == '__main__':\n",
    "    T=int(input())\n",
    "    for i in range(T):\n",
    "        x, y = input().split()\n",
    "        x = int(x); y = int(y);\n",
    "        n = int(input())\n",
    "        pathCoordinates = []\n",
    "        for _ in range(n):\n",
    "            pathCoordinates.append(list(map(int, input().split())))\n",
    "        obj = Solution()\n",
    "        ans = obj.findStartingPoint(x, y, pathCoordinates)\n",
    "        for _ in ans:\n",
    "            print(_, end = \" \")\n",
    "        print()\n",
    "\n",
    "\n",
    "# } Driver Code Ends"
   ]
  }
 ],
 "metadata": {
  "kernelspec": {
   "display_name": "Python 3",
   "language": "python",
   "name": "python3"
  },
  "language_info": {
   "codemirror_mode": {
    "name": "ipython",
    "version": 3
   },
   "file_extension": ".py",
   "mimetype": "text/x-python",
   "name": "python",
   "nbconvert_exporter": "python",
   "pygments_lexer": "ipython3",
   "version": "3.8.3"
  }
 },
 "nbformat": 4,
 "nbformat_minor": 4
}
