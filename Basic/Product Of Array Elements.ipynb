{
 "cells": [
  {
   "cell_type": "markdown",
   "metadata": {},
   "source": [
    "# PRODUCT OF ARRAY ELEMENTS\n",
    "\n",
    "This is a functional problem. Your task is to return the product of array elements under a given modulo.\n",
    "The modulo operation finds the remainder after the division of one number by another. For example, K(mod(m))=K%m= remainder obtained when K is divided by m\n",
    "\n",
    "### Example:\n",
    "\n",
    "#### Input:\n",
    "1\n",
    "\n",
    "4\n",
    "\n",
    "1 2 3 4\n",
    "\n",
    "#### Output:\n",
    "24\n",
    "### Input:\n",
    "The first line of input contains T denoting the number of test cases. Then each of the T lines contains a single positive integer N denotes the number of elements in the array. The next line contains 'N' integer elements of the array.\n",
    "\n",
    "\n",
    "### Output:\n",
    "Return the product of array elements under a given modulo.\n",
    "That is, return (Array[0]*Array[1]*Array[2]...*Array[n])%modulo.\n",
    "\n",
    "### Constraints:\n",
    "1<=T<=200\n",
    "\n",
    "1<=N<=10^5\n",
    "\n",
    "1<=ar[i]<=10^5"
   ]
  },
  {
   "cell_type": "code",
   "execution_count": 1,
   "metadata": {},
   "outputs": [],
   "source": [
    "# User function Template for python3\n",
    "# arr is the array\n",
    "# n is the number of element in array\n",
    "# mod= modulo value\n",
    "def product(arr,n,mod):\n",
    "    # your code here\n",
    "    result = 1\n",
    "    \n",
    "    for i in range(n):\n",
    "        result *= arr[i]\n",
    "    \n",
    "    return result % mod\n",
    "\n",
    "# { \n",
    "# Driver Code Starts\n",
    "# Initial Template for Python 3\n",
    "if __name__==\"__main__\":\n",
    "    t=int(input())\n",
    "    mod=1000000007\n",
    "    for j in range(t):\n",
    "        n=int(input())\n",
    "        arr=list(map(int,input().split()))\n",
    "        print(product(arr,n,mod))\n",
    "# } Driver Code Ends"
   ]
  }
 ],
 "metadata": {
  "kernelspec": {
   "display_name": "Python 3.10.6 64-bit",
   "language": "python",
   "name": "python3"
  },
  "language_info": {
   "codemirror_mode": {
    "name": "ipython",
    "version": 3
   },
   "file_extension": ".py",
   "mimetype": "text/x-python",
   "name": "python",
   "nbconvert_exporter": "python",
   "pygments_lexer": "ipython3",
   "version": "3.10.6"
  },
  "orig_nbformat": 4,
  "vscode": {
   "interpreter": {
    "hash": "26de051ba29f2982a8de78e945f0abaf191376122a1563185a90213a26c5da77"
   }
  }
 },
 "nbformat": 4,
 "nbformat_minor": 2
}
