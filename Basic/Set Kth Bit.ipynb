{
 "cells": [
  {
   "cell_type": "markdown",
   "metadata": {},
   "source": [
    "# SET Kth BIT\n",
    "\n",
    "Given a number N and a value K. From the right, set the Kth bit in the binary representation of N. The position of Least Significant Bit(or last bit) is 0, the second last bit is 1 and so on. \n",
    "\n",
    "### Example 1:\n",
    "\n",
    "#### Input:\n",
    "N = 10 \n",
    "\n",
    "K = 2\n",
    "#### Output:\n",
    "14\n",
    "#### Explanation:\n",
    "Binary representation of the given number\n",
    "10 is: 1 0 1 0, number of bits in the \n",
    "binary reprsentation is 4. Thus 2nd bit\n",
    "from right is 0. The number after changing\n",
    "this bit to 1 is: 14(1 1 1 0).\n",
    "### Example 2:\n",
    "\n",
    "#### Input:\n",
    "N = 15 \n",
    "\n",
    "K = 3\n",
    "#### Output:\n",
    "15\n",
    "#### Explanation:\n",
    "The binary representation of the given\n",
    "number 15 is: 1 1 1 1, number of bits\n",
    "in the binary representation is 4. Thus\n",
    "3rd bit from the right is 1. The number\n",
    "after changing this bit to 1 is\n",
    "15(1 1 1 1).\n",
    "### Your Task:  \n",
    "You don't need to read input or print anything. Your task is to complete the function setKthBit() which takes two integer N and K as input parameter and returns an integer after setting the K'th bit in N.\n",
    "\n",
    "**Expected Time Complexity:** O(1)\n",
    "\n",
    "**Expected Auxiliary Space:** O(1)\n",
    "\n",
    "### Constraints:\n",
    "1 <= N <= 10^9\n",
    "\n",
    "0 <= K < X, where X is the number of bits in the binary representation of N.\n",
    "\n",
    "## Approach 1: Type Conversion"
   ]
  },
  {
   "cell_type": "code",
   "execution_count": null,
   "metadata": {},
   "outputs": [],
   "source": [
    "# User function Template for python3\n",
    "class Solution:\n",
    "\tdef setKthBit(self, N, K):\n",
    "\t\t# code here\n",
    "\t\tbinary = [b for b in bin(N)[2:]]\n",
    "\t\tbinary[-(K+1)] = '1'\n",
    "\t\treturn int(''.join(binary), 2)\n",
    "\n",
    "# { \n",
    "# Driver Code Starts\n",
    "# Initial Template for Python 3\n",
    "if __name__ == '__main__':\n",
    "\tT=int(input())\n",
    "\tfor i in range(T):\n",
    "\t\tN,K = input().split()\n",
    "\t\tN = int(N)\n",
    "\t\tK = int(K)\n",
    "\t\tob = Solution()\n",
    "\t\tans = ob.setKthBit(N,K)\n",
    "\t\tprint(ans)\n",
    "# } Driver Code Ends"
   ]
  },
  {
   "cell_type": "markdown",
   "metadata": {},
   "source": [
    "## Approach 2: OR Method"
   ]
  },
  {
   "cell_type": "code",
   "execution_count": null,
   "metadata": {},
   "outputs": [],
   "source": [
    "# User function Template for python3\n",
    "class Solution:\n",
    "\tdef setKthBit(self, N, K):\n",
    "\t\t# code here\n",
    "\t\treturn int(N | (1 << K))\n",
    "\n",
    "# { \n",
    "# Driver Code Starts\n",
    "# Initial Template for Python 3\n",
    "if __name__ == '__main__':\n",
    "\tT=int(input())\n",
    "\tfor i in range(T):\n",
    "\t\tN,K = input().split()\n",
    "\t\tN = int(N)\n",
    "\t\tK = int(K)\n",
    "\t\tob = Solution()\n",
    "\t\tans = ob.setKthBit(N,K)\n",
    "\t\tprint(ans)\n",
    "# } Driver Code Ends"
   ]
  }
 ],
 "metadata": {
  "language_info": {
   "name": "python"
  },
  "orig_nbformat": 4
 },
 "nbformat": 4,
 "nbformat_minor": 2
}
