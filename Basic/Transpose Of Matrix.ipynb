{
 "cells": [
  {
   "cell_type": "markdown",
   "metadata": {},
   "source": [
    "# TRANSPOSE OF MATRIX\n",
    "\n",
    "Write a program to find the transpose of a square matrix of size N*N. Transpose of a matrix is obtained by changing rows to columns and columns to rows.\n",
    "\n",
    "### Example 1:\n",
    "\n",
    "#### Input:\n",
    "N = 4\n",
    "\n",
    "mat[][] = \n",
    "\n",
    "{{1, 1, 1, 1},\n",
    "\n",
    "{2, 2, 2, 2}\n",
    "\n",
    "{3, 3, 3, 3}\n",
    "\n",
    "{4, 4, 4, 4}}\n",
    "#### Output: \n",
    "{{1, 2, 3, 4},  \n",
    "\n",
    "{1, 2, 3, 4}  \n",
    "\n",
    "{1, 2, 3, 4}\n",
    "\n",
    "{1, 2, 3, 4}} \n",
    "### Example 2:\n",
    "\n",
    "#### Input:\n",
    "N = 2\n",
    "\n",
    "mat[][] = \n",
    "\n",
    "{{1, 2},\n",
    "\n",
    "{-9, -2}}\n",
    "#### Output:\n",
    "{{1, -9}, \n",
    " \n",
    "{2, -2}}\n",
    "\n",
    "### Your Task:\n",
    "You dont need to read input or print anything. Complete the function transpose() which takes matrix[][] and N as input parameter and finds the transpose of the input matrix. You need to do this in-place. That is you need to update the original matrix with the transpose. \n",
    "\n",
    "**Expected Time Complexity:** O(N * N)\n",
    "\n",
    "**Expected Auxiliary Space:** O(1)\n",
    "\n",
    "### Constraints:\n",
    "1 <= N <= 100\n",
    "\n",
    "-10^3 <= mat[i][j] <= 10^3"
   ]
  },
  {
   "cell_type": "code",
   "execution_count": 1,
   "metadata": {},
   "outputs": [
    {
     "name": "stdout",
     "output_type": "stream",
     "text": [
      "2\n",
      "4\n",
      "1 1 1 1 2 2 2 2 3 3 3 3 4 4 4 4\n",
      "1 2 3 4 1 2 3 4 1 2 3 4 1 2 3 4 \n",
      "2\n",
      "1 2 -9 -2\n",
      "1 -9 2 -2 \n"
     ]
    }
   ],
   "source": [
    "# Back-end complete function Template for Python 3\n",
    "class Solution:\n",
    "    #Function to find transpose of a matrix.\n",
    "    def transpose(self,matrix, n):\n",
    "\n",
    "        # Swap the upper triangle elements with the lower triangle elements\n",
    "        for row in range(n):\n",
    "            for col in range(row + 1, n):\n",
    "                matrix[row][col], matrix[col][row] = matrix[col][row], matrix[row][col]\n",
    "                \n",
    "        return matrix\n",
    "\n",
    "# { \n",
    "# Driver Code Starts\n",
    "# Initial Template for Python 3\n",
    "if __name__ == '__main__': \n",
    "    t = int (input ())\n",
    "    for _ in range (t):\n",
    "        n = int(input())\n",
    "        matrix = [[0 for j in range(n)] for i in range(n)]\n",
    "        line1 = [int(x) for x in input().strip().split()]\n",
    "        k=0\n",
    "        for i in range(n):\n",
    "            for j in range (n):\n",
    "                matrix[i][j]=line1[k]\n",
    "                k+=1\n",
    "        obj = Solution()\n",
    "        obj.transpose(matrix,n)\n",
    "        for i in range(n):\n",
    "            for j in range(n):\n",
    "                print(matrix[i][j],end=\" \")\n",
    "        print()\n",
    "# } Driver Code Ends"
   ]
  }
 ],
 "metadata": {
  "kernelspec": {
   "display_name": "Python 3",
   "language": "python",
   "name": "python3"
  },
  "language_info": {
   "codemirror_mode": {
    "name": "ipython",
    "version": 3
   },
   "file_extension": ".py",
   "mimetype": "text/x-python",
   "name": "python",
   "nbconvert_exporter": "python",
   "pygments_lexer": "ipython3",
   "version": "3.8.3"
  }
 },
 "nbformat": 4,
 "nbformat_minor": 4
}
