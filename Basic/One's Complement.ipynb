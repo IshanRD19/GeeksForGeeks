{
 "cells": [
  {
   "cell_type": "markdown",
   "metadata": {},
   "source": [
    "# ONE'S COMPLEMENT\n",
    "\n",
    "Given an integer N, write a program to find the one’s complement of the integer.\n",
    "\n",
    "### Example 1:\n",
    "\n",
    "#### Input:\n",
    "N = 5\n",
    "#### Output:\n",
    "2\n",
    "#### Explanation:\n",
    "binary of 5 is 101\n",
    "1's complement of 101 is 010\n",
    "010 is 2 in its decimal form. \n",
    "### Example 2:\n",
    "\n",
    "#### Input:\n",
    "N = 255\n",
    "#### Output:\n",
    "0\n",
    "#### Explanation:\n",
    "binary of 255 is 1111 1111\n",
    "1's complement of 1111 1111 is\n",
    "0000 0000 which is 0 in its decimal form.\n",
    "\n",
    "### Your Task:\n",
    "You don't need to read input or print anything. Your task is to complete the function onesComplement() which takes an integer N as input parameter and returns an integer value, the one's complement of N.\n",
    " \n",
    "**Expected Time Complexity:** O(1)\n",
    "\n",
    "**Expected Space Complexity:** O(1)\n",
    "\n",
    "### Constraints:\n",
    "1 <= N <= 10^6"
   ]
  },
  {
   "cell_type": "code",
   "execution_count": 1,
   "metadata": {},
   "outputs": [
    {
     "name": "stdout",
     "output_type": "stream",
     "text": [
      "2\n",
      "5\n",
      "2\n",
      "255\n",
      "0\n"
     ]
    }
   ],
   "source": [
    "# User function Template for python3\n",
    "class Solution:\n",
    "    def onesComplement(self,N):\n",
    "        #code here\n",
    "        S = bin(N)[2:]\n",
    "        result = 0\n",
    "        binary_result = ''\n",
    "        \n",
    "        # Calculate 1's complement\n",
    "        for i in S:\n",
    "            if i == '0':\n",
    "                binary_result += '1'\n",
    "            else:\n",
    "                binary_result += '0'\n",
    "        \n",
    "        # Convert to decimal form\n",
    "        binary_result = binary_result[::-1]\n",
    "        for i in range(len(binary_result)):\n",
    "            if binary_result[i] == '1':\n",
    "                result += 2 ** i\n",
    "        \n",
    "        return result\n",
    "\n",
    "#{ \n",
    "#  Driver Code Starts\n",
    "#Initial Template for Python 3\n",
    "if __name__ == '__main__': \n",
    "    t = int (input ())\n",
    "    for _ in range (t):\n",
    "        N = int(input())\n",
    "\n",
    "        ob = Solution()\n",
    "        print(ob.onesComplement(N))\n",
    "# } Driver Code Ends"
   ]
  }
 ],
 "metadata": {
  "kernelspec": {
   "display_name": "Python 3",
   "language": "python",
   "name": "python3"
  },
  "language_info": {
   "codemirror_mode": {
    "name": "ipython",
    "version": 3
   },
   "file_extension": ".py",
   "mimetype": "text/x-python",
   "name": "python",
   "nbconvert_exporter": "python",
   "pygments_lexer": "ipython3",
   "version": "3.8.3"
  }
 },
 "nbformat": 4,
 "nbformat_minor": 4
}
