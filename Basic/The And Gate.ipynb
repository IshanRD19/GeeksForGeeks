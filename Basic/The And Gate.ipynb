{
 "cells": [
  {
   "cell_type": "markdown",
   "metadata": {},
   "source": [
    "# THE AND GATE\n",
    "\n",
    "Given N bits to an AND - Gate find the output that will be produced. \n",
    "\n",
    "AND - Gate Table:\n",
    "\n",
    "1 & 1 = 1\n",
    "\n",
    "1 & 0 = 0\n",
    "\n",
    "0 & 1 = 0\n",
    "\n",
    "0 & 0 = 0\n",
    " \n",
    "\n",
    "### Example 1:\n",
    "\n",
    "### Input:\n",
    "N = 4\n",
    "\n",
    "arr: 1 1 1 0\n",
    "### Output:\n",
    "0\n",
    "### Explanation:\n",
    "1 & 1 = 1\n",
    "\n",
    "1 & 1 = 1\n",
    "\n",
    "1 & 0 = 0\n",
    "\n",
    "hence output is 0\n",
    "### Example 2:\n",
    "\n",
    "### Input:\n",
    "N = 4\n",
    "\n",
    "arr: 0 0 1 0\n",
    "### Output:\n",
    "0\n",
    "### Explanation:\n",
    "0 & 0 = 0\n",
    "\n",
    "0 & 1 = 0\n",
    "\n",
    "0 & 0 = 0\n",
    "\n",
    "hence output is 0\n",
    "\n",
    "### Your Task:\n",
    "You don't need to read input or print anything. Your task is to complete the function andGate() which takes the array arr[], its size N as input parameters and returns the output after processing AND operations on N bits.\n",
    " \n",
    "**Expected Time Complexity:** O(N)\n",
    "\n",
    "**Expected Space Complexity:** O(1)\n",
    "\n",
    "### Constraints:\n",
    "1 <= N <= 1000"
   ]
  },
  {
   "cell_type": "code",
   "execution_count": 1,
   "metadata": {},
   "outputs": [
    {
     "name": "stdout",
     "output_type": "stream",
     "text": [
      "2\n",
      "4\n",
      "1 1 1 0\n",
      "0\n",
      "4\n",
      "0 0 1 0\n",
      "0\n"
     ]
    }
   ],
   "source": [
    "# User function Template for python3\n",
    "class Solution:\n",
    "    def andGate (self, arr, N):\n",
    "        # code here\n",
    "        result = arr[0]\n",
    "        \n",
    "        for i in arr[1:]:\n",
    "            result &= i\n",
    "            \n",
    "        return result\n",
    "\n",
    "# { \n",
    "# Driver Code Starts\n",
    "# Initial Template for Python 3\n",
    "if __name__ == '__main__': \n",
    "    t = int (input ())\n",
    "    for _ in range (t):\n",
    "        N = int(input())\n",
    "        arr = input().split(' ')\n",
    "        for itr in range(N):\n",
    "            arr[itr] = int(arr[itr])\n",
    "        ob = Solution()\n",
    "        print(ob.andGate(arr,N))\n",
    "# } Driver Code Ends"
   ]
  }
 ],
 "metadata": {
  "kernelspec": {
   "display_name": "Python 3",
   "language": "python",
   "name": "python3"
  },
  "language_info": {
   "codemirror_mode": {
    "name": "ipython",
    "version": 3
   },
   "file_extension": ".py",
   "mimetype": "text/x-python",
   "name": "python",
   "nbconvert_exporter": "python",
   "pygments_lexer": "ipython3",
   "version": "3.8.3"
  }
 },
 "nbformat": 4,
 "nbformat_minor": 4
}
