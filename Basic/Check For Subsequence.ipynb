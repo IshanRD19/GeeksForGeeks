{
 "cells": [
  {
   "cell_type": "markdown",
   "id": "612b7c79",
   "metadata": {},
   "source": [
    "# CHECK FOR SUBSEQUENCE\n",
    "\n",
    "Given two strings A and B, find if A is a subsequence of B.\n",
    "\n",
    "### Example 1:\n",
    "\n",
    "#### Input:\n",
    "A = AXY \n",
    "\n",
    "B = YADXCP\n",
    "#### Output:\n",
    "0 \n",
    "#### Explanation:\n",
    "A is not a subsequence of B as 'Y' appears before 'A'.\n",
    " \n",
    "### Example 2:\n",
    "\n",
    "#### Input:\n",
    "A = gksrek\n",
    "\n",
    "B = geeksforgeeks\n",
    "#### Output:\n",
    "1\n",
    "#### Explanation:\n",
    "A is a subsequence of B.\n",
    "\n",
    "### Your Task:  \n",
    "You dont need to read input or print anything. Complete the function isSubSequence() which takes A and B as input parameters and returns a boolean value denoting if A is a subsequence of B or not. \n",
    "\n",
    "**Expected Time Complexity:** O(N) where N is length of string B.\n",
    "\n",
    "**Expected Auxiliary Space:** O(1)\n",
    "\n",
    "### Constraints:\n",
    "1<= |A|,|B| <= 10^4"
   ]
  },
  {
   "cell_type": "code",
   "execution_count": 1,
   "id": "bad947b0",
   "metadata": {},
   "outputs": [
    {
     "name": "stdout",
     "output_type": "stream",
     "text": [
      "2\n",
      "AXY YADXCP\n",
      "0\n",
      "gksrek geeksforgeeks\n",
      "1\n"
     ]
    }
   ],
   "source": [
    "# User function Template for python3\n",
    "class Solution:\n",
    "    def isSubSequence(self, A, B):\n",
    "        #code here\n",
    "        length_a, length_b = len(A), len(B)\n",
    "        index_a = 0\n",
    "        \n",
    "        # For each character is source string\n",
    "        for index_b in range(length_b):\n",
    "            \n",
    "            # Check if subsequence character exists in source string\n",
    "            if A[index_a] == B[index_b]:\n",
    "                index_a += 1\n",
    "                \n",
    "            # Check if subsequence is completely traversed \n",
    "            if index_a == length_a:\n",
    "                return 1\n",
    "            \n",
    "        return 0\n",
    "\n",
    "# { \n",
    "# Driver Code Starts\n",
    "# Initial Template for Python 3\n",
    "if __name__ == '__main__':\n",
    "    T = int(input())\n",
    "    for _ in range(T):\n",
    "        A,B = input().split()\n",
    "        ob = Solution()\n",
    "        if ob.isSubSequence(A,B):\n",
    "            print(1)\n",
    "        else:\n",
    "            print(0)\n",
    "# } Driver Code Ends"
   ]
  }
 ],
 "metadata": {
  "kernelspec": {
   "display_name": "Python 3.10.6 64-bit",
   "language": "python",
   "name": "python3"
  },
  "language_info": {
   "codemirror_mode": {
    "name": "ipython",
    "version": 3
   },
   "file_extension": ".py",
   "mimetype": "text/x-python",
   "name": "python",
   "nbconvert_exporter": "python",
   "pygments_lexer": "ipython3",
   "version": "3.10.6"
  },
  "vscode": {
   "interpreter": {
    "hash": "26de051ba29f2982a8de78e945f0abaf191376122a1563185a90213a26c5da77"
   }
  }
 },
 "nbformat": 4,
 "nbformat_minor": 5
}
