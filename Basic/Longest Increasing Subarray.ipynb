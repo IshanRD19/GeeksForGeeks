{
 "cells": [
  {
   "cell_type": "markdown",
   "metadata": {},
   "source": [
    "# LONGEST INCREASING SUBARRAY\n",
    "\n",
    "Given an array containing n numbers. The problem is to find the length of the longest contiguous subarray such that every element in the subarray is strictly greater than its previous element in the same subarray.\n",
    "\n",
    "### Example 1:\n",
    "\n",
    "#### Input:\n",
    "n = 9\n",
    "\n",
    "a[] = {5, 6, 3, 5, 7, 8, 9, 1, 2}\n",
    "#### Output:\n",
    "5\n",
    " \n",
    "### Example 2:\n",
    "\n",
    "#### Input:\n",
    "n = 10\n",
    "\n",
    "a[] = {12, 13, 1, 5, 4, 7, 8, 10, 10, 11}\n",
    "#### Output:\n",
    "4\n",
    " \n",
    "### Your Task:  \n",
    "You don't need to read input or print anything. Your task is to complete the function lenOfLongIncSubArr() which takes the array a[] and its size n as inputs and returns the length of the longest increasing subarray.\n",
    "\n",
    "**Expected Time Complexity:** O(n)\n",
    "\n",
    "**Expected Auxiliary Space:** O(1)\n",
    "\n",
    "### Constraints:\n",
    "1<=n<=10^5\n",
    "\n",
    "1<=a[i]<=10^5"
   ]
  },
  {
   "cell_type": "code",
   "execution_count": 3,
   "metadata": {},
   "outputs": [
    {
     "name": "stdout",
     "output_type": "stream",
     "text": [
      "1 18 2 -1\n",
      "2 12 1 2\n",
      "3 12 1 2\n",
      "4 20 2 2\n",
      "5 9 1 2\n",
      "6 9 1 2\n",
      "7 2 1 2\n",
      "8 17 2 2\n",
      "2\n"
     ]
    }
   ],
   "source": [
    "#User function Template for python3\n",
    "\n",
    "class Solution:\n",
    "    def lenOfLongIncSubArr(self, a, n):\n",
    "        #Code here\n",
    "        result = -1\n",
    "        streak = 1\n",
    "        \n",
    "        for i in range(1, n):\n",
    "            \n",
    "            if int(a[i]) > int(a[i-1]):\n",
    "                streak += 1\n",
    "                \n",
    "            else:\n",
    "                result = max(result, streak)\n",
    "                streak = 1\n",
    "\n",
    "        return max(result, streak) \n",
    "\n",
    "# { \n",
    "# Driver Code Starts\n",
    "# Initial Template for Python 3\n",
    "def main():\n",
    "    T = int(input())\n",
    "    while(T > 0):\n",
    "        n = int(input())\n",
    "        a = [x for x in input().strip().split()]\n",
    "        print(Solution().lenOfLongIncSubArr(a, n))\n",
    "        T -= 1\n",
    "if __name__ == \"__main__\":\n",
    "    main()\n",
    "# } Driver Code Ends"
   ]
  },
  {
   "cell_type": "code",
   "execution_count": 2,
   "metadata": {},
   "outputs": [
    {
     "data": {
      "text/plain": [
       "True"
      ]
     },
     "execution_count": 2,
     "metadata": {},
     "output_type": "execute_result"
    }
   ],
   "source": [
    "'9' > '20'"
   ]
  }
 ],
 "metadata": {
  "kernelspec": {
   "display_name": "Python 3.10.6 64-bit",
   "language": "python",
   "name": "python3"
  },
  "language_info": {
   "codemirror_mode": {
    "name": "ipython",
    "version": 3
   },
   "file_extension": ".py",
   "mimetype": "text/x-python",
   "name": "python",
   "nbconvert_exporter": "python",
   "pygments_lexer": "ipython3",
   "version": "3.10.6"
  },
  "orig_nbformat": 4,
  "vscode": {
   "interpreter": {
    "hash": "26de051ba29f2982a8de78e945f0abaf191376122a1563185a90213a26c5da77"
   }
  }
 },
 "nbformat": 4,
 "nbformat_minor": 2
}
