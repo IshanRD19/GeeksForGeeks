{
 "cells": [
  {
   "cell_type": "markdown",
   "metadata": {},
   "source": [
    "# REVERSE A STRING\n",
    "\n",
    "You are given a string s. You need to reverse the string.\n",
    "\n",
    "### Example 1:\n",
    "\n",
    "#### Input:\n",
    "s = Geeks\n",
    "#### Output:\n",
    "skeeG\n",
    "### Example 2:\n",
    "\n",
    "#### Input:\n",
    "s = for\n",
    "#### Output:\n",
    "rof\n",
    "### Your Task:\n",
    "\n",
    "You only need to complete the function reverseWord() that takes s as parameter and returns the reversed string.\n",
    "\n",
    "**Expected Time Complexity:** O(|S|).\n",
    "\n",
    "**Expected Auxiliary Space:** O(1).\n",
    "\n",
    "### Constraints:\n",
    "1 <= |s| <= 10000"
   ]
  },
  {
   "cell_type": "code",
   "execution_count": 1,
   "metadata": {},
   "outputs": [
    {
     "name": "stdout",
     "output_type": "stream",
     "text": [
      "4\n",
      "Geeks\n",
      "skeeG\n",
      "for\n",
      "rof\n",
      "GeeksforGeeks\n",
      "skeeGrofskeeG\n",
      "ReversE\n",
      "EsreveR\n"
     ]
    }
   ],
   "source": [
    "# User function Template for python3\n",
    "def reverseWord(s):\n",
    "    #your code here\n",
    "    string_list = [c for c in s]\n",
    "    string_list.reverse()\n",
    "    return ''.join(string_list)\n",
    "\n",
    "#{ \n",
    "#  Driver Code Starts\n",
    "#Initial Template for Python 3\n",
    "\n",
    "if __name__ == \"__main__\":\n",
    "    t = int(input())\n",
    "    while(t>0):\n",
    "        s = input()\n",
    "        print(reverseWord(s))\n",
    "        t = t-1\n",
    "\n",
    "# } Driver Code Ends"
   ]
  }
 ],
 "metadata": {
  "kernelspec": {
   "display_name": "Python 3",
   "language": "python",
   "name": "python3"
  },
  "language_info": {
   "codemirror_mode": {
    "name": "ipython",
    "version": 3
   },
   "file_extension": ".py",
   "mimetype": "text/x-python",
   "name": "python",
   "nbconvert_exporter": "python",
   "pygments_lexer": "ipython3",
   "version": "3.8.3"
  }
 },
 "nbformat": 4,
 "nbformat_minor": 4
}
