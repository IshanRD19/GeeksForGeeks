{
 "cells": [
  {
   "cell_type": "markdown",
   "metadata": {},
   "source": [
    "# UNION OF TWO ARRAYS\n",
    "\n",
    "Given two arrays a[] and b[] of size n and m respectively. The task is to find union between these two arrays.\n",
    "\n",
    "Union of the two arrays can be defined as the set containing distinct elements from both the arrays. If there are repetitions, then only one occurrence of element should be printed in the union.\n",
    "\n",
    "### Example 1:\n",
    "\n",
    "#### Input:\n",
    "5 3\n",
    "\n",
    "1 2 3 4 5\n",
    "\n",
    "1 2 3\n",
    "#### Output: \n",
    "5\n",
    "\n",
    "#### Explanation: \n",
    "1, 2, 3, 4 and 5 are the elements which comes in the union set of both arrays. So count is 5.\n",
    "### Example 2:\n",
    "\n",
    "#### Input:\n",
    "6 2 \n",
    "\n",
    "85 25 1 32 54 6\n",
    "\n",
    "85 2 \n",
    "#### Output: \n",
    "7\n",
    "#### Explanation: \n",
    "85, 25, 1, 32, 54, 6, and 2 are the elements which comes in the union set of both arrays. So count is 7.\n",
    "### Your Task:\n",
    "Complete doUnion funciton that takes a, n, b, m as parameters and returns the count of union elements of the two arrays. The printing is done by the driver code.\n",
    "\n",
    "### Constraints:\n",
    "1 ≤ n, m ≤ 10^5\n",
    "\n",
    "0 ≤ a[i], b[i] < 10^5\n",
    "\n",
    "**Expected Time Complexity:** O((n+m)log(n+m))\n",
    "\n",
    "**Expected Auxilliary Space:** O(n+m)"
   ]
  },
  {
   "cell_type": "code",
   "execution_count": 1,
   "metadata": {},
   "outputs": [
    {
     "name": "stdout",
     "output_type": "stream",
     "text": [
      "2\n",
      "5 3\n",
      "1 2 3 4 5\n",
      "1 2 3\n",
      "5\n",
      "6 2\n",
      "85 25 1 32 54 6\n",
      "85 2\n",
      "7\n"
     ]
    }
   ],
   "source": [
    "# User function Template for python3\n",
    "\n",
    "class Solution:    \n",
    "    #Function to return the count of number of elements in union of two arrays.\n",
    "    def doUnion(self,a,n,b,m):\n",
    "        #code here\n",
    "        set_a = set(a)\n",
    "        set_b = set(b)\n",
    "        return len(set_a.union(set_b))\n",
    "\n",
    "\n",
    "#{ \n",
    "#  Driver Code Starts\n",
    "#Initial Template for Python 3\n",
    "\n",
    "#contributed by RavinderSinghPB\n",
    "if __name__ == '__main__':\n",
    "    t=int(input())\n",
    "    for _ in range(t):\n",
    "        \n",
    "        n, m = [int(x) for x in input().strip().split()]\n",
    "        \n",
    "        a = [int(x) for x in input().strip().split()]\n",
    "        b = [int(x) for x in input().strip().split()]\n",
    "        ob = Solution()\n",
    "        \n",
    "        print(ob.doUnion(a,n,b,m))\n",
    "# } Driver Code Ends"
   ]
  }
 ],
 "metadata": {
  "kernelspec": {
   "display_name": "Python 3",
   "language": "python",
   "name": "python3"
  },
  "language_info": {
   "codemirror_mode": {
    "name": "ipython",
    "version": 3
   },
   "file_extension": ".py",
   "mimetype": "text/x-python",
   "name": "python",
   "nbconvert_exporter": "python",
   "pygments_lexer": "ipython3",
   "version": "3.8.3"
  }
 },
 "nbformat": 4,
 "nbformat_minor": 4
}
