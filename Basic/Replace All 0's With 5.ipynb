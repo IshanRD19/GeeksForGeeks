{
 "cells": [
  {
   "cell_type": "markdown",
   "metadata": {},
   "source": [
    "# REPLACE ALL 0s WITH 5\n",
    "\n",
    "You are given an integer N. You need to convert all zeroes of N to 5.\n",
    "\n",
    "### Example 1:\n",
    "\n",
    "#### Input:\n",
    "N = 1004\n",
    "#### Output: \n",
    "1554\n",
    "#### Explanation: \n",
    "There are two zeroes in 1004\n",
    "on replacing all zeroes with \"5\", the new\n",
    "number will be \"1554\".\n",
    "### Example 2:\n",
    "\n",
    "#### Input:\n",
    "N = 121\n",
    "#### Output: \n",
    "121\n",
    "#### Explanation: \n",
    "Since there are no zeroes in\n",
    "\"121\", the number remains as \"121\".\n",
    "### Your Task:\n",
    "Your task is to complete the function convertFive() which takes an integer N as an argument and replaces all zeros in the number N with 5. Your function should return the converted number.\n",
    "\n",
    "**Expected Time Complexity:** O(K) where K is the number of digits in N\n",
    "\n",
    "**Expected Auxiliary Space:** O(1)\n",
    "\n",
    "### Constraints:\n",
    "1 <= n <= 10000"
   ]
  },
  {
   "cell_type": "code",
   "execution_count": null,
   "metadata": {},
   "outputs": [],
   "source": [
    "# Function should return an integer value\n",
    "def convertFive(n):\n",
    "    # Code here\n",
    "    s = ''.join([d for d in str(n)])\n",
    "    s = s.replace('0', '5')\n",
    "    return int(''.join(s))\n",
    "\n",
    "# { \n",
    "# Driver Code Starts\n",
    "# Your code goes here\n",
    "if __name__=='__main__':\n",
    "    t = int(input())\n",
    "    for i in range(t):\n",
    "        print (convertFive(int(input().strip())))\n",
    "# } Driver Code Ends"
   ]
  }
 ],
 "metadata": {
  "kernelspec": {
   "display_name": "Python 3.10.6 64-bit",
   "language": "python",
   "name": "python3"
  },
  "language_info": {
   "name": "python",
   "version": "3.10.6"
  },
  "orig_nbformat": 4,
  "vscode": {
   "interpreter": {
    "hash": "26de051ba29f2982a8de78e945f0abaf191376122a1563185a90213a26c5da77"
   }
  }
 },
 "nbformat": 4,
 "nbformat_minor": 2
}
