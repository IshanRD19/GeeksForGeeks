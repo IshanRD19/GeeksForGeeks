{
 "cells": [
  {
   "cell_type": "markdown",
   "metadata": {},
   "source": [
    "# INVERSE PERMUTATION\n",
    "\n",
    "Given an array A of size n of integers in the range from 1 to n, we need to find the inverse permutation of that array.\n",
    "Inverse Permutation is a permutation which you will get by inserting position of an element at the position specified by the element value in the array. For better understanding, consider the following example:\n",
    "Suppose we found element 4 at position 3 in an array, then in reverse permutation, we insert 3 (position of element 4 in the array) in position 4 (element value).\n",
    "\n",
    "### Example 1:\n",
    "\n",
    "#### Input:\n",
    "N = 4\n",
    "\n",
    "Arr[] = {1, 4, 3, 2}\n",
    "#### Output:\n",
    "1 4 3 2\n",
    "#### Explanation:\n",
    "For element 1 we insert position of 1 from arr1 i.e 1 at position 1 in arr2. For element 4 in arr1, we insert 2 from arr1 at position 4 in arr2. Similarly, for element 2 in arr1, we insert position of 2 i.e 4 in arr2.\n",
    "\n",
    "### Example 2:\n",
    "\n",
    "#### Input:\n",
    "N = 5\n",
    "\n",
    "Arr[] = {2, 3, 4, 5, 1}\n",
    "#### Output:\n",
    "5 1 2 3 4\n",
    "#### Explanation:\n",
    "As index 1 has value 2 so 1 will b placed at index 2, similarly 2 has 3 so 2 will be placed at index 3 similarly 3 has 4 so placed at 4, 4 has 5 so 4 placed at 5 and 5 has 1 so placed at index 1. \n",
    " \n",
    "\n",
    "### Your Task:  \n",
    "You don't need to read input or print anything. Your task is to complete the function inversePermutation() which takes the array Arr[] and its size N as inputs and returns the vector array after performing inverse permutation on Arr.\n",
    "\n",
    "**Expected Time Complexity:** O(N)\n",
    "\n",
    "**Expected Auxiliary Space:** O(N)\n",
    "\n",
    "### Constraints:\n",
    "1 ≤ N ≤ 10^5\n",
    "\n",
    "1 ≤ A[i] ≤ N\n",
    "\n",
    "**Note:** Array should contain unique elements and should have all elements from 1 to N."
   ]
  },
  {
   "cell_type": "code",
   "execution_count": 1,
   "metadata": {},
   "outputs": [
    {
     "name": "stdout",
     "output_type": "stream",
     "text": [
      "2\n",
      "4\n",
      "1 4 3 2\n",
      "1 4 3 2\n",
      "5\n",
      "2 3 4 5 1\n",
      "5 1 2 3 4\n"
     ]
    }
   ],
   "source": [
    "# User function Template for python3\n",
    "def inversePermutation (arr, n) : \n",
    "    #Complete the function\n",
    "    result = [-1] * n\n",
    "    value = 1\n",
    "    \n",
    "    for i in range(n):\n",
    "        result[arr[i] - 1] = value\n",
    "        value += 1\n",
    "        \n",
    "    return result\n",
    "\n",
    "#{ \n",
    "#  Driver Code Starts\n",
    "#Initial Template for Python 3\n",
    "\n",
    "    \n",
    "for _ in range(0,int(input())):\n",
    "    n = int(input())\n",
    "    arr = list(map(int, input().strip().split()))\n",
    "    ans = inversePermutation(arr, n)\n",
    "    print(*ans)\n",
    "# } Driver Code Ends"
   ]
  }
 ],
 "metadata": {
  "kernelspec": {
   "display_name": "Python 3",
   "language": "python",
   "name": "python3"
  },
  "language_info": {
   "codemirror_mode": {
    "name": "ipython",
    "version": 3
   },
   "file_extension": ".py",
   "mimetype": "text/x-python",
   "name": "python",
   "nbconvert_exporter": "python",
   "pygments_lexer": "ipython3",
   "version": "3.8.3"
  }
 },
 "nbformat": 4,
 "nbformat_minor": 4
}
