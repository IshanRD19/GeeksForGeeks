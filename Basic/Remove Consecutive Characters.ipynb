{
 "cells": [
  {
   "cell_type": "markdown",
   "metadata": {},
   "source": [
    "# REMOVE CONSECUTIVE CHARACTERS\n",
    "\n",
    "Given a string S. For each index i(1<=i<=N-1), erase it if s[i] is equal to s[i-1] in the string.\n",
    "\n",
    "### Example 1:\n",
    "\n",
    "#### Input:\n",
    "S = aabb\n",
    "#### Output:\n",
    "ab \n",
    "#### Explanation:\n",
    "'a' at 2nd position is appearing 2nd time consecutively. Similiar explanation for b at 4th position.\n",
    "\n",
    "### Example 2:\n",
    "\n",
    "#### Input:\n",
    "S = aabaa\n",
    "#### Output:\n",
    "aba\n",
    "#### Explanation:\n",
    "'a' at 2nd position is appearing 2nd time consecutively. 'a' at fifth position is appearing 2nd time consecutively.\n",
    " \n",
    "### Your Task:\n",
    "You dont need to read input or print anything. Complete the function removeConsecutiveCharacter() which accepts a string as input parameter and returns modified string.\n",
    " \n",
    "**Expected Time Complexity:** O(|S|).\n",
    "\n",
    "**Expected Auxiliary Space:** O(|S|).\n",
    "\n",
    "### Constraints:\n",
    "1<=|S|<=10^5\n",
    "\n",
    "All characters are lowercase alphabets."
   ]
  },
  {
   "cell_type": "code",
   "execution_count": 1,
   "metadata": {},
   "outputs": [
    {
     "name": "stdout",
     "output_type": "stream",
     "text": [
      "2\n",
      "aabb\n",
      "ab\n",
      "aabaa\n",
      "aba\n"
     ]
    }
   ],
   "source": [
    "# User function Template for python3\n",
    "class Solution:\n",
    "    def removeConsecutiveCharacter(self, S):\n",
    "        # code here\n",
    "        chars = [c for c in S]\n",
    "        i, length = 1, len(chars)\n",
    "        \n",
    "        # Traverse from left to right\n",
    "        while i < length:\n",
    "            \n",
    "            # If current character matches previous character\n",
    "            if chars[i] == chars[i - 1]:\n",
    "                \n",
    "                # Remove current character and decrement the length by 1\n",
    "                chars.pop(i)\n",
    "                length -= 1\n",
    "\n",
    "            # Shift to the next character\n",
    "            else:\n",
    "                i += 1\n",
    "        \n",
    "        return ''.join(chars)\n",
    "\n",
    "# { \n",
    "# Driver Code Starts\n",
    "# Initial Template for Python 3\n",
    "if __name__ == '__main__':\n",
    "    T = int(input())\n",
    "    for tcs in range(T):\n",
    "        s = input()\n",
    "        ob = Solution()\n",
    "        print(ob.removeConsecutiveCharacter(s))\n",
    "# } Driver Code Ends"
   ]
  }
 ],
 "metadata": {
  "kernelspec": {
   "display_name": "Python 3",
   "language": "python",
   "name": "python3"
  },
  "language_info": {
   "codemirror_mode": {
    "name": "ipython",
    "version": 3
   },
   "file_extension": ".py",
   "mimetype": "text/x-python",
   "name": "python",
   "nbconvert_exporter": "python",
   "pygments_lexer": "ipython3",
   "version": "3.8.3"
  }
 },
 "nbformat": 4,
 "nbformat_minor": 4
}
