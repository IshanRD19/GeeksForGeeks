{
 "cells": [
  {
   "cell_type": "markdown",
   "metadata": {},
   "source": [
    "# CYCLICALLY ROTATE AN ARRAY BY ONE\n",
    "\n",
    "Given an array, rotate the array by one position in clock-wise direction.\n",
    " \n",
    "### Example 1:\n",
    "\n",
    "#### Input:\n",
    "N = 5\n",
    "\n",
    "A[] = {1, 2, 3, 4, 5}\n",
    "#### Output:\n",
    "5 1 2 3 4\n",
    " \n",
    "\n",
    "### Example 2:\n",
    "\n",
    "#### Input:\n",
    "N = 8\n",
    "\n",
    "A[] = {9, 8, 7, 6, 4, 2, 1, 3}\n",
    "#### Output:\n",
    "3 9 8 7 6 4 2 1\n",
    " \n",
    "\n",
    "### Your Task:  \n",
    "You don't need to read input or print anything. Your task is to complete the function rotate() which takes the array A[] and its size N as inputs and modify the array in place.\n",
    "\n",
    "**Expected Time Complexity:** O(N)\n",
    "\n",
    "**Expected Auxiliary Space:** O(1)\n",
    "\n",
    "### Constraints:\n",
    "1 <= N <= 10^5\n",
    "\n",
    "0 <= a[i] <= 10^5"
   ]
  },
  {
   "cell_type": "code",
   "execution_count": 1,
   "metadata": {},
   "outputs": [
    {
     "name": "stdout",
     "output_type": "stream",
     "text": [
      "2\n",
      "5\n",
      "1 2 3 4 5\n",
      "5 1 2 3 4\n",
      "8\n",
      "9 8 7 6 4 2 1 3\n",
      "3 9 8 7 6 4 2 1\n"
     ]
    }
   ],
   "source": [
    "# User function Template for python3\n",
    "def rotate(arr, n):\n",
    "    # Perform mutable operations to affect actual variable\n",
    "    arr[:] = arr[-1:] + arr[:-1]\n",
    "    return\n",
    "\n",
    "# { \n",
    "#  Driver Code Starts\n",
    "# Initial Template for Python 3\n",
    "def main():\n",
    "    T = int(input())\n",
    "    while(T > 0):\n",
    "        n = int(input())\n",
    "        a = [int(x) for x in input().strip().split()]\n",
    "        rotate(a, n)\n",
    "        print(*a)\n",
    "\n",
    "        T -= 1\n",
    "\n",
    "if __name__ == \"__main__\":\n",
    "    main()\n",
    "# } Driver Code Ends"
   ]
  }
 ],
 "metadata": {
  "kernelspec": {
   "display_name": "Python 3",
   "language": "python",
   "name": "python3"
  },
  "language_info": {
   "codemirror_mode": {
    "name": "ipython",
    "version": 3
   },
   "file_extension": ".py",
   "mimetype": "text/x-python",
   "name": "python",
   "nbconvert_exporter": "python",
   "pygments_lexer": "ipython3",
   "version": "3.8.3"
  }
 },
 "nbformat": 4,
 "nbformat_minor": 4
}
