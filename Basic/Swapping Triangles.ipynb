{
 "cells": [
  {
   "cell_type": "markdown",
   "metadata": {},
   "source": [
    "# SWAPPING TRIANGLES\n",
    "\n",
    "Given an integer N and a matrix A of dimensions NxN.Swap the values of the triangle above the primary diagonal with the values of the triangle below the primary diagonal.\n",
    "\n",
    "### Example 1:\n",
    "\n",
    "#### Input:\n",
    "N=3\n",
    "\n",
    "A=[[1,2,3],[4,5,6],[7,8,9]]\n",
    "#### Output:\n",
    "1 4 7\n",
    "2 5 8\n",
    "3 6 9\n",
    "#### Explanation:\n",
    "Swapping the upper triangle with the lower triangle gives this result.\n",
    "### Example 2:\n",
    "\n",
    "#### Input:\n",
    "N=4\n",
    "\n",
    "A=[[2,7,3,1],[10,1,5,1],[10,4,7,6],[6,9,1,8]]\n",
    "#### Output:\n",
    "2 10 10 6 \n",
    "\n",
    "7 1 4 9 \n",
    "\n",
    "3 5 7 1 \n",
    "\n",
    "1 1 6 8\n",
    "#### Explanation:\n",
    "Swapping upper triangle with the\n",
    "lower triangle leads to this result.\n",
    "\n",
    "### Your Task:\n",
    "You don't need to read input or print anything. Your task is to complete the function swapTriangle() which takes the integer N and matrix A as input parameters and returns a matrix with the upper and lower triangles swapped.\n",
    "\n",
    "**Expected Time Complexity:** O(N2)\n",
    "\n",
    "**Expected Auxillary Space:** O(1)\n",
    " \n",
    "### Constraints:\n",
    "1 <= N, A[i][j] <= 1000, for 0 <= i  "
   ]
  },
  {
   "cell_type": "code",
   "execution_count": 1,
   "metadata": {},
   "outputs": [
    {
     "name": "stdout",
     "output_type": "stream",
     "text": [
      "2\n",
      "3\n",
      "1 2 3\n",
      "4 5 6\n",
      "7 8 9\n",
      "1 4 7 \n",
      "2 5 8 \n",
      "3 6 9 \n",
      "4\n",
      "2 7 3 1\n",
      "10 1 5 1\n",
      "10 4 7 6\n",
      "6 9 1 8\n",
      "2 10 10 6 \n",
      "7 1 4 9 \n",
      "3 5 7 1 \n",
      "1 1 6 8 \n"
     ]
    }
   ],
   "source": [
    "# User function Template for python3\n",
    "class Solution:\n",
    "    def swapTriangle(self,N,A):\n",
    "        #code here\n",
    "        for row in range(N):\n",
    "            # Avoid double swapping\n",
    "            for col in range(row, N):\n",
    "                A[row][col], A[col][row] = A[col][row], A[row][col]\n",
    "        return A\n",
    "\n",
    "#{ \n",
    "#  Driver Code Starts\n",
    "#Initial Template for Python 3\n",
    "import math\n",
    "if __name__=='__main__':\n",
    "    t=int(input())\n",
    "    for _ in range(t):\n",
    "        N=int(input())\n",
    "        A=[[0]*N]*N\n",
    "        for i in range(N):\n",
    "            A[i]=list(map(int,input().strip().split(\" \")))\n",
    "        ob=Solution()\n",
    "        ans=ob.swapTriangle(N,A)\n",
    "        for i in range(N):\n",
    "            for j in range(N):\n",
    "                print(ans[i][j],end=\" \")\n",
    "            print()    \n",
    "# } Driver Code Ends"
   ]
  }
 ],
 "metadata": {
  "kernelspec": {
   "display_name": "Python 3",
   "language": "python",
   "name": "python3"
  },
  "language_info": {
   "codemirror_mode": {
    "name": "ipython",
    "version": 3
   },
   "file_extension": ".py",
   "mimetype": "text/x-python",
   "name": "python",
   "nbconvert_exporter": "python",
   "pygments_lexer": "ipython3",
   "version": "3.8.3"
  }
 },
 "nbformat": 4,
 "nbformat_minor": 4
}
