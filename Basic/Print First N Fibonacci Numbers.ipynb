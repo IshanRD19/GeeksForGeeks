{
 "cells": [
  {
   "cell_type": "markdown",
   "metadata": {},
   "source": [
    "# PRINT FIRST N FIBONACCI NUMBERS\n",
    "\n",
    "Given a number N, find the first N Fibonacci numbers. The first two number of the series are 1 and 1.\n",
    "\n",
    "### Example 1:\n",
    "\n",
    "#### Input:\n",
    "N = 5\n",
    "#### Output:\n",
    "1 1 2 3 5\n",
    "### Example 2:\n",
    "\n",
    "#### Input:\n",
    "N = 7\n",
    "#### Output:\n",
    "1 1 2 3 5 8 13\n",
    "### Your Task:\n",
    "Your task is to complete printFibb() which takes single argument N and returns a list of first N Fibonacci numbers.\n",
    "\n",
    "**Expected Time Complexity:** O(N).\n",
    "\n",
    "**Expected Auxiliary Space:** O(N).\n",
    "\n",
    "**Note:** This space is used to store and return the answer for printing purpose.\n",
    "\n",
    "### Constraints:\n",
    "1 <= N <= 84"
   ]
  },
  {
   "cell_type": "code",
   "execution_count": 1,
   "metadata": {},
   "outputs": [
    {
     "name": "stdout",
     "output_type": "stream",
     "text": [
      "2\n",
      "5\n",
      "1 1 2 3 5 \n",
      "7\n",
      "1 1 2 3 5 8 13 \n"
     ]
    }
   ],
   "source": [
    "# User function Template for python3\n",
    "class Solution:\n",
    "    #Function to return list containing first n fibonacci numbers.\n",
    "    def printFibb(self,n):\n",
    "        # your code here\n",
    "        \n",
    "        # Check for trivial case\n",
    "        if n == 1:\n",
    "            return [1]\n",
    "\n",
    "        a, b = 1, 1\n",
    "        result = [a, b]\n",
    "        \n",
    "        while n > 2:\n",
    "            result.append(a + b)\n",
    "            a, b = b, a + b\n",
    "            n -= 1\n",
    "        \n",
    "        return result\n",
    "\n",
    "#{ \n",
    " # Driver Code Starts\n",
    "#Initial Template for Python 3\n",
    "\n",
    "#contributed by RavinderSinghPB\n",
    "if __name__ == '__main__': \n",
    "    t=int(input())\n",
    "    for tcs in range(t):\n",
    "        \n",
    "        n=int(input())\n",
    "        res = Solution().printFibb(n)\n",
    "        for i in range (len (res)):\n",
    "            print (res[i], end = \" \") \n",
    "        print()\n",
    "# } Driver Code Ends"
   ]
  }
 ],
 "metadata": {
  "kernelspec": {
   "display_name": "Python 3",
   "language": "python",
   "name": "python3"
  },
  "language_info": {
   "codemirror_mode": {
    "name": "ipython",
    "version": 3
   },
   "file_extension": ".py",
   "mimetype": "text/x-python",
   "name": "python",
   "nbconvert_exporter": "python",
   "pygments_lexer": "ipython3",
   "version": "3.8.3"
  }
 },
 "nbformat": 4,
 "nbformat_minor": 4
}
