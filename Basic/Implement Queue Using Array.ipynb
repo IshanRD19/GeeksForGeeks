{
 "cells": [
  {
   "cell_type": "markdown",
   "metadata": {},
   "source": [
    "# IMPLEMENT QUEUE USING ARRAY\n",
    "\n",
    "Implement a Queue using an Array. Queries in the Queue are of the following type:\n",
    "(i) 1 x   (a query of this type means  pushing 'x' into the queue)\n",
    "(ii) 2     (a query of this type means to pop element from queue and print the poped element)\n",
    "\n",
    "### Example 1:\n",
    "\n",
    "#### Input:\n",
    "Q = 5\n",
    "\n",
    "Queries = 1 2 1 3 2 1 4 2\n",
    "#### Output:\n",
    "2 3\n",
    "#### Explanation:\n",
    "In the first test case for query \n",
    "\n",
    "1 2 the queue will be {2}\n",
    "\n",
    "1 3 the queue will be {2 3}\n",
    "\n",
    "2   poped element will be 2 the queue will be {3}\n",
    "\n",
    "1 4 the queue will be {3 4}\n",
    "\n",
    "2   poped element will be 3 \n",
    "### Example 2:\n",
    "\n",
    "#### Input:\n",
    "Q = 4\n",
    "\n",
    "Queries = 1 3 2 2 1 4   \n",
    "#### Output:\n",
    "3 -1\n",
    "#### Explanation:\n",
    "In the second testcase for query \n",
    "\n",
    "1 3 the queue will be {3}\n",
    "\n",
    "2   poped element will be 3 the queue will be empty\n",
    "\n",
    "2   there is no element in the queue and hence -1\n",
    "\n",
    "1 4 the queue will be {4}. \n",
    "### Your Task :\n",
    "You are required to complete the two methods push() which take one argument an integer 'x' to be pushed into the queue and pop() which returns a integer poped out from othe queue. If the queue is empty, it should return -1 on a pop operation. \n",
    "\n",
    "***Expected Time Complexity:*** O(1) for both push() and pop().\n",
    "\n",
    "***Expected Auxiliary Space:*** O(1) for both push() and pop().\n",
    "\n",
    "### Constraints:\n",
    "1 ≤ Q ≤ 10^5\n",
    "\n",
    "1 ≤ x ≤ 10^5"
   ]
  },
  {
   "cell_type": "code",
   "execution_count": null,
   "metadata": {},
   "outputs": [],
   "source": [
    "# User function Template for python3\n",
    "class MyQueue:\n",
    "    \n",
    "    def __init__(self):\n",
    "        self.queue = []\n",
    "    \n",
    "    #Function to push an element x in a queue.\n",
    "    def push(self, x):\n",
    "        #add code here\n",
    "        self.queue.append(x)\n",
    "        return\n",
    "     \n",
    "    #Function to pop an element from queue and return that element.\n",
    "    def pop(self):\n",
    "        # add code here\n",
    "        try:\n",
    "            return self.queue.pop(0)\n",
    "        except:\n",
    "            return -1\n",
    "\n",
    "#{ \n",
    " # Driver Code Starts\n",
    "#Initial Template for Python 3\n",
    "\n",
    "if __name__=='__main__':\n",
    "    t=int(input())\n",
    "    for i in range(t):\n",
    "        s=MyQueue()\n",
    "        q=int(input())\n",
    "        q1=list(map(int,input().split()))\n",
    "        i=0\n",
    "        while(i<len(q1)):\n",
    "            if(q1[i]==1):\n",
    "                s.push(q1[i+1])\n",
    "                i=i+2\n",
    "            elif(q1[i]==2):\n",
    "                print(s.pop(),end=\" \")\n",
    "                i=i+1\n",
    "            elif(s.isEmpty()):\n",
    "                print(-1)\n",
    "                i=i+1\n",
    "        print()   \n",
    "\n",
    "# } Driver Code Ends"
   ]
  },
  {
   "cell_type": "code",
   "execution_count": 1,
   "metadata": {},
   "outputs": [
    {
     "data": {
      "text/plain": [
       "1"
      ]
     },
     "execution_count": 1,
     "metadata": {},
     "output_type": "execute_result"
    }
   ],
   "source": [
    "[1,2,3].pop(0)"
   ]
  }
 ],
 "metadata": {
  "kernelspec": {
   "display_name": "Python 3",
   "language": "python",
   "name": "python3"
  },
  "language_info": {
   "codemirror_mode": {
    "name": "ipython",
    "version": 3
   },
   "file_extension": ".py",
   "mimetype": "text/x-python",
   "name": "python",
   "nbconvert_exporter": "python",
   "pygments_lexer": "ipython3",
   "version": "3.8.3"
  }
 },
 "nbformat": 4,
 "nbformat_minor": 4
}
