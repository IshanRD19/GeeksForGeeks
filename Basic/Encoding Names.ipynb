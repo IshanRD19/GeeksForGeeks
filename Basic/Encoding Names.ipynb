{
 "cells": [
  {
   "cell_type": "markdown",
   "metadata": {},
   "source": [
    "# ENCODING NAMES\n",
    "\n",
    "CBI agents are investigating a case in which they came across certain names of the culprits. They decided to encode the names into the number format.\n",
    "\n",
    "\"Riya\" is encoded as \"729611390\",\"Sumitha\" as \"73108101981109993\" ,\"Anandita\" as \"55101891039410011294\" and so on. Given a String S denoting a name, Encode the name.\n",
    "\n",
    "### Example 1:\n",
    "\n",
    "#### Input:\n",
    "S = \"Soni\"\n",
    "#### Output:\n",
    "7310210298\n",
    "#### Explanation:\n",
    "The name when encoded gives the given Output.\n",
    "### Example 2:\n",
    "\n",
    "#### Input:\n",
    "S = \" Pawan\"\n",
    "#### Output:\n",
    "708811190104 \n",
    "#### Explanation:\n",
    "The name when encoded gives the given Output.\n",
    "\n",
    "### Your Task:\n",
    "You don't need to read input or print anything. Your task is to complete the function encodeTheName() which takes a String S as input and returns a String as the encoded format.\n",
    "\n",
    "**Expected Time Complexity:** O(|S|)\n",
    "\n",
    "**Expected Auxiliary Space:** O(|S|)\n",
    "\n",
    "### Constraints:\n",
    "1 <= |S| <= 10^4"
   ]
  },
  {
   "cell_type": "code",
   "execution_count": 1,
   "metadata": {},
   "outputs": [
    {
     "name": "stdout",
     "output_type": "stream",
     "text": [
      "2\n",
      "Soni\n",
      "7310210298\n",
      "Pawan\n",
      "708811190104\n"
     ]
    }
   ],
   "source": [
    "# User function Template for python3\n",
    "class Solution:\n",
    "    def encodeTheName(self, S):\n",
    "        # code here \n",
    "        result = ''\n",
    "        for i in range(len(S)):\n",
    "            result += str(ord(S[i]) - 10 + i)\n",
    "        return result\n",
    "\n",
    "#{ \n",
    "#  Driver Code Starts\n",
    "#Initial Template for Python 3\n",
    "\n",
    "if __name__ == '__main__': \n",
    "    t = int (input ())\n",
    "    for _ in range (t):\n",
    "        S=input()\n",
    "        \n",
    "        ob = Solution()\n",
    "        print(ob.encodeTheName(S))\n",
    "# } Driver Code Ends"
   ]
  }
 ],
 "metadata": {
  "kernelspec": {
   "display_name": "Python 3",
   "language": "python",
   "name": "python3"
  },
  "language_info": {
   "codemirror_mode": {
    "name": "ipython",
    "version": 3
   },
   "file_extension": ".py",
   "mimetype": "text/x-python",
   "name": "python",
   "nbconvert_exporter": "python",
   "pygments_lexer": "ipython3",
   "version": "3.8.3"
  }
 },
 "nbformat": 4,
 "nbformat_minor": 4
}
