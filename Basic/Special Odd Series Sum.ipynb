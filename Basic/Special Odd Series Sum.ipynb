{
 "cells": [
  {
   "cell_type": "markdown",
   "metadata": {},
   "source": [
    "# SPECIAL ODD SERIES SUM\n",
    "\n",
    "Given the value of n, we need to find the sum of the series where i-th term is sum of first i odd natural numbers.\n",
    "\n",
    "**NOTE:** Sum of the series 1 + (1+3) + (1+3+5) + (1+3+5+7) + …… + (1+3+5+7+…+(2n-1))\n",
    "\n",
    "### Example 1:\n",
    "\n",
    "#### Input:\n",
    "n = 2\n",
    "#### Output:\n",
    "5 \n",
    "#### Explanation:\n",
    "1 + (1+3) = 5. Hence sum of the series is 5.\n",
    "\n",
    "### Example 2:\n",
    "\n",
    "#### Input:\n",
    "n = 5\n",
    "#### Output:\n",
    "55\n",
    "#### Explanation:\n",
    "1 + (1+3) + (1+3+5) + (1+3+5+7) + (1+3+5+7+9) = 55. Hence sum of the series is 55.\n",
    "\n",
    "### Your Task:  \n",
    "You dont need to read input or print anything. Complete the function sumOfTheSeries() which takes n as input parameter and returns the sum of the series of n terms.\n",
    "\n",
    "**Expected Time Complexity:** O(1)\n",
    "\n",
    "**Expected Auxiliary Space:** O(1)\n",
    "\n",
    "### Constraints:\n",
    "1 <= n <= 1000"
   ]
  },
  {
   "cell_type": "code",
   "execution_count": 1,
   "metadata": {},
   "outputs": [
    {
     "name": "stdout",
     "output_type": "stream",
     "text": [
      "2\n",
      "2\n",
      "5\n",
      "5\n",
      "55\n"
     ]
    }
   ],
   "source": [
    "# User function Template for python3\n",
    "class Solution:\n",
    "    def sumOfTheSeries (self, n):\n",
    "        # code here \n",
    "        return n * (n+1) * (2 * n + 1) // 6\n",
    "\n",
    "#{ \n",
    "#  Driver Code Starts\n",
    "#Initial Template for Python 3\n",
    "if __name__ == '__main__': \n",
    "    t = int (input ())\n",
    "    for _ in range (t):\n",
    "        n = int(input())\n",
    "        \n",
    "        ob = Solution()\n",
    "        print(ob.sumOfTheSeries(n))\n",
    "# } Driver Code Ends"
   ]
  }
 ],
 "metadata": {
  "kernelspec": {
   "display_name": "Python 3",
   "language": "python",
   "name": "python3"
  },
  "language_info": {
   "codemirror_mode": {
    "name": "ipython",
    "version": 3
   },
   "file_extension": ".py",
   "mimetype": "text/x-python",
   "name": "python",
   "nbconvert_exporter": "python",
   "pygments_lexer": "ipython3",
   "version": "3.8.3"
  }
 },
 "nbformat": 4,
 "nbformat_minor": 4
}
