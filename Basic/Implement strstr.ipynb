{
 "cells": [
  {
   "cell_type": "markdown",
   "metadata": {},
   "source": [
    "# IMPLEMENT STRSTR\n",
    "\n",
    "Your task is to implement the function strstr. The function takes two strings as arguments (s,x) and  locates the occurrence of the string x in the string s. The function returns and integer denoting the first occurrence of the string x in s (0 based indexing).\n",
    "\n",
    "**Note:** You are not allowed to use inbuilt function.\n",
    "\n",
    "### Example 1:\n",
    "\n",
    "#### Input:\n",
    "s = GeeksForGeeks, x = Fr\n",
    "#### Output: \n",
    "-1\n",
    "#### Explanation: \n",
    "Fr is not present in the\n",
    "string GeeksForGeeks as substring.\n",
    " \n",
    "\n",
    "### Example 2:\n",
    "\n",
    "#### Input:\n",
    "s = GeeksForGeeks, x = For\n",
    "#### Output: \n",
    "5\n",
    "#### Explanation: \n",
    "For is present as substring\n",
    "in GeeksForGeeks from index 5 (0 based\n",
    "indexing).\n",
    " \n",
    "\n",
    "### Your Task:\n",
    "You don't have to take any input. Just complete the strstr() function which takes two strings str, target as an input parameter. The function returns -1 if no match if found else it returns an integer denoting the first occurrence of the x in the string s.\n",
    "\n",
    "**Expected Time Complexity:** O(|s|*|x|)\n",
    "\n",
    "**Expected Auxiliary Space:** O(1)\n",
    "\n",
    "**Note:** Try to solve the question in constant space complexity.\n",
    "\n",
    " \n",
    "\n",
    "### Constraints:\n",
    "1 <= |s|,|x| <= 100"
   ]
  },
  {
   "cell_type": "code",
   "execution_count": 1,
   "metadata": {},
   "outputs": [],
   "source": [
    "# Function to locate the occurrence of the string x in the string s.\n",
    "def strstr(s,x):\n",
    "    #code here\n",
    "    try:\n",
    "        return s.index(x)\n",
    "    except:\n",
    "        return -1\n",
    "\n",
    "# { \n",
    "# Driver Code Starts\n",
    "import atexit\n",
    "import io\n",
    "import sys\n",
    "_INPUT_LINES = sys.stdin.read().splitlines()\n",
    "input = iter(_INPUT_LINES).__next__\n",
    "_OUTPUT_BUFFER = io.StringIO()\n",
    "sys.stdout = _OUTPUT_BUFFER\n",
    "@atexit.register\n",
    "def write():\n",
    "    sys.__stdout__.write(_OUTPUT_BUFFER.getvalue())\n",
    "if __name__ == '__main__':\n",
    "    t=int(input())\n",
    "    for cases in range(t):\n",
    "        s,p =input().strip().split()\n",
    "        print(strstr(s,p))\n",
    "# } Driver Code Ends"
   ]
  }
 ],
 "metadata": {
  "kernelspec": {
   "display_name": "Python 3.10.6 64-bit",
   "language": "python",
   "name": "python3"
  },
  "language_info": {
   "codemirror_mode": {
    "name": "ipython",
    "version": 3
   },
   "file_extension": ".py",
   "mimetype": "text/x-python",
   "name": "python",
   "nbconvert_exporter": "python",
   "pygments_lexer": "ipython3",
   "version": "3.10.6"
  },
  "orig_nbformat": 4,
  "vscode": {
   "interpreter": {
    "hash": "26de051ba29f2982a8de78e945f0abaf191376122a1563185a90213a26c5da77"
   }
  }
 },
 "nbformat": 4,
 "nbformat_minor": 2
}
