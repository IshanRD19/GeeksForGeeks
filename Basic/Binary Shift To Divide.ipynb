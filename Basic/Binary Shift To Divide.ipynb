{
 "cells": [
  {
   "cell_type": "markdown",
   "metadata": {},
   "source": [
    "# BINARY SHIFT TO DIVIDE\n",
    "\n",
    "A number N is given. Divide it in half by using the binary shift operator.\n",
    "Use the floor value if the result is in decimal. If the number is 1, leave it as it is.\n",
    "\n",
    "### Example 1:\n",
    "\n",
    "#### Input:\n",
    "N = 1\n",
    "#### Output:\n",
    "1\n",
    "\n",
    "### Example 2:\n",
    "\n",
    "#### Input:\n",
    "N = 37\n",
    "#### Output:\n",
    "18\n",
    "### Explaination:\n",
    "37/2 = 18.5 which is in decimal form and whose floor value is 18.\n",
    "\n",
    "### Your Task:\n",
    "You do not need to read input or print anything. Your task is to complete the function half(), which takes the number N as input parameter and returns the desired output.\n",
    "\n",
    "**Expected Time Complexity:** O(1)\n",
    "\n",
    "**Expected Auxiliary Space:** O(1)\n",
    "\n",
    "### Constarints:\n",
    "1 ≤ N ≤ 10^9"
   ]
  },
  {
   "cell_type": "code",
   "execution_count": 1,
   "metadata": {},
   "outputs": [
    {
     "name": "stdout",
     "output_type": "stream",
     "text": [
      "2\n",
      "1\n",
      "1\n",
      "37\n",
      "18\n"
     ]
    }
   ],
   "source": [
    "# User function Template for python3\n",
    "class Solution:\n",
    "    def half(self, N):\n",
    "        # code here\n",
    "        return int(N>>1) if N > 1 else N\n",
    "\n",
    "#{ \n",
    "#  Driver Code Starts\n",
    "#Initial Template for Python 3\n",
    "\n",
    "if __name__ == '__main__':\n",
    "    t = int(input())\n",
    "    for _ in range(t):\n",
    "        N = int(input())\n",
    "        \n",
    "        ob = Solution()\n",
    "        print(ob.half(N))\n",
    "# } Driver Code Ends"
   ]
  }
 ],
 "metadata": {
  "kernelspec": {
   "display_name": "Python 3",
   "language": "python",
   "name": "python3"
  },
  "language_info": {
   "codemirror_mode": {
    "name": "ipython",
    "version": 3
   },
   "file_extension": ".py",
   "mimetype": "text/x-python",
   "name": "python",
   "nbconvert_exporter": "python",
   "pygments_lexer": "ipython3",
   "version": "3.8.3"
  }
 },
 "nbformat": 4,
 "nbformat_minor": 4
}
