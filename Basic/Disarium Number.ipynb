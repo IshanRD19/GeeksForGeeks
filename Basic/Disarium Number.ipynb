{
 "cells": [
  {
   "cell_type": "markdown",
   "metadata": {},
   "source": [
    "# DISARIUM NUMBER\n",
    "\n",
    "Given a number N, find if it is Disarium or not. A number is called Disarium if sum of its digits powered with their respective positions is equal to the number itself. Output 1 if it's Disarium, and 0 if not.\n",
    "\n",
    "### Example 1:\n",
    "\n",
    "#### Input:\n",
    "N = 89\n",
    "#### Output:\n",
    "1\n",
    "#### Explanation:\n",
    "8^1+9^2 = 89 thus output is 1.\n",
    "### Example 2:\n",
    "\n",
    "#### Input:\n",
    "N = 81\n",
    "#### Output:\n",
    "0\n",
    "#### Explanation:\n",
    "8^1+1^2 = 9 thus output is 0. \n",
    "\n",
    "### Your Task:\n",
    "You don't need to read input or print anything. Your task is to complete the function isDisarium() which takes an Integer N as input and returns the answer.\n",
    "\n",
    "**Expected Time Complexity:** O(log(N))\n",
    "\n",
    "**Expected Auxiliary Space:** O(1)\n",
    "\n",
    "### Constraints:\n",
    "0 <= N <= 10^8"
   ]
  },
  {
   "cell_type": "code",
   "execution_count": 1,
   "metadata": {},
   "outputs": [
    {
     "name": "stdout",
     "output_type": "stream",
     "text": [
      "2\n",
      "89\n",
      "1\n",
      "81\n",
      "0\n"
     ]
    }
   ],
   "source": [
    "# User function Template for python3\n",
    "class Solution:\n",
    "    def isDisarium(self, N):\n",
    "        # code here \n",
    "        digits = [int(d) for d in str(N)]\n",
    "        digit_sum = 0\n",
    "        \n",
    "        for i in range(len(digits)):\n",
    "            digit_sum += digits[i] ** (i+1)\n",
    "            \n",
    "        return 1 if digit_sum == N else 0\n",
    "\n",
    "#{ \n",
    " # Driver Code Starts\n",
    "#Initial Template for Python 3\n",
    "\n",
    "if __name__ == '__main__': \n",
    "    t = int (input ())\n",
    "    for _ in range (t):\n",
    "        N=int(input())\n",
    "        \n",
    "        ob = Solution()\n",
    "        print(ob.isDisarium(N))\n",
    "# } Driver Code Ends"
   ]
  }
 ],
 "metadata": {
  "kernelspec": {
   "display_name": "Python 3",
   "language": "python",
   "name": "python3"
  },
  "language_info": {
   "codemirror_mode": {
    "name": "ipython",
    "version": 3
   },
   "file_extension": ".py",
   "mimetype": "text/x-python",
   "name": "python",
   "nbconvert_exporter": "python",
   "pygments_lexer": "ipython3",
   "version": "3.8.3"
  }
 },
 "nbformat": 4,
 "nbformat_minor": 4
}
