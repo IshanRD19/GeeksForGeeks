{
 "cells": [
  {
   "cell_type": "markdown",
   "metadata": {},
   "source": [
    "# TRIANGLE GROWING DOWNWARDS\n",
    "\n",
    "Given string str of a constant length, print a triangle out of it. The triangle should start with the first character of the string and keep growing downwards by adding one character from the string.\n",
    "The spaces on the left side of the triangle should be replaced with a dot character. \n",
    "\n",
    "### Example 1:\n",
    "\n",
    "#### Input:\n",
    "str = \"geeks\"\n",
    "\n",
    "#### Output:\n",
    "....g\n",
    "\n",
    "...ge\n",
    "\n",
    "..gee\n",
    "\n",
    ".geek\n",
    "\n",
    "geeks\n",
    "### Example 2:\n",
    "\n",
    "#### Input:\n",
    "str = \"thisi\"\n",
    "\n",
    "#### Output:\n",
    "....t\n",
    "\n",
    "...th\n",
    "\n",
    "..thi\n",
    "\n",
    ".this\n",
    "\n",
    "thisi\n",
    "### Your Task:  \n",
    "You don't need to read input. Your task is to complete the function printTriangleDownwards() which takes the string str as an input parameter and prints the required triangle.\n",
    "\n",
    "**Expected Time Complexity:** O(N*N), Where N is the size of input string.\n",
    "\n",
    "**Expected Auxiliary Space:** O(1)\n",
    "\n",
    "### Constraints:\n",
    "1 <= |str| <= 500"
   ]
  },
  {
   "cell_type": "code",
   "execution_count": 1,
   "metadata": {},
   "outputs": [
    {
     "name": "stdout",
     "output_type": "stream",
     "text": [
      "2\n",
      "geeks\n",
      "....g\n",
      "...ge\n",
      "..gee\n",
      ".geek\n",
      "geeks\n",
      "thisi\n",
      "....t\n",
      "...th\n",
      "..thi\n",
      ".this\n",
      "thisi\n"
     ]
    }
   ],
   "source": [
    "#User function Template for python3\n",
    "\n",
    "class Solution:\n",
    "\n",
    "    def printTriangleDownwards(self, s):\n",
    "        # code here\n",
    "        length = len(s)\n",
    "        result = []\n",
    "        \n",
    "        for i in range(len(s)):\n",
    "            print('.' * (length-i-1) + s[0:(i+1)])\n",
    "\n",
    "        return\n",
    "\n",
    "#{ \n",
    "#  Driver Code Starts\n",
    "#Initial Template for Python 3\n",
    "if __name__ == '__main__':\n",
    "    t = int(input())\n",
    "    for _ in range(t):\n",
    "        s = input()\n",
    "        solObj = Solution()\n",
    "        ans = solObj.printTriangleDownwards(s)\n",
    "# } Driver Code Ends"
   ]
  }
 ],
 "metadata": {
  "kernelspec": {
   "display_name": "Python 3",
   "language": "python",
   "name": "python3"
  },
  "language_info": {
   "codemirror_mode": {
    "name": "ipython",
    "version": 3
   },
   "file_extension": ".py",
   "mimetype": "text/x-python",
   "name": "python",
   "nbconvert_exporter": "python",
   "pygments_lexer": "ipython3",
   "version": "3.8.3"
  }
 },
 "nbformat": 4,
 "nbformat_minor": 4
}
