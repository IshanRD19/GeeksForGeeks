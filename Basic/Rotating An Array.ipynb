{
 "cells": [
  {
   "cell_type": "markdown",
   "metadata": {},
   "source": [
    "# ROTATING AN ARRAY\n",
    "\n",
    "Given an array of size N. The task is to rotate array by D elements where D ≤ N.\n",
    "\n",
    "### Example 1:\n",
    "\n",
    "#### Input:\n",
    "N = 7\n",
    "\n",
    "Arr[] = {1, 2, 3, 4, 5, 6, 7}\n",
    "\n",
    "D = 2\n",
    "#### Output: \n",
    "3 4 5 6 7 1 2\n",
    "#### Explanation: \n",
    "Rotate by 1: [2, 3, 4, 5, 6, 7, 1]\n",
    "Rotate by 2: [3, 4, 5, 6, 7, 1, 2]\n",
    "\n",
    "### Example 2:\n",
    "\n",
    "#### Input:\n",
    "N = 4\n",
    "\n",
    "Arr[] = {1, 3, 4, 2}\n",
    "\n",
    "D = 3\n",
    "#### Output: \n",
    "2 1 3 4\n",
    "\n",
    "### Your Task:\n",
    "You don't need to read input or print anything. Your task is to complete the function leftRotate() which takes the array of integers arr[], its size n and d as input parameters and rotates arr[] in-place without using any extra memory.\n",
    "\n",
    "**Expected Time Complexity:** O(N)\n",
    "\n",
    "**Expected Auxiliary Space:** O(1)\n",
    "\n",
    "### Constraints:\n",
    "1 ≤ N ≤ 105\n",
    "1 ≤ Arr[i] ≤ 1000\n",
    "0 ≤ D ≤ N"
   ]
  },
  {
   "cell_type": "code",
   "execution_count": null,
   "metadata": {},
   "outputs": [],
   "source": [
    "# User function Template for python3\n",
    "class Solution:\n",
    "    def leftRotate(self, arr, n, d):\n",
    "        # code here\n",
    "        arr[:] = arr[d:] + arr[:d]\n",
    "        return\n",
    "\n",
    "# { \n",
    "# Driver Code Starts\n",
    "# Initial Template for Python 3\n",
    "if __name__ == '__main__':\n",
    "    tc = int(input())\n",
    "    while tc > 0:\n",
    "        n = int(input())\n",
    "        arr = list(map(int, input().strip().split()))\n",
    "        d = int(input())\n",
    "        ob = Solution()\n",
    "        ob.leftRotate(arr, n, d)\n",
    "        for xx in arr:\n",
    "            print(xx, end=\" \")\n",
    "        print()\n",
    "        tc -= 1\n",
    "# } Driver Code Ends"
   ]
  }
 ],
 "metadata": {
  "kernelspec": {
   "display_name": "Python 3.10.6 64-bit",
   "language": "python",
   "name": "python3"
  },
  "language_info": {
   "name": "python",
   "version": "3.10.6"
  },
  "orig_nbformat": 4,
  "vscode": {
   "interpreter": {
    "hash": "26de051ba29f2982a8de78e945f0abaf191376122a1563185a90213a26c5da77"
   }
  }
 },
 "nbformat": 4,
 "nbformat_minor": 2
}
