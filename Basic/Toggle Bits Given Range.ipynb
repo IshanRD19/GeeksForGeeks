{
 "cells": [
  {
   "cell_type": "markdown",
   "metadata": {},
   "source": [
    "# TOGGLE BITS GIVEN RANGE\n",
    "\n",
    "Given a non-negative number N and two values L and R. The problem is to toggle the bits in the range L to R in the binary representation of N, i.e, to toggle bits from the rightmost Lth bit to the rightmost Rth bit. A toggle operation flips a bit 0 to 1 and a bit 1 to 0. Print N after the bits are toggled.\n",
    "\n",
    "### Example 1:\n",
    "\n",
    "#### Input:\n",
    "N = 17 , L = 2 , R = 3\n",
    "#### Output:\n",
    "23\n",
    "#### Explanation:\n",
    "(17)10 = (10001)2.  After toggling all\n",
    "the bits from 2nd to 3rd position we get\n",
    "(10111)2 = (23)10\n",
    "### Example 2:\n",
    "\n",
    "#### Input:\n",
    "N = 50 , L = 2 , R = 5\n",
    "#### Output:\n",
    "44\n",
    "#### Explanation:\n",
    "(50)10 = (110010)2.  After toggling all\n",
    "the bits from 2nd to 3rd position we get\n",
    "(101100)2 = (44)10\n",
    " \n",
    "\n",
    "### Your Task:\n",
    "You don't need to read input or print anything. Your task is to complete the function toggleBits() which takes 3 Integers N,L and R as input and returns the answer.\n",
    "\n",
    "**Expected Time Complexity:** O(1)\n",
    "\n",
    "**Expected Auxiliary Space:** O(1)\n",
    "\n",
    "### Constraints:\n",
    "1 <= N <= 10^5\n",
    "\n",
    "1 <= L<=R <= Number of Bits in N"
   ]
  },
  {
   "cell_type": "code",
   "execution_count": 3,
   "metadata": {},
   "outputs": [
    {
     "name": "stdout",
     "output_type": "stream",
     "text": [
      "44\n"
     ]
    }
   ],
   "source": [
    "# User function Template for python3\n",
    "class Solution:\n",
    "    def toggleBits(self, N , L , R):\n",
    "        # code here \n",
    "        binary = [b for b in bin(N)[2:]]\n",
    "        binary.reverse()\n",
    "        \n",
    "        for i in range(L, R+1):\n",
    "            binary[i-1] = '0' if binary[i-1] == '1' else '1'\n",
    "            \n",
    "        binary.reverse()\n",
    "        return int(''.join(binary), 2)\n",
    "\n",
    "# { \n",
    "# Driver Code Starts\n",
    "# Initial Template for Python 3\n",
    "if __name__ == '__main__': \n",
    "    t = int (input ())\n",
    "    for _ in range (t):\n",
    "        N,L,R=map(int,input().split())\n",
    "        ob = Solution()\n",
    "        print(ob.toggleBits(N,L,R))\n",
    "# } Driver Code Ends"
   ]
  }
 ],
 "metadata": {
  "kernelspec": {
   "display_name": "Python 3.10.6 64-bit",
   "language": "python",
   "name": "python3"
  },
  "language_info": {
   "codemirror_mode": {
    "name": "ipython",
    "version": 3
   },
   "file_extension": ".py",
   "mimetype": "text/x-python",
   "name": "python",
   "nbconvert_exporter": "python",
   "pygments_lexer": "ipython3",
   "version": "3.10.6"
  },
  "orig_nbformat": 4,
  "vscode": {
   "interpreter": {
    "hash": "26de051ba29f2982a8de78e945f0abaf191376122a1563185a90213a26c5da77"
   }
  }
 },
 "nbformat": 4,
 "nbformat_minor": 2
}
