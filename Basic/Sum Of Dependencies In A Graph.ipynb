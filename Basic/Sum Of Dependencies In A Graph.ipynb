{
 "cells": [
  {
   "cell_type": "markdown",
   "metadata": {},
   "source": [
    "# SUM OF DEPENDENCIES IN A GRAPH\n",
    "\n",
    "Given a directed graph with V nodes and E edges. If there is an edge from u to v then u depends on v. Find out the sum of dependencies for every node. Duplicate edges should be counted as separate edges.\n",
    "\n",
    "### Example 1:\n",
    "\n",
    "### Input:\n",
    "V=4\n",
    "\n",
    "E=4\n",
    "\n",
    "Edges={ {0,2},{0,3},{1,3},{2,3} }\n",
    "\n",
    "### Output:\n",
    "4\n",
    "### Explanation:\n",
    "For the graph in diagram, A depends on C and D i.e. 2, B depends on D i.e. 1, C depends on D i.e. 1 and D depends on none. Hence answer -> 0 + 1 + 1 + 2 = 4\n",
    "### Example 2:\n",
    "\n",
    "### Input:\n",
    "V=4\n",
    "\n",
    "E=3\n",
    "\n",
    "Edges={ {0,3},{0,2},{0,1} }\n",
    "### Output:\n",
    "3\n",
    "\n",
    "### Explanation:\n",
    "The sum of dependencies=3+0+0+0=3.\n",
    "\n",
    "### Your Task:\n",
    "You don't need to read input or print anything.Your task is to complete the function sumOfDependencies() which takes the adj (Adjacency list) and V (Number of nodes)as input parameters and returns the total sum of dependencies of all nodes.\n",
    "\n",
    "\n",
    "Expected Time Complexity:O(V)\n",
    "Expected Auxillary Space:O(1)\n",
    "\n",
    "\n",
    "### Constraints:\n",
    "1 <= V,E <= 150\n",
    "\n",
    "0 <= Edges[i][0], Edges[i][1] <= V-1"
   ]
  },
  {
   "cell_type": "code",
   "execution_count": 1,
   "metadata": {},
   "outputs": [
    {
     "name": "stdout",
     "output_type": "stream",
     "text": [
      "2\n",
      "4 4\n",
      "0 2 0 3 1 3 2 3\n",
      "4\n",
      "4 3\n",
      "0 3 0 2 0 1\n",
      "3\n"
     ]
    }
   ],
   "source": [
    "#User function Template for python3\n",
    "\n",
    "class Solution:\n",
    "    def sumOfDependencies(self,adj,V):\n",
    "        #code here\n",
    "        result = 0\n",
    "        for i in range(V):\n",
    "            if adj[i]:\n",
    "                result += len(adj[i])\n",
    "        return result\n",
    "\n",
    "#{ \n",
    "#  Driver Code Starts\n",
    "#Initial Template for Python 3\n",
    "import math\n",
    "if __name__=='__main__':\n",
    "    t=int(input())\n",
    "    for _ in range(t):\n",
    "        N,M=map(int,input().strip().split())\n",
    "        a=[[] for i in range(N)]\n",
    "        s=list(map(int,input().strip().split()))\n",
    "        for i in range(0,2*M,2):\n",
    "            x=s[i]\n",
    "            y=s[i+1]\n",
    "            a[x].append(y)\n",
    "        ob=Solution()\n",
    "        print(ob.sumOfDependencies(a,N))\n",
    "# } Driver Code Ends"
   ]
  }
 ],
 "metadata": {
  "kernelspec": {
   "display_name": "Python 3",
   "language": "python",
   "name": "python3"
  },
  "language_info": {
   "codemirror_mode": {
    "name": "ipython",
    "version": 3
   },
   "file_extension": ".py",
   "mimetype": "text/x-python",
   "name": "python",
   "nbconvert_exporter": "python",
   "pygments_lexer": "ipython3",
   "version": "3.8.3"
  }
 },
 "nbformat": 4,
 "nbformat_minor": 4
}
