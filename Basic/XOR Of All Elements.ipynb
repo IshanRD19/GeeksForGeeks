{
 "cells": [
  {
   "cell_type": "markdown",
   "metadata": {},
   "source": [
    "# XOR OF ALL ELEMENTS\n",
    "\n",
    "Given a list A having N positive elements. The task to create another list such as ith element is XOR of all elements of  A except A[i].\n",
    "\n",
    "### Example 1:\n",
    "\n",
    "#### Input:\n",
    "A = [2, 1, 5, 9]\n",
    "#### Output:\n",
    "13 14 10 6\n",
    "#### Explanation:\n",
    "At first position 1^5^9 = 13\n",
    "\n",
    "At second position 2^5^9 = 14\n",
    "\n",
    "At third position 2^1^9 = 10\n",
    "\n",
    "At last position 2^1^5 = 6\n",
    "### Example 2:\n",
    "\n",
    "#### Input:\n",
    "A = [2, 1]\n",
    "#### Output:\n",
    "1 2\n",
    "#### Explanation: \n",
    "At first position except first position there is only one element = 1\n",
    "\n",
    "At second position except second position there is only one element = 2\n",
    "### Your Task:  \n",
    "You don't need to read input or print anything. Your task is to complete the function getXor() which takes a list A and an integer N which is the size of the list A and return the modified list.\n",
    "\n",
    "**Expected Time Complexity:** O(N)\n",
    "\n",
    "**Expected Auxiliary Space:** O(1), Where N is the size of the input array\n",
    "\n",
    "### Constraints:\n",
    "1<= N <=10000\n",
    "\n",
    "1<= A[i] <=100000"
   ]
  },
  {
   "cell_type": "code",
   "execution_count": 1,
   "metadata": {},
   "outputs": [
    {
     "name": "stdout",
     "output_type": "stream",
     "text": [
      "2\n",
      "4\n",
      "2 1 5 9\n",
      "13 14 10 6 \n",
      "2\n",
      "2 1\n",
      "1 2 \n"
     ]
    }
   ],
   "source": [
    "# User function Template for python3\n",
    "class Solution:\n",
    "    def getXor(self, A, N):\n",
    "        # code here\n",
    "        overall_xor = 0\n",
    "        result = []\n",
    "        \n",
    "        # (Time Efficient Method)\n",
    "\n",
    "        # Perform XOR over all elements \n",
    "        for i in range(N):\n",
    "            overall_xor ^= A[i]\n",
    "            \n",
    "        # Perform XOR twice over each element to get the results\n",
    "        for i in range(N):\n",
    "            result.append(overall_xor ^ A[i])\n",
    "                \n",
    "        return result\n",
    "\n",
    "#{ \n",
    "#  Driver Code Starts\n",
    "#Initial Template for Python 3\n",
    "if __name__ == '__main__':\n",
    "    T=int(input())\n",
    "    for i in range(T):\n",
    "        N = int(input())\n",
    "        A = [int(x) for x in input().split()]\n",
    "        ob = Solution()\n",
    "        ans = ob.getXor(A, N)\n",
    "        for x in ans:\n",
    "            print(x,end=\" \")\n",
    "        print(\"\")\n",
    "# } Driver Code Ends"
   ]
  }
 ],
 "metadata": {
  "kernelspec": {
   "display_name": "Python 3",
   "language": "python",
   "name": "python3"
  },
  "language_info": {
   "codemirror_mode": {
    "name": "ipython",
    "version": 3
   },
   "file_extension": ".py",
   "mimetype": "text/x-python",
   "name": "python",
   "nbconvert_exporter": "python",
   "pygments_lexer": "ipython3",
   "version": "3.8.3"
  }
 },
 "nbformat": 4,
 "nbformat_minor": 4
}
