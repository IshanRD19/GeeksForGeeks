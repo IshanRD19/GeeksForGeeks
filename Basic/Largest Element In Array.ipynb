{
 "cells": [
  {
   "cell_type": "markdown",
   "metadata": {},
   "source": [
    "# LARGEST ELEMENT IN ARRAY\n",
    "\n",
    "Given an array A[] of size n. The task is to find the largest element in it.\n",
    " \n",
    "### Example 1:\n",
    "\n",
    "#### Input:\n",
    "n = 5\n",
    "\n",
    "A[] = {1, 8, 7, 56, 90}\n",
    "#### Output:\n",
    "90\n",
    "#### Explanation:\n",
    "The largest element of given array is 90.\n",
    " \n",
    "\n",
    "### Example 2:\n",
    "\n",
    "#### Input:\n",
    "n = 7\n",
    "\n",
    "A[] = {1, 2, 0, 3, 2, 4, 5}\n",
    "#### Output:\n",
    "5\n",
    "#### Explanation:\n",
    "The largest element of given array is 5.\n",
    " \n",
    "\n",
    "### Your Task:  \n",
    "You don't need to read input or print anything. Your task is to complete the function largest() which takes the array A[] and its size n as inputs and returns the maximum element in the array.\n",
    " \n",
    "\n",
    "**Expected Time Complexity:** O(N)\n",
    "\n",
    "**Expected Auxiliary Space:** O(1)\n",
    " \n",
    "\n",
    "### Constraints:\n",
    "1 <= n<= 103\n",
    "\n",
    "0 <= A[i] <= 103\n",
    "\n",
    "Array may contain duplicate elements."
   ]
  },
  {
   "cell_type": "code",
   "execution_count": 1,
   "metadata": {},
   "outputs": [
    {
     "name": "stdout",
     "output_type": "stream",
     "text": [
      "2\n",
      "5\n",
      "1 8 7 56 90\n",
      "90\n",
      "7\n",
      "1 2 0 3 2 4 5\n",
      "5\n"
     ]
    }
   ],
   "source": [
    "#User function Template for python3\n",
    "\n",
    "def largest(arr, n):\n",
    "    return max(arr)\n",
    "\n",
    "\n",
    "#{ \n",
    "#  Driver Code Starts\n",
    "#Initial Template for Python 3\n",
    "\n",
    "def main():\n",
    "    T = int(input())\n",
    "\n",
    "    while(T > 0):\n",
    "        n = int(input())\n",
    "        a = [int(x) for x in input().strip().split()]\n",
    "        print(largest(a, n))\n",
    "\n",
    "        T -= 1\n",
    "\n",
    "if __name__ == \"__main__\":\n",
    "    main()\n",
    "# } Driver Code Ends"
   ]
  }
 ],
 "metadata": {
  "kernelspec": {
   "display_name": "Python 3",
   "language": "python",
   "name": "python3"
  },
  "language_info": {
   "codemirror_mode": {
    "name": "ipython",
    "version": 3
   },
   "file_extension": ".py",
   "mimetype": "text/x-python",
   "name": "python",
   "nbconvert_exporter": "python",
   "pygments_lexer": "ipython3",
   "version": "3.8.3"
  }
 },
 "nbformat": 4,
 "nbformat_minor": 4
}
