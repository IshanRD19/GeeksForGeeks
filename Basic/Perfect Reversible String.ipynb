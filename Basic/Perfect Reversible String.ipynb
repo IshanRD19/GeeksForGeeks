{
 "cells": [
  {
   "cell_type": "markdown",
   "metadata": {},
   "source": [
    "# PERFEC REVERSIBLE STRING\n",
    "\n",
    "You are given a string ‘str’, the task is to check that reverses of all possible substrings of ‘str’ are present in ‘str’. If yes then the answer is 1, otherwise, the answer will be 0.\n",
    "\n",
    "### Example 1:\n",
    "\n",
    "#### Input:\n",
    "n = 2, str = \"ab\"\n",
    "#### Output:\n",
    "0\n",
    "#### Explanation:\n",
    "All substrings are \"a\", \"b\",\"ab\" but reverse of \"ab\" is not present in str.\n",
    "### Example 2:\n",
    "\n",
    "### Input:\n",
    "n = 3, str = \"aba\"\n",
    "### Output:\n",
    "1\n",
    "### Explanation:\n",
    "Reverse of all possible substring is present in str.\n",
    "### Your Task:  \n",
    "You don't need to read input or print anything. Your task is to complete the function isReversibleâ€‹() which takes the string str and n (the length of str) as inputs and returns the answer.\n",
    "\n",
    "**Expected Time Complexity:** O(n)\n",
    "\n",
    "**Expected Auxiliary Space:** O(1)\n",
    "\n",
    "### Constraints:\n",
    "1 ≤ n ≤ 2 * 10^5"
   ]
  },
  {
   "cell_type": "code",
   "execution_count": 1,
   "metadata": {},
   "outputs": [
    {
     "name": "stdout",
     "output_type": "stream",
     "text": [
      "2\n",
      "2\n",
      "ab\n",
      "0\n",
      "3\n",
      "aba\n",
      "1\n"
     ]
    }
   ],
   "source": [
    "# User function Template for python3\n",
    "class Solution:\n",
    "    def isReversible(self, str, n):\n",
    "        # code here\n",
    "        return 1 if str == str[::-1] else 0\n",
    "\n",
    "#{ \n",
    "#  Driver Code Starts\n",
    "#Initial Template for Python 3\n",
    "\n",
    "if __name__ == '__main__': \n",
    "    t = int(input())\n",
    "    for _ in range(t):\n",
    "        n = int(input().strip())\n",
    "        str= input().strip()\n",
    "        ob = Solution()\n",
    "        print(ob.isReversible(str, n))\n",
    "# } Driver Code Ends"
   ]
  }
 ],
 "metadata": {
  "kernelspec": {
   "display_name": "Python 3",
   "language": "python",
   "name": "python3"
  },
  "language_info": {
   "codemirror_mode": {
    "name": "ipython",
    "version": 3
   },
   "file_extension": ".py",
   "mimetype": "text/x-python",
   "name": "python",
   "nbconvert_exporter": "python",
   "pygments_lexer": "ipython3",
   "version": "3.8.3"
  }
 },
 "nbformat": 4,
 "nbformat_minor": 4
}
