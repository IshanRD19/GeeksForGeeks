{
 "cells": [
  {
   "cell_type": "markdown",
   "metadata": {},
   "source": [
    "# DIVISIBLE BY 5\n",
    "\n",
    "Given a number N in the form of string, the task is to check if the number is divisible by 5. \n",
    "\n",
    " \n",
    "### Example 1:\n",
    "\n",
    "#### Input:\n",
    "N = \"5\"\n",
    "#### Output:\n",
    "1\n",
    "#### Explanation:\n",
    "5 is divisible by 5.\n",
    " \n",
    "### Example 2:\n",
    "\n",
    "#### Input:\n",
    "N = \"1000001\"\n",
    "#### Output:\n",
    "0\n",
    "#### Explanation:\n",
    "1000001 is not divisible by 5.\n",
    " \n",
    "\n",
    "### Your Task:\n",
    "\n",
    "You don't need to read input or print anything. Your task is to complete the function divisibleBy5() which takes the string N and returns 1 if N is divisible by 5, else returns 0.\n",
    "\n",
    "**Expected Time Complexity:** O(|N|)\n",
    "\n",
    "**Expected Auxiliary Space:** O(1)\n",
    "\n",
    "### Constraints:\n",
    "1<= N <=10^5"
   ]
  },
  {
   "cell_type": "code",
   "execution_count": 1,
   "metadata": {},
   "outputs": [
    {
     "name": "stdout",
     "output_type": "stream",
     "text": [
      "2\n",
      "5\n",
      "1\n",
      "1000001\n",
      "0\n"
     ]
    }
   ],
   "source": [
    "# User function Template for python3\n",
    "class Solution:\n",
    "    def divisibleBy5 (ob,N):\n",
    "        # code here \n",
    "        return 0 if int(N) % 5 else 1\n",
    "\n",
    "# { \n",
    "# Driver Code Starts\n",
    "# Initial Template for Python 3\n",
    "if __name__ == '__main__': \n",
    "    t = int (input ())\n",
    "    for _ in range (t):\n",
    "        N=str(input())\n",
    "        ob = Solution()\n",
    "        print(ob.divisibleBy5(N))\n",
    "# } Driver Code Ends"
   ]
  }
 ],
 "metadata": {
  "kernelspec": {
   "display_name": "Python 3",
   "language": "python",
   "name": "python3"
  },
  "language_info": {
   "codemirror_mode": {
    "name": "ipython",
    "version": 3
   },
   "file_extension": ".py",
   "mimetype": "text/x-python",
   "name": "python",
   "nbconvert_exporter": "python",
   "pygments_lexer": "ipython3",
   "version": "3.8.3"
  }
 },
 "nbformat": 4,
 "nbformat_minor": 4
}
