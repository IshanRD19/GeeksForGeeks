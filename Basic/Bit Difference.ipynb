{
 "cells": [
  {
   "cell_type": "markdown",
   "metadata": {},
   "source": [
    "# BIT DIFFERENCE\n",
    "\n",
    "You are given two numbers A and B. The task is to count the number of bits needed to be flipped to convert A to B.\n",
    "\n",
    "### Example 1:\n",
    "\n",
    "### Input: \n",
    "A = 10, B = 20\n",
    "### Output: \n",
    "4\n",
    "### Explanation:\n",
    "A  = 01010\n",
    "\n",
    "B  = 10100\n",
    "\n",
    "As we can see, the bits of A that need \n",
    "to be flipped are 01010. If we flip \n",
    "these bits, we get 10100, which is B.\n",
    "### Example 2:\n",
    "\n",
    "### Input: \n",
    "A = 20, B = 25\n",
    "### Output: \n",
    "3\n",
    "### Explanation:\n",
    "A  = 10100\n",
    "\n",
    "B  = 11001\n",
    "\n",
    "As we can see, the bits of A that need \n",
    "to be flipped are 10100. If we flip \n",
    "these bits, we get 11001, which is B.\n",
    "\n",
    "### Your Task: \n",
    "The task is to complete the function countBitsFlip() that takes A and B as parameters and returns the count of the number of bits to be flipped to convert A to B.\n",
    "\n",
    "**Expected Time Complexity:** O(log N).\n",
    "\n",
    "**Expected Auxiliary Space:** O(1).\n",
    "\n",
    "### Constraints:\n",
    "1 ≤ A, B ≤ 10^6"
   ]
  },
  {
   "cell_type": "code",
   "execution_count": 1,
   "metadata": {},
   "outputs": [
    {
     "name": "stdout",
     "output_type": "stream",
     "text": [
      "4\n",
      "3\n"
     ]
    }
   ],
   "source": [
    "# User function Template for python3\n",
    "class Solution:\n",
    "    ##Complete this function\n",
    "    # Function to find number of bits needed to be flipped to convert A to B\n",
    "    def countBitsFlip(self,a,b):\n",
    "        ##Your code here\n",
    "        return sum([1 for b in bin(a^b)[2:] if b=='1'])\n",
    "\n",
    "# { \n",
    "# Driver Code Starts\n",
    "# Initial Template for Python 3\n",
    "import math\n",
    "def main():\n",
    "    T=int(input())\n",
    "    while(T>0):\n",
    "        ab=[int(x) for x in input().strip().split()]\n",
    "        a=ab[0]\n",
    "        b=ab[1]\n",
    "        ob=Solution()\n",
    "        print(ob.countBitsFlip(a,b))\n",
    "        T-=1\n",
    "if __name__==\"__main__\":\n",
    "    main()\n",
    "# } Driver Code Ends"
   ]
  }
 ],
 "metadata": {
  "kernelspec": {
   "display_name": "Python 3.10.6 64-bit",
   "language": "python",
   "name": "python3"
  },
  "language_info": {
   "codemirror_mode": {
    "name": "ipython",
    "version": 3
   },
   "file_extension": ".py",
   "mimetype": "text/x-python",
   "name": "python",
   "nbconvert_exporter": "python",
   "pygments_lexer": "ipython3",
   "version": "3.10.6"
  },
  "orig_nbformat": 4,
  "vscode": {
   "interpreter": {
    "hash": "26de051ba29f2982a8de78e945f0abaf191376122a1563185a90213a26c5da77"
   }
  }
 },
 "nbformat": 4,
 "nbformat_minor": 2
}
