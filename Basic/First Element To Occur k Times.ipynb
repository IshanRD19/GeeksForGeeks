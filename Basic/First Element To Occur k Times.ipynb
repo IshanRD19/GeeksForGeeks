{
 "cells": [
  {
   "cell_type": "markdown",
   "metadata": {},
   "source": [
    "# FIRST ELEMENT TO OCCUR K TIMES\n",
    "\n",
    "Given an array of N integers. Find the first element that occurs at least K number of times.\n",
    "\n",
    "### Example 1:\n",
    "\n",
    "#### Input :\n",
    "N = 7, K = 2\n",
    "\n",
    "A[] = {1, 7, 4, 3, 4, 8, 7}\n",
    "#### Output :\n",
    "4\n",
    "#### Explanation:\n",
    "Both 7 and 4 occur 2 times. \n",
    "But 4 is first that occurs 2 times\n",
    "As at index = 4, 4 has occurred \n",
    "atleast 2 times whereas at index = 6,\n",
    "7 has occurred atleast 2 times.\n",
    " \n",
    "### Your Task:  \n",
    "You don't need to read input or print anything. Your task is to complete the function firstElementKTime() which takes the array A[], its size N, and an integer K as inputs and returns the required answer. If the answer is not present in the array, return -1.\n",
    "\n",
    "**Expected Time Complexity:** O(N)\n",
    "**Expected Auxiliary Space:** O(N)\n",
    "\n",
    "### Constraints:\n",
    "1 <= N, K <= 10^5\n",
    "\n",
    "1<= A <= 10^6"
   ]
  },
  {
   "cell_type": "code",
   "execution_count": 1,
   "metadata": {},
   "outputs": [
    {
     "name": "stdout",
     "output_type": "stream",
     "text": [
      "4\n"
     ]
    }
   ],
   "source": [
    "# User function Template for python3\n",
    "class Solution:\n",
    "    def firstElementKTime(self,  a, n, k):\n",
    "        # code here\n",
    "        count = {}\n",
    "        \n",
    "        for i in range(n):\n",
    "            if a[i] in count:\n",
    "                count[a[i]] += 1\n",
    "            else:\n",
    "                count[a[i]] = 1\n",
    "            \n",
    "            if count[a[i]] == k:\n",
    "                return a[i]\n",
    "        \n",
    "        return -1\n",
    "\n",
    "# { \n",
    "# Driver Code Starts\n",
    "# Initial Template for Python 3\n",
    "def main():\n",
    "    T = int(input())\n",
    "    while(T > 0):\n",
    "        sz = [int(x) for x in input().strip().split()]\n",
    "        n, k = sz[0], sz[1]\n",
    "        a = [int(x) for x in input().strip().split()]\n",
    "        ob = Solution()\n",
    "        print(ob.firstElementKTime(a, n, k))\n",
    "        T -= 1\n",
    "if __name__ == \"__main__\":\n",
    "    main()\n",
    "# } Driver Code Ends"
   ]
  }
 ],
 "metadata": {
  "kernelspec": {
   "display_name": "Python 3.10.6 64-bit",
   "language": "python",
   "name": "python3"
  },
  "language_info": {
   "codemirror_mode": {
    "name": "ipython",
    "version": 3
   },
   "file_extension": ".py",
   "mimetype": "text/x-python",
   "name": "python",
   "nbconvert_exporter": "python",
   "pygments_lexer": "ipython3",
   "version": "3.10.6"
  },
  "orig_nbformat": 4,
  "vscode": {
   "interpreter": {
    "hash": "26de051ba29f2982a8de78e945f0abaf191376122a1563185a90213a26c5da77"
   }
  }
 },
 "nbformat": 4,
 "nbformat_minor": 2
}
