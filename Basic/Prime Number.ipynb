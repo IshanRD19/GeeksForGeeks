{
 "cells": [
  {
   "cell_type": "markdown",
   "metadata": {},
   "source": [
    "# PRIME NUMBER\n",
    "\n",
    "For a given number N check if it is prime or not. A prime number is a number which is only divisible by 1 and itself.\n",
    " \n",
    "### Example 1:\n",
    "\n",
    "#### Input:\n",
    "N = 5\n",
    "#### Output:\n",
    "1\n",
    "#### Explanation:\n",
    "5 has 2 factors 1 and 5 only.\n",
    "### Example 2:\n",
    "\n",
    "#### Input:\n",
    "N = 25\n",
    "#### Output:\n",
    "0\n",
    "#### Explanation:\n",
    "25 has 3 factors 1, 5, 25\n",
    "\n",
    "### Your Task:\n",
    "You don't need to read input or print anything. Your task is to complete the function isPrime() which takes an integer N as input parameters and returns an integer, 1 if N is a prime number or 0 otherwise.\n",
    " \n",
    "**Expected Time Complexity:**O(sqrt(N))\n",
    "\n",
    "**Expected Space Complexity:** O(1)\n",
    "\n",
    "### Constraints:\n",
    "1 <= N <= 10^9"
   ]
  },
  {
   "cell_type": "code",
   "execution_count": 2,
   "metadata": {},
   "outputs": [],
   "source": [
    "# User function Template for python3\n",
    "class Solution:\n",
    "    def isPrime (self, N):\n",
    "        # code here\n",
    "        if N == 1:\n",
    "            return 0\n",
    "            \n",
    "        i = 2\n",
    "        while i ** 2 <= N:\n",
    "            \n",
    "            if not N % i:\n",
    "                return 0\n",
    "                \n",
    "            i += 1\n",
    "            \n",
    "        return 1\n",
    "\n",
    "# { \n",
    "# Driver Code Starts\n",
    "# Initial Template for Python 3\n",
    "if __name__ == '__main__': \n",
    "    t = int (input ())\n",
    "    for _ in range (t):\n",
    "        N = int(input())\n",
    "        ob = Solution()\n",
    "        print(ob.isPrime(N))\n",
    "# } Driver Code Ends"
   ]
  }
 ],
 "metadata": {
  "kernelspec": {
   "display_name": "Python 3.10.6 64-bit",
   "language": "python",
   "name": "python3"
  },
  "language_info": {
   "codemirror_mode": {
    "name": "ipython",
    "version": 3
   },
   "file_extension": ".py",
   "mimetype": "text/x-python",
   "name": "python",
   "nbconvert_exporter": "python",
   "pygments_lexer": "ipython3",
   "version": "3.10.6"
  },
  "orig_nbformat": 4,
  "vscode": {
   "interpreter": {
    "hash": "26de051ba29f2982a8de78e945f0abaf191376122a1563185a90213a26c5da77"
   }
  }
 },
 "nbformat": 4,
 "nbformat_minor": 2
}
