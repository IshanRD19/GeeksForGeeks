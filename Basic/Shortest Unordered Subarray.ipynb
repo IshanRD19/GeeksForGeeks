{
 "cells": [
  {
   "cell_type": "markdown",
   "metadata": {},
   "source": [
    "# SHORTEST UNORDERED SUBARRAY\n",
    "\n",
    "Given an array of n distinct elements. Find the length of shortest unordered (neither increasing nor decreasing) sub array in given array.\n",
    "\n",
    "### Example 1:\n",
    "\n",
    "#### Input:\n",
    "n = 5\n",
    "a[] = {7, 9, 10, 8, 11}\n",
    "#### Output:\n",
    "3\n",
    "#### Explanation:\n",
    "Shortest unsorted subarray is 9, 10, 8\n",
    "which is of 3 elements.\n",
    " \n",
    "\n",
    "### Example 2:\n",
    "\n",
    "#### Input:\n",
    "n = 4\n",
    "a[] = {1, 2, 3, 5}\n",
    "#### Output:\n",
    "0\n",
    " \n",
    "### Your Task:  \n",
    "You don't need to read input or print anything. Your task is to complete the function shortestUnorderedSubarray() which takes the array a[] and its size n as inputs and returns the length of shortest unordered subarray.\n",
    "\n",
    "**Expected Time Complexity:** O(n)\n",
    "\n",
    "**Expected Auxiliary Space:** O(1)\n",
    "\n",
    "### Constraints:\n",
    "1 <= n <= 10^5\n",
    "\n",
    "1 <= a[i] <= 10^5"
   ]
  },
  {
   "cell_type": "code",
   "execution_count": null,
   "metadata": {},
   "outputs": [],
   "source": [
    "# User function Template for python3\n",
    "class Solution:\n",
    "    def shortestUnorderedSubarray(self, a, n):\n",
    "        #Code here\n",
    "        for i in range(n-2):\n",
    "            if int(a[i]) < int(a[i+1]) and int(a[i+1]) > int(a[i+2]):\n",
    "                return 3\n",
    "            if int(a[i]) > int(a[i+1]) and int(a[i+1]) < int(a[i+2]):\n",
    "                return 3\n",
    "        return 0\n",
    "\n",
    "# { \n",
    "# Driver Code Starts\n",
    "# Initial Template for Python 3\n",
    "def main():\n",
    "    T = int(input())\n",
    "    while(T > 0):\n",
    "        n = int(input())\n",
    "        a = [x for x in input().strip().split()]\n",
    "        print(Solution().shortestUnorderedSubarray(a, n))\n",
    "        T -= 1\n",
    "if __name__ == \"__main__\":\n",
    "    main()\n",
    "# } Driver Code Ends"
   ]
  }
 ],
 "metadata": {
  "kernelspec": {
   "display_name": "Python 3.10.6 64-bit",
   "language": "python",
   "name": "python3"
  },
  "language_info": {
   "name": "python",
   "version": "3.10.6"
  },
  "orig_nbformat": 4,
  "vscode": {
   "interpreter": {
    "hash": "26de051ba29f2982a8de78e945f0abaf191376122a1563185a90213a26c5da77"
   }
  }
 },
 "nbformat": 4,
 "nbformat_minor": 2
}
