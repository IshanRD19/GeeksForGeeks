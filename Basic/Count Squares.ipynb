{
 "cells": [
  {
   "cell_type": "markdown",
   "metadata": {},
   "source": [
    "# COUNT SQUARES\n",
    "\n",
    "Consider a sample space S consisting of all perfect squares starting from 1, 4, 9 and so on. You are given a number N, you have to output the number of integers less than N in the sample space S.\n",
    "\n",
    "### Example 1:\n",
    "\n",
    "#### Input :\n",
    "N = 9\n",
    "#### Output:\n",
    "2\n",
    "#### Explanation:\n",
    "1 and 4 are the only Perfect Squares\n",
    "less than 9. So, the Output is 2.\n",
    "### Example 2:\n",
    "\n",
    "#### Input :\n",
    "N = 3\n",
    "#### Output:\n",
    "1\n",
    "#### Explanation:\n",
    "1 is the only Perfect Square\n",
    "less than 3. So, the Output is 1.\n",
    " \n",
    "\n",
    "### Your Task:\n",
    "You don't need to read input or print anything. Your task is to complete the function countSquares() which takes an Integer N as input and returns the answer.\n",
    "\n",
    "**Expected Time Complexity:** O(sqrt(N))\n",
    "\n",
    "**Expected Auxiliary Space:** O(1)\n",
    "\n",
    "### Constraints:\n",
    "1 <= N <= 10^8"
   ]
  },
  {
   "cell_type": "code",
   "execution_count": 1,
   "metadata": {},
   "outputs": [
    {
     "name": "stdout",
     "output_type": "stream",
     "text": [
      "2\n",
      "1\n"
     ]
    }
   ],
   "source": [
    "# User function Template for python3\n",
    "class Solution:\n",
    "    def countSquares(self, N):\n",
    "        # code here \n",
    "        return int((N-1) ** 0.5)\n",
    "\n",
    "# { \n",
    "# Driver Code Starts\n",
    "# Initial Template for Python 3\n",
    "import math\n",
    "if __name__ == '__main__': \n",
    "    t = int (input ())\n",
    "    for _ in range (t):\n",
    "        N=int(input())\n",
    "        ob = Solution()\n",
    "        print(ob.countSquares(N))\n",
    "# } Driver Code Ends"
   ]
  }
 ],
 "metadata": {
  "kernelspec": {
   "display_name": "Python 3.10.6 64-bit",
   "language": "python",
   "name": "python3"
  },
  "language_info": {
   "codemirror_mode": {
    "name": "ipython",
    "version": 3
   },
   "file_extension": ".py",
   "mimetype": "text/x-python",
   "name": "python",
   "nbconvert_exporter": "python",
   "pygments_lexer": "ipython3",
   "version": "3.10.6"
  },
  "orig_nbformat": 4,
  "vscode": {
   "interpreter": {
    "hash": "26de051ba29f2982a8de78e945f0abaf191376122a1563185a90213a26c5da77"
   }
  }
 },
 "nbformat": 4,
 "nbformat_minor": 2
}
