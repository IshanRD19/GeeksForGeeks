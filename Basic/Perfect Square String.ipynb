{
 "cells": [
  {
   "cell_type": "markdown",
   "metadata": {},
   "source": [
    "# PERFECT SQUARE STRING\n",
    "\n",
    "You are given a string S. Your task is to determine if the sum of ASCII values of all character results in a perfect square or not. If it is a perfect square then the answer is 1, otherwise 0.\n",
    "\n",
    "### Example 1:\n",
    "\n",
    "#### Input:\n",
    "S = \"d\"\n",
    "#### Output:\n",
    "1\n",
    "#### Explanation:\n",
    "Sum of ASCII of S is 100 which is a square number.\n",
    "### Example 2:\n",
    "\n",
    "#### Input:\n",
    "S = \"1Qy\"\n",
    "#### Output:\n",
    "0\n",
    "#### Explanation:\n",
    "Sum of ASCII of S is 251 which is not a square.\n",
    "### Your Task:  \n",
    "You don't need to read input or print anything. Your task is to complete the function isSquare() which takes the string S as inputs and returns the answer.\n",
    "\n",
    "**Expected Time Complexity:** O(|S|)\n",
    "\n",
    "**Expected Auxiliary Space:** O(1)\n",
    "\n",
    "### Constraints:\n",
    "1 ≤ |S| ≤ 10^5"
   ]
  },
  {
   "cell_type": "code",
   "execution_count": 1,
   "metadata": {},
   "outputs": [
    {
     "name": "stdout",
     "output_type": "stream",
     "text": [
      "2\n",
      "d\n",
      "1\n",
      "1Qy\n",
      "0\n"
     ]
    }
   ],
   "source": [
    "# User function Template for python3\n",
    "class Solution:\n",
    "    def isSquare(self, S): \n",
    "        #code here\n",
    "        i = 2\n",
    "        ascii_sum = 0\n",
    "        \n",
    "        # Calculate the sum of ASCII values\n",
    "        for c in S:\n",
    "            ascii_sum += ord(c)\n",
    "        \n",
    "        # Check if the sum is a perfect square\n",
    "        while (i ** 2) <= ascii_sum:\n",
    "            if (i ** 2) == ascii_sum:\n",
    "                return 1\n",
    "            \n",
    "            i += 1\n",
    "        \n",
    "        return 0\n",
    "\n",
    "# { \n",
    "# Driver Code Starts\n",
    "# Initial Template for Python 3\n",
    "if __name__ == '__main__': \n",
    "    t = int(input())\n",
    "    for _ in range(t):\n",
    "        S = input()\n",
    "        ob = Solution()\n",
    "        print(ob.isSquare(S))\n",
    "# } Driver Code Ends"
   ]
  }
 ],
 "metadata": {
  "kernelspec": {
   "display_name": "Python 3",
   "language": "python",
   "name": "python3"
  },
  "language_info": {
   "codemirror_mode": {
    "name": "ipython",
    "version": 3
   },
   "file_extension": ".py",
   "mimetype": "text/x-python",
   "name": "python",
   "nbconvert_exporter": "python",
   "pygments_lexer": "ipython3",
   "version": "3.8.3"
  }
 },
 "nbformat": 4,
 "nbformat_minor": 4
}
