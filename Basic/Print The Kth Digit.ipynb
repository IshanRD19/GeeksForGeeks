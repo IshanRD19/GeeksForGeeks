{
 "cells": [
  {
   "cell_type": "markdown",
   "metadata": {},
   "source": [
    "# PRINT THE Kth DIGIT\n",
    "\n",
    "Given two numbers A and B, find Kth digit from right of AB.\n",
    "\n",
    "### Example 1:\n",
    "\n",
    "#### Input:\n",
    "A = 3\n",
    "\n",
    "B = 3\n",
    "\n",
    "K = 1\n",
    "#### Output:\n",
    "7\n",
    "#### Explanation:\n",
    "3^3 = 27 and 1st\n",
    "digit from right is \n",
    "7\n",
    "### Example 2:\n",
    "\n",
    "#### Input:\n",
    "A = 5\n",
    "\n",
    "B = 2\n",
    "\n",
    "K = 2\n",
    "#### Output:\n",
    "2\n",
    "#### Explanation:\n",
    "5^2 = 25 and second\n",
    "digit from right is\n",
    "2.\n",
    "\n",
    "### Your Task:\n",
    "You don't need to read input or print anything. Your task is to complete the function kthDigit() which takes integers A, B, K as input parameters and returns Kth Digit of AB from right side.\n",
    " \n",
    "**Expected Time Complexity:** O(log AB)\n",
    "\n",
    "**Expected Space Complexity:** O(1)\n",
    "\n",
    "### Constraints:\n",
    "1 <= A,B <= 15\n",
    "\n",
    "1 <=K<= digits in AB"
   ]
  },
  {
   "cell_type": "code",
   "execution_count": null,
   "metadata": {},
   "outputs": [],
   "source": [
    "# User function Template for python3\n",
    "class Solution:\n",
    "    def kthDigit(self, A, B, K):\n",
    "        # code here\n",
    "        return int(str(A**B)[-K])\n",
    "\n",
    "# { \n",
    "# Driver Code Starts\n",
    "# Initial Template for Python 3\n",
    "if __name__ == '__main__': \n",
    "    t = int (input ())\n",
    "    for _ in range (t):\n",
    "        A,B,K = input().split()\n",
    "        ob = Solution()\n",
    "        print(ob.kthDigit(int(A),int(B),int(K)))\n",
    "# } Driver Code Ends"
   ]
  }
 ],
 "metadata": {
  "language_info": {
   "name": "python"
  },
  "orig_nbformat": 4
 },
 "nbformat": 4,
 "nbformat_minor": 2
}
