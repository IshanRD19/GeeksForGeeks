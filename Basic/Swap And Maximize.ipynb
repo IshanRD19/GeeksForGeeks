{
 "cells": [
  {
   "cell_type": "markdown",
   "metadata": {},
   "source": [
    "# SWAP AND MAXIMIZE\n",
    "\n",
    "Given an array a[ ] of N elements. Consider array as a circular array i.e. element after an is a1. The task is to find maximum sum of the absolute difference between consecutive elements with rearrangement of array elements allowed i.e. after any rearrangement of array elements find |a1 – a2| + |a2 – a3| + …… + |an-1 – an| + |an – a1|.\n",
    "\n",
    "### Example 1:\n",
    "\n",
    "#### Input:\n",
    "N = 4\n",
    "\n",
    "a[] = {4, 2, 1, 8}\n",
    "#### Output: \n",
    "18\n",
    "#### Explanation:\n",
    "Rearrangement done is {1, 8, 2, 4}. Sum of absolute difference between consecutive elements after rearrangement = |1 - 8| + |8 - 2| + |2 - 4| + |4 - 1| = 7 + 6 + 2 + 3 = 18.\n",
    "### Example 2:\n",
    "\n",
    "#### Input:\n",
    "N = 2\n",
    "\n",
    "a[] = {10, 12}\n",
    "#### Output: \n",
    "4\n",
    "### Your Task:\n",
    "This is a function problem. You don't need to take any input, as it is already accomplished by the driver code. You just need to complete the function maxSum() that takes array a[ ] and its size N as input parameters and return the maximum sum using above method.\n",
    "\n",
    "**Expected Time Complexity:** O(N*logN)\n",
    "\n",
    "**Expected Auxiliary Space:** O(1)\n",
    "\n",
    "### Constraints:\n",
    "2 ≤ N ≤ 10^5"
   ]
  },
  {
   "cell_type": "code",
   "execution_count": 1,
   "metadata": {},
   "outputs": [
    {
     "name": "stdout",
     "output_type": "stream",
     "text": [
      "2\n",
      "4\n",
      "4 2 1 8\n",
      "18\n",
      "2\n",
      "10 12\n",
      "4\n"
     ]
    }
   ],
   "source": [
    "# User function Template for python3\n",
    "def maxSum(arr,n):\n",
    "    # code here\n",
    "    \n",
    "    # Sort the array in ascending order\n",
    "    arr.sort()\n",
    "    \n",
    "    left, right = 0, n - 1\n",
    "    max_sum = 0\n",
    "    i = 0\n",
    "    \n",
    "    # Traverse the sorted array from both ends\n",
    "    while left < right:\n",
    "        \n",
    "        # Update maximum sum by maximum difference feasible between elements \n",
    "        max_sum += abs(arr[left] - arr[right])\n",
    "        \n",
    "        # Update the pointers\n",
    "        if i % 2:\n",
    "            right -= 1\n",
    "        else:\n",
    "            left += 1\n",
    "            \n",
    "        i += 1\n",
    "        \n",
    "    # Take into account the cyclic property of array\n",
    "    max_sum += abs(arr[0] - arr[n // 2])\n",
    "        \n",
    "    return max_sum\n",
    "\n",
    "# { \n",
    "# Driver Code Starts\n",
    "# Initial Template for Python 3\n",
    "t=int(input())\n",
    "for _ in range(0,t):\n",
    "    n=int(input())\n",
    "    # x=list(map(int,input().split()))\n",
    "    # n=x[0]\n",
    "    # k=x[1]\n",
    "    arr = list(map(int,input().split()))\n",
    "    ans=maxSum(arr,n)\n",
    "    print(ans)\n",
    "# } Driver Code Ends"
   ]
  }
 ],
 "metadata": {
  "kernelspec": {
   "display_name": "Python 3",
   "language": "python",
   "name": "python3"
  },
  "language_info": {
   "codemirror_mode": {
    "name": "ipython",
    "version": 3
   },
   "file_extension": ".py",
   "mimetype": "text/x-python",
   "name": "python",
   "nbconvert_exporter": "python",
   "pygments_lexer": "ipython3",
   "version": "3.8.3"
  }
 },
 "nbformat": 4,
 "nbformat_minor": 4
}
