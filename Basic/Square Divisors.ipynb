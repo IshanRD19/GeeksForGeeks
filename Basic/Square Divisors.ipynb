{
 "cells": [
  {
   "cell_type": "markdown",
   "metadata": {},
   "source": [
    "# SQUARE DIVISORS \n",
    "\n",
    "Given a number N.Your task is to print the no of divisors of number N which are perfect squares.\n",
    "\n",
    "### Example 1:\n",
    "\n",
    "#### Input:\n",
    "36\n",
    "#### Output:\n",
    "4\n",
    "#### Explaination:\n",
    "The factors which are perfect square are 1, 4, 9 and 36.\n",
    "### Example 2:\n",
    "\n",
    "#### Input:\n",
    "60\n",
    "#### Output:\n",
    "2\n",
    "#### Explaination:\n",
    "The factors which are perfect squares are 1 and 4.\n",
    "### Your Task:\n",
    "You do not need to read input or print anything. Your task is to complete the function squareFactor() which takes N as input parameter and returns the count of the factors which are perfect squares.\n",
    "\n",
    "**Expected Time Complexity:** O(sqrt(N))\n",
    "\n",
    "**Expected Auxiliary Space:** O(1)\n",
    "\n",
    "### Constraints:\n",
    "1 ≤ N ≤ 10^12  "
   ]
  },
  {
   "cell_type": "code",
   "execution_count": 1,
   "metadata": {},
   "outputs": [
    {
     "name": "stdout",
     "output_type": "stream",
     "text": [
      "2\n",
      "36\n",
      "4\n",
      "60\n",
      "2\n"
     ]
    }
   ],
   "source": [
    "# User function Template for python3\n",
    "class Solution:\n",
    "    def squareFactor(self, N):\n",
    "        # code here\n",
    "        i = 1\n",
    "        result = 0\n",
    "\n",
    "        while i * i <= N:\n",
    "            \n",
    "            if not N % (i*i):\n",
    "                result += 1\n",
    "            \n",
    "            i += 1\n",
    "                \n",
    "        return result\n",
    "\n",
    "#{ \n",
    "#  Driver Code Starts\n",
    "#Initial Template for Python 3\n",
    "\n",
    "if __name__ == '__main__':\n",
    "    t = int(input())\n",
    "    for _ in range(t):\n",
    "        N = int(input())\n",
    "        \n",
    "        ob = Solution()\n",
    "        print(ob.squareFactor(N))\n",
    "# } Driver Code Ends"
   ]
  }
 ],
 "metadata": {
  "kernelspec": {
   "display_name": "Python 3",
   "language": "python",
   "name": "python3"
  },
  "language_info": {
   "codemirror_mode": {
    "name": "ipython",
    "version": 3
   },
   "file_extension": ".py",
   "mimetype": "text/x-python",
   "name": "python",
   "nbconvert_exporter": "python",
   "pygments_lexer": "ipython3",
   "version": "3.8.3"
  }
 },
 "nbformat": 4,
 "nbformat_minor": 4
}
