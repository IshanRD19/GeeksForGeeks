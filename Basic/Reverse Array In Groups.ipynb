{
 "cells": [
  {
   "cell_type": "markdown",
   "metadata": {},
   "source": [
    "# REVERSE ARRAY IN GROUPS\n",
    "\n",
    "Given an array arr[] of positive integers of size N. Reverse every sub-array group of size K.\n",
    "\n",
    "### Example 1:\n",
    "\n",
    "#### Input:\n",
    "N = 5, K = 3\n",
    "\n",
    "arr[] = {1,2,3,4,5}\n",
    "#### Output:\n",
    "3 2 1 5 4\n",
    "#### Explanation:\n",
    "First group consists of elements 1, 2, 3. Second group consists of 4,5.\n",
    " \n",
    "\n",
    "### Example 2:\n",
    "\n",
    "#### Input:\n",
    "N = 4, K = 3\n",
    "\n",
    "arr[] = {5,6,8,9}\n",
    "#### Output:\n",
    "8 6 5 9\n",
    "\n",
    "### Your Task:\n",
    "You don't need to read input or print anything. The task is to complete the function reverseInGroups() which takes the array, N and K as input parameters and modifies the array in-place. \n",
    "\n",
    "**Expected Time Complexity:** O(N)\n",
    "\n",
    "**Expected Auxiliary Space:** O(N)\n",
    "\n",
    "### Constraints:\n",
    "1 ≤ N, K ≤ 10^7\n",
    "\n",
    "1 ≤ A[i] ≤ 10^18"
   ]
  },
  {
   "cell_type": "code",
   "execution_count": 1,
   "metadata": {},
   "outputs": [
    {
     "name": "stdout",
     "output_type": "stream",
     "text": [
      "2\n",
      "5 3\n",
      "1 2 3 4 5\n",
      "3 2 1 5 4 \n",
      "4 3\n",
      "5 6 8 9\n",
      "8 6 5 9 \n"
     ]
    }
   ],
   "source": [
    "# User function template for Python\n",
    "class Solution:\t\n",
    "    #Function to reverse every sub-array group of size k.\n",
    "    def reverseInGroups(self, arr, N, K):\n",
    "        # code here\n",
    "        i = 0\n",
    "        \n",
    "        # Traverse the array\n",
    "        while i <= N - K:\n",
    "            \n",
    "            # Reverse the groups\n",
    "            temp_list = arr[i:i+K]\n",
    "            temp_list.reverse()\n",
    "            arr[i:i+K] = temp_list\n",
    "\n",
    "            i += K\n",
    "            \n",
    "        # Reverse the last remaining elements\n",
    "        temp_list = arr[i:]\n",
    "        temp_list.reverse()\n",
    "        arr[i:] = temp_list\n",
    "        \n",
    "        return arr\n",
    "\n",
    "\n",
    "# { \n",
    "# Driver Code Starts\n",
    "# Initial template for Python\n",
    "import math\n",
    "def main():\n",
    "    T=int(input())\n",
    "    while(T>0):\n",
    "        nk=[int(x) for x in input().strip().split()]\n",
    "        N=nk[0]\n",
    "        K=nk[1]\n",
    "        arr=[int(x) for x in input().strip().split()]\n",
    "        ob = Solution()\n",
    "        ob.reverseInGroups(arr,N,K)\n",
    "        for i in arr:\n",
    "            print(i,end=\" \")\n",
    "        print()\n",
    "        T-=1\n",
    "if __name__==\"__main__\":\n",
    "    main()\n",
    "# } Driver Code Ends"
   ]
  }
 ],
 "metadata": {
  "kernelspec": {
   "display_name": "Python 3",
   "language": "python",
   "name": "python3"
  },
  "language_info": {
   "codemirror_mode": {
    "name": "ipython",
    "version": 3
   },
   "file_extension": ".py",
   "mimetype": "text/x-python",
   "name": "python",
   "nbconvert_exporter": "python",
   "pygments_lexer": "ipython3",
   "version": "3.8.3"
  }
 },
 "nbformat": 4,
 "nbformat_minor": 4
}
