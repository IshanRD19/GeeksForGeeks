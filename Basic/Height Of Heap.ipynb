{
 "cells": [
  {
   "cell_type": "markdown",
   "metadata": {},
   "source": [
    "# HEIGHT OF HEAP\n",
    "\n",
    "Given a Binary Heap of size N in an array arr[]. Write a program to calculate the height of the Heap.\n",
    "\n",
    "### Example 1:\n",
    "\n",
    "#### Input:\n",
    "N = 6\n",
    "\n",
    "arr = {1, 3, 6, 5, 9, 8}\n",
    "#### Output:\n",
    "2\n",
    "#### Explaination:\n",
    "The tree is like the following\n",
    "\n",
    "(1)\n",
    "\n",
    "/   \\\n",
    "\n",
    "(3)    (6)\n",
    "\n",
    "/ \\     /\n",
    "\n",
    "(5) (9) (8)\n",
    "\n",
    "### Example 2:\n",
    "\n",
    "#### Input:\n",
    "N = 9\n",
    "\n",
    "arr = {3, 6, 9, 2, 15, 10, 14, 5, 12}\n",
    "#### Output:\n",
    "3\n",
    "#### Explaination:\n",
    "The tree looks like following\n",
    "\n",
    "(2)\n",
    "\n",
    "/      \\\n",
    "\n",
    "(3)      (9)\n",
    "\n",
    "/  \\     /   \\\n",
    "\n",
    "(5) (15) (10) (14)\n",
    "\n",
    "/ \\\n",
    "\n",
    "(6) (12)\n",
    "### Your Task:\n",
    "You do not need to read input or print anything. Your task is to complete the function heapHeight() which takes the value N and the array arr as input parameters and returns the height of the heap.\n",
    "\n",
    "**Expected Time Complexity:** O(logN)\n",
    "\n",
    "**Expected Auxiliary Space:** O(1)\n",
    "\n",
    "### Constraints:\n",
    "1 ≤ N ≤ 10^4\n",
    "\n",
    "1 ≤ arr[i] ≤ 10^6"
   ]
  },
  {
   "cell_type": "code",
   "execution_count": 1,
   "metadata": {},
   "outputs": [
    {
     "name": "stdout",
     "output_type": "stream",
     "text": [
      "2\n",
      "6\n",
      "1 3 6 5 9 8\n",
      "2\n",
      "9\n",
      "3 6 9 2 15 10 14 5 12\n",
      "3\n"
     ]
    }
   ],
   "source": [
    "# User function Template for Python3\n",
    "class Solution:\n",
    "    def heapHeight(self, N, arr):\n",
    "        # code here\n",
    "        i = 1\n",
    "        length = len(arr)\n",
    "        \n",
    "        while (2 ** i) <= length:\n",
    "            i += 1\n",
    "            \n",
    "        return i-1\n",
    "\n",
    "# { \n",
    "# Driver Code Starts\n",
    "# Initial Template for Python 3\n",
    "if __name__ == '__main__': \n",
    "    t = int (input ())\n",
    "    for _ in range (t):\n",
    "        N = int(input())\n",
    "        arr = input().split()\n",
    "        for itr in range(N):\n",
    "            arr[itr] = int(arr[itr])\n",
    "        \n",
    "        ob = Solution()\n",
    "        print(ob.heapHeight(N, arr))\n",
    "# } Driver Code Ends"
   ]
  }
 ],
 "metadata": {
  "kernelspec": {
   "display_name": "Python 3",
   "language": "python",
   "name": "python3"
  },
  "language_info": {
   "codemirror_mode": {
    "name": "ipython",
    "version": 3
   },
   "file_extension": ".py",
   "mimetype": "text/x-python",
   "name": "python",
   "nbconvert_exporter": "python",
   "pygments_lexer": "ipython3",
   "version": "3.8.3"
  }
 },
 "nbformat": 4,
 "nbformat_minor": 4
}
