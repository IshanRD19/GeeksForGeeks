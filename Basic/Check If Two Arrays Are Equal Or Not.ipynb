{
 "cells": [
  {
   "cell_type": "markdown",
   "metadata": {},
   "source": [
    "# CHECK IF TWO ARRAYS ARE EQUAL OR NOT\n",
    "\n",
    "Given two arrays A and B of equal size N, the task is to find if given arrays are equal or not. Two arrays are said to be equal if both of them contain same set of elements, arrangements (or permutation) of elements may be different though.\n",
    "\n",
    "**Note:** If there are repetitions, then counts of repeated elements must also be same for two array to be equal.\n",
    "\n",
    "### Example 1:\n",
    "\n",
    "#### Input:\n",
    "N = 5\n",
    "\n",
    "A[] = {1,2,5,4,0}\n",
    "\n",
    "B[] = {2,4,5,0,1}\n",
    "#### Output:\n",
    "1\n",
    "#### Explanation:\n",
    "Both the array can be rearranged to {0,1,2,4,5}\n",
    "### Example 2:\n",
    "\n",
    "#### Input:\n",
    "N = 3\n",
    "\n",
    "A[] = {1,2,5}\n",
    "\n",
    "B[] = {2,4,15}\n",
    "#### Output:\n",
    "0\n",
    "#### Explanation:\n",
    "A[] and B[] have only one common value.\n",
    "### Your Task:\n",
    "Complete check() function which takes both the given array and their size as function arguments and returns true if the arrays are equal else returns false.The 0 and 1 printing is done by the driver code.\n",
    "\n",
    "**Expected Time Complexity:** O(N)\n",
    "\n",
    "**Expected Auxilliary Space:** O(N)\n",
    "\n",
    "### Constraints:\n",
    "1 <= N <= 10^7\n",
    "1 <= A[], B[] <= 10^18"
   ]
  },
  {
   "cell_type": "code",
   "execution_count": 1,
   "metadata": {},
   "outputs": [
    {
     "name": "stdout",
     "output_type": "stream",
     "text": [
      "2\n",
      "5\n",
      "1 2 5 4 0\n",
      "2 4 5 0 1\n",
      "1\n",
      "3\n",
      "1 2 5\n",
      "2 4 15\n",
      "0\n"
     ]
    }
   ],
   "source": [
    "# User function Template for python3\n",
    "class Solution:\n",
    "    # Function to check if two arrays are equal or not.\n",
    "    def check(self,A,B,N):\n",
    "        #return: True or False\n",
    "        #code here\n",
    "        val_count = {}\n",
    "        \n",
    "        for i in range(N):\n",
    "            \n",
    "            # Use A to increment count\n",
    "            if A[i] in val_count:\n",
    "                val_count[A[i]] += 1\n",
    "            else:\n",
    "                val_count[A[i]] = 1\n",
    "\n",
    "            # Use B to decrement count\n",
    "            if B[i] in val_count:\n",
    "                val_count[B[i]] -= 1\n",
    "            else:\n",
    "                val_count[B[i]] = -1\n",
    "                \n",
    "        # Check for equality\n",
    "        for k, v in val_count.items():\n",
    "            if v:\n",
    "                return False\n",
    "\n",
    "        return True\n",
    "\n",
    "# { \n",
    "# Driver Code Starts\n",
    "# Initial Template for Python 3\n",
    "if __name__=='__main__':\n",
    "    t=int(input())\n",
    "    for tc in range(t):\n",
    "        N=int(input())\n",
    "        A = [int(x) for x in input().replace('  ',' ').strip().split(' ')]\n",
    "        B = [int(x) for x in input().replace('  ',' ').strip().split(' ')]\n",
    "        ob=Solution()\n",
    "        if ob.check(A,B,N):\n",
    "            print(1)\n",
    "        else:\n",
    "            print(0)\n",
    "# } Driver Code Ends"
   ]
  }
 ],
 "metadata": {
  "kernelspec": {
   "display_name": "Python 3",
   "language": "python",
   "name": "python3"
  },
  "language_info": {
   "codemirror_mode": {
    "name": "ipython",
    "version": 3
   },
   "file_extension": ".py",
   "mimetype": "text/x-python",
   "name": "python",
   "nbconvert_exporter": "python",
   "pygments_lexer": "ipython3",
   "version": "3.8.3"
  }
 },
 "nbformat": 4,
 "nbformat_minor": 4
}
