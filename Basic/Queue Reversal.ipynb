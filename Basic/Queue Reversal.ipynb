{
 "cells": [
  {
   "cell_type": "markdown",
   "metadata": {},
   "source": [
    "# QUEUE REVERSAL\n",
    "\n",
    "Given a Queue Q containing N elements. The task is to reverse the Queue. Your task is to complete the function rev(), that reverses the N elements of the queue.\n",
    "\n",
    "### Example 1:\n",
    "\n",
    "#### Input:\n",
    "6\n",
    "4 3 1 10 2 6\n",
    "\n",
    "#### Output: \n",
    "6 2 10 1 3 4\n",
    "\n",
    "#### Explanation: \n",
    "After reversing the given\n",
    "elements of the queue , the resultant\n",
    "queue will be 6 2 10 1 3 4.\n",
    "### Example 2:\n",
    "\n",
    "#### Input:\n",
    "4\n",
    "4 3 2 1 \n",
    "\n",
    "#### Output: \n",
    "1 2 3 4\n",
    "\n",
    "#### Explanation: \n",
    "After reversing the given\n",
    "elements of the queue , the resultant\n",
    "queue will be 1 2 3 4.\n",
    "### Your Task:\n",
    " You only need to complete the function rev that takes a queue as parameter and returns the reversed queue. The printing is done automatically by the driver code.\n",
    "\n",
    "**Expected Time Complexity:** O(n)\n",
    "\n",
    "**Expected Auxilliary Space:** O(n)\n",
    "\n",
    "### Constraints:\n",
    "1 ≤ N ≤ 10^5\n",
    "\n",
    "1 ≤ elements of Queue ≤ 10^5"
   ]
  },
  {
   "cell_type": "code",
   "execution_count": 1,
   "metadata": {},
   "outputs": [
    {
     "name": "stdout",
     "output_type": "stream",
     "text": [
      "6 2 10 1 3 4 \n"
     ]
    }
   ],
   "source": [
    "# User function Template for python3\n",
    "#Function to reverse the queue.\n",
    "def rev(q):\n",
    "    #add code here\n",
    "    stack = []\n",
    "    \n",
    "    while q.qsize():\n",
    "        stack.append(q.get())\n",
    "    \n",
    "    while stack:\n",
    "        q.put(stack.pop(-1))\n",
    "\n",
    "    return q\n",
    "\n",
    "# { \n",
    "# Driver Code Starts\n",
    "# Initial Template for Python 3\n",
    "from queue import Queue\n",
    "if __name__=='__main__':\n",
    "    t=int(input())\n",
    "    for i in range(t):\n",
    "        n=int(input())\n",
    "        a=list(map(int,input().split()))\n",
    "        q=Queue(maxsize=n+1)\n",
    "        for j in a:\n",
    "            q.put(j)\n",
    "        q=rev(q)\n",
    "        for i in range(0,n):\n",
    "            print(q.get(),end=\" \")\n",
    "        print()\n",
    "# } Driver Code Ends"
   ]
  }
 ],
 "metadata": {
  "kernelspec": {
   "display_name": "Python 3.10.6 64-bit",
   "language": "python",
   "name": "python3"
  },
  "language_info": {
   "codemirror_mode": {
    "name": "ipython",
    "version": 3
   },
   "file_extension": ".py",
   "mimetype": "text/x-python",
   "name": "python",
   "nbconvert_exporter": "python",
   "pygments_lexer": "ipython3",
   "version": "3.10.6"
  },
  "orig_nbformat": 4,
  "vscode": {
   "interpreter": {
    "hash": "26de051ba29f2982a8de78e945f0abaf191376122a1563185a90213a26c5da77"
   }
  }
 },
 "nbformat": 4,
 "nbformat_minor": 2
}
