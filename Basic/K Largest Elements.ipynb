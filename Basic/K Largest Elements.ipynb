{
 "cells": [
  {
   "cell_type": "markdown",
   "metadata": {},
   "source": [
    "# K LARGEST ELEMENTS\n",
    "\n",
    "Given an array of N positive integers, print k largest elements from the array. \n",
    "\n",
    "### Example 1:\n",
    "\n",
    "#### Input:\n",
    "N = 5, k = 2\n",
    "\n",
    "arr[] = {12,5,787,1,23}\n",
    "#### Output: \n",
    "787 23\n",
    "#### Explanation: \n",
    "First largest element in\n",
    "the array is 787 and the second largest\n",
    "is 23.\n",
    "### Example 2:\n",
    "\n",
    "### Input:\n",
    "N = 7, k = 3\n",
    "\n",
    "arr[] = {1,23,12,9,30,2,50}\n",
    "#### Output: \n",
    "50 30 23\n",
    "#### Explanation: \n",
    "Three Largest element in\n",
    "the array are 50, 30 and 23.\n",
    "Your Task:\n",
    "Complete the function kLargest() that takes the array, N and K as input parameters and returns a list of k largest element in descending order. \n",
    "\n",
    "**Expected Time Complexity:** O(N log K)\n",
    "\n",
    "**Expected Auxiliary Space:** O(K)\n",
    "\n",
    "### Constraints:\n",
    "1 ≤ N ≤ 10^4\n",
    "K ≤ N\n",
    "1 ≤ array[i] ≤ 10^5"
   ]
  },
  {
   "cell_type": "code",
   "execution_count": null,
   "metadata": {},
   "outputs": [],
   "source": [
    "# User function Template for python3\n",
    "class Solution:\n",
    "    \n",
    "    #Function to return k largest elements from an array.\n",
    "    def kLargest(self,li,n,k):\n",
    "        # code here\n",
    "        li.sort()\n",
    "        li.reverse()\n",
    "        return li[:k]\n",
    "\n",
    "# { \n",
    "# Driver Code Starts\n",
    "# Initial Template for Python 3\n",
    "t=int(input())\n",
    "for _ in range(t):\n",
    "    li = [int(x) for x in input().strip().split()]\n",
    "    n=li[0]\n",
    "    k=li[1]\n",
    "    li = [int(x) for x in input().strip().split()]\n",
    "    ob=Solution()\n",
    "    k_largest_list = ob.kLargest(li,n,k)\n",
    "    for element in k_largest_list:\n",
    "        print(element, end = ' ')\n",
    "    print('')\n",
    "# } Driver Code Ends"
   ]
  }
 ],
 "metadata": {
  "kernelspec": {
   "display_name": "Python 3.10.6 64-bit",
   "language": "python",
   "name": "python3"
  },
  "language_info": {
   "name": "python",
   "version": "3.10.6"
  },
  "orig_nbformat": 4,
  "vscode": {
   "interpreter": {
    "hash": "26de051ba29f2982a8de78e945f0abaf191376122a1563185a90213a26c5da77"
   }
  }
 },
 "nbformat": 4,
 "nbformat_minor": 2
}
