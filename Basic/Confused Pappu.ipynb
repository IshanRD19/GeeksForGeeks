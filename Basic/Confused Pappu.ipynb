{
 "cells": [
  {
   "cell_type": "markdown",
   "metadata": {},
   "source": [
    "# CONFUSED PAPPU\n",
    "\n",
    "Pappu is confused between 6 & 9. He works in the billing department of abc company and his work is to return the remaining amount to the customers. If the actual remaining amount is given we need to find the maximum possible extra amount given by the pappu to the customers.\n",
    "\n",
    "### Example 1:\n",
    "\n",
    "### Input:\n",
    "amount = 56\n",
    "### Output:\n",
    "3\n",
    "### Explanation:\n",
    "maximum possible extra amount = 59 - 56 = 3.\n",
    "### Example 2:\n",
    "\n",
    "### Input:\n",
    "amount = 66\n",
    "### Output:\n",
    "33\n",
    "### Explanation:\n",
    "maximum possible extra amount = 99 - 66 = 33.\n",
    "### User Task:\n",
    "Your task is to complete the function findDiff() which takes single argument(amount) and returns the answer. You need not take any input or print anything.\n",
    "\n",
    "**Expected Time Complexity:** O(log10amount).\n",
    "\n",
    "**Expected Auxiliary Space:** O(log10amount).\n",
    "\n",
    "### Constraints\n",
    "1 ≤ N≤ 10000001"
   ]
  },
  {
   "cell_type": "code",
   "execution_count": 1,
   "metadata": {},
   "outputs": [
    {
     "name": "stdout",
     "output_type": "stream",
     "text": [
      "2\n",
      "56\n",
      "3\n",
      "66\n",
      "33\n"
     ]
    }
   ],
   "source": [
    "# User function Template for python3\n",
    "class Solution:\n",
    "    def findDiff(self, amount):\n",
    "        # code here\n",
    "        digits = [d for d in str(amount)]\n",
    "        for i in range(len(digits)):\n",
    "            if digits[i] == '6':\n",
    "                digits[i] = '9'\n",
    "        pappu_amount = int(''.join(digits))\n",
    "        return pappu_amount - amount\n",
    "\n",
    "#{ \n",
    "#  Driver Code Starts\n",
    "#Initial Template for Python 3\n",
    "\n",
    "if __name__ == '__main__':\n",
    "\n",
    "    t = int(input())\n",
    "\n",
    "    for _ in range(t):\n",
    "\n",
    "        amount = int(input())\n",
    "\n",
    "        solObj = Solution()\n",
    "\n",
    "        print(solObj.findDiff(amount))\n",
    "# } Driver Code Ends"
   ]
  }
 ],
 "metadata": {
  "kernelspec": {
   "display_name": "Python 3",
   "language": "python",
   "name": "python3"
  },
  "language_info": {
   "codemirror_mode": {
    "name": "ipython",
    "version": 3
   },
   "file_extension": ".py",
   "mimetype": "text/x-python",
   "name": "python",
   "nbconvert_exporter": "python",
   "pygments_lexer": "ipython3",
   "version": "3.8.3"
  }
 },
 "nbformat": 4,
 "nbformat_minor": 4
}
