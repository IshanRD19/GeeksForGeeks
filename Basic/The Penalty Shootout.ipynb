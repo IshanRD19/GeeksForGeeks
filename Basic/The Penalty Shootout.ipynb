{
 "cells": [
  {
   "cell_type": "markdown",
   "metadata": {},
   "source": [
    "# THE PENALTY SHOOTOUT\n",
    "\n",
    "Given a string S contains 0's, 1's, and 2's, the task is to find the number of goals on the penalty.\n",
    "\n",
    "'1' stands for \"goal\".\n",
    "\n",
    "'0' stands for \"no goal\".\n",
    "\n",
    "'2' stands for a foul which gives a penalty.\n",
    "### Example 1:\n",
    "\n",
    "#### Input:\n",
    "S = \"1012012112110\"\n",
    "#### Output:\n",
    "2\n",
    "#### Explanation:\n",
    "There are 3 penalties, of which he scores only 2. 1012012112110\n",
    "\n",
    "### Example 2:\n",
    "\n",
    "#### Input:\n",
    "S = \"111122\"\n",
    "#### Output:\n",
    "0\n",
    "#### Explanation:\n",
    "No goal on penalty\n",
    "### Your Task:\n",
    "You don't need to read input or print anything. Your task is to complete the function penaltyScore() which takes a string S as input and returns the goals count on the penalty.\n",
    "\n",
    "**Expected Time Complexity:** O(|S|).\n",
    "\n",
    "**Expected Auxiliary Space:** O(1).\n",
    "\n",
    "### Constraints:\n",
    "1 <= |N| <= 10^5"
   ]
  },
  {
   "cell_type": "code",
   "execution_count": 1,
   "metadata": {},
   "outputs": [
    {
     "name": "stdout",
     "output_type": "stream",
     "text": [
      "2\n",
      "1012012112110\n",
      "2\n",
      "111122\n",
      "0\n"
     ]
    }
   ],
   "source": [
    "# User function Template for python3\n",
    "class Solution:\n",
    "    def penaltyScore(self, S):\n",
    "        # code here\n",
    "        length = len(S)\n",
    "        result = 0\n",
    "\n",
    "        for i in range(length):\n",
    "            if S[i] != '2':\n",
    "                continue\n",
    "\n",
    "            if i+1 < length and S[i+1] == '1':\n",
    "                result += 1\n",
    "        \n",
    "        return result\n",
    "\n",
    "#{ \n",
    "#  Driver Code Starts\n",
    "#Initial Template for Python 3\n",
    "\n",
    "if __name__ == '__main__':\n",
    "    T=int(input())\n",
    "    for i in range(T):\n",
    "        S = input()\n",
    "        ob = Solution()\n",
    "        answer = ob.penaltyScore(S)\n",
    "        \n",
    "        print(answer)\n",
    "\n",
    "\n",
    "# } Driver Code Ends"
   ]
  }
 ],
 "metadata": {
  "kernelspec": {
   "display_name": "Python 3",
   "language": "python",
   "name": "python3"
  },
  "language_info": {
   "codemirror_mode": {
    "name": "ipython",
    "version": 3
   },
   "file_extension": ".py",
   "mimetype": "text/x-python",
   "name": "python",
   "nbconvert_exporter": "python",
   "pygments_lexer": "ipython3",
   "version": "3.8.3"
  }
 },
 "nbformat": 4,
 "nbformat_minor": 4
}
