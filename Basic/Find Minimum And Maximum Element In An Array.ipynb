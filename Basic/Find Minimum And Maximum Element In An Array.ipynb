{
 "cells": [
  {
   "cell_type": "markdown",
   "metadata": {},
   "source": [
    "# FIND MINIMUM AND MAXIMUM ELEMENT IN AN ARRAY\n",
    "\n",
    "Given an array A of size N of integers. Your task is to find the minimum and maximum elements in the array.\n",
    "\n",
    "### Example 1:\n",
    "\n",
    "#### Input:\n",
    "N = 6\n",
    "\n",
    "A[] = {3, 2, 1, 56, 10000, 167}\n",
    "#### Output:\n",
    "min = 1, max =  10000\n",
    " \n",
    "### Example 2:\n",
    "\n",
    "#### Input:\n",
    "N = 5\n",
    "\n",
    "A[]  = {1, 345, 234, 21, 56789}\n",
    "#### Output:\n",
    "min = 1, max = 56789\n",
    "\n",
    "### Your Task:  \n",
    "You don't need to read input or print anything. Your task is to complete the function getMinMax() which takes the array A[] and its size N as inputs and returns the minimum and maximum element of the array.\n",
    "\n",
    "**Expected Time Complexity:** O(N)\n",
    "\n",
    "**Expected Auxiliary Space:** O(1)\n",
    "\n",
    "### Constraints:\n",
    "1 <= N <= 10^5\n",
    "\n",
    "1 <= Ai <=10^12"
   ]
  },
  {
   "cell_type": "code",
   "execution_count": 1,
   "metadata": {},
   "outputs": [
    {
     "name": "stdout",
     "output_type": "stream",
     "text": [
      "2\n",
      "6\n",
      "3 2 1 56 10000 167\n",
      "1 10000\n",
      "5\n",
      "1 345 234 21 56789\n",
      "1 56789\n"
     ]
    }
   ],
   "source": [
    "## User function Template for python3\n",
    "def getMinMax( a, n):\n",
    "    return [min(a), max(a)]\n",
    "\n",
    "#{ \n",
    "#  Driver Code Starts\n",
    "#Initial Template for Python 3\n",
    "def main():\n",
    "    T = int(input())\n",
    "    while(T > 0):\n",
    "        n = int(input())\n",
    "        a = [int(x) for x in input().strip().split()]\n",
    "        product = getMinMax(a, n)\n",
    "        print(product[0], end=\" \")\n",
    "        print(product[1])\n",
    "        T -= 1\n",
    "if __name__ == \"__main__\":\n",
    "    main()\n",
    "# } Driver Code Ends"
   ]
  }
 ],
 "metadata": {
  "kernelspec": {
   "display_name": "Python 3",
   "language": "python",
   "name": "python3"
  },
  "language_info": {
   "codemirror_mode": {
    "name": "ipython",
    "version": 3
   },
   "file_extension": ".py",
   "mimetype": "text/x-python",
   "name": "python",
   "nbconvert_exporter": "python",
   "pygments_lexer": "ipython3",
   "version": "3.8.3"
  }
 },
 "nbformat": 4,
 "nbformat_minor": 4
}
