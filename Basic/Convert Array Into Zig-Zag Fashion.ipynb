{
 "cells": [
  {
   "cell_type": "markdown",
   "metadata": {},
   "source": [
    "# CONVERT ARRAY INTO ZIG-ZAG FASHION\n",
    "\n",
    "Given an array arr of distinct elements of size N, the task is to rearrange the elements of the array in a zig-zag fashion so that the converted array should be in the below form: \n",
    "\n",
    "arr[0] < arr[1]  > arr[2] < arr[3] > arr[4] < . . . . arr[n-2] < arr[n-1] > arr[n]. \n",
    "\n",
    "### Example 1:\n",
    "#### Input:\n",
    "N = 7\n",
    "\n",
    "Arr[] = {4, 3, 7, 8, 6, 2, 1}\n",
    "#### Output: \n",
    "3 7 4 8 2 6 1\n",
    "#### Explanation: \n",
    "3 < 7 > 4 < 8 > 2 < 6 > 1\n",
    "### Example 2:\n",
    "\n",
    "#### Input:\n",
    "N = 4\n",
    "\n",
    "Arr[] = {1, 4, 3, 2}\n",
    "#### Output: \n",
    "1 4 2 3\n",
    "#### Explanation: \n",
    "1 < 4 > 2 < 3\n",
    "### Your Task:\n",
    "You don't need to read input or print anything. Your task is to complete the function zigZag() which takes the array of integers arr and n as parameters and returns void. You need to modify the array itself.\n",
    "\n",
    "**NOTE:** In the mentioned complexity, only a unique solution will exist.\n",
    "\n",
    "**Expected Time Complexity:** O(N)\n",
    "\n",
    "**Expected Auxiliary Space:** O(1)\n",
    "\n",
    "### Constraints:\n",
    "1 <= N <= 10^5\n",
    "\n",
    "0 <= Arri <= 10^6"
   ]
  },
  {
   "cell_type": "code",
   "execution_count": 1,
   "metadata": {},
   "outputs": [
    {
     "name": "stdout",
     "output_type": "stream",
     "text": [
      "3 7 4 8 2 6 1 \n"
     ]
    }
   ],
   "source": [
    "# User function Template for python3\n",
    "class Solution:\n",
    "    def zigZag(self,arr, n):\n",
    "        # code here\n",
    "\n",
    "        # Traverse the array\n",
    "        for i in range(1, n):\n",
    "\n",
    "            # Place local maxima at odd index\n",
    "            if i%2 and arr[i] < arr[i-1]:\n",
    "                arr[i], arr[i-1] = arr[i-1], arr[i]\n",
    "\n",
    "            # Place local minima at even index\n",
    "            elif not i%2 and arr[i] > arr[i-1]:\n",
    "                arr[i], arr[i-1] = arr[i-1], arr[i]\n",
    "\n",
    "        return arr\n",
    "\n",
    "# { \n",
    "# Driver Code Starts\n",
    "# Initial Template for Python 3\n",
    "if __name__ == '__main__':\n",
    "    tc = int(input())\n",
    "    while tc > 0:\n",
    "        n = int(input())\n",
    "        arr = list(map(int, input().strip().split()))\n",
    "        ob = Solution()\n",
    "        ob.zigZag(arr, n)\n",
    "        for x in arr:\n",
    "            print(x, end=\" \")\n",
    "        print()\n",
    "        tc -= 1\n",
    "# } Driver Code Ends"
   ]
  }
 ],
 "metadata": {
  "kernelspec": {
   "display_name": "Python 3.10.6 64-bit",
   "language": "python",
   "name": "python3"
  },
  "language_info": {
   "codemirror_mode": {
    "name": "ipython",
    "version": 3
   },
   "file_extension": ".py",
   "mimetype": "text/x-python",
   "name": "python",
   "nbconvert_exporter": "python",
   "pygments_lexer": "ipython3",
   "version": "3.10.6"
  },
  "orig_nbformat": 4,
  "vscode": {
   "interpreter": {
    "hash": "26de051ba29f2982a8de78e945f0abaf191376122a1563185a90213a26c5da77"
   }
  }
 },
 "nbformat": 4,
 "nbformat_minor": 2
}
