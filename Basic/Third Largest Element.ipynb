{
 "cells": [
  {
   "cell_type": "markdown",
   "metadata": {},
   "source": [
    "# THIRD LARGEST ELEMENT\n",
    "\n",
    "Given an array of distinct elements. Find the third largest element in it.\n",
    "\n",
    "Suppose you have A[] = {1, 2, 3, 4, 5, 6, 7}, its output will be 5 because it is the 3 largest element in the array A.\n",
    "\n",
    "### Example 1:\n",
    "\n",
    "#### Input:\n",
    "N = 5\n",
    "\n",
    "A[] = {2,4,1,3,5}\n",
    "#### Output: \n",
    "3\n",
    "### Example 2:\n",
    "\n",
    "#### Input:\n",
    "N = 2\n",
    "A[] = {10,2}\n",
    "#### Output: \n",
    "-1\n",
    "### Your Task:\n",
    "Complete the function thirdLargest() which takes the array a[] and the size of the array, n, as input parameters and returns the third largest element in the array. It return -1 if there are less than 3 elements in the given array.\n",
    "\n",
    "**Expected Time Complexity:** O(N)\n",
    "\n",
    "**Expected Auxiliary Space:** O(1)\n",
    "\n",
    "### Constraints:\n",
    "1 ≤ N ≤ 10^5\n",
    "1 ≤ A[i] ≤ 10^5"
   ]
  },
  {
   "cell_type": "code",
   "execution_count": 1,
   "metadata": {},
   "outputs": [],
   "source": [
    "class Solution:\n",
    "    def thirdLargest(self,a, n):\n",
    "        # code here\n",
    "        if n < 3:\n",
    "            return -1\n",
    "        \n",
    "        max1 = max2 = max3 = -1\n",
    "        \n",
    "        for i in range(n):\n",
    "            if a[i] > max1:\n",
    "                max3 = max2\n",
    "                max2 = max1\n",
    "                max1 = a[i]\n",
    "            elif a[i] > max2:\n",
    "                max3 = max2\n",
    "                max2 = a[i]\n",
    "            elif a[i] > max3:\n",
    "                max3 = a[i]\n",
    "        \n",
    "        return max3\n",
    "\n",
    "# { \n",
    "# Driver Code Starts\n",
    "# Your code goes here\n",
    "if __name__=='__main__':\n",
    "    t = int(input())\n",
    "    for i in range(t):\n",
    "        n = int(input())\n",
    "        arr = list(map(int, input().strip().split()))\n",
    "        print(Solution().thirdLargest(arr, n))\n",
    "# } Driver Code Ends"
   ]
  }
 ],
 "metadata": {
  "kernelspec": {
   "display_name": "Python 3.10.6 64-bit",
   "language": "python",
   "name": "python3"
  },
  "language_info": {
   "codemirror_mode": {
    "name": "ipython",
    "version": 3
   },
   "file_extension": ".py",
   "mimetype": "text/x-python",
   "name": "python",
   "nbconvert_exporter": "python",
   "pygments_lexer": "ipython3",
   "version": "3.10.6"
  },
  "orig_nbformat": 4,
  "vscode": {
   "interpreter": {
    "hash": "26de051ba29f2982a8de78e945f0abaf191376122a1563185a90213a26c5da77"
   }
  }
 },
 "nbformat": 4,
 "nbformat_minor": 2
}
