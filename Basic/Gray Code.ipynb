{
 "cells": [
  {
   "cell_type": "markdown",
   "metadata": {},
   "source": [
    "# GRAY CODE\n",
    "\n",
    "You are given a decimal number n. You need to find the gray code of the number n and convert it into decimal.\n",
    "\n",
    "Gray code is a binary numeral system where two successive values differ in only one bit.\n",
    "For example, the sequence of Gray codes for 3-bit numbers is: 000, 001, 011, 010, 110, 111, 101, 100, so G(4)=6.\n",
    "\n",
    "### Example 1:\n",
    "\n",
    "#### Input:\n",
    "n  = 7\n",
    "#### Output:\n",
    "4\n",
    "#### Explanation:\n",
    "7 is represented as 111 in binary form.\n",
    "The gray code of 111 is 100, in the binary form whose decimal equivalent is 4.\n",
    "### Example 2:\n",
    "\n",
    "#### Input:\n",
    "n  = 10\n",
    "#### Output:\n",
    "15\n",
    "#### Explanation:\n",
    "10 is represented as 1010 in binary form.\n",
    "The gray code of 1010 is 1111, in the binary form whose decimal equivalent is 15.\n",
    " \n",
    "\n",
    "### Your Task:\n",
    "You don't need to read input or print anything. Your task is to complete the function getGray() which takes an Integer n as input and returns the answer.\n",
    "\n",
    "**Expected Time Complexity:** O(1)\n",
    "\n",
    "**Expected Auxiliary Space:** O(1)\n",
    "\n",
    "### Constraints:\n",
    "0 <= n <= 10^8"
   ]
  },
  {
   "cell_type": "code",
   "execution_count": 1,
   "metadata": {},
   "outputs": [
    {
     "name": "stdout",
     "output_type": "stream",
     "text": [
      "2\n",
      "7\n",
      "4\n",
      "10\n",
      "15\n"
     ]
    }
   ],
   "source": [
    "# User function Template for python3\n",
    "class Solution:\n",
    "    def getGray(self, n):\n",
    "        # code here \n",
    "        binary = bin(n)[2:]\n",
    "        result = binary[0]\n",
    "        decimal_form = 0\n",
    "        power = 0\n",
    "\n",
    "        # Fetch the gray code\n",
    "        for i in range(1, len(binary)):\n",
    "            result += str(int(binary[i-1]) ^ int(binary[i]))\n",
    "        \n",
    "        # Reverse the result\n",
    "        result = result[::-1]\n",
    "        \n",
    "        # Calculate the decimal form\n",
    "        for i in range(len(result)):\n",
    "            if int(result[i]):\n",
    "                decimal_form += 2 ** power\n",
    "            power += 1\n",
    "        \n",
    "        return decimal_form\n",
    "\n",
    "#{ \n",
    "#  Driver Code Starts\n",
    "#Initial Template for Python 3\n",
    "if __name__ == '__main__': \n",
    "    t = int (input ())\n",
    "    for _ in range (t):\n",
    "        n=int(input())\n",
    "        ob = Solution()\n",
    "        print(ob.getGray(n))\n",
    "# } Driver Code Ends"
   ]
  }
 ],
 "metadata": {
  "kernelspec": {
   "display_name": "Python 3",
   "language": "python",
   "name": "python3"
  },
  "language_info": {
   "codemirror_mode": {
    "name": "ipython",
    "version": 3
   },
   "file_extension": ".py",
   "mimetype": "text/x-python",
   "name": "python",
   "nbconvert_exporter": "python",
   "pygments_lexer": "ipython3",
   "version": "3.8.3"
  }
 },
 "nbformat": 4,
 "nbformat_minor": 4
}
